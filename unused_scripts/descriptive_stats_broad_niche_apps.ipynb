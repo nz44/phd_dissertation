{
 "cells": [
  {
   "cell_type": "markdown",
   "metadata": {
    "collapsed": true,
    "pycharm": {
     "name": "#%% md\n"
    }
   },
   "source": [
    "23 Dec 2020\n",
    "this document directly follows 'try different clustering algorithms.ipynb'\n",
    "# look at pricing of broad apps and niche apps"
   ]
  },
  {
   "cell_type": "code",
   "execution_count": 2,
   "outputs": [
    {
     "data": {
      "text/plain": "HBox(children=(HTML(value=''), FloatProgress(value=1.0, bar_style='info', layout=Layout(width='20px'), max=1.0…",
      "application/vnd.jupyter.widget-view+json": {
       "version_major": 2,
       "version_minor": 0,
       "model_id": "4639c0091278403e80658210a68e06ea"
      }
     },
     "metadata": {},
     "output_type": "display_data"
    },
    {
     "name": "stdout",
     "output_type": "stream",
     "text": [
      "\n",
      "['price_202011', 'free_True_202011', 'offersIAP_True_202011', 'IAP_low_202011', 'IAP_high_202011', 'inAppProductPrice_202011', 'adSupported_True_202011', 'containsAds_True_202011']\n"
     ]
    },
    {
     "data": {
      "text/plain": "                                price_202011  free_True_202011  \\\ncom.edjing.edjingdjturntable            0.00                 1   \ncom.asmodeedigital.millebornes          1.99                 0   \n\n                                offersIAP_True_202011  \\\ncom.edjing.edjingdjturntable                        1   \ncom.asmodeedigital.millebornes                      0   \n\n                                adSupported_True_202011  \\\ncom.edjing.edjingdjturntable                          1   \ncom.asmodeedigital.millebornes                        0   \n\n                                containsAds_True_202011  \\\ncom.edjing.edjingdjturntable                          1   \ncom.asmodeedigital.millebornes                        0   \n\n                                                                                                                                                                                                                                                                                                                                                                                                                                                                                                                        combined_panels_description  \\\ncom.edjing.edjingdjturntable    [introduce, edje, mix, brand, new, version, famous, dj, app, rework, ensure, great, performance, level.\\ndesigne, partnership, pro, djs, edje, mix, transform, device, real, dj, setup, stretch, limit, dj, mobile, offer, unlimited, creative, freedom.\\naccess, million, track, come, deezer, soundcloud, local, folder, remix, instant, 20, dj, fx, feature, mention, new, sampler, hardware, integration, push, boundary, mobile, djing.\\n, edje, mix, offer, capability, pro, dj, software, convenience, de...   \ncom.asmodeedigital.millebornes  [fast, warn, permit, rediscover, classic, card, game, \\nhop, car, hit, road, goal, classic, card, game, simple, reach, 1000, mile, play, friend, device, test, driving, skill, ai, good, wheel?\\ndraw, card, use, jump, mile, ahead, opponent, careful, friend, let, drive, peace, flat, tire, accident, simply, run, gas, complication, encounter, journey, play, good, safety, drive, ace, puncture, proof, emergency, vehicle, end, reach, 1000, miles.\\nalso, check, course, mode, discover, new, way, young...   \n\n                                k-means  \ncom.edjing.edjingdjturntable          3  \ncom.asmodeedigital.millebornes        5  ",
      "text/html": "<div>\n<style scoped>\n    .dataframe tbody tr th:only-of-type {\n        vertical-align: middle;\n    }\n\n    .dataframe tbody tr th {\n        vertical-align: top;\n    }\n\n    .dataframe thead th {\n        text-align: right;\n    }\n</style>\n<table border=\"1\" class=\"dataframe\">\n  <thead>\n    <tr style=\"text-align: right;\">\n      <th></th>\n      <th>price_202011</th>\n      <th>free_True_202011</th>\n      <th>offersIAP_True_202011</th>\n      <th>adSupported_True_202011</th>\n      <th>containsAds_True_202011</th>\n      <th>combined_panels_description</th>\n      <th>k-means</th>\n    </tr>\n  </thead>\n  <tbody>\n    <tr>\n      <th>com.edjing.edjingdjturntable</th>\n      <td>0.00</td>\n      <td>1</td>\n      <td>1</td>\n      <td>1</td>\n      <td>1</td>\n      <td>[introduce, edje, mix, brand, new, version, famous, dj, app, rework, ensure, great, performance, level.\\ndesigne, partnership, pro, djs, edje, mix, transform, device, real, dj, setup, stretch, limit, dj, mobile, offer, unlimited, creative, freedom.\\naccess, million, track, come, deezer, soundcloud, local, folder, remix, instant, 20, dj, fx, feature, mention, new, sampler, hardware, integration, push, boundary, mobile, djing.\\n, edje, mix, offer, capability, pro, dj, software, convenience, de...</td>\n      <td>3</td>\n    </tr>\n    <tr>\n      <th>com.asmodeedigital.millebornes</th>\n      <td>1.99</td>\n      <td>0</td>\n      <td>0</td>\n      <td>0</td>\n      <td>0</td>\n      <td>[fast, warn, permit, rediscover, classic, card, game, \\nhop, car, hit, road, goal, classic, card, game, simple, reach, 1000, mile, play, friend, device, test, driving, skill, ai, good, wheel?\\ndraw, card, use, jump, mile, ahead, opponent, careful, friend, let, drive, peace, flat, tire, accident, simply, run, gas, complication, encounter, journey, play, good, safety, drive, ace, puncture, proof, emergency, vehicle, end, reach, 1000, miles.\\nalso, check, course, mode, discover, new, way, young...</td>\n      <td>5</td>\n    </tr>\n  </tbody>\n</table>\n</div>"
     },
     "execution_count": 2,
     "metadata": {},
     "output_type": "execute_result"
    }
   ],
   "source": [
    "%matplotlib inline\n",
    "%run -i '0_paths.py'\n",
    "%run -i '6_descriptive_stats_prices.py'\n",
    "\n",
    "o = open_or_save_files(initial_panel='201908', cluster_type='k-means')\n",
    "df1 = o.open_merged_df()\n",
    "df2 = o.open_cluster_df()\n",
    "col_names = Column_Names(panels=['202011'])\n",
    "price_cols = col_names.get_price_cols_names()\n",
    "print(price_cols)\n",
    "df = merge_dataframe(df_all=df1, df_all_cols=price_cols,\n",
    "                     df_t=df2, df_t_cols=['combined_panels_description', 'k-means'])\n",
    "df.sample(2)"
   ],
   "metadata": {
    "collapsed": false,
    "pycharm": {
     "name": "#%%\n"
    }
   }
  },
  {
   "cell_type": "code",
   "execution_count": 3,
   "outputs": [
    {
     "data": {
      "text/plain": "HBox(children=(HTML(value=''), FloatProgress(value=1.0, bar_style='info', layout=Layout(width='20px'), max=1.0…",
      "application/vnd.jupyter.widget-view+json": {
       "version_major": 2,
       "version_minor": 0,
       "model_id": "ba59be6a7e074ff7b9946da39b6ed5c9"
      }
     },
     "metadata": {},
     "output_type": "display_data"
    },
    {
     "name": "stdout",
     "output_type": "stream",
     "text": [
      "\n"
     ]
    }
   ],
   "source": [
    "%run -i '6_descriptive_stats_prices.py'\n",
    "A = Dataframe_Analysis(df=df, group1='free_True_202011', group2='k-means')\n",
    "B = A.cross_tab()"
   ],
   "metadata": {
    "collapsed": false,
    "pycharm": {
     "name": "#%%\n"
    }
   }
  },
  {
   "cell_type": "markdown",
   "source": [
    "24 Dec 2020\n",
    "\n",
    "looks like niche apps (arbitrarily define as total number of apps inside a cluster which is smaller than 200)\n",
    "usually have a higher percentage of paid apps.\n",
    "Next I will go into theory in none-uniform distribution.\n",
    "\n"
   ],
   "metadata": {
    "collapsed": false,
    "pycharm": {
     "name": "#%% md\n"
    }
   }
  }
 ],
 "metadata": {
  "kernelspec": {
   "display_name": "Python 3",
   "language": "python",
   "name": "python3"
  },
  "language_info": {
   "codemirror_mode": {
    "name": "ipython",
    "version": 2
   },
   "file_extension": ".py",
   "mimetype": "text/x-python",
   "name": "python",
   "nbconvert_exporter": "python",
   "pygments_lexer": "ipython2",
   "version": "2.7.6"
  }
 },
 "nbformat": 4,
 "nbformat_minor": 0
}