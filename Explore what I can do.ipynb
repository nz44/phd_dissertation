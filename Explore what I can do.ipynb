{
 "cells": [
  {
   "cell_type": "markdown",
   "source": [
    "September 6, 2020\n",
    "1. app data need to be divided into major sectors\n",
    "    This is because after reading literature, you find different sectors follow different patterns and no previous paper write\n",
    "    an entire paper on all-encompassing internet economy.\n",
    "\n",
    "You could consider bringing in other data."
   ],
   "metadata": {
    "collapsed": false
   }
  },
  {
   "cell_type": "code",
   "execution_count": 1,
   "outputs": [],
   "source": [
    "# import packages and define path\n",
    "from pathlib import Path\n",
    "import pickle\n",
    "%matplotlib inline\n",
    "import numpy as np\n",
    "from google_play_scraper import app\n",
    "from tqdm import tqdm\n",
    "input_path = Path(\"/home/naixin/Insync/naixin88@sina.cn/OneDrive/_____GWU_ECON_PHD_____/___Dissertation___/____WEB_SCRAPER____\")\n",
    "output_path = Path(\"/home/naixin/Insync/naixin88@sina.cn/OneDrive/_____GWU_ECON_PHD_____/___Dissertation___/____WEB_SCRAPER____/___cleaned_datasets___\")\n",
    "# open an old dataset for tracking\n",
    "q = input_path / \"TRACKING_THE_SAME_ID_MONTHLY_SCRAPE\" / \"202009\" / \"TRACKING_202002.pickle\"\n",
    "with open(q, 'rb') as filename:\n",
    "    C = pickle.load(filename)\n",
    "# run python scripts containing all the functions\n",
    "%run -i '1_functions_scraping_data.py'\n",
    "%run -i '2_functions_data_visualization.py'"
   ],
   "metadata": {
    "collapsed": false,
    "pycharm": {
     "name": "#%%\n"
    }
   }
  },
  {
   "cell_type": "code",
   "execution_count": 4,
   "outputs": [
    {
     "ename": "TypeError",
     "evalue": "string indices must be integers",
     "output_type": "error",
     "traceback": [
      "\u001B[0;31m---------------------------------------------------------------------------\u001B[0m",
      "\u001B[0;31mTypeError\u001B[0m                                 Traceback (most recent call last)",
      "\u001B[0;32m~/Insync/naixin88@sina.cn/OneDrive/__CODING__/PycharmProjects/GOOGLE_PLAY/2_functions_transforming_raw_data.py\u001B[0m in \u001B[0;36m<module>\u001B[0;34m\u001B[0m\n\u001B[0;32m----> 1\u001B[0;31m \u001B[0mid_list\u001B[0m \u001B[0;34m=\u001B[0m \u001B[0mget_id_from_data\u001B[0m\u001B[0;34m(\u001B[0m\u001B[0mC\u001B[0m\u001B[0;34m)\u001B[0m\u001B[0;34m\u001B[0m\u001B[0;34m\u001B[0m\u001B[0m\n\u001B[0m\u001B[1;32m      2\u001B[0m \u001B[0mprint\u001B[0m\u001B[0;34m(\u001B[0m\u001B[0mid_list\u001B[0m\u001B[0;34m)\u001B[0m\u001B[0;34m\u001B[0m\u001B[0;34m\u001B[0m\u001B[0m\n\u001B[1;32m      3\u001B[0m \u001B[0;34m\u001B[0m\u001B[0m\n",
      "\u001B[0;32m~/Insync/naixin88@sina.cn/OneDrive/__CODING__/PycharmProjects/GOOGLE_PLAY/2_functions_transforming_raw_data.py\u001B[0m in \u001B[0;36mget_id_from_data\u001B[0;34m(C)\u001B[0m\n\u001B[1;32m      7\u001B[0m     \u001B[0mid_list\u001B[0m \u001B[0;34m=\u001B[0m \u001B[0;34m[\u001B[0m\u001B[0;34m]\u001B[0m\u001B[0;34m\u001B[0m\u001B[0;34m\u001B[0m\u001B[0m\n\u001B[1;32m      8\u001B[0m     \u001B[0;32mfor\u001B[0m \u001B[0mi\u001B[0m \u001B[0;32min\u001B[0m \u001B[0mC\u001B[0m\u001B[0;34m:\u001B[0m\u001B[0;34m\u001B[0m\u001B[0;34m\u001B[0m\u001B[0m\n\u001B[0;32m----> 9\u001B[0;31m         \u001B[0mid_list\u001B[0m\u001B[0;34m.\u001B[0m\u001B[0mappend\u001B[0m\u001B[0;34m(\u001B[0m\u001B[0mi\u001B[0m\u001B[0;34m[\u001B[0m\u001B[0;34m'appId'\u001B[0m\u001B[0;34m]\u001B[0m\u001B[0;34m)\u001B[0m\u001B[0;34m\u001B[0m\u001B[0;34m\u001B[0m\u001B[0m\n\u001B[0m\u001B[1;32m     10\u001B[0m     \u001B[0;32mreturn\u001B[0m\u001B[0;34m(\u001B[0m\u001B[0mid_list\u001B[0m\u001B[0;34m)\u001B[0m\u001B[0;34m\u001B[0m\u001B[0;34m\u001B[0m\u001B[0m\n\u001B[1;32m     11\u001B[0m \u001B[0;34m\u001B[0m\u001B[0m\n",
      "\u001B[0;31mTypeError\u001B[0m: string indices must be integers"
     ]
    }
   ],
   "source": [
    "# get the unique id list from the old data\n",
    "id_list = get_id_from_data_beofre_202009(C)\n",
    "print(id_list)"
   ],
   "metadata": {
    "collapsed": false,
    "pycharm": {
     "name": "#%%\n"
    }
   }
  },
  {
   "cell_type": "code",
   "execution_count": 17,
   "outputs": [
    {
     "name": "stderr",
     "output_type": "stream",
     "text": [
      "scraping...: 100%|██████████| 6860/6860 [3:05:01<00:00,  1.62s/it]      \n"
     ]
    }
   ],
   "source": [
    "# scraping app details according to id\n",
    "app_details = scraping_apps_according_to_id(id_list)\n",
    "q = input_path / \"TRACKING_THE_SAME_ID_MONTHLY_SCRAPE\" / \"202009\" / \"TRACKING_202002.pickle\"\n",
    "pickle.dump(app_details, open(q,'wb'))"
   ],
   "metadata": {
    "collapsed": false,
    "pycharm": {
     "name": "#%%\n"
    }
   }
  },
  {
   "cell_type": "code",
   "execution_count": 2,
   "outputs": [
    {
     "name": "stdout",
     "output_type": "stream",
     "text": [
      "the dataset contains 6860 unique apps.\n",
      "com.google.toontastic\n",
      "title  :  Toontastic 3D\n",
      "description  :  3… 2… 1… ACTION! With Toontastic 3D you can draw, animate, and narrate your own cartoons. It’s as easy as play. Just move your characters around onscreen, tell your story, and Toontastic records your voice and animations and stores it on your device as a 3D video. Toontastic is a powerful and playful way to create interstellar adventures, breaking news reports, video game designs, family photo albums, or anything else you might imagine! \r\n",
      "\r\n",
      "\r\n",
      "What people are saying:\r\n",
      "• Parents' Choice Gold Award: \"Toontastic 3D is a wonderful creative outlet for all budding storytellers, young scientists, or those who increasingly blur the lines between the two - perhaps this is where the next documentary makers and Pixar artists will get their start.\"\r\n",
      "• Five star rating from Common Sense Media - \"Kids are in the director's seat and have free rein to let their creative side shine with this flexible and easy-to-use storytelling platform.\"\r\n",
      "• A+ and Editor's Choice rating from Children's Technology Review - \"Powerful and free, this rich language experience lets you create your own self-narrated puppet shows.\"\r\n",
      "• Winner of the 2017 BolognaRagazzi Digital Award for 'Best Kids App of the Year'\r\n",
      "\r\n",
      "\r\n",
      "FEATURES \r\n",
      "• A giant toy box chock full of swashbuckling pirates, transforming robots, nefarious villains, and many more characters and settings to spark kids’ imaginations \r\n",
      "• Design your own characters with 3D drawing tools \r\n",
      "• Add yourself to your adventures with photos and custom colored characters \r\n",
      "• Mix your soundtrack with dozens of built-in songs \r\n",
      "• Choose from three Story Arcs for digital storytelling (Short Story, Classic, & Science Report) \r\n",
      "• Export videos to your Photos library to share with family and friends \r\n",
      "• An idea lab chock full of playful stories, characters and settings to inspire new adventures\r\n",
      "\r\n",
      "Fruit Ninja © 2017 Halfbrick. All Rights Reserved.\n",
      "descriptionHTML  :  3… 2… 1… ACTION! With Toontastic 3D you can draw, animate, and narrate your own cartoons. It’s as easy as play. Just move your characters around onscreen, tell your story, and Toontastic records your voice and animations and stores it on your device as a 3D video. Toontastic is a powerful and playful way to create interstellar adventures, breaking news reports, video game designs, family photo albums, or anything else you might imagine! <br><br><br>What people are saying:<br>• Parents&#39; Choice Gold Award: &quot;Toontastic 3D is a wonderful creative outlet for all budding storytellers, young scientists, or those who increasingly blur the lines between the two - perhaps this is where the next documentary makers and Pixar artists will get their start.&quot;<br>• Five star rating from Common Sense Media - &quot;Kids are in the director&#39;s seat and have free rein to let their creative side shine with this flexible and easy-to-use storytelling platform.&quot;<br>• A+ and Editor&#39;s Choice rating from Children&#39;s Technology Review - &quot;Powerful and free, this rich language experience lets you create your own self-narrated puppet shows.&quot;<br>• Winner of the 2017 BolognaRagazzi Digital Award for &#39;Best Kids App of the Year&#39;<br><br><br>FEATURES <br>• A giant toy box chock full of swashbuckling pirates, transforming robots, nefarious villains, and many more characters and settings to spark kids’ imaginations <br>• Design your own characters with 3D drawing tools <br>• Add yourself to your adventures with photos and custom colored characters <br>• Mix your soundtrack with dozens of built-in songs <br>• Choose from three Story Arcs for digital storytelling (Short Story, Classic, &amp; Science Report) <br>• Export videos to your Photos library to share with family and friends <br>• An idea lab chock full of playful stories, characters and settings to inspire new adventures<br><br>Fruit Ninja © 2017 Halfbrick. All Rights Reserved.\n",
      "summary  :  Lights! Camera! Play!\n",
      "summaryHTML  :  Lights! Camera! Play!\n",
      "installs  :  1,000,000+\n",
      "minInstalls  :  1000000\n",
      "score  :  4.0340753\n",
      "ratings  :  36757\n",
      "reviews  :  17974\n",
      "histogram  :  [5313, 1444, 2848, 4222, 22930]\n",
      "price  :  0\n",
      "free  :  True\n",
      "currency  :  USD\n",
      "sale  :  False\n",
      "saleTime  :  None\n",
      "originalPrice  :  None\n",
      "saleText  :  None\n",
      "offersIAP  :  False\n",
      "inAppProductPrice  :  None\n",
      "size  :  31M\n",
      "androidVersion  :  5.0\n",
      "androidVersionText  :  5.0 and up\n",
      "developer  :  Google LLC\n",
      "developerId  :  5700313618786177705\n",
      "developerEmail  :  apps-help@google.com\n",
      "developerWebsite  :  http://toontastic.com\n",
      "developerAddress  :  1600 Amphitheatre Parkway, Mountain View 94043\n",
      "privacyPolicy  :  http://www.google.com/policies/privacy\n",
      "developerInternalID  :  5700313618786177705\n",
      "genre  :  Educational\n",
      "genreId  :  GAME_EDUCATIONAL\n",
      "icon  :  https://lh3.googleusercontent.com/R-dJcIvmUhdrwD7tlR4rQ-k8fWYzfXINb2cleVYH3b0y70qcvHCl55UvuhlA_Jc4CGI\n",
      "headerImage  :  https://lh3.googleusercontent.com/X-s43gWObPqupCY6kl1fKeCriqpXa4U3hZxBA1J7w0oxi04BPuJE223c7y-R-dq507c\n",
      "screenshots  :  ['https://lh3.googleusercontent.com/F6rX-pmCpN4Byn8NoPchAkFECFJSpLBEy8LeslzBMl8SuBO6LO1Skd_-cZBRsUeV4Q', 'https://lh3.googleusercontent.com/3k83l53mtRnsPIDpV6ERKqqzf_Xz1FGMY_mhwVhngNaKcDqjdSr5RDofx12sGmrt9fw', 'https://lh3.googleusercontent.com/0LHx-bzh7DQI2K9mu0wpz8klGR4oZBFzMtWMW7CU_4VDVw6ibGaee9SIMpJctACd6j8', 'https://lh3.googleusercontent.com/_HE189nyzmOY197v6UBhLDETI3HOmYeLrSHCgHyCu13xtA2owmNfrD_C8X3y_LvYaQ', 'https://lh3.googleusercontent.com/PkI-HhRBSRiliLlTbiAPpIVWJL2Otc3TrnQ4LZG2dq4oMvtOxnq8tt9fmV6zZc8WJQ', 'https://lh3.googleusercontent.com/pwxnZIAZZPSScGfemiVeF3CTB58_nxC-48kKdPZVqIm1yqeYX92PJidvWCIUfOk7fgk', 'https://lh3.googleusercontent.com/Zlc9RRDHQ_3dD5yIBttYGRdYXOFPJiAth0hGXcsDpSLW9Chz2o6NKPZua2vcFeEQlg', 'https://lh3.googleusercontent.com/PM6FtSIXjTmj3Y6q1h4O2dgAhLyR1GPr9GD1grn78bEuDFBQeXhq-D23PhK1uBwU2OY', 'https://lh3.googleusercontent.com/NMVZThuE8wWNuAxfZdMvrIqfRMmZ9JV-uTBX2N8Z1FlTNp7O0uesWq2hoJw_Qv8G-Q', 'https://lh3.googleusercontent.com/kkgtxSrO914GV5VlkpX98qnewU08JZI-cqMs51C0zZxzXe5g87yPl_-dZtTrDugDnpVh']\n",
      "video  :  https://www.youtube.com/embed/c0I58rFe18Q?ps=play&vq=large&rel=0&autohide=1&showinfo=0\n",
      "videoImage  :  https://i.ytimg.com/vi/c0I58rFe18Q/hqdefault.jpg\n",
      "contentRating  :  Everyone\n",
      "contentRatingDescription  :  None\n",
      "adSupported  :  None\n",
      "containsAds  :  False\n",
      "released  :  Jan 11, 2017\n",
      "updated  :  1509650165\n",
      "version  :  1.0.5\n",
      "recentChanges  :  Bug Fixes\n",
      "recentChangesHTML  :  Bug Fixes\n",
      "comments  :  [\"This is really good, but when I installed it in my Redmi Note 9 which is using Android 10, it said that Toontastic hadn't been made for higher Android version. The result is audio glitches when recording. Please fix this. Can Google add more settings? Such as jungle, beach, farm or house? Give more control such as importing files from phone (maybe make two versions. One for kids, one for advanced users). I use this for my educational contents, so I need more flexibility. Thanks.\", \"It's a nice app. But the problem is that there are no many objects. There are many characters. But things like rocket,ball and many other things are not there to edit. Also the characters cannot sit or lay down. These things does not make it a real movie and so it is kiddish. The backgrounds are nice but we cannot move the characters along with the graphics. There no drawing tools. It is impossible to draw a new background. If you can remove these faults, then I can give it a 5 star rating.\", 'Wow this app is the best app for creating cartoon hd real looking high quality brilliant animations and movies to make !!!!!!This app helps me to make movies and share to YouTube!!!!!!! I love this app as it has real hd settings in which you can touch various things and objects which perform some specific actions , it has a real hd high quality , it looks 3d real', \"It's a great app but the sound doesn't work properly after I recorded the audio it's animation and sound doesn't seem to come at the same time. And I wish it had more places and characters and a pause button while recording. After all it's a great app. I love it. It doesn't get hanged or anything 😄🤔👍\", \"I love this game a lot I love how you're able to make your own movies and videos but I wish there were more characters and places and more kinds of videos instead of science reports normal story and short story that's just way too boring things they just have those three sorry I wish there was more kinds of story stuff\", 'I LOVE THIS APP IT IS ONE OF THE BEST ANIMATIONS APPS OUT HERE but I would suggest a few this to make it EVEN BETTER they are 1. Characters in the app should be optimised for the scene they are in Eg- deafult sitting postures , sleeping then more hand movements 2. The characters that we make in the app should also have special effect that they can do I think it adds more creativity to the user 3. 3D Backgrounds and effect for them PLEASE GOOGLE CAN YOU DO THESE PLEEASE', 'Yes good but.........Update it and make a feature on it .In that feature we can see others story who publish it in toontastic 3d . And we can also publish it . And a more feature you make that we can paste things in our room ar like we can spawn balloon home or any toy anything......for this reason I have gave you 3 star. If you make in both of one so then I will give you 4⭐⭐ 🌟.......................................................................................................................', \"Toontastic 3d is the best app for making cartoons animation because it provides you 9 backgrounds and for all background there are 5-7 characters which are just awesome..... 😊😊 But there is few problems with this fantastic app.... Firstly the characters cannot move while talking and also they can't move backwards bacause in some cases it is required....Secondly we cannot move their heads and while sitting they can't talk for that they need to stand....please add more characters and background.\", \"Great app....... But the video shows the kids sitting down but in the app the characters cant sleep or move oround the trees thats boring its annoying really am i dreaming Toontastic is a good app for kids. fix this and make characters more cool 😎 and move you cant make a cool movie here. But thank you Google llc for the cool app I've uploaded one video from Toontastic in my channel Happiness sj, Maria Lost in the Sea. I will rate 5 if you make it more real............. Please\", \"I like this app the problem is you can't control the charecter good and it doesn't have that much good animations like the charecter can't sit talk and only some charecters will be there so we should draw charecters and there are not much maps and backgrounds so I like it but should be a bit more better if these mistakes weren't there I would rate it ★★★★ .\", \"It is a good animation making app but I want features like 1. more characters and backgrounds and superheroes like batman, Superman , Spiderman, Iron Man etc. but I think now this superheroes all others are ok but if you can't add option no. 1 so add no.2 i.e other tools in drawing, from which we can draw a face easily. Please do this as soon as you all can. I have given you 3 stars because you have neither have no.1 or no.2 . Please add one of it.\", 'Challenges faced : 1. How to add a pre recorded audio . 2. How to use other backgrounds in addition to the Default one 3. There is no drawing tools for the draw in your own section . 4 . No options for inserting video , audio , images from external sources . 5. Duration is very short for (1min) recording.', 'Amazing game i love it so much im crazy about u should definately download it the only thing that could make it better is if they were more backgrounds like a bedroom ,a mystic land or some other things and it would awesome if u could make your character new clothes and stuff and it would be better if u had no limit to the number of scenes and characters but i know making games is hard so i thank u for your work and if u ask me u should download this game immediately without hesitation😀😀😀', \"This is app is epic, but it doesn't mean there's no mistakes. First of all it's the glitches, please sort out,second it's the hair and them not having eny emotions. But for all, I like it. It could be better, so I'm rateing it four/4 stars. (Hope you understand) -from me\", 'This is very good, but it needs a little change, it does not have any soft option to create avatar, only it has the option to draw it, then it will be very good if you put that option. Thank you ..........', \"Its fun and I like how you can make your own characters! Ive made some movies and if you add background music isn't super duper loud like this one game where I had to yell so you can hear me over the background music. Can yall also please add new backgrounds??? Like maybe the artic??? :D\", 'it is so cool you can make a movie/cartoon and you even can save it to your gallery then watch it again and again!im not sure about this so toontastic creator if you can,can you tell me if this needs WI-FI to use because if you dont need WI-FI that is AWESOME!from:Parmisa FYI i dont yet have insta or facebook or whats-app(did u spell whats-app right?)but you can tell me if it needs WI-FI on roblox or i dont know if this works but on google play or app store!', 'Great app, i used this app for fun but there are some problems which are; 1. Please add the characters like superheroes,animals and plants. 2. Please set unlimited time in every story line and please add some pen in the drawing feature', 'Best Free App hands down. I made a cartoon with my GrandDaughter when she was 3 and she picked, named, colored and moved the characters. By the end of the cartoon she has everyone in awe. I Love taking real life experiences and Tooning them! Thank You Toontastic! Forever greatful!', \"This is a very nice app I appreciate the app makers and I will give you an advice download this app right now nice characters and background......but something I don't like about this app is it is impossible to draw characters and background... We cannot sit and sleep the character ....\", 'Best out of best app... Wonderful experience... But this app should get some updates like new background, story characters & characters should sit & they should lay down too... Nice Imagination But it is compulsory to give some new features to this app... Requesting Google llc... I request goggle llc that create more fun apps like this...', \"It is a good app it just you will have to move them 😄and you don't have much time and the characters can't be more than so so so number and you can't add your photos\", \"It's a nice app. But I have a opinion that the video recording time and number of characters must be increased.apart from this , this is a best app\", \"It's an amazing game I would like to give it 5 stars .the thing I like is that there are no ads and it's all free compared to other apps .it's easy to animate anything from this app.it should be award winning app. Thankyou toontastic app 🤗.\", \"Well it was nice 👌 but we can not insert a picture to make our own character or background. Please make a setting to enable uploading picture for character making and background making and also for putting faces in a character's face 🙏🙏🙏And also please upload Indian characters as I am from India and would love to see hindu mythological characters ,it is a request please 🙏🙏🙏\", \"Brilliant app.but stickers required.drawing on the screen with different effects.while making characters and backgrounds we can't add stickers to them.more things required.please add more features.we cannot add things.Make more games like this the more games the good😋😋😋😋.please do something!!!🤔🤔☺☺\", \"Quite fun. I needed a less buggy and money-grubbing alternative for Plotagon, and found one! However, The drawing capabilities are finnicky and difficult to use, and there are little to no backgrounds either. With the drawing program, it's almost impossible to properly make a background, and there's no import feature either, so it's hard for me to even want to bother. I'll likely uninstall this if I find something better\", 'Good but the only problem is that u cant create long mobies and Ltd caracters which is a problem and not many plaves and items pls add that we can add our own item or events pls:(.and last but not least u cant tag team or frendly build and yeah u can add gmail tag team as it will be good. Make it pls pls. I am a fan.I beg u update.it.', \"I can make any type of videos but one problem is there that there are no such objects like pencil, camera etc. But it'fun with the setting they move when touch or click.☺️\", 'Very nice app but you can add more and more characters I am your fan I recommend to click the install button and also add more backgrounds pleasee🥺🥺 but it is really fun.', \"And I had this game is a zero-starbut in order to write a review about the game is it to put a star at least one I feel like it's a knockoff if you don't know what a knockoff is it means basically a copy of and I feel like this is a copy of the goldfish movie maker 🙄\", \"It's pretty great but it'll be better if you add more character and scenes and more custom options for characters!\", \"This app was good, but why can't we take full of characters in this app? And why can't we make thousands of part in it? Please solve this problem so I give him 5 star please please please please solve this problem.\", \"Its not a game while its a movies play i have gave 4 stars as it's nice but controls are so difficult but i have liked it so much. For review you will not find this much good toonmaker. Thanks for reading feedback\", \"I Love this game I would recommend it your probably wondering why it's not 5 stars I have 2 reasons it doesn't save if you delete the app it even though you probably wont (if I remember correctly) and you can't have a movie with No Audio\", \"It's great! I love it.. but characters can't sit, lay .. can't also import character into it. Make it more flexible. Thanks.. if all is fixed, I will give 5star\", \"It's very amazing! I'm really enjoyed! It's a useful app for cartoon movie! But When I am export my cartoon movie I go to the video player and play my movie it can't playing.\", 'imagine your could make your own clothes and hair that would be so cool please add it. One more thing, one time when I loaded some models, they were corrupted/glitched! Please fix if you can fix it I will rate it five stars. Also I have NOT been around to see Toontastic 2D and I want you to bring it back as a separate app please! Also please give the characters facial expressions! Toontastic is like Plotagon and Go!Animate', 'I give only 3 star why? Because no change voice of character so, I give your suggestions please add voice chacters .and own photo image taken as background.', \"1.They can't sit. 2.When u make a background,you can never draw a good one. 3.When u make a character,it will never walk and if you tap it,it doesnt do anything special. That's it.\"]\n",
      "appId  :  com.google.toontastic\n",
      "url  :  https://play.google.com/store/apps/details?id=com.google.toontastic&hl=en&gl=us\n"
     ]
    }
   ],
   "source": [
    "# load a dataset for transforming/analysis\n",
    "q = input_path / \"TRACKING_THE_SAME_ID_MONTHLY_SCRAPE\" / \"202009\" / \"TRACKING_202002.pickle\"\n",
    "with open(q, 'rb') as filename:\n",
    "    C = pickle.load(filename)\n",
    "# get a glimpse of the scraped raw data\n",
    "get_a_glimpse(C)"
   ],
   "metadata": {
    "collapsed": false,
    "pycharm": {
     "name": "#%%\n"
    }
   }
  },
  {
   "cell_type": "code",
   "execution_count": 3,
   "outputs": [
    {
     "name": "stdout",
     "output_type": "stream",
     "text": [
      "[('MEDICAL', 347), ('GAME_PUZZLE', 337), ('GAME_ACTION', 305), ('EDUCATION', 297), ('GAME_CASUAL', 278), ('GAME_EDUCATIONAL', 267), ('GAME_ARCADE', 264), ('GAME_SIMULATION', 260), ('GAME_ROLE_PLAYING', 252), ('TOOLS', 220), ('ENTERTAINMENT', 211), ('PHOTOGRAPHY', 186), ('GAME_STRATEGY', 181), ('PRODUCTIVITY', 181), ('DATING', 175), ('MUSIC_AND_AUDIO', 168), ('PERSONALIZATION', 167), ('GAME_ADVENTURE', 161), ('GAME_RACING', 159), ('HEALTH_AND_FITNESS', 159), ('FINANCE', 152), ('GAME_SPORTS', 149), ('LIFESTYLE', 143), ('GAME_WORD', 143), ('BUSINESS', 140), ('SHOPPING', 135), ('SPORTS', 132), ('GAME_CARD', 129), ('SOCIAL', 124), ('COMMUNICATION', 118), ('FOOD_AND_DRINK', 113), ('TRAVEL_AND_LOCAL', 111), ('GAME_BOARD', 103), ('NEWS_AND_MAGAZINES', 100), ('HOUSE_AND_HOME', 85), ('GAME_MUSIC', 68), ('VIDEO_PLAYERS', 68), ('GAME_CASINO', 63), ('GAME_TRIVIA', 42), ('MAPS_AND_NAVIGATION', 40), ('WEATHER', 20), ('BOOKS_AND_REFERENCE', 18), ('PARENTING', 15), ('ART_AND_DESIGN', 14), ('AUTO_AND_VEHICLES', 9), ('BEAUTY', 6), ('EVENTS', 5), ('COMICS', 3), ('LIBRARIES_AND_DEMO', 2)]\n"
     ]
    }
   ],
   "source": [
    "# transform the dataset to categorical level\n",
    "D = transform_raw_to_category_data(C)"
   ],
   "metadata": {
    "collapsed": false,
    "pycharm": {
     "name": "#%%\n"
    }
   }
  },
  {
   "cell_type": "code",
   "execution_count": 15,
   "outputs": [
    {
     "name": "stdout",
     "output_type": "stream",
     "text": [
      "minInstalls (array([  62,   20,  102,   80,  301,  223,  711,  451, 1727,  910, 1578,\n",
      "        351,  309]), array([0.e+00, 5.e+02, 1.e+03, 5.e+03, 1.e+04, 5.e+04, 1.e+05, 5.e+05,\n",
      "       1.e+06, 5.e+06, 1.e+07, 5.e+07, 1.e+08, 5.e+09]))\n",
      "score (array([ 40,   0,   0,   0,   0,   0,   0,   0,   0,   0,   0,   0,   0,\n",
      "         0,   0,   0,   0,   0,   0,   0,   0,   0,   0,   0,   0,   1,\n",
      "         1,   0,   0,   0,   0,   0,   2,   2,   0,   1,   3,   1,   0,\n",
      "         0,   2,   3,   3,   1,   2,   2,   4,   3,   6,   3,   9,   6,\n",
      "         7,   5,   8,   8,   7,  17,  14,  16,  17,  17,  13,  17,  23,\n",
      "        24,  23,  34,  30,  28,  39,  48,  50,  69,  72,  75,  91,  98,\n",
      "       138, 130, 180, 201, 220, 263, 322, 339, 358, 397, 441, 384, 402,\n",
      "       389, 371, 330, 289, 246, 181, 122,  86,  46,  14,   9,   7]), array([0.        , 0.04854369, 0.09708738, 0.14563107, 0.19417476,\n",
      "       0.24271845, 0.29126214, 0.33980583, 0.38834951, 0.4368932 ,\n",
      "       0.48543689, 0.53398058, 0.58252427, 0.63106796, 0.67961165,\n",
      "       0.72815534, 0.77669903, 0.82524272, 0.87378641, 0.9223301 ,\n",
      "       0.97087379, 1.01941748, 1.06796117, 1.11650485, 1.16504854,\n",
      "       1.21359223, 1.26213592, 1.31067961, 1.3592233 , 1.40776699,\n",
      "       1.45631068, 1.50485437, 1.55339806, 1.60194175, 1.65048544,\n",
      "       1.69902913, 1.74757282, 1.7961165 , 1.84466019, 1.89320388,\n",
      "       1.94174757, 1.99029126, 2.03883495, 2.08737864, 2.13592233,\n",
      "       2.18446602, 2.23300971, 2.2815534 , 2.33009709, 2.37864078,\n",
      "       2.42718447, 2.47572816, 2.52427184, 2.57281553, 2.62135922,\n",
      "       2.66990291, 2.7184466 , 2.76699029, 2.81553398, 2.86407767,\n",
      "       2.91262136, 2.96116505, 3.00970874, 3.05825243, 3.10679612,\n",
      "       3.15533981, 3.2038835 , 3.25242718, 3.30097087, 3.34951456,\n",
      "       3.39805825, 3.44660194, 3.49514563, 3.54368932, 3.59223301,\n",
      "       3.6407767 , 3.68932039, 3.73786408, 3.78640777, 3.83495146,\n",
      "       3.88349515, 3.93203883, 3.98058252, 4.02912621, 4.0776699 ,\n",
      "       4.12621359, 4.17475728, 4.22330097, 4.27184466, 4.32038835,\n",
      "       4.36893204, 4.41747573, 4.46601942, 4.51456311, 4.5631068 ,\n",
      "       4.61165049, 4.66019417, 4.70873786, 4.75728155, 4.80582524,\n",
      "       4.85436893, 4.90291262, 4.95145631, 5.        ]))\n"
     ]
    },
    {
     "ename": "TypeError",
     "evalue": "unsupported operand type(s) for +: 'float' and 'NoneType'",
     "output_type": "error",
     "traceback": [
      "\u001B[0;31m---------------------------------------------------------------------------\u001B[0m",
      "\u001B[0;31mTypeError\u001B[0m                                 Traceback (most recent call last)",
      "\u001B[0;32m~/Insync/naixin88@sina.cn/OneDrive/__CODING__/PycharmProjects/GOOGLE_PLAY/2_functions_data_visualization.py\u001B[0m in \u001B[0;36m<module>\u001B[0;34m\u001B[0m\n\u001B[1;32m      5\u001B[0m \u001B[0;34m\u001B[0m\u001B[0m\n\u001B[1;32m      6\u001B[0m \u001B[0mhistogram\u001B[0m\u001B[0;34m(\u001B[0m\u001B[0mC\u001B[0m\u001B[0;34m,\u001B[0m \u001B[0;34m\"score\"\u001B[0m\u001B[0;34m)\u001B[0m\u001B[0;34m\u001B[0m\u001B[0;34m\u001B[0m\u001B[0m\n\u001B[0;32m----> 7\u001B[0;31m \u001B[0mboxplot\u001B[0m\u001B[0;34m(\u001B[0m\u001B[0mC\u001B[0m\u001B[0;34m,\u001B[0m \u001B[0;34m\"score\"\u001B[0m\u001B[0;34m)\u001B[0m\u001B[0;34m\u001B[0m\u001B[0;34m\u001B[0m\u001B[0m\n\u001B[0m\u001B[1;32m      8\u001B[0m \u001B[0;34m\u001B[0m\u001B[0m\n",
      "\u001B[0;32m~/Insync/naixin88@sina.cn/OneDrive/__CODING__/PycharmProjects/GOOGLE_PLAY/2_functions_data_visualization.py\u001B[0m in \u001B[0;36mboxplot\u001B[0;34m(appdetails, attribute)\u001B[0m\n\u001B[1;32m     83\u001B[0m     \u001B[0mfig\u001B[0m \u001B[0;34m=\u001B[0m \u001B[0mplt\u001B[0m\u001B[0;34m.\u001B[0m\u001B[0mfigure\u001B[0m\u001B[0;34m(\u001B[0m\u001B[0;34m)\u001B[0m\u001B[0;34m\u001B[0m\u001B[0;34m\u001B[0m\u001B[0m\n\u001B[1;32m     84\u001B[0m     \u001B[0max\u001B[0m \u001B[0;34m=\u001B[0m \u001B[0mfig\u001B[0m\u001B[0;34m.\u001B[0m\u001B[0madd_subplot\u001B[0m\u001B[0;34m(\u001B[0m\u001B[0;36m1\u001B[0m\u001B[0;34m,\u001B[0m \u001B[0;36m1\u001B[0m\u001B[0;34m,\u001B[0m \u001B[0;36m1\u001B[0m\u001B[0;34m)\u001B[0m\u001B[0;34m\u001B[0m\u001B[0;34m\u001B[0m\u001B[0m\n\u001B[0;32m---> 85\u001B[0;31m     \u001B[0max\u001B[0m\u001B[0;34m.\u001B[0m\u001B[0mboxplot\u001B[0m\u001B[0;34m(\u001B[0m\u001B[0mX\u001B[0m\u001B[0;34m)\u001B[0m\u001B[0;34m\u001B[0m\u001B[0;34m\u001B[0m\u001B[0m\n\u001B[0m\u001B[1;32m     86\u001B[0m     \u001B[0max\u001B[0m\u001B[0;34m.\u001B[0m\u001B[0mgrid\u001B[0m\u001B[0;34m(\u001B[0m\u001B[0;32mTrue\u001B[0m\u001B[0;34m)\u001B[0m\u001B[0;34m\u001B[0m\u001B[0;34m\u001B[0m\u001B[0m\n\u001B[1;32m     87\u001B[0m     \u001B[0max\u001B[0m\u001B[0;34m.\u001B[0m\u001B[0mset_ylabel\u001B[0m\u001B[0;34m(\u001B[0m\u001B[0;34m'frequency'\u001B[0m\u001B[0;34m)\u001B[0m\u001B[0;34m\u001B[0m\u001B[0;34m\u001B[0m\u001B[0m\n",
      "\u001B[0;32m~/anaconda3/envs/GOOGLE_PLAY/lib/python3.7/site-packages/matplotlib/__init__.py\u001B[0m in \u001B[0;36minner\u001B[0;34m(ax, data, *args, **kwargs)\u001B[0m\n\u001B[1;32m   1436\u001B[0m     \u001B[0;32mdef\u001B[0m \u001B[0minner\u001B[0m\u001B[0;34m(\u001B[0m\u001B[0max\u001B[0m\u001B[0;34m,\u001B[0m \u001B[0;34m*\u001B[0m\u001B[0margs\u001B[0m\u001B[0;34m,\u001B[0m \u001B[0mdata\u001B[0m\u001B[0;34m=\u001B[0m\u001B[0;32mNone\u001B[0m\u001B[0;34m,\u001B[0m \u001B[0;34m**\u001B[0m\u001B[0mkwargs\u001B[0m\u001B[0;34m)\u001B[0m\u001B[0;34m:\u001B[0m\u001B[0;34m\u001B[0m\u001B[0;34m\u001B[0m\u001B[0m\n\u001B[1;32m   1437\u001B[0m         \u001B[0;32mif\u001B[0m \u001B[0mdata\u001B[0m \u001B[0;32mis\u001B[0m \u001B[0;32mNone\u001B[0m\u001B[0;34m:\u001B[0m\u001B[0;34m\u001B[0m\u001B[0;34m\u001B[0m\u001B[0m\n\u001B[0;32m-> 1438\u001B[0;31m             \u001B[0;32mreturn\u001B[0m \u001B[0mfunc\u001B[0m\u001B[0;34m(\u001B[0m\u001B[0max\u001B[0m\u001B[0;34m,\u001B[0m \u001B[0;34m*\u001B[0m\u001B[0mmap\u001B[0m\u001B[0;34m(\u001B[0m\u001B[0msanitize_sequence\u001B[0m\u001B[0;34m,\u001B[0m \u001B[0margs\u001B[0m\u001B[0;34m)\u001B[0m\u001B[0;34m,\u001B[0m \u001B[0;34m**\u001B[0m\u001B[0mkwargs\u001B[0m\u001B[0;34m)\u001B[0m\u001B[0;34m\u001B[0m\u001B[0;34m\u001B[0m\u001B[0m\n\u001B[0m\u001B[1;32m   1439\u001B[0m \u001B[0;34m\u001B[0m\u001B[0m\n\u001B[1;32m   1440\u001B[0m         \u001B[0mbound\u001B[0m \u001B[0;34m=\u001B[0m \u001B[0mnew_sig\u001B[0m\u001B[0;34m.\u001B[0m\u001B[0mbind\u001B[0m\u001B[0;34m(\u001B[0m\u001B[0max\u001B[0m\u001B[0;34m,\u001B[0m \u001B[0;34m*\u001B[0m\u001B[0margs\u001B[0m\u001B[0;34m,\u001B[0m \u001B[0;34m**\u001B[0m\u001B[0mkwargs\u001B[0m\u001B[0;34m)\u001B[0m\u001B[0;34m\u001B[0m\u001B[0;34m\u001B[0m\u001B[0m\n",
      "\u001B[0;32m~/anaconda3/envs/GOOGLE_PLAY/lib/python3.7/site-packages/matplotlib/axes/_axes.py\u001B[0m in \u001B[0;36mboxplot\u001B[0;34m(self, x, notch, sym, vert, whis, positions, widths, patch_artist, bootstrap, usermedians, conf_intervals, meanline, showmeans, showcaps, showbox, showfliers, boxprops, labels, flierprops, medianprops, meanprops, capprops, whiskerprops, manage_ticks, autorange, zorder)\u001B[0m\n\u001B[1;32m   3682\u001B[0m \u001B[0;34m\u001B[0m\u001B[0m\n\u001B[1;32m   3683\u001B[0m         bxpstats = cbook.boxplot_stats(x, whis=whis, bootstrap=bootstrap,\n\u001B[0;32m-> 3684\u001B[0;31m                                        labels=labels, autorange=autorange)\n\u001B[0m\u001B[1;32m   3685\u001B[0m         \u001B[0;32mif\u001B[0m \u001B[0mnotch\u001B[0m \u001B[0;32mis\u001B[0m \u001B[0;32mNone\u001B[0m\u001B[0;34m:\u001B[0m\u001B[0;34m\u001B[0m\u001B[0;34m\u001B[0m\u001B[0m\n\u001B[1;32m   3686\u001B[0m             \u001B[0mnotch\u001B[0m \u001B[0;34m=\u001B[0m \u001B[0mrcParams\u001B[0m\u001B[0;34m[\u001B[0m\u001B[0;34m'boxplot.notch'\u001B[0m\u001B[0;34m]\u001B[0m\u001B[0;34m\u001B[0m\u001B[0;34m\u001B[0m\u001B[0m\n",
      "\u001B[0;32m~/anaconda3/envs/GOOGLE_PLAY/lib/python3.7/site-packages/matplotlib/cbook/__init__.py\u001B[0m in \u001B[0;36mboxplot_stats\u001B[0;34m(X, whis, bootstrap, labels, autorange)\u001B[0m\n\u001B[1;32m   1175\u001B[0m \u001B[0;34m\u001B[0m\u001B[0m\n\u001B[1;32m   1176\u001B[0m         \u001B[0;31m# arithmetic mean\u001B[0m\u001B[0;34m\u001B[0m\u001B[0;34m\u001B[0m\u001B[0;34m\u001B[0m\u001B[0m\n\u001B[0;32m-> 1177\u001B[0;31m         \u001B[0mstats\u001B[0m\u001B[0;34m[\u001B[0m\u001B[0;34m'mean'\u001B[0m\u001B[0;34m]\u001B[0m \u001B[0;34m=\u001B[0m \u001B[0mnp\u001B[0m\u001B[0;34m.\u001B[0m\u001B[0mmean\u001B[0m\u001B[0;34m(\u001B[0m\u001B[0mx\u001B[0m\u001B[0;34m)\u001B[0m\u001B[0;34m\u001B[0m\u001B[0;34m\u001B[0m\u001B[0m\n\u001B[0m\u001B[1;32m   1178\u001B[0m \u001B[0;34m\u001B[0m\u001B[0m\n\u001B[1;32m   1179\u001B[0m         \u001B[0;31m# medians and quartiles\u001B[0m\u001B[0;34m\u001B[0m\u001B[0;34m\u001B[0m\u001B[0;34m\u001B[0m\u001B[0m\n",
      "\u001B[0;32m<__array_function__ internals>\u001B[0m in \u001B[0;36mmean\u001B[0;34m(*args, **kwargs)\u001B[0m\n",
      "\u001B[0;32m~/anaconda3/envs/GOOGLE_PLAY/lib/python3.7/site-packages/numpy/core/fromnumeric.py\u001B[0m in \u001B[0;36mmean\u001B[0;34m(a, axis, dtype, out, keepdims)\u001B[0m\n\u001B[1;32m   3371\u001B[0m \u001B[0;34m\u001B[0m\u001B[0m\n\u001B[1;32m   3372\u001B[0m     return _methods._mean(a, axis=axis, dtype=dtype,\n\u001B[0;32m-> 3373\u001B[0;31m                           out=out, **kwargs)\n\u001B[0m\u001B[1;32m   3374\u001B[0m \u001B[0;34m\u001B[0m\u001B[0m\n\u001B[1;32m   3375\u001B[0m \u001B[0;34m\u001B[0m\u001B[0m\n",
      "\u001B[0;32m~/anaconda3/envs/GOOGLE_PLAY/lib/python3.7/site-packages/numpy/core/_methods.py\u001B[0m in \u001B[0;36m_mean\u001B[0;34m(a, axis, dtype, out, keepdims)\u001B[0m\n\u001B[1;32m    158\u001B[0m             \u001B[0mis_float16_result\u001B[0m \u001B[0;34m=\u001B[0m \u001B[0;32mTrue\u001B[0m\u001B[0;34m\u001B[0m\u001B[0;34m\u001B[0m\u001B[0m\n\u001B[1;32m    159\u001B[0m \u001B[0;34m\u001B[0m\u001B[0m\n\u001B[0;32m--> 160\u001B[0;31m     \u001B[0mret\u001B[0m \u001B[0;34m=\u001B[0m \u001B[0mumr_sum\u001B[0m\u001B[0;34m(\u001B[0m\u001B[0marr\u001B[0m\u001B[0;34m,\u001B[0m \u001B[0maxis\u001B[0m\u001B[0;34m,\u001B[0m \u001B[0mdtype\u001B[0m\u001B[0;34m,\u001B[0m \u001B[0mout\u001B[0m\u001B[0;34m,\u001B[0m \u001B[0mkeepdims\u001B[0m\u001B[0;34m)\u001B[0m\u001B[0;34m\u001B[0m\u001B[0;34m\u001B[0m\u001B[0m\n\u001B[0m\u001B[1;32m    161\u001B[0m     \u001B[0;32mif\u001B[0m \u001B[0misinstance\u001B[0m\u001B[0;34m(\u001B[0m\u001B[0mret\u001B[0m\u001B[0;34m,\u001B[0m \u001B[0mmu\u001B[0m\u001B[0;34m.\u001B[0m\u001B[0mndarray\u001B[0m\u001B[0;34m)\u001B[0m\u001B[0;34m:\u001B[0m\u001B[0;34m\u001B[0m\u001B[0;34m\u001B[0m\u001B[0m\n\u001B[1;32m    162\u001B[0m         ret = um.true_divide(\n",
      "\u001B[0;31mTypeError\u001B[0m: unsupported operand type(s) for +: 'float' and 'NoneType'"
     ]
    },
    {
     "data": {
      "text/plain": "<Figure size 432x288 with 0 Axes>"
     },
     "metadata": {},
     "output_type": "display_data"
    },
    {
     "data": {
      "text/plain": "<Figure size 432x288 with 1 Axes>",
      "image/png": "[encoded data removed]"
     },
     "metadata": {
      "needs_background": "light"
     },
     "output_type": "display_data"
    },
    {
     "data": {
      "text/plain": "<Figure size 432x288 with 1 Axes>",
      "image/png": "[encoded data removed]"
     },
     "metadata": {
      "needs_background": "light"
     },
     "output_type": "display_data"
    },
    {
     "data": {
      "text/plain": "<Figure size 432x288 with 1 Axes>",
      "image/png": "[encoded data removed]"
     },
     "metadata": {
      "needs_background": "light"
     },
     "output_type": "display_data"
    },
    {
     "data": {
      "text/plain": "<Figure size 432x288 with 1 Axes>",
      "image/png": "[encoded data removed]"
     },
     "metadata": {
      "needs_background": "light"
     },
     "output_type": "display_data"
    }
   ],
   "source": [
    "%run -i '2_functions_data_visualization.py'\n",
    "# look at descriptive stats of apps in each category\n",
    "histogram(C, \"minInstalls\")\n",
    "boxplot(C, \"minInstalls\")\n",
    "\n",
    "histogram(C, \"score\")\n",
    "boxplot(C, \"score\")"
   ],
   "metadata": {
    "collapsed": false,
    "pycharm": {
     "name": "#%%\n"
    }
   }
  },
  {
   "cell_type": "code",
   "execution_count": 8,
   "outputs": [
    {
     "name": "stdout",
     "output_type": "stream",
     "text": [
      "MAPS_AND_NAVIGATION 40\n",
      "GAME_CARD 129\n",
      "GAME_STRATEGY 181\n",
      "GAME_PUZZLE 337\n",
      "EDUCATION 297\n",
      "DATING 175\n",
      "GAME_ACTION 305\n",
      "GAME_SIMULATION 260\n",
      "GAME_BOARD 103\n",
      "SHOPPING 135\n",
      "GAME_WORD 143\n",
      "GAME_RACING 159\n",
      "BEAUTY 6\n",
      "GAME_CASUAL 278\n",
      "GAME_ROLE_PLAYING 252\n",
      "PRODUCTIVITY 181\n",
      "GAME_CASINO 63\n",
      "PHOTOGRAPHY 186\n",
      "MUSIC_AND_AUDIO 168\n",
      "GAME_EDUCATIONAL 267\n",
      "GAME_SPORTS 149\n",
      "VIDEO_PLAYERS 68\n",
      "NEWS_AND_MAGAZINES 100\n",
      "TRAVEL_AND_LOCAL 111\n",
      "GAME_TRIVIA 42\n",
      "BUSINESS 140\n",
      "GAME_MUSIC 68\n",
      "ENTERTAINMENT 211\n",
      "HOUSE_AND_HOME 85\n",
      "AUTO_AND_VEHICLES 9\n",
      "SPORTS 132\n",
      "LIFESTYLE 143\n",
      "LIBRARIES_AND_DEMO 2\n",
      "SOCIAL 124\n",
      "FINANCE 152\n",
      "EVENTS 5\n",
      "COMICS 3\n",
      "WEATHER 20\n",
      "PARENTING 15\n",
      "MEDICAL 347\n",
      "COMMUNICATION 118\n",
      "FOOD_AND_DRINK 113\n",
      "BOOKS_AND_REFERENCE 18\n",
      "HEALTH_AND_FITNESS 159\n",
      "GAME_ARCADE 264\n",
      "TOOLS 220\n",
      "PERSONALIZATION 167\n",
      "ART_AND_DESIGN 14\n",
      "GAME_ADVENTURE 161\n"
     ]
    },
    {
     "ename": "IndexError",
     "evalue": "list index out of range",
     "output_type": "error",
     "traceback": [
      "\u001B[0;31m---------------------------------------------------------------------------\u001B[0m",
      "\u001B[0;31mIndexError\u001B[0m                                Traceback (most recent call last)",
      "\u001B[0;32m~/Insync/naixin88@sina.cn/OneDrive/PycharmProjects/GOOGLE_PLAY/functions_transforming_raw_data.py\u001B[0m in \u001B[0;36m<module>\u001B[0;34m\u001B[0m\n\u001B[1;32m     10\u001B[0m     \u001B[0mprint\u001B[0m\u001B[0;34m(\u001B[0m\u001B[0mk\u001B[0m\u001B[0;34m,\u001B[0m \u001B[0mlen\u001B[0m\u001B[0;34m(\u001B[0m\u001B[0mv\u001B[0m\u001B[0;34m)\u001B[0m\u001B[0;34m)\u001B[0m\u001B[0;34m\u001B[0m\u001B[0;34m\u001B[0m\u001B[0m\n\u001B[1;32m     11\u001B[0m \u001B[0;34m\u001B[0m\u001B[0m\n\u001B[0;32m---> 12\u001B[0;31m \u001B[0mprint\u001B[0m\u001B[0;34m(\u001B[0m\u001B[0mappdetails_categories\u001B[0m\u001B[0;34m[\u001B[0m\u001B[0;34m'EVENTS'\u001B[0m\u001B[0;34m]\u001B[0m\u001B[0;34m[\u001B[0m\u001B[0;36m22\u001B[0m\u001B[0;34m]\u001B[0m\u001B[0;34m)\u001B[0m\u001B[0;34m\u001B[0m\u001B[0;34m\u001B[0m\u001B[0m\n\u001B[0m\u001B[1;32m     13\u001B[0m \u001B[0;34m\u001B[0m\u001B[0m\n",
      "\u001B[0;31mIndexError\u001B[0m: list index out of range"
     ]
    }
   ],
   "source": [
    "for category in appdetails_categories.keys():\n",
    "    content = []\n",
    "    for appid, appdetails in C.items():\n",
    "        if appdetails is not None:\n",
    "            if appdetails['genreId'] == category:\n",
    "                #print(appdetails['genreId'], category)\n",
    "                content.append(appdetails)\n",
    "    appdetails_categories[category] = content\n",
    "for k, v in appdetails_categories.items():\n",
    "    print(k, len(v))\n",
    "\n",
    "print(appdetails_categories['EVENTS'][22])"
   ],
   "metadata": {
    "collapsed": false,
    "pycharm": {
     "name": "#%%\n"
    }
   }
  },
  {
   "cell_type": "code",
   "execution_count": null,
   "outputs": [],
   "source": [
    "# now I think it could be better to transform the entire data to dataframe\n",
    "import pandas\n"
   ],
   "metadata": {
    "collapsed": false,
    "pycharm": {
     "name": "#%%\n"
    }
   }
  }
 ],
 "metadata": {
  "kernelspec": {
   "display_name": "Python 3",
   "language": "python",
   "name": "python3"
  },
  "language_info": {
   "codemirror_mode": {
    "name": "ipython",
    "version": 2
   },
   "file_extension": ".py",
   "mimetype": "text/x-python",
   "name": "python",
   "nbconvert_exporter": "python",
   "pygments_lexer": "ipython2",
   "version": "2.7.6"
  }
 },
 "nbformat": 4,
 "nbformat_minor": 0
}