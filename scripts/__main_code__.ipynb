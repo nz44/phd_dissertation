{
 "cells": [
  {
   "cell_type": "markdown",
   "metadata": {
    "collapsed": true,
    "pycharm": {
     "name": "#%% md\n"
    }
   },
   "source": [
    "# use class to encapsulate scraping functions\n",
    "\n",
    "2021/01/03"
   ]
  },
  {
   "cell_type": "code",
   "execution_count": 37,
   "outputs": [],
   "source": [
    "# run python scripts containing all the functions\n",
    "%run -i '0_paths_open_save.py'\n",
    "%run -i '1_scraping_cleaning_merge.py'"
   ],
   "metadata": {
    "collapsed": false,
    "pycharm": {
     "name": "#%%\n"
    }
   }
  },
  {
   "cell_type": "markdown",
   "source": [
    "## 1. Scraping"
   ],
   "metadata": {
    "collapsed": false,
    "pycharm": {
     "name": "#%% md\n"
    }
   }
  },
  {
   "cell_type": "code",
   "execution_count": 9,
   "outputs": [
    {
     "name": "stderr",
     "output_type": "stream",
     "text": [
      "scraping...: 100%|██████████| 13144/13144 [53:10<00:00,  4.12it/s]  \n",
      "scraping...: 100%|██████████| 13015/13015 [51:04<00:00,  4.25it/s]  \n",
      "scraping...: 100%|██████████| 8468/8468 [30:31<00:00,  4.62it/s]  \n",
      "scraping...: 100%|██████████| 8359/8359 [31:15<00:00,  4.46it/s]   \n",
      "scraping...: 100%|██████████| 8042/8042 [30:38<00:00,  4.37it/s]   \n"
     ]
    },
    {
     "name": "stdout",
     "output_type": "stream",
     "text": [
      "201907\n",
      "The number of IDs are: 13144\n",
      "start scraping apps with initial panel 201907\n",
      "Finished scraping app details with initial panel 201907\n",
      "Saved scarped app details with initial panel 201907\n",
      "201908\n",
      "The number of IDs are: 13015\n",
      "start scraping apps with initial panel 201908\n",
      "Finished scraping app details with initial panel 201908\n",
      "Saved scarped app details with initial panel 201908\n",
      "201912\n",
      "The number of IDs are: 8468\n",
      "start scraping apps with initial panel 201912\n",
      "Finished scraping app details with initial panel 201912\n",
      "Saved scarped app details with initial panel 201912\n",
      "202001\n",
      "The number of IDs are: 8359\n",
      "start scraping apps with initial panel 202001\n",
      "Finished scraping app details with initial panel 202001\n",
      "Saved scarped app details with initial panel 202001\n",
      "202002\n",
      "The number of IDs are: 8042\n",
      "start scraping apps with initial panel 202002\n",
      "Finished scraping app details with initial panel 202002\n",
      "Saved scarped app details with initial panel 202002\n"
     ]
    }
   ],
   "source": [
    "initial_panels = ['201812', '201907', '201908', '201912', '202001', '202002']\n",
    "current_panel = '202101'\n",
    "\n",
    "for i in initial_panels:\n",
    "    o = open_files(initial_panel=i)\n",
    "    DF = o.open_df_to_id_for_scraping()\n",
    "    id_list = get_id_from_data_before_202009(DF)\n",
    "    print(i)\n",
    "    print('The number of IDs are:', len(id_list))\n",
    "    print('start scraping apps with initial panel', i)\n",
    "    app_details = scraping_apps_according_to_id(id_list)\n",
    "    print('Finished scraping app details with initial panel', i)\n",
    "    s = save_files(initial_panel=i, current_panel=current_panel, app_details_dict=app_details)\n",
    "    s.save_scraped_app_details()\n",
    "    print('Saved scarped app details with initial panel', i)"
   ],
   "metadata": {
    "collapsed": false,
    "pycharm": {
     "name": "#%% SCRAPING\n"
    }
   }
  },
  {
   "cell_type": "markdown",
   "source": [
    "## 2. Check the scraped data"
   ],
   "metadata": {
    "collapsed": false,
    "pycharm": {
     "name": "#%% md\n"
    }
   }
  },
  {
   "cell_type": "code",
   "execution_count": 9,
   "outputs": [],
   "source": [
    "current_panel = '202101'\n",
    "tracking_panels = ['201812', '201907', '201908', '201912', '202001', '202002']\n",
    "\n",
    "o = open_files(current_panel=current_panel, tracking_panels=tracking_panels)\n",
    "app_details = o.open_app_detail_dict()\n",
    "A = app_detail_dicts(app_details)\n",
    "A.get_a_glimpse()"
   ],
   "metadata": {
    "collapsed": false,
    "pycharm": {
     "name": "#%%\n"
    }
   }
  },
  {
   "cell_type": "markdown",
   "source": [
    "## 3. Convert"
   ],
   "metadata": {
    "collapsed": false,
    "pycharm": {
     "name": "#%% md\n"
    }
   }
  },
  {
   "cell_type": "code",
   "execution_count": 18,
   "outputs": [],
   "source": [
    "# key represents initial panel, value represents panels (including the initial) tracking the initial panel\n",
    "panels_track = {\n",
    "'201812':['201812', '201912', '202001', '202003', '202004', '202009', '202010', '202011', '202012', '202101'],\n",
    "'201907':['201907', '201908', '201909', '201912', '202001', '202003', '202004', '202009', '202010', '202011', '202012', '202101'],\n",
    "'201908':['201908', '201912', '202001', '202003', '202004', '202009', '202010', '202011', '202012', '202101'],\n",
    "'201912':['201912', '202001', '202003', '202004', '202009', '202010', '202011', '202012', '202101'],\n",
    "'202001':['202001', '202003', '202004', '202009', '202010', '202011', '202012', '202101'],\n",
    "'202002':['202002', '202004', '202009', '202010', '202011', '202012', '202101']}\n",
    "\n",
    "for initial_panel, tracking_panels in panels_track.items():\n",
    "    o = open_files(initial_panel=initial_panel, tracking_panels=tracking_panels)\n",
    "    app_details = o.open_initial_panel_with_its_tracking_panels()"
   ],
   "metadata": {
    "collapsed": false,
    "pycharm": {
     "name": "#%%\n"
    }
   }
  },
  {
   "cell_type": "code",
   "execution_count": 38,
   "outputs": [],
   "source": [
    "A = app_detail_dicts(app_details)\n",
    "pure_dict_app_details = A.convert_list_data_to_dict_with_appid_keys()"
   ],
   "metadata": {
    "collapsed": false,
    "pycharm": {
     "name": "#%%\n"
    }
   }
  },
  {
   "cell_type": "code",
   "execution_count": null,
   "outputs": [],
   "source": [
    "for i in [\"201812\", '201907', '201908', '201912', '202001', '202002']:\n",
    "    filename = 'ALL_APP_DETAILS_' + i + '.pickle'\n",
    "    q = input_path / \"NEW_ALGORITHM_MONTHLY_SCRAPE\" / i / filename\n",
    "    with open(q, 'rb') as f:\n",
    "        C = pickle.load(f)\n",
    "    D = convert_list_data_to_dict_with_appid_keys(C)\n",
    "    E = transform_old_scraper_dict_dataframe(D, i)\n",
    "\n",
    "    filename = 'INITIAL_' + i + '.pickle'\n",
    "    folder_name = i + '_PANEL_DF'\n",
    "    q = input_path / \"__PANELS__\" / folder_name / filename\n",
    "    pickle.dump(E, open(q,'wb'))\n",
    "\n"
   ],
   "metadata": {
    "collapsed": false,
    "pycharm": {
     "name": "#%%\n"
    }
   }
  }
 ],
 "metadata": {
  "kernelspec": {
   "display_name": "Python 3",
   "language": "python",
   "name": "python3"
  },
  "language_info": {
   "codemirror_mode": {
    "name": "ipython",
    "version": 2
   },
   "file_extension": ".py",
   "mimetype": "text/x-python",
   "name": "python",
   "nbconvert_exporter": "python",
   "pygments_lexer": "ipython2",
   "version": "2.7.6"
  }
 },
 "nbformat": 4,
 "nbformat_minor": 0
}