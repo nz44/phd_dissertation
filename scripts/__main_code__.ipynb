{
 "cells": [
  {
   "cell_type": "markdown",
   "metadata": {
    "collapsed": true,
    "pycharm": {
     "name": "#%% md\n"
    }
   },
   "source": [
    "# use class to encapsulate scraping functions\n",
    "\n",
    "2021/01/03"
   ]
  },
  {
   "cell_type": "code",
   "execution_count": 1,
   "outputs": [],
   "source": [
    "# run python scripts containing all the functions\n",
    "%run -i '0_paths_open_save.py'\n",
    "%run -i '1_scraping_cleaning_merge.py'\n",
    "%run -i '2_summary_stats_visualization_new.py'"
   ],
   "metadata": {
    "collapsed": false,
    "pycharm": {
     "name": "#%%\n"
    }
   }
  },
  {
   "cell_type": "markdown",
   "source": [
    "## 1. Scraping"
   ],
   "metadata": {
    "collapsed": false,
    "pycharm": {
     "name": "#%% md\n"
    }
   }
  },
  {
   "cell_type": "code",
   "execution_count": 2,
   "outputs": [
    {
     "name": "stderr",
     "output_type": "stream",
     "text": [
      "scraping...: 100%|██████████| 5977/5977 [26:56<00:00,  3.70it/s]  \n",
      "scraping...: 100%|██████████| 13144/13144 [1:35:14<00:00,  2.30it/s]   \n",
      "scraping...: 100%|██████████| 13015/13015 [1:23:43<00:00,  2.59it/s]   \n",
      "scraping...: 100%|██████████| 8468/8468 [59:02<00:00,  2.39it/s]   \n",
      "scraping...: 100%|██████████| 8359/8359 [1:03:00<00:00,  2.21it/s]  \n",
      "scraping...: 100%|██████████| 8042/8042 [57:29<00:00,  2.33it/s]   \n"
     ]
    },
    {
     "name": "stdout",
     "output_type": "stream",
     "text": [
      "201812\n",
      "The number of IDs are: 5977\n",
      "start scraping apps with initial panel 201812\n",
      "Finished scraping app details with initial panel 201812\n",
      "Saved scarped app details with initial panel 201812\n",
      "201907\n",
      "The number of IDs are: 13144\n",
      "start scraping apps with initial panel 201907\n",
      "Finished scraping app details with initial panel 201907\n",
      "Saved scarped app details with initial panel 201907\n",
      "201908\n",
      "The number of IDs are: 13015\n",
      "start scraping apps with initial panel 201908\n",
      "Finished scraping app details with initial panel 201908\n",
      "Saved scarped app details with initial panel 201908\n",
      "201912\n",
      "The number of IDs are: 8468\n",
      "start scraping apps with initial panel 201912\n",
      "Finished scraping app details with initial panel 201912\n",
      "Saved scarped app details with initial panel 201912\n",
      "202001\n",
      "The number of IDs are: 8359\n",
      "start scraping apps with initial panel 202001\n",
      "Finished scraping app details with initial panel 202001\n",
      "Saved scarped app details with initial panel 202001\n",
      "202002\n",
      "The number of IDs are: 8042\n",
      "start scraping apps with initial panel 202002\n",
      "Finished scraping app details with initial panel 202002\n",
      "Saved scarped app details with initial panel 202002\n"
     ]
    }
   ],
   "source": [
    "initial_panels = ['201812', '201907', '201908', '201912', '202001', '202002']\n",
    "current_panel = '202102'\n",
    "\n",
    "for i in initial_panels:\n",
    "    o = open_files(initial_panel=i)\n",
    "    DF = o.open_df_to_id_for_scraping()\n",
    "    id_list = get_id_from_data_before_202009(DF)\n",
    "    print(i)\n",
    "    print('The number of IDs are:', len(id_list))\n",
    "    print('start scraping apps with initial panel', i)\n",
    "    app_details = scraping_apps_according_to_id(id_list)\n",
    "    print('Finished scraping app details with initial panel', i)\n",
    "    s = save_files(initial_panel=i, current_panel=current_panel, app_details_dict=app_details)\n",
    "    s.save_scraped_app_details()\n",
    "    print('Saved scarped app details with initial panel', i)"
   ],
   "metadata": {
    "collapsed": false,
    "pycharm": {
     "name": "#%% SCRAPING\n"
    }
   }
  },
  {
   "cell_type": "markdown",
   "source": [
    "## 2. Check the scraped data"
   ],
   "metadata": {
    "collapsed": false,
    "pycharm": {
     "name": "#%% md\n"
    }
   }
  },
  {
   "cell_type": "code",
   "execution_count": 2,
   "outputs": [
    {
     "name": "stdout",
     "output_type": "stream",
     "text": [
      "PANEL 201812\n",
      "a random app id is: com.webruli.edmdjgame\n",
      "title  :  Dj EDM Pads Game\n",
      "icon  :  https://lh3.googleusercontent.com/DnDVnhzJcI0RfbtkBRVpcv6CXpqGbKP42IDgIgrac2VlOfQCBNu4J6wKLqSA3gfFBBs\n",
      "screenshots  :  ['https://lh3.googleusercontent.com/wXvJVZPUjvCZ0NDqcfMwSbfTyl-CAVyokoZD8l5wij8PdQ8RRHiUuLca3KaPSMKK60w=w720-h310-rw', 'https://lh3.googleusercontent.com/EKEWxST_AgGberll4oxbCMeOFktM2-gjX37ZeRUeG7lDcwq71BEbm0gXfiCfLHVjFxA=w720-h310-rw', 'https://lh3.googleusercontent.com/VWBgjGMlcrJCywZhIXpCrmsS5GDiyx2yMRHETA8iQywIEyXE_x7zoLNjLIlt6QBBLuxD=w720-h310-rw', 'https://lh3.googleusercontent.com/I_bcuhPTp6cOEt1Oz23Rd6jSMVIrucMG3C8aoUURPiP5TL0dnjwXgmClTBB-2dCAXFQ=w720-h310-rw', 'https://lh3.googleusercontent.com/rNJSYE5IWmlK8Y8idAunJuqr0f1xYNgkLQdtXy9Ll_AOcPFOOTMYkRXrf_D8-dvKesQ=w720-h310-rw', 'https://lh3.googleusercontent.com/L6T_z74HEeZg0pl51ZpzBOftFuUDCDmIYEIvdfVhDv8lsG8_LbWDfBn16Jenuf04wg=w720-h310-rw']\n",
      "video  :  None\n",
      "category  :  ['GAME_MUSIC', 'FAMILY_MUSICVIDEO']\n",
      "score  :  2.7\n",
      "histogram  :  {5: None, 4: None, 3: None, 2: None, 1: None}\n",
      "reviews  :  6665\n",
      "description  :  an application that contains all the musical instruments in the professionally prepared dj edm pads game application dj pads edm game tıs\n",
      "description_html  :  b'an application that contains all the musical instruments in the professionally prepared dj edm pads game application dj pads edm game t\\xc4\\xb1s'\n",
      "recent_changes  :  None\n",
      "editors_choice  :  False\n",
      "price  :  0\n",
      "free  :  True\n",
      "iap  :  False\n",
      "developer_id  :  Webruli\n",
      "updated  :  December 16, 2019\n",
      "size  :  8.6M\n",
      "installs  :  1,000,000+\n",
      "current_version  :  4.4\n",
      "required_android_version  :  5.0 and up\n",
      "content_rating  :  ['Everyone']\n",
      "iap_range  :  None\n",
      "interactive_elements  :  None\n",
      "developer  :  Webruli\n",
      "developer_email  :  turkiyemobilgame@gmail.com\n",
      "developer_url  :  http://www.webruli.com\n",
      "developer_address  :  Osmaniye/Merkez/Çardak köyü\n",
      "app_id  :  com.webruli.edmdjgame\n",
      "url  :  https://play.google.com/store/apps/details?id=com.webruli.edmdjgame\n",
      "\n",
      "PANEL 201907\n",
      "a random app id is: com.zeptars.memesoundboardpro\n",
      "title  :  Meme Soundboard PRO 2019\n",
      "icon  :  https://lh3.googleusercontent.com/DYpCDVaIDmJY1zq4qWK4vL9fanVseeAZqv93OzqFje4-35Fw29tYQTT4UH0ls9kFDQ\n",
      "screenshots  :  ['https://lh3.googleusercontent.com/xKcjz-8CdZXFXcKy1T_kdXr5yD4gkV6MnreawkhVWGLwzdHcu2qgg_kTyHGLLg40M0Q=w720-h310-rw', 'https://lh3.googleusercontent.com/PMduihA3mGzLktht7gLteLW39wse_X__5MlZ_zhFGSv4sXQQvWiQR6ImY1WD5SHSng=w720-h310-rw', 'https://lh3.googleusercontent.com/MBNdHQtSNnQI0LFkQyVvCP8sEodXSplDLsdcLwmSO0_IsfUU9ZCwI3XT0xhqDpgHxzI=w720-h310-rw', 'https://lh3.googleusercontent.com/zhuG4IL0YziaUl45ZqoTUER_NRT2g1ux43_Fc3rLfOxwoh3VAU1IgA25u1Q9FLN5fdc=w720-h310-rw', 'https://lh3.googleusercontent.com/8jzKybixScm48QD8FOXthxEJ7TvHEbtVKc-UEFY3Ub1CTP6H4snfENaD89jPe520hQNM=w720-h310-rw', 'https://lh3.googleusercontent.com/rj8q2Nd8UO-PMp8qbXTwYwedEBvw6X9U3xk_PLCo-Iq0XSqySDnVH6S1OFPf5u82zFU=w720-h310-rw']\n",
      "video  :  None\n",
      "category  :  ['GAME_CASUAL']\n",
      "score  :  4.7\n",
      "histogram  :  {5: None, 4: None, 3: None, 2: None, 1: None}\n",
      "reviews  :  1355\n",
      "description  :  The Meme Soundboard 2018 PRO includes:\n",
      "- More Memes!\n",
      "- 150+ Total Sounds! (Now 15 Pages)\n",
      "- NO ADS or in-app purchases\n",
      "- STOP button to stop audio\n",
      "- PREVIOUS and next button\n",
      "- Faster updates with new memes (before they are released to the free version of the meme soundboard 2018).\n",
      "Recently added: ' Howard Alien '\n",
      "All of the features above are not in the free version of the app, only the pro version!\n",
      "Twitter: @MemeSoundboard\n",
      "Enjoy the dank memes!\n",
      "description_html  :  b\"The Meme Soundboard 2018 PRO includes:<br/><br/>- More Memes!<br/>- 150+ Total Sounds! (Now 15 Pages)<br/>- NO ADS or in-app purchases<br/>- STOP button to stop audio<br/>- PREVIOUS and next button<br/>- Faster updates with new memes (before they are released to the free version of the meme soundboard 2018).<br/><br/>Recently added: ' Howard Alien '<br/><br/>All of the features above are not in the free version of the app, only the pro version!<br/><br/>Twitter: @MemeSoundboard <br/><br/>Enjoy the dank memes!\"\n",
      "recent_changes  :  None\n",
      "editors_choice  :  False\n",
      "price  :  $2.49\n",
      "free  :  False\n",
      "iap  :  False\n",
      "developer_id  :  6289768667756396269\n",
      "updated  :  November 30, 2019\n",
      "size  :  27M\n",
      "installs  :  10,000+\n",
      "current_version  :  1.1.5\n",
      "required_android_version  :  4.1 and up\n",
      "content_rating  :  ['Mature 17+', 'Strong Language']\n",
      "iap_range  :  None\n",
      "interactive_elements  :  None\n",
      "developer  :  Zeptars\n",
      "developer_email  :  contact@zeptars.com\n",
      "developer_url  :  http://uproargames.com\n",
      "developer_address  :  Humberside\n",
      "East Yorkshire\n",
      "United Kingdom\n",
      "app_id  :  com.zeptars.memesoundboardpro\n",
      "url  :  https://play.google.com/store/apps/details?id=com.zeptars.memesoundboardpro\n",
      "\n",
      "PANEL 201908\n",
      "a random app id is: vn.app.mydownloader\n",
      "title  :  Download Video Free\n",
      "icon  :  https://lh3.googleusercontent.com/QNaW8c4NLe4wat8u8POP1og3tjBlcwR7j_o9fF4qFONPIqi1y0OH4W5iaVW2Xl4JlQ\n",
      "screenshots  :  ['https://lh3.googleusercontent.com/pCnsjejLerFds81RkHHAlvEjKy0XwO7iRfe2Mx-GGxnrgq3xzmkLDklUoHPVy47q3A=w720-h310-rw', 'https://lh3.googleusercontent.com/dxQYWpaLOp2RjxVYFXZrCLDpmBFDcI9xrEO58Z3sDC3n5tgqfy2Fcr-Xq4f8CnChpkWu=w720-h310-rw', 'https://lh3.googleusercontent.com/Hp8vm-7sJ_EExiUoJ_vifTPmURfY553i4HN9CC4ZgBGaZerf1MZ3mTUaj35CNEqbWq1A=w720-h310-rw', 'https://lh3.googleusercontent.com/7IC4eVicGSaZi12gXABV9B_q-rko6GvBU3OjJkpd-NeHch8MlIv9QqlsygnxWYLHkg=w720-h310-rw', 'https://lh3.googleusercontent.com/GW2Su9o9ZsYz7GYIUQG8ZK898cbhJkUtqGEScpdSB9amYZXEfY-V2wTVKJpHT5196Q=w720-h310-rw', 'https://lh3.googleusercontent.com/4R2wFp2TBEHf7zJuXI2znXOIC0uOL1SFrVS566M11xcWBftI1KbeGFYejOvvqyGM-8cf=w720-h310-rw', 'https://lh3.googleusercontent.com/CMcqr6x4qQdESC7-MV3T5rCBMye3BogwVwCtGrvg-kInrrBYfUsLiotxBh_ltStn89UC=w720-h310-rw', 'https://lh3.googleusercontent.com/ETMFkkmu1aKVLlhapj6sMP_Am905URCqow4iR3nQPrjVkbR7QtzLTP4a8vS1Vk1nU2U=w720-h310-rw', 'https://lh3.googleusercontent.com/FqUP22H9rztUe8bRP_S7yFLAmOOdJHxryR6iAdU4IhOiZ6EcOHroTNi5uG663EihBA=w720-h310-rw', 'https://lh3.googleusercontent.com/BW1q6PYb3DLbFbAf8DgdGoEpgFMiU6SOmnvoeHC30D1XkfXfhdCMtDcw4YVzeqJounvH=w720-h310-rw', 'https://lh3.googleusercontent.com/6eCZ_XNtfmSOwLJ-gjDur5SpSbLR5P3Vm86ioYoVSNu8RL8XevZgG88KxP93Y9_YeAM=w720-h310-rw', 'https://lh3.googleusercontent.com/U0TUQNsEVTEIeTZkI_59inXMlbH6azP93bAbLKtQjlsgpriICXgRVEH3qOqjdgYwr0A=w720-h310-rw', 'https://lh3.googleusercontent.com/OttfDSrarpFkpjRYWXKdEc73QGNb8bYP2omeLnL8o6_27NlViQ8jr-9UfAlZ90gpYBk=w720-h310-rw', 'https://lh3.googleusercontent.com/eby32q-DmrQtAPudWVC0MDmFiuCwzPV-0UqPspwOZCrORjv_7Hg60AA2SBBb9Qp4nQ=w720-h310-rw', 'https://lh3.googleusercontent.com/AUAdhOIHfhtzlPs8kc0PrRJ4xf9tOeZp0exKcoz3KgQns1X__jeIWelu51fKqnJUdxr2=w720-h310-rw']\n",
      "video  :  None\n",
      "category  :  ['ENTERTAINMENT']\n",
      "score  :  4.2\n",
      "histogram  :  {5: None, 4: None, 3: None, 2: None, 1: None}\n",
      "reviews  :  44697\n",
      "description  :  My download is best app free to download your favorite videos !\n",
      "Quickly and easily download, save and protect your videos from the web.\n",
      "How to use:\n",
      "- Use the built-in Browser to visite your favorite web sites\n",
      "- Click on video and download\n",
      "- Open the downloaded files from the left menu\n",
      "- Protected your downloaded video by password\n",
      "Note: - Turn on Screen Rotation to see fullscreen Video.\n",
      "*YOU CAN'T DOWNLOAD VIDEOS FROM YOUTUBE DUE TO THEIR TERMS OF SERVICE.\n",
      "Tag: download video, tai video\n",
      "description_html  :  b\"My download is best app free to download your favorite videos !<br/>Quickly and easily download, save and protect your videos from the web.<br/><br/>How to use:<br/><br/>- Use the built-in Browser to visite your favorite web sites<br/>- Click on video and download<br/>- Open the downloaded files from the left menu<br/>- Protected your downloaded video by password<br/><br/><b>Note: - Turn on Screen Rotation to see fullscreen Video.</b><br/><br/>*YOU CAN'T DOWNLOAD VIDEOS FROM YOUTUBE DUE TO THEIR TERMS OF SERVICE.<br/><br/>Tag: download video, tai video\"\n",
      "recent_changes  :  None\n",
      "editors_choice  :  False\n",
      "price  :  0\n",
      "free  :  True\n",
      "iap  :  True\n",
      "developer_id  :  Long+Do\n",
      "updated  :  April 3, 2018\n",
      "size  :  6.2M\n",
      "installs  :  1,000,000+\n",
      "current_version  :  3.5.5\n",
      "required_android_version  :  4.1 and up\n",
      "content_rating  :  ['Everyone']\n",
      "iap_range  :  ('$0.99', '$16.99')\n",
      "interactive_elements  :  None\n",
      "developer  :  Long Do\n",
      "developer_email  :  info.chiasegame@gmail.com\n",
      "developer_url  :  http://chiasegame.vn\n",
      "developer_address  :  Thanh Xuan, Ha Noi, Viet Nam\n",
      "app_id  :  vn.app.mydownloader\n",
      "url  :  https://play.google.com/store/apps/details?id=vn.app.mydownloader\n",
      "\n"
     ]
    }
   ],
   "source": [
    "current_panel = '201912'\n",
    "tracking_panels = ['201812', '201907', '201908']\n",
    "\n",
    "o = open_files(current_panel=current_panel, tracking_panels=tracking_panels)\n",
    "app_details = o.open_app_detail_dict()\n",
    "A = app_detail_dicts(app_details)\n",
    "A.get_a_glimpse()"
   ],
   "metadata": {
    "collapsed": false,
    "pycharm": {
     "name": "#%%\n"
    }
   }
  },
  {
   "cell_type": "markdown",
   "source": [
    "## 3. Convert"
   ],
   "metadata": {
    "collapsed": false,
    "pycharm": {
     "name": "#%% md\n"
    }
   }
  },
  {
   "cell_type": "code",
   "execution_count": 16,
   "outputs": [
    {
     "name": "stdout",
     "output_type": "stream",
     "text": [
      "panel data 201812 has number of rows:\n",
      "4278\n",
      "panel data 201907 has number of rows:\n",
      "10576\n",
      "panel data 201908 has number of rows:\n",
      "10537\n",
      "panel data 201912 has number of rows:\n",
      "7058\n",
      "panel data 202001 has number of rows:\n",
      "7027\n",
      "panel data 202002 has number of rows:\n",
      "6860\n"
     ]
    }
   ],
   "source": [
    "# key represents initial panel, value represents panels (including the initial) tracking the initial panel\n",
    "panels_track = {\n",
    "'201812':['201812', '201912', '202001', '202003', '202004', '202009', '202010',\n",
    "          '202011', '202012', '202101', '202102'],\n",
    "'201907':['201907', '201908', '201909', '201912', '202001', '202003', '202004',\n",
    "          '202009', '202010', '202011', '202012', '202101', '202102'],\n",
    "'201908':['201908', '201912', '202001', '202003', '202004', '202009', '202010',\n",
    "          '202011', '202012', '202101', '202102'],\n",
    "'201912':['201912', '202001', '202003', '202004', '202009', '202010', '202011',\n",
    "          '202012', '202101', '202102'],\n",
    "'202001':['202001', '202003', '202004', '202009', '202010', '202011', '202012',\n",
    "          '202101', '202102'],\n",
    "'202002':['202002', '202004', '202009', '202010', '202011', '202012', '202101',\n",
    "          '202102']}\n",
    "\n",
    "for initial_panel, all_panels in panels_track.items():\n",
    "    o = open_files(initial_panel=initial_panel,\n",
    "                   all_panels=all_panels)\n",
    "    app_details = o.open_initial_panel_with_its_tracking_panels()\n",
    "    A = app_detail_dicts(d=app_details, all_panels=all_panels)\n",
    "    merged_df = A.merge_panels_into_single_df()\n",
    "    save = save_files(initial_panel=initial_panel, merged_df=merged_df)\n",
    "    save.save_merged_df()\n",
    "    print('panel data', initial_panel, 'has number of rows:')\n",
    "    DF = merged_panel_df(merged_df=merged_df)\n",
    "    DF.print_num_rows()"
   ],
   "metadata": {
    "collapsed": false,
    "pycharm": {
     "name": "#%%\n"
    }
   }
  },
  {
   "cell_type": "markdown",
   "source": [
    "## 4. Descriptive Stats"
   ],
   "metadata": {
    "collapsed": false
   }
  },
  {
   "cell_type": "code",
   "execution_count": 3,
   "outputs": [
    {
     "name": "stdout",
     "output_type": "stream",
     "text": [
      "['201907', '201908', '201909', '201912', '202001', '202003', '202004', '202009', '202010', '202011', '202012', '202101', '202102']\n",
      "201907\n"
     ]
    }
   ],
   "source": [
    "# experiment cell for summary_statistics class\n",
    "%run -i '2_summary_stats_visualization_new.py'\n",
    "\n",
    "o = open_files(initial_panel='201907')\n",
    "merged_df = o.open_merged_df()\n",
    "\n",
    "DF1 = line_graphs(merged_df=merged_df,\n",
    "                  all_panels=['201907', '201908', '201909', '201912',\n",
    "                              '202001', '202003', '202004', '202009',\n",
    "                              '202010', '202011', '202012', '202101', '202102'],\n",
    "                  interval_start='201907',\n",
    "                  interval_end='202102')\n",
    "print(DF1.all_panels)\n",
    "print(DF1.interval_start)"
   ],
   "metadata": {
    "collapsed": false,
    "pycharm": {
     "name": "#%%\n"
    }
   }
  },
  {
   "cell_type": "code",
   "execution_count": 56,
   "outputs": [
    {
     "name": "stdout",
     "output_type": "stream",
     "text": [
      "total number of columns contain missing value above 0.3 is 6\n",
      "out of total number of columns 474\n",
      "[('inAppProductPrice_202009', 0.4831694402420575), ('inAppProductPrice_202010', 0.48449319213313163), ('inAppProductPrice_202011', 0.4854387291981846), ('inAppProductPrice_202012', 0.48969364599092285), ('inAppProductPrice_202101', 0.4917738275340393), ('inAppProductPrice_202102', 0.4937594553706505)]\n",
      "Before dropping we have 474 columns\n",
      "After dropping we have 468 columns\n",
      "['minInstalls_201907', 'minInstalls_201908', 'minInstalls_201909', 'minInstalls_201912', 'minInstalls_202001', 'minInstalls_202003', 'minInstalls_202004', 'minInstalls_202009', 'minInstalls_202010', 'minInstalls_202011', 'minInstalls_202012', 'minInstalls_202101', 'minInstalls_202102']\n",
      "Before keeping we have 468 columns\n",
      "After keeping we have 13 columns\n",
      "number of apps with at least 2 consecutive missing panels for minInstalls are 339\n",
      "out of 10576 apps.\n",
      "Before dropping we have 10576 rows\n",
      "After dropping we have 10237 rows\n",
      "(10237, 468)\n",
      "(10237, 468)\n"
     ]
    }
   ],
   "source": [
    "# experiment cell for missing imputation class\n",
    "%run -i '2_summary_stats_visualization_new.py'\n",
    "\n",
    "o = open_files(initial_panel='201907')\n",
    "merged_df = o.open_merged_df()\n",
    "all_panels = ['201907', '201908', '201909', '201912',\n",
    "                              '202001', '202003', '202004', '202009',\n",
    "                              '202010', '202011', '202012', '202101', '202102']\n",
    "DF1 = impute_missing(merged_df=merged_df,\n",
    "                  all_panels=all_panels,\n",
    "                     missing_ratio = 0.3)\n",
    "\n",
    "\n",
    "l1, l2 = DF1.cols_missing_ratio()\n",
    "DF2 = DF1.drop_cols(list_of_col_names=l2)\n",
    "# Now create a new class instance with DF2\n",
    "new_class_df = impute_missing(merged_df=DF2,\n",
    "                  all_panels=all_panels,\n",
    "                     missing_ratio = 0.3)\n",
    "A, l3 = new_class_df.check_apps_with_consecutive_missing_panels(var='minInstalls',\n",
    "                                                         number_consec_panels_missing=2)\n",
    "DF3 = new_class_df.drop_rows(list_of_row_labels=l3)\n",
    "print(DF3.shape)\n",
    "new_class_df = impute_missing(merged_df=DF3,\n",
    "                  all_panels=all_panels,\n",
    "                     missing_ratio = 0.3)\n",
    "print(new_class_df.df.shape)"
   ],
   "metadata": {
    "collapsed": false,
    "pycharm": {
     "name": "#%%\n"
    }
   }
  },
  {
   "cell_type": "markdown",
   "source": [
    "cols with too many missing values that you must drop:\n",
    "inAppProductPrice_202009-202102 (the only columns that have missing ratio above 0.3)\n",
    "\n",
    "rows (appids) with too many consecutively missing panels in important variables (etc minInstalls)\n",
    "should be dropped. I found appids with at least 2 consecutively missing minInstalls are just 270 out of\n",
    "10576 total apps, so just drop them.\n",
    "\n",
    "sequence first drop columns then drop rows."
   ],
   "metadata": {
    "collapsed": false,
    "pycharm": {
     "name": "#%% md\n"
    }
   }
  },
  {
   "cell_type": "code",
   "execution_count": 57,
   "outputs": [
    {
     "name": "stdout",
     "output_type": "stream",
     "text": [
      "['minInstalls_201907', 'minInstalls_201908', 'minInstalls_201909', 'minInstalls_201912', 'minInstalls_202001', 'minInstalls_202003', 'minInstalls_202004', 'minInstalls_202009', 'minInstalls_202010', 'minInstalls_202011', 'minInstalls_202012', 'minInstalls_202101', 'minInstalls_202102']\n",
      "Before keeping we have 468 columns\n",
      "After keeping we have 13 columns\n",
      "(0, 13)\n"
     ]
    }
   ],
   "source": [
    "%run -i '2_summary_stats_visualization_new.py'\n",
    "DF4 = new_class_df.impute_the_missing_panel_according_to_adjacent_panel(var='minInstalls')\n",
    "DF5 = DF4[DF4.isnull().any(axis=1)]\n",
    "print(DF5.shape)\n",
    "\n",
    "\n",
    "\n",
    "\n",
    "\n",
    "\n",
    "\n",
    "\n"
   ],
   "metadata": {
    "collapsed": false,
    "pycharm": {
     "name": "#%%\n"
    }
   }
  },
  {
   "cell_type": "code",
   "execution_count": null,
   "outputs": [],
   "source": [],
   "metadata": {
    "collapsed": false,
    "pycharm": {
     "name": "#%%\n"
    }
   }
  }
 ],
 "metadata": {
  "kernelspec": {
   "display_name": "Python 3",
   "language": "python",
   "name": "python3"
  },
  "language_info": {
   "codemirror_mode": {
    "name": "ipython",
    "version": 2
   },
   "file_extension": ".py",
   "mimetype": "text/x-python",
   "name": "python",
   "nbconvert_exporter": "python",
   "pygments_lexer": "ipython2",
   "version": "2.7.6"
  }
 },
 "nbformat": 4,
 "nbformat_minor": 0
}