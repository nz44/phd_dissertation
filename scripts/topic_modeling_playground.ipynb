{
 "cells": [
  {
   "cell_type": "markdown",
   "source": [
    "Nov 19, 2020\n",
    "Please refer to link\n",
    "http://derekgreene.com/slides/topic-modelling-with-scikitlearn.pdf\n",
    "\n",
    "1. take out the description of one app as document\n"
   ],
   "metadata": {
    "collapsed": false
   }
  },
  {
   "cell_type": "code",
   "execution_count": 1,
   "outputs": [
    {
     "data": {
      "text/plain": "['penup',\n 'creative',\n 'sns',\n 'base',\n 'pen',\n 'generate',\n 'image',\n 'share',\n 'imagination',\n 'global',\n 'creative',\n 'minds.\\\\n[main',\n 'features]\\\\n-',\n 'drawing',\n 'draw',\n 'easily',\n 'comfortably\\\\n-',\n 'coloring',\n 'color',\n 'beautiful',\n 'sketches\\\\n-',\n 'live',\n 'draw',\n 'foster',\n 'draw',\n 'skill',\n 'set',\n 'follow',\n 'draw',\n 'video\\\\n-',\n 'photo',\n 'drawing',\n 'draw',\n 'photos\\\\n-',\n 'challenge',\n 'challenge',\n 'new',\n 'topics\\\\n-',\n 'popular',\n 'enjoy',\n 'real',\n 'time',\n 'popular',\n 'artwork',\n 'share',\n 'drawings\\\\n-',\n 'drawing',\n 'comment',\n 'express',\n 'drawing',\n 'fun',\n 'manner',\n 'interact',\n 'another\\\\n-------------------------------------------------regarde',\n 'app',\n 'access',\n 'privilege--------------------------------------\\\\nthe',\n 'follow',\n 'permission',\n 'require',\n 'app',\n 'service',\n 'optional',\n 'permission',\n 'default',\n 'functionality',\n 'service',\n 'turn',\n 'allowed.\\\\n[mandatory',\n 'access',\n 'privilege]\\\\n-',\n 'contact',\n 'account',\n 'information',\n 'sign',\n 'penup',\n 'samsung',\n 'account',\n 'facebook',\n 'google',\n 'twitt',\n 'account\\\\n[optional',\n 'access',\n 'privilege]\\\\n-',\n 'storage',\n 'upload',\n 'drawing',\n 'penup',\n 'download',\n 'drawing',\n 'penup\\\\nif',\n 'system',\n 'software',\n 'version',\n 'low',\n 'android',\n '6.0',\n 'update',\n 'software',\n 'configure',\n 'app',\n 'permissions.\\\\npreviously',\n 'allow',\n 'permission',\n 'reset',\n 'app',\n 'menu',\n 'device',\n 'setting',\n 'software',\n 'update']"
     },
     "execution_count": 1,
     "metadata": {},
     "output_type": "execute_result"
    }
   ],
   "source": [
    "import pandas as pd\n",
    "%run -i '0_paths.py'\n",
    "initial_panel = '201908'\n",
    "folder_name = initial_panel + '_PANEL_DF'\n",
    "f_name = 'description_converted_to_spacy_tokens.pkl'\n",
    "q = input_path / '__PANELS__' / folder_name / f_name\n",
    "TDF = pd.read_pickle(q)\n",
    "TDF.head(n=10)\n",
    "documents = TDF.iloc[3, 1]\n",
    "documents"
   ],
   "metadata": {
    "collapsed": false,
    "pycharm": {
     "name": "#%%\n"
    }
   }
  },
  {
   "cell_type": "code",
   "execution_count": 2,
   "outputs": [],
   "source": [
    "# please refer to topic_modeling.pdf from dissertation/topic_modeling folder\n",
    "# Our output, A, is a sparse NumPy 2D array with rows corresponding to documents and\n",
    "# columns corresponding to terms.\n",
    "from sklearn.feature_extraction.text import CountVectorizer\n",
    "vectorizer_A = CountVectorizer()\n",
    "A = vectorizer_A.fit_transform(documents)\n",
    "\n",
    "from sklearn.feature_extraction.text import TfidfVectorizer\n",
    "vectorizer_B = TfidfVectorizer()\n",
    "B = vectorizer_B.fit_transform(documents)"
   ],
   "metadata": {
    "collapsed": false,
    "pycharm": {
     "name": "#%%\n"
    }
   }
  },
  {
   "cell_type": "code",
   "execution_count": 5,
   "outputs": [
    {
     "name": "stdout",
     "output_type": "stream",
     "text": [
      "Vocabulary A has 84 distinct terms\n",
      "['access', 'account', 'allow', 'allowed', 'android', 'another', 'app', 'artwork', 'base', 'beautiful', 'challenge', 'color', 'coloring', 'comfortably', 'comment', 'configure', 'contact', 'creative', 'default', 'device', 'download', 'draw', 'drawing', 'drawings', 'easily', 'enjoy', 'express', 'facebook', 'features', 'follow', 'foster', 'fun', 'functionality', 'generate', 'global', 'google', 'image', 'imagination', 'information', 'interact', 'live', 'low', 'main', 'mandatory', 'manner', 'menu', 'minds', 'new', 'nif', 'npreviously', 'nthe', 'optional', 'pen', 'penup', 'permission', 'permissions', 'photo', 'photos', 'popular', 'privilege', 'real', 'regarde', 'require', 'reset', 'samsung', 'service', 'set', 'setting', 'share', 'sign', 'sketches', 'skill', 'sns', 'software', 'storage', 'system', 'time', 'topics', 'turn', 'twitt', 'update', 'upload', 'version', 'video']\n",
      "Vocabulary B has 84 distinct terms\n",
      "['access', 'account', 'allow', 'allowed', 'android', 'another', 'app', 'artwork', 'base', 'beautiful', 'challenge', 'color', 'coloring', 'comfortably', 'comment', 'configure', 'contact', 'creative', 'default', 'device', 'download', 'draw', 'drawing', 'drawings', 'easily', 'enjoy', 'express', 'facebook', 'features', 'follow', 'foster', 'fun', 'functionality', 'generate', 'global', 'google', 'image', 'imagination', 'information', 'interact', 'live', 'low', 'main', 'mandatory', 'manner', 'menu', 'minds', 'new', 'nif', 'npreviously', 'nthe', 'optional', 'pen', 'penup', 'permission', 'permissions', 'photo', 'photos', 'popular', 'privilege', 'real', 'regarde', 'require', 'reset', 'samsung', 'service', 'set', 'setting', 'share', 'sign', 'sketches', 'skill', 'sns', 'software', 'storage', 'system', 'time', 'topics', 'turn', 'twitt', 'update', 'upload', 'version', 'video']\n"
     ]
    }
   ],
   "source": [
    "terms_A = vectorizer_A.get_feature_names()\n",
    "print(\"Vocabulary A has %d distinct terms\" % len(terms_A))\n",
    "print(terms_A)\n",
    "\n",
    "terms_B = vectorizer_B.get_feature_names()\n",
    "print(\"Vocabulary B has %d distinct terms\" % len(terms_B))\n",
    "print(terms_B)"
   ],
   "metadata": {
    "collapsed": false,
    "pycharm": {
     "name": "#%%\n"
    }
   }
  },
  {
   "cell_type": "code",
   "execution_count": 6,
   "outputs": [
    {
     "name": "stdout",
     "output_type": "stream",
     "text": [
      "this is from A, count vectorizer\n",
      "  (0, 53)\t1\n",
      "  (1, 17)\t1\n",
      "  (2, 72)\t1\n",
      "  (3, 8)\t1\n",
      "  (4, 52)\t1\n",
      "  (5, 33)\t1\n",
      "  (6, 36)\t1\n",
      "  (7, 68)\t1\n",
      "  (8, 37)\t1\n",
      "  (9, 34)\t1\n",
      "  (10, 17)\t1\n",
      "  (11, 46)\t1\n",
      "  (11, 42)\t1\n",
      "  (12, 28)\t1\n",
      "  (13, 22)\t1\n",
      "  (14, 21)\t1\n",
      "  (15, 24)\t1\n",
      "  (16, 13)\t1\n",
      "  (17, 12)\t1\n",
      "  (18, 11)\t1\n",
      "  (19, 9)\t1\n",
      "  (20, 70)\t1\n",
      "  (21, 40)\t1\n",
      "  (22, 21)\t1\n",
      "  (23, 30)\t1\n",
      "  :\t:\n",
      "  (87, 53)\t1\n",
      "  (88, 20)\t1\n",
      "  (89, 22)\t1\n",
      "  (90, 53)\t1\n",
      "  (90, 48)\t1\n",
      "  (91, 75)\t1\n",
      "  (92, 73)\t1\n",
      "  (93, 82)\t1\n",
      "  (94, 41)\t1\n",
      "  (95, 4)\t1\n",
      "  (97, 80)\t1\n",
      "  (98, 73)\t1\n",
      "  (99, 15)\t1\n",
      "  (100, 6)\t1\n",
      "  (101, 55)\t1\n",
      "  (101, 49)\t1\n",
      "  (102, 2)\t1\n",
      "  (103, 54)\t1\n",
      "  (104, 63)\t1\n",
      "  (105, 6)\t1\n",
      "  (106, 45)\t1\n",
      "  (107, 19)\t1\n",
      "  (108, 67)\t1\n",
      "  (109, 73)\t1\n",
      "  (110, 80)\t1\n",
      "this is from B, tfid vectorizer\n",
      "  (0, 53)\t1.0\n",
      "  (1, 17)\t1.0\n",
      "  (2, 72)\t1.0\n",
      "  (3, 8)\t1.0\n",
      "  (4, 52)\t1.0\n",
      "  (5, 33)\t1.0\n",
      "  (6, 36)\t1.0\n",
      "  (7, 68)\t1.0\n",
      "  (8, 37)\t1.0\n",
      "  (9, 34)\t1.0\n",
      "  (10, 17)\t1.0\n",
      "  (11, 42)\t0.7071067811865476\n",
      "  (11, 46)\t0.7071067811865476\n",
      "  (12, 28)\t1.0\n",
      "  (13, 22)\t1.0\n",
      "  (14, 21)\t1.0\n",
      "  (15, 24)\t1.0\n",
      "  (16, 13)\t1.0\n",
      "  (17, 12)\t1.0\n",
      "  (18, 11)\t1.0\n",
      "  (19, 9)\t1.0\n",
      "  (20, 70)\t1.0\n",
      "  (21, 40)\t1.0\n",
      "  (22, 21)\t1.0\n",
      "  (23, 30)\t1.0\n",
      "  :\t:\n",
      "  (87, 53)\t1.0\n",
      "  (88, 20)\t1.0\n",
      "  (89, 22)\t1.0\n",
      "  (90, 48)\t0.7741528380418042\n",
      "  (90, 53)\t0.632998723025426\n",
      "  (91, 75)\t1.0\n",
      "  (92, 73)\t1.0\n",
      "  (93, 82)\t1.0\n",
      "  (94, 41)\t1.0\n",
      "  (95, 4)\t1.0\n",
      "  (97, 80)\t1.0\n",
      "  (98, 73)\t1.0\n",
      "  (99, 15)\t1.0\n",
      "  (100, 6)\t1.0\n",
      "  (101, 49)\t0.7071067811865476\n",
      "  (101, 55)\t0.7071067811865476\n",
      "  (102, 2)\t1.0\n",
      "  (103, 54)\t1.0\n",
      "  (104, 63)\t1.0\n",
      "  (105, 6)\t1.0\n",
      "  (106, 45)\t1.0\n",
      "  (107, 19)\t1.0\n",
      "  (108, 67)\t1.0\n",
      "  (109, 73)\t1.0\n",
      "  (110, 80)\t1.0\n"
     ]
    }
   ],
   "source": [
    "print('this is from A, count vectorizer')\n",
    "print(A)\n",
    "print('this is from B, tfid vectorizer')\n",
    "print(B)"
   ],
   "metadata": {
    "collapsed": false,
    "pycharm": {
     "name": "#%%\n"
    }
   }
  },
  {
   "cell_type": "markdown",
   "source": [
    "look at the terms with the highest TF-IDF scores across all documents\n",
    "in the document-term matrix.\n",
    "We can define such a function as follows:"
   ],
   "metadata": {
    "collapsed": false,
    "pycharm": {
     "name": "#%% md\n"
    }
   }
  },
  {
   "cell_type": "code",
   "execution_count": 7,
   "outputs": [
    {
     "name": "stdout",
     "output_type": "stream",
     "text": [
      "01. drawing (6.00)\n",
      "02. draw (5.00)\n",
      "03. app (4.00)\n",
      "04. penup (3.63)\n",
      "05. access (3.00)\n",
      "06. permission (3.00)\n",
      "07. software (3.00)\n",
      "08. account (2.68)\n",
      "09. privilege (2.65)\n",
      "10. challenge (2.00)\n",
      "11. creative (2.00)\n",
      "12. follow (2.00)\n",
      "13. popular (2.00)\n",
      "14. service (2.00)\n",
      "15. share (2.00)\n",
      "16. update (2.00)\n",
      "17. optional (1.73)\n",
      "18. allow (1.00)\n",
      "19. android (1.00)\n",
      "20. artwork (1.00)\n"
     ]
    }
   ],
   "source": [
    "import operator\n",
    "def rank_terms( A, terms_A ):\n",
    "    # get the sums over each column\n",
    "    sums = A.sum(axis=0)\n",
    "    # map weights to the terms\n",
    "    weights = {}\n",
    "    for col, term in enumerate(terms_A):\n",
    "        weights[term] = sums[0,col]\n",
    "    # rank the terms by their weight over all documents\n",
    "    return sorted(weights.items(), key=operator.itemgetter(1), reverse=True)\n",
    "\n",
    "\n",
    "ranking = rank_terms( B, terms_B )\n",
    "for i, pair in enumerate( ranking[0:20] ):\n",
    "    print( \"%02d. %s (%.2f)\" % ( i+1, pair[0], pair[1] ) )"
   ],
   "metadata": {
    "collapsed": false,
    "pycharm": {
     "name": "#%%\n"
    }
   }
  },
  {
   "cell_type": "code",
   "execution_count": 9,
   "outputs": [],
   "source": [
    "# interesting way to save several things at the same time\n",
    "import pickle\n",
    "folder_name = initial_panel + '_PANEL_DF'\n",
    "f_name = 'playground_app_description_tfid_vectorized.pkl'\n",
    "q = input_path / '__PANELS__' / folder_name / f_name\n",
    "with open(q, \"wb\") as f:\n",
    "    pickle.dump((B,terms_B,documents), f)\n",
    "\n",
    "with open(q, \"rb\") as f:\n",
    "    B, terms_B, documents = pickle.load(f)"
   ],
   "metadata": {
    "collapsed": false,
    "pycharm": {
     "name": "#%%\n"
    }
   }
  },
  {
   "cell_type": "markdown",
   "source": [
    "https://github.com/derekgreene/topic-model-tutorial/blob/master/2%20-%20NMF%20Topic%20Models.ipynb\n",
    "\n",
    "The key input parameter to NMF is the number of topics to generate k. For the moment,\n",
    "we will pre-specify a guessed value, for demonstration purposes."
   ],
   "metadata": {
    "collapsed": false,
    "pycharm": {
     "name": "#%% md\n"
    }
   }
  },
  {
   "cell_type": "code",
   "execution_count": 8,
   "outputs": [],
   "source": [
    "k = 5\n",
    "# create the model\n",
    "from sklearn import decomposition\n",
    "model = decomposition.NMF( init=\"nndsvd\", n_components=k )\n",
    "# apply the model and extract the two factor matrices\n",
    "W = model.fit_transform( B )\n",
    "H = model.components_"
   ],
   "metadata": {
    "collapsed": false,
    "pycharm": {
     "name": "#%%\n"
    }
   }
  },
  {
   "cell_type": "markdown",
   "source": [
    "NMF produces to factor matrices as its output: W and H.\n",
    "\n",
    "The W factor contains the document membership weights relative to\n",
    "each of the k topics. Each row corresponds to a single document,\n",
    "and each column correspond to a topic.\n",
    "(我觉得这里的 document 指的是一个单词)"
   ],
   "metadata": {
    "collapsed": false,
    "pycharm": {
     "name": "#%% md\n"
    }
   }
  },
  {
   "cell_type": "code",
   "execution_count": 9,
   "outputs": [
    {
     "data": {
      "text/plain": "(111, 5)"
     },
     "execution_count": 9,
     "metadata": {},
     "output_type": "execute_result"
    }
   ],
   "source": [
    "W.shape"
   ],
   "metadata": {
    "collapsed": false,
    "pycharm": {
     "name": "#%%\n"
    }
   }
  },
  {
   "cell_type": "markdown",
   "source": [
    "we can see it is strongly associated with one (the fourth) topic.\n",
    "However, each document can\n",
    "be potentially associated with multiple topics to different degrees."
   ],
   "metadata": {
    "collapsed": false,
    "pycharm": {
     "name": "#%% md\n"
    }
   }
  },
  {
   "cell_type": "code",
   "execution_count": 10,
   "outputs": [
    {
     "data": {
      "text/plain": "array([0.  , 0.  , 0.  , 0.72, 0.  ])"
     },
     "execution_count": 10,
     "metadata": {},
     "output_type": "execute_result"
    }
   ],
   "source": [
    "W[0,:].round(2)"
   ],
   "metadata": {
    "collapsed": false,
    "pycharm": {
     "name": "#%%\n"
    }
   }
  },
  {
   "cell_type": "markdown",
   "source": [
    "The H factor contains the term weights relative to each of the k topics.\n",
    "In this case, each row corresponds to a topic,\n",
    "and each column corresponds to a unique term in the corpus vocabulary."
   ],
   "metadata": {
    "collapsed": false,
    "pycharm": {
     "name": "#%% md\n"
    }
   }
  },
  {
   "cell_type": "code",
   "execution_count": 11,
   "outputs": [
    {
     "data": {
      "text/plain": "(5, 84)"
     },
     "execution_count": 11,
     "metadata": {},
     "output_type": "execute_result"
    }
   ],
   "source": [
    "H.shape"
   ],
   "metadata": {
    "collapsed": false,
    "pycharm": {
     "name": "#%%\n"
    }
   }
  },
  {
   "cell_type": "markdown",
   "source": [
    "check whether a term is associated with a single topic or multiple topics."
   ],
   "metadata": {
    "collapsed": false,
    "pycharm": {
     "name": "#%% md\n"
    }
   }
  },
  {
   "cell_type": "code",
   "execution_count": 12,
   "outputs": [
    {
     "name": "stdout",
     "output_type": "stream",
     "text": [
      "['access', 'account', 'allow', 'allowed', 'android', 'another', 'app', 'artwork', 'base', 'beautiful', 'challenge', 'color', 'coloring', 'comfortably', 'comment', 'configure', 'contact', 'creative', 'default', 'device', 'download', 'draw', 'drawing', 'drawings', 'easily', 'enjoy', 'express', 'facebook', 'features', 'follow', 'foster', 'fun', 'functionality', 'generate', 'global', 'google', 'image', 'imagination', 'information', 'interact', 'live', 'low', 'main', 'mandatory', 'manner', 'menu', 'minds', 'new', 'nif', 'npreviously', 'nthe', 'optional', 'pen', 'penup', 'permission', 'permissions', 'photo', 'photos', 'popular', 'privilege', 'real', 'regarde', 'require', 'reset', 'samsung', 'service', 'set', 'setting', 'share', 'sign', 'sketches', 'skill', 'sns', 'software', 'storage', 'system', 'time', 'topics', 'turn', 'twitt', 'update', 'upload', 'version', 'video']\n",
      "[0.    0.    1.414 0.    0.   ]\n",
      "[0.    1.495 0.    0.    0.   ]\n"
     ]
    }
   ],
   "source": [
    "print(terms_B)\n",
    "term_index = terms_B.index('app')\n",
    "print(H[:,term_index].round(3))\n",
    "term_index = terms_B.index('draw')\n",
    "print(H[:,term_index].round(3))"
   ],
   "metadata": {
    "collapsed": false,
    "pycharm": {
     "name": "#%%\n"
    }
   }
  },
  {
   "cell_type": "markdown",
   "source": [
    "The top ranked terms from the H factor for each topic can give us an insight\n",
    "into the content of that topic. This is often called the topic descriptor.\n",
    "Let's define a function that extracts the descriptor for a specified topic:"
   ],
   "metadata": {
    "collapsed": false,
    "pycharm": {
     "name": "#%% md\n"
    }
   }
  },
  {
   "cell_type": "code",
   "execution_count": 13,
   "outputs": [],
   "source": [
    "import numpy as np\n",
    "def get_descriptor( terms, H, topic_index, top ):\n",
    "    # reverse sort the values to sort the indices\n",
    "    top_indices = np.argsort( H[topic_index,:] )[::-1]\n",
    "    # now get the terms corresponding to the top-ranked indices\n",
    "    top_terms = []\n",
    "    for term_index in top_indices[0:top]:\n",
    "        top_terms.append( terms[term_index] )\n",
    "    return top_terms\n"
   ],
   "metadata": {
    "collapsed": false,
    "pycharm": {
     "name": "#%%\n"
    }
   }
  },
  {
   "cell_type": "code",
   "execution_count": 14,
   "outputs": [
    {
     "name": "stdout",
     "output_type": "stream",
     "text": [
      "Topic 01: drawing, account, optional\n",
      "Topic 02: draw, account, optional\n",
      "Topic 03: app, account, optional\n",
      "Topic 04: penup, nif, software\n",
      "Topic 05: access, permission, account\n"
     ]
    }
   ],
   "source": [
    "descriptors = []\n",
    "for topic_index in range(k):\n",
    "    descriptors.append( get_descriptor( terms_B, H, topic_index, 3 ) )\n",
    "    str_descriptor = \", \".join( descriptors[topic_index] )\n",
    "    print(\"Topic %02d: %s\" % ( topic_index+1, str_descriptor ) )"
   ],
   "metadata": {
    "collapsed": false,
    "pycharm": {
     "name": "#%%\n"
    }
   }
  },
  {
   "cell_type": "markdown",
   "source": [
    "The rankings above do not show the strength of association for the\n",
    "different terms. We can represent the distribution of the weights\n",
    "for the top terms in a topic using a matplotlib horizontal bar chart."
   ],
   "metadata": {
    "collapsed": false,
    "pycharm": {
     "name": "#%% md\n"
    }
   }
  },
  {
   "cell_type": "code",
   "execution_count": 15,
   "outputs": [
    {
     "data": {
      "text/plain": "<Figure size 936x576 with 1 Axes>",
      "image/png": "[encoded data removed]"
     },
     "metadata": {},
     "output_type": "display_data"
    },
    {
     "data": {
      "text/plain": "<Figure size 936x576 with 1 Axes>",
      "image/png": "[encoded data removed]"
     },
     "metadata": {},
     "output_type": "display_data"
    }
   ],
   "source": [
    "%matplotlib inline\n",
    "import numpy as np\n",
    "import matplotlib\n",
    "import matplotlib.pyplot as plt\n",
    "plt.style.use(\"ggplot\")\n",
    "matplotlib.rcParams.update({\"font.size\": 14})\n",
    "\n",
    "def plot_top_term_weights( terms, H, topic_index, top ):\n",
    "    # get the top terms and their weights\n",
    "    top_indices = np.argsort( H[topic_index,:] )[::-1]\n",
    "    top_terms = []\n",
    "    top_weights = []\n",
    "    for term_index in top_indices[0:top]:\n",
    "        top_terms.append( terms[term_index] )\n",
    "        top_weights.append( H[topic_index,term_index] )\n",
    "    # note we reverse the ordering for the plot\n",
    "    top_terms.reverse()\n",
    "    top_weights.reverse()\n",
    "    # create the plot\n",
    "    fig = plt.figure(figsize=(13,8))\n",
    "    # add the horizontal bar chart\n",
    "    ypos = np.arange(top)\n",
    "    ax = plt.barh(ypos, top_weights, align=\"center\", color=\"green\",tick_label=top_terms)\n",
    "    plt.xlabel(\"Term Weight\",fontsize=14)\n",
    "    plt.tight_layout()\n",
    "    plt.show()"
   ],
   "metadata": {
    "collapsed": false,
    "pycharm": {
     "name": "#%%\n"
    }
   }
  },
  {
   "cell_type": "markdown",
   "source": [
    "So for instance, for the 5th topic we can generate a plot with the\n",
    "top 5 terms using:"
   ],
   "metadata": {
    "collapsed": false,
    "pycharm": {
     "name": "#%% md\n"
    }
   }
  },
  {
   "cell_type": "code",
   "execution_count": 16,
   "outputs": [
    {
     "data": {
      "text/plain": "<Figure size 936x576 with 1 Axes>",
      "image/png": "[encoded data removed]"
     },
     "metadata": {},
     "output_type": "display_data"
    }
   ],
   "source": [
    "plot_top_term_weights( terms_B, H, 4, 5 )"
   ],
   "metadata": {
    "collapsed": false,
    "pycharm": {
     "name": "#%%\n"
    }
   }
  },
  {
   "cell_type": "markdown",
   "source": [
    "So for instance, for the first topic we can generate a plot with the\n",
    "top 5 terms using:"
   ],
   "metadata": {
    "collapsed": false,
    "pycharm": {
     "name": "#%% md\n"
    }
   }
  },
  {
   "cell_type": "code",
   "execution_count": null,
   "outputs": [],
   "source": [
    "plot_top_term_weights( terms_B, H, 0, 5 )"
   ],
   "metadata": {
    "collapsed": false,
    "pycharm": {
     "name": "#%%\n"
    }
   }
  },
  {
   "cell_type": "markdown",
   "source": [
    "We can also look at the snippets for the top-ranked documents for each topic.\n",
    "We'll define a function to produce this ranking also."
   ],
   "metadata": {
    "collapsed": false,
    "pycharm": {
     "name": "#%% md\n"
    }
   }
  },
  {
   "cell_type": "code",
   "execution_count": 19,
   "outputs": [
    {
     "name": "stdout",
     "output_type": "stream",
     "text": [
      "01. drawing\n",
      "02. drawing\n",
      "03. drawing\n",
      "04. drawing\n",
      "05. drawing\n",
      "06. drawing\n",
      "07. software\n",
      "08. software\n",
      "09. software\n",
      "10. privilege]\\n-\n"
     ]
    }
   ],
   "source": [
    "def get_top_snippets( all_snippets, W, topic_index, top ):\n",
    "    # reverse sort the values to sort the indices\n",
    "    top_indices = np.argsort( W[:,topic_index] )[::-1]\n",
    "    # now get the snippets corresponding to the top-ranked indices\n",
    "    top_snippets = []\n",
    "    for doc_index in top_indices[0:top]:\n",
    "        top_snippets.append( all_snippets[doc_index] )\n",
    "    return top_snippets"
   ],
   "metadata": {
    "collapsed": false,
    "pycharm": {
     "name": "#%%\n"
    }
   }
  },
  {
   "cell_type": "markdown",
   "source": [
    "For instance, for the first topic listed above, the top 10 documents are:"
   ],
   "metadata": {
    "collapsed": false,
    "pycharm": {
     "name": "#%% md\n"
    }
   }
  },
  {
   "cell_type": "code",
   "execution_count": null,
   "outputs": [],
   "source": [
    "topic_snippets = get_top_snippets( documents, W, 0, 10 )\n",
    "for i, snippet in enumerate(topic_snippets):\n",
    "    print(\"%02d. %s\" % ( (i+1), snippet ) )"
   ],
   "metadata": {
    "collapsed": false,
    "pycharm": {
     "name": "#%%\n"
    }
   }
  },
  {
   "cell_type": "markdown",
   "source": [
    "for the second topic listed above, the top 10 documents are:"
   ],
   "metadata": {
    "collapsed": false,
    "pycharm": {
     "name": "#%% md\n"
    }
   }
  },
  {
   "cell_type": "code",
   "execution_count": 21,
   "outputs": [
    {
     "name": "stdout",
     "output_type": "stream",
     "text": [
      "01. draw\n",
      "02. draw\n",
      "03. draw\n",
      "04. draw\n",
      "05. draw\n",
      "06. software\n",
      "07. software\n",
      "08. software\n",
      "09. account\\n[optional\n",
      "10. account\n",
      "01. app\n",
      "02. app\n",
      "03. app\n",
      "04. app\n",
      "05. privilege]\\n-\n",
      "06. privilege]\\n-\n",
      "07. privilege--------------------------------------\\nthe\n",
      "08. account\\n[optional\n",
      "09. account\n",
      "10. account\n"
     ]
    }
   ],
   "source": [
    "topic_snippets = get_top_snippets( documents, W, 1, 10 )\n",
    "for i, snippet in enumerate(topic_snippets):\n",
    "    print(\"%02d. %s\" % ( (i+1), snippet ) )\n",
    "\n",
    "topic_snippets = get_top_snippets( documents, W, 2, 10 )\n",
    "for i, snippet in enumerate(topic_snippets):\n",
    "    print(\"%02d. %s\" % ( (i+1), snippet ) )"
   ],
   "metadata": {
    "collapsed": false,
    "pycharm": {
     "name": "#%%\n"
    }
   }
  },
  {
   "cell_type": "code",
   "execution_count": null,
   "outputs": [],
   "source": [],
   "metadata": {
    "collapsed": false,
    "pycharm": {
     "name": "#%%\n"
    }
   }
  }
 ],
 "metadata": {
  "kernelspec": {
   "display_name": "Python 3",
   "language": "python",
   "name": "python3"
  },
  "language_info": {
   "codemirror_mode": {
    "name": "ipython",
    "version": 2
   },
   "file_extension": ".py",
   "mimetype": "text/x-python",
   "name": "python",
   "nbconvert_exporter": "python",
   "pygments_lexer": "ipython2",
   "version": "2.7.6"
  }
 },
 "nbformat": 4,
 "nbformat_minor": 0
}