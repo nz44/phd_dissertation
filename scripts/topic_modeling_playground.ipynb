{
 "cells": [
  {
   "cell_type": "markdown",
   "source": [
    "Nov 19, 2020\n",
    "Please refer to link\n",
    "http://derekgreene.com/slides/topic-modelling-with-scikitlearn.pdf\n",
    "\n",
    "1. take out the description of one app as document\n"
   ],
   "metadata": {
    "collapsed": false
   }
  },
  {
   "cell_type": "code",
   "execution_count": 1,
   "outputs": [
    {
     "data": {
      "text/plain": "['penup',\n 'creative',\n 'sns',\n 'base',\n 'pen',\n 'generate',\n 'image',\n 'share',\n 'imagination',\n 'global',\n 'creative',\n 'minds.\\\\n[main',\n 'features]\\\\n-',\n 'drawing',\n 'draw',\n 'easily',\n 'comfortably\\\\n-',\n 'coloring',\n 'color',\n 'beautiful',\n 'sketches\\\\n-',\n 'live',\n 'draw',\n 'foster',\n 'draw',\n 'skill',\n 'set',\n 'follow',\n 'draw',\n 'video\\\\n-',\n 'photo',\n 'drawing',\n 'draw',\n 'photos\\\\n-',\n 'challenge',\n 'challenge',\n 'new',\n 'topics\\\\n-',\n 'popular',\n 'enjoy',\n 'real',\n 'time',\n 'popular',\n 'artwork',\n 'share',\n 'drawings\\\\n-',\n 'drawing',\n 'comment',\n 'express',\n 'drawing',\n 'fun',\n 'manner',\n 'interact',\n 'another\\\\n-------------------------------------------------regarde',\n 'app',\n 'access',\n 'privilege--------------------------------------\\\\nthe',\n 'follow',\n 'permission',\n 'require',\n 'app',\n 'service',\n 'optional',\n 'permission',\n 'default',\n 'functionality',\n 'service',\n 'turn',\n 'allowed.\\\\n[mandatory',\n 'access',\n 'privilege]\\\\n-',\n 'contact',\n 'account',\n 'information',\n 'sign',\n 'penup',\n 'samsung',\n 'account',\n 'facebook',\n 'google',\n 'twitt',\n 'account\\\\n[optional',\n 'access',\n 'privilege]\\\\n-',\n 'storage',\n 'upload',\n 'drawing',\n 'penup',\n 'download',\n 'drawing',\n 'penup\\\\nif',\n 'system',\n 'software',\n 'version',\n 'low',\n 'android',\n '6.0',\n 'update',\n 'software',\n 'configure',\n 'app',\n 'permissions.\\\\npreviously',\n 'allow',\n 'permission',\n 'reset',\n 'app',\n 'menu',\n 'device',\n 'setting',\n 'software',\n 'update']"
     },
     "execution_count": 1,
     "metadata": {},
     "output_type": "execute_result"
    }
   ],
   "source": [
    "import pandas as pd\n",
    "%run -i '0_paths.py'\n",
    "initial_panel = '201908'\n",
    "folder_name = initial_panel + '_PANEL_DF'\n",
    "f_name = 'description_converted_to_spacy_tokens.pkl'\n",
    "q = input_path / '__PANELS__' / folder_name / f_name\n",
    "TDF = pd.read_pickle(q)\n",
    "TDF.head(n=10)\n",
    "documents = TDF.iloc[3, 1]\n",
    "documents"
   ],
   "metadata": {
    "collapsed": false,
    "pycharm": {
     "name": "#%%\n"
    }
   }
  },
  {
   "cell_type": "code",
   "execution_count": 2,
   "outputs": [],
   "source": [
    "# please refer to topic_modeling.pdf from dissertation/topic_modeling folder\n",
    "# Our output, A, is a sparse NumPy 2D array with rows corresponding to documents and\n",
    "# columns corresponding to terms.\n",
    "from sklearn.feature_extraction.text import CountVectorizer\n",
    "vectorizer_A = CountVectorizer()\n",
    "A = vectorizer_A.fit_transform(documents)\n",
    "\n",
    "from sklearn.feature_extraction.text import TfidfVectorizer\n",
    "vectorizer_B = TfidfVectorizer()\n",
    "B = vectorizer_B.fit_transform(documents)"
   ],
   "metadata": {
    "collapsed": false,
    "pycharm": {
     "name": "#%%\n"
    }
   }
  },
  {
   "cell_type": "code",
   "execution_count": 5,
   "outputs": [
    {
     "name": "stdout",
     "output_type": "stream",
     "text": [
      "Vocabulary A has 84 distinct terms\n",
      "['access', 'account', 'allow', 'allowed', 'android', 'another', 'app', 'artwork', 'base', 'beautiful', 'challenge', 'color', 'coloring', 'comfortably', 'comment', 'configure', 'contact', 'creative', 'default', 'device', 'download', 'draw', 'drawing', 'drawings', 'easily', 'enjoy', 'express', 'facebook', 'features', 'follow', 'foster', 'fun', 'functionality', 'generate', 'global', 'google', 'image', 'imagination', 'information', 'interact', 'live', 'low', 'main', 'mandatory', 'manner', 'menu', 'minds', 'new', 'nif', 'npreviously', 'nthe', 'optional', 'pen', 'penup', 'permission', 'permissions', 'photo', 'photos', 'popular', 'privilege', 'real', 'regarde', 'require', 'reset', 'samsung', 'service', 'set', 'setting', 'share', 'sign', 'sketches', 'skill', 'sns', 'software', 'storage', 'system', 'time', 'topics', 'turn', 'twitt', 'update', 'upload', 'version', 'video']\n",
      "Vocabulary B has 84 distinct terms\n",
      "['access', 'account', 'allow', 'allowed', 'android', 'another', 'app', 'artwork', 'base', 'beautiful', 'challenge', 'color', 'coloring', 'comfortably', 'comment', 'configure', 'contact', 'creative', 'default', 'device', 'download', 'draw', 'drawing', 'drawings', 'easily', 'enjoy', 'express', 'facebook', 'features', 'follow', 'foster', 'fun', 'functionality', 'generate', 'global', 'google', 'image', 'imagination', 'information', 'interact', 'live', 'low', 'main', 'mandatory', 'manner', 'menu', 'minds', 'new', 'nif', 'npreviously', 'nthe', 'optional', 'pen', 'penup', 'permission', 'permissions', 'photo', 'photos', 'popular', 'privilege', 'real', 'regarde', 'require', 'reset', 'samsung', 'service', 'set', 'setting', 'share', 'sign', 'sketches', 'skill', 'sns', 'software', 'storage', 'system', 'time', 'topics', 'turn', 'twitt', 'update', 'upload', 'version', 'video']\n"
     ]
    }
   ],
   "source": [
    "terms_A = vectorizer_A.get_feature_names()\n",
    "print(\"Vocabulary A has %d distinct terms\" % len(terms_A))\n",
    "print(terms_A)\n",
    "\n",
    "terms_B = vectorizer_B.get_feature_names()\n",
    "print(\"Vocabulary B has %d distinct terms\" % len(terms_B))\n",
    "print(terms_B)"
   ],
   "metadata": {
    "collapsed": false,
    "pycharm": {
     "name": "#%%\n"
    }
   }
  },
  {
   "cell_type": "code",
   "execution_count": 6,
   "outputs": [
    {
     "name": "stdout",
     "output_type": "stream",
     "text": [
      "this is from A, count vectorizer\n",
      "  (0, 53)\t1\n",
      "  (1, 17)\t1\n",
      "  (2, 72)\t1\n",
      "  (3, 8)\t1\n",
      "  (4, 52)\t1\n",
      "  (5, 33)\t1\n",
      "  (6, 36)\t1\n",
      "  (7, 68)\t1\n",
      "  (8, 37)\t1\n",
      "  (9, 34)\t1\n",
      "  (10, 17)\t1\n",
      "  (11, 46)\t1\n",
      "  (11, 42)\t1\n",
      "  (12, 28)\t1\n",
      "  (13, 22)\t1\n",
      "  (14, 21)\t1\n",
      "  (15, 24)\t1\n",
      "  (16, 13)\t1\n",
      "  (17, 12)\t1\n",
      "  (18, 11)\t1\n",
      "  (19, 9)\t1\n",
      "  (20, 70)\t1\n",
      "  (21, 40)\t1\n",
      "  (22, 21)\t1\n",
      "  (23, 30)\t1\n",
      "  :\t:\n",
      "  (87, 53)\t1\n",
      "  (88, 20)\t1\n",
      "  (89, 22)\t1\n",
      "  (90, 53)\t1\n",
      "  (90, 48)\t1\n",
      "  (91, 75)\t1\n",
      "  (92, 73)\t1\n",
      "  (93, 82)\t1\n",
      "  (94, 41)\t1\n",
      "  (95, 4)\t1\n",
      "  (97, 80)\t1\n",
      "  (98, 73)\t1\n",
      "  (99, 15)\t1\n",
      "  (100, 6)\t1\n",
      "  (101, 55)\t1\n",
      "  (101, 49)\t1\n",
      "  (102, 2)\t1\n",
      "  (103, 54)\t1\n",
      "  (104, 63)\t1\n",
      "  (105, 6)\t1\n",
      "  (106, 45)\t1\n",
      "  (107, 19)\t1\n",
      "  (108, 67)\t1\n",
      "  (109, 73)\t1\n",
      "  (110, 80)\t1\n",
      "this is from B, tfid vectorizer\n",
      "  (0, 53)\t1.0\n",
      "  (1, 17)\t1.0\n",
      "  (2, 72)\t1.0\n",
      "  (3, 8)\t1.0\n",
      "  (4, 52)\t1.0\n",
      "  (5, 33)\t1.0\n",
      "  (6, 36)\t1.0\n",
      "  (7, 68)\t1.0\n",
      "  (8, 37)\t1.0\n",
      "  (9, 34)\t1.0\n",
      "  (10, 17)\t1.0\n",
      "  (11, 42)\t0.7071067811865476\n",
      "  (11, 46)\t0.7071067811865476\n",
      "  (12, 28)\t1.0\n",
      "  (13, 22)\t1.0\n",
      "  (14, 21)\t1.0\n",
      "  (15, 24)\t1.0\n",
      "  (16, 13)\t1.0\n",
      "  (17, 12)\t1.0\n",
      "  (18, 11)\t1.0\n",
      "  (19, 9)\t1.0\n",
      "  (20, 70)\t1.0\n",
      "  (21, 40)\t1.0\n",
      "  (22, 21)\t1.0\n",
      "  (23, 30)\t1.0\n",
      "  :\t:\n",
      "  (87, 53)\t1.0\n",
      "  (88, 20)\t1.0\n",
      "  (89, 22)\t1.0\n",
      "  (90, 48)\t0.7741528380418042\n",
      "  (90, 53)\t0.632998723025426\n",
      "  (91, 75)\t1.0\n",
      "  (92, 73)\t1.0\n",
      "  (93, 82)\t1.0\n",
      "  (94, 41)\t1.0\n",
      "  (95, 4)\t1.0\n",
      "  (97, 80)\t1.0\n",
      "  (98, 73)\t1.0\n",
      "  (99, 15)\t1.0\n",
      "  (100, 6)\t1.0\n",
      "  (101, 49)\t0.7071067811865476\n",
      "  (101, 55)\t0.7071067811865476\n",
      "  (102, 2)\t1.0\n",
      "  (103, 54)\t1.0\n",
      "  (104, 63)\t1.0\n",
      "  (105, 6)\t1.0\n",
      "  (106, 45)\t1.0\n",
      "  (107, 19)\t1.0\n",
      "  (108, 67)\t1.0\n",
      "  (109, 73)\t1.0\n",
      "  (110, 80)\t1.0\n"
     ]
    }
   ],
   "source": [
    "print('this is from A, count vectorizer')\n",
    "print(A)\n",
    "print('this is from B, tfid vectorizer')\n",
    "print(B)"
   ],
   "metadata": {
    "collapsed": false,
    "pycharm": {
     "name": "#%%\n"
    }
   }
  },
  {
   "cell_type": "markdown",
   "source": [
    "look at the terms with the highest TF-IDF scores across all documents\n",
    "in the document-term matrix.\n",
    "We can define such a function as follows:"
   ],
   "metadata": {
    "collapsed": false,
    "pycharm": {
     "name": "#%% md\n"
    }
   }
  },
  {
   "cell_type": "code",
   "execution_count": 7,
   "outputs": [
    {
     "name": "stdout",
     "output_type": "stream",
     "text": [
      "01. drawing (6.00)\n",
      "02. draw (5.00)\n",
      "03. app (4.00)\n",
      "04. penup (3.63)\n",
      "05. access (3.00)\n",
      "06. permission (3.00)\n",
      "07. software (3.00)\n",
      "08. account (2.68)\n",
      "09. privilege (2.65)\n",
      "10. challenge (2.00)\n",
      "11. creative (2.00)\n",
      "12. follow (2.00)\n",
      "13. popular (2.00)\n",
      "14. service (2.00)\n",
      "15. share (2.00)\n",
      "16. update (2.00)\n",
      "17. optional (1.73)\n",
      "18. allow (1.00)\n",
      "19. android (1.00)\n",
      "20. artwork (1.00)\n"
     ]
    }
   ],
   "source": [
    "import operator\n",
    "def rank_terms( A, terms_A ):\n",
    "    # get the sums over each column\n",
    "    sums = A.sum(axis=0)\n",
    "    # map weights to the terms\n",
    "    weights = {}\n",
    "    for col, term in enumerate(terms_A):\n",
    "        weights[term] = sums[0,col]\n",
    "    # rank the terms by their weight over all documents\n",
    "    return sorted(weights.items(), key=operator.itemgetter(1), reverse=True)\n",
    "\n",
    "\n",
    "ranking = rank_terms( B, terms_B )\n",
    "for i, pair in enumerate( ranking[0:20] ):\n",
    "    print( \"%02d. %s (%.2f)\" % ( i+1, pair[0], pair[1] ) )"
   ],
   "metadata": {
    "collapsed": false,
    "pycharm": {
     "name": "#%%\n"
    }
   }
  },
  {
   "cell_type": "code",
   "execution_count": 9,
   "outputs": [],
   "source": [
    "# interesting way to save several things at the same time\n",
    "import pickle\n",
    "folder_name = initial_panel + '_PANEL_DF'\n",
    "f_name = 'playground_app_description_tfid_vectorized.pkl'\n",
    "q = input_path / '__PANELS__' / folder_name / f_name\n",
    "with open(q, \"wb\") as f:\n",
    "    pickle.dump((B,terms_B,documents), f)\n",
    "\n",
    "with open(q, \"rb\") as f:\n",
    "    B, terms_B, documents = pickle.load(f)"
   ],
   "metadata": {
    "collapsed": false,
    "pycharm": {
     "name": "#%%\n"
    }
   }
  },
  {
   "cell_type": "markdown",
   "source": [
    "https://github.com/derekgreene/topic-model-tutorial/blob/master/2%20-%20NMF%20Topic%20Models.ipynb\n",
    "\n",
    "The key input parameter to NMF is the number of topics to generate k. For the moment,\n",
    "we will pre-specify a guessed value, for demonstration purposes."
   ],
   "metadata": {
    "collapsed": false,
    "pycharm": {
     "name": "#%% md\n"
    }
   }
  },
  {
   "cell_type": "code",
   "execution_count": 8,
   "outputs": [],
   "source": [
    "k = 5\n",
    "# create the model\n",
    "from sklearn import decomposition\n",
    "model = decomposition.NMF( init=\"nndsvd\", n_components=k )\n",
    "# apply the model and extract the two factor matrices\n",
    "W = model.fit_transform( B )\n",
    "H = model.components_"
   ],
   "metadata": {
    "collapsed": false,
    "pycharm": {
     "name": "#%%\n"
    }
   }
  },
  {
   "cell_type": "markdown",
   "source": [
    "NMF produces to factor matrices as its output: W and H.\n",
    "\n",
    "The W factor contains the document membership weights relative to\n",
    "each of the k topics. Each row corresponds to a single document,\n",
    "and each column correspond to a topic.\n",
    "(我觉得这里的 document 指的是一个单词)"
   ],
   "metadata": {
    "collapsed": false,
    "pycharm": {
     "name": "#%% md\n"
    }
   }
  },
  {
   "cell_type": "code",
   "execution_count": 9,
   "outputs": [
    {
     "data": {
      "text/plain": "(111, 5)"
     },
     "execution_count": 9,
     "metadata": {},
     "output_type": "execute_result"
    }
   ],
   "source": [
    "W.shape"
   ],
   "metadata": {
    "collapsed": false,
    "pycharm": {
     "name": "#%%\n"
    }
   }
  },
  {
   "cell_type": "markdown",
   "source": [
    "we can see it is strongly associated with one (the fourth) topic.\n",
    "However, each document can\n",
    "be potentially associated with multiple topics to different degrees."
   ],
   "metadata": {
    "collapsed": false,
    "pycharm": {
     "name": "#%% md\n"
    }
   }
  },
  {
   "cell_type": "code",
   "execution_count": 10,
   "outputs": [
    {
     "data": {
      "text/plain": "array([0.  , 0.  , 0.  , 0.72, 0.  ])"
     },
     "execution_count": 10,
     "metadata": {},
     "output_type": "execute_result"
    }
   ],
   "source": [
    "W[0,:].round(2)"
   ],
   "metadata": {
    "collapsed": false,
    "pycharm": {
     "name": "#%%\n"
    }
   }
  },
  {
   "cell_type": "markdown",
   "source": [
    "The H factor contains the term weights relative to each of the k topics.\n",
    "In this case, each row corresponds to a topic,\n",
    "and each column corresponds to a unique term in the corpus vocabulary."
   ],
   "metadata": {
    "collapsed": false,
    "pycharm": {
     "name": "#%% md\n"
    }
   }
  },
  {
   "cell_type": "code",
   "execution_count": 11,
   "outputs": [
    {
     "data": {
      "text/plain": "(5, 84)"
     },
     "execution_count": 11,
     "metadata": {},
     "output_type": "execute_result"
    }
   ],
   "source": [
    "H.shape"
   ],
   "metadata": {
    "collapsed": false,
    "pycharm": {
     "name": "#%%\n"
    }
   }
  },
  {
   "cell_type": "markdown",
   "source": [
    "check whether a term is associated with a single topic or multiple topics."
   ],
   "metadata": {
    "collapsed": false,
    "pycharm": {
     "name": "#%% md\n"
    }
   }
  },
  {
   "cell_type": "code",
   "execution_count": 12,
   "outputs": [
    {
     "name": "stdout",
     "output_type": "stream",
     "text": [
      "['access', 'account', 'allow', 'allowed', 'android', 'another', 'app', 'artwork', 'base', 'beautiful', 'challenge', 'color', 'coloring', 'comfortably', 'comment', 'configure', 'contact', 'creative', 'default', 'device', 'download', 'draw', 'drawing', 'drawings', 'easily', 'enjoy', 'express', 'facebook', 'features', 'follow', 'foster', 'fun', 'functionality', 'generate', 'global', 'google', 'image', 'imagination', 'information', 'interact', 'live', 'low', 'main', 'mandatory', 'manner', 'menu', 'minds', 'new', 'nif', 'npreviously', 'nthe', 'optional', 'pen', 'penup', 'permission', 'permissions', 'photo', 'photos', 'popular', 'privilege', 'real', 'regarde', 'require', 'reset', 'samsung', 'service', 'set', 'setting', 'share', 'sign', 'sketches', 'skill', 'sns', 'software', 'storage', 'system', 'time', 'topics', 'turn', 'twitt', 'update', 'upload', 'version', 'video']\n",
      "[0.    0.    1.414 0.    0.   ]\n",
      "[0.    1.495 0.    0.    0.   ]\n"
     ]
    }
   ],
   "source": [
    "print(terms_B)\n",
    "term_index = terms_B.index('app')\n",
    "print(H[:,term_index].round(3))\n",
    "term_index = terms_B.index('draw')\n",
    "print(H[:,term_index].round(3))"
   ],
   "metadata": {
    "collapsed": false,
    "pycharm": {
     "name": "#%%\n"
    }
   }
  },
  {
   "cell_type": "markdown",
   "source": [
    "The top ranked terms from the H factor for each topic can give us an insight\n",
    "into the content of that topic. This is often called the topic descriptor.\n",
    "Let's define a function that extracts the descriptor for a specified topic:"
   ],
   "metadata": {
    "collapsed": false,
    "pycharm": {
     "name": "#%% md\n"
    }
   }
  },
  {
   "cell_type": "code",
   "execution_count": 13,
   "outputs": [],
   "source": [
    "import numpy as np\n",
    "def get_descriptor( terms, H, topic_index, top ):\n",
    "    # reverse sort the values to sort the indices\n",
    "    top_indices = np.argsort( H[topic_index,:] )[::-1]\n",
    "    # now get the terms corresponding to the top-ranked indices\n",
    "    top_terms = []\n",
    "    for term_index in top_indices[0:top]:\n",
    "        top_terms.append( terms[term_index] )\n",
    "    return top_terms\n"
   ],
   "metadata": {
    "collapsed": false,
    "pycharm": {
     "name": "#%%\n"
    }
   }
  },
  {
   "cell_type": "code",
   "execution_count": 14,
   "outputs": [
    {
     "name": "stdout",
     "output_type": "stream",
     "text": [
      "Topic 01: drawing, account, optional\n",
      "Topic 02: draw, account, optional\n",
      "Topic 03: app, account, optional\n",
      "Topic 04: penup, nif, software\n",
      "Topic 05: access, permission, account\n"
     ]
    }
   ],
   "source": [
    "descriptors = []\n",
    "for topic_index in range(k):\n",
    "    descriptors.append( get_descriptor( terms_B, H, topic_index, 3 ) )\n",
    "    str_descriptor = \", \".join( descriptors[topic_index] )\n",
    "    print(\"Topic %02d: %s\" % ( topic_index+1, str_descriptor ) )"
   ],
   "metadata": {
    "collapsed": false,
    "pycharm": {
     "name": "#%%\n"
    }
   }
  },
  {
   "cell_type": "markdown",
   "source": [
    "The rankings above do not show the strength of association for the\n",
    "different terms. We can represent the distribution of the weights\n",
    "for the top terms in a topic using a matplotlib horizontal bar chart."
   ],
   "metadata": {
    "collapsed": false,
    "pycharm": {
     "name": "#%% md\n"
    }
   }
  },
  {
   "cell_type": "code",
   "execution_count": 15,
   "outputs": [
    {
     "data": {
      "text/plain": "<Figure size 936x576 with 1 Axes>",
      "image/png": "[encoded data removed]"
     },
     "metadata": {},
     "output_type": "display_data"
    },
    {
     "data": {
      "text/plain": "<Figure size 936x576 with 1 Axes>",
      "image/png": "[encoded data removed]"
     },
     "metadata": {},
     "output_type": "display_data"
    }
   ],
   "source": [
    "%matplotlib inline\n",
    "import numpy as np\n",
    "import matplotlib\n",
    "import matplotlib.pyplot as plt\n",
    "plt.style.use(\"ggplot\")\n",
    "matplotlib.rcParams.update({\"font.size\": 14})\n",
    "\n",
    "def plot_top_term_weights( terms, H, topic_index, top ):\n",
    "    # get the top terms and their weights\n",
    "    top_indices = np.argsort( H[topic_index,:] )[::-1]\n",
    "    top_terms = []\n",
    "    top_weights = []\n",
    "    for term_index in top_indices[0:top]:\n",
    "        top_terms.append( terms[term_index] )\n",
    "        top_weights.append( H[topic_index,term_index] )\n",
    "    # note we reverse the ordering for the plot\n",
    "    top_terms.reverse()\n",
    "    top_weights.reverse()\n",
    "    # create the plot\n",
    "    fig = plt.figure(figsize=(13,8))\n",
    "    # add the horizontal bar chart\n",
    "    ypos = np.arange(top)\n",
    "    ax = plt.barh(ypos, top_weights, align=\"center\", color=\"green\",tick_label=top_terms)\n",
    "    plt.xlabel(\"Term Weight\",fontsize=14)\n",
    "    plt.tight_layout()\n",
    "    plt.show()"
   ],
   "metadata": {
    "collapsed": false,
    "pycharm": {
     "name": "#%%\n"
    }
   }
  },
  {
   "cell_type": "markdown",
   "source": [
    "So for instance, for the 5th topic we can generate a plot with the\n",
    "top 5 terms using:"
   ],
   "metadata": {
    "collapsed": false,
    "pycharm": {
     "name": "#%% md\n"
    }
   }
  },
  {
   "cell_type": "code",
   "execution_count": 16,
   "outputs": [
    {
     "data": {
      "text/plain": "<Figure size 936x576 with 1 Axes>",
      "image/png": "[encoded data removed]"
     },
     "metadata": {},
     "output_type": "display_data"
    }
   ],
   "source": [
    "plot_top_term_weights( terms_B, H, 4, 5 )"
   ],
   "metadata": {
    "collapsed": false,
    "pycharm": {
     "name": "#%%\n"
    }
   }
  },
  {
   "cell_type": "markdown",
   "source": [
    "So for instance, for the first topic we can generate a plot with the\n",
    "top 5 terms using:"
   ],
   "metadata": {
    "collapsed": false,
    "pycharm": {
     "name": "#%% md\n"
    }
   }
  },
  {
   "cell_type": "code",
   "execution_count": null,
   "outputs": [],
   "source": [
    "plot_top_term_weights( terms_B, H, 0, 5 )"
   ],
   "metadata": {
    "collapsed": false,
    "pycharm": {
     "name": "#%%\n"
    }
   }
  },
  {
   "cell_type": "markdown",
   "source": [
    "We can also look at the snippets for the top-ranked documents for each topic.\n",
    "We'll define a function to produce this ranking also."
   ],
   "metadata": {
    "collapsed": false,
    "pycharm": {
     "name": "#%% md\n"
    }
   }
  },
  {
   "cell_type": "code",
   "execution_count": 19,
   "outputs": [
    {
     "name": "stdout",
     "output_type": "stream",
     "text": [
      "01. drawing\n",
      "02. drawing\n",
      "03. drawing\n",
      "04. drawing\n",
      "05. drawing\n",
      "06. drawing\n",
      "07. software\n",
      "08. software\n",
      "09. software\n",
      "10. privilege]\\n-\n"
     ]
    }
   ],
   "source": [
    "def get_top_snippets( all_snippets, W, topic_index, top ):\n",
    "    # reverse sort the values to sort the indices\n",
    "    top_indices = np.argsort( W[:,topic_index] )[::-1]\n",
    "    # now get the snippets corresponding to the top-ranked indices\n",
    "    top_snippets = []\n",
    "    for doc_index in top_indices[0:top]:\n",
    "        top_snippets.append( all_snippets[doc_index] )\n",
    "    return top_snippets"
   ],
   "metadata": {
    "collapsed": false,
    "pycharm": {
     "name": "#%%\n"
    }
   }
  },
  {
   "cell_type": "markdown",
   "source": [
    "For instance, for the first topic listed above, the top 10 documents are:"
   ],
   "metadata": {
    "collapsed": false,
    "pycharm": {
     "name": "#%% md\n"
    }
   }
  },
  {
   "cell_type": "code",
   "execution_count": null,
   "outputs": [],
   "source": [
    "topic_snippets = get_top_snippets( documents, W, 0, 10 )\n",
    "for i, snippet in enumerate(topic_snippets):\n",
    "    print(\"%02d. %s\" % ( (i+1), snippet ) )"
   ],
   "metadata": {
    "collapsed": false,
    "pycharm": {
     "name": "#%%\n"
    }
   }
  },
  {
   "cell_type": "markdown",
   "source": [
    "for the second topic listed above, the top 10 documents are:"
   ],
   "metadata": {
    "collapsed": false,
    "pycharm": {
     "name": "#%% md\n"
    }
   }
  },
  {
   "cell_type": "code",
   "execution_count": 21,
   "outputs": [
    {
     "name": "stdout",
     "output_type": "stream",
     "text": [
      "01. draw\n",
      "02. draw\n",
      "03. draw\n",
      "04. draw\n",
      "05. draw\n",
      "06. software\n",
      "07. software\n",
      "08. software\n",
      "09. account\\n[optional\n",
      "10. account\n",
      "01. app\n",
      "02. app\n",
      "03. app\n",
      "04. app\n",
      "05. privilege]\\n-\n",
      "06. privilege]\\n-\n",
      "07. privilege--------------------------------------\\nthe\n",
      "08. account\\n[optional\n",
      "09. account\n",
      "10. account\n"
     ]
    }
   ],
   "source": [
    "topic_snippets = get_top_snippets( documents, W, 1, 10 )\n",
    "for i, snippet in enumerate(topic_snippets):\n",
    "    print(\"%02d. %s\" % ( (i+1), snippet ) )\n",
    "\n",
    "topic_snippets = get_top_snippets( documents, W, 2, 10 )\n",
    "for i, snippet in enumerate(topic_snippets):\n",
    "    print(\"%02d. %s\" % ( (i+1), snippet ) )"
   ],
   "metadata": {
    "collapsed": false,
    "pycharm": {
     "name": "#%%\n"
    }
   }
  },
  {
   "cell_type": "code",
   "execution_count": 1,
   "outputs": [
    {
     "name": "stdout",
     "output_type": "stream",
     "text": [
      "Loading dataset...\n",
      "done in 0.879s.\n",
      "Extracting tf-idf features for NMF...\n",
      "done in 0.188s.\n",
      "Extracting tf features for LDA...\n",
      "done in 0.183s.\n",
      "\n",
      "Fitting the NMF model (Frobenius norm) with tf-idf features, n_samples=2000 and n_features=1000...\n",
      "done in 0.162s.\n",
      "\n",
      "Topics in NMF model (Frobenius norm):\n",
      "Topic #0: just people don think like know time good make way really say right ve want did ll new use years\n",
      "Topic #1: windows use dos using window program os drivers application help software pc running ms screen files version card code work\n",
      "Topic #2: god jesus bible faith christian christ christians does heaven sin believe lord life church mary atheism belief human love religion\n",
      "Topic #3: thanks know does mail advance hi info interested email anybody looking card help like appreciated information send list video need\n",
      "Topic #4: car cars tires miles 00 new engine insurance price condition oil power speed good 000 brake year models used bought\n",
      "Topic #5: edu soon com send university internet mit ftp mail cc pub article information hope program mac email home contact blood\n",
      "Topic #6: file problem files format win sound ftp pub read save site help image available create copy running memory self version\n",
      "Topic #7: game team games year win play season players nhl runs goal hockey toronto division flyers player defense leafs bad teams\n",
      "Topic #8: drive drives hard disk floppy software card mac computer power scsi controller apple mb 00 pc rom sale problem internal\n",
      "Topic #9: key chip clipper keys encryption government public use secure enforcement phone nsa communications law encrypted security clinton used legal standard\n",
      "\n",
      "Fitting the NMF model (generalized Kullback-Leibler divergence) with tf-idf features, n_samples=2000 and n_features=1000...\n",
      "done in 0.532s.\n",
      "\n",
      "Topics in NMF model (generalized Kullback-Leibler divergence):\n",
      "Topic #0: people don just like think did say time make know really right said things way ve course didn question probably\n",
      "Topic #1: windows help thanks using hi looking info video dos pc does anybody ftp appreciated mail know advance available use card\n",
      "Topic #2: god does jesus true book christian bible christians religion faith believe life church christ says know read exist lord people\n",
      "Topic #3: thanks know bike interested mail like new car edu heard just price list email hear want cars thing sounds reply\n",
      "Topic #4: 10 00 sale time power 12 new 15 year 30 offer condition 14 16 model 11 monitor 100 old 25\n",
      "Topic #5: space government number public data states earth security water research nasa general 1993 phone information science technology provide blood internet\n",
      "Topic #6: edu file com program soon try window problem remember files sun send library article mike wrong think code win manager\n",
      "Topic #7: game team year games play win season points world division won players nhl flyers toronto case cubs teams ll record\n",
      "Topic #8: drive think hard software disk drives apple computer mac need scsi card don problem read floppy post cable going ii\n",
      "Topic #9: use good just key chip got like ll way clipper doesn keys don better speed stuff want sure going need\n",
      "\n",
      "Fitting LDA models with tf features, n_samples=2000 and n_features=1000...\n",
      "done in 2.509s.\n",
      "\n",
      "Topics in LDA model:\n",
      "Topic #0: edu com mail send graphics ftp pub available contact university list faq ca information cs 1993 program sun uk mit\n",
      "Topic #1: don like just know think ve way use right good going make sure ll point got need really time doesn\n",
      "Topic #2: christian think atheism faith pittsburgh new bible radio games alt lot just religion like book read play time subject believe\n",
      "Topic #3: drive disk windows thanks use card drives hard version pc software file using scsi help does new dos controller 16\n",
      "Topic #4: hiv health aids disease april medical care research 1993 light information study national service test led 10 page new drug\n",
      "Topic #5: god people does just good don jesus say israel way life know true fact time law want believe make think\n",
      "Topic #6: 55 10 11 18 15 team game 19 period play 23 12 13 flyers 20 25 22 17 24 16\n",
      "Topic #7: car year just cars new engine like bike good oil insurance better tires 000 thing speed model brake driving performance\n",
      "Topic #8: people said did just didn know time like went think children came come don took years say dead told started\n",
      "Topic #9: key space law government public use encryption earth section security moon probe enforcement keys states lunar military crime surface technology\n",
      "\n"
     ]
    }
   ],
   "source": [
    "# Dec 04, 2020, I decide to compare the topic words generated from LDA and NMF\n",
    "# https://scikit-learn.org/stable/auto_examples/applications/plot_topics_extraction_with_nmf_lda.html#sphx-glr-auto-examples-applications-plot-topics-extraction-with-nmf-lda-py\n",
    "# Author: Olivier Grisel <olivier.grisel@ensta.org>\n",
    "#         Lars Buitinck\n",
    "#         Chyi-Kwei Yau <chyikwei.yau@gmail.com>\n",
    "# License: BSD 3 clause\n",
    "\n",
    "from time import time\n",
    "\n",
    "from sklearn.feature_extraction.text import TfidfVectorizer, CountVectorizer\n",
    "from sklearn.decomposition import NMF, LatentDirichletAllocation\n",
    "from sklearn.datasets import fetch_20newsgroups\n",
    "\n",
    "n_samples = 2000\n",
    "n_features = 1000\n",
    "n_components = 10\n",
    "n_top_words = 20\n",
    "\n",
    "\n",
    "def print_top_words(model, feature_names, n_top_words):\n",
    "    for topic_idx, topic in enumerate(model.components_):\n",
    "        message = \"Topic #%d: \" % topic_idx\n",
    "        message += \" \".join([feature_names[i]\n",
    "                             for i in topic.argsort()[:-n_top_words - 1:-1]])\n",
    "        print(message)\n",
    "    print()\n",
    "\n",
    "\n",
    "# Load the 20 newsgroups dataset and vectorize it. We use a few heuristics\n",
    "# to filter out useless terms early on: the posts are stripped of headers,\n",
    "# footers and quoted replies, and common English words, words occurring in\n",
    "# only one document or in at least 95% of the documents are removed.\n",
    "\n",
    "print(\"Loading dataset...\")\n",
    "t0 = time()\n",
    "data, _ = fetch_20newsgroups(shuffle=True, random_state=1,\n",
    "                             remove=('headers', 'footers', 'quotes'),\n",
    "                             return_X_y=True)\n",
    "data_samples = data[:n_samples]\n",
    "print(\"done in %0.3fs.\" % (time() - t0))\n",
    "\n",
    "# Use tf-idf features for NMF.\n",
    "print(\"Extracting tf-idf features for NMF...\")\n",
    "tfidf_vectorizer = TfidfVectorizer(max_df=0.95, min_df=2,\n",
    "                                   max_features=n_features,\n",
    "                                   stop_words='english')\n",
    "t0 = time()\n",
    "tfidf = tfidf_vectorizer.fit_transform(data_samples)\n",
    "print(\"done in %0.3fs.\" % (time() - t0))\n",
    "\n",
    "# Use tf (raw term count) features for LDA.\n",
    "print(\"Extracting tf features for LDA...\")\n",
    "tf_vectorizer = CountVectorizer(max_df=0.95, min_df=2,\n",
    "                                max_features=n_features,\n",
    "                                stop_words='english')\n",
    "t0 = time()\n",
    "tf = tf_vectorizer.fit_transform(data_samples)\n",
    "print(\"done in %0.3fs.\" % (time() - t0))\n",
    "print()\n",
    "\n",
    "# Fit the NMF model\n",
    "print(\"Fitting the NMF model (Frobenius norm) with tf-idf features, \"\n",
    "      \"n_samples=%d and n_features=%d...\"\n",
    "      % (n_samples, n_features))\n",
    "t0 = time()\n",
    "nmf = NMF(n_components=n_components, random_state=1,\n",
    "          alpha=.1, l1_ratio=.5).fit(tfidf)\n",
    "print(\"done in %0.3fs.\" % (time() - t0))\n",
    "\n",
    "print(\"\\nTopics in NMF model (Frobenius norm):\")\n",
    "tfidf_feature_names = tfidf_vectorizer.get_feature_names()\n",
    "print_top_words(nmf, tfidf_feature_names, n_top_words)\n",
    "\n",
    "# Fit the NMF model\n",
    "print(\"Fitting the NMF model (generalized Kullback-Leibler divergence) with \"\n",
    "      \"tf-idf features, n_samples=%d and n_features=%d...\"\n",
    "      % (n_samples, n_features))\n",
    "t0 = time()\n",
    "nmf = NMF(n_components=n_components, random_state=1,\n",
    "          beta_loss='kullback-leibler', solver='mu', max_iter=1000, alpha=.1,\n",
    "          l1_ratio=.5).fit(tfidf)\n",
    "print(\"done in %0.3fs.\" % (time() - t0))\n",
    "\n",
    "print(\"\\nTopics in NMF model (generalized Kullback-Leibler divergence):\")\n",
    "tfidf_feature_names = tfidf_vectorizer.get_feature_names()\n",
    "print_top_words(nmf, tfidf_feature_names, n_top_words)\n",
    "\n",
    "print(\"Fitting LDA models with tf features, \"\n",
    "      \"n_samples=%d and n_features=%d...\"\n",
    "      % (n_samples, n_features))\n",
    "lda = LatentDirichletAllocation(n_components=n_components, max_iter=5,\n",
    "                                learning_method='online',\n",
    "                                learning_offset=50.,\n",
    "                                random_state=0)\n",
    "t0 = time()\n",
    "lda.fit(tf)\n",
    "print(\"done in %0.3fs.\" % (time() - t0))\n",
    "\n",
    "print(\"\\nTopics in LDA model:\")\n",
    "tf_feature_names = tf_vectorizer.get_feature_names()\n",
    "print_top_words(lda, tf_feature_names, n_top_words)"
   ],
   "metadata": {
    "collapsed": false,
    "pycharm": {
     "name": "#%%\n"
    }
   }
  },
  {
   "cell_type": "markdown",
   "source": [
    "# NMF MODEL"
   ],
   "metadata": {
    "collapsed": false,
    "pycharm": {
     "name": "#%% md\n"
    }
   }
  },
  {
   "cell_type": "code",
   "execution_count": 3,
   "outputs": [
    {
     "data": {
      "text/plain": "HBox(children=(HTML(value=''), FloatProgress(value=1.0, bar_style='info', layout=Layout(width='20px'), max=1.0…",
      "application/vnd.jupyter.widget-view+json": {
       "version_major": 2,
       "version_minor": 0,
       "model_id": "452a907d21a4414dabc1ee72e81e28d1"
      }
     },
     "metadata": {},
     "output_type": "display_data"
    },
    {
     "name": "stdout",
     "output_type": "stream",
     "text": [
      "\n",
      "14911725\n",
      "10000\n"
     ]
    }
   ],
   "source": [
    "# test topic modeling of app descriptions using both NMF and LDA\n",
    "# 1. open tokenized document, a sub-sample of all tokens for all apps (panels combined)\n",
    "%run -i '0_paths.py'\n",
    "%run -i '4_natural_language_processing.py'\n",
    "initial_panel = '201908'\n",
    "panels_have_text = ['201912', '202001', '202003', '202004', '202009', '202010', '202011']\n",
    "doc = combine_all_tokens_into_single_document(initial_panel, panels_have_text)\n",
    "print(len(doc))\n",
    "doc_sample = random.sample(doc, k = 10000)\n",
    "print(len(doc_sample))"
   ],
   "metadata": {
    "collapsed": false,
    "pycharm": {
     "name": "#%%\n"
    }
   }
  },
  {
   "cell_type": "code",
   "execution_count": 16,
   "outputs": [
    {
     "name": "stdout",
     "output_type": "stream",
     "text": [
      "['00', '000', '009688', '10', '100', '1050', '12', '120', '123', '13', '14', '15', '159', '1600x2560', '18', '180', '1865w', '19', '1908', '192', '1920x1920', '1939', '1980', '199', '1v1', '1x1', '20', '200', '2006', '2010', '2013', '2014', '2015', '2016', '2017', '2018', '2020', '21', '2150', '2160', '2165', '22', '2250', '24', '25', '2525', '257x', '2580', '27', '285x', '29', '2950', '2ce', '2d', '2elegant', '2nd', '30', '305x', '30teams', '31', '32', '327', '3300', '331x', '347x', '36', '360', '37', '38', '3d', '3gp', '3gpp', '3opib9bggiu', '40', '4000', '4096', '45', '46', '48', '4k', '4v4', '4x4', '50', '50hz', '512', '52', '576', '60', '600', '65', '75', '777', '80', '80000', '800p', '866', '8c', '8hz', '90', '91058', '99', 'aaa', 'aac', 'aap', 'ability', 'able', 'abraham', 'absolutely', 'abstract', 'abundance', 'abundant', 'ac3', 'academic', 'accent', 'access', 'accessible', 'accessory', 'accompaniment', 'accompany', 'accordance', 'account', 'accurate', 'accuweather', 'acerca', 'achieve', 'achievement', 'action', 'activate', 'active', 'actively', 'activity', 'actual', 'actually', 'acupuncturist', 'ad', 'ada', 'adapt', 'add', 'addict', 'addictive', 'addition', 'additional', 'address', 'adha', 'adhan', 'adjust', 'adjustable', 'admin', 'administration', 'administrator', 'admit', 'adorable', 'adrenaline', 'adult', 'advance', 'advanced', 'advances', 'advantage', 'adventure', 'advertisement', 'advertising', 'adveture', 'advice', 'aerial', 'aerobic', 'aesthetic', 'affect', 'affiliate', 'afqjcngxjeu6gbkqlzxursa7obzt14usfq', 'afraid', 'africa', 'after', 'again', 'age', 'agent', 'agree', 'agreement', 'aha', 'ahead', 'aimoto', 'air', 'aircraft', 'aircurve', 'airline', 'airlines', 'airplane', 'airpod', 'airport', 'al', 'alarm', 'album', 'albums', 'alcatraz', 'alert', 'alerts', 'algebra', 'aliasing', 'aliceteam', 'align', 'alike', 'alliance', 'allo', 'allow', 'allows', 'alongside', 'alphabet', 'alternate', 'alternative', 'amateur', 'amazing', 'amazon', 'ambit', 'ambition', 'amenity', 'america', 'aminophylline', 'amtran', 'amusement', 'an', 'analog', 'analysis', 'analyze', 'anchorman', 'ancient', 'android', 'angel', 'angle', 'angler', 'animal', 'animate', 'animation', 'anime', 'annie', 'annoying', 'annual', 'anonymity', 'anonymous', 'answer', 'anti', 'antivirus', 'antonyms', 'anxiety', 'anytime', 'apocalypse', 'app', 'apple', 'appliance', 'application', 'applications', 'apply', 'appointment', 'approach', 'appropriate', 'approve', 'apps', 'appsupport', 'apraxia', 'ar', 'arc', 'arcade', 'arcane', 'arch', 'architecture', 'area', 'armor', 'armored', 'army', 'arrangement', 'arrival', 'arrive', 'arro', 'arrow', 'arsenal', 'art', 'article', 'articulation', 'artificial', 'artist', 'asana', 'asia', 'ask', 'aspect', 'assemble', 'assess', 'asset', 'assets', 'assistance', 'assistant', 'associate', 'assumption', 'astonishing', 'astrologer', 'astronaut', 'astrophe', 'asvab', 'atlanta', 'atmosphere', 'atmospheric', 'attach', 'attack', 'attendance', 'attention', 'attire', 'attrition', 'auction', 'audience', 'audio', 'augustine', 'austria', 'authentically', 'authenticate', 'authenticator', 'author', 'authorization', 'autism', 'auto', 'autofill', 'automatic', 'automatically', 'available', 'avatar', 'average', 'avoid', 'await', 'awakening', 'award', 'awareness', 'away', 'awesome', 'ayurveda', 'b3c840', 'baby', 'babys', 'back', 'backcountry', 'backgammon', 'background', 'backgrounds', 'backup', 'backward', 'bad', 'badge', 'bag', 'bahamas', 'bakr', 'balance', 'balanced', 'ball', 'ban', 'band', 'bank', 'banking', 'banner', 'bar', 'barcode', 'barlow', 'barn', 'base', 'basic', 'basis', 'basketball', 'bass', 'bat', 'battery', 'battle', 'battleship', 'bay', 'bb', 'bcr', 'beach', 'bead', 'beat', 'beatle', 'beautiful', 'beauty', 'beautyplus', 'bedtime', 'begin', 'beginning', 'belong', 'beloved', 'below', 'ben', 'besplatno', 'bet', 'beta', 'betray', 'betterbatterystat', 'beware', 'bible', 'big', 'bigoven', 'bike', 'bikini', 'bill', 'billet', 'billing', 'bind', 'bingo', 'bingoholiday', 'bird', 'birth', 'birthday', 'bisexual', 'bit', 'black', 'blackcomb', 'blacksmith', 'blanc', 'blast', 'blek', 'block', 'blocker', 'blog', 'blood', 'blossom', 'blowhole', 'bluegrass', 'bluetooth', 'blur', 'bmw', 'bo', 'board', 'boardgame', 'boat', 'boater', 'boating', 'body', 'bomb', 'bonus', 'book', 'booker', 'bookmark', 'books', 'boost', 'booster', 'boot', 'bootloop', 'border', 'bored', 'boring', 'bot', 'bound', 'bowl', 'bowling', 'box', 'boy', 'boyfriend', 'brain', 'brainless', 'brand', 'brave', 'brazil', 'break', 'breath', 'bridge', 'bright', 'brightness', 'bring', 'broken', 'brown', 'browse', 'browser', 'browsing', 'brush', 'bts', 'bubble', 'buchalter', 'bud', 'buddy', 'buddybeacon', 'budget', 'bug', 'bugle', 'build', 'builder', 'building', 'bumper', 'bunny', 'burn', 'bus', 'business', 'busy', 'button', 'buy', 'bys', 'cable', 'cad', 'calculate', 'calculation', 'calculator', 'calendar', 'california', 'californian', 'call', 'calls', 'calorie', 'camera', 'cameras', 'campaign', 'can', 'canbus', 'cancel', 'candy', 'canister', 'cantares', 'canyon', 'capability', 'captain', 'capture', 'car', 'carb', 'card', 'carddav', 'cardholder', 'cardiac', 'cardiogram', 'care', 'career', 'carefully', 'cargo', 'caring', 'carrier', 'cartography', 'cartoon', 'case', 'cases', 'cash', 'cashier', 'casino', 'cast', 'castle', 'casual', 'cat', 'catastrophe', 'catch', 'categories', 'category', 'cater', 'catering', 'catholic', 'cause', 'cave', 'ccg', 'cebit', 'celebrity', 'cell', 'cellular', 'censorship', 'center', 'ceo', 'certain', 'certificate', 'certification', 'chain', 'challenge', 'challenging', 'chamber', 'championship', 'change', 'changer', 'channel', 'channelwood', 'chant', 'chapter', 'character', 'characteristic', 'characters', 'charge', 'charger', 'chart', 'chase', 'chat', 'chatgum', 'check', 'checklist', 'checkout', 'cheerleading', 'cheese', 'chess', 'chicken', 'child', 'childs', 'chinese', 'chip', 'choice', 'choose', 'chord', 'chorus', 'chr', 'christmas', 'chrome', 'chromecast', 'chronicle', 'chun', 'church', 'cin', 'cinematographers', 'circadian', 'circle', 'circuit', 'city', 'claim', 'clan', 'clarify', 'clash', 'class', 'classic', 'classified', 'classroom', 'clean', 'cleaning', 'clear', 'clef', 'cleopatra', 'clever', 'click', 'climb', 'clinician', 'clip', 'clock', 'close', 'closed', 'clothe', 'clothing', 'cloud', 'clover', 'club', 'clubhouse', 'clue', 'cm', 'co', 'coach', 'coaching', 'coaster', 'cocktail', 'code', 'cohen', 'coin', 'coins', 'collage', 'collect', 'collection', 'college', 'color', 'colorblind', 'colorful', 'coloring', 'column', 'com', 'combat', 'combination', 'combine', 'combos', 'come', 'comedy', 'comfort', 'comfortable', 'command', 'commands', 'comment', 'commentsnursing', 'committed', 'communicate', 'communication', 'community', 'companion', 'company', 'compare', 'compass', 'compatibility', 'compatible', 'compensator', 'compete', 'competition', 'competitor', 'compilation', 'compiler', 'complaint', 'complement', 'complete', 'completely', 'complex', 'compose', 'composition', 'compress', 'compressor', 'computer', 'con', 'concerned', 'concert', 'concrete', 'condition', 'cone', 'conference', 'configuration', 'confirmation', 'congas', 'conjugator', 'connect', 'connected', 'connection', 'connector', 'conquer', 'consider', 'constantly', 'constellation', 'construct', 'construction', 'consulting', 'consumer', 'contact', 'contain', 'content', 'contest', 'continental', 'continue', 'continued', 'continuously', 'contour', 'contractor', 'contribute', 'control', 'controllable', 'controlled', 'controller', 'controllers', 'convenience', 'convenient', 'conveniently', 'conversation', 'convert', 'conveyor', 'cook', 'cookie', 'cooking', 'cool', 'cooperative', 'coordinate', 'copay', 'copy', 'core', 'corner', 'corolla', 'corporation', 'correct', 'correctly', 'correspondence', 'cost', 'costume', 'cough', 'count', 'countdown', 'counter', 'country', 'coupe', 'couple', 'coupon', 'course', 'cove', 'cover', 'cow', 'cpg', 'crack', 'cradle', 'craft', 'crafty', 'craigslist', 'crash', 'crazy', 'cream', 'create', 'creation', 'creative', 'creativity', 'creator', 'credential', 'credit', 'crew', 'crime', 'criminal', 'crisis', 'critic', 'critical', 'croatia', 'cronometer', 'crop', 'cross', 'crossword', 'crowd', 'crown', 'cruise', 'crush', 'csr', 'csv', 'cuisine', 'culinary', 'cult', 'cultures', 'cunning', 'cup', 'curate', 'curation', 'cure', 'currency', 'current', 'currently', 'curriculum', 'curse', 'cursed', 'curvy', 'custom', 'customer', 'customizable', 'customization', 'customize', 'customized', 'cut', 'cute', 'cyborg', 'cycle', 'cycling', 'cyclone', 'dac', 'daily', 'dallascowboy', 'damage', 'dance', 'dancer', 'danger', 'dangerous', 'darabuka', 'dari', 'dario', 'dark', 'dashboard', 'data', 'database', 'date', 'datum', 'davy', 'dawn', 'dax', 'day', 'daytime', 'de', 'dead', 'deadly', 'deal', 'dealer', 'dear', 'death', 'deathwish', 'debit', 'debt', 'decide', 'decision', 'deck', 'decorate', 'decoration', 'decrease', 'dedicate', 'dedicated', 'deed', 'deep', 'deeply', 'default', 'defeat', 'defend', 'define', 'definition', 'degree', 'degrees', 'del', 'delete', 'delicious', 'delight', 'delightment', 'deliver', 'delivery', 'demand', 'demanding', 'dementia', 'department', 'depend', 'deposit', 'depress', 'depression', 'depth', 'derby', 'descend', 'description', 'desert', 'design', 'designer', 'desire', 'desk', 'desktop', 'destination', 'destiny', 'destroy', 'detail', 'detailed', 'detection', 'determine', 'develop', 'developer', 'development', 'device', 'devise', 'dexterity', 'dhamar', 'dialog', 'diary', 'dice', 'dicken', 'dictionary', 'didn', 'diesel', 'diet', 'dietary', 'different', 'difficulty', 'dig', 'digit', 'digital', 'dimension', 'dimensional', 'diminutive', 'dining', 'dinner', 'dinosaur', 'dip', 'direct', 'directing', 'direction', 'directly', 'directory', 'directv', 'disable', 'disclaim', 'disclaimer', 'disclose', 'discord', 'discount', 'discover', 'discretion', 'discuss', 'disease', 'disguise', 'dish', 'disney', 'disorder', 'dispatch', 'display', 'disruption', 'distance', 'distinguish', 'district', 'dive', 'diverse', 'divide', 'diving', 'diy', 'djtechtools', 'dmv', 'do', 'dock', 'doctor', 'doctrine', 'document', 'dod', 'dodo', 'dodream', 'doesn', 'doesnt', 'dog', 'dokk', 'doll', 'dollar', 'dollhouse', 'dome', 'domination', 'dominicana', 'don', 'donat', 'donate', 'door', 'dope', 'dosing', 'double', 'download', 'downloader', 'downloaditandgeta', 'dozen', 'draft', 'drag', 'dragon', 'drain', 'draw', 'drawer', 'drawing', 'dream', 'dress', 'drift', 'drifting', 'drill', 'drink', 'drive', 'driver', 'driving', 'droid', 'drop', 'dropbox', 'drug', 'drugs', 'drum', 'dsitribution', 'dslr', 'dsm', 'dtcfix', 'dual', 'duck', 'duel', 'duke', 'dumbbell', 'dungeon', 'dynamic', 'dynamically', 'e40', 'early', 'earn', 'earphone', 'earth', 'eas', 'ease', 'easily', 'easy', 'eat', 'ebay', 'ebook', 'ecgsource', 'ecu', 'edge', 'edit', 'editable', 'edition', 'editor', 'edm', 'educate', 'education', 'educational', 'effect', 'effectively', 'effects', 'efficient', 'egg', 'egypt', 'egyptians', 'el', 'electrical', 'electronic', 'elegant', 'element', 'elevation', 'elitesingle', 'email', 'embed', 'embrace', 'embroider', 'eminem', 'emmy', 'emoji', 'emojis', 'emotion', 'emotive', 'empire', 'employer', 'employment', 'emt', 'en', 'enable', 'encoder', 'encompass', 'encourage', 'encouragement', 'encrypt', 'encryption', 'end', 'endless', 'enemy', 'energy', 'engine', 'engineering', 'english', 'enhance', 'enhancement', 'enjoy', 'enjoyable', 'enormous', 'enrol', 'ensure', 'enter', 'entertain', 'entertainment', 'entire', 'entirely', 'entity', 'entrust', 'entry', 'environment', 'eos', 'epic', 'episode', 'eps', 'equation', 'equations', 'equip', 'equipment', 'equivalent', 'erase', 'eraser', 'error', 'es', 'escape', 'espaol', 'especiale', 'especially', 'esport', 'establish', 'estate', 'estimate', 'etc', 'european', 'euw', 'evacuate', 'event', 'everybody', 'everyday', 'evil', 'evolution', 'evolve', 'evp', 'exact', 'exactly', 'examination', 'examine', 'example', 'excel', 'excellent', 'excepcin', 'exchange', 'excite', 'excitement', 'exciting', 'exclude', 'exclusive', 'excuse', 'exercise', 'exhibition', 'exist', 'exotic', 'expand', 'expansion', 'expect', 'expense', 'experience', 'experienced', 'expert', 'explanation', 'explore', 'explosion', 'export', 'expose', 'exposure', 'express', 'external', 'extra', 'extract', 'extreme', 'eye', 'eyed', 'eyeliner', 'f10', 'fabulous', 'face', 'facebook', 'facility', 'faction', 'factor', 'factory', 'fade', 'fail', 'fair', 'faithfully', 'fake', 'fall', 'false', 'familia', 'familiar', 'family', 'famous', 'fan', 'fandom', 'fans', 'fantasy', 'faq', 'far', 'farm', 'farmer', 'farming', 'farms', 'fascinante', 'fascinate', 'fashion', 'fashionable', 'fast', 'fastpass', 'fat', 'fate', 'fave', 'favor', 'favorite', 'favorites', 'favourite', 'fax', 'fear', 'fearless', 'feasible', 'feast', 'feature', 'features', 'feed', 'feedback', 'feel', 'feis', 'festival', 'festivity', 'fetch', 'few', 'ffvl', 'fi', 'fictional', 'field', 'fierce', 'fiercest', 'fight', 'file', 'fill', 'filter', 'final', 'finally', 'find', 'fine', 'finely', 'finger', 'fingertip', 'finish', 'finland', 'finnish', 'fire', 'fish', 'fishing', 'fist', 'fit', 'fitness', 'fix', 'flac', 'flag', 'flagging', 'flamenco', 'flap', 'flashlight', 'flashs', 'flat', 'flavor', 'flerlage', 'flight', 'flip', 'flippy', 'float', 'floor', 'floral', 'flow', 'flower', 'fluffy', 'fluid', 'flush', 'flv', 'fly', 'flying', 'focus', 'focused', 'foe', 'foil', 'folder', 'follow', 'follower', 'font', 'food', 'fool', 'footage', 'football', 'forbe', 'forbes', 'force', 'ford', 'forecast', 'foreign', 'forest', 'forfeit', 'forget', 'form', 'format', 'formation', 'formula', 'fort', 'fortune', 'forum', 'forward', 'foundation', 'fountain', 'foursquare', 'fox', 'fractional', 'fragment', 'fragrance', 'frame', 'franais', 'francisco', 'free', 'freebie', 'freely', 'freestyle', 'freetoedit', 'frequency', 'frequent', 'friend', 'friendly', 'friends', 'friendzone', 'frontier', 'frontline', 'fruit', 'ft', 'fuel', 'fully', 'fullyraw', 'fun', 'function', 'functionality', 'functions', 'funny', 'future', 'futuristic', 'fx', 'g5enter', 'gachaverse', 'gain', 'galaxy', 'galician', 'gallery', 'gambling', 'game', 'gamehive', 'gamepad', 'gameplay', 'gamer', 'gamers', 'games', 'gamezebo', 'gaming', 'garage', 'garmin', 'gas', 'gate', 'gates', 'gather', 'gear', 'gem', 'gender', 'general', 'generate', 'generator', 'genie', 'genki', 'genre', 'geographic', 'geography', 'geolocation', 'geolocator', 'geomagnetic', 'geometric', 'george', 'georgia', 'german', 'gesture', 'get', 'gg', 'gif', 'gifs', 'gift', 'gimbal', 'girl', 'gis', 'give', 'gizmodo', 'gladiator', 'glam', 'glass', 'glaucoma', 'glide', 'glider', 'glitter', 'global', 'globally', 'glu', 'gluconate', 'go', 'goal', 'goals', 'goblin', 'god', 'gold', 'golf', 'goliath', 'goni', 'good', 'goodbye', 'google', 'googleplay', 'goosebump', 'gorgeous', 'government', 'gp', 'gps', 'gpu', 'grade', 'gradually', 'grandfather', 'grandmother', 'grant', 'graph', 'graphic', 'graphics', 'graphopper', 'graphs', 'grassland', 'grateful', 'great', 'green', 'grenade', 'greyson', 'grid', 'grill', 'groceries', 'groene', 'groom', 'groundbreake', 'group', 'grow', 'guarantee', 'guard', 'guardar', 'guess', 'guest', 'guidance', 'guide', 'guild', 'gun', 'guy', 'gwen', 'gym', 'gymkhana', 'gypsy', 'gyroscope', 'h1', 'h2', 'habitat', 'hack', 'hago', 'hair', 'hairstyle', 'halcyon', 'halo', 'hamlet', 'hand', 'handle', 'handpicke', 'handyman', 'happy', 'hard', 'hardware', 'harmful', 'harry', 'hasbro', 'hash', 'hassle', 'hat', 'haunted', 'haute', 'have', 'hawkings', 'hd', 'head', 'headache', 'headphone', 'headset', 'headspace', 'heal', 'health', 'healthcare', 'healthy', 'heap', 'hear', 'heart', 'heavily', 'height', 'hell', 'helmet', 'help', 'helper', 'helpful', 'herd', 'hero', 'herpes', 'hi', 'hidden', 'hide', 'high', 'highintensityinterval', 'highlight', 'highly', 'hiho', 'hike', 'hill', 'hily', 'himnario', 'hint', 'hints', 'hiroshi', 'historian', 'history', 'hit', 'hog', 'holdem', 'holo', 'home', 'homepage', 'hometown', 'homework', 'hood', 'hop', 'hope', 'horas', 'horoscope', 'horror', 'host', 'hot', 'hotel', 'hotspot', 'hour', 'hourly', 'hours', 'house', 'housekeeping', 'houseplant', 'href', 'html', 'hue', 'huge', 'hum', 'human', 'hundred', 'hungarian', 'hunt', 'hunter', 'hunting', 'hurdle', 'hurricane', 'husary', 'hydromorphone', 'hysplit', 'iap', 'ibex', 'ice', 'icelandic', 'icon', 'iconpack', 'idea', 'identify', 'identity', 'idle', 'idreams', 'idx', 'ifit', 'ifta', 'ign', 'ignite', 'ii', 'ilauncher', 'illimit', 'illustration', 'image', 'imageclass', 'imagery', 'images', 'imaginable', 'imagination', 'imagine', 'immediately', 'immerse', 'impeccable', 'import', 'importance', 'important', 'impossible', 'impress', 'impressive', 'improve', 'improvement', 'improvise', 'in', 'inappropriate', 'inc', 'include', 'increase', 'increasingly', 'incredible', 'incredibly', 'india', 'indicate', 'indication', 'indicator', 'indie', 'indonesian', 'indygo', 'inexpensive', 'infestation', 'influence', 'info', 'informacin', 'information', 'informative', 'ingredient', 'injure', 'inner', 'innovative', 'input', 'inquiry', 'insert', 'inside', 'insider', 'inspire', 'instagram', 'instal', 'install', 'instant', 'instantly', 'instead', 'instruction', 'instrument', 'int', 'integrate', 'integrated', 'integration', 'intellectual', 'intense', 'intensity', 'intensive', 'intention', 'interact', 'interactive', 'interest', 'interested', 'interesting', 'interface', 'intergalactic', 'interior', 'intermediate', 'internal', 'international', 'internationally', 'internet', 'interval', 'intriguing', 'intro', 'introduce', 'intromate', 'intuitive', 'invent', 'inventory', 'investment', 'invitation', 'invoice', 'involve', 'ip', 'iphone', 'ipoe', 'ireland', 'irrelevant', 'irs', 'island', 'iso', 'issue', 'it', 'italian', 'italic', 'itching', 'item', 'itune', 'j1', 'j5', 'j7', 'jackpot', 'jam', 'jammed', 'janaza', 'january', 'japan', 'japanese', 'java', 'jazz', 'jesus', 'jet', 'jigsaw', 'job', 'join', 'journey', 'jp', 'jpeg', 'juke', 'jump', 'jungle', 'junk', 'jurassic', 'k1epbaapaei', 'kaboom', 'karma', 'kauai', 'kawaii', 'kazuki', 'kcm', 'keep', 'keepsafe', 'kernel', 'keto', 'ketone', 'key', 'keyboard', 'keypad', 'khalifa', 'kick', 'kid', 'kind', 'kindle', 'kindness', 'king', 'kingdom', 'kitchen', 'kitkat', 'kitty', 'knight', 'know', 'knowledge', 'knuckle', 'kodi', 'komodo', 'korean', 'kranz', 'kris', 'krissy', 'kron', 'kryuger', 'ksana', 'kustom', 'lab', 'lady', 'laferrari', 'lagoon', 'lainchan', 'lake', 'land', 'landline', 'landscape', 'language', 'languages', 'languinis', 'lap', 'lapse', 'large', 'las', 'late', 'later', 'latin', 'latvia', 'laugh', 'launch', 'launcher', 'lay', 'layout', 'le', 'lead', 'leader', 'leaderboard', 'league', 'leak', 'learn', 'learning', 'leave', 'left', 'legal', 'legally', 'legend', 'length', 'lesson', 'let', 'letter', 'level', 'leverage', 'lg', 'library', 'license', 'licensing', 'lie', 'life', 'lifehacker', 'lifestyle', 'lifetime', 'light', 'lighting', 'lightne', 'lightning', 'lightyear', 'like', 'likely', 'likeness', 'limit', 'limitation', 'limited', 'line', 'lineup', 'linger', 'link', 'linky', 'lintrieur', 'linux', 'lipstick', 'list', 'listen', 'literally', 'little', 'live', 'liveatc', 'lively', 'liverpool', 'living', 'lj60xx', 'll', 'llc', 'load', 'loading', 'loan', 'local', 'location', 'locations', 'lock', 'locker', 'log', 'logbook', 'logical', 'logo', 'logomania', 'logs', 'london', 'long', 'look', 'lookout', 'lookup', 'loop', 'looper', 'loot', 'los', 'lose', 'losmandy', 'loss', 'lot', 'love', 'lovecraft', 'low', 'lowercase', 'lucid', 'luck', 'lucky', 'lullaby', 'lumyer', 'lur', 'luxe', 'luxury', 'm600', 'm797', 'macabre', 'machine', 'machines', 'macro', 'made', 'mafia', 'mag', 'mage', 'magic', 'magnate', 'magnet', 'magnetic', 'main', 'maintain', 'make', 'maker', 'makeup', 'malaysia', 'male', 'malicious', 'man', 'manage', 'management', 'manager', 'maneuver', 'mania', 'manicure', 'mansion', 'manually', 'manufacturer', 'map', 'mapping', 'maps', 'march', 'marine', 'mark', 'market', 'marketing', 'markstevens', 'marriage', 'marry', 'mars', 'marvel', 'massage', 'massive', 'master', 'mastercard', 'mastermind', 'masterpiece', 'match', 'material', 'math', 'matter', 'mavic', 'max', 'maximize', 'maximum', 'maybe', 'maze', 'mb', 'mbta', 'mdlive', 'me', 'meal', 'mean', 'meaningful', 'measure', 'measurement', 'mech', 'mechanic', 'mechanical', 'med', 'media', 'media365', 'mediators', 'medical', 'medieval', 'meditation', 'medium', 'medscape', 'meet', 'meeting', 'mega', 'member', 'members', 'membership', 'meme', 'memo', 'memory', 'men', 'menacing', 'mental', 'mentor', 'menu', 'merrier', 'merry', 'mess', 'message', 'messenger', 'metal', 'meter', 'meterup', 'method', 'meticulously', 'metric', 'mezzmo', 'mic', 'microphone', 'microsoft', 'microtransaction', 'migraine', 'mil', 'mileage', 'military', 'million', 'millionaire', 'mind', 'minded', 'minecraft', 'miner', 'mini', 'minimalism', 'minimum', 'mining', 'minnesota', 'minute', 'mismatch', 'miss', 'mission', 'ml', 'mlb', 'mls', 'mm', 'mmguardian', 'mmorpg', 'mms', 'mobile', 'mobilesupport', 'mode', 'model', 'modem', 'modern', 'modest', 'modification', 'module', 'mojang', 'mom', 'moment', 'money', 'monitor', 'monitoring', 'monkey', 'monograph', 'monster', 'monstie', 'month', 'monthly', 'moon', 'more', 'morning', 'mosh', 'mother', 'motion', 'motivate', 'motivational', 'motocross', 'motor', 'motorcycle', 'motorola', 'mountain', 'mouse', 'mov', 'move', 'movement', 'movie', 'mozilla', 'mp3', 'mpc', 'mr', 'msnbc', 'mtl', 'mucus', 'multi', 'multiplayer', 'multiple', 'multitask', 'multitrack', 'multitude', 'multiverse', 'muscle', 'musedashthegame', 'museum', 'music', 'musical', 'musician', 'mutant', 'mvc', 'mvp', 'myduaa', 'myfitnesspal', 'myft', 'mysterious', 'mysterium', 'mzd', 'n1', 'n2', 'n2019', 'n29', 'n3', 'n4', 'n5', 'n50', 'n8', 'n9', 'na', 'nadjustable', 'nadobe', 'nag', 'nail', 'nall', 'nalready', 'nalso', 'namazing', 'name', 'nampme', 'nand', 'nandorra', 'nap', 'napps', 'nappspy', 'naren', 'narto', 'natal', 'national', 'native', 'natural', 'naudiobook', 'nautical', 'navailable', 'navigation', 'navigational', 'nbattle', 'nbc', 'nbooks', 'nbreathing', 'nchoose', 'nclimb', 'ncollect', 'ncontacts', 'ncoparenting', 'ncrafts', 'ndining', 'ndisclaimer', 'ndiscover', 'ndon', 'neach', 'near', 'nearly', 'necessarily', 'necessary', 'neck', 'nederland', 'need', 'needed', 'neighborhood', 'nenter', 'neon', 'net', 'netflix', 'network', 'networks', 'neven', 'new', 'news', 'nexport', 'nexposure', 'nf', 'nfacebook', 'nfeature', 'nfeatures', 'nfind', 'nfl', 'nfollowe', 'nfor', 'nfree', 'nfrom', 'nfull', 'ng', 'nget', 'nhave', 'nhere', 'nhl', 'nhow', 'nhuuuge', 'nidentify', 'nif', 'night', 'nin', 'ninja', 'ninput', 'ninternet', 'nipnos', 'nitro', 'niv', 'nkey', 'nkiddopia', 'nlet', 'nlibros', 'nlifehacker', 'nlip', 'nln', 'nlogo', 'nlove', 'nmake', 'nmassive', 'nmeal', 'nmileiq', 'nmovies', 'nnavier', 'nno', 'nnote', 'nnotebook', 'noaa', 'noise', 'nollywood', 'non', 'nonstop', 'normal', 'north', 'northern', 'nose', 'not', 'notch', 'note', 'notes', 'notesso', 'notice', 'notification', 'notify', 'nour', 'nova', 'nover', 'novice', 'np2p', 'npango', 'nperiodicals', 'npet', 'nplatinum', 'nplay', 'nplease', 'nplus', 'npractice', 'npremium', 'npress', 'nprivacy', 'nprofessional', 'nqaida', 'nqlink', 'nquestion', 'nredmi', 'nrender', 'nreview', 'nscary', 'nsecurity', 'nsharing', 'nshow', 'nsignalcheck', 'nsimply', 'nsonic', 'nstep', 'nsudoku', 'nsuper', 'nsupport', 'nsurprising', 'nswipe', 'nsynctuition', 'nthe', 'nthere', 'nthis', 'ntidal', 'ntime', 'nto', 'ntrack', 'ntravel', 'ntriptracker', 'ntroubleshooting', 'nturks', 'nultimate', 'number', 'numero', 'nunique', 'nupgradeable', 'nurse', 'nursing', 'nuse', 'nut', 'nvideo', 'nvoice', 'nvosotro', 'nwhen', 'nwhenever', 'nwhether', 'nwith', 'nworkout', 'nxioma', 'nyellowstone', 'nyou', 'nyour', 'obd1', 'obd2', 'obdlink', 'object', 'objective', 'obstacle', 'occasional', 'occupy', 'occur', 'ocean', 'oct', 'octopus', 'ocultismo', 'off', 'offat', 'offender', 'offer', 'offerit', 'office', 'officer', 'official', 'offline', 'offroad', 'oh', 'ohio', 'old', 'olderwithout', 'om', 'onboard', 'one', 'onedrive', 'onion', 'online', 'ons', 'onsite', 'onstar', 'oop', 'opacity', 'open', 'opening', 'openqm', 'openstreetmap', 'operate', 'operating', 'operation', 'opportunity', 'oppose', 'opt', 'optimal', 'optimize', 'option', 'optional', 'options', 'orbit', 'order', 'ordia', 'ordinal', 'org', 'organic', 'organization', 'organize', 'organizer', 'original', 'oscar', 'osmand', 'osteoporosis', 'oubrat', 'out', 'outcome', 'outdoor', 'outfit', 'outgoing', 'outlit', 'outpatient', 'output', 'outside', 'overall', 'overlays', 'overlord', 'overspend', 'overthrow', 'overview', 'own', 'owner', 'oxford', 'oyo', 'p20', 'pack', 'pad', 'page', 'pair', 'pal', 'palette', 'palm', 'pan', 'panasonic', 'panda', 'pandas', 'panorama', 'pantone', 'paper', 'paperless', 'para', 'paramedic', 'parameter', 'parchis', 'parent', 'parentapp', 'paris', 'park', 'parkchicago', 'parking', 'part', 'participant', 'participate', 'particular', 'particularly', 'partner', 'party', 'pass', 'passage', 'password', 'passwords', 'past', 'path', 'pathfinder', 'patient', 'pattern', 'pay', 'paybyphone', 'payment', 'paypal', 'payrange', 'pc', 'pdf', 'pdfs', 'peace', 'peaceful', 'peak', 'pediatric', 'pedometer', 'peetnik', 'pegelonline', 'pen', 'penalize', 'pendulum', 'people', 'percentage', 'percussive', 'perfect', 'perfectly', 'perform', 'performance', 'perilous', 'period', 'periodic', 'permission', 'persistent', 'person', 'personal', 'personality', 'personalize', 'perspective', 'pet', 'pfr', 'phase', 'philadelphia', 'philip', 'phish', 'phishing', 'phone', 'phoneline', 'phonic', 'photo', 'photobooth', 'photographic', 'physics', 'physiology', 'pianista', 'piano', 'pic', 'pick', 'picker', 'picmonic', 'picnic', 'pics', 'picture', 'pie', 'piece', 'pile', 'pillage', 'pilot', 'pin', 'ping', 'pink', 'pinyin', 'pirate', 'pitcher', 'pitching', 'pixel', 'pizza', 'place', 'plan', 'plane', 'planet', 'plankton', 'planner', 'planning', 'plans', 'plant', 'plate', 'platform', 'play', 'playback', 'player', 'playfully', 'playing', 'playlist', 'playstore', 'playthrough', 'plenty', 'plot', 'pls', 'plug', 'plus', 'pms', 'pocket', 'podcast', 'poe', 'point', 'poker', 'police', 'policy', 'polished', 'political', 'pollen', 'pollution', 'poncho', 'pool', 'pop', 'popular', 'populate', 'populated', 'por', 'port', 'portal', 'portfolio', 'portion', 'portrait', 'portuguese', 'position', 'positive', 'possess', 'possibility', 'possible', 'post', 'poster', 'postpone', 'potential', 'potion', 'potty', 'power', 'powerful', 'practical', 'practice', 'prague', 'prayer', 'pre', 'precaution', 'precious', 'precipitation', 'precise', 'precisely', 'precision', 'prediction', 'predominant', 'preference', 'preferred', 'pregnancy', 'premier', 'premium', 'prepare', 'preschool', 'preschooler', 'prescription', 'present', 'presentation', 'preset', 'president', 'press', 'pressure', 'prestige', 'pretty', 'preview', 'previous', 'previously', 'price', 'prime', 'princess', 'print', 'prior', 'prioritizing', 'priority', 'privacy', 'private', 'prize', 'pro', 'problem', 'procedurally', 'proceed', 'process', 'produce', 'product', 'productive', 'productivity', 'professional', 'profile', 'program', 'programmable', 'progress', 'progressive', 'progressively', 'project', 'projection', 'promise', 'promotion', 'pron', 'pronunciation', 'prop', 'propane', 'property', 'protect', 'protection', 'protest', 'prove', 'proverbio', 'provide', 'provider', 'proxy', 'pst', 'psychic', 'psychopharmacology', 'public', 'publish', 'publisher', 'puede', 'pull', 'pulmonary', 'pump', 'punch', 'punchy', 'pup', 'puppy', 'purchase', 'pure', 'purge', 'purpose', 'push', 'putty', 'puzzle', 'pvp', 'pyramid', 'pyware', 'q15', 'q8', 'qr', 'quality', 'quc', 'que', 'quest', 'question', 'quick', 'quickbook', 'quickkick', 'quickly', 'quietcontrol', 'quitnow', 'quiz', 'quizdom', 'quote', 'rabbit', 'race', 'racing', 'rack', 'radar', 'radio', 'radonsoft', 'raiders', 'railroad', 'rain', 'raise', 'ramp', 'rampage', 'ranch', 'random', 'randomize', 'randomly', 'range', 'rank', 'ranking', 'rapunzel', 'rar', 'rarely', 'rate', 'rating', 'raven', 'raw', 'ray', 're', 'reach', 'reaction', 'reactor', 'read', 'reader', 'reading', 'ready', 'real', 'realfeel', 'realism', 'realistic', 'reality', 'realize', 'realm', 'reason', 'reboot', 'receipt', 'receive', 'receiver', 'recent', 'reception', 'recipe', 'recipient', 'recognizable', 'recognize', 'recommend', 'recommendation', 'recommended', 'reconcile', 'reconnect', 'record', 'recorder', 'recording', 'recruit', 'red', 'reddit', 'reduce', 'reef', 'reference', 'refine', 'refrigerator', 'regardless', 'regime', 'region', 'regional', 'register', 'registered', 'regular', 'regularly', 'reign', 'relate', 'relational', 'relative', 'relax', 'relaxation', 'relaxing', 'relay', 'release', 'reliable', 'relive', 'remember', 'reminder', 'remix', 'remote', 'remotely', 'remove', 'remover', 'renew', 'renewal', 'renfe', 'rent', 'rental', 'rep', 'repair', 'repeat', 'replace', 'replay', 'replayability', 'replayable', 'reply', 'report', 'reporting', 'represent', 'represented', 'reproduce', 'request', 'require', 'requirement', 'rescue', 'research', 'resemblance', 'reservation', 'reserve', 'reset', 'resist', 'resistance', 'resize', 'resolution', 'resolve', 'resort', 'resource', 'respective', 'respin', 'respond', 'responsibility', 'rest', 'restaurant', 'restore', 'restriction', 'result', 'results', 'resume', 'retention', 'retrieve', 'return', 'revel', 'revenue', 'revheadz', 'review', 'reviewer', 'revive', 'revolutionary', 'reward', 'rhythm', 'rich', 'rickety', 'ride', 'riding', 'riffle', 'right', 'ring', 'ringtone', 'ripl', 'ripple', 'risk', 'rita', 'ritual', 'rival', 'river', 'rn', 'road', 'roadside', 'robot', 'robux', 'rock', 'rockie', 'rod', 'rogue', 'roku', 'roleplay', 'roll', 'rom', 'romanian', 'romantic', 'roof', 'room', 'roomi', 'root', 'rope', 'rose', 'roster', 'rotate', 'round', 'route', 'router', 'routes', 'routine', 'royale', 'roza', 'rpg', 'rss', 'rsv', 'ruin', 'rule', 'rules', 'rummy', 'run', 'runway', 'russian', 'sa', 'safe', 'safeincloud', 'safely', 'safety', 'safeweb', 'sailing', 'sailor', 'salad', 'salary', 'sale', 'salon', 'samsung', 'san', 'sandbox', 'santeria', 'santorini', 'satellite', 'satisfaction', 'savage', 'savannah', 'save', 'saving', 'savings', 'savvy', 'scalable', 'scan', 'scandinavian', 'scanline', 'scanner', 'scanning', 'scatter', 'scene', 'schedule', 'scheme', 'school', 'schooler', 'sci', 'science', 'scientific', 'scooter', 'score', 'scoring', 'scrabble', 'scratch', 'scream', 'screen', 'screenshot', 'scroll', 'sd', 'sea', 'seamless', 'search', 'season', 'seat', 'second', 'secret', 'section', 'sectional', 'sector', 'secure', 'securely', 'security', 'see', 'seek', 'sega', 'seis', 'select', 'selecte', 'selection', 'self', 'selfie', 'sell', 'selva', 'send', 'sensor', 'separate', 'separately', 'series', 'seriously', 'serve', 'server', 'service', 'session', 'set', 'setpoint', 'settable', 'setting', 'settings', 'settle', 'setup', 'severe', 'sexual', 'shade', 'shadow', 'shalker', 'shampoo', 'shape', 'share', 'shareholder', 'sharing', 'shark', 'sheet', 'shelter', 'shepherd', 'shift', 'ship', 'shipping', 'shirt', 'shoe', 'shoot', 'shooter', 'shooting', 'shop', 'shopping', 'shops', 'short', 'shortcut', 'shot', 'show', 'showcase', 'shows', 'shrm', 'shutterfly', 'sierra', 'sight', 'sign', 'signal', 'signature', 'silence', 'silk', 'silkie', 'silver', 'silverstone', 'similar', 'simmered', 'simple', 'simplify', 'simply', 'simpson', 'simulator', 'simultaneously', 'single', 'site', 'size', 'ski', 'skill', 'skin', 'skoda', 'sky', 'skycaddie', 'skype', 'skyward', 'slang', 'slaughter', 'slaw', 'sleep', 'sleepy', 'slice', 'slide', 'slideplus', 'slight', 'slightly', 'slime', 'slingshot', 'slot', 'slovak', 'slow', 'slowly', 'smack', 'small', 'smart', 'smartband', 'smartphone', 'smartscreenonoff', 'smartwatch', 'smile', 'smiley', 'smoke', 'smooth', 'sms', 'snapchat', 'snappy', 'sneak', 'sng', 'sniper', 'snow', 'so', 'soccer', 'social', 'society', 'sofa', 'software', 'solar', 'solely', 'solicitation', 'solitaire', 'solo', 'solunar', 'solution', 'solve', 'song', 'sony', 'soon', 'soothe', 'sophisticated', 'sort', 'soul', 'sound', 'soundcloud', 'soundtrack', 'source', 'southern', 'sp', 'space', 'spaceship', 'spade', 'spain', 'span', 'spanish', 'spare', 'spark', 'speak', 'speaker', 'special', 'specialist', 'specialized', 'species', 'specific', 'spectacular', 'spectator', 'speech', 'speed', 'speedball', 'spell', 'spelling', 'spend', 'spicy', 'spider', 'spin', 'spirit', 'spirituality', 'split', 'spongebob', 'sponsor', 'sport', 'sportsbook', 'sporty', 'spot', 'spring', 'sproggi', 'spy', 'spyware', 'sql', 'squad', 'square', 'ssid', 'stable', 'stack', 'staff', 'stage', 'stamp', 'standard', 'star', 'starry', 'starship', 'start', 'starz', 'stat', 'state', 'states', 'station', 'statistic', 'stats', 'statue', 'status', 'stay', 'steal', 'steer', 'step', 'stewart', 'stick', 'sticker', 'sticky', 'stine', 'stock', 'stop', 'stopwatch', 'storage', 'store', 'stored', 'storm', 'storm8', 'story', 'straight', 'strange', 'stranger', 'strategic', 'strategy', 'stream', 'streaming', 'streamline', 'streamlined', 'street', 'strength', 'stress', 'stretch', 'strict', 'strike', 'striker', 'string', 'strip', 'stripe', 'strive', 'strokes', 'strong', 'structure', 'student', 'studio', 'studios', 'study', 'studying', 'stuff', 'stunning', 'stunt', 'stunting', 'style', 'styles', 'stylish', 'stylist', 'sub', 'subdivision', 'subject', 'submerge', 'submit', 'subscribe', 'subscription', 'subscriptions', 'subset', 'substance', 'substratum', 'subway', 'succeed', 'success', 'successful', 'succulent', 'sudden', 'suggestion', 'suit', 'suitable', 'suite', 'summary', 'summer', 'sun', 'sunday', 'sunlight', 'sunrise', 'super', 'superpower', 'superset', 'superstar', 'supply', 'support', 'supported', 'suppose', 'sure', 'surf', 'surface', 'surfer', 'surge', 'surprise', 'survival', 'survive', 'survivor', 'sus', 'suspension', 'sutra', 'suv', 'sweat', 'sweet', 'swipe', 'switch', 'switching', 'sworkit', 'symbol', 'symmetry', 'sync', 'synchronicity', 'syncing', 'synthesizer', 'system', 'systematically', 'ta60', 'tab', 'tabacco', 'table', 'tablet', 'tabtale', 'tactical', 'taf', 'tag', 'tailor', 'take', 'tale', 'talk', 'talkback', 'tall', 'talmost', 'tank', 'tanks', 'tap', 'tape', 'target', 'tarot', 'task', 'tasker', 'taurus', 'tax', 'tcheck', 'tcp', 'teach', 'team', 'teaser', 'technical', 'techno', 'technology', 'teen', 'telecommunication', 'teleporting', 'tell', 'temp', 'temperature', 'template', 'tempo', 'term', 'terra', 'terrain', 'terrifying', 'territories', 'tesla', 'test', 'testing', 'texas', 'text', 'texting', 'texture', 'tezlab', 'tf1', 'thai', 'than', 'thank', 'thant', 'theme', 'themed', 'therapy', 'thermostat', 'thesis', 'thief', 'thing', 'think', 'thinking', 'thirty', 'thornsley', 'thousand', 'threat', 'threatening', 'thrill', 'thrilling', 'throttle', 'throw', 'thumbnail', 'thunderstorms', 'ticket', 'ticketfire', 'tickets', 'tiki', 'tilt', 'time', 'timeclock', 'timer', 'tingkatkan', 'tinyscan', 'tip', 'title', 'tlink', 'tlocal', 'tlumber', 'tm', 'tmatch', 'tmplayer', 'tmultiple', 'to', 'toca', 'today', 'toddler', 'tomato', 'tomorrow', 'ton', 'tone', 'tool', 'tools', 'toothless', 'top10', 'topic', 'topographic', 'torch', 'torment', 'total', 'totally', 'touch', 'toucharcade', 'tour', 'tournament', 'toutes', 'tower', 'town', 'townhouse', 'tplay', 'track', 'tracker', 'tracking', 'trackview', 'trade', 'trademark', 'trading', 'traditional', 'traductor', 'traffic', 'trail', 'trailblaze', 'train', 'training', 'transcription', 'transfer', 'transform', 'transformation', 'transformer', 'transforming', 'transit', 'transition', 'translate', 'translation', 'translations', 'transparency', 'transport', 'trap', 'trapping', 'travel', 'traveler', 'traveling', 'tread', 'treasure', 'treatment', 'tree', 'trench', 'trend', 'trese', 'trial', 'tricky', 'trigger', 'trio', 'trip', 'triple', 'trivia', 'tromn', 'troop', 'trophy', 'troublesome', 'truck', 'trucking', 'trucksimulation', 'true', 'truecaller', 'trump', 'trust', 'truth', 'truthfinder', 'try', 'tsend', 'tstack', 'tstairs', 'tthree', 'tts', 'tundra', 'tune', 'turbo', 'turbocharge', 'turkish', 'turn', 'tuscson', 'tuse', 'tusked', 'tutorial', 'tv', 'tw', 'twice', 'twilight', 'twist', 'twitter', 'two', 'tycoon', 'type', 'typhoon', 'typography', 'ui', 'uk', 'ul', 'ultimate', 'ultra', 'uncomfortable', 'uncompromised', 'uncover', 'undead', 'underground', 'underlined', 'understand', 'understanding', 'undo', 'unearth', 'unexpected', 'unfold', 'unforgettable', 'unicode', 'uninstalle', 'union', 'unique', 'unit', 'united', 'universal', 'universe', 'unknown', 'unlike', 'unlimited', 'unlock', 'unlocked', 'uno', 'unobtainable', 'unparalleled', 'unread', 'unsecured', 'unused', 'unwind', 'up', 'upcome', 'update', 'upgrade', 'upgraded', 'uplive', 'upload', 'upper', 'urban', 'us', 'usa', 'usage', 'usb', 'usd', 'use', 'useful', 'user', 'users', 'usp', 'usps', 'usually', 'uv', 'vag', 'vainglory', 'valuation', 'value', 'vaporwave', 'variable', 'variant', 'varied', 'variety', 'vary', 'vault', 've', 'vegas', 'vehicle', 'velocity', 'venue', 'ver', 'verb', 'verification', 'vermont', 'versailles', 'verse', 'version', 'vertical', 'vibration', 'victory', 'video', 'videogame', 'vietnam', 'vietnamese', 'view', 'viewer', 'vigilancia', 'village', 'vip', 'virtual', 'virus', 'virza', 'visa', 'visibility', 'visible', 'visit', 'visitor', 'visual', 'vital', 'vitally', 'vivid', 'vivo', 'vmr', 'vnc', 'vocaltune', 'voice', 'volunteer', 'vorbis', 'vous', 'vpn', 'vulnerable', 'wacc', 'wailea', 'wait', 'wake', 'wakeup', 'walkie', 'wall', 'wallpaper', 'wander', 'wanna', 'want', 'war', 'warehouse', 'warlock', 'warmachine', 'warn', 'warning', 'warrior', 'wastickerapps', 'watch', 'watchtower', 'water', 'waterloo', 'waterway', 'watters', 'watts', 'wattsleft', 'wav', 'wave', 'way', 'waypoint', 'waze', 'weakness', 'weapon', 'weapons', 'wear', 'weather', 'weathering', 'web', 'webcal', 'website', 'webull', 'wedding', 'week', 'weekly', 'weight', 'welcome', 'well', 'wellness', 'wevideo', 'wfts', 'wftx', 'wgt', 'whatsapp', 'wheat', 'wheel', 'whit', 'white', 'wi', 'wic', 'widely', 'widget', 'wifi', 'wikipedia', 'wild', 'wildebeast', 'wildlife', 'will', 'willis', 'win', 'wind', 'wine', 'wipe', 'wireless', 'wisdom', 'wish', 'wishes', 'wizard', 'woman', 'won', 'wonder', 'wonderful', 'word', 'work', 'workday', 'workout', 'world', 'worldwide', 'worm', 'worry', 'wow', 'wpsl', 'wreak', 'write', 'writer', 'writing', 'wrong', 'wsop', 'wsv', 'www', 'xbox', 'xdrive', 'xfinity', 'xfl', 'xls', 'xoxo', 'xyz', 'yamato', 'yang', 'yard', 'yatzy', 'yazio', 'year', 'yearly', 'yes', 'yoga', 'york', 'you', 'youmail', 'young', 'youre', 'yourself', 'yousician', 'youtube', 'yr', 'zhiyun', 'zoidberg', 'zoo', 'zoom', 'zynga']\n",
      "['00', '000', '009688', '10', '100', '1050', '12', '120', '123', '13', '14', '15', '159', '1600x2560', '18', '180', '1865w', '19', '1908', '192', '1920x1920', '1939', '1980', '199', '1v1', '1x1', '20', '200', '2006', '2010', '2013', '2014', '2015', '2016', '2017', '2018', '2020', '21', '2150', '2160', '2165', '22', '2250', '24', '25', '2525', '257x', '2580', '27', '285x', '29', '2950', '2ce', '2d', '2elegant', '2nd', '30', '305x', '30teams', '31', '32', '327', '3300', '331x', '347x', '36', '360', '37', '38', '3d', '3gp', '3gpp', '3opib9bggiu', '40', '4000', '4096', '45', '46', '48', '4k', '4v4', '4x4', '50', '50hz', '512', '52', '576', '60', '600', '65', '75', '777', '80', '80000', '800p', '866', '8c', '8hz', '90', '91058', '99', 'aaa', 'aac', 'aap', 'ability', 'able', 'abraham', 'absolutely', 'abstract', 'abundance', 'abundant', 'ac3', 'academic', 'accent', 'access', 'accessible', 'accessory', 'accompaniment', 'accompany', 'accordance', 'account', 'accurate', 'accuweather', 'acerca', 'achieve', 'achievement', 'action', 'activate', 'active', 'actively', 'activity', 'actual', 'actually', 'acupuncturist', 'ad', 'ada', 'adapt', 'add', 'addict', 'addictive', 'addition', 'additional', 'address', 'adha', 'adhan', 'adjust', 'adjustable', 'admin', 'administration', 'administrator', 'admit', 'adorable', 'adrenaline', 'adult', 'advance', 'advanced', 'advances', 'advantage', 'adventure', 'advertisement', 'advertising', 'adveture', 'advice', 'aerial', 'aerobic', 'aesthetic', 'affect', 'affiliate', 'afqjcngxjeu6gbkqlzxursa7obzt14usfq', 'afraid', 'africa', 'after', 'again', 'age', 'agent', 'agree', 'agreement', 'aha', 'ahead', 'aimoto', 'air', 'aircraft', 'aircurve', 'airline', 'airlines', 'airplane', 'airpod', 'airport', 'al', 'alarm', 'album', 'albums', 'alcatraz', 'alert', 'alerts', 'algebra', 'aliasing', 'aliceteam', 'align', 'alike', 'alliance', 'allo', 'allow', 'allows', 'alongside', 'alphabet', 'alternate', 'alternative', 'amateur', 'amazing', 'amazon', 'ambit', 'ambition', 'amenity', 'america', 'aminophylline', 'amtran', 'amusement', 'an', 'analog', 'analysis', 'analyze', 'anchorman', 'ancient', 'android', 'angel', 'angle', 'angler', 'animal', 'animate', 'animation', 'anime', 'annie', 'annoying', 'annual', 'anonymity', 'anonymous', 'answer', 'anti', 'antivirus', 'antonyms', 'anxiety', 'anytime', 'apocalypse', 'app', 'apple', 'appliance', 'application', 'applications', 'apply', 'appointment', 'approach', 'appropriate', 'approve', 'apps', 'appsupport', 'apraxia', 'ar', 'arc', 'arcade', 'arcane', 'arch', 'architecture', 'area', 'armor', 'armored', 'army', 'arrangement', 'arrival', 'arrive', 'arro', 'arrow', 'arsenal', 'art', 'article', 'articulation', 'artificial', 'artist', 'asana', 'asia', 'ask', 'aspect', 'assemble', 'assess', 'asset', 'assets', 'assistance', 'assistant', 'associate', 'assumption', 'astonishing', 'astrologer', 'astronaut', 'astrophe', 'asvab', 'atlanta', 'atmosphere', 'atmospheric', 'attach', 'attack', 'attendance', 'attention', 'attire', 'attrition', 'auction', 'audience', 'audio', 'augustine', 'austria', 'authentically', 'authenticate', 'authenticator', 'author', 'authorization', 'autism', 'auto', 'autofill', 'automatic', 'automatically', 'available', 'avatar', 'average', 'avoid', 'await', 'awakening', 'award', 'awareness', 'away', 'awesome', 'ayurveda', 'b3c840', 'baby', 'babys', 'back', 'backcountry', 'backgammon', 'background', 'backgrounds', 'backup', 'backward', 'bad', 'badge', 'bag', 'bahamas', 'bakr', 'balance', 'balanced', 'ball', 'ban', 'band', 'bank', 'banking', 'banner', 'bar', 'barcode', 'barlow', 'barn', 'base', 'basic', 'basis', 'basketball', 'bass', 'bat', 'battery', 'battle', 'battleship', 'bay', 'bb', 'bcr', 'beach', 'bead', 'beat', 'beatle', 'beautiful', 'beauty', 'beautyplus', 'bedtime', 'begin', 'beginning', 'belong', 'beloved', 'below', 'ben', 'besplatno', 'bet', 'beta', 'betray', 'betterbatterystat', 'beware', 'bible', 'big', 'bigoven', 'bike', 'bikini', 'bill', 'billet', 'billing', 'bind', 'bingo', 'bingoholiday', 'bird', 'birth', 'birthday', 'bisexual', 'bit', 'black', 'blackcomb', 'blacksmith', 'blanc', 'blast', 'blek', 'block', 'blocker', 'blog', 'blood', 'blossom', 'blowhole', 'bluegrass', 'bluetooth', 'blur', 'bmw', 'bo', 'board', 'boardgame', 'boat', 'boater', 'boating', 'body', 'bomb', 'bonus', 'book', 'booker', 'bookmark', 'books', 'boost', 'booster', 'boot', 'bootloop', 'border', 'bored', 'boring', 'bot', 'bound', 'bowl', 'bowling', 'box', 'boy', 'boyfriend', 'brain', 'brainless', 'brand', 'brave', 'brazil', 'break', 'breath', 'bridge', 'bright', 'brightness', 'bring', 'broken', 'brown', 'browse', 'browser', 'browsing', 'brush', 'bts', 'bubble', 'buchalter', 'bud', 'buddy', 'buddybeacon', 'budget', 'bug', 'bugle', 'build', 'builder', 'building', 'bumper', 'bunny', 'burn', 'bus', 'business', 'busy', 'button', 'buy', 'bys', 'cable', 'cad', 'calculate', 'calculation', 'calculator', 'calendar', 'california', 'californian', 'call', 'calls', 'calorie', 'camera', 'cameras', 'campaign', 'can', 'canbus', 'cancel', 'candy', 'canister', 'cantares', 'canyon', 'capability', 'captain', 'capture', 'car', 'carb', 'card', 'carddav', 'cardholder', 'cardiac', 'cardiogram', 'care', 'career', 'carefully', 'cargo', 'caring', 'carrier', 'cartography', 'cartoon', 'case', 'cases', 'cash', 'cashier', 'casino', 'cast', 'castle', 'casual', 'cat', 'catastrophe', 'catch', 'categories', 'category', 'cater', 'catering', 'catholic', 'cause', 'cave', 'ccg', 'cebit', 'celebrity', 'cell', 'cellular', 'censorship', 'center', 'ceo', 'certain', 'certificate', 'certification', 'chain', 'challenge', 'challenging', 'chamber', 'championship', 'change', 'changer', 'channel', 'channelwood', 'chant', 'chapter', 'character', 'characteristic', 'characters', 'charge', 'charger', 'chart', 'chase', 'chat', 'chatgum', 'check', 'checklist', 'checkout', 'cheerleading', 'cheese', 'chess', 'chicken', 'child', 'childs', 'chinese', 'chip', 'choice', 'choose', 'chord', 'chorus', 'chr', 'christmas', 'chrome', 'chromecast', 'chronicle', 'chun', 'church', 'cin', 'cinematographers', 'circadian', 'circle', 'circuit', 'city', 'claim', 'clan', 'clarify', 'clash', 'class', 'classic', 'classified', 'classroom', 'clean', 'cleaning', 'clear', 'clef', 'cleopatra', 'clever', 'click', 'climb', 'clinician', 'clip', 'clock', 'close', 'closed', 'clothe', 'clothing', 'cloud', 'clover', 'club', 'clubhouse', 'clue', 'cm', 'co', 'coach', 'coaching', 'coaster', 'cocktail', 'code', 'cohen', 'coin', 'coins', 'collage', 'collect', 'collection', 'college', 'color', 'colorblind', 'colorful', 'coloring', 'column', 'com', 'combat', 'combination', 'combine', 'combos', 'come', 'comedy', 'comfort', 'comfortable', 'command', 'commands', 'comment', 'commentsnursing', 'committed', 'communicate', 'communication', 'community', 'companion', 'company', 'compare', 'compass', 'compatibility', 'compatible', 'compensator', 'compete', 'competition', 'competitor', 'compilation', 'compiler', 'complaint', 'complement', 'complete', 'completely', 'complex', 'compose', 'composition', 'compress', 'compressor', 'computer', 'con', 'concerned', 'concert', 'concrete', 'condition', 'cone', 'conference', 'configuration', 'confirmation', 'congas', 'conjugator', 'connect', 'connected', 'connection', 'connector', 'conquer', 'consider', 'constantly', 'constellation', 'construct', 'construction', 'consulting', 'consumer', 'contact', 'contain', 'content', 'contest', 'continental', 'continue', 'continued', 'continuously', 'contour', 'contractor', 'contribute', 'control', 'controllable', 'controlled', 'controller', 'controllers', 'convenience', 'convenient', 'conveniently', 'conversation', 'convert', 'conveyor', 'cook', 'cookie', 'cooking', 'cool', 'cooperative', 'coordinate', 'copay', 'copy', 'core', 'corner', 'corolla', 'corporation', 'correct', 'correctly', 'correspondence', 'cost', 'costume', 'cough', 'count', 'countdown', 'counter', 'country', 'coupe', 'couple', 'coupon', 'course', 'cove', 'cover', 'cow', 'cpg', 'crack', 'cradle', 'craft', 'crafty', 'craigslist', 'crash', 'crazy', 'cream', 'create', 'creation', 'creative', 'creativity', 'creator', 'credential', 'credit', 'crew', 'crime', 'criminal', 'crisis', 'critic', 'critical', 'croatia', 'cronometer', 'crop', 'cross', 'crossword', 'crowd', 'crown', 'cruise', 'crush', 'csr', 'csv', 'cuisine', 'culinary', 'cult', 'cultures', 'cunning', 'cup', 'curate', 'curation', 'cure', 'currency', 'current', 'currently', 'curriculum', 'curse', 'cursed', 'curvy', 'custom', 'customer', 'customizable', 'customization', 'customize', 'customized', 'cut', 'cute', 'cyborg', 'cycle', 'cycling', 'cyclone', 'dac', 'daily', 'dallascowboy', 'damage', 'dance', 'dancer', 'danger', 'dangerous', 'darabuka', 'dari', 'dario', 'dark', 'dashboard', 'data', 'database', 'date', 'datum', 'davy', 'dawn', 'dax', 'day', 'daytime', 'de', 'dead', 'deadly', 'deal', 'dealer', 'dear', 'death', 'deathwish', 'debit', 'debt', 'decide', 'decision', 'deck', 'decorate', 'decoration', 'decrease', 'dedicate', 'dedicated', 'deed', 'deep', 'deeply', 'default', 'defeat', 'defend', 'define', 'definition', 'degree', 'degrees', 'del', 'delete', 'delicious', 'delight', 'delightment', 'deliver', 'delivery', 'demand', 'demanding', 'dementia', 'department', 'depend', 'deposit', 'depress', 'depression', 'depth', 'derby', 'descend', 'description', 'desert', 'design', 'designer', 'desire', 'desk', 'desktop', 'destination', 'destiny', 'destroy', 'detail', 'detailed', 'detection', 'determine', 'develop', 'developer', 'development', 'device', 'devise', 'dexterity', 'dhamar', 'dialog', 'diary', 'dice', 'dicken', 'dictionary', 'didn', 'diesel', 'diet', 'dietary', 'different', 'difficulty', 'dig', 'digit', 'digital', 'dimension', 'dimensional', 'diminutive', 'dining', 'dinner', 'dinosaur', 'dip', 'direct', 'directing', 'direction', 'directly', 'directory', 'directv', 'disable', 'disclaim', 'disclaimer', 'disclose', 'discord', 'discount', 'discover', 'discretion', 'discuss', 'disease', 'disguise', 'dish', 'disney', 'disorder', 'dispatch', 'display', 'disruption', 'distance', 'distinguish', 'district', 'dive', 'diverse', 'divide', 'diving', 'diy', 'djtechtools', 'dmv', 'do', 'dock', 'doctor', 'doctrine', 'document', 'dod', 'dodo', 'dodream', 'doesn', 'doesnt', 'dog', 'dokk', 'doll', 'dollar', 'dollhouse', 'dome', 'domination', 'dominicana', 'don', 'donat', 'donate', 'door', 'dope', 'dosing', 'double', 'download', 'downloader', 'downloaditandgeta', 'dozen', 'draft', 'drag', 'dragon', 'drain', 'draw', 'drawer', 'drawing', 'dream', 'dress', 'drift', 'drifting', 'drill', 'drink', 'drive', 'driver', 'driving', 'droid', 'drop', 'dropbox', 'drug', 'drugs', 'drum', 'dsitribution', 'dslr', 'dsm', 'dtcfix', 'dual', 'duck', 'duel', 'duke', 'dumbbell', 'dungeon', 'dynamic', 'dynamically', 'e40', 'early', 'earn', 'earphone', 'earth', 'eas', 'ease', 'easily', 'easy', 'eat', 'ebay', 'ebook', 'ecgsource', 'ecu', 'edge', 'edit', 'editable', 'edition', 'editor', 'edm', 'educate', 'education', 'educational', 'effect', 'effectively', 'effects', 'efficient', 'egg', 'egypt', 'egyptians', 'el', 'electrical', 'electronic', 'elegant', 'element', 'elevation', 'elitesingle', 'email', 'embed', 'embrace', 'embroider', 'eminem', 'emmy', 'emoji', 'emojis', 'emotion', 'emotive', 'empire', 'employer', 'employment', 'emt', 'en', 'enable', 'encoder', 'encompass', 'encourage', 'encouragement', 'encrypt', 'encryption', 'end', 'endless', 'enemy', 'energy', 'engine', 'engineering', 'english', 'enhance', 'enhancement', 'enjoy', 'enjoyable', 'enormous', 'enrol', 'ensure', 'enter', 'entertain', 'entertainment', 'entire', 'entirely', 'entity', 'entrust', 'entry', 'environment', 'eos', 'epic', 'episode', 'eps', 'equation', 'equations', 'equip', 'equipment', 'equivalent', 'erase', 'eraser', 'error', 'es', 'escape', 'espaol', 'especiale', 'especially', 'esport', 'establish', 'estate', 'estimate', 'etc', 'european', 'euw', 'evacuate', 'event', 'everybody', 'everyday', 'evil', 'evolution', 'evolve', 'evp', 'exact', 'exactly', 'examination', 'examine', 'example', 'excel', 'excellent', 'excepcin', 'exchange', 'excite', 'excitement', 'exciting', 'exclude', 'exclusive', 'excuse', 'exercise', 'exhibition', 'exist', 'exotic', 'expand', 'expansion', 'expect', 'expense', 'experience', 'experienced', 'expert', 'explanation', 'explore', 'explosion', 'export', 'expose', 'exposure', 'express', 'external', 'extra', 'extract', 'extreme', 'eye', 'eyed', 'eyeliner', 'f10', 'fabulous', 'face', 'facebook', 'facility', 'faction', 'factor', 'factory', 'fade', 'fail', 'fair', 'faithfully', 'fake', 'fall', 'false', 'familia', 'familiar', 'family', 'famous', 'fan', 'fandom', 'fans', 'fantasy', 'faq', 'far', 'farm', 'farmer', 'farming', 'farms', 'fascinante', 'fascinate', 'fashion', 'fashionable', 'fast', 'fastpass', 'fat', 'fate', 'fave', 'favor', 'favorite', 'favorites', 'favourite', 'fax', 'fear', 'fearless', 'feasible', 'feast', 'feature', 'features', 'feed', 'feedback', 'feel', 'feis', 'festival', 'festivity', 'fetch', 'few', 'ffvl', 'fi', 'fictional', 'field', 'fierce', 'fiercest', 'fight', 'file', 'fill', 'filter', 'final', 'finally', 'find', 'fine', 'finely', 'finger', 'fingertip', 'finish', 'finland', 'finnish', 'fire', 'fish', 'fishing', 'fist', 'fit', 'fitness', 'fix', 'flac', 'flag', 'flagging', 'flamenco', 'flap', 'flashlight', 'flashs', 'flat', 'flavor', 'flerlage', 'flight', 'flip', 'flippy', 'float', 'floor', 'floral', 'flow', 'flower', 'fluffy', 'fluid', 'flush', 'flv', 'fly', 'flying', 'focus', 'focused', 'foe', 'foil', 'folder', 'follow', 'follower', 'font', 'food', 'fool', 'footage', 'football', 'forbe', 'forbes', 'force', 'ford', 'forecast', 'foreign', 'forest', 'forfeit', 'forget', 'form', 'format', 'formation', 'formula', 'fort', 'fortune', 'forum', 'forward', 'foundation', 'fountain', 'foursquare', 'fox', 'fractional', 'fragment', 'fragrance', 'frame', 'franais', 'francisco', 'free', 'freebie', 'freely', 'freestyle', 'freetoedit', 'frequency', 'frequent', 'friend', 'friendly', 'friends', 'friendzone', 'frontier', 'frontline', 'fruit', 'ft', 'fuel', 'fully', 'fullyraw', 'fun', 'function', 'functionality', 'functions', 'funny', 'future', 'futuristic', 'fx', 'g5enter', 'gachaverse', 'gain', 'galaxy', 'galician', 'gallery', 'gambling', 'game', 'gamehive', 'gamepad', 'gameplay', 'gamer', 'gamers', 'games', 'gamezebo', 'gaming', 'garage', 'garmin', 'gas', 'gate', 'gates', 'gather', 'gear', 'gem', 'gender', 'general', 'generate', 'generator', 'genie', 'genki', 'genre', 'geographic', 'geography', 'geolocation', 'geolocator', 'geomagnetic', 'geometric', 'george', 'georgia', 'german', 'gesture', 'get', 'gg', 'gif', 'gifs', 'gift', 'gimbal', 'girl', 'gis', 'give', 'gizmodo', 'gladiator', 'glam', 'glass', 'glaucoma', 'glide', 'glider', 'glitter', 'global', 'globally', 'glu', 'gluconate', 'go', 'goal', 'goals', 'goblin', 'god', 'gold', 'golf', 'goliath', 'goni', 'good', 'goodbye', 'google', 'googleplay', 'goosebump', 'gorgeous', 'government', 'gp', 'gps', 'gpu', 'grade', 'gradually', 'grandfather', 'grandmother', 'grant', 'graph', 'graphic', 'graphics', 'graphopper', 'graphs', 'grassland', 'grateful', 'great', 'green', 'grenade', 'greyson', 'grid', 'grill', 'groceries', 'groene', 'groom', 'groundbreake', 'group', 'grow', 'guarantee', 'guard', 'guardar', 'guess', 'guest', 'guidance', 'guide', 'guild', 'gun', 'guy', 'gwen', 'gym', 'gymkhana', 'gypsy', 'gyroscope', 'h1', 'h2', 'habitat', 'hack', 'hago', 'hair', 'hairstyle', 'halcyon', 'halo', 'hamlet', 'hand', 'handle', 'handpicke', 'handyman', 'happy', 'hard', 'hardware', 'harmful', 'harry', 'hasbro', 'hash', 'hassle', 'hat', 'haunted', 'haute', 'have', 'hawkings', 'hd', 'head', 'headache', 'headphone', 'headset', 'headspace', 'heal', 'health', 'healthcare', 'healthy', 'heap', 'hear', 'heart', 'heavily', 'height', 'hell', 'helmet', 'help', 'helper', 'helpful', 'herd', 'hero', 'herpes', 'hi', 'hidden', 'hide', 'high', 'highintensityinterval', 'highlight', 'highly', 'hiho', 'hike', 'hill', 'hily', 'himnario', 'hint', 'hints', 'hiroshi', 'historian', 'history', 'hit', 'hog', 'holdem', 'holo', 'home', 'homepage', 'hometown', 'homework', 'hood', 'hop', 'hope', 'horas', 'horoscope', 'horror', 'host', 'hot', 'hotel', 'hotspot', 'hour', 'hourly', 'hours', 'house', 'housekeeping', 'houseplant', 'href', 'html', 'hue', 'huge', 'hum', 'human', 'hundred', 'hungarian', 'hunt', 'hunter', 'hunting', 'hurdle', 'hurricane', 'husary', 'hydromorphone', 'hysplit', 'iap', 'ibex', 'ice', 'icelandic', 'icon', 'iconpack', 'idea', 'identify', 'identity', 'idle', 'idreams', 'idx', 'ifit', 'ifta', 'ign', 'ignite', 'ii', 'ilauncher', 'illimit', 'illustration', 'image', 'imageclass', 'imagery', 'images', 'imaginable', 'imagination', 'imagine', 'immediately', 'immerse', 'impeccable', 'import', 'importance', 'important', 'impossible', 'impress', 'impressive', 'improve', 'improvement', 'improvise', 'in', 'inappropriate', 'inc', 'include', 'increase', 'increasingly', 'incredible', 'incredibly', 'india', 'indicate', 'indication', 'indicator', 'indie', 'indonesian', 'indygo', 'inexpensive', 'infestation', 'influence', 'info', 'informacin', 'information', 'informative', 'ingredient', 'injure', 'inner', 'innovative', 'input', 'inquiry', 'insert', 'inside', 'insider', 'inspire', 'instagram', 'instal', 'install', 'instant', 'instantly', 'instead', 'instruction', 'instrument', 'int', 'integrate', 'integrated', 'integration', 'intellectual', 'intense', 'intensity', 'intensive', 'intention', 'interact', 'interactive', 'interest', 'interested', 'interesting', 'interface', 'intergalactic', 'interior', 'intermediate', 'internal', 'international', 'internationally', 'internet', 'interval', 'intriguing', 'intro', 'introduce', 'intromate', 'intuitive', 'invent', 'inventory', 'investment', 'invitation', 'invoice', 'involve', 'ip', 'iphone', 'ipoe', 'ireland', 'irrelevant', 'irs', 'island', 'iso', 'issue', 'it', 'italian', 'italic', 'itching', 'item', 'itune', 'j1', 'j5', 'j7', 'jackpot', 'jam', 'jammed', 'janaza', 'january', 'japan', 'japanese', 'java', 'jazz', 'jesus', 'jet', 'jigsaw', 'job', 'join', 'journey', 'jp', 'jpeg', 'juke', 'jump', 'jungle', 'junk', 'jurassic', 'k1epbaapaei', 'kaboom', 'karma', 'kauai', 'kawaii', 'kazuki', 'kcm', 'keep', 'keepsafe', 'kernel', 'keto', 'ketone', 'key', 'keyboard', 'keypad', 'khalifa', 'kick', 'kid', 'kind', 'kindle', 'kindness', 'king', 'kingdom', 'kitchen', 'kitkat', 'kitty', 'knight', 'know', 'knowledge', 'knuckle', 'kodi', 'komodo', 'korean', 'kranz', 'kris', 'krissy', 'kron', 'kryuger', 'ksana', 'kustom', 'lab', 'lady', 'laferrari', 'lagoon', 'lainchan', 'lake', 'land', 'landline', 'landscape', 'language', 'languages', 'languinis', 'lap', 'lapse', 'large', 'las', 'late', 'later', 'latin', 'latvia', 'laugh', 'launch', 'launcher', 'lay', 'layout', 'le', 'lead', 'leader', 'leaderboard', 'league', 'leak', 'learn', 'learning', 'leave', 'left', 'legal', 'legally', 'legend', 'length', 'lesson', 'let', 'letter', 'level', 'leverage', 'lg', 'library', 'license', 'licensing', 'lie', 'life', 'lifehacker', 'lifestyle', 'lifetime', 'light', 'lighting', 'lightne', 'lightning', 'lightyear', 'like', 'likely', 'likeness', 'limit', 'limitation', 'limited', 'line', 'lineup', 'linger', 'link', 'linky', 'lintrieur', 'linux', 'lipstick', 'list', 'listen', 'literally', 'little', 'live', 'liveatc', 'lively', 'liverpool', 'living', 'lj60xx', 'll', 'llc', 'load', 'loading', 'loan', 'local', 'location', 'locations', 'lock', 'locker', 'log', 'logbook', 'logical', 'logo', 'logomania', 'logs', 'london', 'long', 'look', 'lookout', 'lookup', 'loop', 'looper', 'loot', 'los', 'lose', 'losmandy', 'loss', 'lot', 'love', 'lovecraft', 'low', 'lowercase', 'lucid', 'luck', 'lucky', 'lullaby', 'lumyer', 'lur', 'luxe', 'luxury', 'm600', 'm797', 'macabre', 'machine', 'machines', 'macro', 'made', 'mafia', 'mag', 'mage', 'magic', 'magnate', 'magnet', 'magnetic', 'main', 'maintain', 'make', 'maker', 'makeup', 'malaysia', 'male', 'malicious', 'man', 'manage', 'management', 'manager', 'maneuver', 'mania', 'manicure', 'mansion', 'manually', 'manufacturer', 'map', 'mapping', 'maps', 'march', 'marine', 'mark', 'market', 'marketing', 'markstevens', 'marriage', 'marry', 'mars', 'marvel', 'massage', 'massive', 'master', 'mastercard', 'mastermind', 'masterpiece', 'match', 'material', 'math', 'matter', 'mavic', 'max', 'maximize', 'maximum', 'maybe', 'maze', 'mb', 'mbta', 'mdlive', 'me', 'meal', 'mean', 'meaningful', 'measure', 'measurement', 'mech', 'mechanic', 'mechanical', 'med', 'media', 'media365', 'mediators', 'medical', 'medieval', 'meditation', 'medium', 'medscape', 'meet', 'meeting', 'mega', 'member', 'members', 'membership', 'meme', 'memo', 'memory', 'men', 'menacing', 'mental', 'mentor', 'menu', 'merrier', 'merry', 'mess', 'message', 'messenger', 'metal', 'meter', 'meterup', 'method', 'meticulously', 'metric', 'mezzmo', 'mic', 'microphone', 'microsoft', 'microtransaction', 'migraine', 'mil', 'mileage', 'military', 'million', 'millionaire', 'mind', 'minded', 'minecraft', 'miner', 'mini', 'minimalism', 'minimum', 'mining', 'minnesota', 'minute', 'mismatch', 'miss', 'mission', 'ml', 'mlb', 'mls', 'mm', 'mmguardian', 'mmorpg', 'mms', 'mobile', 'mobilesupport', 'mode', 'model', 'modem', 'modern', 'modest', 'modification', 'module', 'mojang', 'mom', 'moment', 'money', 'monitor', 'monitoring', 'monkey', 'monograph', 'monster', 'monstie', 'month', 'monthly', 'moon', 'more', 'morning', 'mosh', 'mother', 'motion', 'motivate', 'motivational', 'motocross', 'motor', 'motorcycle', 'motorola', 'mountain', 'mouse', 'mov', 'move', 'movement', 'movie', 'mozilla', 'mp3', 'mpc', 'mr', 'msnbc', 'mtl', 'mucus', 'multi', 'multiplayer', 'multiple', 'multitask', 'multitrack', 'multitude', 'multiverse', 'muscle', 'musedashthegame', 'museum', 'music', 'musical', 'musician', 'mutant', 'mvc', 'mvp', 'myduaa', 'myfitnesspal', 'myft', 'mysterious', 'mysterium', 'mzd', 'n1', 'n2', 'n2019', 'n29', 'n3', 'n4', 'n5', 'n50', 'n8', 'n9', 'na', 'nadjustable', 'nadobe', 'nag', 'nail', 'nall', 'nalready', 'nalso', 'namazing', 'name', 'nampme', 'nand', 'nandorra', 'nap', 'napps', 'nappspy', 'naren', 'narto', 'natal', 'national', 'native', 'natural', 'naudiobook', 'nautical', 'navailable', 'navigation', 'navigational', 'nbattle', 'nbc', 'nbooks', 'nbreathing', 'nchoose', 'nclimb', 'ncollect', 'ncontacts', 'ncoparenting', 'ncrafts', 'ndining', 'ndisclaimer', 'ndiscover', 'ndon', 'neach', 'near', 'nearly', 'necessarily', 'necessary', 'neck', 'nederland', 'need', 'needed', 'neighborhood', 'nenter', 'neon', 'net', 'netflix', 'network', 'networks', 'neven', 'new', 'news', 'nexport', 'nexposure', 'nf', 'nfacebook', 'nfeature', 'nfeatures', 'nfind', 'nfl', 'nfollowe', 'nfor', 'nfree', 'nfrom', 'nfull', 'ng', 'nget', 'nhave', 'nhere', 'nhl', 'nhow', 'nhuuuge', 'nidentify', 'nif', 'night', 'nin', 'ninja', 'ninput', 'ninternet', 'nipnos', 'nitro', 'niv', 'nkey', 'nkiddopia', 'nlet', 'nlibros', 'nlifehacker', 'nlip', 'nln', 'nlogo', 'nlove', 'nmake', 'nmassive', 'nmeal', 'nmileiq', 'nmovies', 'nnavier', 'nno', 'nnote', 'nnotebook', 'noaa', 'noise', 'nollywood', 'non', 'nonstop', 'normal', 'north', 'northern', 'nose', 'not', 'notch', 'note', 'notes', 'notesso', 'notice', 'notification', 'notify', 'nour', 'nova', 'nover', 'novice', 'np2p', 'npango', 'nperiodicals', 'npet', 'nplatinum', 'nplay', 'nplease', 'nplus', 'npractice', 'npremium', 'npress', 'nprivacy', 'nprofessional', 'nqaida', 'nqlink', 'nquestion', 'nredmi', 'nrender', 'nreview', 'nscary', 'nsecurity', 'nsharing', 'nshow', 'nsignalcheck', 'nsimply', 'nsonic', 'nstep', 'nsudoku', 'nsuper', 'nsupport', 'nsurprising', 'nswipe', 'nsynctuition', 'nthe', 'nthere', 'nthis', 'ntidal', 'ntime', 'nto', 'ntrack', 'ntravel', 'ntriptracker', 'ntroubleshooting', 'nturks', 'nultimate', 'number', 'numero', 'nunique', 'nupgradeable', 'nurse', 'nursing', 'nuse', 'nut', 'nvideo', 'nvoice', 'nvosotro', 'nwhen', 'nwhenever', 'nwhether', 'nwith', 'nworkout', 'nxioma', 'nyellowstone', 'nyou', 'nyour', 'obd1', 'obd2', 'obdlink', 'object', 'objective', 'obstacle', 'occasional', 'occupy', 'occur', 'ocean', 'oct', 'octopus', 'ocultismo', 'off', 'offat', 'offender', 'offer', 'offerit', 'office', 'officer', 'official', 'offline', 'offroad', 'oh', 'ohio', 'old', 'olderwithout', 'om', 'onboard', 'one', 'onedrive', 'onion', 'online', 'ons', 'onsite', 'onstar', 'oop', 'opacity', 'open', 'opening', 'openqm', 'openstreetmap', 'operate', 'operating', 'operation', 'opportunity', 'oppose', 'opt', 'optimal', 'optimize', 'option', 'optional', 'options', 'orbit', 'order', 'ordia', 'ordinal', 'org', 'organic', 'organization', 'organize', 'organizer', 'original', 'oscar', 'osmand', 'osteoporosis', 'oubrat', 'out', 'outcome', 'outdoor', 'outfit', 'outgoing', 'outlit', 'outpatient', 'output', 'outside', 'overall', 'overlays', 'overlord', 'overspend', 'overthrow', 'overview', 'own', 'owner', 'oxford', 'oyo', 'p20', 'pack', 'pad', 'page', 'pair', 'pal', 'palette', 'palm', 'pan', 'panasonic', 'panda', 'pandas', 'panorama', 'pantone', 'paper', 'paperless', 'para', 'paramedic', 'parameter', 'parchis', 'parent', 'parentapp', 'paris', 'park', 'parkchicago', 'parking', 'part', 'participant', 'participate', 'particular', 'particularly', 'partner', 'party', 'pass', 'passage', 'password', 'passwords', 'past', 'path', 'pathfinder', 'patient', 'pattern', 'pay', 'paybyphone', 'payment', 'paypal', 'payrange', 'pc', 'pdf', 'pdfs', 'peace', 'peaceful', 'peak', 'pediatric', 'pedometer', 'peetnik', 'pegelonline', 'pen', 'penalize', 'pendulum', 'people', 'percentage', 'percussive', 'perfect', 'perfectly', 'perform', 'performance', 'perilous', 'period', 'periodic', 'permission', 'persistent', 'person', 'personal', 'personality', 'personalize', 'perspective', 'pet', 'pfr', 'phase', 'philadelphia', 'philip', 'phish', 'phishing', 'phone', 'phoneline', 'phonic', 'photo', 'photobooth', 'photographic', 'physics', 'physiology', 'pianista', 'piano', 'pic', 'pick', 'picker', 'picmonic', 'picnic', 'pics', 'picture', 'pie', 'piece', 'pile', 'pillage', 'pilot', 'pin', 'ping', 'pink', 'pinyin', 'pirate', 'pitcher', 'pitching', 'pixel', 'pizza', 'place', 'plan', 'plane', 'planet', 'plankton', 'planner', 'planning', 'plans', 'plant', 'plate', 'platform', 'play', 'playback', 'player', 'playfully', 'playing', 'playlist', 'playstore', 'playthrough', 'plenty', 'plot', 'pls', 'plug', 'plus', 'pms', 'pocket', 'podcast', 'poe', 'point', 'poker', 'police', 'policy', 'polished', 'political', 'pollen', 'pollution', 'poncho', 'pool', 'pop', 'popular', 'populate', 'populated', 'por', 'port', 'portal', 'portfolio', 'portion', 'portrait', 'portuguese', 'position', 'positive', 'possess', 'possibility', 'possible', 'post', 'poster', 'postpone', 'potential', 'potion', 'potty', 'power', 'powerful', 'practical', 'practice', 'prague', 'prayer', 'pre', 'precaution', 'precious', 'precipitation', 'precise', 'precisely', 'precision', 'prediction', 'predominant', 'preference', 'preferred', 'pregnancy', 'premier', 'premium', 'prepare', 'preschool', 'preschooler', 'prescription', 'present', 'presentation', 'preset', 'president', 'press', 'pressure', 'prestige', 'pretty', 'preview', 'previous', 'previously', 'price', 'prime', 'princess', 'print', 'prior', 'prioritizing', 'priority', 'privacy', 'private', 'prize', 'pro', 'problem', 'procedurally', 'proceed', 'process', 'produce', 'product', 'productive', 'productivity', 'professional', 'profile', 'program', 'programmable', 'progress', 'progressive', 'progressively', 'project', 'projection', 'promise', 'promotion', 'pron', 'pronunciation', 'prop', 'propane', 'property', 'protect', 'protection', 'protest', 'prove', 'proverbio', 'provide', 'provider', 'proxy', 'pst', 'psychic', 'psychopharmacology', 'public', 'publish', 'publisher', 'puede', 'pull', 'pulmonary', 'pump', 'punch', 'punchy', 'pup', 'puppy', 'purchase', 'pure', 'purge', 'purpose', 'push', 'putty', 'puzzle', 'pvp', 'pyramid', 'pyware', 'q15', 'q8', 'qr', 'quality', 'quc', 'que', 'quest', 'question', 'quick', 'quickbook', 'quickkick', 'quickly', 'quietcontrol', 'quitnow', 'quiz', 'quizdom', 'quote', 'rabbit', 'race', 'racing', 'rack', 'radar', 'radio', 'radonsoft', 'raiders', 'railroad', 'rain', 'raise', 'ramp', 'rampage', 'ranch', 'random', 'randomize', 'randomly', 'range', 'rank', 'ranking', 'rapunzel', 'rar', 'rarely', 'rate', 'rating', 'raven', 'raw', 'ray', 're', 'reach', 'reaction', 'reactor', 'read', 'reader', 'reading', 'ready', 'real', 'realfeel', 'realism', 'realistic', 'reality', 'realize', 'realm', 'reason', 'reboot', 'receipt', 'receive', 'receiver', 'recent', 'reception', 'recipe', 'recipient', 'recognizable', 'recognize', 'recommend', 'recommendation', 'recommended', 'reconcile', 'reconnect', 'record', 'recorder', 'recording', 'recruit', 'red', 'reddit', 'reduce', 'reef', 'reference', 'refine', 'refrigerator', 'regardless', 'regime', 'region', 'regional', 'register', 'registered', 'regular', 'regularly', 'reign', 'relate', 'relational', 'relative', 'relax', 'relaxation', 'relaxing', 'relay', 'release', 'reliable', 'relive', 'remember', 'reminder', 'remix', 'remote', 'remotely', 'remove', 'remover', 'renew', 'renewal', 'renfe', 'rent', 'rental', 'rep', 'repair', 'repeat', 'replace', 'replay', 'replayability', 'replayable', 'reply', 'report', 'reporting', 'represent', 'represented', 'reproduce', 'request', 'require', 'requirement', 'rescue', 'research', 'resemblance', 'reservation', 'reserve', 'reset', 'resist', 'resistance', 'resize', 'resolution', 'resolve', 'resort', 'resource', 'respective', 'respin', 'respond', 'responsibility', 'rest', 'restaurant', 'restore', 'restriction', 'result', 'results', 'resume', 'retention', 'retrieve', 'return', 'revel', 'revenue', 'revheadz', 'review', 'reviewer', 'revive', 'revolutionary', 'reward', 'rhythm', 'rich', 'rickety', 'ride', 'riding', 'riffle', 'right', 'ring', 'ringtone', 'ripl', 'ripple', 'risk', 'rita', 'ritual', 'rival', 'river', 'rn', 'road', 'roadside', 'robot', 'robux', 'rock', 'rockie', 'rod', 'rogue', 'roku', 'roleplay', 'roll', 'rom', 'romanian', 'romantic', 'roof', 'room', 'roomi', 'root', 'rope', 'rose', 'roster', 'rotate', 'round', 'route', 'router', 'routes', 'routine', 'royale', 'roza', 'rpg', 'rss', 'rsv', 'ruin', 'rule', 'rules', 'rummy', 'run', 'runway', 'russian', 'sa', 'safe', 'safeincloud', 'safely', 'safety', 'safeweb', 'sailing', 'sailor', 'salad', 'salary', 'sale', 'salon', 'samsung', 'san', 'sandbox', 'santeria', 'santorini', 'satellite', 'satisfaction', 'savage', 'savannah', 'save', 'saving', 'savings', 'savvy', 'scalable', 'scan', 'scandinavian', 'scanline', 'scanner', 'scanning', 'scatter', 'scene', 'schedule', 'scheme', 'school', 'schooler', 'sci', 'science', 'scientific', 'scooter', 'score', 'scoring', 'scrabble', 'scratch', 'scream', 'screen', 'screenshot', 'scroll', 'sd', 'sea', 'seamless', 'search', 'season', 'seat', 'second', 'secret', 'section', 'sectional', 'sector', 'secure', 'securely', 'security', 'see', 'seek', 'sega', 'seis', 'select', 'selecte', 'selection', 'self', 'selfie', 'sell', 'selva', 'send', 'sensor', 'separate', 'separately', 'series', 'seriously', 'serve', 'server', 'service', 'session', 'set', 'setpoint', 'settable', 'setting', 'settings', 'settle', 'setup', 'severe', 'sexual', 'shade', 'shadow', 'shalker', 'shampoo', 'shape', 'share', 'shareholder', 'sharing', 'shark', 'sheet', 'shelter', 'shepherd', 'shift', 'ship', 'shipping', 'shirt', 'shoe', 'shoot', 'shooter', 'shooting', 'shop', 'shopping', 'shops', 'short', 'shortcut', 'shot', 'show', 'showcase', 'shows', 'shrm', 'shutterfly', 'sierra', 'sight', 'sign', 'signal', 'signature', 'silence', 'silk', 'silkie', 'silver', 'silverstone', 'similar', 'simmered', 'simple', 'simplify', 'simply', 'simpson', 'simulator', 'simultaneously', 'single', 'site', 'size', 'ski', 'skill', 'skin', 'skoda', 'sky', 'skycaddie', 'skype', 'skyward', 'slang', 'slaughter', 'slaw', 'sleep', 'sleepy', 'slice', 'slide', 'slideplus', 'slight', 'slightly', 'slime', 'slingshot', 'slot', 'slovak', 'slow', 'slowly', 'smack', 'small', 'smart', 'smartband', 'smartphone', 'smartscreenonoff', 'smartwatch', 'smile', 'smiley', 'smoke', 'smooth', 'sms', 'snapchat', 'snappy', 'sneak', 'sng', 'sniper', 'snow', 'so', 'soccer', 'social', 'society', 'sofa', 'software', 'solar', 'solely', 'solicitation', 'solitaire', 'solo', 'solunar', 'solution', 'solve', 'song', 'sony', 'soon', 'soothe', 'sophisticated', 'sort', 'soul', 'sound', 'soundcloud', 'soundtrack', 'source', 'southern', 'sp', 'space', 'spaceship', 'spade', 'spain', 'span', 'spanish', 'spare', 'spark', 'speak', 'speaker', 'special', 'specialist', 'specialized', 'species', 'specific', 'spectacular', 'spectator', 'speech', 'speed', 'speedball', 'spell', 'spelling', 'spend', 'spicy', 'spider', 'spin', 'spirit', 'spirituality', 'split', 'spongebob', 'sponsor', 'sport', 'sportsbook', 'sporty', 'spot', 'spring', 'sproggi', 'spy', 'spyware', 'sql', 'squad', 'square', 'ssid', 'stable', 'stack', 'staff', 'stage', 'stamp', 'standard', 'star', 'starry', 'starship', 'start', 'starz', 'stat', 'state', 'states', 'station', 'statistic', 'stats', 'statue', 'status', 'stay', 'steal', 'steer', 'step', 'stewart', 'stick', 'sticker', 'sticky', 'stine', 'stock', 'stop', 'stopwatch', 'storage', 'store', 'stored', 'storm', 'storm8', 'story', 'straight', 'strange', 'stranger', 'strategic', 'strategy', 'stream', 'streaming', 'streamline', 'streamlined', 'street', 'strength', 'stress', 'stretch', 'strict', 'strike', 'striker', 'string', 'strip', 'stripe', 'strive', 'strokes', 'strong', 'structure', 'student', 'studio', 'studios', 'study', 'studying', 'stuff', 'stunning', 'stunt', 'stunting', 'style', 'styles', 'stylish', 'stylist', 'sub', 'subdivision', 'subject', 'submerge', 'submit', 'subscribe', 'subscription', 'subscriptions', 'subset', 'substance', 'substratum', 'subway', 'succeed', 'success', 'successful', 'succulent', 'sudden', 'suggestion', 'suit', 'suitable', 'suite', 'summary', 'summer', 'sun', 'sunday', 'sunlight', 'sunrise', 'super', 'superpower', 'superset', 'superstar', 'supply', 'support', 'supported', 'suppose', 'sure', 'surf', 'surface', 'surfer', 'surge', 'surprise', 'survival', 'survive', 'survivor', 'sus', 'suspension', 'sutra', 'suv', 'sweat', 'sweet', 'swipe', 'switch', 'switching', 'sworkit', 'symbol', 'symmetry', 'sync', 'synchronicity', 'syncing', 'synthesizer', 'system', 'systematically', 'ta60', 'tab', 'tabacco', 'table', 'tablet', 'tabtale', 'tactical', 'taf', 'tag', 'tailor', 'take', 'tale', 'talk', 'talkback', 'tall', 'talmost', 'tank', 'tanks', 'tap', 'tape', 'target', 'tarot', 'task', 'tasker', 'taurus', 'tax', 'tcheck', 'tcp', 'teach', 'team', 'teaser', 'technical', 'techno', 'technology', 'teen', 'telecommunication', 'teleporting', 'tell', 'temp', 'temperature', 'template', 'tempo', 'term', 'terra', 'terrain', 'terrifying', 'territories', 'tesla', 'test', 'testing', 'texas', 'text', 'texting', 'texture', 'tezlab', 'tf1', 'thai', 'than', 'thank', 'thant', 'theme', 'themed', 'therapy', 'thermostat', 'thesis', 'thief', 'thing', 'think', 'thinking', 'thirty', 'thornsley', 'thousand', 'threat', 'threatening', 'thrill', 'thrilling', 'throttle', 'throw', 'thumbnail', 'thunderstorms', 'ticket', 'ticketfire', 'tickets', 'tiki', 'tilt', 'time', 'timeclock', 'timer', 'tingkatkan', 'tinyscan', 'tip', 'title', 'tlink', 'tlocal', 'tlumber', 'tm', 'tmatch', 'tmplayer', 'tmultiple', 'to', 'toca', 'today', 'toddler', 'tomato', 'tomorrow', 'ton', 'tone', 'tool', 'tools', 'toothless', 'top10', 'topic', 'topographic', 'torch', 'torment', 'total', 'totally', 'touch', 'toucharcade', 'tour', 'tournament', 'toutes', 'tower', 'town', 'townhouse', 'tplay', 'track', 'tracker', 'tracking', 'trackview', 'trade', 'trademark', 'trading', 'traditional', 'traductor', 'traffic', 'trail', 'trailblaze', 'train', 'training', 'transcription', 'transfer', 'transform', 'transformation', 'transformer', 'transforming', 'transit', 'transition', 'translate', 'translation', 'translations', 'transparency', 'transport', 'trap', 'trapping', 'travel', 'traveler', 'traveling', 'tread', 'treasure', 'treatment', 'tree', 'trench', 'trend', 'trese', 'trial', 'tricky', 'trigger', 'trio', 'trip', 'triple', 'trivia', 'tromn', 'troop', 'trophy', 'troublesome', 'truck', 'trucking', 'trucksimulation', 'true', 'truecaller', 'trump', 'trust', 'truth', 'truthfinder', 'try', 'tsend', 'tstack', 'tstairs', 'tthree', 'tts', 'tundra', 'tune', 'turbo', 'turbocharge', 'turkish', 'turn', 'tuscson', 'tuse', 'tusked', 'tutorial', 'tv', 'tw', 'twice', 'twilight', 'twist', 'twitter', 'two', 'tycoon', 'type', 'typhoon', 'typography', 'ui', 'uk', 'ul', 'ultimate', 'ultra', 'uncomfortable', 'uncompromised', 'uncover', 'undead', 'underground', 'underlined', 'understand', 'understanding', 'undo', 'unearth', 'unexpected', 'unfold', 'unforgettable', 'unicode', 'uninstalle', 'union', 'unique', 'unit', 'united', 'universal', 'universe', 'unknown', 'unlike', 'unlimited', 'unlock', 'unlocked', 'uno', 'unobtainable', 'unparalleled', 'unread', 'unsecured', 'unused', 'unwind', 'up', 'upcome', 'update', 'upgrade', 'upgraded', 'uplive', 'upload', 'upper', 'urban', 'us', 'usa', 'usage', 'usb', 'usd', 'use', 'useful', 'user', 'users', 'usp', 'usps', 'usually', 'uv', 'vag', 'vainglory', 'valuation', 'value', 'vaporwave', 'variable', 'variant', 'varied', 'variety', 'vary', 'vault', 've', 'vegas', 'vehicle', 'velocity', 'venue', 'ver', 'verb', 'verification', 'vermont', 'versailles', 'verse', 'version', 'vertical', 'vibration', 'victory', 'video', 'videogame', 'vietnam', 'vietnamese', 'view', 'viewer', 'vigilancia', 'village', 'vip', 'virtual', 'virus', 'virza', 'visa', 'visibility', 'visible', 'visit', 'visitor', 'visual', 'vital', 'vitally', 'vivid', 'vivo', 'vmr', 'vnc', 'vocaltune', 'voice', 'volunteer', 'vorbis', 'vous', 'vpn', 'vulnerable', 'wacc', 'wailea', 'wait', 'wake', 'wakeup', 'walkie', 'wall', 'wallpaper', 'wander', 'wanna', 'want', 'war', 'warehouse', 'warlock', 'warmachine', 'warn', 'warning', 'warrior', 'wastickerapps', 'watch', 'watchtower', 'water', 'waterloo', 'waterway', 'watters', 'watts', 'wattsleft', 'wav', 'wave', 'way', 'waypoint', 'waze', 'weakness', 'weapon', 'weapons', 'wear', 'weather', 'weathering', 'web', 'webcal', 'website', 'webull', 'wedding', 'week', 'weekly', 'weight', 'welcome', 'well', 'wellness', 'wevideo', 'wfts', 'wftx', 'wgt', 'whatsapp', 'wheat', 'wheel', 'whit', 'white', 'wi', 'wic', 'widely', 'widget', 'wifi', 'wikipedia', 'wild', 'wildebeast', 'wildlife', 'will', 'willis', 'win', 'wind', 'wine', 'wipe', 'wireless', 'wisdom', 'wish', 'wishes', 'wizard', 'woman', 'won', 'wonder', 'wonderful', 'word', 'work', 'workday', 'workout', 'world', 'worldwide', 'worm', 'worry', 'wow', 'wpsl', 'wreak', 'write', 'writer', 'writing', 'wrong', 'wsop', 'wsv', 'www', 'xbox', 'xdrive', 'xfinity', 'xfl', 'xls', 'xoxo', 'xyz', 'yamato', 'yang', 'yard', 'yatzy', 'yazio', 'year', 'yearly', 'yes', 'yoga', 'york', 'you', 'youmail', 'young', 'youre', 'yourself', 'yousician', 'youtube', 'yr', 'zhiyun', 'zoidberg', 'zoo', 'zoom', 'zynga']\n"
     ]
    }
   ],
   "source": [
    "# test topic modeling of app descriptions using both NMF and LDA\n",
    "# 2. TF-IDF (Term Frequency Inverse Document Frequency)\n",
    "# https://scikit-learn.org/stable/auto_examples/applications/plot_topics_extraction_with_nmf_lda.html#sphx-glr-auto-examples-applications-plot-topics-extraction-with-nmf-lda-py\n",
    "# https://medium.com/@cmukesh8688/tf-idf-vectorizer-scikit-learn-dbc0244a911a\n",
    "# https://scikit-learn.org/stable/modules/generated/sklearn.feature_extraction.text.CountVectorizer.html\n",
    "# instantiate the vectorizer object\n",
    "# since I have already tokenized, removed stop words and lemmatized in SpaCy,\n",
    "# so I can save (analyzer= 'word', stop_words='english') inside the CountVectorizer brackets\n",
    "tfidfvectorizer = TfidfVectorizer()\n",
    "tfidf_wm = tfidfvectorizer.fit_transform(doc_sample)\n",
    "print(tfidfvectorizer.get_feature_names())\n",
    "# from the printing above, at least I observe the tokenized words are exactly same for\n",
    "# countvertorizer and tfidfvectorizer"
   ],
   "metadata": {
    "collapsed": false,
    "pycharm": {
     "name": "#%%\n"
    }
   }
  },
  {
   "cell_type": "markdown",
   "source": [
    "https://shravan-kuchkula.github.io/topic-modeling/#vectorize-the-reviews\n",
    "### Non-Negative Matrix Factorization (NMF)\n",
    "The goal of NMF is to find two non-negative matrices (W, H) whose product approximates\n",
    "the non- negative matrix X. This factorization can be used for example for\n",
    "dimensionality reduction, source separation or topic extraction."
   ],
   "metadata": {
    "collapsed": false,
    "pycharm": {
     "name": "#%% md\n"
    }
   }
  },
  {
   "cell_type": "code",
   "execution_count": 22,
   "outputs": [
    {
     "name": "stdout",
     "output_type": "stream",
     "text": [
      "[[0. 0. 0. ... 0. 0. 0.]\n",
      " [0. 0. 0. ... 0. 0. 0.]\n",
      " [0. 0. 0. ... 0. 0. 0.]\n",
      " ...\n",
      " [0. 0. 0. ... 0. 0. 0.]\n",
      " [0. 0. 0. ... 0. 0. 0.]\n",
      " [0. 0. 0. ... 0. 0. 0.]]\n"
     ]
    }
   ],
   "source": [
    "# test topic modeling of app descriptions using both NMF and LDA\n",
    "# 3. create models\n",
    "# k is number of topics\n",
    "k = 100\n",
    "# random_state ensures that everytime you run this line it will spit out exactly same results\n",
    "\n",
    "nmf = NMF(n_components=k, random_state=1,\n",
    "          alpha=.1, l1_ratio=.5)\n",
    "nmf_output = nmf.fit_transform(tfidf_wm)\n",
    "nmf_weights = nmf.components_\n",
    "nmf_feature_names = tfidfvectorizer.get_feature_names()"
   ],
   "metadata": {
    "collapsed": false,
    "pycharm": {
     "name": "#%%\n"
    }
   }
  },
  {
   "cell_type": "code",
   "execution_count": 24,
   "outputs": [
    {
     "name": "stdout",
     "output_type": "stream",
     "text": [
      "[[0. 0. 0. ... 0. 0. 0.]\n",
      " [0. 0. 0. ... 0. 0. 0.]\n",
      " [0. 0. 0. ... 0. 0. 0.]\n",
      " ...\n",
      " [0. 0. 0. ... 0. 0. 0.]\n",
      " [0. 0. 0. ... 0. 0. 0.]\n",
      " [0. 0. 0. ... 0. 0. 0.]]\n",
      "[0. 0. 0. 0. 0. 0. 0. 0. 0. 0. 0. 0. 0. 0. 0. 0. 0. 0. 0. 0. 0. 0. 0. 0.\n",
      " 0. 0. 0. 0. 0. 0. 0. 0. 0. 0. 0. 0. 0. 0. 0. 0. 0. 0. 0. 0. 0. 0. 0. 0.\n",
      " 0. 0. 0. 0. 0. 0. 0. 0. 0. 0. 0. 0. 0. 0. 0. 0. 0. 0. 0. 0. 0. 0. 0. 0.\n",
      " 0. 0. 0. 0. 0. 0. 0. 0. 0. 0. 0. 0. 0. 0. 0. 0. 0. 0. 0. 0. 0. 0. 0. 0.\n",
      " 0. 0. 0. 0.]\n",
      "[ 0 72 71 70 69 68 67 66 65 64 63 62 61 60 59 58 57 56 55 54 53 52 73 51\n",
      " 74 76 97 96 95 94 93 92 91 90 89 88 87 86 85 84 83 82 81 80 79 78 77 75\n",
      " 50 49 48 21 20 19 18 17 16 15 14 13 12 11 10  9  8  7  6  5  4  3  2  1\n",
      " 22 23 24 25 47 46 45 44 43 42 41 40 39 38 98 37 35 34 33 32 31 30 29 28\n",
      " 27 26 36 99]\n",
      "[99 36 26 27 28 29 30 31 32 33 34 35 37 98 38 39 40 41 42 43 44 45 46 47\n",
      " 25 24 23 22  1  2  3  4  5  6  7  8  9 10 11 12 13 14 15 16 17 18 19 20\n",
      " 21 48 49 50 75 77 78 79 80 81 82 83 84 85 86 87 88 89 90 91 92 93 94 95\n",
      " 96 97 76 74 51 73 52 53 54 55 56 57 58 59 60 61 62 63 64 65 66 67 68 69\n",
      " 70 71 72  0]\n"
     ]
    }
   ],
   "source": [
    "### 4. print top ranked topic words\n",
    "print(nmf_output)\n",
    "topic_index = 1\n",
    "print(nmf_output[topic_index,:])\n",
    "# np.argsort return the index of the item in the numpy array, not the actual value.\n",
    "top_indices = np.argsort( nmf_output[topic_index,:] ) # ascending\n",
    "print(top_indices)\n",
    "top_indices = np.argsort( nmf_output[topic_index,:] )[::-1] # descending\n",
    "print(top_indices)"
   ],
   "metadata": {
    "collapsed": false,
    "pycharm": {
     "name": "#%%\n"
    }
   }
  },
  {
   "cell_type": "markdown",
   "source": [
    "# LDA MODEL"
   ],
   "metadata": {
    "collapsed": false,
    "pycharm": {
     "name": "#%% md\n"
    }
   }
  },
  {
   "cell_type": "code",
   "execution_count": 27,
   "outputs": [
    {
     "data": {
      "text/plain": "HBox(children=(HTML(value=''), FloatProgress(value=1.0, bar_style='info', layout=Layout(width='20px'), max=1.0…",
      "application/vnd.jupyter.widget-view+json": {
       "version_major": 2,
       "version_minor": 0,
       "model_id": "bcbfa87e79454358ac348645c84619a5"
      }
     },
     "metadata": {},
     "output_type": "display_data"
    },
    {
     "name": "stdout",
     "output_type": "stream",
     "text": [
      "\n",
      "['wheel', 'legendary', 'gt', 'car', 'begin', 'enjoy', 'car', 'driver', 'simulator', 'car', 'game', '2018', 'use', 'nitro', 'booster', 'boost', 'gt', 'car', 'speed', 'drive', 'fast', 'fast', 'forget', 'know', 'racing', 'hit', 'gas', 'feed', 'passion', 'speed', 'car', 'parking', 'racing', 'adventure', 'extreme', 'speed', 'stunt', 'hero', 'impossible', 'car', 'stunt', 'race', 'professional', 'driver', 'stunt', 'car', 'track', '3d', 'race', 'crazy', 'gt', 'speed', 'car', 'impossible', 'race', 'track', 'go', 'amazing', 'experience.\\\\nthe', 'fantastic', 'amazing', 'crazy', 'car', 'stunt', 'stunt', 'track', 'blow', 'mind', 'crazy', 'smart', 'gt', 'car', 'smashing', 'machine', 'super', 'smart', 'drive', 'stunt', 'environment', 'make', 'game', 'interesting', 'extreme', 'city', 'gt', 'car', 'stunt', 'thrilling', 'game', 'car', 'racing', '2018', 'need', 'extreme', 'stunt', 'car', 'driving', 'skill', 'drive', 'safely', 'tricky', 'impossible', 'race', 'track', 'curvy', 'path', 'feel', 'like', 'real', 'smart', 'car', 'driver', 'real', 'crazy', 'mountain', 'height', 'city', 'track', 'accomplish', 'impossible', 'stunt', 'race', 'drive', 'mission', 'drive', 'real', 'super', 'gt', 'car', 'challenge', 'competent', 'complete', 'racing', 'car', 'track', 'driving', 'mission', 'give', 'you.\\\\nmany', 'gear', 'exciting', 'gt', 'car', 'park', 'garage', 'classic', 'car', 'racing', 'gt', 'game', 'car', 'come', 'unique', 'specification', 'speed', 'car', 'dealer', 'set', 'fair', 'car', 'price', 'buying', 'ease', 'play', 'unlock', 'exciting', 'cool', 'car', 'endless', 'exclusive', 'gt', 'drive', 'fun', 'sharpen', 'racing', 'stunt', 'skill', 'drive', 'perform', 'extreme', 'speed', 'stunt', 'car', 'drifting', 'enjoy', 'stunt', 'race', 'time', 'gather', 'worth', 'remember', 'racing', 'experience', 'set', 'new', 'racing', 'record', 'racing', 'world', 'drift', 'car', 'simulator.\\\\ngt', 'racing', 'come', 'super', 'cool', 'amazing', 'environment', 'comprise', 'dangerous', 'enchanting', 'racing', 'track', 'car', 'parking', 'straight', 'curvy', 'road', 'stunt', 'maximum', 'challenge', 'beautiful', 'hill', 'mountain', 'fantastic', 'prop', 'difficult', 'hurdle', 'obstacle', 'amazing', 'river', 'bridge', 'gameplay', 'gt', 'stunt', 'drive', 'include', 'select', 'desire', 'car', 'parking', 'garage', 'drive', 'stunt', 'car', 'racing', 'track', 'reach', 'finish', 'line', 'give', 'time', 'win', 'level', 'nitro', 'booster', 'place', 'place', 'help', 'drive', 'fast', 'impossible', 'stunt', 'road', 'racing', 'mania', 'drive', 'earn', 'coin', 'upgrade', 'classic', 'cars.\\\\ntry', 'good', 'racing', 'adventure', 'hero', 'gt', 'car', 'driver', 'pro', 'android', '\\\\nstay', 'tune', 'extreme', 'stun', 'update', '\\\\nfeatures', 'extreme', 'city', 'gt', 'car', 'stunts:\\\\n\\\\tcomplete', 'range', 'gt', 'car', 'enjoy', 'fast', 'race', 'action\\\\n\\\\tmultiple', 'level', 'satisfy', 'racing', 'needs\\\\n\\\\tseparate', 'car', 'parking', 'gt', 'car', 'selection\\\\n\\\\tendless', 'highway', 'road', 'prop', 'obstacles\\\\n\\\\thd', 'stunning', 'graphic', 'rich', 'road', 'environment\\\\n\\\\tchallenge', 'mission', 'test', 'gt', 'race', 'expertise\\\\n\\\\trealistic', 'high', 'physics', 'car', 'controls\\\\n\\\\tmultiple', '3d', 'camera', 'view', 'angels\\\\n\\\\tbest', 'offline', 'play', 'mode', 'free', 'play', 'stunt', 'race', 'adventure\\\\nready', 'enjoy', 'insane', 'extreme', 'speed', 'stunt', 'race', 'adventure', 'click', 'the\\\\ninstall\\\\nbutton', '\\\\nsupport', 'feedback:\\\\nyour', 'feedback', 'rating', 'important', 'keep\\\\navengers', 'academy\\\\nbusy', 'create', 'fun', 'game', 'engage', 'family', 'friend', 'case', 'find', 'bug', 'need', 'address', 'send', 'email', 'improve', 'reply', 'email', 'soon', 'possible', 'try', 'game', 'clicking\\\\nmore', 'developer\\\\nor', 'visit', 'publisher', 'account', 'wheel', 'legendary', 'gt', 'car', 'begin', 'enjoy', 'car', 'driver', 'simulator', 'car', 'game', '2018', 'use', 'nitro', 'booster', 'boost', 'gt', 'car', 'speed', 'drive', 'fast', 'fast', 'forget', 'know', 'racing', 'hit', 'gas', 'feed', 'passion', 'speed', 'car', 'parking', 'racing', 'adventure', 'extreme', 'speed', 'stunt', 'hero', 'impossible', 'car', 'stunt', 'race', 'professional', 'driver', 'stunt', 'car', 'track', '3d', 'race', 'crazy', 'gt', 'speed', 'car', 'impossible', 'race', 'track', 'go', 'amazing', 'experience.\\\\nthe', 'fantastic', 'amazing', 'crazy', 'car', 'stunt', 'stunt', 'track', 'blow', 'mind', 'crazy', 'smart', 'gt', 'car', 'smashing', 'machine', 'super', 'smart', 'drive', 'stunt', 'environment', 'make', 'game', 'interesting', 'extreme', 'city', 'gt', 'car', 'stunt', 'thrilling', 'game', 'car', 'racing', '2018', 'need', 'extreme', 'stunt', 'car', 'driving', 'skill', 'drive', 'safely', 'tricky', 'impossible', 'race', 'track', 'curvy', 'path', 'feel', 'like', 'real', 'smart', 'car', 'driver', 'real', 'crazy', 'mountain', 'height', 'city', 'track', 'accomplish', 'impossible', 'stunt', 'race', 'drive', 'mission', 'drive', 'real', 'super', 'gt', 'car', 'challenge', 'competent', 'complete', 'racing', 'car', 'track', 'driving', 'mission', 'give', 'you.\\\\nmany', 'gear', 'exciting', 'gt', 'car', 'park', 'garage', 'classic', 'car', 'racing', 'gt', 'game', 'car', 'come', 'unique', 'specification', 'speed', 'car', 'dealer', 'set', 'fair', 'car', 'price', 'buying', 'ease', 'play', 'unlock', 'exciting', 'cool', 'car', 'endless', 'exclusive', 'gt', 'drive', 'fun', 'sharpen', 'racing', 'stunt', 'skill', 'drive', 'perform', 'extreme', 'speed', 'stunt', 'car', 'drifting', 'enjoy', 'stunt', 'race', 'time', 'gather', 'worth', 'remember', 'racing', 'experience', 'set', 'new', 'racing', 'record', 'racing', 'world', 'drift', 'car', 'simulator.\\\\ngt', 'racing', 'come', 'super', 'cool', 'amazing', 'environment', 'comprise', 'dangerous', 'enchanting', 'racing', 'track', 'car', 'parking', 'straight', 'curvy', 'road', 'stunt', 'maximum', 'challenge', 'beautiful', 'hill', 'mountain', 'fantastic', 'prop', 'difficult', 'hurdle', 'obstacle', 'amazing', 'river', 'bridge', 'gameplay', 'gt', 'stunt', 'drive', 'include', 'select', 'desire', 'car', 'parking', 'garage', 'drive', 'stunt', 'car', 'racing', 'track', 'reach', 'finish', 'line', 'give', 'time', 'win', 'level', 'nitro', 'booster', 'place', 'place', 'help', 'drive', 'fast', 'impossible', 'stunt', 'road', 'racing', 'mania', 'drive', 'earn', 'coin', 'upgrade', 'classic', 'cars.\\\\ntry', 'good', 'racing', 'adventure', 'hero', 'gt', 'car', 'driver', 'pro', 'android', '\\\\nstay', 'tune', 'extreme', 'stun', 'update', '\\\\nfeatures', 'extreme', 'city', 'gt', 'car', 'stunts:\\\\n\\\\tcomplete', 'range', 'gt', 'car', 'enjoy', 'fast', 'race', 'action\\\\n\\\\tmultiple', 'level', 'satisfy', 'racing', 'needs\\\\n\\\\tseparate', 'car', 'parking', 'gt', 'car', 'selection\\\\n\\\\tendless', 'highway', 'road', 'prop', 'obstacles\\\\n\\\\thd', 'stunning', 'graphic', 'rich', 'road', 'environment\\\\n\\\\tchallenge', 'mission', 'test', 'gt', 'race', 'expertise\\\\n\\\\trealistic', 'high', 'physics', 'car', 'controls\\\\n\\\\tmultiple', '3d', 'camera', 'view', 'angels\\\\n\\\\tbest', 'offline', 'play', 'mode', 'free', 'play', 'stunt', 'race', 'adventure\\\\nready', 'enjoy', 'insane', 'extreme', 'speed', 'stunt', 'race', 'adventure', 'click', 'the\\\\ninstall\\\\nbutton', '\\\\nsupport', 'feedback:\\\\nyour', 'feedback', 'rating', 'important', 'keep\\\\navengers', 'academy\\\\nbusy', 'create', 'fun', 'game', 'engage', 'family', 'friend', 'case', 'find', 'bug', 'need', 'address', 'send', 'email', 'improve', 'reply', 'email', 'soon', 'possible', 'try', 'game', 'clicking\\\\nmore', 'developer\\\\nor', 'visit', 'publisher', 'account', 'wheel', 'legendary', 'gt', 'car', 'begin', 'enjoy', 'car', 'driver', 'simulator', 'car', 'game', '2018', 'use', 'nitro', 'booster', 'boost', 'gt', 'car', 'speed', 'drive', 'fast', 'fast', 'forget', 'know', 'racing', 'hit', 'gas', 'feed', 'passion', 'speed', 'car', 'parking', 'racing', 'adventure', 'extreme', 'speed', 'stunt', 'hero', 'impossible', 'car', 'stunt', 'race', 'professional', 'driver', 'stunt', 'car', 'track', '3d', 'race', 'crazy', 'gt', 'speed', 'car', 'impossible', 'race', 'track', 'go', 'amazing', 'experience', 'fantastic', 'amazing', 'crazy', 'car', 'stunt', 'stunt', 'track', 'blow', 'mind', 'crazy', 'smart', 'gt', 'car', 'smashing', 'machine', 'super', 'smart', 'drive', 'stunt', 'environment', 'make', 'game', 'interesting', 'extreme', 'city', 'gt', 'car', 'stunt', 'thrilling', 'game', 'car', 'racing', '2018', 'need', 'extreme', 'stunt', 'car', 'driving', 'skill', 'drive', 'safely', 'tricky', 'impossible', 'race', 'track', 'curvy', 'path', 'feel', 'like', 'real', 'smart', 'car', 'driver', 'real', 'crazy', 'mountain', 'height', 'city', 'track', 'accomplish', 'impossible', 'stunt', 'race', 'drive', 'mission', 'drive', 'real', 'super', 'gt', 'car', 'challenge', 'competent', 'complete', 'racing', 'car', 'track', 'driving', 'mission', 'give', 'gear', 'exciting', 'gt', 'car', 'park', 'garage', 'classic', 'car', 'racing', 'gt', 'game', 'car', 'come', 'unique', 'specification', 'speed', 'car', 'dealer', 'set', 'fair', 'car', 'price', 'buying', 'ease', 'play', 'unlock', 'exciting', 'cool', 'car', 'endless', 'exclusive', 'gt', 'drive', 'fun', 'sharpen', 'racing', 'stunt', 'skill', 'drive', 'perform', 'extreme', 'speed', 'stunt', 'car', 'drifting', 'enjoy', 'stunt', 'race', 'time', 'gather', 'worth', 'remember', 'racing', 'experience', 'set', 'new', 'racing', 'record', 'racing', 'world', 'drift', 'car', 'simulator', 'gt', 'racing', 'come', 'super', 'cool', 'amazing', 'environment', 'comprise', 'dangerous', 'enchanting', 'racing', 'track', 'car', 'parking', 'straight', 'curvy', 'road', 'stunt', 'maximum', 'challenge', 'beautiful', 'hill', 'mountain', 'fantastic', 'prop', 'difficult', 'hurdle', 'obstacle', 'amazing', 'river', 'bridge', 'gameplay', 'gt', 'stunt', 'drive', 'include', 'select', 'desire', 'car', 'parking', 'garage', 'drive', 'stunt', 'car', 'racing', 'track', 'reach', 'finish', 'line', 'give', 'time', 'win', 'level', 'nitro', 'booster', 'place', 'place', 'help', 'drive', 'fast', 'impossible', 'stunt', 'road', 'racing', 'mania', 'drive', 'earn', 'coin', 'upgrade', 'classic', 'car', 'try', 'good', 'racing', 'adventure', 'hero', 'gt', 'car', 'driver', 'pro', 'android', 'stay', 'tune', 'extreme', 'stun', 'update', 'feature', 'extreme', 'city', 'gt', 'car', 'stunt', '\\\\tcomplete', 'range', 'gt', 'car', 'enjoy', 'fast', 'racing', 'action', '\\\\tmultiple', 'level', 'satisfy', 'racing', 'need', '\\\\tseparate', 'car', 'parking', 'gt', 'car', 'selection', '\\\\tendless', 'highway', 'road', 'prop', 'obstacle', '\\\\thd', 'stunning', 'graphic', 'rich', 'road', 'environment', '\\\\tchallenging', 'mission', 'test', 'gt', 'racing', 'expertise', '\\\\trealistic', 'high', 'physics', 'car', 'control', '\\\\tmultiple', '3d', 'camera', 'view', 'angel', '\\\\tbest', 'offline', 'play', 'mode', 'free', 'play', 'stunt', 'racing', 'adventure', 'ready', 'enjoy', 'insane', 'extreme', 'speed', 'stunt', 'race', 'adventure', 'click', 'install', 'button', 'support', 'feedback', 'feedback', 'rating', 'important', 'avenger', 'academy', 'busy', 'create', 'fun', 'game', 'engage', 'family', 'friend', 'case', 'find', 'bug', 'need', 'address', 'send', 'email', 'improve', 'reply', 'email', 'soon', 'possible', 'try', 'game', 'click', 'developer', 'visit', 'publisher', 'account', 'wheel', 'legendary', 'gt', 'car', 'begin', 'enjoy', 'car', 'driver', 'simulator', 'car', 'game', '2018', 'use', 'nitro', 'booster', 'boost', 'gt', 'car', 'speed', 'drive', 'fast', 'fast', 'forget', 'know', 'racing', 'hit', 'gas', 'feed', 'passion', 'speed', 'car', 'parking', 'racing', 'adventure', 'extreme', 'speed', 'stunt', 'hero', 'impossible', 'car', 'stunt', 'race', 'professional', 'driver', 'stunt', 'car', 'track', '3d', 'race', 'crazy', 'gt', 'speed', 'car', 'impossible', 'race', 'track', 'go', 'amazing', 'experience', 'fantastic', 'amazing', 'crazy', 'car', 'stunt', 'stunt', 'track', 'blow', 'mind', 'crazy', 'smart', 'gt', 'car', 'smashing', 'machine', 'super', 'smart', 'drive', 'stunt', 'environment', 'make', 'game', 'interesting', 'extreme', 'city', 'gt', 'car', 'stunt', 'thrilling', 'game', 'car', 'racing', '2018', 'need', 'extreme', 'stunt', 'car', 'driving', 'skill', 'drive', 'safely', 'tricky', 'impossible', 'race', 'track', 'curvy', 'path', 'feel', 'like', 'real', 'smart', 'car', 'driver', 'real', 'crazy', 'mountain', 'height', 'city', 'track', 'accomplish', 'impossible', 'stunt', 'race', 'drive', 'mission', 'drive', 'real', 'super', 'gt', 'car', 'challenge', 'competent', 'complete', 'racing', 'car', 'track', 'driving', 'mission', 'give', 'gear', 'exciting', 'gt', 'car', 'park', 'garage', 'classic', 'car', 'racing', 'gt', 'game', 'car', 'come', 'unique', 'specification', 'speed', 'car', 'dealer', 'set', 'fair', 'car', 'price', 'buying', 'ease', 'play', 'unlock', 'exciting', 'cool', 'car', 'endless', 'exclusive', 'gt', 'drive', 'fun', 'sharpen', 'racing', 'stunt', 'skill', 'drive', 'perform', 'extreme', 'speed', 'stunt', 'car', 'drifting', 'enjoy', 'stunt', 'race', 'time', 'gather', 'worth', 'remember', 'racing', 'experience', 'set', 'new', 'racing', 'record', 'racing', 'world', 'drift', 'car', 'simulator', 'gt', 'racing', 'come', 'super', 'cool', 'amazing', 'environment', 'comprise', 'dangerous', 'enchanting', 'racing', 'track', 'car', 'parking', 'straight', 'curvy', 'road', 'stunt', 'maximum', 'challenge', 'beautiful', 'hill', 'mountain', 'fantastic', 'prop', 'difficult', 'hurdle', 'obstacle', 'amazing', 'river', 'bridge', 'gameplay', 'gt', 'stunt', 'drive', 'include', 'select', 'desire', 'car', 'parking', 'garage', 'drive', 'stunt', 'car', 'racing', 'track', 'reach', 'finish', 'line', 'give', 'time', 'win', 'level', 'nitro', 'booster', 'place', 'place', 'help', 'drive', 'fast', 'impossible', 'stunt', 'road', 'racing', 'mania', 'drive', 'earn', 'coin', 'upgrade', 'classic', 'car', 'try', 'good', 'racing', 'adventure', 'hero', 'gt', 'car', 'driver', 'pro', 'android', 'stay', 'tune', 'extreme', 'stun', 'update', 'feature', 'extreme', 'city', 'gt', 'car', 'stunt', '\\\\tcomplete', 'range', 'gt', 'car', 'enjoy', 'fast', 'racing', 'action', '\\\\tmultiple', 'level', 'satisfy', 'racing', 'need', '\\\\tseparate', 'car', 'parking', 'gt', 'car', 'selection', '\\\\tendless', 'highway', 'road', 'prop', 'obstacle', '\\\\thd', 'stunning', 'graphic', 'rich', 'road', 'environment', '\\\\tchallenging', 'mission', 'test', 'gt', 'racing', 'expertise', '\\\\trealistic', 'high', 'physics', 'car', 'control', '\\\\tmultiple', '3d', 'camera', 'view', 'angel', '\\\\tbest', 'offline', 'play', 'mode', 'free', 'play', 'stunt', 'racing', 'adventure', 'ready', 'enjoy', 'insane', 'extreme', 'speed', 'stunt', 'race', 'adventure', 'click', 'install', 'button', 'support', 'feedback', 'feedback', 'rating', 'important', 'avenger', 'academy', 'busy', 'create', 'fun', 'game', 'engage', 'family', 'friend', 'case', 'find', 'bug', 'need', 'address', 'send', 'email', 'improve', 'reply', 'email', 'soon', 'possible', 'try', 'game', 'click', 'developer', 'visit', 'publisher', 'account', 'wheel', 'legendary', 'gt', 'car', 'begin', 'enjoy', 'car', 'driver', 'simulator', 'car', 'game', '2018', 'use', 'nitro', 'booster', 'boost', 'gt', 'car', 'speed', 'drive', 'fast', 'fast', 'forget', 'know', 'racing', 'hit', 'gas', 'feed', 'passion', 'speed', 'car', 'parking', 'racing', 'adventure', 'extreme', 'speed', 'stunt', 'hero', 'impossible', 'car', 'stunt', 'race', 'professional', 'driver', 'stunt', 'car', 'track', '3d', 'race', 'crazy', 'gt', 'speed', 'car', 'impossible', 'race', 'track', 'go', 'amazing', 'experience', 'fantastic', 'amazing', 'crazy', 'car', 'stunt', 'stunt', 'track', 'blow', 'mind', 'crazy', 'smart', 'gt', 'car', 'smashing', 'machine', 'super', 'smart', 'drive', 'stunt', 'environment', 'make', 'game', 'interesting', 'extreme', 'city', 'gt', 'car', 'stunt', 'thrilling', 'game', 'car', 'racing', '2018', 'need', 'extreme', 'stunt', 'car', 'driving', 'skill', 'drive', 'safely', 'tricky', 'impossible', 'race', 'track', 'curvy', 'path', 'feel', 'like', 'real', 'smart', 'car', 'driver', 'real', 'crazy', 'mountain', 'height', 'city', 'track', 'accomplish', 'impossible', 'stunt', 'race', 'drive', 'mission', 'drive', 'real', 'super', 'gt', 'car', 'challenge', 'competent', 'complete', 'racing', 'car', 'track', 'driving', 'mission', 'give', 'gear', 'exciting', 'gt', 'car', 'park', 'garage', 'classic', 'car', 'racing', 'gt', 'game', 'car', 'come', 'unique', 'specification', 'speed', 'car', 'dealer', 'set', 'fair', 'car', 'price', 'buying', 'ease', 'play', 'unlock', 'exciting', 'cool', 'car', 'endless', 'exclusive', 'gt', 'drive', 'fun', 'sharpen', 'racing', 'stunt', 'skill', 'drive', 'perform', 'extreme', 'speed', 'stunt', 'car', 'drifting', 'enjoy', 'stunt', 'race', 'time', 'gather', 'worth', 'remember', 'racing', 'experience', 'set', 'new', 'racing', 'record', 'racing', 'world', 'drift', 'car', 'simulator', 'gt', 'racing', 'come', 'super', 'cool', 'amazing', 'environment', 'comprise', 'dangerous', 'enchanting', 'racing', 'track', 'car', 'parking', 'straight', 'curvy', 'road', 'stunt', 'maximum', 'challenge', 'beautiful', 'hill', 'mountain', 'fantastic', 'prop', 'difficult', 'hurdle', 'obstacle', 'amazing', 'river', 'bridge', 'gameplay', 'gt', 'stunt', 'drive', 'include', 'select', 'desire', 'car', 'parking', 'garage', 'drive', 'stunt', 'car', 'racing', 'track', 'reach', 'finish', 'line', 'give', 'time', 'win', 'level', 'nitro', 'booster', 'place', 'place', 'help', 'drive', 'fast', 'impossible', 'stunt', 'road', 'racing', 'mania', 'drive', 'earn', 'coin', 'upgrade', 'classic', 'car', 'try', 'good', 'racing', 'adventure', 'hero', 'gt', 'car', 'driver', 'pro', 'android', 'stay', 'tune', 'extreme', 'stun', 'update', 'feature', 'extreme', 'city', 'gt', 'car', 'stunt', '\\\\tcomplete', 'range', 'gt', 'car', 'enjoy', 'fast', 'racing', 'action', '\\\\tmultiple', 'level', 'satisfy', 'racing', 'need', '\\\\tseparate', 'car', 'parking', 'gt', 'car', 'selection', '\\\\tendless', 'highway', 'road', 'prop', 'obstacle', '\\\\thd', 'stunning', 'graphic', 'rich', 'road', 'environment', '\\\\tchallenging', 'mission', 'test', 'gt', 'racing', 'expertise', '\\\\trealistic', 'high', 'physics', 'car', 'control', '\\\\tmultiple', '3d', 'camera', 'view', 'angel', '\\\\tbest', 'offline', 'play', 'mode', 'free', 'play', 'stunt', 'racing', 'adventure', 'ready', 'enjoy', 'insane', 'extreme', 'speed', 'stunt', 'race', 'adventure', 'click', 'install', 'button', 'support', 'feedback', 'feedback', 'rating', 'important', 'avenger', 'academy', 'busy', 'create', 'fun', 'game', 'engage', 'family', 'friend', 'case', 'find', 'bug', 'need', 'address', 'send', 'email', 'improve', 'reply', 'email', 'soon', 'possible', 'try', 'game', 'click', 'developer', 'visit', 'publisher', 'account', 'wheel', 'legendary', 'gt', 'car', 'begin', 'enjoy', 'car', 'driver', 'simulator', 'car', 'game', '2018', 'use', 'nitro', 'booster', 'boost', 'gt', 'car', 'speed', 'drive', 'fast', 'fast', 'forget', 'know', 'racing', 'hit', 'gas', 'feed', 'passion', 'speed', 'car', 'parking', 'racing', 'adventure', 'extreme', 'speed', 'stunt', 'hero', 'impossible', 'car', 'stunt', 'race', 'professional', 'driver', 'stunt', 'car', 'track', '3d', 'race', 'crazy', 'gt', 'speed', 'car', 'impossible', 'race', 'track', 'go', 'amazing', 'experience', 'fantastic', 'amazing', 'crazy', 'car', 'stunt', 'stunt', 'track', 'blow', 'mind', 'crazy', 'smart', 'gt', 'car', 'smashing', 'machine', 'super', 'smart', 'drive', 'stunt', 'environment', 'make', 'game', 'interesting', 'extreme', 'city', 'gt', 'car', 'stunt', 'thrilling', 'game', 'car', 'racing', '2018', 'need', 'extreme', 'stunt', 'car', 'driving', 'skill', 'drive', 'safely', 'tricky', 'impossible', 'race', 'track', 'curvy', 'path', 'feel', 'like', 'real', 'smart', 'car', 'driver', 'real', 'crazy', 'mountain', 'height', 'city', 'track', 'accomplish', 'impossible', 'stunt', 'race', 'drive', 'mission', 'drive', 'real', 'super', 'gt', 'car', 'challenge', 'competent', 'complete', 'racing', 'car', 'track', 'driving', 'mission', 'give', 'gear', 'exciting', 'gt', 'car', 'park', 'garage', 'classic', 'car', 'racing', 'gt', 'game', 'car', 'come', 'unique', 'specification', 'speed', 'car', 'dealer', 'set', 'fair', 'car', 'price', 'buying', 'ease', 'play', 'unlock', 'exciting', 'cool', 'car', 'endless', 'exclusive', 'gt', 'drive', 'fun', 'sharpen', 'racing', 'stunt', 'skill', 'drive', 'perform', 'extreme', 'speed', 'stunt', 'car', 'drifting', 'enjoy', 'stunt', 'race', 'time', 'gather', 'worth', 'remember', 'racing', 'experience', 'set', 'new', 'racing', 'record', 'racing', 'world', 'drift', 'car', 'simulator', 'gt', 'racing', 'come', 'super', 'cool', 'amazing', 'environment', 'comprise', 'dangerous', 'enchanting', 'racing', 'track', 'car', 'parking', 'straight', 'curvy', 'road', 'stunt', 'maximum', 'challenge', 'beautiful', 'hill', 'mountain', 'fantastic', 'prop', 'difficult', 'hurdle', 'obstacle', 'amazing', 'river', 'bridge', 'gameplay', 'gt', 'stunt', 'drive', 'include', 'select', 'desire', 'car', 'parking', 'garage', 'drive', 'stunt', 'car', 'racing', 'track', 'reach', 'finish', 'line', 'give', 'time', 'win', 'level', 'nitro', 'booster', 'place', 'place', 'help', 'drive', 'fast', 'impossible', 'stunt', 'road', 'racing', 'mania', 'drive', 'earn', 'coin', 'upgrade', 'classic', 'car', 'try', 'good', 'racing', 'adventure', 'hero', 'gt', 'car', 'driver', 'pro', 'android', 'stay', 'tune', 'extreme', 'stun', 'update', 'feature', 'extreme', 'city', 'gt', 'car', 'stunt', '\\\\tcomplete', 'range', 'gt', 'car', 'enjoy', 'fast', 'racing', 'action', '\\\\tmultiple', 'level', 'satisfy', 'racing', 'need', '\\\\tseparate', 'car', 'parking', 'gt', 'car', 'selection', '\\\\tendless', 'highway', 'road', 'prop', 'obstacle', '\\\\thd', 'stunning', 'graphic', 'rich', 'road', 'environment', '\\\\tchallenging', 'mission', 'test', 'gt', 'racing', 'expertise', '\\\\trealistic', 'high', 'physics', 'car', 'control', '\\\\tmultiple', '3d', 'camera', 'view', 'angel', '\\\\tbest', 'offline', 'play', 'mode', 'free', 'play', 'stunt', 'racing', 'adventure', 'ready', 'enjoy', 'insane', 'extreme', 'speed', 'stunt', 'race', 'adventure', 'click', 'install', 'button', 'support', 'feedback', 'feedback', 'rating', 'important', 'avenger', 'academy', 'busy', 'create', 'fun', 'game', 'engage', 'family', 'friend', 'case', 'find', 'bug', 'need', 'address', 'send', 'email', 'improve', 'reply', 'email', 'soon', 'possible', 'try', 'game', 'click', 'developer', 'visit', 'publisher', 'account', 'wheel', 'legendary', 'gt', 'car', 'begin', 'enjoy', 'car', 'driver', 'simulator', 'car', 'game', '2018', 'use', 'nitro', 'booster', 'boost', 'gt', 'car', 'speed', 'drive', 'fast', 'fast', 'forget', 'know', 'racing', 'hit', 'gas', 'feed', 'passion', 'speed', 'car', 'parking', 'racing', 'adventure', 'extreme', 'speed', 'stunt', 'hero', 'impossible', 'car', 'stunt', 'race', 'professional', 'driver', 'stunt', 'car', 'track', '3d', 'race', 'crazy', 'gt', 'speed', 'car', 'impossible', 'race', 'track', 'go', 'amazing', 'experience', 'fantastic', 'amazing', 'crazy', 'car', 'stunt', 'stunt', 'track', 'blow', 'mind', 'crazy', 'smart', 'gt', 'car', 'smashing', 'machine', 'super', 'smart', 'drive', 'stunt', 'environment', 'make', 'game', 'interesting', 'extreme', 'city', 'gt', 'car', 'stunt', 'thrilling', 'game', 'car', 'racing', '2018', 'need', 'extreme', 'stunt', 'car', 'driving', 'skill', 'drive', 'safely', 'tricky', 'impossible', 'race', 'track', 'curvy', 'path', 'feel', 'like', 'real', 'smart', 'car', 'driver', 'real', 'crazy', 'mountain', 'height', 'city', 'track', 'accomplish', 'impossible', 'stunt', 'race', 'drive', 'mission', 'drive', 'real', 'super', 'gt', 'car', 'challenge', 'competent', 'complete', 'racing', 'car', 'track', 'driving', 'mission', 'give', 'gear', 'exciting', 'gt', 'car', 'park', 'garage', 'classic', 'car', 'racing', 'gt', 'game', 'car', 'come', 'unique', 'specification', 'speed', 'car', 'dealer', 'set', 'fair', 'car', 'price', 'buying', 'ease', 'play', 'unlock', 'exciting', 'cool', 'car', 'endless', 'exclusive', 'gt', 'drive', 'fun', 'sharpen', 'racing', 'stunt', 'skill', 'drive', 'perform', 'extreme', 'speed', 'stunt', 'car', 'drifting', 'enjoy', 'stunt', 'race', 'time', 'gather', 'worth', 'remember', 'racing', 'experience', 'set', 'new', 'racing', 'record', 'racing', 'world', 'drift', 'car', 'simulator', 'gt', 'racing', 'come', 'super', 'cool', 'amazing', 'environment', 'comprise', 'dangerous', 'enchanting', 'racing', 'track', 'car', 'parking', 'straight', 'curvy', 'road', 'stunt', 'maximum', 'challenge', 'beautiful', 'hill', 'mountain', 'fantastic', 'prop', 'difficult', 'hurdle', 'obstacle', 'amazing', 'river', 'bridge', 'gameplay', 'gt', 'stunt', 'drive', 'include', 'select', 'desire', 'car', 'parking', 'garage', 'drive', 'stunt', 'car', 'racing', 'track', 'reach', 'finish', 'line', 'give', 'time', 'win', 'level', 'nitro', 'booster', 'place', 'place', 'help', 'drive', 'fast', 'impossible', 'stunt', 'road', 'racing', 'mania', 'drive', 'earn', 'coin', 'upgrade', 'classic', 'car', 'try', 'good', 'racing', 'adventure', 'hero', 'gt', 'car', 'driver', 'pro', 'android', 'stay', 'tune', 'extreme', 'stun', 'update', 'feature', 'extreme', 'city', 'gt', 'car', 'stunt', '\\\\tcomplete', 'range', 'gt', 'car', 'enjoy', 'fast', 'racing', 'action', '\\\\tmultiple', 'level', 'satisfy', 'racing', 'need', '\\\\tseparate', 'car', 'parking', 'gt', 'car', 'selection', '\\\\tendless', 'highway', 'road', 'prop', 'obstacle', '\\\\thd', 'stunning', 'graphic', 'rich', 'road', 'environment', '\\\\tchallenging', 'mission', 'test', 'gt', 'racing', 'expertise', '\\\\trealistic', 'high', 'physics', 'car', 'control', '\\\\tmultiple', '3d', 'camera', 'view', 'angel', '\\\\tbest', 'offline', 'play', 'mode', 'free', 'play', 'stunt', 'racing', 'adventure', 'ready', 'enjoy', 'insane', 'extreme', 'speed', 'stunt', 'race', 'adventure', 'click', 'install', 'button', 'support', 'feedback', 'feedback', 'rating', 'important', 'avenger', 'academy', 'busy', 'create', 'fun', 'game', 'engage', 'family', 'friend', 'case', 'find', 'bug', 'need', 'address', 'send', 'email', 'improve', 'reply', 'email', 'soon', 'possible', 'try', 'game', 'click', 'developer', 'visit', 'publisher', 'account']\n",
      "2718\n"
     ]
    }
   ],
   "source": [
    "### 1. open document\n",
    "# start with LDA model, NMF model does not seem to produce good results\n",
    "# https://shravan-kuchkula.github.io/topic-modeling/#nmf-results-summary\n",
    "%run -i '4_natural_language_processing.py'\n",
    "initial_panel = '201908'\n",
    "panels_have_text = ['201912', '202001', '202003', '202004', '202009', '202010', '202011']\n",
    "DF = combine_tokenized_cols_into_single_col(initial_panel, panels_have_text)\n",
    "documents = DF.loc[DF.index[102], 'combined_panels_description']\n",
    "print(documents)\n",
    "print(len(documents))"
   ],
   "metadata": {
    "collapsed": false,
    "pycharm": {
     "name": "#%%\n"
    }
   }
  },
  {
   "cell_type": "code",
   "execution_count": 33,
   "outputs": [
    {
     "name": "stdout",
     "output_type": "stream",
     "text": [
      "['2018', '3d', 'academy', 'accomplish', 'account', 'action', 'address', 'adventure', 'amazing', 'android', 'angel', 'angels', 'avenger', 'beautiful', 'begin', 'blow', 'boost', 'booster', 'bridge', 'bug', 'busy', 'button', 'buying', 'camera', 'car', 'cars', 'case', 'challenge', 'city', 'classic', 'click', 'clicking', 'coin', 'come', 'competent', 'complete', 'comprise', 'control', 'controls', 'cool', 'crazy', 'create', 'curvy', 'dangerous', 'dealer', 'desire', 'developer', 'difficult', 'drift', 'drifting', 'drive', 'driver', 'driving', 'earn', 'ease', 'email', 'enchanting', 'endless', 'engage', 'enjoy', 'environment', 'exciting', 'exclusive', 'experience', 'expertise', 'extreme', 'fair', 'family', 'fantastic', 'fast', 'feature', 'feed', 'feedback', 'feel', 'find', 'finish', 'forget', 'free', 'friend', 'fun', 'game', 'gameplay', 'garage', 'gas', 'gather', 'gear', 'give', 'go', 'good', 'graphic', 'gt', 'height', 'help', 'hero', 'high', 'highway', 'hill', 'hit', 'hurdle', 'important', 'impossible', 'improve', 'include', 'insane', 'install', 'interesting', 'keep', 'know', 'legendary', 'level', 'like', 'line', 'machine', 'make', 'mania', 'maximum', 'mind', 'mission', 'mode', 'mountain', 'navengers', 'nbusy', 'nbutton', 'need', 'needs', 'new', 'nfeatures', 'ngt', 'ninstall', 'nitro', 'nmany', 'nmore', 'nor', 'nready', 'nstay', 'nsupport', 'nthe', 'ntry', 'nyour', 'obstacle', 'obstacles', 'offline', 'park', 'parking', 'passion', 'path', 'perform', 'physics', 'place', 'play', 'possible', 'price', 'pro', 'professional', 'prop', 'publisher', 'race', 'racing', 'range', 'rating', 'reach', 'ready', 'real', 'record', 'remember', 'reply', 'rich', 'river', 'road', 'safely', 'satisfy', 'select', 'selection', 'send', 'set', 'sharpen', 'simulator', 'skill', 'smart', 'smashing', 'soon', 'specification', 'speed', 'stay', 'straight', 'stun', 'stunning', 'stunt', 'stunts', 'super', 'support', 'tbest', 'tchallenge', 'tchallenging', 'tcomplete', 'tendless', 'test', 'thd', 'the', 'thrilling', 'time', 'tmultiple', 'track', 'trealistic', 'tricky', 'try', 'tseparate', 'tune', 'unique', 'unlock', 'update', 'upgrade', 'use', 'view', 'visit', 'wheel', 'win', 'world', 'worth', 'you']\n"
     ]
    }
   ],
   "source": [
    "### 2. count vectorize\n",
    "countvectorizer = CountVectorizer()\n",
    "feature_matrix = countvectorizer.fit_transform(documents)\n",
    "lda_feature_names = countvectorizer.get_feature_names()\n",
    "print(lda_feature_names)"
   ],
   "metadata": {
    "collapsed": false,
    "pycharm": {
     "name": "#%%\n"
    }
   }
  },
  {
   "cell_type": "code",
   "execution_count": 32,
   "outputs": [
    {
     "data": {
      "text/plain": "array([[0.16682942, 0.16682894, 0.66634164],\n       [0.16683794, 0.66631567, 0.16684638],\n       [0.16667725, 0.66664498, 0.16667777],\n       ...,\n       [0.66643697, 0.16677859, 0.16678444],\n       [0.66643697, 0.16677859, 0.16678444],\n       [0.66643697, 0.16677859, 0.16678444]])"
     },
     "metadata": {},
     "output_type": "display_data"
    },
    {
     "data": {
      "text/plain": "(2718, 3)"
     },
     "metadata": {},
     "output_type": "display_data"
    }
   ],
   "source": [
    "### 3. LDA model\n",
    "# Instantiate the LDA model\n",
    "# k is number of topics\n",
    "k = 3\n",
    "lda_model = LatentDirichletAllocation(n_components=k, max_iter=100, learning_method='online', random_state=43,\n",
    "                                     batch_size=128, evaluate_every=-1, n_jobs=-1)\n",
    "\n",
    "# fit transform the feature matrix\n",
    "lda_output = lda_model.fit_transform(feature_matrix)\n",
    "\n",
    "# display the lda_output and its shape\n",
    "display(lda_output)\n",
    "display(lda_output.shape)"
   ],
   "metadata": {
    "collapsed": false,
    "pycharm": {
     "name": "#%%\n"
    }
   }
  },
  {
   "cell_type": "code",
   "execution_count": 37,
   "outputs": [
    {
     "name": "stdout",
     "output_type": "stream",
     "text": [
      "topic 1\n",
      "['academy', '2018', '3d']\n",
      "topic 2\n",
      "['3d', 'academy', '2018']\n",
      "topic 3\n",
      "['3d', 'academy', '2018']\n"
     ]
    }
   ],
   "source": [
    "### 4. print top ranked topic words\n",
    "# number of top words within each topic to select\n",
    "top = 6\n",
    "for topic_index in range(k):\n",
    "    top_indices = np.argsort( lda_output[topic_index,:] )[::-1]\n",
    "    top_terms = []\n",
    "    for term_index in top_indices[0:top]:\n",
    "        top_terms.append(lda_feature_names[term_index])\n",
    "    print('topic ' + str(topic_index+1))\n",
    "    print(top_terms)"
   ],
   "metadata": {
    "collapsed": false,
    "pycharm": {
     "name": "#%%\n"
    }
   }
  },
  {
   "cell_type": "code",
   "execution_count": null,
   "outputs": [],
   "source": [],
   "metadata": {
    "collapsed": false,
    "pycharm": {
     "name": "#%%\n"
    }
   }
  }
 ],
 "metadata": {
  "kernelspec": {
   "display_name": "Python 3",
   "language": "python",
   "name": "python3"
  },
  "language_info": {
   "codemirror_mode": {
    "name": "ipython",
    "version": 2
   },
   "file_extension": ".py",
   "mimetype": "text/x-python",
   "name": "python",
   "nbconvert_exporter": "python",
   "pygments_lexer": "ipython2",
   "version": "2.7.6"
  }
 },
 "nbformat": 4,
 "nbformat_minor": 0
}