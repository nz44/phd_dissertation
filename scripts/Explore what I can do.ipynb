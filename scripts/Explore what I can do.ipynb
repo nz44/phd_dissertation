{
 "cells": [
  {
   "cell_type": "markdown",
   "source": [
    "September 6, 2020\n",
    "1. app data need to be divided into major sectors\n",
    "    This is because after reading literature, you find different sectors follow different patterns and no previous paper write\n",
    "    an entire paper on all-encompassing internet economy.\n",
    "\n",
    "You could consider bringing in other data."
   ],
   "metadata": {
    "collapsed": false
   }
  },
  {
   "cell_type": "code",
   "execution_count": 1,
   "outputs": [],
   "source": [
    "# import packages and define path\n",
    "from pathlib import Path\n",
    "import pickle\n",
    "import numpy as np\n",
    "import matplotlib.pyplot as plt\n",
    "import pandas as pd\n",
    "%matplotlib inline\n",
    "import numpy as np\n",
    "from google_play_scraper import app\n",
    "from tqdm import tqdm\n",
    "input_path = Path(\"/home/naixin/Insync/naixin88@sina.cn/OneDrive/_____GWU_ECON_PHD_____/___Dissertation___/____WEB_SCRAPER____\")\n",
    "output_path = Path(\"/home/naixin/Insync/naixin88@sina.cn/OneDrive/_____GWU_ECON_PHD_____/___Dissertation___/____WEB_SCRAPER____/___cleaned_datasets___\")\n",
    "# open an old dataset for tracking\n",
    "q = input_path / \"TRACKING_THE_SAME_ID_MONTHLY_SCRAPE\" / \"202009\" / \"TRACKING_202002.pickle\"\n",
    "with open(q, 'rb') as filename:\n",
    "    C = pickle.load(filename)\n",
    "# run python scripts containing all the functions\n",
    "%run -i '1_functions_scraping_data.py'\n",
    "%run -i '2_functions_data_visualization.py'"
   ],
   "metadata": {
    "collapsed": false,
    "pycharm": {
     "name": "#%%\n"
    }
   }
  },
  {
   "cell_type": "code",
   "execution_count": 4,
   "outputs": [
    {
     "ename": "TypeError",
     "evalue": "string indices must be integers",
     "output_type": "error",
     "traceback": [
      "\u001B[0;31m---------------------------------------------------------------------------\u001B[0m",
      "\u001B[0;31mTypeError\u001B[0m                                 Traceback (most recent call last)",
      "\u001B[0;32m~/Insync/naixin88@sina.cn/OneDrive/__CODING__/PycharmProjects/GOOGLE_PLAY/2_functions_transforming_raw_data.py\u001B[0m in \u001B[0;36m<module>\u001B[0;34m\u001B[0m\n\u001B[0;32m----> 1\u001B[0;31m \u001B[0mid_list\u001B[0m \u001B[0;34m=\u001B[0m \u001B[0mget_id_from_data\u001B[0m\u001B[0;34m(\u001B[0m\u001B[0mC\u001B[0m\u001B[0;34m)\u001B[0m\u001B[0;34m\u001B[0m\u001B[0;34m\u001B[0m\u001B[0m\n\u001B[0m\u001B[1;32m      2\u001B[0m \u001B[0mprint\u001B[0m\u001B[0;34m(\u001B[0m\u001B[0mid_list\u001B[0m\u001B[0;34m)\u001B[0m\u001B[0;34m\u001B[0m\u001B[0;34m\u001B[0m\u001B[0m\n\u001B[1;32m      3\u001B[0m \u001B[0;34m\u001B[0m\u001B[0m\n",
      "\u001B[0;32m~/Insync/naixin88@sina.cn/OneDrive/__CODING__/PycharmProjects/GOOGLE_PLAY/2_functions_transforming_raw_data.py\u001B[0m in \u001B[0;36mget_id_from_data\u001B[0;34m(C)\u001B[0m\n\u001B[1;32m      7\u001B[0m     \u001B[0mid_list\u001B[0m \u001B[0;34m=\u001B[0m \u001B[0;34m[\u001B[0m\u001B[0;34m]\u001B[0m\u001B[0;34m\u001B[0m\u001B[0;34m\u001B[0m\u001B[0m\n\u001B[1;32m      8\u001B[0m     \u001B[0;32mfor\u001B[0m \u001B[0mi\u001B[0m \u001B[0;32min\u001B[0m \u001B[0mC\u001B[0m\u001B[0;34m:\u001B[0m\u001B[0;34m\u001B[0m\u001B[0;34m\u001B[0m\u001B[0m\n\u001B[0;32m----> 9\u001B[0;31m         \u001B[0mid_list\u001B[0m\u001B[0;34m.\u001B[0m\u001B[0mappend\u001B[0m\u001B[0;34m(\u001B[0m\u001B[0mi\u001B[0m\u001B[0;34m[\u001B[0m\u001B[0;34m'appId'\u001B[0m\u001B[0;34m]\u001B[0m\u001B[0;34m)\u001B[0m\u001B[0;34m\u001B[0m\u001B[0;34m\u001B[0m\u001B[0m\n\u001B[0m\u001B[1;32m     10\u001B[0m     \u001B[0;32mreturn\u001B[0m\u001B[0;34m(\u001B[0m\u001B[0mid_list\u001B[0m\u001B[0;34m)\u001B[0m\u001B[0;34m\u001B[0m\u001B[0;34m\u001B[0m\u001B[0m\n\u001B[1;32m     11\u001B[0m \u001B[0;34m\u001B[0m\u001B[0m\n",
      "\u001B[0;31mTypeError\u001B[0m: string indices must be integers"
     ]
    }
   ],
   "source": [
    "# get the unique id list from the old data\n",
    "id_list = get_id_from_data_beofre_202009(C)\n",
    "print(id_list)"
   ],
   "metadata": {
    "collapsed": false,
    "pycharm": {
     "name": "#%%\n"
    }
   }
  },
  {
   "cell_type": "code",
   "execution_count": 17,
   "outputs": [
    {
     "name": "stderr",
     "output_type": "stream",
     "text": [
      "scraping...: 100%|██████████| 6860/6860 [3:05:01<00:00,  1.62s/it]      \n"
     ]
    }
   ],
   "source": [
    "# scraping app details according to id\n",
    "app_details = scraping_apps_according_to_id(id_list)\n",
    "q = input_path / \"TRACKING_THE_SAME_ID_MONTHLY_SCRAPE\" / \"202009\" / \"TRACKING_202002.pickle\"\n",
    "pickle.dump(app_details, open(q,'wb'))"
   ],
   "metadata": {
    "collapsed": false,
    "pycharm": {
     "name": "#%%\n"
    }
   }
  },
  {
   "cell_type": "code",
   "execution_count": 2,
   "outputs": [
    {
     "name": "stdout",
     "output_type": "stream",
     "text": [
      "the dataset contains 6860 unique apps.\n",
      "com.invaderscorp.polagram\n",
      "title  :  LALALAB. - Photo printing | Memories, Gifts, Decor\n",
      "description  :  LALALAB. is the #1 app in Europe for printing photos easily from your smartphone. In just a few clicks, turn all your favourite memories into prints, photo albums, posters, and more - and get them delivered right to your doorstep. Whether for you or someone you love, there’s a LALALAB. product for everyone. Our app has been used over 10 million times!\r\n",
      "\r\n",
      "◆ 📱 THE HIGHEST-RATED PRINTING APP ◆ \r\n",
      "Simple and intuitive, our app has been used to send millions of smiles around the world. All our products are printed exclusively in Europe to ensure optimal quality and fast delivery. Create, order, and enjoy! We guarantee you’ll love it.\r\n",
      " \r\n",
      "◆ 📸 PRINT YOUR BEST MOMENTS IN 5 MINUTES  ◆\r\n",
      "Create unique photo products in just a few minutes thanks to a super-intuitive, easy-to-use interface. Putting together a photo album has never been so simple! Want to really make it yours? Customise your photos with filters, colourful backgrounds, captions, and emojis. \r\n",
      "\r\n",
      "◆ 🚀 THERE ARE SO MANY REASONS TO USE LALALAB. ◆\r\n",
      "- Decorate your space with memories you love\r\n",
      "- Make your loved ones happy with unique, personalised gifts\r\n",
      "- Create lasting souvenirs out of family moments that you can revisit again and again\r\n",
      "- Relive your last holiday!\r\n",
      " \r\n",
      "◆ 💎 PLEASING PRODUCTS FOR EVERYONE ◆\r\n",
      "- PRINTS: Our most-loved product! Choose from 6 formats, matte or gloss finish, framed or borderless… There’s something for everyone. \r\n",
      "- PHOTO ALBUMS: Create books containing anywhere from 26 to 100 photos, available in landscape, square, or mini formats. Fun to flip through again and again!\r\n",
      "- PHOTO BOXES: Keep all your best moments in a beautiful photo box that holds up to 150 prints. Choose from your favourite formats: Mini-Vintage, Vintage, or Classic! \r\n",
      "- MAGNETS: Heart, circle, square or Mini-Vintage shapes! Your fridge will thank you.\r\n",
      "- POSTERS: Show off your favourite photos with a single large image or a mosaic of many.\r\n",
      "- CANVASES: Turn your favourite photos into art. Comes in 30x30cm or 50x50cm. \r\n",
      "- FRAMES: a ready-to-hang print in a black or natural-wood frame \r\n",
      "- CALENDAR: keep track of your year with our square or landscape calendars \r\n",
      "- POSTCARDS: easily send postcards from your weekends and holidays to friends and family\r\n",
      "\r\n",
      "Check out all our latest products and updates in the app. \r\n",
      " \r\n",
      "◆ 💡 HOW DOES IT WORK? ◆\r\n",
      "LALALAB. lets you print photos in multiple formats, including prints, albums, posters, magnets, postcards, and more. We strive to offer you quality products and fast, high-quality, easy-to-use functionalities. Your photos are waiting!\r\n",
      "-  Select the product of your choice from prints, albums, posters, magnets, and more.\r\n",
      "-  Upload your photos from your smartphone, Instagram feed, Facebook, Google Photos, or Dropbox.\r\n",
      "-   Personalise your product as much as you like with a wide range of colours, backgrounds, and text options.\r\n",
      "-   We’ll auto-save your unfinished creations so you can come back to them later if you’d prefer.\r\n",
      "-  Place your order securely using Paypal, or a credit/debit card. \r\n",
      "-  Receive your order (wrapped carefully and sent with love) at home or at a pick-up point near you.\r\n",
      " \r\n",
      "◆ 🔍 ABOUT LALALAB. ◆\r\n",
      "With more than 2 million clients, LALALAB. is the most downloaded and highest-rated printing app in Europe! Enjoy all your most cherished moments again and again with our products. \r\n",
      "\r\n",
      "Created in France in 2012, LALALAB. became a proud member of Exacompta-Clairefontaine in 2015. Our beautiful photo products are produced exclusively in Europe (in France and Germany, to be precise) in order to ensure fast delivery and excellent quality. \r\n",
      "\r\n",
      "Become part of our community of over 500,000 on social media by following us on Instagram, Facebook, and Pinterest. @lalalab #photography #memories #love #inspiration\r\n",
      " \r\n",
      "It’s easy to get in touch with us! Simply write to contact@lalalab.com. We look forward to hearing from you.\n",
      "descriptionHTML  :  LALALAB. is the #1 app in Europe for printing photos easily from your smartphone. In just a few clicks, turn all your favourite memories into prints, photo albums, posters, and more - and get them delivered right to your doorstep. Whether for you or someone you love, there’s a LALALAB. product for everyone. Our app has been used over 10 million times!<br><br>◆ 📱 THE HIGHEST-RATED PRINTING APP ◆ <br>Simple and intuitive, our app has been used to send millions of smiles around the world. All our products are printed exclusively in Europe to ensure optimal quality and fast delivery. Create, order, and enjoy! We guarantee you’ll love it.<br> <br>◆ 📸 PRINT YOUR BEST MOMENTS IN 5 MINUTES  ◆<br>Create unique photo products in just a few minutes thanks to a super-intuitive, easy-to-use interface. Putting together a photo album has never been so simple! Want to really make it yours? Customise your photos with filters, colourful backgrounds, captions, and emojis. <br><br>◆ 🚀 THERE ARE SO MANY REASONS TO USE LALALAB. ◆<br>- Decorate your space with memories you love<br>- Make your loved ones happy with unique, personalised gifts<br>- Create lasting souvenirs out of family moments that you can revisit again and again<br>- Relive your last holiday!<br> <br>◆ 💎 PLEASING PRODUCTS FOR EVERYONE ◆<br>- PRINTS: Our most-loved product! Choose from 6 formats, matte or gloss finish, framed or borderless… There’s something for everyone. <br>- PHOTO ALBUMS: Create books containing anywhere from 26 to 100 photos, available in landscape, square, or mini formats. Fun to flip through again and again!<br>- PHOTO BOXES: Keep all your best moments in a beautiful photo box that holds up to 150 prints. Choose from your favourite formats: Mini-Vintage, Vintage, or Classic! <br>- MAGNETS: Heart, circle, square or Mini-Vintage shapes! Your fridge will thank you.<br>- POSTERS: Show off your favourite photos with a single large image or a mosaic of many.<br>- CANVASES: Turn your favourite photos into art. Comes in 30x30cm or 50x50cm. <br>- FRAMES: a ready-to-hang print in a black or natural-wood frame <br>- CALENDAR: keep track of your year with our square or landscape calendars <br>- POSTCARDS: easily send postcards from your weekends and holidays to friends and family<br><br>Check out all our latest products and updates in the app. <br> <br>◆ 💡 HOW DOES IT WORK? ◆<br>LALALAB. lets you print photos in multiple formats, including prints, albums, posters, magnets, postcards, and more. We strive to offer you quality products and fast, high-quality, easy-to-use functionalities. Your photos are waiting!<br>-  Select the product of your choice from prints, albums, posters, magnets, and more.<br>-  Upload your photos from your smartphone, Instagram feed, Facebook, Google Photos, or Dropbox.<br>-   Personalise your product as much as you like with a wide range of colours, backgrounds, and text options.<br>-   We’ll auto-save your unfinished creations so you can come back to them later if you’d prefer.<br>-  Place your order securely using Paypal, or a credit/debit card. <br>-  Receive your order (wrapped carefully and sent with love) at home or at a pick-up point near you.<br> <br>◆ 🔍 ABOUT LALALAB. ◆<br>With more than 2 million clients, LALALAB. is the most downloaded and highest-rated printing app in Europe! Enjoy all your most cherished moments again and again with our products. <br><br>Created in France in 2012, LALALAB. became a proud member of Exacompta-Clairefontaine in 2015. Our beautiful photo products are produced exclusively in Europe (in France and Germany, to be precise) in order to ensure fast delivery and excellent quality. <br><br>Become part of our community of over 500,000 on social media by following us on Instagram, Facebook, and Pinterest. @lalalab #photography #memories #love #inspiration<br> <br>It’s easy to get in touch with us! Simply write to contact@lalalab.com. We look forward to hearing from you.\n",
      "summary  :  The best app to print your photos: Prints, Posters, Albums, Magnets, Canvases\n",
      "summaryHTML  :  The best app to print your photos: Prints, Posters, Albums, Magnets, Canvases\n",
      "installs  :  1,000,000+\n",
      "minInstalls  :  1000000\n",
      "score  :  4.654392\n",
      "ratings  :  82009\n",
      "reviews  :  36286\n",
      "histogram  :  [3511, 682, 1173, 9902, 66741]\n",
      "price  :  0\n",
      "free  :  True\n",
      "currency  :  USD\n",
      "sale  :  False\n",
      "saleTime  :  None\n",
      "originalPrice  :  None\n",
      "saleText  :  None\n",
      "offersIAP  :  False\n",
      "inAppProductPrice  :  None\n",
      "size  :  91M\n",
      "androidVersion  :  5.0\n",
      "androidVersionText  :  5.0 and up\n",
      "developer  :  LALALAB\n",
      "developerId  :  LALALAB\n",
      "developerEmail  :  contact@lalalab.com\n",
      "developerWebsite  :  https://www.lalalab.com/\n",
      "developerAddress  :  144 Quai de Jemmapes\n",
      "75010 PARIS\n",
      "FRANCE\n",
      "privacyPolicy  :  https://www.lalalab.com/en/terms/\n",
      "developerInternalID  :  7324802236261435161\n",
      "genre  :  Photography\n",
      "genreId  :  PHOTOGRAPHY\n",
      "icon  :  https://lh3.googleusercontent.com/tm5OzSDktCDstXLghid9dJ_KF0Ipo4n18KAE9S0lcd_zArRvI9RtKMCbBSzDzXijKiJu\n",
      "headerImage  :  https://lh3.googleusercontent.com/1u4ajEMUjtoKFeJCdmnrb4ixTvlEIaaMynjcXjcP6sIcysFOOpbS96Nv5yQW_XkWw0o\n",
      "screenshots  :  ['https://lh3.googleusercontent.com/bmk9kLC8t3_u9uED9ndEtR-9WWCBNapLs56VD5IyeI68nUkVKF3GcV1XBaFudlVPosl4', 'https://lh3.googleusercontent.com/wNGib_r47VZtHqVRIJazjZ9CTPLGk9Dgz5Vv4InFe-nNgRm5dkyDRLi2hQi4wKB-h44', 'https://lh3.googleusercontent.com/2KUDEWT81KxH42mjEfGc0d64q6UjEJ-uv8pK-ZTYPdhbhc0lYKZeLUI-5q3tRfyartLK', 'https://lh3.googleusercontent.com/f_8lqIIczs2KQygniiN4A7Bc_oHrgK183kTScMLXWSI14H55HOpSAtScQMs1AiuF0io', 'https://lh3.googleusercontent.com/yn8o51wWCaL_bYHeaoO4YFxnJBVusFfGmfTdCkb-ZqOo1m1jASMuMkx2nTpRZ-bZqJ0', 'https://lh3.googleusercontent.com/qE2LbdcgK3pCZ_0IwKqhvK-DYFWNPJtCdwGN2jpwzGKt9MnTm1Qq18h-6cNB1-AjtGQ', 'https://lh3.googleusercontent.com/VU4JqEqpEogAUj0SYi-tBfFf8sDum-ont-7Ly8CNVUDoh_XgAMnUC33zRXHtE2mqmA', 'https://lh3.googleusercontent.com/Kb-btpEQh-Rh0iEQln44qHRJ2ZpNfUe8HfXo6LXo6MGYyKI4vr4uCo1stnG1y-6XFe8', 'https://lh3.googleusercontent.com/B0llRUHPHj3hm8t0glRT42Ltbn2v-K4XyZPLPY7cE918_tB3Q-P0pIkErSEhqs5W1Q', 'https://lh3.googleusercontent.com/4roXMPI41k3GLRrMTofbzvqA02q3ByxwoZv6MXToamaIr_cuhbDUC24-m03UXNVm2bx7', 'https://lh3.googleusercontent.com/jYwAPZhW9UhUzQkzg3v1VqlUvSsTDhqS9QhC_zseMnjktFwPNnUJ857fmbwpy6oCoA', 'https://lh3.googleusercontent.com/miC9Xi5oeiPzL0bqsfANVjtjfEtgwOfUlMBk5IGI737uh5nWGCK_imu7iZd3m7ZeEA', 'https://lh3.googleusercontent.com/Nk2PUlszAqPGuxxRrT_GTODAKGSnviq0MegBiyL_U8xL23I6xdIrYhHHyw8R83fJDA', 'https://lh3.googleusercontent.com/hezvp6bSt_P0Nv_vPl4vnCfQ9LEwwOS_OitsXrdvEtTLTdKDLBx5U4XDih3vbi90LQ', 'https://lh3.googleusercontent.com/1rhMfbriLfWWzjroiYH0GFQrnmgYsj_4Wxf3LDVh08-0qix_yz6rq5HAfiRLWHpX3C0', 'https://lh3.googleusercontent.com/GIUgx_emXEnM7EDWdWc77_uZciL8m6zTHRozuJTr0UkeVJIYnx3OdOcSLUSrD9TdB8I-', 'https://lh3.googleusercontent.com/V6fpLf8FMXULDo8pWuX2urBhryYiRcLZUlBtUoQeTZRuJXkxaz0Sm5wuB8BfrzEU3ls', 'https://lh3.googleusercontent.com/zaMikFTTODkrEoZ7BaDKV32WR87TgmlrU6n9XM41fgIaE9VnfWpBfY8ujHS2Gz8uDA', 'https://lh3.googleusercontent.com/iyBjD8guabqIlKfMgYqz3Ul6vwY903n1_Uu0HdDixfD6y83syPNjPf1_v5IIyto2lAk', 'https://lh3.googleusercontent.com/d-a9YOdwD4OGLG-JRQ4wltmsTZrEqhiJ11cJZQ1wqQAK7v4UOEFd8Ut0c3olnbfqKA', 'https://lh3.googleusercontent.com/pmzbmAz0GAsMf17PRcWBIIuLnTVuzWZjDifjRR8gVmXN1UDEuALYi9TQK5ZcalmUSQ', 'https://lh3.googleusercontent.com/MC0xERvQJkPs2CWaowvVtNRcSmNkZkyAeHyK54PczDGbrGtXbs7ZAGofwClfqbCxMg', 'https://lh3.googleusercontent.com/T5lxix_iKIaNXeP6hz69VlsAmfnNxVvWMIroGaSWe20Ay7I1yzwK2IYjDmWKh_gpjGs', 'https://lh3.googleusercontent.com/cXRc1vMVbToLIVMinMwIaL11arcvsPGXlOTBtv2U5D__ZgU7TavQ5ryM5h1KTcCKLZg']\n",
      "video  :  https://www.youtube.com/embed/IOBPO1Q43SQ?ps=play&vq=large&rel=0&autohide=1&showinfo=0\n",
      "videoImage  :  https://i.ytimg.com/vi/IOBPO1Q43SQ/hqdefault.jpg\n",
      "contentRating  :  Everyone\n",
      "contentRatingDescription  :  None\n",
      "adSupported  :  None\n",
      "containsAds  :  False\n",
      "released  :  Sep 19, 2012\n",
      "updated  :  1599051547\n",
      "version  :  7.10.3\n",
      "recentChanges  :  Hey #LALAfamily,\r\n",
      "\r\n",
      "This version welcomes an evolution of the order summary screen! More intuitive, simpler, but also more complete!\r\n",
      "You can also now specify who can pick up your package at a relay point in case you couldn’t!\r\n",
      "\r\n",
      "We also made a lot of improvements and corrections for an experience that is even more enjoyable ☀️\r\n",
      "Write to us at contact@lalalab.com for any feedback, question or just to say hello :)\n",
      "recentChangesHTML  :  Hey #LALAfamily,<br><br>This version welcomes an evolution of the order summary screen! More intuitive, simpler, but also more complete!<br>You can also now specify who can pick up your package at a relay point in case you couldn’t!<br><br>We also made a lot of improvements and corrections for an experience that is even more enjoyable ☀️<br>Write to us at contact@lalalab.com for any feedback, question or just to say hello :)\n",
      "comments  :  [\"There's some major issue with the Drafts section of this app. Changes disappear after 24 hours. Are we supposed to finish off selecting and editing the photos in 24 hours? It's insane if that's the case. It took me around 2 hours yesterday to select and edit the photos for the Lalalab box. I opened the app to make the final changes and order but the changes were lost. It's disappointing! I was pretty excited to order the prints but this sort of issue is totally disgusting.\", \"The pictures are great, but the app not so much. Since a couple of months, 'cause of the latest updates, I can't save drafts or products in the cart anymore, everytime I try to save the draft for an order it goes deleted as soon as I close the app, and I need to restart it all over again.\", \"I ordered the photos for my anniversary to do a wall collage as a surprise and I was told it would arrive by Friday which is why I paid this much to get it on time. The photos never came and I have tried several times to contact the company and zero acknowledgement or response. The tracking doesn't update, it just says shipped so I have no idea when to expect it. Total rip off. Don't buy from here! You'll waste your money.\", \"Ive used this app twice now. Very simple, photos are good quality and you can edit them in numerous ways. If the resolution won't be good enough it does warn you. Very happy with my purchases.\", 'Love it. Easy to use and the magnets look very nice.', 'I made several purchases and just love it, plus I had a problem with a photo book and they gave me the money back in credit to amend the printing. Great Customer Service and efficient. Thank you!', 'Great quality prints, easy to use.', 'Love the quality and customer service! Everyone who visits always asks me where I got my photos from.', \"I love this app. It's easy to use and photos are delivered quickly and they are super detailed.\", 'Used it lots of times. Always happy with the quality of the photos. I love the vintage frames!', 'Love it. Little mini photo boxes are perfect for the baby book 👌 and so easy to get photos from everywhere!!!', \"Excited to download and get some more photos, BUT they aren't currently delivering to my address due to COVID19. I'm fine with that, but I just spent some time setting up an order I was excited about just to be let down. Even a banner on the front page would have helped.\", 'Lovely quality photos, very reasonable price. Discovered this app during lock down, will never go back to photo printing in shops or supermarkets again.', 'Easy to use and great quality pictures.', \"It's a good photo print ordering app. Some more functionality with regards to file selection and page layout would make it even better.\", 'Super product. Easy to use and good quality. Fast delivery', 'Easy to use, wide range of payment methods, option to save a draft.', \"Brilliant! 73 photos for under £5 as you only pay postage! What's not to like...best app ever! Get it people!\", 'Amazing! I had a problem with some photos and the lalateam fastly helpt me! love this app', 'Love the retro print formats and magnets you can make...lovely postcards etc for fridges and wall strings. Fun!', 'Love this app! Good quality photos and pretty fast delivery.', 'Brilliant app. Fantastic service. As new parents we have loved getting the postcards sent to Grandparents and lots of prints for ourselves', 'Quick and easy to use app with great quality prints at really good prices. Is now my only go to printing company!', 'Excellent app, easy, cheap and quick', 'So easy to use. A really fun way to save and share pictures, great prices too', 'Love the vibrant colored designs and the variety of prints!', 'So easy to use, love the print quality! Quick dispatch, simple easy edits. Have already ordered twice!', 'Easy to use, great quality photos in fab formats, great deals!', 'Easy and Simple to use. Great prints and great value!', 'Love it! Good quality photos at good price. The app is really easy to use', 'Definitely recommended this application easy and fast and a good customer service.', 'Very easy to use. Lots of options available and quick delivery.', \"Amazing picture quality. Love all the canvas's i have purchased so far.\", \"Was easy to use to get pics and put a text on each card, can't wait to give them as a gift\", 'App is super easy to use and orders are printed and dispatched quickly!', 'Great products to choose from and lots of cool ways to edit and personalise your photos 👌', 'Very high quality prints and lots of options Vailable. The product is costly compared to competitors however you are garentueed high quality. I am a repeat customer.', 'Excellent quality & very prompt delivery. Highly recommend 👌', \"I am very pleased with my order I did forget to make sure my photos where centered and had many pics with heads cut off. I wasn't aware if this and was given half my money back to reorder so I could adjust the pictures thankyou lalalab for your quick response and for the fast delivery x\", 'Always had great photos, photo magnets, delivery always good']\n",
      "appId  :  com.invaderscorp.polagram\n",
      "url  :  https://play.google.com/store/apps/details?id=com.invaderscorp.polagram&hl=en&gl=us\n"
     ]
    }
   ],
   "source": [
    "# load a dataset for transforming/analysis\n",
    "q = input_path / \"TRACKING_THE_SAME_ID_MONTHLY_SCRAPE\" / \"202009\" / \"TRACKING_202002.pickle\"\n",
    "with open(q, 'rb') as filename:\n",
    "    C = pickle.load(filename)\n",
    "# get a glimpse of the scraped raw data\n",
    "get_a_glimpse(C)"
   ],
   "metadata": {
    "collapsed": false,
    "pycharm": {
     "name": "#%%\n"
    }
   }
  },
  {
   "cell_type": "code",
   "execution_count": 3,
   "outputs": [
    {
     "name": "stdout",
     "output_type": "stream",
     "text": [
      "after dropping rows all NA in all columns, the non-missing values in each column  title                       6825\n",
      "description                 6825\n",
      "descriptionHTML             6825\n",
      "summary                     6825\n",
      "summaryHTML                 6825\n",
      "installs                    6822\n",
      "minInstalls                 6825\n",
      "score                       6810\n",
      "ratings                     6770\n",
      "reviews                     6810\n",
      "histogram                   6825\n",
      "price                       6822\n",
      "free                        6822\n",
      "currency                    6822\n",
      "sale                        6825\n",
      "saleTime                      23\n",
      "originalPrice                 23\n",
      "saleText                      23\n",
      "offersIAP                   6825\n",
      "inAppProductPrice           3933\n",
      "size                        6825\n",
      "androidVersion              6817\n",
      "androidVersionText          6825\n",
      "developer                   6825\n",
      "developerId                 6825\n",
      "developerEmail              6825\n",
      "developerWebsite            6345\n",
      "developerAddress            5633\n",
      "privacyPolicy               6644\n",
      "developerInternalID         6825\n",
      "genre                       6825\n",
      "genreId                     6825\n",
      "icon                        6825\n",
      "headerImage                 6824\n",
      "screenshots                 6825\n",
      "video                       3325\n",
      "videoImage                  3325\n",
      "contentRating               6825\n",
      "contentRatingDescription    1495\n",
      "adSupported                 4090\n",
      "containsAds                 6825\n",
      "released                    6719\n",
      "updated                     6825\n",
      "version                     6825\n",
      "recentChanges               6186\n",
      "recentChangesHTML           6186\n",
      "comments                    6825\n",
      "appId                       6825\n",
      "url                         6825\n",
      "dtype: int64\n",
      "title                        object\n",
      "description                  object\n",
      "descriptionHTML              object\n",
      "summary                      object\n",
      "summaryHTML                  object\n",
      "installs                     object\n",
      "minInstalls                 float64\n",
      "score                       float64\n",
      "ratings                     float64\n",
      "reviews                     float64\n",
      "histogram                    object\n",
      "price                       float64\n",
      "currency                     object\n",
      "saleTime                    float64\n",
      "originalPrice               float64\n",
      "saleText                     object\n",
      "offersIAP                    object\n",
      "inAppProductPrice            object\n",
      "size                         object\n",
      "androidVersion               object\n",
      "androidVersionText           object\n",
      "developer                    object\n",
      "developerId                  object\n",
      "developerEmail               object\n",
      "developerWebsite             object\n",
      "developerAddress             object\n",
      "privacyPolicy                object\n",
      "developerInternalID          object\n",
      "genre                        object\n",
      "genreId                      object\n",
      "icon                         object\n",
      "headerImage                  object\n",
      "screenshots                  object\n",
      "video                        object\n",
      "videoImage                   object\n",
      "contentRating                object\n",
      "contentRatingDescription     object\n",
      "released                     object\n",
      "updated                     float64\n",
      "version                      object\n",
      "recentChanges                object\n",
      "recentChangesHTML            object\n",
      "comments                     object\n",
      "appId                        object\n",
      "url                          object\n",
      "released_datetime            object\n",
      "today_datetime               object\n",
      "days_since_released         float64\n",
      "free_False                  float64\n",
      "free_True                   float64\n",
      "sale_False                  float64\n",
      "sale_True                   float64\n",
      "adSupported_True            float64\n",
      "containsAds_False           float64\n",
      "containsAds_True            float64\n",
      "GAME                          int64\n",
      "UTILITIES                     int64\n",
      "SOCIAL_MEDIA_LEISURE          int64\n",
      "check_all_genre_covered       int64\n",
      "dtype: object\n"
     ]
    },
    {
     "data": {
      "text/plain": "array([1])"
     },
     "execution_count": 3,
     "metadata": {},
     "output_type": "execute_result"
    }
   ],
   "source": [
    "# transform the dataset to dataframe\n",
    "%run -i '2_functions_data_visualization.py'\n",
    "D = transform_dict_dataframe(C)\n",
    "D.check_all_genre_covered.unique()\n",
    "#F = D[D.check_all_genre_covered == 2]\n",
    "#F.genreId.unique()\n",
    "#F.count()"
   ],
   "metadata": {
    "collapsed": false,
    "pycharm": {
     "name": "#%%\n"
    }
   }
  },
  {
   "cell_type": "code",
   "execution_count": 5,
   "outputs": [
    {
     "name": "stderr",
     "output_type": "stream",
     "text": [
      "2_functions_data_visualization.py:53: UserWarning: FixedFormatter should only be used together with FixedLocator\n",
      "  ax1.set_yticklabels(ax1.get_xticks(), fontsize=5)\n",
      "2_functions_data_visualization.py:55: UserWarning: FixedFormatter should only be used together with FixedLocator\n",
      "  ax1.set_xticklabels(ax1.get_xticks(), fontsize=5)\n"
     ]
    },
    {
     "data": {
      "text/plain": "<Figure size 432x288 with 0 Axes>"
     },
     "metadata": {},
     "output_type": "display_data"
    },
    {
     "data": {
      "text/plain": "<Figure size 595.44x841.68 with 6 Axes>",
      "image/png": "[encoded data removed]"
     },
     "metadata": {
      "needs_background": "light"
     },
     "output_type": "display_data"
    }
   ],
   "source": [
    "# cross section data visualization (dataframe input data format)\n",
    "%run -i '2_functions_data_visualization.py'\n",
    "plot_dataframe(D, '202009_track_202002')"
   ],
   "metadata": {
    "collapsed": false,
    "pycharm": {
     "name": "#%%\n"
    }
   }
  },
  {
   "cell_type": "code",
   "execution_count": null,
   "outputs": [],
   "source": [
    "# panel data visualization (merge in data from other panel as new columns)\n",
    "# my interest is seeing the app min install growth curve\n",
    "# maybe see a turning point which the app started to grow drastically\n",
    "\n"
   ],
   "metadata": {
    "collapsed": false,
    "pycharm": {
     "name": "#%%\n"
    }
   }
  }
 ],
 "metadata": {
  "kernelspec": {
   "display_name": "Python 3",
   "language": "python",
   "name": "python3"
  },
  "language_info": {
   "codemirror_mode": {
    "name": "ipython",
    "version": 2
   },
   "file_extension": ".py",
   "mimetype": "text/x-python",
   "name": "python",
   "nbconvert_exporter": "python",
   "pygments_lexer": "ipython2",
   "version": "2.7.6"
  }
 },
 "nbformat": 4,
 "nbformat_minor": 0
}