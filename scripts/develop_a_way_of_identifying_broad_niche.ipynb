{
 "cells": [
  {
   "cell_type": "markdown",
   "metadata": {
    "collapsed": true,
    "pycharm": {
     "name": "#%% md\n"
    }
   },
   "source": [
    "Dec 20, 2020, Sunday, I have gotten pretty bad results from fuzzy-c-means. I thought calculate the variance of\n",
    "membership score would filter out the broad type apps and niche type apps. But eyeballing the results do not give me confidence:\n",
    "1. the variance is not a good measure for the concentration of the distribution of membership scores\n",
    "2. the number of clusters are wrong\n",
    "3. wrongly attached app-id ids to the membership score column\n",
    "\n",
    "\n",
    "\n"
   ]
  }
 ],
 "metadata": {
  "kernelspec": {
   "display_name": "Python 3",
   "language": "python",
   "name": "python3"
  },
  "language_info": {
   "codemirror_mode": {
    "name": "ipython",
    "version": 2
   },
   "file_extension": ".py",
   "mimetype": "text/x-python",
   "name": "python",
   "nbconvert_exporter": "python",
   "pygments_lexer": "ipython2",
   "version": "2.7.6"
  }
 },
 "nbformat": 4,
 "nbformat_minor": 0
}