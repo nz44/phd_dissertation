{
 "cells": [
  {
   "cell_type": "code",
   "execution_count": 1,
   "outputs": [],
   "source": [
    "# run python scripts containing all the functions\n",
    "%run -i '0_paths_open_save.py'\n",
    "%run -i '1_scraping_cleaning_merge.py'\n",
    "%run -i '2_summary_stats_visualization_new.py'"
   ],
   "metadata": {
    "collapsed": false,
    "pycharm": {
     "name": "#%%\n"
    }
   }
  },
  {
   "cell_type": "markdown",
   "source": [
    "# 1. check scraped data"
   ],
   "metadata": {
    "collapsed": false
   }
  },
  {
   "cell_type": "code",
   "execution_count": null,
   "outputs": [],
   "source": [
    "initial_panel = '201812'\n",
    "tracking_panels = ['201812', '201912', '202001', '202003', '202004', '202009', '202010',\n",
    "          '202011', '202012', '202101', '202102']\n",
    "\n",
    "o = open_files(initial_panel=initial_panel, all_panels=tracking_panels)\n",
    "app_details = o.open_initial_panel_with_its_tracking_panels()\n",
    "A = app_detail_dicts(app_details, all_panels=tracking_panels)\n",
    "A.get_a_glimpse()"
   ],
   "metadata": {
    "collapsed": false,
    "pycharm": {
     "name": "#%%\n"
    }
   }
  },
  {
   "cell_type": "markdown",
   "source": [
    "# 2. check converted data"
   ],
   "metadata": {
    "collapsed": false,
    "pycharm": {
     "name": "#%% md\n"
    }
   }
  },
  {
   "cell_type": "code",
   "execution_count": null,
   "outputs": [],
   "source": [
    "# test\n",
    "%run -i '1_scraping_cleaning_merge.py'\n",
    "initial_panel='201907'\n",
    "all_panels=['201907', '201908', '201909', '201912', '202001', '202003', '202004',\n",
    "          '202009', '202010', '202011', '202012', '202101', '202102']\n",
    "o = open_files(initial_panel=initial_panel,\n",
    "                   all_panels=all_panels)\n",
    "app_details = o.open_initial_panel_with_its_tracking_panels()\n",
    "A = app_detail_dicts(d=app_details, all_panels=all_panels)\n",
    "inter_df = A.format_cols()\n",
    "print(inter_df['201907'].columns)\n"
   ],
   "metadata": {
    "collapsed": false,
    "pycharm": {
     "name": "#%%\n"
    }
   }
  },
  {
   "cell_type": "markdown",
   "metadata": {
    "collapsed": true,
    "pycharm": {
     "name": "#%% md\n"
    }
   },
   "source": [
    "# 3. check whether the developer geocoding information is correct."
   ]
  },
  {
   "cell_type": "code",
   "execution_count": 76,
   "outputs": [
    {
     "name": "stdout",
     "output_type": "stream",
     "text": [
      "(6442, 55)\n"
     ]
    },
    {
     "data": {
      "text/plain": "                                                                developerAddress_201907  \\\ndeveloper                                                                                 \nMy Apps Studio               None                                                         \nPintogykas                   None                                                         \nInternational Dairy Queen®️  8331 Norman Center Drive\\nBloomington, MN  55437             \nSNOW, Inc.                   575 High Street,Suite 110 Palo Alto, CA 94301                \nSaucon IoT                   None                                                         \n...                                                                    ...                \nStraight Talk                None                                                         \nMaadinfo Services            2 allée des Ormeaux\\n06130 Grasse\\nFrance                    \nUsatine Media                8529 Raintree Woods Drive\\nFair Oaks Ranch, TX 78255         \nyouthhr                      None                                                         \nBadsnowball Limited          UNIT 408B, LIPPO SUN PLAZA, 28 CANTON ROAD, TSIM SHA TSUI,   \n\n                                                                                             location  \\\ndeveloper                                                                                               \nMy Apps Studio               None                                                                       \nPintogykas                   None                                                                       \nInternational Dairy Queen®️  (8331 Norman Center Drive, Minneapolis, MN 55437, (44.85294, -93.35164))   \nSNOW, Inc.                   (575 High Street, Palo Alto, CA 94301, (37.44357, -122.16224))             \nSaucon IoT                   None                                                                       \n...                                                                                     ...             \nStraight Talk                None                                                                       \nMaadinfo Services            (2 Allée des Ormeaux, Grasse, 06130, (43.6564, 6.91355))                   \nUsatine Media                (8529 Raintree Woods Drive, Boerne, TX 78015, (29.73904, -98.65005))       \nyouthhr                      None                                                                       \nBadsnowball Limited          (28 Canton Road, Yau Tsim Mong District, (22.29689, 114.16954))            \n\n                             longitude  latitude  \ndeveloper                                         \nMy Apps Studio              NaN        NaN        \nPintogykas                  NaN        NaN        \nInternational Dairy Queen®️ -93.35164   44.85294  \nSNOW, Inc.                  -122.16224  37.44357  \nSaucon IoT                  NaN        NaN        \n...                                ...       ...  \nStraight Talk               NaN        NaN        \nMaadinfo Services            6.91355    43.65640  \nUsatine Media               -98.65005   29.73904  \nyouthhr                     NaN        NaN        \nBadsnowball Limited          114.16954  22.29689  \n\n[100 rows x 4 columns]",
      "text/html": "<div>\n<style scoped>\n    .dataframe tbody tr th:only-of-type {\n        vertical-align: middle;\n    }\n\n    .dataframe tbody tr th {\n        vertical-align: top;\n    }\n\n    .dataframe thead th {\n        text-align: right;\n    }\n</style>\n<table border=\"1\" class=\"dataframe\">\n  <thead>\n    <tr style=\"text-align: right;\">\n      <th></th>\n      <th>developerAddress_201907</th>\n      <th>location</th>\n      <th>longitude</th>\n      <th>latitude</th>\n    </tr>\n    <tr>\n      <th>developer</th>\n      <th></th>\n      <th></th>\n      <th></th>\n      <th></th>\n    </tr>\n  </thead>\n  <tbody>\n    <tr>\n      <th>My Apps Studio</th>\n      <td>None</td>\n      <td>None</td>\n      <td>NaN</td>\n      <td>NaN</td>\n    </tr>\n    <tr>\n      <th>Pintogykas</th>\n      <td>None</td>\n      <td>None</td>\n      <td>NaN</td>\n      <td>NaN</td>\n    </tr>\n    <tr>\n      <th>International Dairy Queen®️</th>\n      <td>8331 Norman Center Drive\\nBloomington, MN  55437</td>\n      <td>(8331 Norman Center Drive, Minneapolis, MN 55437, (44.85294, -93.35164))</td>\n      <td>-93.35164</td>\n      <td>44.85294</td>\n    </tr>\n    <tr>\n      <th>SNOW, Inc.</th>\n      <td>575 High Street,Suite 110 Palo Alto, CA 94301</td>\n      <td>(575 High Street, Palo Alto, CA 94301, (37.44357, -122.16224))</td>\n      <td>-122.16224</td>\n      <td>37.44357</td>\n    </tr>\n    <tr>\n      <th>Saucon IoT</th>\n      <td>None</td>\n      <td>None</td>\n      <td>NaN</td>\n      <td>NaN</td>\n    </tr>\n    <tr>\n      <th>...</th>\n      <td>...</td>\n      <td>...</td>\n      <td>...</td>\n      <td>...</td>\n    </tr>\n    <tr>\n      <th>Straight Talk</th>\n      <td>None</td>\n      <td>None</td>\n      <td>NaN</td>\n      <td>NaN</td>\n    </tr>\n    <tr>\n      <th>Maadinfo Services</th>\n      <td>2 allée des Ormeaux\\n06130 Grasse\\nFrance</td>\n      <td>(2 Allée des Ormeaux, Grasse, 06130, (43.6564, 6.91355))</td>\n      <td>6.91355</td>\n      <td>43.65640</td>\n    </tr>\n    <tr>\n      <th>Usatine Media</th>\n      <td>8529 Raintree Woods Drive\\nFair Oaks Ranch, TX 78255</td>\n      <td>(8529 Raintree Woods Drive, Boerne, TX 78015, (29.73904, -98.65005))</td>\n      <td>-98.65005</td>\n      <td>29.73904</td>\n    </tr>\n    <tr>\n      <th>youthhr</th>\n      <td>None</td>\n      <td>None</td>\n      <td>NaN</td>\n      <td>NaN</td>\n    </tr>\n    <tr>\n      <th>Badsnowball Limited</th>\n      <td>UNIT 408B, LIPPO SUN PLAZA, 28 CANTON ROAD, TSIM SHA TSUI,</td>\n      <td>(28 Canton Road, Yau Tsim Mong District, (22.29689, 114.16954))</td>\n      <td>114.16954</td>\n      <td>22.29689</td>\n    </tr>\n  </tbody>\n</table>\n<p>100 rows × 4 columns</p>\n</div>"
     },
     "execution_count": 76,
     "metadata": {},
     "output_type": "execute_result"
    }
   ],
   "source": [
    "%run -i '0_paths_open_save.py'\n",
    "%run -i '1_scraping_cleaning_merge.py'\n",
    "%run -i '2_summary_stats_visualization_new.py'\n",
    "initial_panel='201907'\n",
    "o = open_files(initial_panel=initial_panel)\n",
    "DF = o.open_panel_df(type='dev_index_geocoded')\n",
    "all_panels = ['201907',\n",
    "              '201908',\n",
    "              '201909',\n",
    "              '201912',\n",
    "              '202001',\n",
    "              '202003',\n",
    "              '202004',\n",
    "              '202009',\n",
    "              '202010',\n",
    "              '202011',\n",
    "              '202012',\n",
    "              '202101',\n",
    "              '202102']\n",
    "consec_panels = ['202009', '202010', '202011', '202012', '202101', '202102']\n",
    "new_class_obj = pre_processing(\n",
    "                  df=DF,\n",
    "                  df_index = 'dev_index_geocoded',\n",
    "                  initial_panel=initial_panel,\n",
    "                  all_panels=all_panels,\n",
    "                  consec_panels=consec_panels)\n",
    "print(new_class_obj.df.shape)\n",
    "DF2 = new_class_obj.df[['developerAddress_201907', 'location', 'longitude', 'latitude']]\n",
    "testdf1 = DF2.sample(100)\n",
    "testdf1"
   ],
   "metadata": {
    "collapsed": false,
    "pycharm": {
     "name": "#%%\n"
    }
   }
  },
  {
   "cell_type": "markdown",
   "source": [
    "# 4. check whether the multiindex conversion is correct"
   ],
   "metadata": {
    "collapsed": false,
    "pycharm": {
     "name": "#%% md\n"
    }
   }
  },
  {
   "cell_type": "code",
   "execution_count": null,
   "outputs": [],
   "source": [
    "# test file\n",
    "%run -i '0_paths_open_save.py'\n",
    "%run -i '1_scraping_cleaning_merge.py'\n",
    "%run -i '2_summary_stats_visualization_new.py'\n",
    "\n",
    "o = open_files(initial_panel='201812')\n",
    "DF = o.open_panel_df(type='dev_multiindex_geocoded')\n",
    "all_panels = ['201812',\n",
    "              '201912',\n",
    "              '202001',\n",
    "              '202003',\n",
    "              '202004',\n",
    "              '202009',\n",
    "              '202010',\n",
    "              '202011',\n",
    "              '202012',\n",
    "              '202101',\n",
    "              '202102']\n",
    "consec_panels = ['202009', '202010', '202011', '202012', '202101', '202102']\n",
    "new_class_obj = pre_processing(\n",
    "                  df=testdf1,\n",
    "                  df_index = 'dev_multiindex_geocoded',\n",
    "                  initial_panel='201812',\n",
    "                  all_panels=all_panels,\n",
    "                  consec_panels=consec_panels)\n",
    "new_class_obj.print_col_names(text='appId')"
   ],
   "metadata": {
    "collapsed": false,
    "pycharm": {
     "name": "#%%\n"
    }
   }
  },
  {
   "cell_type": "markdown",
   "source": [
    "# 5. test code for deleting missing, imputing missing and deleting outliers"
   ],
   "metadata": {
    "collapsed": false,
    "pycharm": {
     "name": "#%% md\n"
    }
   }
  },
  {
   "cell_type": "code",
   "execution_count": 177,
   "outputs": [
    {
     "name": "stdout",
     "output_type": "stream",
     "text": [
      "(10576, 396)\n"
     ]
    }
   ],
   "source": [
    "# test file\n",
    "%run -i '0_paths_open_save.py'\n",
    "%run -i '1_scraping_cleaning_merge.py'\n",
    "%run -i '2_summary_stats_visualization_new.py'\n",
    "initial_panel='201907'\n",
    "o = open_files(initial_panel=initial_panel)\n",
    "DF = o.open_panel_df(type='MERGED')\n",
    "all_panels = ['201907',\n",
    "              '201908',\n",
    "              '201909',\n",
    "              '201912',\n",
    "              '202001',\n",
    "              '202003',\n",
    "              '202004',\n",
    "              '202009',\n",
    "              '202010',\n",
    "              '202011',\n",
    "              '202012',\n",
    "              '202101',\n",
    "              '202102']\n",
    "consec_panels = ['202009', '202010', '202011', '202012', '202101', '202102']\n",
    "new_class_obj = pre_processing(\n",
    "                  df=DF,\n",
    "                  df_index = 'appid',\n",
    "                  initial_panel=initial_panel,\n",
    "                  all_panels=all_panels,\n",
    "                  consec_panels=consec_panels)\n",
    "print(new_class_obj.df.shape)"
   ],
   "metadata": {
    "collapsed": false,
    "pycharm": {
     "name": "#%%\n"
    }
   }
  },
  {
   "cell_type": "code",
   "execution_count": 5,
   "outputs": [
    {
     "name": "stdout",
     "output_type": "stream",
     "text": [
      "title_201907\n",
      "description_201907\n",
      "summary_201907\n",
      "minInstalls_201907\n",
      "score_201907\n",
      "ratings_201907\n",
      "reviews_201907\n",
      "histogram_201907\n",
      "price_201907\n",
      "currency_201907\n",
      "size_201907\n",
      "developer_201907\n",
      "released_201907\n",
      "updated_201907\n",
      "comments_201907\n",
      "developerId_201907\n",
      "developerWebsite_201907\n",
      "developerEmail_201907\n",
      "developerAddress_201907\n",
      "appId_201907\n",
      "adSupported_True_201907\n",
      "containsAds_True_201907\n",
      "free_True_201907\n",
      "offersIAP_True_201907\n",
      "contentRating_Adult_201907\n",
      "contentRating_Everyone_201907\n",
      "contentRating_Teen_201907\n",
      "genreId_Entertainment_201907\n",
      "genreId_Game_201907\n",
      "genreId_Productivity_201907\n",
      "title_201908\n",
      "description_201908\n",
      "summary_201908\n",
      "minInstalls_201908\n",
      "score_201908\n",
      "ratings_201908\n",
      "reviews_201908\n",
      "histogram_201908\n",
      "price_201908\n",
      "currency_201908\n",
      "size_201908\n",
      "developer_201908\n",
      "released_201908\n",
      "updated_201908\n",
      "comments_201908\n",
      "developerId_201908\n",
      "developerWebsite_201908\n",
      "developerEmail_201908\n",
      "developerAddress_201908\n",
      "appId_201908\n",
      "adSupported_True_201908\n",
      "containsAds_True_201908\n",
      "free_True_201908\n",
      "offersIAP_True_201908\n",
      "contentRating_Adult_201908\n",
      "contentRating_Everyone_201908\n",
      "contentRating_Teen_201908\n",
      "genreId_Entertainment_201908\n",
      "genreId_Game_201908\n",
      "genreId_Productivity_201908\n",
      "title_201909\n",
      "description_201909\n",
      "summary_201909\n",
      "minInstalls_201909\n",
      "score_201909\n",
      "ratings_201909\n",
      "reviews_201909\n",
      "histogram_201909\n",
      "price_201909\n",
      "currency_201909\n",
      "size_201909\n",
      "developer_201909\n",
      "released_201909\n",
      "updated_201909\n",
      "comments_201909\n",
      "developerId_201909\n",
      "developerWebsite_201909\n",
      "developerEmail_201909\n",
      "developerAddress_201909\n",
      "appId_201909\n",
      "adSupported_True_201909\n",
      "containsAds_True_201909\n",
      "free_True_201909\n",
      "offersIAP_True_201909\n",
      "contentRating_Adult_201909\n",
      "contentRating_Everyone_201909\n",
      "contentRating_Teen_201909\n",
      "genreId_Entertainment_201909\n",
      "genreId_Game_201909\n",
      "genreId_Productivity_201909\n",
      "title_201912\n",
      "description_201912\n",
      "summary_201912\n",
      "minInstalls_201912\n",
      "score_201912\n",
      "ratings_201912\n",
      "reviews_201912\n",
      "histogram_201912\n",
      "price_201912\n",
      "currency_201912\n",
      "size_201912\n",
      "developer_201912\n",
      "released_201912\n",
      "updated_201912\n",
      "comments_201912\n",
      "developerId_201912\n",
      "developerWebsite_201912\n",
      "developerEmail_201912\n",
      "developerAddress_201912\n",
      "appId_201912\n",
      "adSupported_True_201912\n",
      "containsAds_True_201912\n",
      "free_True_201912\n",
      "offersIAP_True_201912\n",
      "contentRating_Adult_201912\n",
      "contentRating_Everyone_201912\n",
      "contentRating_Teen_201912\n",
      "genreId_Entertainment_201912\n",
      "genreId_Game_201912\n",
      "genreId_Productivity_201912\n",
      "title_202001\n",
      "description_202001\n",
      "summary_202001\n",
      "minInstalls_202001\n",
      "score_202001\n",
      "ratings_202001\n",
      "reviews_202001\n",
      "histogram_202001\n",
      "price_202001\n",
      "currency_202001\n",
      "size_202001\n",
      "developer_202001\n",
      "released_202001\n",
      "updated_202001\n",
      "comments_202001\n",
      "developerId_202001\n",
      "developerWebsite_202001\n",
      "developerEmail_202001\n",
      "developerAddress_202001\n",
      "appId_202001\n",
      "adSupported_True_202001\n",
      "containsAds_True_202001\n",
      "free_True_202001\n",
      "offersIAP_True_202001\n",
      "contentRating_Adult_202001\n",
      "contentRating_Everyone_202001\n",
      "contentRating_Teen_202001\n",
      "genreId_Entertainment_202001\n",
      "genreId_Game_202001\n",
      "genreId_Productivity_202001\n",
      "title_202003\n",
      "description_202003\n",
      "summary_202003\n",
      "minInstalls_202003\n",
      "score_202003\n",
      "ratings_202003\n",
      "reviews_202003\n",
      "histogram_202003\n",
      "price_202003\n",
      "currency_202003\n",
      "size_202003\n",
      "developer_202003\n",
      "released_202003\n",
      "updated_202003\n",
      "comments_202003\n",
      "developerId_202003\n",
      "developerWebsite_202003\n",
      "developerEmail_202003\n",
      "developerAddress_202003\n",
      "appId_202003\n",
      "adSupported_True_202003\n",
      "containsAds_True_202003\n",
      "free_True_202003\n",
      "offersIAP_True_202003\n",
      "contentRating_Adult_202003\n",
      "contentRating_Everyone_202003\n",
      "contentRating_Teen_202003\n",
      "genreId_Entertainment_202003\n",
      "genreId_Game_202003\n",
      "genreId_Productivity_202003\n",
      "title_202004\n",
      "description_202004\n",
      "summary_202004\n",
      "minInstalls_202004\n",
      "score_202004\n",
      "ratings_202004\n",
      "reviews_202004\n",
      "histogram_202004\n",
      "price_202004\n",
      "currency_202004\n",
      "size_202004\n",
      "developer_202004\n",
      "released_202004\n",
      "updated_202004\n",
      "comments_202004\n",
      "developerId_202004\n",
      "developerWebsite_202004\n",
      "developerEmail_202004\n",
      "developerAddress_202004\n",
      "appId_202004\n",
      "adSupported_True_202004\n",
      "containsAds_True_202004\n",
      "free_True_202004\n",
      "offersIAP_True_202004\n",
      "contentRating_Adult_202004\n",
      "contentRating_Everyone_202004\n",
      "contentRating_Teen_202004\n",
      "genreId_Entertainment_202004\n",
      "genreId_Game_202004\n",
      "genreId_Productivity_202004\n",
      "title_202009\n",
      "description_202009\n",
      "summary_202009\n",
      "minInstalls_202009\n",
      "score_202009\n",
      "ratings_202009\n",
      "reviews_202009\n",
      "histogram_202009\n",
      "price_202009\n",
      "currency_202009\n",
      "inAppProductPrice_202009\n",
      "size_202009\n",
      "developer_202009\n",
      "developerId_202009\n",
      "developerEmail_202009\n",
      "developerWebsite_202009\n",
      "developerAddress_202009\n",
      "released_202009\n",
      "updated_202009\n",
      "comments_202009\n",
      "appId_202009\n",
      "adSupported_True_202009\n",
      "containsAds_True_202009\n",
      "free_True_202009\n",
      "offersIAP_True_202009\n",
      "contentRating_Adult_202009\n",
      "contentRating_Everyone_202009\n",
      "contentRating_Teen_202009\n",
      "genreId_Entertainment_202009\n",
      "genreId_Game_202009\n",
      "genreId_Productivity_202009\n",
      "title_202010\n",
      "description_202010\n",
      "summary_202010\n",
      "minInstalls_202010\n",
      "score_202010\n",
      "ratings_202010\n",
      "reviews_202010\n",
      "histogram_202010\n",
      "price_202010\n",
      "currency_202010\n",
      "inAppProductPrice_202010\n",
      "size_202010\n",
      "developer_202010\n",
      "developerId_202010\n",
      "developerEmail_202010\n",
      "developerWebsite_202010\n",
      "developerAddress_202010\n",
      "released_202010\n",
      "updated_202010\n",
      "comments_202010\n",
      "appId_202010\n",
      "adSupported_True_202010\n",
      "containsAds_True_202010\n",
      "free_True_202010\n",
      "offersIAP_True_202010\n",
      "contentRating_Adult_202010\n",
      "contentRating_Everyone_202010\n",
      "contentRating_Teen_202010\n",
      "genreId_Entertainment_202010\n",
      "genreId_Game_202010\n",
      "genreId_Productivity_202010\n",
      "title_202011\n",
      "description_202011\n",
      "summary_202011\n",
      "minInstalls_202011\n",
      "score_202011\n",
      "ratings_202011\n",
      "reviews_202011\n",
      "histogram_202011\n",
      "price_202011\n",
      "currency_202011\n",
      "inAppProductPrice_202011\n",
      "size_202011\n",
      "developer_202011\n",
      "developerId_202011\n",
      "developerEmail_202011\n",
      "developerWebsite_202011\n",
      "developerAddress_202011\n",
      "released_202011\n",
      "updated_202011\n",
      "comments_202011\n",
      "appId_202011\n",
      "adSupported_True_202011\n",
      "containsAds_True_202011\n",
      "free_True_202011\n",
      "offersIAP_True_202011\n",
      "contentRating_Adult_202011\n",
      "contentRating_Everyone_202011\n",
      "contentRating_Teen_202011\n",
      "genreId_Entertainment_202011\n",
      "genreId_Game_202011\n",
      "genreId_Productivity_202011\n",
      "title_202012\n",
      "description_202012\n",
      "summary_202012\n",
      "minInstalls_202012\n",
      "score_202012\n",
      "ratings_202012\n",
      "reviews_202012\n",
      "histogram_202012\n",
      "price_202012\n",
      "currency_202012\n",
      "inAppProductPrice_202012\n",
      "size_202012\n",
      "developer_202012\n",
      "developerId_202012\n",
      "developerEmail_202012\n",
      "developerWebsite_202012\n",
      "developerAddress_202012\n",
      "released_202012\n",
      "updated_202012\n",
      "comments_202012\n",
      "appId_202012\n",
      "adSupported_True_202012\n",
      "containsAds_True_202012\n",
      "free_True_202012\n",
      "offersIAP_True_202012\n",
      "contentRating_Adult_202012\n",
      "contentRating_Everyone_202012\n",
      "contentRating_Teen_202012\n",
      "genreId_Entertainment_202012\n",
      "genreId_Game_202012\n",
      "genreId_Productivity_202012\n",
      "title_202101\n",
      "description_202101\n",
      "summary_202101\n",
      "minInstalls_202101\n",
      "score_202101\n",
      "ratings_202101\n",
      "reviews_202101\n",
      "histogram_202101\n",
      "price_202101\n",
      "currency_202101\n",
      "inAppProductPrice_202101\n",
      "size_202101\n",
      "developer_202101\n",
      "developerId_202101\n",
      "developerEmail_202101\n",
      "developerWebsite_202101\n",
      "developerAddress_202101\n",
      "released_202101\n",
      "updated_202101\n",
      "comments_202101\n",
      "appId_202101\n",
      "adSupported_True_202101\n",
      "containsAds_True_202101\n",
      "free_True_202101\n",
      "offersIAP_True_202101\n",
      "contentRating_Adult_202101\n",
      "contentRating_Everyone_202101\n",
      "contentRating_Teen_202101\n",
      "genreId_Entertainment_202101\n",
      "genreId_Game_202101\n",
      "genreId_Productivity_202101\n",
      "title_202102\n",
      "description_202102\n",
      "summary_202102\n",
      "minInstalls_202102\n",
      "score_202102\n",
      "ratings_202102\n",
      "reviews_202102\n",
      "histogram_202102\n",
      "price_202102\n",
      "currency_202102\n",
      "inAppProductPrice_202102\n",
      "size_202102\n",
      "developer_202102\n",
      "developerId_202102\n",
      "developerEmail_202102\n",
      "developerWebsite_202102\n",
      "developerAddress_202102\n",
      "released_202102\n",
      "updated_202102\n",
      "comments_202102\n",
      "appId_202102\n",
      "adSupported_True_202102\n",
      "containsAds_True_202102\n",
      "free_True_202102\n",
      "offersIAP_True_202102\n",
      "contentRating_Adult_202102\n",
      "contentRating_Everyone_202102\n",
      "contentRating_Teen_202102\n",
      "genreId_Entertainment_202102\n",
      "genreId_Game_202102\n",
      "genreId_Productivity_202102\n"
     ]
    },
    {
     "data": {
      "text/plain": "Index(['title_201907', 'description_201907', 'summary_201907',\n       'minInstalls_201907', 'score_201907', 'ratings_201907',\n       'reviews_201907', 'histogram_201907', 'price_201907', 'currency_201907',\n       ...\n       'adSupported_True_202102', 'containsAds_True_202102',\n       'free_True_202102', 'offersIAP_True_202102',\n       'contentRating_Adult_202102', 'contentRating_Everyone_202102',\n       'contentRating_Teen_202102', 'genreId_Entertainment_202102',\n       'genreId_Game_202102', 'genreId_Productivity_202102'],\n      dtype='object', length=396)"
     },
     "execution_count": 5,
     "metadata": {},
     "output_type": "execute_result"
    }
   ],
   "source": [
    "new_class_obj.print_col_names()"
   ],
   "metadata": {
    "collapsed": false,
    "pycharm": {
     "name": "#%%\n"
    }
   }
  },
  {
   "cell_type": "code",
   "execution_count": 174,
   "outputs": [
    {
     "name": "stdout",
     "output_type": "stream",
     "text": [
      "                               count missing\n",
      "minInstalls_201907             25           \n",
      "minInstalls_201908             25           \n",
      "minInstalls_201909             25           \n",
      "minInstalls_201912             25           \n",
      "minInstalls_202001             25           \n",
      "minInstalls_202003             25           \n",
      "minInstalls_202004             25           \n",
      "minInstalls_202009             50           \n",
      "minInstalls_202010             113          \n",
      "minInstalls_202011             167          \n",
      "minInstalls_202012             287          \n",
      "minInstalls_202101             336          \n",
      "minInstalls_202102             396          \n",
      "score_201907                   8            \n",
      "score_201908                   8            \n",
      "score_201909                   8            \n",
      "score_201912                   8            \n",
      "score_202001                   8            \n",
      "score_202003                   8            \n",
      "score_202004                   8            \n",
      "score_202009                   54           \n",
      "score_202010                   116          \n",
      "score_202011                   170          \n",
      "score_202012                   290          \n",
      "score_202101                   339          \n",
      "score_202102                   399          \n",
      "reviews_201907                 6            \n",
      "reviews_201908                 6            \n",
      "reviews_201909                 6            \n",
      "reviews_201912                 6            \n",
      "reviews_202001                 6            \n",
      "reviews_202003                 6            \n",
      "reviews_202004                 6            \n",
      "reviews_202009                 54           \n",
      "reviews_202010                 116          \n",
      "reviews_202011                 170          \n",
      "reviews_202012                 290          \n",
      "reviews_202101                 339          \n",
      "reviews_202102                 399          \n",
      "ratings_201907                 28           \n",
      "ratings_201908                 28           \n",
      "ratings_201909                 28           \n",
      "ratings_201912                 28           \n",
      "ratings_202001                 28           \n",
      "ratings_202003                 28           \n",
      "ratings_202004                 28           \n",
      "ratings_202009                 385          \n",
      "ratings_202010                 432          \n",
      "ratings_202011                 479          \n",
      "ratings_202012                 584          \n",
      "ratings_202101                 621          \n",
      "ratings_202102                 673          \n",
      "price_201907                   3            \n",
      "price_201908                   3            \n",
      "price_201909                   3            \n",
      "price_201912                   3            \n",
      "price_202001                   3            \n",
      "price_202003                   3            \n",
      "price_202004                   3            \n",
      "price_202009                   50           \n",
      "price_202010                   113          \n",
      "price_202011                   167          \n",
      "price_202012                   287          \n",
      "price_202101                   336          \n",
      "price_202102                   396          \n",
      "description_201907             8            \n",
      "description_201908             8            \n",
      "description_201909             8            \n",
      "description_201912             8            \n",
      "description_202001             8            \n",
      "description_202003             8            \n",
      "description_202004             8            \n",
      "description_202009             50           \n",
      "description_202010             113          \n",
      "description_202011             167          \n",
      "description_202012             287          \n",
      "description_202101             336          \n",
      "description_202102             396          \n",
      "released_201907                140          \n",
      "released_201908                140          \n",
      "released_201909                140          \n",
      "released_201912                140          \n",
      "released_202001                140          \n",
      "released_202003                140          \n",
      "released_202004                140          \n",
      "released_202009                165          \n",
      "released_202010                226          \n",
      "released_202011                281          \n",
      "released_202012                401          \n",
      "released_202101                449          \n",
      "released_202102                509          \n",
      "updated_201907                 3            \n",
      "updated_201908                 3            \n",
      "updated_201909                 3            \n",
      "updated_201912                 3            \n",
      "updated_202001                 3            \n",
      "updated_202003                 3            \n",
      "updated_202004                 3            \n",
      "updated_202009                 50           \n",
      "updated_202010                 113          \n",
      "updated_202011                 167          \n",
      "updated_202012                 287          \n",
      "updated_202101                 336          \n",
      "updated_202102                 396          \n",
      "size_201907                    1670         \n",
      "size_201908                    1670         \n",
      "size_201909                    1670         \n",
      "size_201912                    1670         \n",
      "size_202001                    1670         \n",
      "size_202003                    1670         \n",
      "size_202004                    1670         \n",
      "size_202009                    1738         \n",
      "size_202010                    1797         \n",
      "size_202011                    1831         \n",
      "size_202012                    1936         \n",
      "size_202101                    1966         \n",
      "size_202102                    2000         \n",
      "free_True_201907               0            \n",
      "free_True_201908               0            \n",
      "free_True_201909               0            \n",
      "free_True_201912               0            \n",
      "free_True_202001               0            \n",
      "free_True_202003               0            \n",
      "free_True_202004               0            \n",
      "free_True_202009               0            \n",
      "free_True_202010               0            \n",
      "free_True_202011               0            \n",
      "free_True_202012               0            \n",
      "free_True_202101               0            \n",
      "free_True_202102               0            \n",
      "adSupported_True_201907        0            \n",
      "adSupported_True_201908        0            \n",
      "adSupported_True_201909        0            \n",
      "adSupported_True_201912        0            \n",
      "adSupported_True_202001        0            \n",
      "adSupported_True_202003        0            \n",
      "adSupported_True_202004        0            \n",
      "adSupported_True_202009        0            \n",
      "adSupported_True_202010        0            \n",
      "adSupported_True_202011        0            \n",
      "adSupported_True_202012        0            \n",
      "adSupported_True_202101        0            \n",
      "adSupported_True_202102        0            \n",
      "containsAds_True_201907        0            \n",
      "containsAds_True_201908        0            \n",
      "containsAds_True_201909        0            \n",
      "containsAds_True_201912        0            \n",
      "containsAds_True_202001        0            \n",
      "containsAds_True_202003        0            \n",
      "containsAds_True_202004        0            \n",
      "containsAds_True_202009        0            \n",
      "containsAds_True_202010        0            \n",
      "containsAds_True_202011        0            \n",
      "containsAds_True_202012        0            \n",
      "containsAds_True_202101        0            \n",
      "containsAds_True_202102        0            \n",
      "offersIAP_True_201907          0            \n",
      "offersIAP_True_201908          0            \n",
      "offersIAP_True_201909          0            \n",
      "offersIAP_True_201912          0            \n",
      "offersIAP_True_202001          0            \n",
      "offersIAP_True_202003          0            \n",
      "offersIAP_True_202004          0            \n",
      "offersIAP_True_202009          0            \n",
      "offersIAP_True_202010          0            \n",
      "offersIAP_True_202011          0            \n",
      "offersIAP_True_202012          0            \n",
      "offersIAP_True_202101          0            \n",
      "offersIAP_True_202102          0            \n",
      "contentRating_Adult_201907     0            \n",
      "contentRating_Adult_201908     0            \n",
      "contentRating_Adult_201909     0            \n",
      "contentRating_Adult_201912     0            \n",
      "contentRating_Adult_202001     0            \n",
      "contentRating_Adult_202003     0            \n",
      "contentRating_Adult_202004     0            \n",
      "contentRating_Adult_202009     0            \n",
      "contentRating_Adult_202010     0            \n",
      "contentRating_Adult_202011     0            \n",
      "contentRating_Adult_202012     0            \n",
      "contentRating_Adult_202101     0            \n",
      "contentRating_Adult_202102     0            \n",
      "contentRating_Everyone_201907  0            \n",
      "contentRating_Everyone_201908  0            \n",
      "contentRating_Everyone_201909  0            \n",
      "contentRating_Everyone_201912  0            \n",
      "contentRating_Everyone_202001  0            \n",
      "contentRating_Everyone_202003  0            \n",
      "contentRating_Everyone_202004  0            \n",
      "contentRating_Everyone_202009  0            \n",
      "contentRating_Everyone_202010  0            \n",
      "contentRating_Everyone_202011  0            \n",
      "contentRating_Everyone_202012  0            \n",
      "contentRating_Everyone_202101  0            \n",
      "contentRating_Everyone_202102  0            \n",
      "contentRating_Teen_201907      0            \n",
      "contentRating_Teen_201908      0            \n",
      "contentRating_Teen_201909      0            \n",
      "contentRating_Teen_201912      0            \n",
      "contentRating_Teen_202001      0            \n",
      "contentRating_Teen_202003      0            \n",
      "contentRating_Teen_202004      0            \n",
      "contentRating_Teen_202009      0            \n",
      "contentRating_Teen_202010      0            \n",
      "contentRating_Teen_202011      0            \n",
      "contentRating_Teen_202012      0            \n",
      "contentRating_Teen_202101      0            \n",
      "contentRating_Teen_202102      0            \n",
      "genreId_Entertainment_201907   0            \n",
      "genreId_Entertainment_201908   0            \n",
      "genreId_Entertainment_201909   0            \n",
      "genreId_Entertainment_201912   0            \n",
      "genreId_Entertainment_202001   0            \n",
      "genreId_Entertainment_202003   0            \n",
      "genreId_Entertainment_202004   0            \n",
      "genreId_Entertainment_202009   0            \n",
      "genreId_Entertainment_202010   0            \n",
      "genreId_Entertainment_202011   0            \n",
      "genreId_Entertainment_202012   0            \n",
      "genreId_Entertainment_202101   0            \n",
      "genreId_Entertainment_202102   0            \n",
      "genreId_Game_201907            0            \n",
      "genreId_Game_201908            0            \n",
      "genreId_Game_201909            0            \n",
      "genreId_Game_201912            0            \n",
      "genreId_Game_202001            0            \n",
      "genreId_Game_202003            0            \n",
      "genreId_Game_202004            0            \n",
      "genreId_Game_202009            0            \n",
      "genreId_Game_202010            0            \n",
      "genreId_Game_202011            0            \n",
      "genreId_Game_202012            0            \n",
      "genreId_Game_202101            0            \n",
      "genreId_Game_202102            0            \n",
      "genreId_Productivity_201907    0            \n",
      "genreId_Productivity_201908    0            \n",
      "genreId_Productivity_201909    0            \n",
      "genreId_Productivity_201912    0            \n",
      "genreId_Productivity_202001    0            \n",
      "genreId_Productivity_202003    0            \n",
      "genreId_Productivity_202004    0            \n",
      "genreId_Productivity_202009    0            \n",
      "genreId_Productivity_202010    0            \n",
      "genreId_Productivity_202011    0            \n",
      "genreId_Productivity_202012    0            \n",
      "genreId_Productivity_202101    0            \n",
      "genreId_Productivity_202102    0            \n"
     ]
    }
   ],
   "source": [
    "missingdf = new_class_obj.count_missing(var_list=['minInstalls', 'score', 'reviews',\n",
    "                                                  'ratings', 'price', 'description',\n",
    "                                                  'released', 'updated', 'size', 'free_True', 'adSupported_True',\n",
    "                                                  'containsAds_True', 'offersIAP_True', 'contentRating_Adult',\n",
    "                                                  'contentRating_Everyone', 'contentRating_Teen',\n",
    "                                                  'genreId_Entertainment', 'genreId_Game',\n",
    "                                                  'genreId_Productivity'])\n",
    "print(missingdf)"
   ],
   "metadata": {
    "collapsed": false,
    "pycharm": {
     "name": "#%%\n"
    }
   }
  },
  {
   "cell_type": "code",
   "execution_count": 179,
   "outputs": [
    {
     "name": "stdout",
     "output_type": "stream",
     "text": [
      "number of apps with at least 6 consecutive missing panels for size are 1849\n",
      "out of 10576 apps.\n",
      "(13, 1849)\n"
     ]
    }
   ],
   "source": [
    "missing_df, missing_appids = new_class_obj.check_apps_with_consecutive_missing_panels(\n",
    "    var='size',\n",
    "    number_consec_panels_missing=6)\n",
    "print(missing_df.shape)"
   ],
   "metadata": {
    "collapsed": false,
    "pycharm": {
     "name": "#%%\n"
    }
   }
  },
  {
   "cell_type": "code",
   "execution_count": 175,
   "outputs": [
    {
     "data": {
      "text/plain": "                                size_201907  size_201908  size_201909  \\\ncom.redberry.glitterlips        33.0         33.0         33.0          \nzonek.design.paintbynumbers     58.0         58.0         58.0          \ncom.piupiuapps.hairstylesgirls  16.0         16.0         16.0          \n\n                                size_201912  size_202001  size_202003  \\\ncom.redberry.glitterlips        33.0         33.0         33.0          \nzonek.design.paintbynumbers     58.0         58.0         58.0          \ncom.piupiuapps.hairstylesgirls  16.0         16.0         16.0          \n\n                                size_202004  size_202009  size_202010  \\\ncom.redberry.glitterlips        33.0         33.0         33.0          \nzonek.design.paintbynumbers     58.0         58.0         58.0          \ncom.piupiuapps.hairstylesgirls  16.0         15.0        NaN            \n\n                                size_202011  size_202012  size_202101  \\\ncom.redberry.glitterlips        33.0         34.0        NaN            \nzonek.design.paintbynumbers     58.0        NaN          NaN            \ncom.piupiuapps.hairstylesgirls NaN          NaN          NaN            \n\n                                size_202102  \ncom.redberry.glitterlips        34.0         \nzonek.design.paintbynumbers    NaN           \ncom.piupiuapps.hairstylesgirls NaN           ",
      "text/html": "<div>\n<style scoped>\n    .dataframe tbody tr th:only-of-type {\n        vertical-align: middle;\n    }\n\n    .dataframe tbody tr th {\n        vertical-align: top;\n    }\n\n    .dataframe thead th {\n        text-align: right;\n    }\n</style>\n<table border=\"1\" class=\"dataframe\">\n  <thead>\n    <tr style=\"text-align: right;\">\n      <th></th>\n      <th>size_201907</th>\n      <th>size_201908</th>\n      <th>size_201909</th>\n      <th>size_201912</th>\n      <th>size_202001</th>\n      <th>size_202003</th>\n      <th>size_202004</th>\n      <th>size_202009</th>\n      <th>size_202010</th>\n      <th>size_202011</th>\n      <th>size_202012</th>\n      <th>size_202101</th>\n      <th>size_202102</th>\n    </tr>\n  </thead>\n  <tbody>\n    <tr>\n      <th>com.redberry.glitterlips</th>\n      <td>33.0</td>\n      <td>33.0</td>\n      <td>33.0</td>\n      <td>33.0</td>\n      <td>33.0</td>\n      <td>33.0</td>\n      <td>33.0</td>\n      <td>33.0</td>\n      <td>33.0</td>\n      <td>33.0</td>\n      <td>34.0</td>\n      <td>NaN</td>\n      <td>34.0</td>\n    </tr>\n    <tr>\n      <th>zonek.design.paintbynumbers</th>\n      <td>58.0</td>\n      <td>58.0</td>\n      <td>58.0</td>\n      <td>58.0</td>\n      <td>58.0</td>\n      <td>58.0</td>\n      <td>58.0</td>\n      <td>58.0</td>\n      <td>58.0</td>\n      <td>58.0</td>\n      <td>NaN</td>\n      <td>NaN</td>\n      <td>NaN</td>\n    </tr>\n    <tr>\n      <th>com.piupiuapps.hairstylesgirls</th>\n      <td>16.0</td>\n      <td>16.0</td>\n      <td>16.0</td>\n      <td>16.0</td>\n      <td>16.0</td>\n      <td>16.0</td>\n      <td>16.0</td>\n      <td>15.0</td>\n      <td>NaN</td>\n      <td>NaN</td>\n      <td>NaN</td>\n      <td>NaN</td>\n      <td>NaN</td>\n    </tr>\n  </tbody>\n</table>\n</div>"
     },
     "execution_count": 175,
     "metadata": {},
     "output_type": "execute_result"
    }
   ],
   "source": [
    "# reproduce the method impute_missing_using_adj_panels\n",
    "cols = []\n",
    "for i in new_class_obj.df.columns:\n",
    "    if 'size_' in i:\n",
    "        cols.append(i)\n",
    "test_df = new_class_obj.df[cols]\n",
    "test_df = test_df.loc[['com.redberry.glitterlips',\n",
    "         'zonek.design.paintbynumbers',\n",
    "         'com.piupiuapps.hairstylesgirls']]\n",
    "test_df"
   ],
   "metadata": {
    "collapsed": false,
    "pycharm": {
     "name": "#%%\n"
    }
   }
  },
  {
   "cell_type": "code",
   "execution_count": 176,
   "outputs": [
    {
     "data": {
      "text/plain": "                                size_201907  size_201908  size_201909  \\\ncom.redberry.glitterlips        33.0         33.0         33.0          \nzonek.design.paintbynumbers     58.0         58.0         58.0          \ncom.piupiuapps.hairstylesgirls  16.0         16.0         16.0          \n\n                                size_201912  size_202001  size_202003  \\\ncom.redberry.glitterlips        33.0         33.0         33.0          \nzonek.design.paintbynumbers     58.0         58.0         58.0          \ncom.piupiuapps.hairstylesgirls  16.0         16.0         16.0          \n\n                                size_202004  size_202009  size_202010  \\\ncom.redberry.glitterlips        33.0         33.0         33.000000     \nzonek.design.paintbynumbers     58.0         58.0         58.000000     \ncom.piupiuapps.hairstylesgirls  16.0         15.0         15.666667     \n\n                                size_202011  size_202012  size_202101  \\\ncom.redberry.glitterlips        33.000000    34.000000    33.285714     \nzonek.design.paintbynumbers     58.000000    58.000000    58.000000     \ncom.piupiuapps.hairstylesgirls  15.666667    15.666667    15.666667     \n\n                                size_202102  \ncom.redberry.glitterlips        34.000000    \nzonek.design.paintbynumbers     58.000000    \ncom.piupiuapps.hairstylesgirls  15.666667    ",
      "text/html": "<div>\n<style scoped>\n    .dataframe tbody tr th:only-of-type {\n        vertical-align: middle;\n    }\n\n    .dataframe tbody tr th {\n        vertical-align: top;\n    }\n\n    .dataframe thead th {\n        text-align: right;\n    }\n</style>\n<table border=\"1\" class=\"dataframe\">\n  <thead>\n    <tr style=\"text-align: right;\">\n      <th></th>\n      <th>size_201907</th>\n      <th>size_201908</th>\n      <th>size_201909</th>\n      <th>size_201912</th>\n      <th>size_202001</th>\n      <th>size_202003</th>\n      <th>size_202004</th>\n      <th>size_202009</th>\n      <th>size_202010</th>\n      <th>size_202011</th>\n      <th>size_202012</th>\n      <th>size_202101</th>\n      <th>size_202102</th>\n    </tr>\n  </thead>\n  <tbody>\n    <tr>\n      <th>com.redberry.glitterlips</th>\n      <td>33.0</td>\n      <td>33.0</td>\n      <td>33.0</td>\n      <td>33.0</td>\n      <td>33.0</td>\n      <td>33.0</td>\n      <td>33.0</td>\n      <td>33.0</td>\n      <td>33.000000</td>\n      <td>33.000000</td>\n      <td>34.000000</td>\n      <td>33.285714</td>\n      <td>34.000000</td>\n    </tr>\n    <tr>\n      <th>zonek.design.paintbynumbers</th>\n      <td>58.0</td>\n      <td>58.0</td>\n      <td>58.0</td>\n      <td>58.0</td>\n      <td>58.0</td>\n      <td>58.0</td>\n      <td>58.0</td>\n      <td>58.0</td>\n      <td>58.000000</td>\n      <td>58.000000</td>\n      <td>58.000000</td>\n      <td>58.000000</td>\n      <td>58.000000</td>\n    </tr>\n    <tr>\n      <th>com.piupiuapps.hairstylesgirls</th>\n      <td>16.0</td>\n      <td>16.0</td>\n      <td>16.0</td>\n      <td>16.0</td>\n      <td>16.0</td>\n      <td>16.0</td>\n      <td>16.0</td>\n      <td>15.0</td>\n      <td>15.666667</td>\n      <td>15.666667</td>\n      <td>15.666667</td>\n      <td>15.666667</td>\n      <td>15.666667</td>\n    </tr>\n  </tbody>\n</table>\n</div>"
     },
     "execution_count": 176,
     "metadata": {},
     "output_type": "execute_result"
    }
   ],
   "source": [
    "import functools\n",
    "import copy\n",
    "adj_panels = 7\n",
    "method = 'mean'\n",
    "df_list = []\n",
    "for j in range(len(test_df.columns)):\n",
    "    if j <= adj_panels//2 or j in [0, 1]:\n",
    "        df = test_df.iloc[:, 0:adj_panels+1]\n",
    "    elif j >= len(test_df.columns)-adj_panels//2-1:\n",
    "        df = test_df.iloc[:, len(test_df.columns)-adj_panels-1:len(test_df.columns)]\n",
    "    else:\n",
    "        if adj_panels == 1:\n",
    "            df = test_df.iloc[:, j-1:j+1]\n",
    "        else:\n",
    "            df = test_df.iloc[:, j-adj_panels//2:j+adj_panels//2+1]\n",
    "    if method == 'mean':\n",
    "        df[method] = df.mean(axis=1, skipna=True)\n",
    "    elif method == 'mode':\n",
    "        df[method] = df.mode(axis=1, numeric_only=False, dropna=True).iloc[:,0]\n",
    "    elif method == 'previous':\n",
    "        df[method] = df.iloc[:,0]\n",
    "    else:\n",
    "        df[method] = 0\n",
    "    dfd = copy.deepcopy(df)\n",
    "    for col in dfd.columns:\n",
    "        dfd.loc[dfd[col].isnull(), col] = dfd[method]\n",
    "    dfd = dfd[[test_df.columns[j]]]\n",
    "    df_list.append(dfd)\n",
    "imputed_df = functools.reduce(lambda a, b: a.join(b, how='inner'), df_list)\n",
    "imputed_df"
   ],
   "metadata": {
    "collapsed": false,
    "pycharm": {
     "name": "#%%\n"
    }
   }
  },
  {
   "cell_type": "code",
   "execution_count": 31,
   "outputs": [
    {
     "name": "stdout",
     "output_type": "stream",
     "text": [
      "number of apps with at least 1 consecutive missing panels for updated are 528\n",
      "out of 10576 apps.\n",
      "(13, 528)\n"
     ]
    }
   ],
   "source": [
    "# impute updated\n",
    "missing_df_updated, missing_appids_updated = new_class_obj.check_apps_with_consecutive_missing_panels(\n",
    "    var='updated',\n",
    "    number_consec_panels_missing=1)\n",
    "print(missing_df_updated.shape)\n",
    "\n",
    "DFT = new_class_obj.impute_missing_using_adj_panels(\n",
    "    var='updated',\n",
    "    adj_panels=1,\n",
    "    method='mode')\n",
    "new_DF = new_class_obj.replace_cols(new_cols=DFT)"
   ],
   "metadata": {
    "collapsed": false,
    "pycharm": {
     "name": "#%%\n"
    }
   }
  },
  {
   "cell_type": "code",
   "execution_count": 34,
   "outputs": [
    {
     "data": {
      "text/plain": "               com.redberry.glitterlips zonek.design.paintbynumbers  \\\nupdated_201907 2019-12-30               2019-04-04                    \nupdated_201908 2019-12-30               2019-04-04                    \nupdated_201909 2019-12-30               2019-04-04                    \nupdated_201912 2019-12-30               2019-04-04                    \nupdated_202001 2019-12-30               2019-04-04                    \nupdated_202003 2019-12-30               2019-04-04                    \nupdated_202004 2019-12-30               2019-04-04                    \nupdated_202009 2019-12-30               2019-04-04                    \nupdated_202010 2020-09-15               2019-04-04                    \nupdated_202011 2020-09-15               2019-04-04                    \nupdated_202012 2020-09-15               NaT                           \nupdated_202101 NaT                      NaT                           \nupdated_202102 2020-09-15               NaT                           \n\n               com.piupiuapps.hairstylesgirls  \nupdated_201907 2020-01-24                      \nupdated_201908 2020-01-24                      \nupdated_201909 2020-01-24                      \nupdated_201912 2020-01-24                      \nupdated_202001 2020-01-24                      \nupdated_202003 2020-01-24                      \nupdated_202004 2020-01-24                      \nupdated_202009 2020-07-15                      \nupdated_202010 NaT                             \nupdated_202011 NaT                             \nupdated_202012 NaT                             \nupdated_202101 NaT                             \nupdated_202102 NaT                             ",
      "text/html": "<div>\n<style scoped>\n    .dataframe tbody tr th:only-of-type {\n        vertical-align: middle;\n    }\n\n    .dataframe tbody tr th {\n        vertical-align: top;\n    }\n\n    .dataframe thead th {\n        text-align: right;\n    }\n</style>\n<table border=\"1\" class=\"dataframe\">\n  <thead>\n    <tr style=\"text-align: right;\">\n      <th></th>\n      <th>com.redberry.glitterlips</th>\n      <th>zonek.design.paintbynumbers</th>\n      <th>com.piupiuapps.hairstylesgirls</th>\n    </tr>\n  </thead>\n  <tbody>\n    <tr>\n      <th>updated_201907</th>\n      <td>2019-12-30</td>\n      <td>2019-04-04</td>\n      <td>2020-01-24</td>\n    </tr>\n    <tr>\n      <th>updated_201908</th>\n      <td>2019-12-30</td>\n      <td>2019-04-04</td>\n      <td>2020-01-24</td>\n    </tr>\n    <tr>\n      <th>updated_201909</th>\n      <td>2019-12-30</td>\n      <td>2019-04-04</td>\n      <td>2020-01-24</td>\n    </tr>\n    <tr>\n      <th>updated_201912</th>\n      <td>2019-12-30</td>\n      <td>2019-04-04</td>\n      <td>2020-01-24</td>\n    </tr>\n    <tr>\n      <th>updated_202001</th>\n      <td>2019-12-30</td>\n      <td>2019-04-04</td>\n      <td>2020-01-24</td>\n    </tr>\n    <tr>\n      <th>updated_202003</th>\n      <td>2019-12-30</td>\n      <td>2019-04-04</td>\n      <td>2020-01-24</td>\n    </tr>\n    <tr>\n      <th>updated_202004</th>\n      <td>2019-12-30</td>\n      <td>2019-04-04</td>\n      <td>2020-01-24</td>\n    </tr>\n    <tr>\n      <th>updated_202009</th>\n      <td>2019-12-30</td>\n      <td>2019-04-04</td>\n      <td>2020-07-15</td>\n    </tr>\n    <tr>\n      <th>updated_202010</th>\n      <td>2020-09-15</td>\n      <td>2019-04-04</td>\n      <td>NaT</td>\n    </tr>\n    <tr>\n      <th>updated_202011</th>\n      <td>2020-09-15</td>\n      <td>2019-04-04</td>\n      <td>NaT</td>\n    </tr>\n    <tr>\n      <th>updated_202012</th>\n      <td>2020-09-15</td>\n      <td>NaT</td>\n      <td>NaT</td>\n    </tr>\n    <tr>\n      <th>updated_202101</th>\n      <td>NaT</td>\n      <td>NaT</td>\n      <td>NaT</td>\n    </tr>\n    <tr>\n      <th>updated_202102</th>\n      <td>2020-09-15</td>\n      <td>NaT</td>\n      <td>NaT</td>\n    </tr>\n  </tbody>\n</table>\n</div>"
     },
     "execution_count": 34,
     "metadata": {},
     "output_type": "execute_result"
    }
   ],
   "source": [
    "# check imputed updated\n",
    "missing_df_updated[['com.redberry.glitterlips',\n",
    "         'zonek.design.paintbynumbers',\n",
    "         'com.piupiuapps.hairstylesgirls']]"
   ],
   "metadata": {
    "collapsed": false,
    "pycharm": {
     "name": "#%%\n"
    }
   }
  },
  {
   "cell_type": "code",
   "execution_count": 171,
   "outputs": [
    {
     "data": {
      "text/plain": "                               updated_201907 updated_201908 updated_201909  \\\ncom.redberry.glitterlips       2019-12-30     2019-12-30     2019-12-30       \nzonek.design.paintbynumbers    2019-04-04     2019-04-04     2019-04-04       \ncom.piupiuapps.hairstylesgirls 2020-01-24     2020-01-24     2020-01-24       \n\n                               updated_201912 updated_202001 updated_202003  \\\ncom.redberry.glitterlips       2019-12-30     2019-12-30     2019-12-30       \nzonek.design.paintbynumbers    2019-04-04     2019-04-04     2019-04-04       \ncom.piupiuapps.hairstylesgirls 2020-01-24     2020-01-24     2020-01-24       \n\n                               updated_202004 updated_202009 updated_202010  \\\ncom.redberry.glitterlips       2019-12-30     2019-12-30     2020-09-15       \nzonek.design.paintbynumbers    2019-04-04     2019-04-04     2019-04-04       \ncom.piupiuapps.hairstylesgirls 2020-01-24     2020-07-15     NaT              \n\n                               updated_202011 updated_202012 updated_202101  \\\ncom.redberry.glitterlips       2020-09-15     2020-09-15     NaT              \nzonek.design.paintbynumbers    2019-04-04     NaT            NaT              \ncom.piupiuapps.hairstylesgirls NaT            NaT            NaT              \n\n                               updated_202102  \ncom.redberry.glitterlips       2020-09-15      \nzonek.design.paintbynumbers    NaT             \ncom.piupiuapps.hairstylesgirls NaT             ",
      "text/html": "<div>\n<style scoped>\n    .dataframe tbody tr th:only-of-type {\n        vertical-align: middle;\n    }\n\n    .dataframe tbody tr th {\n        vertical-align: top;\n    }\n\n    .dataframe thead th {\n        text-align: right;\n    }\n</style>\n<table border=\"1\" class=\"dataframe\">\n  <thead>\n    <tr style=\"text-align: right;\">\n      <th></th>\n      <th>updated_201907</th>\n      <th>updated_201908</th>\n      <th>updated_201909</th>\n      <th>updated_201912</th>\n      <th>updated_202001</th>\n      <th>updated_202003</th>\n      <th>updated_202004</th>\n      <th>updated_202009</th>\n      <th>updated_202010</th>\n      <th>updated_202011</th>\n      <th>updated_202012</th>\n      <th>updated_202101</th>\n      <th>updated_202102</th>\n    </tr>\n  </thead>\n  <tbody>\n    <tr>\n      <th>com.redberry.glitterlips</th>\n      <td>2019-12-30</td>\n      <td>2019-12-30</td>\n      <td>2019-12-30</td>\n      <td>2019-12-30</td>\n      <td>2019-12-30</td>\n      <td>2019-12-30</td>\n      <td>2019-12-30</td>\n      <td>2019-12-30</td>\n      <td>2020-09-15</td>\n      <td>2020-09-15</td>\n      <td>2020-09-15</td>\n      <td>NaT</td>\n      <td>2020-09-15</td>\n    </tr>\n    <tr>\n      <th>zonek.design.paintbynumbers</th>\n      <td>2019-04-04</td>\n      <td>2019-04-04</td>\n      <td>2019-04-04</td>\n      <td>2019-04-04</td>\n      <td>2019-04-04</td>\n      <td>2019-04-04</td>\n      <td>2019-04-04</td>\n      <td>2019-04-04</td>\n      <td>2019-04-04</td>\n      <td>2019-04-04</td>\n      <td>NaT</td>\n      <td>NaT</td>\n      <td>NaT</td>\n    </tr>\n    <tr>\n      <th>com.piupiuapps.hairstylesgirls</th>\n      <td>2020-01-24</td>\n      <td>2020-01-24</td>\n      <td>2020-01-24</td>\n      <td>2020-01-24</td>\n      <td>2020-01-24</td>\n      <td>2020-01-24</td>\n      <td>2020-01-24</td>\n      <td>2020-07-15</td>\n      <td>NaT</td>\n      <td>NaT</td>\n      <td>NaT</td>\n      <td>NaT</td>\n      <td>NaT</td>\n    </tr>\n  </tbody>\n</table>\n</div>"
     },
     "execution_count": 171,
     "metadata": {},
     "output_type": "execute_result"
    }
   ],
   "source": [],
   "metadata": {
    "collapsed": false,
    "pycharm": {
     "name": "#%%\n"
    }
   }
  },
  {
   "cell_type": "code",
   "execution_count": 170,
   "outputs": [
    {
     "data": {
      "text/plain": "                               updated_202101 updated_202102 previous\ncom.redberry.glitterlips       NaT            2020-09-15     NaT     \nzonek.design.paintbynumbers    NaT            NaT            NaT     \ncom.piupiuapps.hairstylesgirls NaT            NaT            NaT     ",
      "text/html": "<div>\n<style scoped>\n    .dataframe tbody tr th:only-of-type {\n        vertical-align: middle;\n    }\n\n    .dataframe tbody tr th {\n        vertical-align: top;\n    }\n\n    .dataframe thead th {\n        text-align: right;\n    }\n</style>\n<table border=\"1\" class=\"dataframe\">\n  <thead>\n    <tr style=\"text-align: right;\">\n      <th></th>\n      <th>updated_202101</th>\n      <th>updated_202102</th>\n      <th>previous</th>\n    </tr>\n  </thead>\n  <tbody>\n    <tr>\n      <th>com.redberry.glitterlips</th>\n      <td>NaT</td>\n      <td>2020-09-15</td>\n      <td>NaT</td>\n    </tr>\n    <tr>\n      <th>zonek.design.paintbynumbers</th>\n      <td>NaT</td>\n      <td>NaT</td>\n      <td>NaT</td>\n    </tr>\n    <tr>\n      <th>com.piupiuapps.hairstylesgirls</th>\n      <td>NaT</td>\n      <td>NaT</td>\n      <td>NaT</td>\n    </tr>\n  </tbody>\n</table>\n</div>"
     },
     "execution_count": 170,
     "metadata": {},
     "output_type": "execute_result"
    }
   ],
   "source": [
    "df_list[12]"
   ],
   "metadata": {
    "collapsed": false,
    "pycharm": {
     "name": "#%%\n"
    }
   }
  },
  {
   "cell_type": "code",
   "execution_count": 35,
   "outputs": [
    {
     "data": {
      "text/plain": "                               updated_201907 updated_201908 updated_201909  \\\ncom.redberry.glitterlips       2019-12-30     2019-12-30     2019-12-30       \nzonek.design.paintbynumbers    2019-04-04     2019-04-04     2019-04-04       \ncom.piupiuapps.hairstylesgirls 2020-01-24     2020-01-24     2020-01-24       \n\n                               updated_201912 updated_202001 updated_202003  \\\ncom.redberry.glitterlips       2019-12-30     2019-12-30     2019-12-30       \nzonek.design.paintbynumbers    2019-04-04     2019-04-04     2019-04-04       \ncom.piupiuapps.hairstylesgirls 2020-01-24     2020-01-24     2020-01-24       \n\n                               updated_202004 updated_202009 updated_202010  \\\ncom.redberry.glitterlips       2019-12-30     2019-12-30     2020-09-15       \nzonek.design.paintbynumbers    2019-04-04     2019-04-04     2019-04-04       \ncom.piupiuapps.hairstylesgirls 2020-01-24     2020-07-15     2020-07-15       \n\n                               updated_202011 updated_202012 updated_202101  \\\ncom.redberry.glitterlips       2020-09-15     2020-09-15     2020-09-15       \nzonek.design.paintbynumbers    2019-04-04     2019-04-04     2019-04-04       \ncom.piupiuapps.hairstylesgirls 2020-07-15     2020-07-15     2020-07-15       \n\n                               updated_202102  \ncom.redberry.glitterlips       2020-09-15      \nzonek.design.paintbynumbers    2019-04-04      \ncom.piupiuapps.hairstylesgirls 2020-07-15      ",
      "text/html": "<div>\n<style scoped>\n    .dataframe tbody tr th:only-of-type {\n        vertical-align: middle;\n    }\n\n    .dataframe tbody tr th {\n        vertical-align: top;\n    }\n\n    .dataframe thead th {\n        text-align: right;\n    }\n</style>\n<table border=\"1\" class=\"dataframe\">\n  <thead>\n    <tr style=\"text-align: right;\">\n      <th></th>\n      <th>updated_201907</th>\n      <th>updated_201908</th>\n      <th>updated_201909</th>\n      <th>updated_201912</th>\n      <th>updated_202001</th>\n      <th>updated_202003</th>\n      <th>updated_202004</th>\n      <th>updated_202009</th>\n      <th>updated_202010</th>\n      <th>updated_202011</th>\n      <th>updated_202012</th>\n      <th>updated_202101</th>\n      <th>updated_202102</th>\n    </tr>\n  </thead>\n  <tbody>\n    <tr>\n      <th>com.redberry.glitterlips</th>\n      <td>2019-12-30</td>\n      <td>2019-12-30</td>\n      <td>2019-12-30</td>\n      <td>2019-12-30</td>\n      <td>2019-12-30</td>\n      <td>2019-12-30</td>\n      <td>2019-12-30</td>\n      <td>2019-12-30</td>\n      <td>2020-09-15</td>\n      <td>2020-09-15</td>\n      <td>2020-09-15</td>\n      <td>2020-09-15</td>\n      <td>2020-09-15</td>\n    </tr>\n    <tr>\n      <th>zonek.design.paintbynumbers</th>\n      <td>2019-04-04</td>\n      <td>2019-04-04</td>\n      <td>2019-04-04</td>\n      <td>2019-04-04</td>\n      <td>2019-04-04</td>\n      <td>2019-04-04</td>\n      <td>2019-04-04</td>\n      <td>2019-04-04</td>\n      <td>2019-04-04</td>\n      <td>2019-04-04</td>\n      <td>2019-04-04</td>\n      <td>2019-04-04</td>\n      <td>2019-04-04</td>\n    </tr>\n    <tr>\n      <th>com.piupiuapps.hairstylesgirls</th>\n      <td>2020-01-24</td>\n      <td>2020-01-24</td>\n      <td>2020-01-24</td>\n      <td>2020-01-24</td>\n      <td>2020-01-24</td>\n      <td>2020-01-24</td>\n      <td>2020-01-24</td>\n      <td>2020-07-15</td>\n      <td>2020-07-15</td>\n      <td>2020-07-15</td>\n      <td>2020-07-15</td>\n      <td>2020-07-15</td>\n      <td>2020-07-15</td>\n    </tr>\n  </tbody>\n</table>\n</div>"
     },
     "execution_count": 35,
     "metadata": {},
     "output_type": "execute_result"
    }
   ],
   "source": [
    "# check imputed updated\n",
    "DFT.loc[['com.redberry.glitterlips',\n",
    "         'zonek.design.paintbynumbers',\n",
    "         'com.piupiuapps.hairstylesgirls']]"
   ],
   "metadata": {
    "collapsed": false,
    "pycharm": {
     "name": "#%%\n"
    }
   }
  },
  {
   "cell_type": "code",
   "execution_count": 16,
   "outputs": [
    {
     "name": "stdout",
     "output_type": "stream",
     "text": [
      "number of apps with at least 1 consecutive missing panels for released are 661\n",
      "out of 10576 apps.\n",
      "(13, 661)\n"
     ]
    }
   ],
   "source": [
    "# impute released\n",
    "missing_df_released, missing_appids_released = new_class_obj.check_apps_with_consecutive_missing_panels(\n",
    "    var='released',\n",
    "    number_consec_panels_missing=1)\n",
    "print(missing_df_released.shape)\n",
    "\n",
    "DFT = new_class_obj.impute_missing_using_adj_panels(\n",
    "    var='released',\n",
    "    adj_panels=1,\n",
    "    method='mode')\n",
    "new_DF = new_class_obj.replace_cols(new_cols=DFT)"
   ],
   "metadata": {
    "collapsed": false,
    "pycharm": {
     "name": "#%%\n"
    }
   }
  },
  {
   "cell_type": "code",
   "execution_count": 83,
   "outputs": [
    {
     "name": "stdout",
     "output_type": "stream",
     "text": [
      "number of apps with at least 2 consecutive missing panels for minInstalls are 339\n",
      "out of 10576 apps.\n",
      "(13, 339)\n"
     ]
    }
   ],
   "source": [
    "# impute minInstalls\n",
    "missing_df_minInstalls, missing_appids_minInstalls = new_class_obj.check_apps_with_consecutive_missing_panels(\n",
    "    var='minInstalls',\n",
    "    number_consec_panels_missing=2)\n",
    "print(missing_df_minInstalls.shape)\n",
    "\n",
    "DFT = new_class_obj.impute_missing_using_adj_panels(\n",
    "    var='minInstalls',\n",
    "    adj_panels=2,\n",
    "    method='mean')\n",
    "new_DF = new_class_obj.replace_cols(new_cols=DFT)"
   ],
   "metadata": {
    "collapsed": false,
    "pycharm": {
     "name": "#%%\n"
    }
   }
  },
  {
   "cell_type": "code",
   "execution_count": 12,
   "outputs": [
    {
     "name": "stdout",
     "output_type": "stream",
     "text": [
      "number of apps with at least 2 consecutive missing panels for score are 325\n",
      "out of 10576 apps.\n"
     ]
    }
   ],
   "source": [
    "# impute score\n",
    "missing_df_score, missing_appids_score = new_class_obj.check_apps_with_consecutive_missing_panels(\n",
    "    var='score',\n",
    "    number_consec_panels_missing=2)"
   ],
   "metadata": {
    "collapsed": false,
    "pycharm": {
     "name": "#%%\n"
    }
   }
  },
  {
   "cell_type": "code",
   "execution_count": 13,
   "outputs": [
    {
     "name": "stdout",
     "output_type": "stream",
     "text": [
      "number of apps with at least 2 consecutive missing panels for reviews are 323\n",
      "out of 10576 apps.\n"
     ]
    }
   ],
   "source": [
    "# impute reviews\n",
    "missing_df_reviews, missing_appids_reviews = new_class_obj.check_apps_with_consecutive_missing_panels(\n",
    "    var='reviews',\n",
    "    number_consec_panels_missing=2)"
   ],
   "metadata": {
    "collapsed": false,
    "pycharm": {
     "name": "#%%\n"
    }
   }
  },
  {
   "cell_type": "code",
   "execution_count": 14,
   "outputs": [
    {
     "name": "stdout",
     "output_type": "stream",
     "text": [
      "number of apps with at least 2 consecutive missing panels for ratings are 637\n",
      "out of 10576 apps.\n"
     ]
    }
   ],
   "source": [
    "# impute ratings\n",
    "missing_df_ratings, missing_appids_ratings = new_class_obj.check_apps_with_consecutive_missing_panels(\n",
    "    var='ratings',\n",
    "    number_consec_panels_missing=2)"
   ],
   "metadata": {
    "collapsed": false,
    "pycharm": {
     "name": "#%%\n"
    }
   }
  },
  {
   "cell_type": "code",
   "execution_count": 95,
   "outputs": [
    {
     "name": "stdout",
     "output_type": "stream",
     "text": [
      "number of apps with at least 2 consecutive missing panels for price are 319\n",
      "out of 10576 apps.\n",
      "(13, 319)\n"
     ]
    }
   ],
   "source": [
    "# impute price\n",
    "missing_df_price, missing_appids_price = new_class_obj.check_apps_with_consecutive_missing_panels(\n",
    "    var='price',\n",
    "    number_consec_panels_missing=2)\n",
    "print(missing_df_price.shape)\n",
    "\n",
    "COL_P = new_class_obj.impute_missing_using_adj_panels(\n",
    "    var='price',\n",
    "    adj_panels=4,\n",
    "    method='mean')"
   ],
   "metadata": {
    "collapsed": false,
    "pycharm": {
     "name": "#%%\n"
    }
   }
  },
  {
   "cell_type": "code",
   "execution_count": 96,
   "outputs": [],
   "source": [
    "new_DF = new_class_obj.replace_cols_list(\n",
    "    list_new_cols=[COL_S, COL_P])"
   ],
   "metadata": {
    "collapsed": false,
    "pycharm": {
     "name": "#%%\n"
    }
   }
  },
  {
   "cell_type": "code",
   "execution_count": 29,
   "outputs": [
    {
     "name": "stdout",
     "output_type": "stream",
     "text": [
      "number of apps with at least 1 consecutive missing panels for updated are 3\n",
      "out of 10576 apps.\n",
      "(13, 3)\n"
     ]
    }
   ],
   "source": [
    "new_class_obj = pre_processing(\n",
    "                  df=new_DF,\n",
    "                  df_index = 'appid',\n",
    "                  initial_panel=initial_panel,\n",
    "                  all_panels=all_panels,\n",
    "                  consec_panels=consec_panels)\n",
    "\n",
    "missing_df, missing_appids = new_class_obj.check_apps_with_consecutive_missing_panels(\n",
    "    var='updated',\n",
    "    number_consec_panels_missing=1)\n",
    "print(missing_df.shape)"
   ],
   "metadata": {
    "collapsed": false,
    "pycharm": {
     "name": "#%% checked the imputed var\n"
    }
   }
  },
  {
   "cell_type": "code",
   "execution_count": null,
   "outputs": [],
   "source": [],
   "metadata": {
    "collapsed": false,
    "pycharm": {
     "name": "#%%\n"
    }
   }
  }
 ],
 "metadata": {
  "kernelspec": {
   "display_name": "Python 3",
   "language": "python",
   "name": "python3"
  },
  "language_info": {
   "codemirror_mode": {
    "name": "ipython",
    "version": 2
   },
   "file_extension": ".py",
   "mimetype": "text/x-python",
   "name": "python",
   "nbconvert_exporter": "python",
   "pygments_lexer": "ipython2",
   "version": "2.7.6"
  }
 },
 "nbformat": 4,
 "nbformat_minor": 0
}