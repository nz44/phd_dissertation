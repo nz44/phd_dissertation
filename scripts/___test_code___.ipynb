{
 "cells": [
  {
   "cell_type": "code",
   "execution_count": 1,
   "outputs": [],
   "source": [
    "# run python scripts containing all the functions\n",
    "%run -i '0_paths_open_save.py'\n",
    "%run -i '1_scraping_cleaning_merge.py'\n",
    "%run -i '2_summary_stats_visualization_new.py'"
   ],
   "metadata": {
    "collapsed": false,
    "pycharm": {
     "name": "#%%\n"
    }
   }
  },
  {
   "cell_type": "markdown",
   "source": [
    "# 1. check scraped data"
   ],
   "metadata": {
    "collapsed": false
   }
  },
  {
   "cell_type": "code",
   "execution_count": null,
   "outputs": [],
   "source": [
    "initial_panel = '201812'\n",
    "tracking_panels = ['201812', '201912', '202001', '202003', '202004', '202009', '202010',\n",
    "          '202011', '202012', '202101', '202102']\n",
    "\n",
    "o = open_files(initial_panel=initial_panel, all_panels=tracking_panels)\n",
    "app_details = o.open_initial_panel_with_its_tracking_panels()\n",
    "A = app_detail_dicts(app_details, all_panels=tracking_panels)\n",
    "A.get_a_glimpse()"
   ],
   "metadata": {
    "collapsed": false,
    "pycharm": {
     "name": "#%%\n"
    }
   }
  },
  {
   "cell_type": "markdown",
   "source": [
    "# 2. check converted data"
   ],
   "metadata": {
    "collapsed": false,
    "pycharm": {
     "name": "#%% md\n"
    }
   }
  },
  {
   "cell_type": "code",
   "execution_count": null,
   "outputs": [],
   "source": [
    "# test\n",
    "%run -i '1_scraping_cleaning_merge.py'\n",
    "initial_panel='201907'\n",
    "all_panels=['201907', '201908', '201909', '201912', '202001', '202003', '202004',\n",
    "          '202009', '202010', '202011', '202012', '202101', '202102']\n",
    "o = open_files(initial_panel=initial_panel,\n",
    "                   all_panels=all_panels)\n",
    "app_details = o.open_initial_panel_with_its_tracking_panels()\n",
    "A = app_detail_dicts(d=app_details, all_panels=all_panels)\n",
    "inter_df = A.format_cols()\n",
    "print(inter_df['201907'].columns)\n"
   ],
   "metadata": {
    "collapsed": false,
    "pycharm": {
     "name": "#%%\n"
    }
   }
  },
  {
   "cell_type": "markdown",
   "metadata": {
    "collapsed": true,
    "pycharm": {
     "name": "#%% md\n"
    }
   },
   "source": [
    "# 3. check whether the developer geocoding information is correct."
   ]
  },
  {
   "cell_type": "code",
   "execution_count": 76,
   "outputs": [
    {
     "name": "stdout",
     "output_type": "stream",
     "text": [
      "(6442, 55)\n"
     ]
    },
    {
     "data": {
      "text/plain": "                                                                developerAddress_201907  \\\ndeveloper                                                                                 \nMy Apps Studio               None                                                         \nPintogykas                   None                                                         \nInternational Dairy Queen®️  8331 Norman Center Drive\\nBloomington, MN  55437             \nSNOW, Inc.                   575 High Street,Suite 110 Palo Alto, CA 94301                \nSaucon IoT                   None                                                         \n...                                                                    ...                \nStraight Talk                None                                                         \nMaadinfo Services            2 allée des Ormeaux\\n06130 Grasse\\nFrance                    \nUsatine Media                8529 Raintree Woods Drive\\nFair Oaks Ranch, TX 78255         \nyouthhr                      None                                                         \nBadsnowball Limited          UNIT 408B, LIPPO SUN PLAZA, 28 CANTON ROAD, TSIM SHA TSUI,   \n\n                                                                                             location  \\\ndeveloper                                                                                               \nMy Apps Studio               None                                                                       \nPintogykas                   None                                                                       \nInternational Dairy Queen®️  (8331 Norman Center Drive, Minneapolis, MN 55437, (44.85294, -93.35164))   \nSNOW, Inc.                   (575 High Street, Palo Alto, CA 94301, (37.44357, -122.16224))             \nSaucon IoT                   None                                                                       \n...                                                                                     ...             \nStraight Talk                None                                                                       \nMaadinfo Services            (2 Allée des Ormeaux, Grasse, 06130, (43.6564, 6.91355))                   \nUsatine Media                (8529 Raintree Woods Drive, Boerne, TX 78015, (29.73904, -98.65005))       \nyouthhr                      None                                                                       \nBadsnowball Limited          (28 Canton Road, Yau Tsim Mong District, (22.29689, 114.16954))            \n\n                             longitude  latitude  \ndeveloper                                         \nMy Apps Studio              NaN        NaN        \nPintogykas                  NaN        NaN        \nInternational Dairy Queen®️ -93.35164   44.85294  \nSNOW, Inc.                  -122.16224  37.44357  \nSaucon IoT                  NaN        NaN        \n...                                ...       ...  \nStraight Talk               NaN        NaN        \nMaadinfo Services            6.91355    43.65640  \nUsatine Media               -98.65005   29.73904  \nyouthhr                     NaN        NaN        \nBadsnowball Limited          114.16954  22.29689  \n\n[100 rows x 4 columns]",
      "text/html": "<div>\n<style scoped>\n    .dataframe tbody tr th:only-of-type {\n        vertical-align: middle;\n    }\n\n    .dataframe tbody tr th {\n        vertical-align: top;\n    }\n\n    .dataframe thead th {\n        text-align: right;\n    }\n</style>\n<table border=\"1\" class=\"dataframe\">\n  <thead>\n    <tr style=\"text-align: right;\">\n      <th></th>\n      <th>developerAddress_201907</th>\n      <th>location</th>\n      <th>longitude</th>\n      <th>latitude</th>\n    </tr>\n    <tr>\n      <th>developer</th>\n      <th></th>\n      <th></th>\n      <th></th>\n      <th></th>\n    </tr>\n  </thead>\n  <tbody>\n    <tr>\n      <th>My Apps Studio</th>\n      <td>None</td>\n      <td>None</td>\n      <td>NaN</td>\n      <td>NaN</td>\n    </tr>\n    <tr>\n      <th>Pintogykas</th>\n      <td>None</td>\n      <td>None</td>\n      <td>NaN</td>\n      <td>NaN</td>\n    </tr>\n    <tr>\n      <th>International Dairy Queen®️</th>\n      <td>8331 Norman Center Drive\\nBloomington, MN  55437</td>\n      <td>(8331 Norman Center Drive, Minneapolis, MN 55437, (44.85294, -93.35164))</td>\n      <td>-93.35164</td>\n      <td>44.85294</td>\n    </tr>\n    <tr>\n      <th>SNOW, Inc.</th>\n      <td>575 High Street,Suite 110 Palo Alto, CA 94301</td>\n      <td>(575 High Street, Palo Alto, CA 94301, (37.44357, -122.16224))</td>\n      <td>-122.16224</td>\n      <td>37.44357</td>\n    </tr>\n    <tr>\n      <th>Saucon IoT</th>\n      <td>None</td>\n      <td>None</td>\n      <td>NaN</td>\n      <td>NaN</td>\n    </tr>\n    <tr>\n      <th>...</th>\n      <td>...</td>\n      <td>...</td>\n      <td>...</td>\n      <td>...</td>\n    </tr>\n    <tr>\n      <th>Straight Talk</th>\n      <td>None</td>\n      <td>None</td>\n      <td>NaN</td>\n      <td>NaN</td>\n    </tr>\n    <tr>\n      <th>Maadinfo Services</th>\n      <td>2 allée des Ormeaux\\n06130 Grasse\\nFrance</td>\n      <td>(2 Allée des Ormeaux, Grasse, 06130, (43.6564, 6.91355))</td>\n      <td>6.91355</td>\n      <td>43.65640</td>\n    </tr>\n    <tr>\n      <th>Usatine Media</th>\n      <td>8529 Raintree Woods Drive\\nFair Oaks Ranch, TX 78255</td>\n      <td>(8529 Raintree Woods Drive, Boerne, TX 78015, (29.73904, -98.65005))</td>\n      <td>-98.65005</td>\n      <td>29.73904</td>\n    </tr>\n    <tr>\n      <th>youthhr</th>\n      <td>None</td>\n      <td>None</td>\n      <td>NaN</td>\n      <td>NaN</td>\n    </tr>\n    <tr>\n      <th>Badsnowball Limited</th>\n      <td>UNIT 408B, LIPPO SUN PLAZA, 28 CANTON ROAD, TSIM SHA TSUI,</td>\n      <td>(28 Canton Road, Yau Tsim Mong District, (22.29689, 114.16954))</td>\n      <td>114.16954</td>\n      <td>22.29689</td>\n    </tr>\n  </tbody>\n</table>\n<p>100 rows × 4 columns</p>\n</div>"
     },
     "execution_count": 76,
     "metadata": {},
     "output_type": "execute_result"
    }
   ],
   "source": [
    "%run -i '0_paths_open_save.py'\n",
    "%run -i '1_scraping_cleaning_merge.py'\n",
    "%run -i '2_summary_stats_visualization_new.py'\n",
    "initial_panel='201907'\n",
    "o = open_files(initial_panel=initial_panel)\n",
    "DF = o.open_panel_df(type='dev_index_geocoded')\n",
    "all_panels = ['201907',\n",
    "              '201908',\n",
    "              '201909',\n",
    "              '201912',\n",
    "              '202001',\n",
    "              '202003',\n",
    "              '202004',\n",
    "              '202009',\n",
    "              '202010',\n",
    "              '202011',\n",
    "              '202012',\n",
    "              '202101',\n",
    "              '202102']\n",
    "consec_panels = ['202009', '202010', '202011', '202012', '202101', '202102']\n",
    "new_class_obj = pre_processing(\n",
    "                  df=DF,\n",
    "                  df_index = 'dev_index_geocoded',\n",
    "                  initial_panel=initial_panel,\n",
    "                  all_panels=all_panels,\n",
    "                  consec_panels=consec_panels)\n",
    "print(new_class_obj.df.shape)\n",
    "DF2 = new_class_obj.df[['developerAddress_201907', 'location', 'longitude', 'latitude']]\n",
    "testdf1 = DF2.sample(100)\n",
    "testdf1"
   ],
   "metadata": {
    "collapsed": false,
    "pycharm": {
     "name": "#%%\n"
    }
   }
  },
  {
   "cell_type": "markdown",
   "source": [
    "# 4. check whether the multiindex conversion is correct"
   ],
   "metadata": {
    "collapsed": false,
    "pycharm": {
     "name": "#%% md\n"
    }
   }
  },
  {
   "cell_type": "code",
   "execution_count": 1,
   "outputs": [
    {
     "ename": "TypeError",
     "evalue": "open_panel_df() got an unexpected keyword argument 'type'",
     "output_type": "error",
     "traceback": [
      "\u001B[0;31m---------------------------------------------------------------------------\u001B[0m",
      "\u001B[0;31mTypeError\u001B[0m                                 Traceback (most recent call last)",
      "\u001B[0;32m~/Insync/naixin88@sina.cn/OneDrive/__CODING__/PycharmProjects/GOOGLE_PLAY/scripts/STEP2_pre_processing.py\u001B[0m in \u001B[0;36m<module>\u001B[0;34m\u001B[0m\n\u001B[1;32m      5\u001B[0m \u001B[0;34m\u001B[0m\u001B[0m\n\u001B[1;32m      6\u001B[0m \u001B[0mo\u001B[0m \u001B[0;34m=\u001B[0m \u001B[0mopen_files\u001B[0m\u001B[0;34m(\u001B[0m\u001B[0minitial_panel\u001B[0m\u001B[0;34m=\u001B[0m\u001B[0;34m'201812'\u001B[0m\u001B[0;34m)\u001B[0m\u001B[0;34m\u001B[0m\u001B[0;34m\u001B[0m\u001B[0m\n\u001B[0;32m----> 7\u001B[0;31m \u001B[0mDF\u001B[0m \u001B[0;34m=\u001B[0m \u001B[0mo\u001B[0m\u001B[0;34m.\u001B[0m\u001B[0mopen_panel_df\u001B[0m\u001B[0;34m(\u001B[0m\u001B[0mtype\u001B[0m\u001B[0;34m=\u001B[0m\u001B[0;34m'dev_multiindex_geocoded'\u001B[0m\u001B[0;34m)\u001B[0m\u001B[0;34m\u001B[0m\u001B[0;34m\u001B[0m\u001B[0m\n\u001B[0m\u001B[1;32m      8\u001B[0m all_panels = ['201812',\n\u001B[1;32m      9\u001B[0m               \u001B[0;34m'201912'\u001B[0m\u001B[0;34m,\u001B[0m\u001B[0;34m\u001B[0m\u001B[0;34m\u001B[0m\u001B[0m\n",
      "\u001B[0;31mTypeError\u001B[0m: open_panel_df() got an unexpected keyword argument 'type'"
     ]
    }
   ],
   "source": [
    "# test file\n",
    "%run -i 'STEP0_paths_open_save.py'\n",
    "%run -i 'STEP1_scraping_cleaning_merge.py'\n",
    "%run -i 'STEP2_pre_processing.py'\n",
    "\n",
    "o = open_files(initial_panel='201812')\n",
    "DF = o.open_panel_df(name='dev_multiindex_geocoded')\n",
    "all_panels = ['201812',\n",
    "              '201912',\n",
    "              '202001',\n",
    "              '202003',\n",
    "              '202004',\n",
    "              '202009',\n",
    "              '202010',\n",
    "              '202011',\n",
    "              '202012',\n",
    "              '202101',\n",
    "              '202102']\n",
    "consec_panels = ['202009', '202010', '202011', '202012', '202101', '202102']\n",
    "new_class_obj = pre_processing(\n",
    "                  df=testdf1,\n",
    "                  df_index = 'dev_multiindex_geocoded',\n",
    "                  initial_panel='201812',\n",
    "                  all_panels=all_panels,\n",
    "                  consec_panels=consec_panels)\n",
    "new_class_obj.print_col_names(text='appId')"
   ],
   "metadata": {
    "collapsed": false,
    "pycharm": {
     "name": "#%%\n"
    }
   }
  },
  {
   "cell_type": "markdown",
   "source": [
    "# test code for deleting missing, imputing missing and deleting outliers"
   ],
   "metadata": {
    "collapsed": false,
    "pycharm": {
     "name": "#%% md\n"
    }
   }
  },
  {
   "cell_type": "code",
   "execution_count": 2,
   "outputs": [
    {
     "name": "stdout",
     "output_type": "stream",
     "text": [
      "(4278, 319)\n",
      "size_201812\n",
      "size_201912\n",
      "size_202001\n",
      "size_202003\n",
      "size_202004\n",
      "size_202009\n",
      "size_202010\n",
      "size_202011\n",
      "size_202012\n",
      "size_202101\n",
      "size_202102\n",
      "size_202103\n"
     ]
    },
    {
     "data": {
      "text/plain": "['size_201812',\n 'size_201912',\n 'size_202001',\n 'size_202003',\n 'size_202004',\n 'size_202009',\n 'size_202010',\n 'size_202011',\n 'size_202012',\n 'size_202101',\n 'size_202102',\n 'size_202103']"
     },
     "execution_count": 2,
     "metadata": {},
     "output_type": "execute_result"
    }
   ],
   "source": [
    "%run -i 'STEP0_paths_open_save.py'\n",
    "%run -i 'STEP1_scraping_cleaning_merge.py'\n",
    "%run -i 'STEP2_pre_processing.py'\n",
    "\n",
    "initial_panel='201812'\n",
    "o = open_files(initial_panel=initial_panel)\n",
    "DF = o.open_panel_df(name='MERGED')\n",
    "all_panels = ['201812', '201912', '202001', '202003', '202004', '202009', '202010',\n",
    "          '202011', '202012', '202101', '202102', '202103']\n",
    "consec_panels = ['202009', '202010', '202011', '202012', '202101', '202102',\n",
    "                 '202103']\n",
    "new_class_obj = pre_processing(\n",
    "                  df=DF,\n",
    "                  df_index = 'appid',\n",
    "                  initial_panel=initial_panel,\n",
    "                  all_panels=all_panels,\n",
    "                  consec_panels=consec_panels)\n",
    "print(new_class_obj.df.shape)\n",
    "new_class_obj.print_col_names(text='size')"
   ],
   "metadata": {
    "collapsed": false,
    "pycharm": {
     "name": "#%%\n"
    }
   }
  },
  {
   "cell_type": "code",
   "execution_count": 81,
   "outputs": [],
   "source": [
    "imputed_df = new_class_obj.impute_missing_using_adj_panels(\n",
    "    var='offersIAP',\n",
    "    consecutive=True,\n",
    "    adj_panels=5,\n",
    "    method='mode if none-missing are all the same')"
   ],
   "metadata": {
    "collapsed": false,
    "pycharm": {
     "name": "#%%\n"
    }
   }
  },
  {
   "cell_type": "code",
   "execution_count": 10,
   "outputs": [
    {
     "name": "stdout",
     "output_type": "stream",
     "text": [
      "title_201907\n",
      "description_201907\n",
      "summary_201907\n",
      "minInstalls_201907\n",
      "score_201907\n",
      "ratings_201907\n",
      "reviews_201907\n",
      "histogram_201907\n",
      "price_201907\n",
      "free_201907\n",
      "currency_201907\n",
      "size_201907\n",
      "developer_201907\n",
      "genreId_201907\n",
      "adSupported_201907\n",
      "containsAds_201907\n",
      "released_201907\n",
      "updated_201907\n",
      "comments_201907\n",
      "developerId_201907\n",
      "developerWebsite_201907\n",
      "developerEmail_201907\n",
      "developerAddress_201907\n",
      "offersIAP_201907\n",
      "appId_201907\n",
      "contentRating_201907\n",
      "title_201908\n",
      "description_201908\n",
      "summary_201908\n",
      "minInstalls_201908\n",
      "score_201908\n",
      "ratings_201908\n",
      "reviews_201908\n",
      "histogram_201908\n",
      "price_201908\n",
      "free_201908\n",
      "currency_201908\n",
      "size_201908\n",
      "developer_201908\n",
      "genreId_201908\n",
      "adSupported_201908\n",
      "containsAds_201908\n",
      "released_201908\n",
      "updated_201908\n",
      "comments_201908\n",
      "developerId_201908\n",
      "developerWebsite_201908\n",
      "developerEmail_201908\n",
      "developerAddress_201908\n",
      "offersIAP_201908\n",
      "appId_201908\n",
      "contentRating_201908\n",
      "title_201909\n",
      "description_201909\n",
      "summary_201909\n",
      "minInstalls_201909\n",
      "score_201909\n",
      "ratings_201909\n",
      "reviews_201909\n",
      "histogram_201909\n",
      "price_201909\n",
      "free_201909\n",
      "currency_201909\n",
      "size_201909\n",
      "developer_201909\n",
      "genreId_201909\n",
      "adSupported_201909\n",
      "containsAds_201909\n",
      "released_201909\n",
      "updated_201909\n",
      "comments_201909\n",
      "developerId_201909\n",
      "developerWebsite_201909\n",
      "developerEmail_201909\n",
      "developerAddress_201909\n",
      "offersIAP_201909\n",
      "appId_201909\n",
      "contentRating_201909\n",
      "title_201912\n",
      "description_201912\n",
      "summary_201912\n",
      "minInstalls_201912\n",
      "score_201912\n",
      "ratings_201912\n",
      "reviews_201912\n",
      "histogram_201912\n",
      "price_201912\n",
      "free_201912\n",
      "currency_201912\n",
      "size_201912\n",
      "developer_201912\n",
      "genreId_201912\n",
      "adSupported_201912\n",
      "containsAds_201912\n",
      "released_201912\n",
      "updated_201912\n",
      "comments_201912\n",
      "developerId_201912\n",
      "developerWebsite_201912\n",
      "developerEmail_201912\n",
      "developerAddress_201912\n",
      "offersIAP_201912\n",
      "appId_201912\n",
      "contentRating_201912\n",
      "title_202001\n",
      "description_202001\n",
      "summary_202001\n",
      "minInstalls_202001\n",
      "score_202001\n",
      "ratings_202001\n",
      "reviews_202001\n",
      "histogram_202001\n",
      "price_202001\n",
      "free_202001\n",
      "currency_202001\n",
      "size_202001\n",
      "developer_202001\n",
      "genreId_202001\n",
      "adSupported_202001\n",
      "containsAds_202001\n",
      "released_202001\n",
      "updated_202001\n",
      "comments_202001\n",
      "developerId_202001\n",
      "developerWebsite_202001\n",
      "developerEmail_202001\n",
      "developerAddress_202001\n",
      "offersIAP_202001\n",
      "appId_202001\n",
      "contentRating_202001\n",
      "title_202003\n",
      "description_202003\n",
      "summary_202003\n",
      "minInstalls_202003\n",
      "score_202003\n",
      "ratings_202003\n",
      "reviews_202003\n",
      "histogram_202003\n",
      "price_202003\n",
      "free_202003\n",
      "currency_202003\n",
      "size_202003\n",
      "developer_202003\n",
      "genreId_202003\n",
      "adSupported_202003\n",
      "containsAds_202003\n",
      "released_202003\n",
      "updated_202003\n",
      "comments_202003\n",
      "developerId_202003\n",
      "developerWebsite_202003\n",
      "developerEmail_202003\n",
      "developerAddress_202003\n",
      "offersIAP_202003\n",
      "appId_202003\n",
      "contentRating_202003\n",
      "title_202004\n",
      "description_202004\n",
      "summary_202004\n",
      "minInstalls_202004\n",
      "score_202004\n",
      "ratings_202004\n",
      "reviews_202004\n",
      "histogram_202004\n",
      "price_202004\n",
      "free_202004\n",
      "currency_202004\n",
      "size_202004\n",
      "developer_202004\n",
      "genreId_202004\n",
      "adSupported_202004\n",
      "containsAds_202004\n",
      "released_202004\n",
      "updated_202004\n",
      "comments_202004\n",
      "developerId_202004\n",
      "developerWebsite_202004\n",
      "developerEmail_202004\n",
      "developerAddress_202004\n",
      "offersIAP_202004\n",
      "appId_202004\n",
      "contentRating_202004\n",
      "title_202009\n",
      "description_202009\n",
      "summary_202009\n",
      "minInstalls_202009\n",
      "score_202009\n",
      "ratings_202009\n",
      "reviews_202009\n",
      "histogram_202009\n",
      "price_202009\n",
      "free_202009\n",
      "currency_202009\n",
      "offersIAP_202009\n",
      "inAppProductPrice_202009\n",
      "size_202009\n",
      "developer_202009\n",
      "developerId_202009\n",
      "developerEmail_202009\n",
      "developerWebsite_202009\n",
      "developerAddress_202009\n",
      "genreId_202009\n",
      "contentRating_202009\n",
      "adSupported_202009\n",
      "containsAds_202009\n",
      "released_202009\n",
      "updated_202009\n",
      "comments_202009\n",
      "appId_202009\n",
      "title_202010\n",
      "description_202010\n",
      "summary_202010\n",
      "minInstalls_202010\n",
      "score_202010\n",
      "ratings_202010\n",
      "reviews_202010\n",
      "histogram_202010\n",
      "price_202010\n",
      "free_202010\n",
      "currency_202010\n",
      "offersIAP_202010\n",
      "inAppProductPrice_202010\n",
      "size_202010\n",
      "developer_202010\n",
      "developerId_202010\n",
      "developerEmail_202010\n",
      "developerWebsite_202010\n",
      "developerAddress_202010\n",
      "genreId_202010\n",
      "contentRating_202010\n",
      "adSupported_202010\n",
      "containsAds_202010\n",
      "released_202010\n",
      "updated_202010\n",
      "comments_202010\n",
      "appId_202010\n",
      "title_202011\n",
      "description_202011\n",
      "summary_202011\n",
      "minInstalls_202011\n",
      "score_202011\n",
      "ratings_202011\n",
      "reviews_202011\n",
      "histogram_202011\n",
      "price_202011\n",
      "free_202011\n",
      "currency_202011\n",
      "offersIAP_202011\n",
      "inAppProductPrice_202011\n",
      "size_202011\n",
      "developer_202011\n",
      "developerId_202011\n",
      "developerEmail_202011\n",
      "developerWebsite_202011\n",
      "developerAddress_202011\n",
      "genreId_202011\n",
      "contentRating_202011\n",
      "adSupported_202011\n",
      "containsAds_202011\n",
      "released_202011\n",
      "updated_202011\n",
      "comments_202011\n",
      "appId_202011\n",
      "title_202012\n",
      "description_202012\n",
      "summary_202012\n",
      "minInstalls_202012\n",
      "score_202012\n",
      "ratings_202012\n",
      "reviews_202012\n",
      "histogram_202012\n",
      "price_202012\n",
      "free_202012\n",
      "currency_202012\n",
      "offersIAP_202012\n",
      "inAppProductPrice_202012\n",
      "size_202012\n",
      "developer_202012\n",
      "developerId_202012\n",
      "developerEmail_202012\n",
      "developerWebsite_202012\n",
      "developerAddress_202012\n",
      "genreId_202012\n",
      "contentRating_202012\n",
      "adSupported_202012\n",
      "containsAds_202012\n",
      "released_202012\n",
      "updated_202012\n",
      "comments_202012\n",
      "appId_202012\n",
      "title_202101\n",
      "description_202101\n",
      "summary_202101\n",
      "minInstalls_202101\n",
      "score_202101\n",
      "ratings_202101\n",
      "reviews_202101\n",
      "histogram_202101\n",
      "price_202101\n",
      "free_202101\n",
      "currency_202101\n",
      "offersIAP_202101\n",
      "inAppProductPrice_202101\n",
      "size_202101\n",
      "developer_202101\n",
      "developerId_202101\n",
      "developerEmail_202101\n",
      "developerWebsite_202101\n",
      "developerAddress_202101\n",
      "genreId_202101\n",
      "contentRating_202101\n",
      "adSupported_202101\n",
      "containsAds_202101\n",
      "released_202101\n",
      "updated_202101\n",
      "comments_202101\n",
      "appId_202101\n",
      "title_202102\n",
      "description_202102\n",
      "summary_202102\n",
      "minInstalls_202102\n",
      "score_202102\n",
      "ratings_202102\n",
      "reviews_202102\n",
      "histogram_202102\n",
      "price_202102\n",
      "free_202102\n",
      "currency_202102\n",
      "offersIAP_202102\n",
      "inAppProductPrice_202102\n",
      "size_202102\n",
      "developer_202102\n",
      "developerId_202102\n",
      "developerEmail_202102\n",
      "developerWebsite_202102\n",
      "developerAddress_202102\n",
      "genreId_202102\n",
      "contentRating_202102\n",
      "adSupported_202102\n",
      "containsAds_202102\n",
      "released_202102\n",
      "updated_202102\n",
      "comments_202102\n",
      "appId_202102\n"
     ]
    },
    {
     "data": {
      "text/plain": "Index(['title_201907', 'description_201907', 'summary_201907',\n       'minInstalls_201907', 'score_201907', 'ratings_201907',\n       'reviews_201907', 'histogram_201907', 'price_201907', 'free_201907',\n       ...\n       'developerWebsite_202102', 'developerAddress_202102', 'genreId_202102',\n       'contentRating_202102', 'adSupported_202102', 'containsAds_202102',\n       'released_202102', 'updated_202102', 'comments_202102', 'appId_202102'],\n      dtype='object', length=344)"
     },
     "execution_count": 10,
     "metadata": {},
     "output_type": "execute_result"
    }
   ],
   "source": [
    "new_class_obj.print_col_names()"
   ],
   "metadata": {
    "collapsed": false,
    "pycharm": {
     "name": "#%%\n"
    }
   }
  },
  {
   "cell_type": "code",
   "execution_count": 4,
   "outputs": [
    {
     "name": "stdout",
     "output_type": "stream",
     "text": [
      "                      count missing\n",
      "free_201907           3            \n",
      "free_201908           3            \n",
      "free_201909           3            \n",
      "free_201912           3            \n",
      "free_202001           3            \n",
      "free_202003           3            \n",
      "free_202004           3            \n",
      "free_202009           50           \n",
      "free_202010           113          \n",
      "free_202011           167          \n",
      "free_202012           287          \n",
      "free_202101           336          \n",
      "free_202102           396          \n",
      "contentRating_201907  3            \n",
      "contentRating_201908  3            \n",
      "contentRating_201909  3            \n",
      "contentRating_201912  3            \n",
      "contentRating_202001  3            \n",
      "contentRating_202003  3            \n",
      "contentRating_202004  3            \n",
      "contentRating_202009  50           \n",
      "contentRating_202010  113          \n",
      "contentRating_202011  167          \n",
      "contentRating_202012  287          \n",
      "contentRating_202101  336          \n",
      "contentRating_202102  396          \n",
      "genreId_201907        25           \n",
      "genreId_201908        25           \n",
      "genreId_201909        25           \n",
      "genreId_201912        25           \n",
      "genreId_202001        25           \n",
      "genreId_202003        25           \n",
      "genreId_202004        25           \n",
      "genreId_202009        50           \n",
      "genreId_202010        113          \n",
      "genreId_202011        167          \n",
      "genreId_202012        287          \n",
      "genreId_202101        336          \n",
      "genreId_202102        396          \n",
      "containsAds_201907    6104         \n",
      "containsAds_201908    6104         \n",
      "containsAds_201909    6104         \n",
      "containsAds_201912    6104         \n",
      "containsAds_202001    6104         \n",
      "containsAds_202003    6104         \n",
      "containsAds_202004    6104         \n",
      "containsAds_202009    50           \n",
      "containsAds_202010    113          \n",
      "containsAds_202011    167          \n",
      "containsAds_202012    287          \n",
      "containsAds_202101    336          \n",
      "containsAds_202102    396          \n",
      "offersIAP_201907      5123         \n",
      "offersIAP_201908      5123         \n",
      "offersIAP_201909      5123         \n",
      "offersIAP_201912      5123         \n",
      "offersIAP_202001      5123         \n",
      "offersIAP_202003      5123         \n",
      "offersIAP_202004      5123         \n",
      "offersIAP_202009      50           \n",
      "offersIAP_202010      113          \n",
      "offersIAP_202011      167          \n",
      "offersIAP_202012      287          \n",
      "offersIAP_202101      336          \n",
      "offersIAP_202102      396          \n",
      "adSupported_201907    6104         \n",
      "adSupported_201908    6104         \n",
      "adSupported_201909    6104         \n",
      "adSupported_201912    6104         \n",
      "adSupported_202001    6104         \n",
      "adSupported_202003    6104         \n",
      "adSupported_202004    6104         \n",
      "adSupported_202009    6086         \n",
      "adSupported_202010    6112         \n",
      "adSupported_202011    6118         \n",
      "adSupported_202012    6159         \n",
      "adSupported_202101    6160         \n",
      "adSupported_202102    6181         \n",
      "containsAds_201907    6104         \n",
      "containsAds_201908    6104         \n",
      "containsAds_201909    6104         \n",
      "containsAds_201912    6104         \n",
      "containsAds_202001    6104         \n",
      "containsAds_202003    6104         \n",
      "containsAds_202004    6104         \n",
      "containsAds_202009    50           \n",
      "containsAds_202010    113          \n",
      "containsAds_202011    167          \n",
      "containsAds_202012    287          \n",
      "containsAds_202101    336          \n",
      "containsAds_202102    396          \n",
      "offersIAP_201907      5123         \n",
      "offersIAP_201908      5123         \n",
      "offersIAP_201909      5123         \n",
      "offersIAP_201912      5123         \n",
      "offersIAP_202001      5123         \n",
      "offersIAP_202003      5123         \n",
      "offersIAP_202004      5123         \n",
      "offersIAP_202009      50           \n",
      "offersIAP_202010      113          \n",
      "offersIAP_202011      167          \n",
      "offersIAP_202012      287          \n",
      "offersIAP_202101      336          \n",
      "offersIAP_202102      396          \n"
     ]
    }
   ],
   "source": [
    "vars_to_count_missing = ['free', 'contentRating', 'genreId',\n",
    "                          'containsAds', 'offersIAP',\n",
    "                         'adSupported','containsAds', 'offersIAP']\n",
    "missingdf = new_class_obj.count_missing(var_list=vars_to_count_missing)\n",
    "print(missingdf)"
   ],
   "metadata": {
    "collapsed": false,
    "pycharm": {
     "name": "#%%\n"
    }
   }
  },
  {
   "cell_type": "code",
   "execution_count": 7,
   "outputs": [
    {
     "name": "stdout",
     "output_type": "stream",
     "text": [
      "number of apps with at least 2 consecutive missing panels for genreId are 339\n",
      "out of 10576 apps.\n",
      "(13, 339)\n"
     ]
    }
   ],
   "source": [
    "# test cell for imputing free\n",
    "# missing before imputing\n",
    "missing_df, missing_appids = new_class_obj.check_apps_with_consecutive_missing_panels(\n",
    "    var='genreId',\n",
    "    number_consec_panels_missing=2)\n",
    "print(missing_df.shape)"
   ],
   "metadata": {
    "collapsed": false,
    "pycharm": {
     "name": "#%%\n"
    }
   }
  },
  {
   "cell_type": "code",
   "execution_count": 8,
   "outputs": [],
   "source": [
    "# test cell for imputing free\n",
    "imputed_cols = new_class_obj.impute_missing_using_adj_panels(\n",
    "            var='genreId',\n",
    "            adj_panels=7,\n",
    "            method='mode')\n",
    "IMPUTED_DF = new_class_obj.replace_cols(new_cols=imputed_cols)\n",
    "new_class_obj = pre_processing(\n",
    "                  df=IMPUTED_DF,\n",
    "                  df_index = 'appid',\n",
    "                  initial_panel=initial_panel,\n",
    "                  all_panels=all_panels,\n",
    "                  consec_panels=consec_panels)\n"
   ],
   "metadata": {
    "collapsed": false,
    "pycharm": {
     "name": "#%%\n"
    }
   }
  },
  {
   "cell_type": "code",
   "execution_count": 174,
   "outputs": [
    {
     "name": "stdout",
     "output_type": "stream",
     "text": [
      "                               count missing\n",
      "minInstalls_201907             25           \n",
      "minInstalls_201908             25           \n",
      "minInstalls_201909             25           \n",
      "minInstalls_201912             25           \n",
      "minInstalls_202001             25           \n",
      "minInstalls_202003             25           \n",
      "minInstalls_202004             25           \n",
      "minInstalls_202009             50           \n",
      "minInstalls_202010             113          \n",
      "minInstalls_202011             167          \n",
      "minInstalls_202012             287          \n",
      "minInstalls_202101             336          \n",
      "minInstalls_202102             396          \n",
      "score_201907                   8            \n",
      "score_201908                   8            \n",
      "score_201909                   8            \n",
      "score_201912                   8            \n",
      "score_202001                   8            \n",
      "score_202003                   8            \n",
      "score_202004                   8            \n",
      "score_202009                   54           \n",
      "score_202010                   116          \n",
      "score_202011                   170          \n",
      "score_202012                   290          \n",
      "score_202101                   339          \n",
      "score_202102                   399          \n",
      "reviews_201907                 6            \n",
      "reviews_201908                 6            \n",
      "reviews_201909                 6            \n",
      "reviews_201912                 6            \n",
      "reviews_202001                 6            \n",
      "reviews_202003                 6            \n",
      "reviews_202004                 6            \n",
      "reviews_202009                 54           \n",
      "reviews_202010                 116          \n",
      "reviews_202011                 170          \n",
      "reviews_202012                 290          \n",
      "reviews_202101                 339          \n",
      "reviews_202102                 399          \n",
      "ratings_201907                 28           \n",
      "ratings_201908                 28           \n",
      "ratings_201909                 28           \n",
      "ratings_201912                 28           \n",
      "ratings_202001                 28           \n",
      "ratings_202003                 28           \n",
      "ratings_202004                 28           \n",
      "ratings_202009                 385          \n",
      "ratings_202010                 432          \n",
      "ratings_202011                 479          \n",
      "ratings_202012                 584          \n",
      "ratings_202101                 621          \n",
      "ratings_202102                 673          \n",
      "price_201907                   3            \n",
      "price_201908                   3            \n",
      "price_201909                   3            \n",
      "price_201912                   3            \n",
      "price_202001                   3            \n",
      "price_202003                   3            \n",
      "price_202004                   3            \n",
      "price_202009                   50           \n",
      "price_202010                   113          \n",
      "price_202011                   167          \n",
      "price_202012                   287          \n",
      "price_202101                   336          \n",
      "price_202102                   396          \n",
      "description_201907             8            \n",
      "description_201908             8            \n",
      "description_201909             8            \n",
      "description_201912             8            \n",
      "description_202001             8            \n",
      "description_202003             8            \n",
      "description_202004             8            \n",
      "description_202009             50           \n",
      "description_202010             113          \n",
      "description_202011             167          \n",
      "description_202012             287          \n",
      "description_202101             336          \n",
      "description_202102             396          \n",
      "released_201907                140          \n",
      "released_201908                140          \n",
      "released_201909                140          \n",
      "released_201912                140          \n",
      "released_202001                140          \n",
      "released_202003                140          \n",
      "released_202004                140          \n",
      "released_202009                165          \n",
      "released_202010                226          \n",
      "released_202011                281          \n",
      "released_202012                401          \n",
      "released_202101                449          \n",
      "released_202102                509          \n",
      "updated_201907                 3            \n",
      "updated_201908                 3            \n",
      "updated_201909                 3            \n",
      "updated_201912                 3            \n",
      "updated_202001                 3            \n",
      "updated_202003                 3            \n",
      "updated_202004                 3            \n",
      "updated_202009                 50           \n",
      "updated_202010                 113          \n",
      "updated_202011                 167          \n",
      "updated_202012                 287          \n",
      "updated_202101                 336          \n",
      "updated_202102                 396          \n",
      "size_201907                    1670         \n",
      "size_201908                    1670         \n",
      "size_201909                    1670         \n",
      "size_201912                    1670         \n",
      "size_202001                    1670         \n",
      "size_202003                    1670         \n",
      "size_202004                    1670         \n",
      "size_202009                    1738         \n",
      "size_202010                    1797         \n",
      "size_202011                    1831         \n",
      "size_202012                    1936         \n",
      "size_202101                    1966         \n",
      "size_202102                    2000         \n",
      "free_True_201907               0            \n",
      "free_True_201908               0            \n",
      "free_True_201909               0            \n",
      "free_True_201912               0            \n",
      "free_True_202001               0            \n",
      "free_True_202003               0            \n",
      "free_True_202004               0            \n",
      "free_True_202009               0            \n",
      "free_True_202010               0            \n",
      "free_True_202011               0            \n",
      "free_True_202012               0            \n",
      "free_True_202101               0            \n",
      "free_True_202102               0            \n",
      "adSupported_True_201907        0            \n",
      "adSupported_True_201908        0            \n",
      "adSupported_True_201909        0            \n",
      "adSupported_True_201912        0            \n",
      "adSupported_True_202001        0            \n",
      "adSupported_True_202003        0            \n",
      "adSupported_True_202004        0            \n",
      "adSupported_True_202009        0            \n",
      "adSupported_True_202010        0            \n",
      "adSupported_True_202011        0            \n",
      "adSupported_True_202012        0            \n",
      "adSupported_True_202101        0            \n",
      "adSupported_True_202102        0            \n",
      "containsAds_True_201907        0            \n",
      "containsAds_True_201908        0            \n",
      "containsAds_True_201909        0            \n",
      "containsAds_True_201912        0            \n",
      "containsAds_True_202001        0            \n",
      "containsAds_True_202003        0            \n",
      "containsAds_True_202004        0            \n",
      "containsAds_True_202009        0            \n",
      "containsAds_True_202010        0            \n",
      "containsAds_True_202011        0            \n",
      "containsAds_True_202012        0            \n",
      "containsAds_True_202101        0            \n",
      "containsAds_True_202102        0            \n",
      "offersIAP_True_201907          0            \n",
      "offersIAP_True_201908          0            \n",
      "offersIAP_True_201909          0            \n",
      "offersIAP_True_201912          0            \n",
      "offersIAP_True_202001          0            \n",
      "offersIAP_True_202003          0            \n",
      "offersIAP_True_202004          0            \n",
      "offersIAP_True_202009          0            \n",
      "offersIAP_True_202010          0            \n",
      "offersIAP_True_202011          0            \n",
      "offersIAP_True_202012          0            \n",
      "offersIAP_True_202101          0            \n",
      "offersIAP_True_202102          0            \n",
      "contentRating_Adult_201907     0            \n",
      "contentRating_Adult_201908     0            \n",
      "contentRating_Adult_201909     0            \n",
      "contentRating_Adult_201912     0            \n",
      "contentRating_Adult_202001     0            \n",
      "contentRating_Adult_202003     0            \n",
      "contentRating_Adult_202004     0            \n",
      "contentRating_Adult_202009     0            \n",
      "contentRating_Adult_202010     0            \n",
      "contentRating_Adult_202011     0            \n",
      "contentRating_Adult_202012     0            \n",
      "contentRating_Adult_202101     0            \n",
      "contentRating_Adult_202102     0            \n",
      "contentRating_Everyone_201907  0            \n",
      "contentRating_Everyone_201908  0            \n",
      "contentRating_Everyone_201909  0            \n",
      "contentRating_Everyone_201912  0            \n",
      "contentRating_Everyone_202001  0            \n",
      "contentRating_Everyone_202003  0            \n",
      "contentRating_Everyone_202004  0            \n",
      "contentRating_Everyone_202009  0            \n",
      "contentRating_Everyone_202010  0            \n",
      "contentRating_Everyone_202011  0            \n",
      "contentRating_Everyone_202012  0            \n",
      "contentRating_Everyone_202101  0            \n",
      "contentRating_Everyone_202102  0            \n",
      "contentRating_Teen_201907      0            \n",
      "contentRating_Teen_201908      0            \n",
      "contentRating_Teen_201909      0            \n",
      "contentRating_Teen_201912      0            \n",
      "contentRating_Teen_202001      0            \n",
      "contentRating_Teen_202003      0            \n",
      "contentRating_Teen_202004      0            \n",
      "contentRating_Teen_202009      0            \n",
      "contentRating_Teen_202010      0            \n",
      "contentRating_Teen_202011      0            \n",
      "contentRating_Teen_202012      0            \n",
      "contentRating_Teen_202101      0            \n",
      "contentRating_Teen_202102      0            \n",
      "genreId_Entertainment_201907   0            \n",
      "genreId_Entertainment_201908   0            \n",
      "genreId_Entertainment_201909   0            \n",
      "genreId_Entertainment_201912   0            \n",
      "genreId_Entertainment_202001   0            \n",
      "genreId_Entertainment_202003   0            \n",
      "genreId_Entertainment_202004   0            \n",
      "genreId_Entertainment_202009   0            \n",
      "genreId_Entertainment_202010   0            \n",
      "genreId_Entertainment_202011   0            \n",
      "genreId_Entertainment_202012   0            \n",
      "genreId_Entertainment_202101   0            \n",
      "genreId_Entertainment_202102   0            \n",
      "genreId_Game_201907            0            \n",
      "genreId_Game_201908            0            \n",
      "genreId_Game_201909            0            \n",
      "genreId_Game_201912            0            \n",
      "genreId_Game_202001            0            \n",
      "genreId_Game_202003            0            \n",
      "genreId_Game_202004            0            \n",
      "genreId_Game_202009            0            \n",
      "genreId_Game_202010            0            \n",
      "genreId_Game_202011            0            \n",
      "genreId_Game_202012            0            \n",
      "genreId_Game_202101            0            \n",
      "genreId_Game_202102            0            \n",
      "genreId_Productivity_201907    0            \n",
      "genreId_Productivity_201908    0            \n",
      "genreId_Productivity_201909    0            \n",
      "genreId_Productivity_201912    0            \n",
      "genreId_Productivity_202001    0            \n",
      "genreId_Productivity_202003    0            \n",
      "genreId_Productivity_202004    0            \n",
      "genreId_Productivity_202009    0            \n",
      "genreId_Productivity_202010    0            \n",
      "genreId_Productivity_202011    0            \n",
      "genreId_Productivity_202012    0            \n",
      "genreId_Productivity_202101    0            \n",
      "genreId_Productivity_202102    0            \n"
     ]
    }
   ],
   "source": [
    "missingdf = new_class_obj.count_missing(var_list=['minInstalls', 'score', 'reviews',\n",
    "                                                  'ratings', 'price', 'description',\n",
    "                                                  'released', 'updated', 'size', 'free_True', 'adSupported_True',\n",
    "                                                  'containsAds_True', 'offersIAP_True', 'contentRating_Adult',\n",
    "                                                  'contentRating_Everyone', 'contentRating_Teen',\n",
    "                                                  'genreId_Entertainment', 'genreId_Game',\n",
    "                                                  'genreId_Productivity'])\n",
    "print(missingdf)"
   ],
   "metadata": {
    "collapsed": false,
    "pycharm": {
     "name": "#%%\n"
    }
   }
  },
  {
   "cell_type": "code",
   "execution_count": 3,
   "outputs": [
    {
     "name": "stdout",
     "output_type": "stream",
     "text": [
      "number of apps with at least 6 consecutive missing panels for size are 1849\n",
      "out of 10576 apps.\n",
      "(13, 1849)\n"
     ]
    }
   ],
   "source": [
    "missing_df, missing_appids = new_class_obj.check_apps_with_consecutive_missing_panels(\n",
    "    var='size',\n",
    "    number_consec_panels_missing=6)\n",
    "print(missing_df.shape)"
   ],
   "metadata": {
    "collapsed": false,
    "pycharm": {
     "name": "#%%\n"
    }
   }
  },
  {
   "cell_type": "code",
   "execution_count": 175,
   "outputs": [
    {
     "data": {
      "text/plain": "                                size_201907  size_201908  size_201909  \\\ncom.redberry.glitterlips        33.0         33.0         33.0          \nzonek.design.paintbynumbers     58.0         58.0         58.0          \ncom.piupiuapps.hairstylesgirls  16.0         16.0         16.0          \n\n                                size_201912  size_202001  size_202003  \\\ncom.redberry.glitterlips        33.0         33.0         33.0          \nzonek.design.paintbynumbers     58.0         58.0         58.0          \ncom.piupiuapps.hairstylesgirls  16.0         16.0         16.0          \n\n                                size_202004  size_202009  size_202010  \\\ncom.redberry.glitterlips        33.0         33.0         33.0          \nzonek.design.paintbynumbers     58.0         58.0         58.0          \ncom.piupiuapps.hairstylesgirls  16.0         15.0        NaN            \n\n                                size_202011  size_202012  size_202101  \\\ncom.redberry.glitterlips        33.0         34.0        NaN            \nzonek.design.paintbynumbers     58.0        NaN          NaN            \ncom.piupiuapps.hairstylesgirls NaN          NaN          NaN            \n\n                                size_202102  \ncom.redberry.glitterlips        34.0         \nzonek.design.paintbynumbers    NaN           \ncom.piupiuapps.hairstylesgirls NaN           ",
      "text/html": "<div>\n<style scoped>\n    .dataframe tbody tr th:only-of-type {\n        vertical-align: middle;\n    }\n\n    .dataframe tbody tr th {\n        vertical-align: top;\n    }\n\n    .dataframe thead th {\n        text-align: right;\n    }\n</style>\n<table border=\"1\" class=\"dataframe\">\n  <thead>\n    <tr style=\"text-align: right;\">\n      <th></th>\n      <th>size_201907</th>\n      <th>size_201908</th>\n      <th>size_201909</th>\n      <th>size_201912</th>\n      <th>size_202001</th>\n      <th>size_202003</th>\n      <th>size_202004</th>\n      <th>size_202009</th>\n      <th>size_202010</th>\n      <th>size_202011</th>\n      <th>size_202012</th>\n      <th>size_202101</th>\n      <th>size_202102</th>\n    </tr>\n  </thead>\n  <tbody>\n    <tr>\n      <th>com.redberry.glitterlips</th>\n      <td>33.0</td>\n      <td>33.0</td>\n      <td>33.0</td>\n      <td>33.0</td>\n      <td>33.0</td>\n      <td>33.0</td>\n      <td>33.0</td>\n      <td>33.0</td>\n      <td>33.0</td>\n      <td>33.0</td>\n      <td>34.0</td>\n      <td>NaN</td>\n      <td>34.0</td>\n    </tr>\n    <tr>\n      <th>zonek.design.paintbynumbers</th>\n      <td>58.0</td>\n      <td>58.0</td>\n      <td>58.0</td>\n      <td>58.0</td>\n      <td>58.0</td>\n      <td>58.0</td>\n      <td>58.0</td>\n      <td>58.0</td>\n      <td>58.0</td>\n      <td>58.0</td>\n      <td>NaN</td>\n      <td>NaN</td>\n      <td>NaN</td>\n    </tr>\n    <tr>\n      <th>com.piupiuapps.hairstylesgirls</th>\n      <td>16.0</td>\n      <td>16.0</td>\n      <td>16.0</td>\n      <td>16.0</td>\n      <td>16.0</td>\n      <td>16.0</td>\n      <td>16.0</td>\n      <td>15.0</td>\n      <td>NaN</td>\n      <td>NaN</td>\n      <td>NaN</td>\n      <td>NaN</td>\n      <td>NaN</td>\n    </tr>\n  </tbody>\n</table>\n</div>"
     },
     "execution_count": 175,
     "metadata": {},
     "output_type": "execute_result"
    }
   ],
   "source": [
    "# reproduce the method impute_missing_using_adj_panels\n",
    "cols = []\n",
    "for i in new_class_obj.df.columns:\n",
    "    if 'size_' in i:\n",
    "        cols.append(i)\n",
    "test_df = new_class_obj.df[cols]\n",
    "test_df = test_df.loc[['com.redberry.glitterlips',\n",
    "         'zonek.design.paintbynumbers',\n",
    "         'com.piupiuapps.hairstylesgirls']]\n",
    "test_df"
   ],
   "metadata": {
    "collapsed": false,
    "pycharm": {
     "name": "#%%\n"
    }
   }
  },
  {
   "cell_type": "markdown",
   "source": [
    "# test block for NLP pipeline\n",
    "Similar to geocode, this is an independent block, after imputation and deletion, you could simply merge\n",
    "this new var cols to the original dataframe"
   ],
   "metadata": {
    "collapsed": false,
    "pycharm": {
     "name": "#%% md\n"
    }
   }
  },
  {
   "cell_type": "code",
   "execution_count": 8,
   "outputs": [
    {
     "ename": "FileNotFoundError",
     "evalue": "[Errno 2] No such file or directory: '/home/naixin/Insync/naixin88@sina.cn/OneDrive/_____GWU_ECON_PHD_____/___Dissertation___/____WEB_SCRAPER____/__PANELS__/201907_MERGED.pickle'",
     "output_type": "error",
     "traceback": [
      "\u001B[0;31m---------------------------------------------------------------------------\u001B[0m",
      "\u001B[0;31mFileNotFoundError\u001B[0m                         Traceback (most recent call last)",
      "\u001B[0;32m~/Insync/naixin88@sina.cn/OneDrive/__CODING__/PycharmProjects/GOOGLE_PLAY/scripts/STEP3_NLP_pipeline.py\u001B[0m in \u001B[0;36m<module>\u001B[0;34m\u001B[0m\n\u001B[1;32m      4\u001B[0m \u001B[0minitial_panel\u001B[0m\u001B[0;34m=\u001B[0m\u001B[0;34m'201907'\u001B[0m\u001B[0;34m\u001B[0m\u001B[0;34m\u001B[0m\u001B[0m\n\u001B[1;32m      5\u001B[0m \u001B[0mo\u001B[0m \u001B[0;34m=\u001B[0m \u001B[0mopen_files\u001B[0m\u001B[0;34m(\u001B[0m\u001B[0minitial_panel\u001B[0m\u001B[0;34m=\u001B[0m\u001B[0minitial_panel\u001B[0m\u001B[0;34m)\u001B[0m\u001B[0;34m\u001B[0m\u001B[0;34m\u001B[0m\u001B[0m\n\u001B[0;32m----> 6\u001B[0;31m \u001B[0mDF\u001B[0m \u001B[0;34m=\u001B[0m \u001B[0mo\u001B[0m\u001B[0;34m.\u001B[0m\u001B[0mopen_panel_df\u001B[0m\u001B[0;34m(\u001B[0m\u001B[0mname\u001B[0m\u001B[0;34m=\u001B[0m\u001B[0;34m'MERGED'\u001B[0m\u001B[0;34m)\u001B[0m\u001B[0;34m\u001B[0m\u001B[0;34m\u001B[0m\u001B[0m\n\u001B[0m\u001B[1;32m      7\u001B[0m all_panels = ['201907',\n\u001B[1;32m      8\u001B[0m               \u001B[0;34m'201908'\u001B[0m\u001B[0;34m,\u001B[0m\u001B[0;34m\u001B[0m\u001B[0;34m\u001B[0m\u001B[0m\n",
      "\u001B[0;32m~/Insync/naixin88@sina.cn/OneDrive/__CODING__/PycharmProjects/GOOGLE_PLAY/scripts/STEP3_NLP_pipeline.py\u001B[0m in \u001B[0;36mopen_panel_df\u001B[0;34m(self, name)\u001B[0m\n\u001B[1;32m     40\u001B[0m         \u001B[0mf_name\u001B[0m \u001B[0;34m=\u001B[0m \u001B[0mself\u001B[0m\u001B[0;34m.\u001B[0m\u001B[0minitial_panel\u001B[0m \u001B[0;34m+\u001B[0m \u001B[0;34m'_'\u001B[0m \u001B[0;34m+\u001B[0m \u001B[0mname\u001B[0m \u001B[0;34m+\u001B[0m \u001B[0;34m'.pickle'\u001B[0m\u001B[0;34m\u001B[0m\u001B[0;34m\u001B[0m\u001B[0m\n\u001B[1;32m     41\u001B[0m         \u001B[0mq\u001B[0m \u001B[0;34m=\u001B[0m \u001B[0msuper\u001B[0m\u001B[0;34m(\u001B[0m\u001B[0;34m)\u001B[0m\u001B[0;34m.\u001B[0m\u001B[0minput_path\u001B[0m \u001B[0;34m/\u001B[0m \u001B[0;34m'__PANELS__'\u001B[0m \u001B[0;34m/\u001B[0m \u001B[0mf_name\u001B[0m\u001B[0;34m\u001B[0m\u001B[0;34m\u001B[0m\u001B[0m\n\u001B[0;32m---> 42\u001B[0;31m         \u001B[0mdf\u001B[0m \u001B[0;34m=\u001B[0m \u001B[0mpd\u001B[0m\u001B[0;34m.\u001B[0m\u001B[0mread_pickle\u001B[0m\u001B[0;34m(\u001B[0m\u001B[0mq\u001B[0m\u001B[0;34m)\u001B[0m\u001B[0;34m\u001B[0m\u001B[0;34m\u001B[0m\u001B[0m\n\u001B[0m\u001B[1;32m     43\u001B[0m         \u001B[0;32mreturn\u001B[0m \u001B[0mdf\u001B[0m\u001B[0;34m\u001B[0m\u001B[0;34m\u001B[0m\u001B[0m\n\u001B[1;32m     44\u001B[0m \u001B[0;34m\u001B[0m\u001B[0m\n",
      "\u001B[0;32m~/anaconda3/envs/GOOGLE_PLAY/lib/python3.8/site-packages/pandas/io/pickle.py\u001B[0m in \u001B[0;36mread_pickle\u001B[0;34m(filepath_or_buffer, compression, storage_options)\u001B[0m\n\u001B[1;32m    183\u001B[0m     \"\"\"\n\u001B[1;32m    184\u001B[0m     \u001B[0mexcs_to_catch\u001B[0m \u001B[0;34m=\u001B[0m \u001B[0;34m(\u001B[0m\u001B[0mAttributeError\u001B[0m\u001B[0;34m,\u001B[0m \u001B[0mImportError\u001B[0m\u001B[0;34m,\u001B[0m \u001B[0mModuleNotFoundError\u001B[0m\u001B[0;34m,\u001B[0m \u001B[0mTypeError\u001B[0m\u001B[0;34m)\u001B[0m\u001B[0;34m\u001B[0m\u001B[0;34m\u001B[0m\u001B[0m\n\u001B[0;32m--> 185\u001B[0;31m     with get_handle(\n\u001B[0m\u001B[1;32m    186\u001B[0m         \u001B[0mfilepath_or_buffer\u001B[0m\u001B[0;34m,\u001B[0m\u001B[0;34m\u001B[0m\u001B[0;34m\u001B[0m\u001B[0m\n\u001B[1;32m    187\u001B[0m         \u001B[0;34m\"rb\"\u001B[0m\u001B[0;34m,\u001B[0m\u001B[0;34m\u001B[0m\u001B[0;34m\u001B[0m\u001B[0m\n",
      "\u001B[0;32m~/anaconda3/envs/GOOGLE_PLAY/lib/python3.8/site-packages/pandas/io/common.py\u001B[0m in \u001B[0;36mget_handle\u001B[0;34m(path_or_buf, mode, encoding, compression, memory_map, is_text, errors, storage_options)\u001B[0m\n\u001B[1;32m    649\u001B[0m         \u001B[0;32melse\u001B[0m\u001B[0;34m:\u001B[0m\u001B[0;34m\u001B[0m\u001B[0;34m\u001B[0m\u001B[0m\n\u001B[1;32m    650\u001B[0m             \u001B[0;31m# Binary mode\u001B[0m\u001B[0;34m\u001B[0m\u001B[0;34m\u001B[0m\u001B[0;34m\u001B[0m\u001B[0m\n\u001B[0;32m--> 651\u001B[0;31m             \u001B[0mhandle\u001B[0m \u001B[0;34m=\u001B[0m \u001B[0mopen\u001B[0m\u001B[0;34m(\u001B[0m\u001B[0mhandle\u001B[0m\u001B[0;34m,\u001B[0m \u001B[0mioargs\u001B[0m\u001B[0;34m.\u001B[0m\u001B[0mmode\u001B[0m\u001B[0;34m)\u001B[0m\u001B[0;34m\u001B[0m\u001B[0;34m\u001B[0m\u001B[0m\n\u001B[0m\u001B[1;32m    652\u001B[0m         \u001B[0mhandles\u001B[0m\u001B[0;34m.\u001B[0m\u001B[0mappend\u001B[0m\u001B[0;34m(\u001B[0m\u001B[0mhandle\u001B[0m\u001B[0;34m)\u001B[0m\u001B[0;34m\u001B[0m\u001B[0;34m\u001B[0m\u001B[0m\n\u001B[1;32m    653\u001B[0m \u001B[0;34m\u001B[0m\u001B[0m\n",
      "\u001B[0;31mFileNotFoundError\u001B[0m: [Errno 2] No such file or directory: '/home/naixin/Insync/naixin88@sina.cn/OneDrive/_____GWU_ECON_PHD_____/___Dissertation___/____WEB_SCRAPER____/__PANELS__/201907_MERGED.pickle'"
     ]
    }
   ],
   "source": [
    "%run -i 'STEP0_paths_open_save.py'\n",
    "%run -i 'STEP3_NLP_pipeline.py'\n",
    "\n",
    "initial_panel='201907'\n",
    "o = open_files(initial_panel=initial_panel)\n",
    "DF = o.open_panel_df(name='MERGED')\n",
    "all_panels = ['201907',\n",
    "              '201908',\n",
    "              '201909',\n",
    "              '201912',\n",
    "              '202001',\n",
    "              '202003',\n",
    "              '202004',\n",
    "              '202009',\n",
    "              '202010',\n",
    "              '202011',\n",
    "              '202012',\n",
    "              '202101',\n",
    "              '202102',\n",
    "              '202103']\n",
    "consec_panels = ['202009', '202010', '202011', '202012', '202101', '202102',\n",
    "                 '202103']\n",
    "new_class_obj = nlp_pipeline(\n",
    "                  df=DF,\n",
    "                  text_col_name='description',\n",
    "                  initial_panel=initial_panel,\n",
    "                  all_panels=all_panels,\n",
    "                  consec_panels=consec_panels)"
   ],
   "metadata": {
    "collapsed": false,
    "pycharm": {
     "name": "#%%\n"
    }
   }
  },
  {
   "cell_type": "code",
   "execution_count": 1,
   "outputs": [
    {
     "name": "stdout",
     "output_type": "stream",
     "text": [
      "before removing rows with all none in text cols, we have 10576\n",
      "after removing rows with all none in text cols, we have 10548\n",
      "successfully imputed missing text columns for COMBINED TEXT COLUMN of the dataset 201907\n",
      "assuming all text columns are time-invariant\n"
     ]
    },
    {
     "data": {
      "text/plain": "<__main__.nlp_pipeline at 0x7ff80f0736a0>"
     },
     "execution_count": 1,
     "metadata": {},
     "output_type": "execute_result"
    }
   ],
   "source": [
    "# test kmeans labels for each panel are same for each appid\n",
    "%run -i 'STEP0_paths_open_save.py'\n",
    "%run -i 'STEP3_NLP_pipeline.py'\n",
    "\n",
    "initial_panel='201907'\n",
    "o = open_files(initial_panel=initial_panel)\n",
    "DF = o.open_panel_df(name='MERGED')\n",
    "df_labels = o.open_panel_df(name='predicted_kmeans_labels_combined_panels')\n",
    "\n",
    "consec_panels = ['202009', '202010', '202011', '202012',\n",
    "                 '202101', '202102', '202103']\n",
    "new_class_obj = nlp_pipeline(\n",
    "                  df=DF,\n",
    "                  df_labels=df_labels,\n",
    "                  text_col_name='description',\n",
    "                  initial_panel=initial_panel,\n",
    "                  consec_panels=consec_panels)\n",
    "new_class_obj.find_appids_to_remove_before_imputing(\n",
    "    consecutive=True).impute_text_cols(\n",
    "    consecutive=True, combine_panels=True)"
   ],
   "metadata": {
    "collapsed": false,
    "pycharm": {
     "name": "#%%\n"
    }
   }
  },
  {
   "cell_type": "code",
   "execution_count": 15,
   "outputs": [],
   "source": [
    "df2, top_labels = new_class_obj.find_top_count_labels(\n",
    "    label_name='combined_panels_kmeans_labels',\n",
    "    top_n=3,\n",
    "    combine_panels=True)"
   ],
   "metadata": {
    "collapsed": false,
    "pycharm": {
     "name": "#%%\n"
    }
   }
  },
  {
   "cell_type": "code",
   "execution_count": 23,
   "outputs": [
    {
     "name": "stdout",
     "output_type": "stream",
     "text": [
      "niche_app\n",
      "0    1720\n",
      "1    8828\n",
      "Name: count, dtype: int64\n"
     ]
    }
   ],
   "source": [
    "ndf = new_class_obj.label_broad_niche_apps(\n",
    "    label_name='combined_panels_kmeans_labels',\n",
    "    top_n=3,\n",
    "    combine_panels=True)\n"
   ],
   "metadata": {
    "collapsed": false,
    "pycharm": {
     "name": "#%%\n"
    }
   }
  },
  {
   "cell_type": "code",
   "execution_count": 28,
   "outputs": [],
   "source": [
    "df1, top_three_labels_dict = new_class_obj.find_top_count_labels(\n",
    "    label_name='kmeans_labels', combine_panels=False)"
   ],
   "metadata": {
    "collapsed": false,
    "pycharm": {
     "name": "#%%\n"
    }
   }
  },
  {
   "cell_type": "code",
   "execution_count": 38,
   "outputs": [
    {
     "name": "stdout",
     "output_type": "stream",
     "text": [
      "time_invariant_broad_apps    1118\n",
      "time_invariant_niche_apps    5999\n",
      "app_changed_niche_label      3459\n",
      "dtype: int64\n"
     ]
    }
   ],
   "source": [
    "df3, label_count_df = new_class_obj.label_broad_niche_apps(\n",
    "                        label_name='kmeans_labels',\n",
    "                        combine_panels=False).check_niche_label_is_time_variant(\n",
    "                        consecutive=True)"
   ],
   "metadata": {
    "collapsed": false,
    "pycharm": {
     "name": "#%%\n"
    }
   }
  },
  {
   "cell_type": "code",
   "execution_count": 16,
   "outputs": [],
   "source": [
    "df1 = new_class_obj.prepare_text_col(\n",
    "    consecutive=True, combine_panels=False)"
   ],
   "metadata": {
    "collapsed": false,
    "pycharm": {
     "name": "#%%\n"
    }
   }
  },
  {
   "cell_type": "code",
   "execution_count": 19,
   "outputs": [
    {
     "name": "stdout",
     "output_type": "stream",
     "text": [
      "<class 'scipy.sparse.csr.csr_matrix'>\n"
     ]
    }
   ],
   "source": [
    "df2 = new_class_obj.tf_idf_transformation(\n",
    "    consecutive=True,\n",
    "    combine_panels=True)"
   ],
   "metadata": {
    "collapsed": false,
    "pycharm": {
     "name": "#%%\n"
    }
   }
  },
  {
   "cell_type": "markdown",
   "source": [
    "# Test Block for Regression"
   ],
   "metadata": {
    "collapsed": false
   }
  },
  {
   "cell_type": "code",
   "execution_count": 24,
   "outputs": [],
   "source": [
    "%run -i 'STEP0_paths_open_save.py'\n",
    "%run -i 'STEP4_Regression.py'\n",
    "\n",
    "initial_panel='201907'\n",
    "all_panels = ['201907',\n",
    "              '201908',\n",
    "              '201909',\n",
    "              '201912',\n",
    "              '202001',\n",
    "              '202003',\n",
    "              '202004',\n",
    "              '202009',\n",
    "              '202010',\n",
    "              '202011',\n",
    "              '202012',\n",
    "              '202101',\n",
    "              '202102',\n",
    "              '202103']\n",
    "consec_panels = ['202009', '202010', '202011', '202012', '202101', '202102',\n",
    "                 '202103']\n",
    "\n",
    "o = open_files(initial_panel=initial_panel)\n",
    "DFA = o.open_panel_df(name='imputed_and_deleted_missing')\n",
    "DFD = o.open_panel_df(name='dev_index_geocoded')\n",
    "DFL = o.open_panel_df(name='niche_labels_combined_panels')"
   ],
   "metadata": {
    "collapsed": false,
    "pycharm": {
     "name": "#%%\n"
    }
   }
  },
  {
   "cell_type": "code",
   "execution_count": 25,
   "outputs": [],
   "source": [
    "%run -i 'STEP0_paths_open_save.py'\n",
    "%run -i 'STEP4_Regression.py'\n",
    "\n",
    "new_class_obj = combine_dataframes(\n",
    "                 initial_panel=initial_panel,\n",
    "                 all_panels=all_panels,\n",
    "                 consec_panels=consec_panels,\n",
    "                 appid_imputed_and_deleted_missing_df=DFA,\n",
    "                 dev_index_gecoded_df=DFD,\n",
    "                 appid_text_cluster_labeled_df=DFL)\n",
    "\n",
    "df = new_class_obj.combine_imputed_deleted_missing_with_text_labels()\n",
    "\n",
    "reg_class_obj = regression_analysis(\n",
    "    df=df,\n",
    "    initial_panel=initial_panel,\n",
    "    consec_panels=consec_panels)"
   ],
   "metadata": {
    "collapsed": false,
    "pycharm": {
     "name": "#%%\n"
    }
   }
  },
  {
   "cell_type": "markdown",
   "source": [
    "03/14/21 </br>\n",
    "I need to remove ratings because reviews and ratings are highly correlated, 0.98\n",
    "which results in multicolinearity.\n"
   ],
   "metadata": {
    "collapsed": false,
    "pycharm": {
     "name": "#%% md\n"
    }
   }
  },
  {
   "cell_type": "code",
   "execution_count": 26,
   "outputs": [],
   "source": [
    "# dependent variable is containsAdsTrue\n",
    "time_variant_vars = ['score',\n",
    "                        'ZSCOREreviews',\n",
    "                        'minInstallsTop',\n",
    "                        'minInstallsMiddle']\n",
    "demaned_time_variant_vars = ['DeMeanedscore',\n",
    "                        'DeMeanedZSCOREreviews',\n",
    "                        'DeMeanedminInstallsTop',\n",
    "                        'DeMeanedminInstallsMiddle']\n",
    "time_invariant_vars = ['niche_app',\n",
    "                       'genreIdGame',\n",
    "                       'contentRatingAdult',\n",
    "                       'days_since_released']\n",
    "dep_vars = ['paidTrue', 'offersIAPTrue', 'containsAdsTrue', 'price']\n",
    "reg_types = ['POOLED_OLS']"
   ],
   "metadata": {
    "collapsed": false,
    "pycharm": {
     "name": "#%%\n"
    }
   }
  },
  {
   "cell_type": "code",
   "execution_count": 27,
   "outputs": [
    {
     "name": "stdout",
     "output_type": "stream",
     "text": [
      "before standardization:\n",
      "reviews_202009\n",
      "count    9.776000e+03\n",
      "mean     7.827094e+04\n",
      "std      5.439244e+05\n",
      "min      0.000000e+00\n",
      "25%      2.950000e+02\n",
      "50%      3.119000e+03\n",
      "75%      2.383850e+04\n",
      "max      2.951514e+07\n",
      "Name: reviews_202009, dtype: float64\n",
      "\n",
      "reviews_202010\n",
      "count    9.776000e+03\n",
      "mean     7.933480e+04\n",
      "std      5.519371e+05\n",
      "min      0.000000e+00\n",
      "25%      3.000000e+02\n",
      "50%      3.183500e+03\n",
      "75%      2.422675e+04\n",
      "max      3.023292e+07\n",
      "Name: reviews_202010, dtype: float64\n",
      "\n",
      "reviews_202011\n",
      "count    9.776000e+03\n",
      "mean     8.065345e+04\n",
      "std      5.625741e+05\n",
      "min      0.000000e+00\n",
      "25%      3.050000e+02\n",
      "50%      3.256500e+03\n",
      "75%      2.470575e+04\n",
      "max      3.119757e+07\n",
      "Name: reviews_202011, dtype: float64\n",
      "\n",
      "reviews_202012\n",
      "count    9.776000e+03\n",
      "mean     8.208672e+04\n",
      "std      5.744714e+05\n",
      "min      0.000000e+00\n",
      "25%      3.110000e+02\n",
      "50%      3.313500e+03\n",
      "75%      2.519250e+04\n",
      "max      3.231515e+07\n",
      "Name: reviews_202012, dtype: float64\n",
      "\n",
      "reviews_202101\n",
      "count    9.776000e+03\n",
      "mean     8.314799e+04\n",
      "std      5.844679e+05\n",
      "min      0.000000e+00\n",
      "25%      3.130000e+02\n",
      "50%      3.338500e+03\n",
      "75%      2.524925e+04\n",
      "max      3.316892e+07\n",
      "Name: reviews_202101, dtype: float64\n",
      "\n",
      "reviews_202102\n",
      "count    9.776000e+03\n",
      "mean     8.436252e+04\n",
      "std      5.932914e+05\n",
      "min      0.000000e+00\n",
      "25%      3.200000e+02\n",
      "50%      3.378500e+03\n",
      "75%      2.579550e+04\n",
      "max      3.389803e+07\n",
      "Name: reviews_202102, dtype: float64\n",
      "\n",
      "reviews_202103\n",
      "count    9.776000e+03\n",
      "mean     7.885769e+04\n",
      "std      4.865986e+05\n",
      "min      0.000000e+00\n",
      "25%      3.020000e+02\n",
      "50%      3.244000e+03\n",
      "75%      2.470350e+04\n",
      "max      2.211318e+07\n",
      "Name: reviews_202103, dtype: float64\n",
      "\n",
      "after standardization:\n",
      "ZSCOREreviews_202009\n",
      "count    9.776000e+03\n",
      "mean    -4.360942e-18\n",
      "std      1.000051e+00\n",
      "min     -1.439078e-01\n",
      "25%     -1.433654e-01\n",
      "50%     -1.381732e-01\n",
      "75%     -1.000787e-01\n",
      "max      5.412217e+01\n",
      "Name: ZSCOREreviews_202009, dtype: float64\n",
      "\n",
      "ZSCOREreviews_202010\n",
      "count    9.776000e+03\n",
      "mean    -7.268236e-18\n",
      "std      1.000051e+00\n",
      "min     -1.437462e-01\n",
      "25%     -1.432026e-01\n",
      "50%     -1.379780e-01\n",
      "75%     -9.984992e-02\n",
      "max      5.463508e+01\n",
      "Name: ZSCOREreviews_202010, dtype: float64\n",
      "\n",
      "ZSCOREreviews_202011\n",
      "count    9.776000e+03\n",
      "mean     2.035106e-17\n",
      "std      1.000051e+00\n",
      "min     -1.433724e-01\n",
      "25%     -1.428302e-01\n",
      "50%     -1.375835e-01\n",
      "75%     -9.945457e-02\n",
      "max      5.531451e+01\n",
      "Name: ZSCOREreviews_202011, dtype: float64\n",
      "\n",
      "ZSCOREreviews_202012\n",
      "count    9.776000e+03\n",
      "mean    -1.453647e-18\n",
      "std      1.000051e+00\n",
      "min     -1.428982e-01\n",
      "25%     -1.423568e-01\n",
      "50%     -1.371300e-01\n",
      "75%     -9.904257e-02\n",
      "max      5.611195e+01\n",
      "Name: ZSCOREreviews_202012, dtype: float64\n",
      "\n",
      "ZSCOREreviews_202101\n",
      "count    9.776000e+03\n",
      "mean    -1.162918e-17\n",
      "std      1.000051e+00\n",
      "min     -1.422700e-01\n",
      "25%     -1.417344e-01\n",
      "50%     -1.365577e-01\n",
      "75%     -9.906738e-02\n",
      "max      5.661127e+01\n",
      "Name: ZSCOREreviews_202101, dtype: float64\n",
      "\n",
      "ZSCOREreviews_202102\n",
      "count    9.776000e+03\n",
      "mean    -8.721883e-18\n",
      "std      1.000051e+00\n",
      "min     -1.422014e-01\n",
      "25%     -1.416620e-01\n",
      "50%     -1.365066e-01\n",
      "75%     -9.872050e-02\n",
      "max      5.699628e+01\n",
      "Name: ZSCOREreviews_202102, dtype: float64\n",
      "\n",
      "ZSCOREreviews_202103\n",
      "count    9.776000e+03\n",
      "mean     2.035106e-17\n",
      "std      1.000051e+00\n",
      "min     -1.620673e-01\n",
      "25%     -1.614466e-01\n",
      "50%     -1.554003e-01\n",
      "75%     -1.112970e-01\n",
      "max      4.528466e+01\n",
      "Name: ZSCOREreviews_202103, dtype: float64\n",
      "\n"
     ]
    }
   ],
   "source": [
    "d1 = reg_class_obj.create_new_dummies_from_cat_var(\n",
    "    cat_var='free').create_new_dummies_from_cat_var(\n",
    "    cat_var='containsAds').create_new_dummies_from_cat_var(\n",
    "    cat_var='offersIAP').create_new_dummies_from_cat_var(\n",
    "    cat_var='minInstalls').create_new_dummies_from_cat_var(\n",
    "    cat_var='contentRating',\n",
    "    time_invariant=True).create_new_dummies_from_cat_var(\n",
    "    cat_var='genreId',\n",
    "    time_invariant=True).standardize_continuous_vars(\n",
    "    con_var='reviews',\n",
    "    method='zscore').create_individual_app_dummies(\n",
    "    ).create_demean_time_variant_vars(\n",
    "    time_variant_vars = time_variant_vars).count_number_of_days_since(\n",
    "    var='released').convert_df_from_wide_to_long(\n",
    "    time_variant_vars = time_variant_vars,\n",
    "    demaned_time_variant_vars = demaned_time_variant_vars,\n",
    "    time_invariant_vars = time_invariant_vars,\n",
    "    dep_vars = dep_vars)"
   ],
   "metadata": {
    "collapsed": false,
    "pycharm": {
     "name": "#%%\n"
    }
   }
  },
  {
   "cell_type": "code",
   "execution_count": 28,
   "outputs": [],
   "source": [
    "results_dict = d1.several_regressions(\n",
    "    dep_vars=dep_vars,\n",
    "    time_variant_vars=demaned_time_variant_vars,\n",
    "    time_invariant_vars=time_invariant_vars,\n",
    "    cross_section=False,\n",
    "    reg_types=reg_types,\n",
    "    the_panel='202103')"
   ],
   "metadata": {
    "collapsed": false,
    "pycharm": {
     "name": "#%%\n"
    }
   }
  },
  {
   "cell_type": "code",
   "execution_count": 29,
   "outputs": [
    {
     "name": "stdout",
     "output_type": "stream",
     "text": [
      "            Model Comparison           \n",
      "=======================================\n",
      "                             POOLED_OLS\n",
      "---------------------------------------\n",
      "Dep. Variable                  paidTrue\n",
      "Estimator                     PooledOLS\n",
      "No. Observations                  68432\n",
      "Cov. Est.                     Clustered\n",
      "R-squared                        0.0560\n",
      "R-Squared (Within)               0.0047\n",
      "R-Squared (Between)              0.0561\n",
      "R-Squared (Overall)              0.0560\n",
      "F-statistic                      507.02\n",
      "P-value (F-stat)                 0.0000\n",
      "=========================== ===========\n",
      "const                            0.3112\n",
      "                               (18.744)\n",
      "DeMeanedscore                    0.0007\n",
      "                               (0.6666)\n",
      "DeMeanedZSCOREreviews         4.922e-05\n",
      "                               (1.1145)\n",
      "DeMeanedminInstallsTop          -0.0429\n",
      "                              (-1.7202)\n",
      "DeMeanedminInstallsMiddle       -0.0429\n",
      "                              (-1.7199)\n",
      "niche_app                       -0.1663\n",
      "                              (-12.515)\n",
      "genreIdGame                      0.0645\n",
      "                               (6.6754)\n",
      "contentRatingAdult              -0.1473\n",
      "                              (-14.341)\n",
      "days_since_released           7.626e-05\n",
      "                               (14.993)\n",
      "---------------------------------------\n",
      "\n",
      "T-stats reported in parentheses\n",
      "              Model Comparison             \n",
      "===========================================\n",
      "                                 POOLED_OLS\n",
      "-------------------------------------------\n",
      "Dep. Variable                 offersIAPTrue\n",
      "Estimator                         PooledOLS\n",
      "No. Observations                      68432\n",
      "Cov. Est.                         Clustered\n",
      "R-squared                            0.0788\n",
      "R-Squared (Within)                   0.0003\n",
      "R-Squared (Between)                  0.0794\n",
      "R-Squared (Overall)                  0.0788\n",
      "F-statistic                          731.59\n",
      "P-value (F-stat)                     0.0000\n",
      "=========================== ===============\n",
      "const                                0.4103\n",
      "                                   (24.438)\n",
      "DeMeanedscore                       -0.0002\n",
      "                                  (-0.1261)\n",
      "DeMeanedZSCOREreviews               -0.0001\n",
      "                                  (-0.8226)\n",
      "DeMeanedminInstallsTop               0.0234\n",
      "                                   (1.8111)\n",
      "DeMeanedminInstallsMiddle            0.0188\n",
      "                                   (1.5564)\n",
      "niche_app                            0.1434\n",
      "                                   (10.927)\n",
      "genreIdGame                          0.1712\n",
      "                                   (16.623)\n",
      "contentRatingAdult                   0.1722\n",
      "                                   (14.275)\n",
      "days_since_released              -4.584e-05\n",
      "                                  (-8.5358)\n",
      "-------------------------------------------\n",
      "\n",
      "T-stats reported in parentheses\n",
      "               Model Comparison              \n",
      "=============================================\n",
      "                                   POOLED_OLS\n",
      "---------------------------------------------\n",
      "Dep. Variable                 containsAdsTrue\n",
      "Estimator                           PooledOLS\n",
      "No. Observations                        68432\n",
      "Cov. Est.                           Clustered\n",
      "R-squared                              0.0921\n",
      "R-Squared (Within)                  3.381e-05\n",
      "R-Squared (Between)                    0.0926\n",
      "R-Squared (Overall)                    0.0921\n",
      "F-statistic                            867.24\n",
      "P-value (F-stat)                       0.0000\n",
      "=========================== =================\n",
      "const                                  0.3089\n",
      "                                     (19.484)\n",
      "DeMeanedscore                      -8.635e-05\n",
      "                                    (-0.0460)\n",
      "DeMeanedZSCOREreviews                  0.0002\n",
      "                                     (0.9164)\n",
      "DeMeanedminInstallsTop                 0.0054\n",
      "                                     (1.0095)\n",
      "DeMeanedminInstallsMiddle              0.0054\n",
      "                                     (1.0096)\n",
      "niche_app                              0.1818\n",
      "                                     (15.075)\n",
      "genreIdGame                            0.2065\n",
      "                                     (19.796)\n",
      "contentRatingAdult                     0.0908\n",
      "                                     (7.0030)\n",
      "days_since_released                -6.017e-05\n",
      "                                    (-11.363)\n",
      "---------------------------------------------\n",
      "\n",
      "T-stats reported in parentheses\n",
      "            Model Comparison           \n",
      "=======================================\n",
      "                             POOLED_OLS\n",
      "---------------------------------------\n",
      "Dep. Variable                     price\n",
      "Estimator                     PooledOLS\n",
      "No. Observations                  68432\n",
      "Cov. Est.                     Clustered\n",
      "R-squared                        0.0046\n",
      "R-Squared (Within)            7.543e-05\n",
      "R-Squared (Between)              0.0047\n",
      "R-Squared (Overall)              0.0046\n",
      "F-statistic                      39.689\n",
      "P-value (F-stat)                 0.0000\n",
      "=========================== ===========\n",
      "const                            1.9637\n",
      "                               (4.8476)\n",
      "DeMeanedscore                    0.0406\n",
      "                               (1.6734)\n",
      "DeMeanedZSCOREreviews           -0.0023\n",
      "                              (-1.0449)\n",
      "DeMeanedminInstallsTop          -0.0550\n",
      "                              (-0.4846)\n",
      "DeMeanedminInstallsMiddle       -0.0545\n",
      "                              (-0.4805)\n",
      "niche_app                       -0.7820\n",
      "                              (-3.0211)\n",
      "genreIdGame                     -0.4128\n",
      "                              (-2.9715)\n",
      "contentRatingAdult              -0.5798\n",
      "                              (-3.9235)\n",
      "days_since_released              0.0003\n",
      "                               (3.0126)\n",
      "---------------------------------------\n",
      "\n",
      "T-stats reported in parentheses\n"
     ]
    }
   ],
   "source": [
    "res = d1.compare_several_panel_reg_results(results_dict=results_dict,\n",
    "                                           dep_vars=dep_vars)\n",
    "final_df = d1.compile_several_reg_results_into_pandas(panels_compare=res)"
   ],
   "metadata": {
    "collapsed": false,
    "pycharm": {
     "name": "#%%\n"
    }
   }
  },
  {
   "cell_type": "code",
   "execution_count": 30,
   "outputs": [],
   "source": [
    "df4 = d1.customize_reg_results_pandas_before_output_latex(\n",
    "    df=final_df,\n",
    "    selective_dep_vars=['paidTrue', 'offersIAPTrue', 'containsAdsTrue', 'price'],\n",
    "    selective_reg_types=['POOLED_OLS'],\n",
    "    p_value_as_asterisk=True)"
   ],
   "metadata": {
    "collapsed": false,
    "pycharm": {
     "name": "#%%\n"
    }
   }
  },
  {
   "cell_type": "code",
   "execution_count": 31,
   "outputs": [],
   "source": [
    "df5 = d1.output_reg_results_pandas_to_latex(\n",
    "    df=df4,\n",
    "    the_reg_type='POOLED_OLS')\n"
   ],
   "metadata": {
    "collapsed": false,
    "pycharm": {
     "name": "#%%\n"
    }
   }
  },
  {
   "cell_type": "markdown",
   "source": [
    "# descriptive stats test block"
   ],
   "metadata": {
    "collapsed": false,
    "pycharm": {
     "name": "#%% md\n"
    }
   }
  },
  {
   "cell_type": "code",
   "execution_count": 1,
   "outputs": [],
   "source": [
    "%run -i 'STEP0_paths_open_save.py'\n",
    "%run -i 'STEP4_Regression.py'\n",
    "\n",
    "initial_panel='201907'\n",
    "all_panels = ['201907',\n",
    "              '201908',\n",
    "              '201909',\n",
    "              '201912',\n",
    "              '202001',\n",
    "              '202003',\n",
    "              '202004',\n",
    "              '202009',\n",
    "              '202010',\n",
    "              '202011',\n",
    "              '202012',\n",
    "              '202101',\n",
    "              '202102',\n",
    "              '202103']\n",
    "consec_panels = ['202009', '202010', '202011', '202012', '202101', '202102',\n",
    "                 '202103']\n",
    "\n",
    "o = open_files(initial_panel=initial_panel)\n",
    "DFA = o.open_panel_df(name='imputed_and_deleted_missing')\n",
    "DFD = o.open_panel_df(name='dev_index_geocoded')\n",
    "DFL = o.open_panel_df(name='niche_labels_combined_panels')"
   ],
   "metadata": {
    "collapsed": false,
    "pycharm": {
     "name": "#%%\n"
    }
   }
  },
  {
   "cell_type": "code",
   "execution_count": 18,
   "outputs": [],
   "source": [
    "%run -i 'STEP0_paths_open_save.py'\n",
    "%run -i 'STEP4_Regression.py'\n",
    "\n",
    "new_class_obj = combine_dataframes(\n",
    "                 initial_panel=initial_panel,\n",
    "                 all_panels=all_panels,\n",
    "                 consec_panels=consec_panels,\n",
    "                 appid_imputed_and_deleted_missing_df=DFA,\n",
    "                 dev_index_gecoded_df=DFD,\n",
    "                 appid_text_cluster_labeled_df=DFL)\n",
    "\n",
    "df = new_class_obj.combine_imputed_deleted_missing_with_text_labels()\n",
    "\n",
    "reg_class_obj = regression_analysis(\n",
    "    df=df,\n",
    "    initial_panel=initial_panel,\n",
    "    consec_panels=consec_panels)"
   ],
   "metadata": {
    "collapsed": false,
    "pycharm": {
     "name": "#%%\n"
    }
   }
  },
  {
   "cell_type": "code",
   "execution_count": 19,
   "outputs": [],
   "source": [
    "# dependent variable is containsAdsTrue\n",
    "time_variant_vars = ['score',\n",
    "                        'ZSCOREreviews',\n",
    "                        'minInstallsTop',\n",
    "                        'minInstallsMiddle',\n",
    "                        'minInstallsBottom']\n",
    "demaned_time_variant_vars = ['DeMeanedscore',\n",
    "                        'DeMeanedZSCOREreviews',\n",
    "                        'DeMeanedminInstallsTop',\n",
    "                        'DeMeanedminInstallsMiddle',\n",
    "                        'DeMeanedminInstallsBottom']\n",
    "time_invariant_vars = ['niche_app',\n",
    "                       'genreIdGame',\n",
    "                       'contentRatingAdult',\n",
    "                       'days_since_released']\n",
    "dep_vars = ['paidTrue', 'offersIAPTrue', 'containsAdsTrue', 'price']\n",
    "reg_types = ['POOLED_OLS']"
   ],
   "metadata": {
    "collapsed": false,
    "pycharm": {
     "name": "#%%\n"
    }
   }
  },
  {
   "cell_type": "code",
   "execution_count": 20,
   "outputs": [
    {
     "name": "stdout",
     "output_type": "stream",
     "text": [
      "before standardization:\n",
      "reviews_202009\n",
      "count    9.776000e+03\n",
      "mean     7.827094e+04\n",
      "std      5.439244e+05\n",
      "min      0.000000e+00\n",
      "25%      2.950000e+02\n",
      "50%      3.119000e+03\n",
      "75%      2.383850e+04\n",
      "max      2.951514e+07\n",
      "Name: reviews_202009, dtype: float64\n",
      "\n",
      "reviews_202010\n",
      "count    9.776000e+03\n",
      "mean     7.933480e+04\n",
      "std      5.519371e+05\n",
      "min      0.000000e+00\n",
      "25%      3.000000e+02\n",
      "50%      3.183500e+03\n",
      "75%      2.422675e+04\n",
      "max      3.023292e+07\n",
      "Name: reviews_202010, dtype: float64\n",
      "\n",
      "reviews_202011\n",
      "count    9.776000e+03\n",
      "mean     8.065345e+04\n",
      "std      5.625741e+05\n",
      "min      0.000000e+00\n",
      "25%      3.050000e+02\n",
      "50%      3.256500e+03\n",
      "75%      2.470575e+04\n",
      "max      3.119757e+07\n",
      "Name: reviews_202011, dtype: float64\n",
      "\n",
      "reviews_202012\n",
      "count    9.776000e+03\n",
      "mean     8.208672e+04\n",
      "std      5.744714e+05\n",
      "min      0.000000e+00\n",
      "25%      3.110000e+02\n",
      "50%      3.313500e+03\n",
      "75%      2.519250e+04\n",
      "max      3.231515e+07\n",
      "Name: reviews_202012, dtype: float64\n",
      "\n",
      "reviews_202101\n",
      "count    9.776000e+03\n",
      "mean     8.314799e+04\n",
      "std      5.844679e+05\n",
      "min      0.000000e+00\n",
      "25%      3.130000e+02\n",
      "50%      3.338500e+03\n",
      "75%      2.524925e+04\n",
      "max      3.316892e+07\n",
      "Name: reviews_202101, dtype: float64\n",
      "\n",
      "reviews_202102\n",
      "count    9.776000e+03\n",
      "mean     8.436252e+04\n",
      "std      5.932914e+05\n",
      "min      0.000000e+00\n",
      "25%      3.200000e+02\n",
      "50%      3.378500e+03\n",
      "75%      2.579550e+04\n",
      "max      3.389803e+07\n",
      "Name: reviews_202102, dtype: float64\n",
      "\n",
      "reviews_202103\n",
      "count    9.776000e+03\n",
      "mean     7.885769e+04\n",
      "std      4.865986e+05\n",
      "min      0.000000e+00\n",
      "25%      3.020000e+02\n",
      "50%      3.244000e+03\n",
      "75%      2.470350e+04\n",
      "max      2.211318e+07\n",
      "Name: reviews_202103, dtype: float64\n",
      "\n",
      "after standardization:\n",
      "ZSCOREreviews_202009\n",
      "count    9.776000e+03\n",
      "mean    -4.360942e-18\n",
      "std      1.000051e+00\n",
      "min     -1.439078e-01\n",
      "25%     -1.433654e-01\n",
      "50%     -1.381732e-01\n",
      "75%     -1.000787e-01\n",
      "max      5.412217e+01\n",
      "Name: ZSCOREreviews_202009, dtype: float64\n",
      "\n",
      "ZSCOREreviews_202010\n",
      "count    9.776000e+03\n",
      "mean    -7.268236e-18\n",
      "std      1.000051e+00\n",
      "min     -1.437462e-01\n",
      "25%     -1.432026e-01\n",
      "50%     -1.379780e-01\n",
      "75%     -9.984992e-02\n",
      "max      5.463508e+01\n",
      "Name: ZSCOREreviews_202010, dtype: float64\n",
      "\n",
      "ZSCOREreviews_202011\n",
      "count    9.776000e+03\n",
      "mean     2.035106e-17\n",
      "std      1.000051e+00\n",
      "min     -1.433724e-01\n",
      "25%     -1.428302e-01\n",
      "50%     -1.375835e-01\n",
      "75%     -9.945457e-02\n",
      "max      5.531451e+01\n",
      "Name: ZSCOREreviews_202011, dtype: float64\n",
      "\n",
      "ZSCOREreviews_202012\n",
      "count    9.776000e+03\n",
      "mean    -1.453647e-18\n",
      "std      1.000051e+00\n",
      "min     -1.428982e-01\n",
      "25%     -1.423568e-01\n",
      "50%     -1.371300e-01\n",
      "75%     -9.904257e-02\n",
      "max      5.611195e+01\n",
      "Name: ZSCOREreviews_202012, dtype: float64\n",
      "\n",
      "ZSCOREreviews_202101\n",
      "count    9.776000e+03\n",
      "mean    -1.162918e-17\n",
      "std      1.000051e+00\n",
      "min     -1.422700e-01\n",
      "25%     -1.417344e-01\n",
      "50%     -1.365577e-01\n",
      "75%     -9.906738e-02\n",
      "max      5.661127e+01\n",
      "Name: ZSCOREreviews_202101, dtype: float64\n",
      "\n",
      "ZSCOREreviews_202102\n",
      "count    9.776000e+03\n",
      "mean    -8.721883e-18\n",
      "std      1.000051e+00\n",
      "min     -1.422014e-01\n",
      "25%     -1.416620e-01\n",
      "50%     -1.365066e-01\n",
      "75%     -9.872050e-02\n",
      "max      5.699628e+01\n",
      "Name: ZSCOREreviews_202102, dtype: float64\n",
      "\n",
      "ZSCOREreviews_202103\n",
      "count    9.776000e+03\n",
      "mean     2.035106e-17\n",
      "std      1.000051e+00\n",
      "min     -1.620673e-01\n",
      "25%     -1.614466e-01\n",
      "50%     -1.554003e-01\n",
      "75%     -1.112970e-01\n",
      "max      4.528466e+01\n",
      "Name: ZSCOREreviews_202103, dtype: float64\n",
      "\n"
     ]
    }
   ],
   "source": [
    "d1 = reg_class_obj.create_new_dummies_from_cat_var(\n",
    "    cat_var='free').create_new_dummies_from_cat_var(\n",
    "    cat_var='containsAds').create_new_dummies_from_cat_var(\n",
    "    cat_var='offersIAP').create_new_dummies_from_cat_var(\n",
    "    cat_var='minInstalls').create_new_dummies_from_cat_var(\n",
    "    cat_var='contentRating',\n",
    "    time_invariant=True).create_new_dummies_from_cat_var(\n",
    "    cat_var='genreId',\n",
    "    time_invariant=True).standardize_continuous_vars(\n",
    "    con_var='reviews',\n",
    "    method='zscore').create_individual_app_dummies(\n",
    "    ).create_demean_time_variant_vars(\n",
    "    time_variant_vars = time_variant_vars).count_number_of_days_since(\n",
    "    var='released').convert_df_from_wide_to_long(\n",
    "    time_variant_vars = time_variant_vars,\n",
    "    demaned_time_variant_vars = demaned_time_variant_vars,\n",
    "    time_invariant_vars = time_invariant_vars,\n",
    "    dep_vars = dep_vars)"
   ],
   "metadata": {
    "collapsed": false,
    "pycharm": {
     "name": "#%%\n"
    }
   }
  },
  {
   "cell_type": "code",
   "execution_count": 21,
   "outputs": [],
   "source": [
    "df = d1.key_var_definition()"
   ],
   "metadata": {
    "collapsed": false,
    "pycharm": {
     "name": "#%%\n"
    }
   }
  },
  {
   "cell_type": "code",
   "execution_count": 22,
   "outputs": [],
   "source": [
    "d2 = d1.descriptive_stats_for_single_panel(\n",
    "    continuous_vars=['score',\n",
    "                     'DeMeanedscore',\n",
    "                     'reviews',\n",
    "                     'ZSCOREreviews',\n",
    "                     'DeMeanedZSCOREreviews',\n",
    "                     'price',\n",
    "                     'DeMeanedminInstallsTop',\n",
    "                     'DeMeanedminInstallsMiddle',\n",
    "                     'DeMeanedminInstallsBottom'],\n",
    "    dummy_vars = ['paidTrue',\n",
    "                  'offersIAPTrue',\n",
    "                  'containsAdsTrue',\n",
    "                  'minInstallsTop',\n",
    "                  'minInstallsMiddle',\n",
    "                  'minInstallsBottom'],\n",
    "    cat_vars = ['genreId',\n",
    "                'minInstalls'],\n",
    "    time_invar_dum=['niche_app',\n",
    "                    'genreIdGame',\n",
    "                    'contentRatingAdult'],\n",
    "    time_invar_con=['days_since_released'],\n",
    "    the_panel='202103',\n",
    "    add_sum_row_col=True)"
   ],
   "metadata": {
    "collapsed": false,
    "pycharm": {
     "name": "#%%\n"
    }
   }
  },
  {
   "cell_type": "code",
   "execution_count": 23,
   "outputs": [],
   "source": [
    "df6 = d1.customize_and_output_descriptive_stats_pandas_to_latex(\n",
    "    the_panel='202103')"
   ],
   "metadata": {
    "collapsed": false,
    "pycharm": {
     "name": "#%%\n"
    }
   }
  },
  {
   "cell_type": "code",
   "execution_count": 21,
   "outputs": [],
   "source": [
    "var_latex_map = {\n",
    "           'const': 'constant',\n",
    "           'score': '\\makecell[l]{rating \\\\\\ (1-5)}',\n",
    "           'DeMeanedscore': '\\makecell[l]{demeaned \\\\\\ rating (1-5)}',\n",
    "           'reviews': '\\makecell[l]{number of \\\\\\ reviews}',\n",
    "           'ZSCOREreviews': '\\makecell[l]{number of \\\\\\ reviews (z-score)}',\n",
    "           'DeMeanedZSCOREreviews': '\\makecell[l]{number of reviews \\\\\\ (demeaned z-score)}',\n",
    "           'minInstallsTop': '\\makecell[l]{min installs \\\\\\ above 10,000,000}',\n",
    "           'DeMeanedminInstallsTop': '\\makecell[l]{min installs \\\\\\ above 10,000,000 \\\\\\ (demeaned)}',\n",
    "           'minInstallsMiddle': '\\makecell[l]{min installs between \\\\\\ 10,000 and 10,000,000}',\n",
    "           'DeMeanedminInstallsMiddle': '\\makecell[l]{min installs between \\\\\\ 10,000 and 10,000,000 \\\\\\ (demeaned)}',\n",
    "           'minInstallsBottom': '\\makecell[l]{min installs \\\\\\ below 10,000}',\n",
    "           'DeMeanedminInstallsBottom': '\\makecell[l]{min installs \\\\\\ below 10,000 \\\\\\ (demeaned)}',\n",
    "           'niche_app': 'niche app',\n",
    "           'genreIdGame': 'hedonic app',\n",
    "           'contentRatingAdult': '\\makecell[l]{contains age \\\\\\ restrictive contents}',\n",
    "           'days_since_released': '\\makecell[l]{number of days \\\\\\ since released}',\n",
    "           'paidTrue': 'paid',\n",
    "           'offersIAPTrue': 'offers IAP',\n",
    "           'containsAdsTrue': 'contains ads',\n",
    "           'price': 'price',\n",
    "           'F stat': 'F statistic',\n",
    "           'P-value': 'P Value',\n",
    "           'rsquared': 'R Squared',\n",
    "           'nobs': '\\makecell[l]{number of \\\\\\ observations}',\n",
    "           '_cov_type': 'covariance type'}"
   ],
   "metadata": {
    "collapsed": false,
    "pycharm": {
     "name": "#%%\n"
    }
   }
  },
  {
   "cell_type": "code",
   "execution_count": 22,
   "outputs": [
    {
     "name": "stdout",
     "output_type": "stream",
     "text": [
      "niche_app\n",
      "niche app\n",
      "price\n",
      "price\n",
      "price\n",
      "paidTrue\n",
      "paidTrue\n",
      "paid\n",
      "offersIAPTrue\n",
      "offersIAPTrue\n",
      "offers IAP\n",
      "containsAdsTrue\n",
      "containsAdsTrue\n",
      "contains ads\n",
      "genreIdGame\n",
      "hedonic app\n",
      "contentRatingAdult\n",
      "\\makecell[l]{contains age \\\\ restrictive contents}\n",
      "days_since_released\n",
      "\\makecell[l]{number of days \\\\ since released}\n",
      "minInstallsTop\n",
      "minInstallsTop\n",
      "\\makecell[l]{min installs \\\\ above 10,000,000}\n",
      "DeMeanedminInstallsTop\n",
      "DeMeanedminInstallsTop\n",
      "\\makecell[l]{min installs \\\\ above 10,000,000 \\\\ (demeaned)}\n",
      "minInstallsMiddle\n",
      "minInstallsMiddle\n",
      "\\makecell[l]{min installs between \\\\ 10,000 and 10,000,000}\n",
      "DeMeanedminInstallsMiddle\n",
      "DeMeanedminInstallsMiddle\n",
      "\\makecell[l]{min installs between \\\\ 10,000 and 10,000,000 \\\\ (demeaned)}\n",
      "minInstallsBottom\n",
      "minInstallsBottom\n",
      "\\makecell[l]{min installs \\\\ below 10,000}\n",
      "DeMeanedminInstallsBottom\n",
      "DeMeanedminInstallsBottom\n",
      "\\makecell[l]{min installs \\\\ below 10,000 \\\\ (demeaned)}\n",
      "score\n",
      "score\n",
      "\\makecell[l]{rating \\\\ (1-5)}\n",
      "DeMeanedscore\n",
      "DeMeanedscore\n",
      "\\makecell[l]{demeaned \\\\ rating (1-5)}\n",
      "reviews\n",
      "reviews\n",
      "\\makecell[l]{number of \\\\ reviews}\n",
      "ZSCOREreviews\n",
      "ZSCOREreviews\n",
      "\\makecell[l]{number of \\\\ reviews (z-score)}\n",
      "DeMeanedZSCOREreviews\n",
      "DeMeanedZSCOREreviews\n",
      "\\makecell[l]{number of reviews \\\\ (demeaned z-score)}\n"
     ]
    }
   ],
   "source": [
    "# debug cell\n",
    "df7 = df6.copy(deep=True)\n",
    "the_panel = '202103'\n",
    "for i in df7.index:\n",
    "    if the_panel in i:\n",
    "        i = i.rstrip(the_panel).rstrip('_')\n",
    "        print(i)\n",
    "    for j in var_latex_map.keys():\n",
    "        if j == i:\n",
    "            print(j)\n",
    "            x = var_latex_map[j]\n",
    "            print(x)\n",
    "            df7.rename(index={i: x}, inplace=True)"
   ],
   "metadata": {
    "collapsed": false,
    "pycharm": {
     "name": "#%%\n"
    }
   }
  },
  {
   "cell_type": "code",
   "execution_count": 25,
   "outputs": [],
   "source": [
    "the_panel = '202103'\n",
    "def set_row_names(x, the_panel):\n",
    "    if the_panel in x:\n",
    "        x = x.rstrip(the_panel).rstrip('_')\n",
    "    for j in var_latex_map.keys():\n",
    "        if j == x:\n",
    "            return var_latex_map[j]\n",
    "\n",
    "\n",
    "df7 = df6.copy(deep=True)\n",
    "df7 = df7.reset_index()\n",
    "df7['Variable'] = df7['Variable'].apply(lambda x: set_row_names(x, the_panel))\n",
    "df7 = df7.set_index('Variable')"
   ],
   "metadata": {
    "collapsed": false,
    "pycharm": {
     "name": "#%%\n"
    }
   }
  },
  {
   "cell_type": "code",
   "execution_count": 39,
   "outputs": [],
   "source": [
    "import functools\n",
    "import copy\n",
    "dummy_vars = ['paidTrue',\n",
    "              'offersIAPTrue',\n",
    "              'containsAdsTrue',\n",
    "              'minInstallsTop',\n",
    "              'minInstallsMiddle',\n",
    "              'minInstallsBottom']\n",
    "continuous_vars=['score',\n",
    "                 'DeMeanedscore',\n",
    "                 'reviews',\n",
    "                 'ZSCOREreviews',\n",
    "                 'DeMeanedZSCOREreviews',\n",
    "                 'price',\n",
    "                 'DeMeanedminInstallsTop',\n",
    "                 'DeMeanedminInstallsMiddle',\n",
    "                 'DeMeanedminInstallsBottom']\n",
    "time_invar_dum=['niche_app',\n",
    "                'genreIdGame',\n",
    "                'contentRatingAdult']\n",
    "time_invar_con=['days_since_released']\n",
    "con_vars = [i + '_' + '202103' for i in continuous_vars]\n",
    "con_vars.extend(time_invar_con)\n",
    "dum_vars = [i + '_' + '202103' for i in dummy_vars]\n",
    "dum_vars.extend(time_invar_dum)\n",
    "con_and_dum_vars = copy.deepcopy(con_vars)\n",
    "con_and_dum_vars.extend(dum_vars)\n",
    "df2 = d1.df.copy(deep=True)\n",
    "con_vars_df = df2[con_vars]\n",
    "dum_vars_df = df2[dum_vars]\n",
    "con_and_dum_df = df2[con_and_dum_vars]\n",
    "con_and_dum_vars_stats = con_and_dum_df.agg(['mean', 'std', 'min', 'median', 'max', 'count'], axis=0)\n",
    "con_and_dum_vars_stats = con_and_dum_vars_stats.T\n",
    "dum_stats_dfs = []\n",
    "for i in dum_vars:\n",
    "    dum_vars_df['Count_' + i] = 0\n",
    "    df = dum_vars_df[[i, 'Count_' + i]].groupby(i).count()\n",
    "    dum_stats_dfs.append(df)\n",
    "dum_vars_sum_stats = functools.reduce(lambda a, b: a.join(b, how='inner'), dum_stats_dfs)"
   ],
   "metadata": {
    "collapsed": false,
    "pycharm": {
     "name": "#%%\n"
    }
   }
  },
  {
   "cell_type": "code",
   "execution_count": 40,
   "outputs": [],
   "source": [
    "for i in dum_vars_sum_stats.columns:\n",
    "    dum_vars_sum_stats.rename(columns={i: i.lstrip('Count').lstrip('_')}, inplace=True)"
   ],
   "metadata": {
    "collapsed": false,
    "pycharm": {
     "name": "#%%\n"
    }
   }
  },
  {
   "cell_type": "code",
   "execution_count": 41,
   "outputs": [],
   "source": [
    "for i in dum_vars_sum_stats.index:\n",
    "    dum_vars_sum_stats.rename(index={i: str(i)+'_Count'}, inplace=True)\n",
    "dum_vars_sum_stats = dum_vars_sum_stats.T\n",
    "cd_sum_stats = con_and_dum_vars_stats.join(dum_vars_sum_stats, how='left')"
   ],
   "metadata": {
    "collapsed": false,
    "pycharm": {
     "name": "#%%\n"
    }
   }
  },
  {
   "cell_type": "code",
   "execution_count": 7,
   "outputs": [],
   "source": [
    "df = d1.correlation_matrix(\n",
    "    dep_vars,\n",
    "    time_variant_vars,\n",
    "    time_invariant_vars,\n",
    "    the_panel='202103')"
   ],
   "metadata": {
    "collapsed": false,
    "pycharm": {
     "name": "#%%\n"
    }
   }
  },
  {
   "cell_type": "code",
   "execution_count": 6,
   "outputs": [],
   "source": [
    "results_df = d1.compile_several_reg_results_into_pandas(\n",
    "    results_dict=results_dict)"
   ],
   "metadata": {
    "collapsed": false,
    "pycharm": {
     "name": "#%%\n"
    }
   }
  },
  {
   "cell_type": "code",
   "execution_count": 18,
   "outputs": [
    {
     "data": {
      "text/plain": "const                0.201449\nscore                0.000757\nZSCOREreviews        0.000049\nminInstallsTop      -0.041543\nminInstallsMiddle   -0.042199\nniche_app            0.169612\nName: parameter, dtype: float64"
     },
     "execution_count": 18,
     "metadata": {},
     "output_type": "execute_result"
    }
   ],
   "source": [
    "A = results_dict['FE']['paidTrue']\n",
    "A.params"
   ],
   "metadata": {
    "collapsed": false,
    "pycharm": {
     "name": "#%%\n"
    }
   }
  },
  {
   "cell_type": "code",
   "execution_count": null,
   "outputs": [],
   "source": [
    "# Since I am not going to conduct pooled OLS\n",
    "# lets jump into fixed effects model\n",
    "# https://towardsdatascience.com/a-guide-to-panel-data-regression-theoretics-and-implementation-with-python-4c84c5055cf8\n"
   ],
   "metadata": {
    "collapsed": false,
    "pycharm": {
     "name": "#%%\n"
    }
   }
  }
 ],
 "metadata": {
  "kernelspec": {
   "display_name": "Python 3",
   "language": "python",
   "name": "python3"
  },
  "language_info": {
   "codemirror_mode": {
    "name": "ipython",
    "version": 2
   },
   "file_extension": ".py",
   "mimetype": "text/x-python",
   "name": "python",
   "nbconvert_exporter": "python",
   "pygments_lexer": "ipython2",
   "version": "2.7.6"
  }
 },
 "nbformat": 4,
 "nbformat_minor": 0
}