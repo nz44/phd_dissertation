{
 "cells": [
  {
   "cell_type": "code",
   "execution_count": 1,
   "outputs": [],
   "source": [
    "# run python scripts containing all the functions\n",
    "%run -i '0_paths_open_save.py'\n",
    "%run -i '1_scraping_cleaning_merge.py'\n",
    "%run -i '2_summary_stats_visualization_new.py'"
   ],
   "metadata": {
    "collapsed": false,
    "pycharm": {
     "name": "#%%\n"
    }
   }
  },
  {
   "cell_type": "markdown",
   "source": [
    "# 1. check scraped data"
   ],
   "metadata": {
    "collapsed": false
   }
  },
  {
   "cell_type": "code",
   "execution_count": null,
   "outputs": [],
   "source": [
    "initial_panel = '201812'\n",
    "tracking_panels = ['201812', '201912', '202001', '202003', '202004', '202009', '202010',\n",
    "          '202011', '202012', '202101', '202102']\n",
    "\n",
    "o = open_files(initial_panel=initial_panel, all_panels=tracking_panels)\n",
    "app_details = o.open_initial_panel_with_its_tracking_panels()\n",
    "A = app_detail_dicts(app_details, all_panels=tracking_panels)\n",
    "A.get_a_glimpse()"
   ],
   "metadata": {
    "collapsed": false,
    "pycharm": {
     "name": "#%%\n"
    }
   }
  },
  {
   "cell_type": "markdown",
   "source": [
    "# 2. check converted data"
   ],
   "metadata": {
    "collapsed": false,
    "pycharm": {
     "name": "#%% md\n"
    }
   }
  },
  {
   "cell_type": "code",
   "execution_count": null,
   "outputs": [],
   "source": [
    "# test\n",
    "%run -i '1_scraping_cleaning_merge.py'\n",
    "initial_panel='201907'\n",
    "all_panels=['201907', '201908', '201909', '201912', '202001', '202003', '202004',\n",
    "          '202009', '202010', '202011', '202012', '202101', '202102']\n",
    "o = open_files(initial_panel=initial_panel,\n",
    "                   all_panels=all_panels)\n",
    "app_details = o.open_initial_panel_with_its_tracking_panels()\n",
    "A = app_detail_dicts(d=app_details, all_panels=all_panels)\n",
    "inter_df = A.format_cols()\n",
    "print(inter_df['201907'].columns)\n"
   ],
   "metadata": {
    "collapsed": false,
    "pycharm": {
     "name": "#%%\n"
    }
   }
  },
  {
   "cell_type": "markdown",
   "metadata": {
    "collapsed": true,
    "pycharm": {
     "name": "#%% md\n"
    }
   },
   "source": [
    "# 3. check whether the developer geocoding information is correct."
   ]
  },
  {
   "cell_type": "code",
   "execution_count": 76,
   "outputs": [
    {
     "name": "stdout",
     "output_type": "stream",
     "text": [
      "(6442, 55)\n"
     ]
    },
    {
     "data": {
      "text/plain": "                                                                developerAddress_201907  \\\ndeveloper                                                                                 \nMy Apps Studio               None                                                         \nPintogykas                   None                                                         \nInternational Dairy Queen®️  8331 Norman Center Drive\\nBloomington, MN  55437             \nSNOW, Inc.                   575 High Street,Suite 110 Palo Alto, CA 94301                \nSaucon IoT                   None                                                         \n...                                                                    ...                \nStraight Talk                None                                                         \nMaadinfo Services            2 allée des Ormeaux\\n06130 Grasse\\nFrance                    \nUsatine Media                8529 Raintree Woods Drive\\nFair Oaks Ranch, TX 78255         \nyouthhr                      None                                                         \nBadsnowball Limited          UNIT 408B, LIPPO SUN PLAZA, 28 CANTON ROAD, TSIM SHA TSUI,   \n\n                                                                                             location  \\\ndeveloper                                                                                               \nMy Apps Studio               None                                                                       \nPintogykas                   None                                                                       \nInternational Dairy Queen®️  (8331 Norman Center Drive, Minneapolis, MN 55437, (44.85294, -93.35164))   \nSNOW, Inc.                   (575 High Street, Palo Alto, CA 94301, (37.44357, -122.16224))             \nSaucon IoT                   None                                                                       \n...                                                                                     ...             \nStraight Talk                None                                                                       \nMaadinfo Services            (2 Allée des Ormeaux, Grasse, 06130, (43.6564, 6.91355))                   \nUsatine Media                (8529 Raintree Woods Drive, Boerne, TX 78015, (29.73904, -98.65005))       \nyouthhr                      None                                                                       \nBadsnowball Limited          (28 Canton Road, Yau Tsim Mong District, (22.29689, 114.16954))            \n\n                             longitude  latitude  \ndeveloper                                         \nMy Apps Studio              NaN        NaN        \nPintogykas                  NaN        NaN        \nInternational Dairy Queen®️ -93.35164   44.85294  \nSNOW, Inc.                  -122.16224  37.44357  \nSaucon IoT                  NaN        NaN        \n...                                ...       ...  \nStraight Talk               NaN        NaN        \nMaadinfo Services            6.91355    43.65640  \nUsatine Media               -98.65005   29.73904  \nyouthhr                     NaN        NaN        \nBadsnowball Limited          114.16954  22.29689  \n\n[100 rows x 4 columns]",
      "text/html": "<div>\n<style scoped>\n    .dataframe tbody tr th:only-of-type {\n        vertical-align: middle;\n    }\n\n    .dataframe tbody tr th {\n        vertical-align: top;\n    }\n\n    .dataframe thead th {\n        text-align: right;\n    }\n</style>\n<table border=\"1\" class=\"dataframe\">\n  <thead>\n    <tr style=\"text-align: right;\">\n      <th></th>\n      <th>developerAddress_201907</th>\n      <th>location</th>\n      <th>longitude</th>\n      <th>latitude</th>\n    </tr>\n    <tr>\n      <th>developer</th>\n      <th></th>\n      <th></th>\n      <th></th>\n      <th></th>\n    </tr>\n  </thead>\n  <tbody>\n    <tr>\n      <th>My Apps Studio</th>\n      <td>None</td>\n      <td>None</td>\n      <td>NaN</td>\n      <td>NaN</td>\n    </tr>\n    <tr>\n      <th>Pintogykas</th>\n      <td>None</td>\n      <td>None</td>\n      <td>NaN</td>\n      <td>NaN</td>\n    </tr>\n    <tr>\n      <th>International Dairy Queen®️</th>\n      <td>8331 Norman Center Drive\\nBloomington, MN  55437</td>\n      <td>(8331 Norman Center Drive, Minneapolis, MN 55437, (44.85294, -93.35164))</td>\n      <td>-93.35164</td>\n      <td>44.85294</td>\n    </tr>\n    <tr>\n      <th>SNOW, Inc.</th>\n      <td>575 High Street,Suite 110 Palo Alto, CA 94301</td>\n      <td>(575 High Street, Palo Alto, CA 94301, (37.44357, -122.16224))</td>\n      <td>-122.16224</td>\n      <td>37.44357</td>\n    </tr>\n    <tr>\n      <th>Saucon IoT</th>\n      <td>None</td>\n      <td>None</td>\n      <td>NaN</td>\n      <td>NaN</td>\n    </tr>\n    <tr>\n      <th>...</th>\n      <td>...</td>\n      <td>...</td>\n      <td>...</td>\n      <td>...</td>\n    </tr>\n    <tr>\n      <th>Straight Talk</th>\n      <td>None</td>\n      <td>None</td>\n      <td>NaN</td>\n      <td>NaN</td>\n    </tr>\n    <tr>\n      <th>Maadinfo Services</th>\n      <td>2 allée des Ormeaux\\n06130 Grasse\\nFrance</td>\n      <td>(2 Allée des Ormeaux, Grasse, 06130, (43.6564, 6.91355))</td>\n      <td>6.91355</td>\n      <td>43.65640</td>\n    </tr>\n    <tr>\n      <th>Usatine Media</th>\n      <td>8529 Raintree Woods Drive\\nFair Oaks Ranch, TX 78255</td>\n      <td>(8529 Raintree Woods Drive, Boerne, TX 78015, (29.73904, -98.65005))</td>\n      <td>-98.65005</td>\n      <td>29.73904</td>\n    </tr>\n    <tr>\n      <th>youthhr</th>\n      <td>None</td>\n      <td>None</td>\n      <td>NaN</td>\n      <td>NaN</td>\n    </tr>\n    <tr>\n      <th>Badsnowball Limited</th>\n      <td>UNIT 408B, LIPPO SUN PLAZA, 28 CANTON ROAD, TSIM SHA TSUI,</td>\n      <td>(28 Canton Road, Yau Tsim Mong District, (22.29689, 114.16954))</td>\n      <td>114.16954</td>\n      <td>22.29689</td>\n    </tr>\n  </tbody>\n</table>\n<p>100 rows × 4 columns</p>\n</div>"
     },
     "execution_count": 76,
     "metadata": {},
     "output_type": "execute_result"
    }
   ],
   "source": [
    "%run -i '0_paths_open_save.py'\n",
    "%run -i '1_scraping_cleaning_merge.py'\n",
    "%run -i '2_summary_stats_visualization_new.py'\n",
    "initial_panel='201907'\n",
    "o = open_files(initial_panel=initial_panel)\n",
    "DF = o.open_panel_df(type='dev_index_geocoded')\n",
    "all_panels = ['201907',\n",
    "              '201908',\n",
    "              '201909',\n",
    "              '201912',\n",
    "              '202001',\n",
    "              '202003',\n",
    "              '202004',\n",
    "              '202009',\n",
    "              '202010',\n",
    "              '202011',\n",
    "              '202012',\n",
    "              '202101',\n",
    "              '202102']\n",
    "consec_panels = ['202009', '202010', '202011', '202012', '202101', '202102']\n",
    "new_class_obj = pre_processing(\n",
    "                  df=DF,\n",
    "                  df_index = 'dev_index_geocoded',\n",
    "                  initial_panel=initial_panel,\n",
    "                  all_panels=all_panels,\n",
    "                  consec_panels=consec_panels)\n",
    "print(new_class_obj.df.shape)\n",
    "DF2 = new_class_obj.df[['developerAddress_201907', 'location', 'longitude', 'latitude']]\n",
    "testdf1 = DF2.sample(100)\n",
    "testdf1"
   ],
   "metadata": {
    "collapsed": false,
    "pycharm": {
     "name": "#%%\n"
    }
   }
  },
  {
   "cell_type": "markdown",
   "source": [
    "# 4. check whether the multiindex conversion is correct"
   ],
   "metadata": {
    "collapsed": false,
    "pycharm": {
     "name": "#%% md\n"
    }
   }
  },
  {
   "cell_type": "code",
   "execution_count": null,
   "outputs": [],
   "source": [
    "# test file\n",
    "%run -i '0_paths_open_save.py'\n",
    "%run -i '1_scraping_cleaning_merge.py'\n",
    "%run -i '2_summary_stats_visualization_new.py'\n",
    "\n",
    "o = open_files(initial_panel='201812')\n",
    "DF = o.open_panel_df(type='dev_multiindex_geocoded')\n",
    "all_panels = ['201812',\n",
    "              '201912',\n",
    "              '202001',\n",
    "              '202003',\n",
    "              '202004',\n",
    "              '202009',\n",
    "              '202010',\n",
    "              '202011',\n",
    "              '202012',\n",
    "              '202101',\n",
    "              '202102']\n",
    "consec_panels = ['202009', '202010', '202011', '202012', '202101', '202102']\n",
    "new_class_obj = pre_processing(\n",
    "                  df=testdf1,\n",
    "                  df_index = 'dev_multiindex_geocoded',\n",
    "                  initial_panel='201812',\n",
    "                  all_panels=all_panels,\n",
    "                  consec_panels=consec_panels)\n",
    "new_class_obj.print_col_names(text='appId')"
   ],
   "metadata": {
    "collapsed": false,
    "pycharm": {
     "name": "#%%\n"
    }
   }
  },
  {
   "cell_type": "markdown",
   "source": [
    "# 5. test code for deleting missing, imputing missing and deleting outliers"
   ],
   "metadata": {
    "collapsed": false,
    "pycharm": {
     "name": "#%% md\n"
    }
   }
  },
  {
   "cell_type": "code",
   "execution_count": 8,
   "outputs": [
    {
     "ename": "ImportError",
     "evalue": "cannot import name 'nlp_pipeline' from 'STEP3_NLP_pipeline' (/home/naixin/Insync/naixin88@sina.cn/OneDrive/__CODING__/PycharmProjects/GOOGLE_PLAY/scripts/STEP3_NLP_pipeline.py)",
     "output_type": "error",
     "traceback": [
      "\u001B[0;31m---------------------------------------------------------------------------\u001B[0m",
      "\u001B[0;31mImportError\u001B[0m                               Traceback (most recent call last)",
      "\u001B[0;32m<ipython-input-8-8105103c45dd>\u001B[0m in \u001B[0;36m<module>\u001B[0;34m\u001B[0m\n\u001B[1;32m      2\u001B[0m \u001B[0;31m# from STEP1_scraping_cleaning_merge import scrape, app_detail_dicts\u001B[0m\u001B[0;34m\u001B[0m\u001B[0;34m\u001B[0m\u001B[0;34m\u001B[0m\u001B[0m\n\u001B[1;32m      3\u001B[0m \u001B[0;32mfrom\u001B[0m \u001B[0mSTEP2_summary_stats_visualization_new\u001B[0m \u001B[0;32mimport\u001B[0m \u001B[0mpre_processing\u001B[0m\u001B[0;34m\u001B[0m\u001B[0;34m\u001B[0m\u001B[0m\n\u001B[0;32m----> 4\u001B[0;31m \u001B[0;32mfrom\u001B[0m \u001B[0mSTEP3_NLP_pipeline\u001B[0m \u001B[0;32mimport\u001B[0m \u001B[0mnlp_pipeline\u001B[0m\u001B[0;34m\u001B[0m\u001B[0;34m\u001B[0m\u001B[0m\n\u001B[0m\u001B[1;32m      5\u001B[0m \u001B[0minitial_panel\u001B[0m\u001B[0;34m=\u001B[0m\u001B[0;34m'201907'\u001B[0m\u001B[0;34m\u001B[0m\u001B[0;34m\u001B[0m\u001B[0m\n\u001B[1;32m      6\u001B[0m \u001B[0mo\u001B[0m \u001B[0;34m=\u001B[0m \u001B[0mopen_files\u001B[0m\u001B[0;34m(\u001B[0m\u001B[0minitial_panel\u001B[0m\u001B[0;34m=\u001B[0m\u001B[0minitial_panel\u001B[0m\u001B[0;34m)\u001B[0m\u001B[0;34m\u001B[0m\u001B[0;34m\u001B[0m\u001B[0m\n",
      "\u001B[0;31mImportError\u001B[0m: cannot import name 'nlp_pipeline' from 'STEP3_NLP_pipeline' (/home/naixin/Insync/naixin88@sina.cn/OneDrive/__CODING__/PycharmProjects/GOOGLE_PLAY/scripts/STEP3_NLP_pipeline.py)"
     ]
    }
   ],
   "source": [
    "from STEP0_paths_open_save import open_files, save_files\n",
    "# from STEP1_scraping_cleaning_merge import scrape, app_detail_dicts\n",
    "from STEP2_summary_stats_visualization_new import pre_processing\n",
    "# from STEP3_NLP_pipeline import nlp_pipeline\n",
    "initial_panel='201907'\n",
    "o = open_files(initial_panel=initial_panel)\n",
    "DF = o.open_panel_df(name='MERGED')\n",
    "all_panels = ['201907',\n",
    "              '201908',\n",
    "              '201909',\n",
    "              '201912',\n",
    "              '202001',\n",
    "              '202003',\n",
    "              '202004',\n",
    "              '202009',\n",
    "              '202010',\n",
    "              '202011',\n",
    "              '202012',\n",
    "              '202101',\n",
    "              '202102']\n",
    "consec_panels = ['202009', '202010', '202011', '202012', '202101', '202102']\n",
    "new_class_obj = pre_processing(\n",
    "                  df=DF,\n",
    "                  df_index = 'appid',\n",
    "                  initial_panel=initial_panel,\n",
    "                  all_panels=all_panels,\n",
    "                  consec_panels=consec_panels)\n",
    "print(new_class_obj.df.shape)"
   ],
   "metadata": {
    "collapsed": false,
    "pycharm": {
     "name": "#%%\n"
    }
   }
  },
  {
   "cell_type": "code",
   "execution_count": 12,
   "outputs": [
    {
     "name": "stdout",
     "output_type": "stream",
     "text": [
      "['description_201907', 'description_201908', 'description_201909', 'description_201912', 'description_202001', 'description_202003', 'description_202004', 'description_202009', 'description_202010', 'description_202011', 'description_202012', 'description_202101', 'description_202102'] ['201907', '201908', '201909', '201912', '202001', '202003', '202004', '202009', '202010', '202011', '202012', '202101', '202102']\n"
     ]
    }
   ],
   "source": [
    "cols, ps = new_class_obj.select_the_var(var='description')\n",
    "print(cols, ps)"
   ],
   "metadata": {
    "collapsed": false,
    "pycharm": {
     "name": "#%%\n"
    }
   }
  },
  {
   "cell_type": "code",
   "execution_count": 5,
   "outputs": [
    {
     "name": "stdout",
     "output_type": "stream",
     "text": [
      "title_201907\n",
      "description_201907\n",
      "summary_201907\n",
      "minInstalls_201907\n",
      "score_201907\n",
      "ratings_201907\n",
      "reviews_201907\n",
      "histogram_201907\n",
      "price_201907\n",
      "currency_201907\n",
      "size_201907\n",
      "developer_201907\n",
      "released_201907\n",
      "updated_201907\n",
      "comments_201907\n",
      "developerId_201907\n",
      "developerWebsite_201907\n",
      "developerEmail_201907\n",
      "developerAddress_201907\n",
      "appId_201907\n",
      "adSupported_True_201907\n",
      "containsAds_True_201907\n",
      "free_True_201907\n",
      "offersIAP_True_201907\n",
      "contentRating_Adult_201907\n",
      "contentRating_Everyone_201907\n",
      "contentRating_Teen_201907\n",
      "genreId_Entertainment_201907\n",
      "genreId_Game_201907\n",
      "genreId_Productivity_201907\n",
      "title_201908\n",
      "description_201908\n",
      "summary_201908\n",
      "minInstalls_201908\n",
      "score_201908\n",
      "ratings_201908\n",
      "reviews_201908\n",
      "histogram_201908\n",
      "price_201908\n",
      "currency_201908\n",
      "size_201908\n",
      "developer_201908\n",
      "released_201908\n",
      "updated_201908\n",
      "comments_201908\n",
      "developerId_201908\n",
      "developerWebsite_201908\n",
      "developerEmail_201908\n",
      "developerAddress_201908\n",
      "appId_201908\n",
      "adSupported_True_201908\n",
      "containsAds_True_201908\n",
      "free_True_201908\n",
      "offersIAP_True_201908\n",
      "contentRating_Adult_201908\n",
      "contentRating_Everyone_201908\n",
      "contentRating_Teen_201908\n",
      "genreId_Entertainment_201908\n",
      "genreId_Game_201908\n",
      "genreId_Productivity_201908\n",
      "title_201909\n",
      "description_201909\n",
      "summary_201909\n",
      "minInstalls_201909\n",
      "score_201909\n",
      "ratings_201909\n",
      "reviews_201909\n",
      "histogram_201909\n",
      "price_201909\n",
      "currency_201909\n",
      "size_201909\n",
      "developer_201909\n",
      "released_201909\n",
      "updated_201909\n",
      "comments_201909\n",
      "developerId_201909\n",
      "developerWebsite_201909\n",
      "developerEmail_201909\n",
      "developerAddress_201909\n",
      "appId_201909\n",
      "adSupported_True_201909\n",
      "containsAds_True_201909\n",
      "free_True_201909\n",
      "offersIAP_True_201909\n",
      "contentRating_Adult_201909\n",
      "contentRating_Everyone_201909\n",
      "contentRating_Teen_201909\n",
      "genreId_Entertainment_201909\n",
      "genreId_Game_201909\n",
      "genreId_Productivity_201909\n",
      "title_201912\n",
      "description_201912\n",
      "summary_201912\n",
      "minInstalls_201912\n",
      "score_201912\n",
      "ratings_201912\n",
      "reviews_201912\n",
      "histogram_201912\n",
      "price_201912\n",
      "currency_201912\n",
      "size_201912\n",
      "developer_201912\n",
      "released_201912\n",
      "updated_201912\n",
      "comments_201912\n",
      "developerId_201912\n",
      "developerWebsite_201912\n",
      "developerEmail_201912\n",
      "developerAddress_201912\n",
      "appId_201912\n",
      "adSupported_True_201912\n",
      "containsAds_True_201912\n",
      "free_True_201912\n",
      "offersIAP_True_201912\n",
      "contentRating_Adult_201912\n",
      "contentRating_Everyone_201912\n",
      "contentRating_Teen_201912\n",
      "genreId_Entertainment_201912\n",
      "genreId_Game_201912\n",
      "genreId_Productivity_201912\n",
      "title_202001\n",
      "description_202001\n",
      "summary_202001\n",
      "minInstalls_202001\n",
      "score_202001\n",
      "ratings_202001\n",
      "reviews_202001\n",
      "histogram_202001\n",
      "price_202001\n",
      "currency_202001\n",
      "size_202001\n",
      "developer_202001\n",
      "released_202001\n",
      "updated_202001\n",
      "comments_202001\n",
      "developerId_202001\n",
      "developerWebsite_202001\n",
      "developerEmail_202001\n",
      "developerAddress_202001\n",
      "appId_202001\n",
      "adSupported_True_202001\n",
      "containsAds_True_202001\n",
      "free_True_202001\n",
      "offersIAP_True_202001\n",
      "contentRating_Adult_202001\n",
      "contentRating_Everyone_202001\n",
      "contentRating_Teen_202001\n",
      "genreId_Entertainment_202001\n",
      "genreId_Game_202001\n",
      "genreId_Productivity_202001\n",
      "title_202003\n",
      "description_202003\n",
      "summary_202003\n",
      "minInstalls_202003\n",
      "score_202003\n",
      "ratings_202003\n",
      "reviews_202003\n",
      "histogram_202003\n",
      "price_202003\n",
      "currency_202003\n",
      "size_202003\n",
      "developer_202003\n",
      "released_202003\n",
      "updated_202003\n",
      "comments_202003\n",
      "developerId_202003\n",
      "developerWebsite_202003\n",
      "developerEmail_202003\n",
      "developerAddress_202003\n",
      "appId_202003\n",
      "adSupported_True_202003\n",
      "containsAds_True_202003\n",
      "free_True_202003\n",
      "offersIAP_True_202003\n",
      "contentRating_Adult_202003\n",
      "contentRating_Everyone_202003\n",
      "contentRating_Teen_202003\n",
      "genreId_Entertainment_202003\n",
      "genreId_Game_202003\n",
      "genreId_Productivity_202003\n",
      "title_202004\n",
      "description_202004\n",
      "summary_202004\n",
      "minInstalls_202004\n",
      "score_202004\n",
      "ratings_202004\n",
      "reviews_202004\n",
      "histogram_202004\n",
      "price_202004\n",
      "currency_202004\n",
      "size_202004\n",
      "developer_202004\n",
      "released_202004\n",
      "updated_202004\n",
      "comments_202004\n",
      "developerId_202004\n",
      "developerWebsite_202004\n",
      "developerEmail_202004\n",
      "developerAddress_202004\n",
      "appId_202004\n",
      "adSupported_True_202004\n",
      "containsAds_True_202004\n",
      "free_True_202004\n",
      "offersIAP_True_202004\n",
      "contentRating_Adult_202004\n",
      "contentRating_Everyone_202004\n",
      "contentRating_Teen_202004\n",
      "genreId_Entertainment_202004\n",
      "genreId_Game_202004\n",
      "genreId_Productivity_202004\n",
      "title_202009\n",
      "description_202009\n",
      "summary_202009\n",
      "minInstalls_202009\n",
      "score_202009\n",
      "ratings_202009\n",
      "reviews_202009\n",
      "histogram_202009\n",
      "price_202009\n",
      "currency_202009\n",
      "inAppProductPrice_202009\n",
      "size_202009\n",
      "developer_202009\n",
      "developerId_202009\n",
      "developerEmail_202009\n",
      "developerWebsite_202009\n",
      "developerAddress_202009\n",
      "released_202009\n",
      "updated_202009\n",
      "comments_202009\n",
      "appId_202009\n",
      "adSupported_True_202009\n",
      "containsAds_True_202009\n",
      "free_True_202009\n",
      "offersIAP_True_202009\n",
      "contentRating_Adult_202009\n",
      "contentRating_Everyone_202009\n",
      "contentRating_Teen_202009\n",
      "genreId_Entertainment_202009\n",
      "genreId_Game_202009\n",
      "genreId_Productivity_202009\n",
      "title_202010\n",
      "description_202010\n",
      "summary_202010\n",
      "minInstalls_202010\n",
      "score_202010\n",
      "ratings_202010\n",
      "reviews_202010\n",
      "histogram_202010\n",
      "price_202010\n",
      "currency_202010\n",
      "inAppProductPrice_202010\n",
      "size_202010\n",
      "developer_202010\n",
      "developerId_202010\n",
      "developerEmail_202010\n",
      "developerWebsite_202010\n",
      "developerAddress_202010\n",
      "released_202010\n",
      "updated_202010\n",
      "comments_202010\n",
      "appId_202010\n",
      "adSupported_True_202010\n",
      "containsAds_True_202010\n",
      "free_True_202010\n",
      "offersIAP_True_202010\n",
      "contentRating_Adult_202010\n",
      "contentRating_Everyone_202010\n",
      "contentRating_Teen_202010\n",
      "genreId_Entertainment_202010\n",
      "genreId_Game_202010\n",
      "genreId_Productivity_202010\n",
      "title_202011\n",
      "description_202011\n",
      "summary_202011\n",
      "minInstalls_202011\n",
      "score_202011\n",
      "ratings_202011\n",
      "reviews_202011\n",
      "histogram_202011\n",
      "price_202011\n",
      "currency_202011\n",
      "inAppProductPrice_202011\n",
      "size_202011\n",
      "developer_202011\n",
      "developerId_202011\n",
      "developerEmail_202011\n",
      "developerWebsite_202011\n",
      "developerAddress_202011\n",
      "released_202011\n",
      "updated_202011\n",
      "comments_202011\n",
      "appId_202011\n",
      "adSupported_True_202011\n",
      "containsAds_True_202011\n",
      "free_True_202011\n",
      "offersIAP_True_202011\n",
      "contentRating_Adult_202011\n",
      "contentRating_Everyone_202011\n",
      "contentRating_Teen_202011\n",
      "genreId_Entertainment_202011\n",
      "genreId_Game_202011\n",
      "genreId_Productivity_202011\n",
      "title_202012\n",
      "description_202012\n",
      "summary_202012\n",
      "minInstalls_202012\n",
      "score_202012\n",
      "ratings_202012\n",
      "reviews_202012\n",
      "histogram_202012\n",
      "price_202012\n",
      "currency_202012\n",
      "inAppProductPrice_202012\n",
      "size_202012\n",
      "developer_202012\n",
      "developerId_202012\n",
      "developerEmail_202012\n",
      "developerWebsite_202012\n",
      "developerAddress_202012\n",
      "released_202012\n",
      "updated_202012\n",
      "comments_202012\n",
      "appId_202012\n",
      "adSupported_True_202012\n",
      "containsAds_True_202012\n",
      "free_True_202012\n",
      "offersIAP_True_202012\n",
      "contentRating_Adult_202012\n",
      "contentRating_Everyone_202012\n",
      "contentRating_Teen_202012\n",
      "genreId_Entertainment_202012\n",
      "genreId_Game_202012\n",
      "genreId_Productivity_202012\n",
      "title_202101\n",
      "description_202101\n",
      "summary_202101\n",
      "minInstalls_202101\n",
      "score_202101\n",
      "ratings_202101\n",
      "reviews_202101\n",
      "histogram_202101\n",
      "price_202101\n",
      "currency_202101\n",
      "inAppProductPrice_202101\n",
      "size_202101\n",
      "developer_202101\n",
      "developerId_202101\n",
      "developerEmail_202101\n",
      "developerWebsite_202101\n",
      "developerAddress_202101\n",
      "released_202101\n",
      "updated_202101\n",
      "comments_202101\n",
      "appId_202101\n",
      "adSupported_True_202101\n",
      "containsAds_True_202101\n",
      "free_True_202101\n",
      "offersIAP_True_202101\n",
      "contentRating_Adult_202101\n",
      "contentRating_Everyone_202101\n",
      "contentRating_Teen_202101\n",
      "genreId_Entertainment_202101\n",
      "genreId_Game_202101\n",
      "genreId_Productivity_202101\n",
      "title_202102\n",
      "description_202102\n",
      "summary_202102\n",
      "minInstalls_202102\n",
      "score_202102\n",
      "ratings_202102\n",
      "reviews_202102\n",
      "histogram_202102\n",
      "price_202102\n",
      "currency_202102\n",
      "inAppProductPrice_202102\n",
      "size_202102\n",
      "developer_202102\n",
      "developerId_202102\n",
      "developerEmail_202102\n",
      "developerWebsite_202102\n",
      "developerAddress_202102\n",
      "released_202102\n",
      "updated_202102\n",
      "comments_202102\n",
      "appId_202102\n",
      "adSupported_True_202102\n",
      "containsAds_True_202102\n",
      "free_True_202102\n",
      "offersIAP_True_202102\n",
      "contentRating_Adult_202102\n",
      "contentRating_Everyone_202102\n",
      "contentRating_Teen_202102\n",
      "genreId_Entertainment_202102\n",
      "genreId_Game_202102\n",
      "genreId_Productivity_202102\n"
     ]
    },
    {
     "data": {
      "text/plain": "Index(['title_201907', 'description_201907', 'summary_201907',\n       'minInstalls_201907', 'score_201907', 'ratings_201907',\n       'reviews_201907', 'histogram_201907', 'price_201907', 'currency_201907',\n       ...\n       'adSupported_True_202102', 'containsAds_True_202102',\n       'free_True_202102', 'offersIAP_True_202102',\n       'contentRating_Adult_202102', 'contentRating_Everyone_202102',\n       'contentRating_Teen_202102', 'genreId_Entertainment_202102',\n       'genreId_Game_202102', 'genreId_Productivity_202102'],\n      dtype='object', length=396)"
     },
     "execution_count": 5,
     "metadata": {},
     "output_type": "execute_result"
    }
   ],
   "source": [
    "new_class_obj.print_col_names()"
   ],
   "metadata": {
    "collapsed": false,
    "pycharm": {
     "name": "#%%\n"
    }
   }
  },
  {
   "cell_type": "code",
   "execution_count": 174,
   "outputs": [
    {
     "name": "stdout",
     "output_type": "stream",
     "text": [
      "                               count missing\n",
      "minInstalls_201907             25           \n",
      "minInstalls_201908             25           \n",
      "minInstalls_201909             25           \n",
      "minInstalls_201912             25           \n",
      "minInstalls_202001             25           \n",
      "minInstalls_202003             25           \n",
      "minInstalls_202004             25           \n",
      "minInstalls_202009             50           \n",
      "minInstalls_202010             113          \n",
      "minInstalls_202011             167          \n",
      "minInstalls_202012             287          \n",
      "minInstalls_202101             336          \n",
      "minInstalls_202102             396          \n",
      "score_201907                   8            \n",
      "score_201908                   8            \n",
      "score_201909                   8            \n",
      "score_201912                   8            \n",
      "score_202001                   8            \n",
      "score_202003                   8            \n",
      "score_202004                   8            \n",
      "score_202009                   54           \n",
      "score_202010                   116          \n",
      "score_202011                   170          \n",
      "score_202012                   290          \n",
      "score_202101                   339          \n",
      "score_202102                   399          \n",
      "reviews_201907                 6            \n",
      "reviews_201908                 6            \n",
      "reviews_201909                 6            \n",
      "reviews_201912                 6            \n",
      "reviews_202001                 6            \n",
      "reviews_202003                 6            \n",
      "reviews_202004                 6            \n",
      "reviews_202009                 54           \n",
      "reviews_202010                 116          \n",
      "reviews_202011                 170          \n",
      "reviews_202012                 290          \n",
      "reviews_202101                 339          \n",
      "reviews_202102                 399          \n",
      "ratings_201907                 28           \n",
      "ratings_201908                 28           \n",
      "ratings_201909                 28           \n",
      "ratings_201912                 28           \n",
      "ratings_202001                 28           \n",
      "ratings_202003                 28           \n",
      "ratings_202004                 28           \n",
      "ratings_202009                 385          \n",
      "ratings_202010                 432          \n",
      "ratings_202011                 479          \n",
      "ratings_202012                 584          \n",
      "ratings_202101                 621          \n",
      "ratings_202102                 673          \n",
      "price_201907                   3            \n",
      "price_201908                   3            \n",
      "price_201909                   3            \n",
      "price_201912                   3            \n",
      "price_202001                   3            \n",
      "price_202003                   3            \n",
      "price_202004                   3            \n",
      "price_202009                   50           \n",
      "price_202010                   113          \n",
      "price_202011                   167          \n",
      "price_202012                   287          \n",
      "price_202101                   336          \n",
      "price_202102                   396          \n",
      "description_201907             8            \n",
      "description_201908             8            \n",
      "description_201909             8            \n",
      "description_201912             8            \n",
      "description_202001             8            \n",
      "description_202003             8            \n",
      "description_202004             8            \n",
      "description_202009             50           \n",
      "description_202010             113          \n",
      "description_202011             167          \n",
      "description_202012             287          \n",
      "description_202101             336          \n",
      "description_202102             396          \n",
      "released_201907                140          \n",
      "released_201908                140          \n",
      "released_201909                140          \n",
      "released_201912                140          \n",
      "released_202001                140          \n",
      "released_202003                140          \n",
      "released_202004                140          \n",
      "released_202009                165          \n",
      "released_202010                226          \n",
      "released_202011                281          \n",
      "released_202012                401          \n",
      "released_202101                449          \n",
      "released_202102                509          \n",
      "updated_201907                 3            \n",
      "updated_201908                 3            \n",
      "updated_201909                 3            \n",
      "updated_201912                 3            \n",
      "updated_202001                 3            \n",
      "updated_202003                 3            \n",
      "updated_202004                 3            \n",
      "updated_202009                 50           \n",
      "updated_202010                 113          \n",
      "updated_202011                 167          \n",
      "updated_202012                 287          \n",
      "updated_202101                 336          \n",
      "updated_202102                 396          \n",
      "size_201907                    1670         \n",
      "size_201908                    1670         \n",
      "size_201909                    1670         \n",
      "size_201912                    1670         \n",
      "size_202001                    1670         \n",
      "size_202003                    1670         \n",
      "size_202004                    1670         \n",
      "size_202009                    1738         \n",
      "size_202010                    1797         \n",
      "size_202011                    1831         \n",
      "size_202012                    1936         \n",
      "size_202101                    1966         \n",
      "size_202102                    2000         \n",
      "free_True_201907               0            \n",
      "free_True_201908               0            \n",
      "free_True_201909               0            \n",
      "free_True_201912               0            \n",
      "free_True_202001               0            \n",
      "free_True_202003               0            \n",
      "free_True_202004               0            \n",
      "free_True_202009               0            \n",
      "free_True_202010               0            \n",
      "free_True_202011               0            \n",
      "free_True_202012               0            \n",
      "free_True_202101               0            \n",
      "free_True_202102               0            \n",
      "adSupported_True_201907        0            \n",
      "adSupported_True_201908        0            \n",
      "adSupported_True_201909        0            \n",
      "adSupported_True_201912        0            \n",
      "adSupported_True_202001        0            \n",
      "adSupported_True_202003        0            \n",
      "adSupported_True_202004        0            \n",
      "adSupported_True_202009        0            \n",
      "adSupported_True_202010        0            \n",
      "adSupported_True_202011        0            \n",
      "adSupported_True_202012        0            \n",
      "adSupported_True_202101        0            \n",
      "adSupported_True_202102        0            \n",
      "containsAds_True_201907        0            \n",
      "containsAds_True_201908        0            \n",
      "containsAds_True_201909        0            \n",
      "containsAds_True_201912        0            \n",
      "containsAds_True_202001        0            \n",
      "containsAds_True_202003        0            \n",
      "containsAds_True_202004        0            \n",
      "containsAds_True_202009        0            \n",
      "containsAds_True_202010        0            \n",
      "containsAds_True_202011        0            \n",
      "containsAds_True_202012        0            \n",
      "containsAds_True_202101        0            \n",
      "containsAds_True_202102        0            \n",
      "offersIAP_True_201907          0            \n",
      "offersIAP_True_201908          0            \n",
      "offersIAP_True_201909          0            \n",
      "offersIAP_True_201912          0            \n",
      "offersIAP_True_202001          0            \n",
      "offersIAP_True_202003          0            \n",
      "offersIAP_True_202004          0            \n",
      "offersIAP_True_202009          0            \n",
      "offersIAP_True_202010          0            \n",
      "offersIAP_True_202011          0            \n",
      "offersIAP_True_202012          0            \n",
      "offersIAP_True_202101          0            \n",
      "offersIAP_True_202102          0            \n",
      "contentRating_Adult_201907     0            \n",
      "contentRating_Adult_201908     0            \n",
      "contentRating_Adult_201909     0            \n",
      "contentRating_Adult_201912     0            \n",
      "contentRating_Adult_202001     0            \n",
      "contentRating_Adult_202003     0            \n",
      "contentRating_Adult_202004     0            \n",
      "contentRating_Adult_202009     0            \n",
      "contentRating_Adult_202010     0            \n",
      "contentRating_Adult_202011     0            \n",
      "contentRating_Adult_202012     0            \n",
      "contentRating_Adult_202101     0            \n",
      "contentRating_Adult_202102     0            \n",
      "contentRating_Everyone_201907  0            \n",
      "contentRating_Everyone_201908  0            \n",
      "contentRating_Everyone_201909  0            \n",
      "contentRating_Everyone_201912  0            \n",
      "contentRating_Everyone_202001  0            \n",
      "contentRating_Everyone_202003  0            \n",
      "contentRating_Everyone_202004  0            \n",
      "contentRating_Everyone_202009  0            \n",
      "contentRating_Everyone_202010  0            \n",
      "contentRating_Everyone_202011  0            \n",
      "contentRating_Everyone_202012  0            \n",
      "contentRating_Everyone_202101  0            \n",
      "contentRating_Everyone_202102  0            \n",
      "contentRating_Teen_201907      0            \n",
      "contentRating_Teen_201908      0            \n",
      "contentRating_Teen_201909      0            \n",
      "contentRating_Teen_201912      0            \n",
      "contentRating_Teen_202001      0            \n",
      "contentRating_Teen_202003      0            \n",
      "contentRating_Teen_202004      0            \n",
      "contentRating_Teen_202009      0            \n",
      "contentRating_Teen_202010      0            \n",
      "contentRating_Teen_202011      0            \n",
      "contentRating_Teen_202012      0            \n",
      "contentRating_Teen_202101      0            \n",
      "contentRating_Teen_202102      0            \n",
      "genreId_Entertainment_201907   0            \n",
      "genreId_Entertainment_201908   0            \n",
      "genreId_Entertainment_201909   0            \n",
      "genreId_Entertainment_201912   0            \n",
      "genreId_Entertainment_202001   0            \n",
      "genreId_Entertainment_202003   0            \n",
      "genreId_Entertainment_202004   0            \n",
      "genreId_Entertainment_202009   0            \n",
      "genreId_Entertainment_202010   0            \n",
      "genreId_Entertainment_202011   0            \n",
      "genreId_Entertainment_202012   0            \n",
      "genreId_Entertainment_202101   0            \n",
      "genreId_Entertainment_202102   0            \n",
      "genreId_Game_201907            0            \n",
      "genreId_Game_201908            0            \n",
      "genreId_Game_201909            0            \n",
      "genreId_Game_201912            0            \n",
      "genreId_Game_202001            0            \n",
      "genreId_Game_202003            0            \n",
      "genreId_Game_202004            0            \n",
      "genreId_Game_202009            0            \n",
      "genreId_Game_202010            0            \n",
      "genreId_Game_202011            0            \n",
      "genreId_Game_202012            0            \n",
      "genreId_Game_202101            0            \n",
      "genreId_Game_202102            0            \n",
      "genreId_Productivity_201907    0            \n",
      "genreId_Productivity_201908    0            \n",
      "genreId_Productivity_201909    0            \n",
      "genreId_Productivity_201912    0            \n",
      "genreId_Productivity_202001    0            \n",
      "genreId_Productivity_202003    0            \n",
      "genreId_Productivity_202004    0            \n",
      "genreId_Productivity_202009    0            \n",
      "genreId_Productivity_202010    0            \n",
      "genreId_Productivity_202011    0            \n",
      "genreId_Productivity_202012    0            \n",
      "genreId_Productivity_202101    0            \n",
      "genreId_Productivity_202102    0            \n"
     ]
    }
   ],
   "source": [
    "missingdf = new_class_obj.count_missing(var_list=['minInstalls', 'score', 'reviews',\n",
    "                                                  'ratings', 'price', 'description',\n",
    "                                                  'released', 'updated', 'size', 'free_True', 'adSupported_True',\n",
    "                                                  'containsAds_True', 'offersIAP_True', 'contentRating_Adult',\n",
    "                                                  'contentRating_Everyone', 'contentRating_Teen',\n",
    "                                                  'genreId_Entertainment', 'genreId_Game',\n",
    "                                                  'genreId_Productivity'])\n",
    "print(missingdf)"
   ],
   "metadata": {
    "collapsed": false,
    "pycharm": {
     "name": "#%%\n"
    }
   }
  },
  {
   "cell_type": "code",
   "execution_count": 3,
   "outputs": [
    {
     "name": "stdout",
     "output_type": "stream",
     "text": [
      "number of apps with at least 6 consecutive missing panels for size are 1849\n",
      "out of 10576 apps.\n",
      "(13, 1849)\n"
     ]
    }
   ],
   "source": [
    "missing_df, missing_appids = new_class_obj.check_apps_with_consecutive_missing_panels(\n",
    "    var='size',\n",
    "    number_consec_panels_missing=6)\n",
    "print(missing_df.shape)"
   ],
   "metadata": {
    "collapsed": false,
    "pycharm": {
     "name": "#%%\n"
    }
   }
  },
  {
   "cell_type": "code",
   "execution_count": 175,
   "outputs": [
    {
     "data": {
      "text/plain": "                                size_201907  size_201908  size_201909  \\\ncom.redberry.glitterlips        33.0         33.0         33.0          \nzonek.design.paintbynumbers     58.0         58.0         58.0          \ncom.piupiuapps.hairstylesgirls  16.0         16.0         16.0          \n\n                                size_201912  size_202001  size_202003  \\\ncom.redberry.glitterlips        33.0         33.0         33.0          \nzonek.design.paintbynumbers     58.0         58.0         58.0          \ncom.piupiuapps.hairstylesgirls  16.0         16.0         16.0          \n\n                                size_202004  size_202009  size_202010  \\\ncom.redberry.glitterlips        33.0         33.0         33.0          \nzonek.design.paintbynumbers     58.0         58.0         58.0          \ncom.piupiuapps.hairstylesgirls  16.0         15.0        NaN            \n\n                                size_202011  size_202012  size_202101  \\\ncom.redberry.glitterlips        33.0         34.0        NaN            \nzonek.design.paintbynumbers     58.0        NaN          NaN            \ncom.piupiuapps.hairstylesgirls NaN          NaN          NaN            \n\n                                size_202102  \ncom.redberry.glitterlips        34.0         \nzonek.design.paintbynumbers    NaN           \ncom.piupiuapps.hairstylesgirls NaN           ",
      "text/html": "<div>\n<style scoped>\n    .dataframe tbody tr th:only-of-type {\n        vertical-align: middle;\n    }\n\n    .dataframe tbody tr th {\n        vertical-align: top;\n    }\n\n    .dataframe thead th {\n        text-align: right;\n    }\n</style>\n<table border=\"1\" class=\"dataframe\">\n  <thead>\n    <tr style=\"text-align: right;\">\n      <th></th>\n      <th>size_201907</th>\n      <th>size_201908</th>\n      <th>size_201909</th>\n      <th>size_201912</th>\n      <th>size_202001</th>\n      <th>size_202003</th>\n      <th>size_202004</th>\n      <th>size_202009</th>\n      <th>size_202010</th>\n      <th>size_202011</th>\n      <th>size_202012</th>\n      <th>size_202101</th>\n      <th>size_202102</th>\n    </tr>\n  </thead>\n  <tbody>\n    <tr>\n      <th>com.redberry.glitterlips</th>\n      <td>33.0</td>\n      <td>33.0</td>\n      <td>33.0</td>\n      <td>33.0</td>\n      <td>33.0</td>\n      <td>33.0</td>\n      <td>33.0</td>\n      <td>33.0</td>\n      <td>33.0</td>\n      <td>33.0</td>\n      <td>34.0</td>\n      <td>NaN</td>\n      <td>34.0</td>\n    </tr>\n    <tr>\n      <th>zonek.design.paintbynumbers</th>\n      <td>58.0</td>\n      <td>58.0</td>\n      <td>58.0</td>\n      <td>58.0</td>\n      <td>58.0</td>\n      <td>58.0</td>\n      <td>58.0</td>\n      <td>58.0</td>\n      <td>58.0</td>\n      <td>58.0</td>\n      <td>NaN</td>\n      <td>NaN</td>\n      <td>NaN</td>\n    </tr>\n    <tr>\n      <th>com.piupiuapps.hairstylesgirls</th>\n      <td>16.0</td>\n      <td>16.0</td>\n      <td>16.0</td>\n      <td>16.0</td>\n      <td>16.0</td>\n      <td>16.0</td>\n      <td>16.0</td>\n      <td>15.0</td>\n      <td>NaN</td>\n      <td>NaN</td>\n      <td>NaN</td>\n      <td>NaN</td>\n      <td>NaN</td>\n    </tr>\n  </tbody>\n</table>\n</div>"
     },
     "execution_count": 175,
     "metadata": {},
     "output_type": "execute_result"
    }
   ],
   "source": [
    "# reproduce the method impute_missing_using_adj_panels\n",
    "cols = []\n",
    "for i in new_class_obj.df.columns:\n",
    "    if 'size_' in i:\n",
    "        cols.append(i)\n",
    "test_df = new_class_obj.df[cols]\n",
    "test_df = test_df.loc[['com.redberry.glitterlips',\n",
    "         'zonek.design.paintbynumbers',\n",
    "         'com.piupiuapps.hairstylesgirls']]\n",
    "test_df"
   ],
   "metadata": {
    "collapsed": false,
    "pycharm": {
     "name": "#%%\n"
    }
   }
  },
  {
   "cell_type": "code",
   "execution_count": 176,
   "outputs": [
    {
     "data": {
      "text/plain": "                                size_201907  size_201908  size_201909  \\\ncom.redberry.glitterlips        33.0         33.0         33.0          \nzonek.design.paintbynumbers     58.0         58.0         58.0          \ncom.piupiuapps.hairstylesgirls  16.0         16.0         16.0          \n\n                                size_201912  size_202001  size_202003  \\\ncom.redberry.glitterlips        33.0         33.0         33.0          \nzonek.design.paintbynumbers     58.0         58.0         58.0          \ncom.piupiuapps.hairstylesgirls  16.0         16.0         16.0          \n\n                                size_202004  size_202009  size_202010  \\\ncom.redberry.glitterlips        33.0         33.0         33.000000     \nzonek.design.paintbynumbers     58.0         58.0         58.000000     \ncom.piupiuapps.hairstylesgirls  16.0         15.0         15.666667     \n\n                                size_202011  size_202012  size_202101  \\\ncom.redberry.glitterlips        33.000000    34.000000    33.285714     \nzonek.design.paintbynumbers     58.000000    58.000000    58.000000     \ncom.piupiuapps.hairstylesgirls  15.666667    15.666667    15.666667     \n\n                                size_202102  \ncom.redberry.glitterlips        34.000000    \nzonek.design.paintbynumbers     58.000000    \ncom.piupiuapps.hairstylesgirls  15.666667    ",
      "text/html": "<div>\n<style scoped>\n    .dataframe tbody tr th:only-of-type {\n        vertical-align: middle;\n    }\n\n    .dataframe tbody tr th {\n        vertical-align: top;\n    }\n\n    .dataframe thead th {\n        text-align: right;\n    }\n</style>\n<table border=\"1\" class=\"dataframe\">\n  <thead>\n    <tr style=\"text-align: right;\">\n      <th></th>\n      <th>size_201907</th>\n      <th>size_201908</th>\n      <th>size_201909</th>\n      <th>size_201912</th>\n      <th>size_202001</th>\n      <th>size_202003</th>\n      <th>size_202004</th>\n      <th>size_202009</th>\n      <th>size_202010</th>\n      <th>size_202011</th>\n      <th>size_202012</th>\n      <th>size_202101</th>\n      <th>size_202102</th>\n    </tr>\n  </thead>\n  <tbody>\n    <tr>\n      <th>com.redberry.glitterlips</th>\n      <td>33.0</td>\n      <td>33.0</td>\n      <td>33.0</td>\n      <td>33.0</td>\n      <td>33.0</td>\n      <td>33.0</td>\n      <td>33.0</td>\n      <td>33.0</td>\n      <td>33.000000</td>\n      <td>33.000000</td>\n      <td>34.000000</td>\n      <td>33.285714</td>\n      <td>34.000000</td>\n    </tr>\n    <tr>\n      <th>zonek.design.paintbynumbers</th>\n      <td>58.0</td>\n      <td>58.0</td>\n      <td>58.0</td>\n      <td>58.0</td>\n      <td>58.0</td>\n      <td>58.0</td>\n      <td>58.0</td>\n      <td>58.0</td>\n      <td>58.000000</td>\n      <td>58.000000</td>\n      <td>58.000000</td>\n      <td>58.000000</td>\n      <td>58.000000</td>\n    </tr>\n    <tr>\n      <th>com.piupiuapps.hairstylesgirls</th>\n      <td>16.0</td>\n      <td>16.0</td>\n      <td>16.0</td>\n      <td>16.0</td>\n      <td>16.0</td>\n      <td>16.0</td>\n      <td>16.0</td>\n      <td>15.0</td>\n      <td>15.666667</td>\n      <td>15.666667</td>\n      <td>15.666667</td>\n      <td>15.666667</td>\n      <td>15.666667</td>\n    </tr>\n  </tbody>\n</table>\n</div>"
     },
     "execution_count": 176,
     "metadata": {},
     "output_type": "execute_result"
    }
   ],
   "source": [
    "import functools\n",
    "import copy\n",
    "adj_panels = 7\n",
    "method = 'mean'\n",
    "df_list = []\n",
    "for j in range(len(test_df.columns)):\n",
    "    if j <= adj_panels//2 or j in [0, 1]:\n",
    "        df = test_df.iloc[:, 0:adj_panels+1]\n",
    "    elif j >= len(test_df.columns)-adj_panels//2-1:\n",
    "        df = test_df.iloc[:, len(test_df.columns)-adj_panels-1:len(test_df.columns)]\n",
    "    else:\n",
    "        if adj_panels == 1:\n",
    "            df = test_df.iloc[:, j-1:j+1]\n",
    "        else:\n",
    "            df = test_df.iloc[:, j-adj_panels//2:j+adj_panels//2+1]\n",
    "    if method == 'mean':\n",
    "        df[method] = df.mean(axis=1, skipna=True)\n",
    "    elif method == 'mode':\n",
    "        df[method] = df.mode(axis=1, numeric_only=False, dropna=True).iloc[:,0]\n",
    "    elif method == 'previous':\n",
    "        df[method] = df.iloc[:,0]\n",
    "    else:\n",
    "        df[method] = 0\n",
    "    dfd = copy.deepcopy(df)\n",
    "    for col in dfd.columns:\n",
    "        dfd.loc[dfd[col].isnull(), col] = dfd[method]\n",
    "    dfd = dfd[[test_df.columns[j]]]\n",
    "    df_list.append(dfd)\n",
    "imputed_df = functools.reduce(lambda a, b: a.join(b, how='inner'), df_list)\n",
    "imputed_df"
   ],
   "metadata": {
    "collapsed": false,
    "pycharm": {
     "name": "#%%\n"
    }
   }
  },
  {
   "cell_type": "code",
   "execution_count": 29,
   "outputs": [
    {
     "name": "stdout",
     "output_type": "stream",
     "text": [
      "number of apps with at least 1 consecutive missing panels for updated are 3\n",
      "out of 10576 apps.\n",
      "(13, 3)\n"
     ]
    }
   ],
   "source": [
    "missing_df, missing_appids = new_class_obj.check_apps_with_consecutive_missing_panels(\n",
    "    var='updated',\n",
    "    number_consec_panels_missing=1)\n",
    "print(missing_df.shape)"
   ],
   "metadata": {
    "collapsed": false,
    "pycharm": {
     "name": "#%% checked the imputed var\n"
    }
   }
  },
  {
   "cell_type": "markdown",
   "source": [
    "# test block for NLP pipeline\n",
    "Similar to geocode, this is an independent block, after imputation and deletion, you could simply merge\n",
    "this new var cols to the original dataframe"
   ],
   "metadata": {
    "collapsed": false,
    "pycharm": {
     "name": "#%% md\n"
    }
   }
  },
  {
   "cell_type": "code",
   "execution_count": 45,
   "outputs": [],
   "source": [
    "%run -i 'STEP0_paths_open_save.py'\n",
    "%run -i 'STEP3_NLP_pipeline.py'\n",
    "\n",
    "initial_panel='201907'\n",
    "o = open_files(initial_panel=initial_panel)\n",
    "DF = o.open_panel_df(name='MERGED')\n",
    "all_panels = ['201907',\n",
    "              '201908',\n",
    "              '201909',\n",
    "              '201912',\n",
    "              '202001',\n",
    "              '202003',\n",
    "              '202004',\n",
    "              '202009',\n",
    "              '202010',\n",
    "              '202011',\n",
    "              '202012',\n",
    "              '202101',\n",
    "              '202102']\n",
    "consec_panels = ['202009', '202010', '202011', '202012', '202101', '202102']\n",
    "new_class_obj = nlp_pipeline(\n",
    "                  df=DF,\n",
    "                  text_col_name='summary',\n",
    "                  initial_panel=initial_panel,\n",
    "                  all_panels=all_panels,\n",
    "                  consec_panels=consec_panels)"
   ],
   "metadata": {
    "collapsed": false,
    "pycharm": {
     "name": "#%%\n"
    }
   }
  },
  {
   "cell_type": "code",
   "execution_count": 42,
   "outputs": [
    {
     "data": {
      "text/plain": "summary_201907    Create live countdowns for any event in any time zone. Includes widgets.\nsummary_201908    Create live countdowns for any event in any time zone. Includes widgets.\nsummary_201909    Create live countdowns for any event in any time zone. Includes widgets.\nsummary_201912    Create live countdowns for any event in any time zone. Includes widgets.\nsummary_202001    Create live countdowns for any event in any time zone. Includes widgets.\nsummary_202003    Create live countdowns for any event in any time zone. Includes widgets.\nsummary_202004    Create live countdowns for any event in any time zone. Includes widgets.\nsummary_202009    Create live countdowns for any event in any time zone. Includes widgets.\nsummary_202010    Create live countdowns for any event in any time zone. Includes widgets.\nsummary_202011    Create live countdowns for any event in any time zone. Includes widgets.\nsummary_202012    Create live countdowns for any event in any time zone. Includes widgets.\nsummary_202101    Create live countdowns for any event in any time zone. Includes widgets.\nsummary_202102                                                                        None\nName: com.timeanddate.countdown, dtype: object"
     },
     "execution_count": 42,
     "metadata": {},
     "output_type": "execute_result"
    }
   ],
   "source": [
    "DF.loc['com.timeanddate.countdown', 'description_201907']\n",
    "cols = ['summary' + '_' + item for item in all_panels]\n",
    "DF.loc['com.timeanddate.countdown', cols]"
   ],
   "metadata": {
    "collapsed": false,
    "pycharm": {
     "name": "#%%\n"
    }
   }
  },
  {
   "cell_type": "code",
   "execution_count": 46,
   "outputs": [],
   "source": [
    "single_text_col = new_class_obj.prepare_text_col(\n",
    "    combine_panels=False\n",
    ")"
   ],
   "metadata": {
    "collapsed": false,
    "pycharm": {
     "name": "#%%\n"
    }
   }
  },
  {
   "cell_type": "code",
   "execution_count": 47,
   "outputs": [
    {
     "data": {
      "text/plain": "mobile.appcq8cCTCGnF                                               mobile event guide red robin events\ncom.cookapps.bubblecoco                exciting bubble shooting casual game ever aim shoot pop bubbles\nio.faceapp                                                                      perfect selfie one tap\ncom.ehzstudios.weatheredgepanel                                  start day weather forecast edge panel\ncom.everlance                      free automatic car mileage tracker expense log taxes reimbursements\ncom.oxagile.speedtracker                               gps speedometer route tracker hud trip computer\ncom.zynga.wizardofoz                             spin win way yellow brick road free casino slot games\ncom.longyou.changwutuan.global     music land mobile game including social interaction singing dancing\ncom.publix.pharmacyonline             manage prescriptions anytime anywhere publix pharmacy mobile app\ncom.redemptiongames.sugar            decorate design bake village full sweets solving fun puzzle games\nName: summary_202102, dtype: object"
     },
     "execution_count": 47,
     "metadata": {},
     "output_type": "execute_result"
    }
   ],
   "source": [
    "single_text_col.sample(10)"
   ],
   "metadata": {
    "collapsed": false,
    "pycharm": {
     "name": "#%%\n"
    }
   }
  },
  {
   "cell_type": "code",
   "execution_count": 41,
   "outputs": [
    {
     "name": "stdout",
     "output_type": "stream",
     "text": [
      "<class 'scipy.sparse.csr.csr_matrix'>\n"
     ]
    }
   ],
   "source": [
    "matrix, matrix_df = new_class_obj.tf_idf_transformation(\n",
    "    combined_all_panels_into_single_text_col=False\n",
    ")"
   ],
   "metadata": {
    "collapsed": false,
    "pycharm": {
     "name": "#%%\n"
    }
   }
  },
  {
   "cell_type": "code",
   "execution_count": 50,
   "outputs": [
    {
     "name": "stderr",
     "output_type": "stream",
     "text": [
      "\n",
      "\n",
      "  0%|          | 0/22 [00:00<?, ?it/s]\u001B[A\u001B[A\n",
      "\n",
      " 14%|█▎        | 3/22 [00:00<00:00, 28.15it/s]\u001B[A\u001B[A\n",
      "\n",
      " 27%|██▋       | 6/22 [00:00<00:00, 16.89it/s]\u001B[A\u001B[A\n",
      "\n",
      " 36%|███▋      | 8/22 [00:00<00:01,  7.86it/s]\u001B[A\u001B[A\n",
      "\n",
      " 45%|████▌     | 10/22 [00:03<00:05,  2.06it/s]\u001B[A\u001B[A\n",
      "\n",
      " 50%|█████     | 11/22 [00:04<00:07,  1.38it/s]\u001B[A\u001B[A\n",
      "\n",
      " 55%|█████▍    | 12/22 [00:06<00:10,  1.02s/it]\u001B[A\u001B[A\n",
      "\n",
      " 59%|█████▉    | 13/22 [00:09<00:12,  1.37s/it]\u001B[A\u001B[A\n",
      "\n",
      " 64%|██████▎   | 14/22 [00:12<00:13,  1.74s/it]\u001B[A\u001B[A\n",
      "\n",
      " 68%|██████▊   | 15/22 [00:15<00:14,  2.11s/it]\u001B[A\u001B[A\n",
      "\n",
      " 73%|███████▎  | 16/22 [00:18<00:14,  2.49s/it]\u001B[A\u001B[A\n",
      "\n",
      " 77%|███████▋  | 17/22 [00:22<00:14,  2.90s/it]\u001B[A\u001B[A\n",
      "\n",
      " 82%|████████▏ | 18/22 [00:26<00:12,  3.16s/it]\u001B[A\u001B[A\n",
      "\n",
      " 86%|████████▋ | 19/22 [00:30<00:10,  3.38s/it]\u001B[A\u001B[A\n",
      "\n",
      " 91%|█████████ | 20/22 [00:34<00:07,  3.67s/it]\u001B[A\u001B[A\n",
      "\n",
      " 95%|█████████▌| 21/22 [00:39<00:03,  3.95s/it]\u001B[A\u001B[A\n",
      "\n",
      "100%|██████████| 22/22 [00:44<00:00,  2.02s/it]\u001B[A\u001B[A\n"
     ]
    },
    {
     "name": "stdout",
     "output_type": "stream",
     "text": [
      "<class 'scipy.sparse.csr.csr_matrix'>\n",
      "Number of components = 4 and explained variance = 0.025611085499907114\n",
      "Number of components = 10 and explained variance = 0.052974678720316165\n",
      "Number of components = 15 and explained variance = 0.07184921290720728\n",
      "Number of components = 20 and explained variance = 0.08847679836418054\n",
      "Number of components = 50 and explained variance = 0.1621267454318502\n",
      "Number of components = 100 and explained variance = 0.25041291756621253\n",
      "Number of components = 150 and explained variance = 0.31897336372230756\n",
      "Number of components = 200 and explained variance = 0.3762197346416871\n",
      "Number of components = 500 and explained variance = 0.6062092937262209\n",
      "Number of components = 700 and explained variance = 0.7062455113326864\n",
      "Number of components = 800 and explained variance = 0.7472615726091041\n",
      "Number of components = 900 and explained variance = 0.7837825955535382\n",
      "Number of components = 1000 and explained variance = 0.8164639117383639\n",
      "Number of components = 1100 and explained variance = 0.8457195490694899\n",
      "Number of components = 1200 and explained variance = 0.8720288665211902\n",
      "Number of components = 1300 and explained variance = 0.8957147220232813\n",
      "Number of components = 1400 and explained variance = 0.9169548640604408\n",
      "Number of components = 1500 and explained variance = 0.9360376490584099\n",
      "Number of components = 1600 and explained variance = 0.9530153654253145\n",
      "Number of components = 1700 and explained variance = 0.9680081219269625\n",
      "Number of components = 1800 and explained variance = 0.9809959667643715\n",
      "Number of components = 1900 and explained variance = 0.9919210948057307\n"
     ]
    },
    {
     "data": {
      "text/plain": "<Figure size 432x288 with 1 Axes>",
      "image/png": "[encoded data removed]"
     },
     "metadata": {
      "needs_background": "light"
     },
     "output_type": "display_data"
    }
   ],
   "source": [
    "new_class_obj.truncate_svd_threshhold_plot(consecutive=False)\n"
   ],
   "metadata": {
    "collapsed": false,
    "pycharm": {
     "name": "#%%\n"
    }
   }
  },
  {
   "cell_type": "code",
   "execution_count": 54,
   "outputs": [
    {
     "name": "stdout",
     "output_type": "stream",
     "text": [
      "<class 'scipy.sparse.csr.csr_matrix'>\n",
      "(10576, 1500)\n"
     ]
    }
   ],
   "source": [
    "matrix_transformed, matrix_transformed_df = new_class_obj.truncate_svd(\n",
    "    n_comp=1500, random_state=50, consecutive=False)"
   ],
   "metadata": {
    "collapsed": false,
    "pycharm": {
     "name": "#%%\n"
    }
   }
  },
  {
   "cell_type": "code",
   "execution_count": 56,
   "outputs": [
    {
     "name": "stdout",
     "output_type": "stream",
     "text": [
      "<class 'scipy.sparse.csr.csr_matrix'>\n",
      "(10576, 1500)\n",
      "10576\n",
      "{0, 1, 2, 3, 4, 5, 6, 7, 8, 9, 10, 11, 12, 13, 14, 15, 16, 17, 18, 19, 20, 21, 22, 23, 24, 25, 26, 27, 28, 29, 30, 31, 32, 33, 34, 35, 36, 37, 38, 39, 40, 41, 42, 43, 44, 45, 46, 47, 48, 49, 50, 51, 52, 53, 54, 55, 56, 57, 58, 59, 60, 61, 62, 63, 64, 65, 66, 67, 68, 69, 70, 71, 72, 73, 74, 75, 76, 77, 78, 79, 80, 81, 82, 83, 84, 85, 86, 87, 88, 89, 90, 91, 92, 93, 94, 95, 96, 97, 98, 99, 100, 101, 102, 103, 104, 105, 106, 107, 108, 109, 110, 111, 112, 113, 114, 115, 116, 117, 118, 119, 120, 121, 122, 123, 124, 125, 126, 127, 128, 129, 130, 131, 132, 133, 134, 135, 136, 137, 138, 139, 140, 141, 142, 143, 144, 145, 146, 147, 148, 149, 150, 151, 152, 153, 154, 155, 156, 157, 158, 159, 160, 161, 162, 163, 164, 165, 166, 167, 168, 169, 170, 171, 172, 173, 174, 175, 176, 177, 178, 179, 180, 181, 182, 183, 184, 185, 186, 187, 188, 189, 190, 191, 192, 193, 194, 195, 196, 197, 198, 199}\n"
     ]
    }
   ],
   "source": [
    "y_kmeans, matrix_transformed_df = new_class_obj.kmeans_cluster(\n",
    "    n_clusters=200,\n",
    "    init='k-means++',\n",
    "    random_state=50,\n",
    "    n_comp=1500,\n",
    "    consecutive=False)"
   ],
   "metadata": {
    "collapsed": false,
    "pycharm": {
     "name": "#%%\n"
    }
   }
  },
  {
   "cell_type": "code",
   "execution_count": 58,
   "outputs": [
    {
     "name": "stdout",
     "output_type": "stream",
     "text": [
      "<class 'scipy.sparse.csr.csr_matrix'>\n",
      "(10576, 1500)\n"
     ]
    }
   ],
   "source": [
    "new_df = new_class_obj.add_predicted_cluster_labels_to_df(\n",
    "    n_clusters=200,\n",
    "    init='k-means++',\n",
    "    random_state=50,\n",
    "    n_comp=1500,\n",
    "    consecutive=False)"
   ],
   "metadata": {
    "collapsed": false,
    "pycharm": {
     "name": "#%%\n"
    }
   }
  },
  {
   "cell_type": "markdown",
   "source": [
    "# Test Block for Merging Dataframes Together"
   ],
   "metadata": {
    "collapsed": false,
    "pycharm": {
     "name": "#%% md\n"
    }
   }
  },
  {
   "cell_type": "code",
   "execution_count": 63,
   "outputs": [],
   "source": [
    "%run -i 'STEP0_paths_open_save.py'\n",
    "%run -i 'STEP4_Regression.py'\n",
    "\n",
    "initial_panel='201907'\n",
    "all_panels = ['201907',\n",
    "              '201908',\n",
    "              '201909',\n",
    "              '201912',\n",
    "              '202001',\n",
    "              '202003',\n",
    "              '202004',\n",
    "              '202009',\n",
    "              '202010',\n",
    "              '202011',\n",
    "              '202012',\n",
    "              '202101',\n",
    "              '202102']\n",
    "consec_panels = ['202009', '202010', '202011', '202012', '202101', '202102']\n",
    "\n",
    "o = open_files(initial_panel=initial_panel)\n",
    "DFA = o.open_panel_df(name='imputed_and_deleted_missing')\n",
    "DFD = o.open_panel_df(name='dev_index_geocoded')\n",
    "DFL = o.open_panel_df(name='predicted_text_cluster_labels')\n",
    "\n",
    "new_class_obj = combine_dataframes(\n",
    "                 initial_panel=initial_panel,\n",
    "                 all_panels=all_panels,\n",
    "                 consec_panels=consec_panels,\n",
    "                 appid_imputed_and_deleted_missing_df=DFA,\n",
    "                 dev_index_gecoded_df=DFD,\n",
    "                 appid_text_cluster_labeled_df=DFL)"
   ],
   "metadata": {
    "collapsed": false,
    "pycharm": {
     "name": "#%%\n"
    }
   }
  },
  {
   "cell_type": "code",
   "execution_count": 16,
   "outputs": [],
   "source": [
    "result_df = new_class_obj.combine_imputed_deleted_missing_with_text_labels()"
   ],
   "metadata": {
    "collapsed": false,
    "pycharm": {
     "name": "#%%\n"
    }
   }
  },
  {
   "cell_type": "code",
   "execution_count": 49,
   "outputs": [],
   "source": [
    "result_df = new_class_obj.convert_to_dev_multiindex()"
   ],
   "metadata": {
    "collapsed": false,
    "pycharm": {
     "name": "#%%\n"
    }
   }
  },
  {
   "cell_type": "code",
   "execution_count": 64,
   "outputs": [],
   "source": [
    "gdf, sdf = new_class_obj.eyeball_labels_by_group(label=11)"
   ],
   "metadata": {
    "collapsed": false,
    "pycharm": {
     "name": "#%%\n"
    }
   }
  },
  {
   "cell_type": "code",
   "execution_count": 58,
   "outputs": [
    {
     "data": {
      "text/plain": "                                                                                                                   summary_202102  \\\ndeveloper            appid                                                                                                          \nN.A DEV              com.simba.chronus.pixel      This is a 8-Bit Pixel Art Weather icons set for Chronus / Crius / cLock.          \ndifer                net.difer.weather            Simple, pure weather & clock widget. \\r\\nWithout ads :)                           \nDeepal Pallav Suthar com.dps.chronus.prakrit      PRAKRIT IS A WEATHER ICON SET FOR CHRONUS: HOME & LOCK WIDGET                     \nN.A DEV              com.simba.chronus.eazytheme  Easy Weather Icons for Chronus CyanogenMod cLock Widgets(support Color Overlay)   \nAmber Mobile Limited com.amber.vip.ad.widget.vip  Full refund (100% money back guarantee) if app does not work as described         \n\n                                                                                                                                                                                                                                                                                                                                                                                                                                                                                                                                                                                                                                                                                                                                                                                                                                                                                                                                                                                                                                                                                                                description_202102  \\\ndeveloper            appid                                                                                                                                                                                                                                                                                                                                                                                                                                                                                                                                                                                                                                                                                                                                                                                                                                                                                                                                                                                                                                                                                                           \nN.A DEV              com.simba.chronus.pixel      Pixel is a 8-bit style Weather Icon Set for Chronus, Crius and the CyanogenMod's cLock Home & Lock Screen Widget.\\r\\n<b>Installation</b>\\r\\n1. Chronus Weather Icons - 8-Bit Pixel theme isn't a standalone weather widget, make sure you have Chronus/Crius/cLock installed.\\r\\n2. This theme is only supported on OS 3.4 and later.\\r\\n<b>Credit</b>\\r\\nChronus: Home & Lock Widget can be found at Play Store. All credit goes to <b>DvTonder</b> for his great widget.                                                                                                                                                                                                                                                                                                                                                                                                                                                                                                                                                                                                         \ndifer                net.difer.weather            Simple, pure weather & clock widget. \\r\\nWithout ads.\\r\\n\\r\\nYou can change your widgets background color and transparency.\\r\\nAdditional widgets - soon.\\r\\n\\r\\nWould you like to add a translation in your own language? \\r\\nNo problem, contact me :)\\r\\n\\r\\nClock on the widget does not update automatically?\\r\\nThis may be related to battery saving (some systems or battery saving apps turns off background tasks of 3rd party widgets). Please try to check settings (for example in Xiaomi phones it is called \"Security>Autostart\", in Samsung \"Maintence>Battery\")\\r\\n\\r\\n---\\r\\n\\r\\nWeather data: \\r\\nOpenWeatherMap: https://openweathermap.org\\r\\nThe Norwegian Meteorological Institute: https://www.met.no                                                                                                                                                                                                                                                                                                                                                      \nDeepal Pallav Suthar com.dps.chronus.prakrit      ★ To use the Prakrit Weather Icons, download Chronus: Home & Lock Widget from Google Play: http://play.google.com/store/apps/details?id=com.dvtonder.chronus\\r\\n\\r\\n★ Also works with Crius/Crius Pro and cLock CyanogenMod widget\\r\\n\\r\\n★ 384x384 sized icons (ready for QHD devices)\\r\\n\\r\\n★ To apply this theme: Chronus Settings > Weather Panel > Icon set > Prakrit > OK\\r\\n\\r\\n<b>If you like this weather icon pack, please rate it and give a review :)</b>\\r\\nThank you all for the support!\\r\\n⚛ Jai Shree Krishna ⚛\\r\\n\\r\\nFollow me at https://google.com/+deepalpallavsuthar                                                                                                                                                                                                                                                                                                                                                                                                                                                                                       \nN.A DEV              com.simba.chronus.eazytheme  Chronus Weather Icons: Easy is a thin flat Weather Icon Set for Chronus, Crius and the CyanogenMod cLock Widgets.\\r\\n<b>This icon set complies with Color Overlay - weather icons will be recolored based on the font colors chosen by the user.</b>\\r\\n<b>Installation</b>\\r\\n1. This icon set isn't a standalone weather widget, make sure you have at least one of Chronus/Crius/cLock installed before using this weather icon set.\\r\\n2. Easy theme is only supported on OS 3.4 and later.\\r\\n<b>Credit</b> Chronus: Home & Lock Widget is a free app on Play Store. All credit goes to <b>DvTonder</b> for his great widget.                                                                                                                                                                                                                                                                                                                                                                                                                                                 \nAmber Mobile Limited com.amber.vip.ad.widget.vip  The BEST VIP Plug-in for Amber Widgets is coming! \\r\\n\\r\\nPlease keep in mind that :\\r\\n1. this VIP Plug-in can't work alone. It has to work with weather apps.\\r\\n2. When buy this plug-in, restart your weather app and all ads will disappear.\\r\\n\\r\\n- Full refund (100% money back guarantee) if app does not work as described.\\r\\n\\r\\nWe recommend this weather app: \\r\\n\\r\\nhttps://play.google.com/store/apps/details?id=mobi.infolife.ezweather.widget.ripple2\\r\\n\\r\\nWhen you buy VIP, All the weather widgets provided by <b>Weather Widget Theme Dev Team</b> will be free and there will be no ads.\\r\\n\\r\\nSuch great weather app and weather widgets, wouldn't it be better if without any ads and pops-up? To have a better experience with it, try this VIP for amber weather right now!\\r\\n\\r\\nStay in touch\\r\\nIf you have any problem about plug-in, Including but not limited to functional issues, ads are not removed properly, positioning is not accurate, and so on. Your exclusive customer service agent is at your service: hantao@amberweather.com   \n\n                                                  predicted_labels  \ndeveloper            appid                                          \nN.A DEV              com.simba.chronus.pixel      11                \ndifer                net.difer.weather            11                \nDeepal Pallav Suthar com.dps.chronus.prakrit      11                \nN.A DEV              com.simba.chronus.eazytheme  11                \nAmber Mobile Limited com.amber.vip.ad.widget.vip  11                ",
      "text/html": "<div>\n<style scoped>\n    .dataframe tbody tr th:only-of-type {\n        vertical-align: middle;\n    }\n\n    .dataframe tbody tr th {\n        vertical-align: top;\n    }\n\n    .dataframe thead th {\n        text-align: right;\n    }\n</style>\n<table border=\"1\" class=\"dataframe\">\n  <thead>\n    <tr style=\"text-align: right;\">\n      <th></th>\n      <th></th>\n      <th>summary_202102</th>\n      <th>description_202102</th>\n      <th>predicted_labels</th>\n    </tr>\n    <tr>\n      <th>developer</th>\n      <th>appid</th>\n      <th></th>\n      <th></th>\n      <th></th>\n    </tr>\n  </thead>\n  <tbody>\n    <tr>\n      <th>N.A DEV</th>\n      <th>com.simba.chronus.pixel</th>\n      <td>This is a 8-Bit Pixel Art Weather icons set for Chronus / Crius / cLock.</td>\n      <td>Pixel is a 8-bit style Weather Icon Set for Chronus, Crius and the CyanogenMod's cLock Home &amp; Lock Screen Widget.\\r\\n&lt;b&gt;Installation&lt;/b&gt;\\r\\n1. Chronus Weather Icons - 8-Bit Pixel theme isn't a standalone weather widget, make sure you have Chronus/Crius/cLock installed.\\r\\n2. This theme is only supported on OS 3.4 and later.\\r\\n&lt;b&gt;Credit&lt;/b&gt;\\r\\nChronus: Home &amp; Lock Widget can be found at Play Store. All credit goes to &lt;b&gt;DvTonder&lt;/b&gt; for his great widget.</td>\n      <td>11</td>\n    </tr>\n    <tr>\n      <th>difer</th>\n      <th>net.difer.weather</th>\n      <td>Simple, pure weather &amp; clock widget. \\r\\nWithout ads :)</td>\n      <td>Simple, pure weather &amp; clock widget. \\r\\nWithout ads.\\r\\n\\r\\nYou can change your widgets background color and transparency.\\r\\nAdditional widgets - soon.\\r\\n\\r\\nWould you like to add a translation in your own language? \\r\\nNo problem, contact me :)\\r\\n\\r\\nClock on the widget does not update automatically?\\r\\nThis may be related to battery saving (some systems or battery saving apps turns off background tasks of 3rd party widgets). Please try to check settings (for example in Xiaomi phones it is called \"Security&gt;Autostart\", in Samsung \"Maintence&gt;Battery\")\\r\\n\\r\\n---\\r\\n\\r\\nWeather data: \\r\\nOpenWeatherMap: https://openweathermap.org\\r\\nThe Norwegian Meteorological Institute: https://www.met.no</td>\n      <td>11</td>\n    </tr>\n    <tr>\n      <th>Deepal Pallav Suthar</th>\n      <th>com.dps.chronus.prakrit</th>\n      <td>PRAKRIT IS A WEATHER ICON SET FOR CHRONUS: HOME &amp; LOCK WIDGET</td>\n      <td>★ To use the Prakrit Weather Icons, download Chronus: Home &amp; Lock Widget from Google Play: http://play.google.com/store/apps/details?id=com.dvtonder.chronus\\r\\n\\r\\n★ Also works with Crius/Crius Pro and cLock CyanogenMod widget\\r\\n\\r\\n★ 384x384 sized icons (ready for QHD devices)\\r\\n\\r\\n★ To apply this theme: Chronus Settings &gt; Weather Panel &gt; Icon set &gt; Prakrit &gt; OK\\r\\n\\r\\n&lt;b&gt;If you like this weather icon pack, please rate it and give a review :)&lt;/b&gt;\\r\\nThank you all for the support!\\r\\n⚛ Jai Shree Krishna ⚛\\r\\n\\r\\nFollow me at https://google.com/+deepalpallavsuthar</td>\n      <td>11</td>\n    </tr>\n    <tr>\n      <th>N.A DEV</th>\n      <th>com.simba.chronus.eazytheme</th>\n      <td>Easy Weather Icons for Chronus CyanogenMod cLock Widgets(support Color Overlay)</td>\n      <td>Chronus Weather Icons: Easy is a thin flat Weather Icon Set for Chronus, Crius and the CyanogenMod cLock Widgets.\\r\\n&lt;b&gt;This icon set complies with Color Overlay - weather icons will be recolored based on the font colors chosen by the user.&lt;/b&gt;\\r\\n&lt;b&gt;Installation&lt;/b&gt;\\r\\n1. This icon set isn't a standalone weather widget, make sure you have at least one of Chronus/Crius/cLock installed before using this weather icon set.\\r\\n2. Easy theme is only supported on OS 3.4 and later.\\r\\n&lt;b&gt;Credit&lt;/b&gt; Chronus: Home &amp; Lock Widget is a free app on Play Store. All credit goes to &lt;b&gt;DvTonder&lt;/b&gt; for his great widget.</td>\n      <td>11</td>\n    </tr>\n    <tr>\n      <th>Amber Mobile Limited</th>\n      <th>com.amber.vip.ad.widget.vip</th>\n      <td>Full refund (100% money back guarantee) if app does not work as described</td>\n      <td>The BEST VIP Plug-in for Amber Widgets is coming! \\r\\n\\r\\nPlease keep in mind that :\\r\\n1. this VIP Plug-in can't work alone. It has to work with weather apps.\\r\\n2. When buy this plug-in, restart your weather app and all ads will disappear.\\r\\n\\r\\n- Full refund (100% money back guarantee) if app does not work as described.\\r\\n\\r\\nWe recommend this weather app: \\r\\n\\r\\nhttps://play.google.com/store/apps/details?id=mobi.infolife.ezweather.widget.ripple2\\r\\n\\r\\nWhen you buy VIP, All the weather widgets provided by &lt;b&gt;Weather Widget Theme Dev Team&lt;/b&gt; will be free and there will be no ads.\\r\\n\\r\\nSuch great weather app and weather widgets, wouldn't it be better if without any ads and pops-up? To have a better experience with it, try this VIP for amber weather right now!\\r\\n\\r\\nStay in touch\\r\\nIf you have any problem about plug-in, Including but not limited to functional issues, ads are not removed properly, positioning is not accurate, and so on. Your exclusive customer service agent is at your service: hantao@amberweather.com</td>\n      <td>11</td>\n    </tr>\n  </tbody>\n</table>\n</div>"
     },
     "execution_count": 58,
     "metadata": {},
     "output_type": "execute_result"
    }
   ],
   "source": [
    "sdf.sample(5)"
   ],
   "metadata": {
    "collapsed": false,
    "pycharm": {
     "name": "#%%\n"
    }
   }
  },
  {
   "cell_type": "code",
   "execution_count": 52,
   "outputs": [
    {
     "data": {
      "text/plain": "                                                                                                                                                        summary_202102  \\\ndeveloper                                   appid                                                                                                                        \nInformed Publishing                         com.ascendlearning.uglys.purchase         With videos, electrical calculators, and built-in ebook, Ugly’s has your answer.   \nHDM Dev Team                                jp.snowlife01.android.rotationcontrolpro  Rotation Control App.\\r\\nControls the rotation of the screen.                      \nRoomi Inc.                                  com.roomiapp.android                      Find Rooms, Shared Homes, Apartments & Roommates                                   \nRIPNDIP                                     com.ripndip.ripndipstickers               Animated stickers by RIPNDIP                                                       \nTradesol Group Ltd                          com.avanset.vcesimulator                  Prepare for IT-certification while you're on the go.                               \nAnhui Huami Information Technology Co.,Ltd. com.xiaomi.hm.health                      The official app for Mi wearable devices                                           \nAsmodee  Digital                            com.asmodeedigital.mysterium              The official adaptation of the famous board game Mysterium!                        \nCoptic Orthodox Diocese of the Southern USA com.app.copticreader                      Coptic Reader, more than just a text reader.                                       \nPlaydox Games                               com.relaxingbraintraining.wordcup         Ready to solve the yummy cross word puzzles? Let's see how smart you are!          \nElyland                                     net.elyland.DraconiusGO                   Immerse yourself in the fantasy world of augmented reality!                        \n\n                                                                                                                                                                                                                                                                                                                                                                                                                                                                                                                                                                                                                                                                                                                                                                                                                                                                                                                                                                                                                                                                                                                                                                                                                                                                                                                                                                                                                                                                                                                                                                                                                                                                                                                                                                                                                                                                                                                                                                                                                                                                                                                                                                                                                                                                                                                                                                                                                                                                                                                                                                                                                                                                                                                                                                                                                                                                                                                                                                                                                                                                                                                                                                                                                                                                                                                                                                                                                                                                                                                                                                                                                                                                                                                                 description_202102  \\\ndeveloper                                   appid                                                                                                                                                                                                                                                                                                                                                                                                                                                                                                                                                                                                                                                                                                                                                                                                                                                                                                                                                                                                                                                                                                                                                                                                                                                                                                                                                                                                                                                                                                                                                                                                                                                                                                                                                                                                                                                                                                                                                                                                                                                                                                                                                                                                                                                                                                                                                                                                                                                                                                                                                                                                                                                                                                                                                                                                                                                                                                                                                                                                                                                                                                                                                                                                                                                                                                                                                                                                                                                                                                                                                                                                                                                                                                     \nInformed Publishing                         com.ascendlearning.uglys.purchase         Featuring new menu designs the Ugly's Electrical References App 2020 has been updated to reflect changes to the 2020 National Electrical Code (NEC) and the 2020 Edition of our popular Ugly’s Electrical References book. The Ugly’s 2020 App offers the most pertinent, up-to-date digital information for electricians, including table change information, mathematical formulas; National Electrical Manufacturers Association (NEMA) wiring configurations; a conduit bending guide with videos, ampacity and conduit fill information, transformer and control circuit wiring diagrams, and conversion tables. \\r\\n\\r\\nThe 2020 Edition:\\r\\n\\r\\n•\\tReflects changes to the 2020 NEC\\r\\n•\\tNew look and updated menu icons\\r\\n•\\tImproved deep linking between menus and content\\r\\n•\\tFeatures expanded coverage of the following topics:\\r\\no\\tJunction Box size calculations\\r\\no\\tSelecting, testing, and using multimeters to measure voltage, resistance, and current\\r\\no\\tSelecting, testing, and using a clamp-on ammeter to measure current\\r\\no\\tSelecting, testing, and using a non-contact voltage tester \\r\\no\\tOverview of important NEC code changes from 2014, 2107, and 2020\\r\\n\\r\\n\\r\\nThe only electrical reference app to include an ebook of the 2017 edition of Ugly’s Electrical References along with over a dozen calculators, interactive features and videos. Electricians and electrical professionals have used ‘Ugly’s Electrical References’ book as their on-the-job reference for over 35 years. This app will serve you even better in the field today.\\r\\n\\r\\nFEATURING\\r\\nCalculators and Interactive Features\\r\\n*Ohm’s Law Calculator\\r\\n*Voltage Drop\\r\\n*Ampacity Calculator\\r\\n*To Find: Amps, Watts, Horsepower, KVA\\r\\n*To Find: Inductance, Impedance, Reactance\\r\\n*Three-phase AC Motor Data: Starter, Breaker, Heater, Wire, and Conduit Size\\r\\n*Power Factor Correction\\r\\n*Full Load Current for Motors and Transformers\\r\\n*Locked-Rotor Current Calculator\\r\\n*Offset Bending Calculator\\r\\n*Conduit Fill Calculator \\r\\n*Conversions for Area, Length, Temperature, Time, Volume, and Weight\\r\\n*NEMA Wiring Configurations\\r\\n\\r\\n**Pinch & Zoom for improved readability\\r\\n**Video Tutorials of Conduit Bending\\r\\n\\r\\n**Search function helps you quickly find what you need to know\\r\\n\\r\\n**NEC Updater outlines and explains changes to the National Electrical Code©\\r\\n\\r\\n**Electrical Safety including definitions, boundaries, procedures, PPE guidance and life-saving first aid procedures\\r\\n\\r\\n**Blueprint symbol identifier\\r\\n\\r\\n**Bookmark your commonly used screens\\r\\n\\r\\n**High-definition images and interactive tables that can be zoomed in for detail\\r\\n\\r\\n**Works when you are offline and out of range\\r\\n\\r\\n**Great for electricians, students, engineers, contractors, maintenance workers, and military\\r\\n\\r\\n*********************************************\\r\\nInterested in a buying more than one copy of the Ugly’s Electrical Reference app for your commercially owned devices? Please email info[at]uglys[dot]net for details on volume purchases.\\r\\n\\r\\nPrivacy Policy - http://www.jblearning.com/privacy/\\r\\nTerms of Service - http://www.jblearning.com/use/\\r\\nSupport – http://www.uglys.net/appsupport \\r\\n\\r\\nThe Ugly’s Electrical Reference app is part of the popular Ugly’s Professional Reference® series which is an imprint of Jones & Bartlett Learning. National Electrical Code and NFPA 70 are registered trademarks of the National Fire Protection Agency and are not associated with Ugly’s Electrical References in any way.   \nHDM Dev Team                                jp.snowlife01.android.rotationcontrolpro  Can force a particular rotation on apps with fixed screen orientation.\\r\\nA simple design with functions that are easy to understand and use.\\r\\n\\r\\n\\r\\n=-=-=-=-=-=-=-=-=-=-=-=-=-=-=-=\\r\\nRecommended for people who:\\r\\n- Want to use their smartphone home screen in landscape mode\\r\\n- Want to use landscape mode games or video apps in portrait mode\\r\\n- Want to always use their tablet in landscape mode\\r\\n- Want to switch between fixed orientations with one tap via the status bar\\r\\n=-=-=-=-=-=-=-=-=-=-=-=-=-=-=-=\\r\\n\\r\\n\\r\\n<b>Features</b>\\r\\n\\r\\n<b>►Rotation settings</b>\\r\\nCan configure the rotation of the screen.\\r\\n\\r\\n<b>►Notification settings</b>\\r\\nControl the rotation of the screen easily from the notification bar.\\r\\n\\r\\n<b>►Per App rotation settings</b>\\r\\nCan configure different rotations for each apps.\\r\\nRotates to your preset screen orientation upon starting the application.\\r\\nReturns to the original screen orientation on closing the application.\\r\\n\\r\\n<b>►Special case settings</b>\\r\\nDetects when chargers or earphones are connected and rotates to your preset screen orientation.\\r\\nReturns to the original screen orientation when they are removed.\\r\\n\\r\\n\\r\\nYou can check this app's functions and operations with a free trial.\\r\\n<b>Please check the functions and operations by free trial before you buy.</b>\\r\\nhttps://play.google.com/store/apps/details?id=jp.snowlife01.android.rotationcontrol\\r\\n\\r\\n\\r\\n<b>Rotation</b>\\r\\n\\r\\nAutomatic : the screen rotates based on a sensor.\\r\\nLandscape : the screen is fixed to a horizontal orientation.\\r\\nLandscape (Reverse) : the screen is fixed horizontal upside down.\\r\\nLandscape (Auto) : rotates automatically to a horizontal orientation based on a sensor.\\r\\nPortrait : the screen is fixed to a vertical orientation.\\r\\nPortrait (Reverse) : the screen is fixed vertical upside down.\\r\\nPortrait (Auto) : rotates automatically to a vertical orientation based on a sensor.\\r\\n\\r\\n* Some of the direction of rotation may not correspond depending on device specifications. This is not an issue with the app.\\r\\n\\r\\n\\r\\n<b>This app uses accessibility service.</b>\\r\\nThis is used to detect when an app is launched or closed and allows you to change the rotation actions for each app.\\r\\nThis information is not stored or shared.\\r\\n\\r\\n\\r\\n<b>【For OPPO users】</b>\\r\\nThis app needs to run a service in the background to detect which app has started.\\r\\n<font color=\"red\">OPPO devices require special settings to operate app services in the background due to their unique specifications.</font> (If you do not do this, services running in the background will be forcibly terminated, and the app will not operate properly.)\\r\\nPlease drag this app a little down from the recent apps history and lock it.\\r\\nIf you do not know how to set, please search for \"OPPO task lock\".                                                                                                                                                                                                                                                                                                                                                                                                                                                                                                                                                                                                                                                                                                 \nRoomi Inc.                                  com.roomiapp.android                      Roomi makes it simpler and safer to find roommates and flatmates in over 200 cities around the world. Join our verified community and enjoy more flexibility and transparency in your search for a new place or roommate.\\r\\n\\r\\nRoomi will simplify your entire roommate-finding experience. As flexible renting terms are the future, we believe that our users should have flexibility in renting their place as well as have easy access to various accommodations.\\r\\n\\r\\nWhether you are listing your room or searching for a potential roommate/flatmate with Roomi, we added an extra layer of security with identity verification, background checks, and payment processing for the safest renting experience available.\\r\\n\\r\\nIt’s free to search, list your room, and message potential roommates/flatmates\\r\\n\\r\\nFor any further questions or comments email us at hello@roomiapp.com                                                                                                                                                                                                                                                                                                                                                                                                                                                                                                                                                                                                                                                                                                                                                                                                                                                                                                                                                                                                                                                                                                                                                                                                                                                                                                                                                                                                                                                                                                                                                                                                                                                                                                                                                                                                                                                                                                                                                                                                                                                                                                                                                                                                                                                                                                                                                                                                                                                                                                                                                                                                                                                                                                                                                            \nRIPNDIP                                     com.ripndip.ripndipstickers               RIPNDIP has the best mf stickers out rn\\r\\n\\r\\nOver 40 high quality animated stickers you can share with your friends!                                                                                                                                                                                                                                                                                                                                                                                                                                                                                                                                                                                                                                                                                                                                                                                                                                                                                                                                                                                                                                                                                                                                                                                                                                                                                                                                                                                                                                                                                                                                                                                                                                                                                                                                                                                                                                                                                                                                                                                                                                                                                                                                                                                                                                                                                                                                                                                                                                                                                                                                                                                                                                                                                                                                                                                                                                                                                                                                                                                                                                                                                                                                                                                                                                                                                                                                                                                                                                                                                                                                          \nTradesol Group Ltd                          com.avanset.vcesimulator                  This is an Android version of popular test taking application VCE Exam Simulator. It allows you to take tests from .vce files on the go.\\r\\n \\r\\nThe only app which plays all VCE files.\\r\\n \\r\\nNotice: If you are having any problems using our app, please contact us at support@avanset.com. Unfortunately, Google Play does not provide us with contact details for users who leave feedback, so we are unable to help unless you contact us directly.                                                                                                                                                                                                                                                                                                                                                                                                                                                                                                                                                                                                                                                                                                                                                                                                                                                                                                                                                                                                                                                                                                                                                                                                                                                                                                                                                                                                                                                                                                                                                                                                                                                                                                                                                                                                                                                                                                                                                                                                                                                                                                                                                                                                                                                                                                                                                                                                                                                                                                                                                                                                                                                                                                                                                                                                                                                                                                                                                                                                                                                                                                                                                                                                     \nAnhui Huami Information Technology Co.,Ltd. com.xiaomi.hm.health                      Mi Fit tracks your activity, analyzes sleep, and evaluates your workouts. Lots of video tutorials keep you motivated, and help you build a healthier, more enjoyful daily routine.                                                                                                                                                                                                                                                                                                                                                                                                                                                                                                                                                                                                                                                                                                                                                                                                                                                                                                                                                                                                                                                                                                                                                                                                                                                                                                                                                                                                                                                                                                                                                                                                                                                                                                                                                                                                                                                                                                                                                                                                                                                                                                                                                                                                                                                                                                                                                                                                                                                                                                                                                                                                                                                                                                                                                                                                                                                                                                                                                                                                                                                                                                                                                                                                                                                                                                                                                                                                                                                                              \nAsmodee  Digital                            com.asmodeedigital.mysterium              The official adaptation of the famous board game Mysterium!\\r\\n\\r\\nMysterium is a cooperative deduction game set in the 1920s in which a ghost guides a group of psychics to uncover a murderer, as well as the weapon and location of the murder, using only visual clues. Choose your way to play: take on the role of the ghost who gives others clues, or as one of the psychics trying to decipher the abstract \"Vision Cards\".\\r\\n\\r\\nIn this mobile version, you will find:\\r\\n• A Pass & Play mode\\r\\n• A faithful adaptation of the original game with gorgeous graphics\\r\\n• A game variant with or without clairvoyancy\\r\\n• Additional cases and dream cards from expansions in the in-game shop\\r\\n• A story mode to discover the background of each psychic\\r\\n• Solo play with AI partners\\r\\n• Multiplayer support up to 7 players using online (cross-platform: tablet / mobile / computer)\\r\\n• Worldwide Leaderboards\\r\\n\\r\\nLanguages available: English, French, Italian, German, Spanish, Russian, Ukrainian.\\r\\n\\r\\nTo find more information about Asmodee Digital, please go to http://www.asmodee-digital.com/\\r\\nHaving an issue? Looking for support? Please contact us at https://asmodee.helpshift.com/a/mysterium/\\r\\n\\r\\nYou can follow us on Facebook, Twitter, Instagram and You Tube!\\r\\nFacebook: https://www.facebook.com/asmodeedigital/\\r\\nTwitter: https://twitter.com/asmodeedigital\\r\\nInstagram: https://www.instagram.com/asmodeedigital/\\r\\nYou Tube: https://www.youtube.com/asmodeedigital                                                                                                                                                                                                                                                                                                                                                                                                                                                                                                                                                                                                                                                                                                                                                                                                                                                                                                                                                                                                                                                                                                                                                                                                                                                                                                                                                                                                                                                                                                                                                                                                                                                                                                                                                                                                                                                                                                                                                                                                                                                                                                                        \nCoptic Orthodox Diocese of the Southern USA com.app.copticreader                      Coptic Reader is a mobile application that contains the liturgical text, rites, psalmodies, hymns, melodies, services, and sacraments of the Coptic Orthodox Church. See below for a full list of included content.  Coptic Reader is not simply a text reader but rather it dynamically creates each document/service according to the rites of the current day, or selected day/feast. Coptic Reader builds each document on the fly with all appropriate hymns, rites and instructions to take the guess work out of the order of a church service.\\r\\n\\r\\nCoptic Reader can generate documents in a combination of English, Arabic, and Coptic and supports both English and Arabic as the application interface language. Coptic Reader is fully customizable and allows you to show/hide different liturgical roles (i.e., Priest, Deacon, and Congregation), inaudible prayers, rubrics/comments, and languages.\\r\\n\\r\\nYou may choose between different graphical themes as well as change the document text size. A presentation mode is also supported that allows you to project the content in your church for a complete experience. The application also allows you to control which saint or archangel commemorations will be shown in doxologies, hymns, responses, and other prayers for your church's intercessors.\\r\\n\\r\\nContent List:\\r\\n- Complete Bible including Coptic New Testament and Deuterocanonical books\\r\\n- Book of Hours (Agpeya)\\r\\n- Holy Psalmody including Midnight Praises, Vesper Praises, Morning Praises (Standard, Koiahk, Nativity, Theophany, Great Fast, Pentecostal, including all festal psalies)\\r\\n- Antiphonary (Difnar)\\r\\n- Divine Liturgies with integrated Service of the Deacons (St. Basil, St.Gregory, and St. Cyril, as well as Vespers and Matins service)\\r\\n- Katameros (Sundays, Weekdays, Great Fast, Pentecostal, and feasts)\\r\\n- Synaxarion\\r\\n- Distribution Melodies\\r\\n- Unction of the Sick\\r\\n- Baptism Prayers\\r\\n- Crowning and Engagement Prayers\\r\\n- Pascha Prayers\\r\\n- Prostration Prayers\\r\\n- Liturgy of the Waters (Lakkan)\\r\\n- Veneration\\r\\n- Funerals (Men, Women, Boys, Girls, Monks, Memorials, and Prayer at the Tomb)\\r\\n- Consecrations (Church, Vessels, Censers, Icons, Baptistery, Ordinations, Reception of a New Priest, and Home Blessing)\\r\\n\\r\\nFor more information about Coptic Reader, visit http://suscopts.org/wiki/Coptic_Reader\\r\\n\\r\\nPlease direct any comments or questions to:\\r\\ncopticreader@suscopts.org\\r\\nhttps://www.facebook.com/CopticReader                                                                                                                                                                                                                                                                                                                                                                                                                                                                                                                                                                                                                                                                                                                                                                                                                                                                                                                                                                                                                                                                                             \nPlaydox Games                               com.relaxingbraintraining.wordcup         ★★★★★ Word Cooking is FUN and challenging! Let's see you find those words in this yummy word puzzle!\\r\\n\\r\\n◉ Word Cooking helps you relieve stress\\r\\n\\r\\n◉ Word Cooking helps you improve your brain\\r\\n\\r\\n◉ Word Cooking is the relaxing fun you need\\r\\n\\r\\n◉ Word Cooking is the only game thats also a brain workout\\r\\n\\r\\n◉ Play before you go to sleep and you will improve your verbal skills for the next day\\r\\n\\r\\n◉ Its fun and good for you!\\r\\n\\r\\nCheck out more games by us! https://goo.gl/H3N9nE                                                                                                                                                                                                                                                                                                                                                                                                                                                                                                                                                                                                                                                                                                                                                                                                                                                                                                                                                                                                                                                                                                                                                                                                                                                                                                                                                                                                                                                                                                                                                                                                                                                                                                                                                                                                                                                                                                                                                                                                                                                                                                                                                                                                                                                                                                                                                                                                                                                                                                                                                                                                                                                                                                                                                                                                                                                                                                                                                                                                                                                                                                                                           \nElyland                                     net.elyland.DraconiusGO                   Train your dragon to fight against other people!\\r\\n\\r\\nGo and catch your very own monster collection: winged horses, cool vampires, unicorns and other fun magical creatures. If your online adventure proves successful, you will ultimately be able to tame even the superior beasts - the Dragons of Elements!\\r\\nIf you’re looking for the best mobile dragon games to play – this is exactly what you were looking for! Go find an adventure or an epic quest in this free-to-play mobile game. Draconius GO is a popular free mobile game in AR that will make you addicted more than any other popular GPS games.\\r\\n\\r\\nHave you ever dreamed to catch mighty dragons?\\r\\n\\r\\nCan you picture yourself taming a dragon? It might be a huge dragon or a small drake — no one knows, since all of the creatures in the game evolve and change, and it’s up to you whether your pet will be a cute little creature, a frightening monster, or something completely new. The game offers you a collection of about 200 interesting creatures, each of which can evolve.\\r\\nNo other popular dragon games can make you this addicted! Go outside, find a cool egg, hatch it, and find a monster inside. You never know who will hatch from the mysterious egg. Evolve and upgrade your mighty dragon to become the best monster and fight your enemies online! \\r\\n\\r\\nVarious quests to keep your adventure fresh and exciting\\r\\n\\r\\n· Regular quest will allow you to find scrolls for new spells and start your fun quest for the Golden Egg!\\r\\n· Portals to the AR world of Arcana will unlock a new element of creatures for you, and help you find the path to the Mother of Dragons. Only she can hatch a cool ancient egg in augmented reality.\\r\\n· Most spells are unlocked after your character reaches level 5. You will be able to enhance your creatures or throw other people out of the arena by using the most powerful spells, together with your best friends!\\r\\n· After level 5 upgrade, you will be able to fight other people in duels. But you’ll need to catch up and make sure you’re well prepared.\\r\\n· The Ancient Libraries will allow you to change and upgrade the skills of your creatures, but before you can do that, you’ll have to fight the opposite faction.\\r\\n· Fight mighty wild monsters online at all times! The winner will get best runes for cool spells that you can play.\\r\\n·  Catch up what GPS games your friends have been up to! Go on a fun adventure to complete your collection by finding a rare dragon or some other monster in augmented reality. Become addicted to the best of all free dragon games online!\\r\\n· Discover all of the treasure chests in augmented reality (AR). If you’re lucky enough, you might find in them interesting artifacts that will unlock new options for your character.\\r\\n\\r\\nVideo game or weight loss regimen?\\r\\n\\r\\nGPS navigation and an interactive map allowing you to meet new people, explore your city and see it under a completely different light. Ordinary places that you’ve walked through thousands of times will now hold magical and wondrous secrets. People on the streets might be your enemies! This free game will make you go outside and enjoy the outdoors, get addicted, have fun, and interact with your friends a lot more, which is far more exciting and fun than going to the gym.\\r\\n\\r\\nWhat to play it on?\\r\\nYou can play Draconius GO for free online on your favorite mobile device, but you will need mobile phone or other device with Android 4.4 or higher.                                                      \n\n                                                                                      predicted_labels  \ndeveloper                                   appid                                                       \nInformed Publishing                         com.ascendlearning.uglys.purchase         194               \nHDM Dev Team                                jp.snowlife01.android.rotationcontrolpro  19                \nRoomi Inc.                                  com.roomiapp.android                      8                 \nRIPNDIP                                     com.ripndip.ripndipstickers               6                 \nTradesol Group Ltd                          com.avanset.vcesimulator                  30                \nAnhui Huami Information Technology Co.,Ltd. com.xiaomi.hm.health                      149               \nAsmodee  Digital                            com.asmodeedigital.mysterium              104               \nCoptic Orthodox Diocese of the Southern USA com.app.copticreader                      8                 \nPlaydox Games                               com.relaxingbraintraining.wordcup         27                \nElyland                                     net.elyland.DraconiusGO                   178               ",
      "text/html": "<div>\n<style scoped>\n    .dataframe tbody tr th:only-of-type {\n        vertical-align: middle;\n    }\n\n    .dataframe tbody tr th {\n        vertical-align: top;\n    }\n\n    .dataframe thead th {\n        text-align: right;\n    }\n</style>\n<table border=\"1\" class=\"dataframe\">\n  <thead>\n    <tr style=\"text-align: right;\">\n      <th></th>\n      <th></th>\n      <th>summary_202102</th>\n      <th>description_202102</th>\n      <th>predicted_labels</th>\n    </tr>\n    <tr>\n      <th>developer</th>\n      <th>appid</th>\n      <th></th>\n      <th></th>\n      <th></th>\n    </tr>\n  </thead>\n  <tbody>\n    <tr>\n      <th>Informed Publishing</th>\n      <th>com.ascendlearning.uglys.purchase</th>\n      <td>With videos, electrical calculators, and built-in ebook, Ugly’s has your answer.</td>\n      <td>Featuring new menu designs the Ugly's Electrical References App 2020 has been updated to reflect changes to the 2020 National Electrical Code (NEC) and the 2020 Edition of our popular Ugly’s Electrical References book. The Ugly’s 2020 App offers the most pertinent, up-to-date digital information for electricians, including table change information, mathematical formulas; National Electrical Manufacturers Association (NEMA) wiring configurations; a conduit bending guide with videos, ampacity and conduit fill information, transformer and control circuit wiring diagrams, and conversion tables. \\r\\n\\r\\nThe 2020 Edition:\\r\\n\\r\\n•\\tReflects changes to the 2020 NEC\\r\\n•\\tNew look and updated menu icons\\r\\n•\\tImproved deep linking between menus and content\\r\\n•\\tFeatures expanded coverage of the following topics:\\r\\no\\tJunction Box size calculations\\r\\no\\tSelecting, testing, and using multimeters to measure voltage, resistance, and current\\r\\no\\tSelecting, testing, and using a clamp-on ammeter to measure current\\r\\no\\tSelecting, testing, and using a non-contact voltage tester \\r\\no\\tOverview of important NEC code changes from 2014, 2107, and 2020\\r\\n\\r\\n\\r\\nThe only electrical reference app to include an ebook of the 2017 edition of Ugly’s Electrical References along with over a dozen calculators, interactive features and videos. Electricians and electrical professionals have used ‘Ugly’s Electrical References’ book as their on-the-job reference for over 35 years. This app will serve you even better in the field today.\\r\\n\\r\\nFEATURING\\r\\nCalculators and Interactive Features\\r\\n*Ohm’s Law Calculator\\r\\n*Voltage Drop\\r\\n*Ampacity Calculator\\r\\n*To Find: Amps, Watts, Horsepower, KVA\\r\\n*To Find: Inductance, Impedance, Reactance\\r\\n*Three-phase AC Motor Data: Starter, Breaker, Heater, Wire, and Conduit Size\\r\\n*Power Factor Correction\\r\\n*Full Load Current for Motors and Transformers\\r\\n*Locked-Rotor Current Calculator\\r\\n*Offset Bending Calculator\\r\\n*Conduit Fill Calculator \\r\\n*Conversions for Area, Length, Temperature, Time, Volume, and Weight\\r\\n*NEMA Wiring Configurations\\r\\n\\r\\n**Pinch &amp; Zoom for improved readability\\r\\n**Video Tutorials of Conduit Bending\\r\\n\\r\\n**Search function helps you quickly find what you need to know\\r\\n\\r\\n**NEC Updater outlines and explains changes to the National Electrical Code©\\r\\n\\r\\n**Electrical Safety including definitions, boundaries, procedures, PPE guidance and life-saving first aid procedures\\r\\n\\r\\n**Blueprint symbol identifier\\r\\n\\r\\n**Bookmark your commonly used screens\\r\\n\\r\\n**High-definition images and interactive tables that can be zoomed in for detail\\r\\n\\r\\n**Works when you are offline and out of range\\r\\n\\r\\n**Great for electricians, students, engineers, contractors, maintenance workers, and military\\r\\n\\r\\n*********************************************\\r\\nInterested in a buying more than one copy of the Ugly’s Electrical Reference app for your commercially owned devices? Please email info[at]uglys[dot]net for details on volume purchases.\\r\\n\\r\\nPrivacy Policy - http://www.jblearning.com/privacy/\\r\\nTerms of Service - http://www.jblearning.com/use/\\r\\nSupport – http://www.uglys.net/appsupport \\r\\n\\r\\nThe Ugly’s Electrical Reference app is part of the popular Ugly’s Professional Reference® series which is an imprint of Jones &amp; Bartlett Learning. National Electrical Code and NFPA 70 are registered trademarks of the National Fire Protection Agency and are not associated with Ugly’s Electrical References in any way.</td>\n      <td>194</td>\n    </tr>\n    <tr>\n      <th>HDM Dev Team</th>\n      <th>jp.snowlife01.android.rotationcontrolpro</th>\n      <td>Rotation Control App.\\r\\nControls the rotation of the screen.</td>\n      <td>Can force a particular rotation on apps with fixed screen orientation.\\r\\nA simple design with functions that are easy to understand and use.\\r\\n\\r\\n\\r\\n=-=-=-=-=-=-=-=-=-=-=-=-=-=-=-=\\r\\nRecommended for people who:\\r\\n- Want to use their smartphone home screen in landscape mode\\r\\n- Want to use landscape mode games or video apps in portrait mode\\r\\n- Want to always use their tablet in landscape mode\\r\\n- Want to switch between fixed orientations with one tap via the status bar\\r\\n=-=-=-=-=-=-=-=-=-=-=-=-=-=-=-=\\r\\n\\r\\n\\r\\n&lt;b&gt;Features&lt;/b&gt;\\r\\n\\r\\n&lt;b&gt;►Rotation settings&lt;/b&gt;\\r\\nCan configure the rotation of the screen.\\r\\n\\r\\n&lt;b&gt;►Notification settings&lt;/b&gt;\\r\\nControl the rotation of the screen easily from the notification bar.\\r\\n\\r\\n&lt;b&gt;►Per App rotation settings&lt;/b&gt;\\r\\nCan configure different rotations for each apps.\\r\\nRotates to your preset screen orientation upon starting the application.\\r\\nReturns to the original screen orientation on closing the application.\\r\\n\\r\\n&lt;b&gt;►Special case settings&lt;/b&gt;\\r\\nDetects when chargers or earphones are connected and rotates to your preset screen orientation.\\r\\nReturns to the original screen orientation when they are removed.\\r\\n\\r\\n\\r\\nYou can check this app's functions and operations with a free trial.\\r\\n&lt;b&gt;Please check the functions and operations by free trial before you buy.&lt;/b&gt;\\r\\nhttps://play.google.com/store/apps/details?id=jp.snowlife01.android.rotationcontrol\\r\\n\\r\\n\\r\\n&lt;b&gt;Rotation&lt;/b&gt;\\r\\n\\r\\nAutomatic : the screen rotates based on a sensor.\\r\\nLandscape : the screen is fixed to a horizontal orientation.\\r\\nLandscape (Reverse) : the screen is fixed horizontal upside down.\\r\\nLandscape (Auto) : rotates automatically to a horizontal orientation based on a sensor.\\r\\nPortrait : the screen is fixed to a vertical orientation.\\r\\nPortrait (Reverse) : the screen is fixed vertical upside down.\\r\\nPortrait (Auto) : rotates automatically to a vertical orientation based on a sensor.\\r\\n\\r\\n* Some of the direction of rotation may not correspond depending on device specifications. This is not an issue with the app.\\r\\n\\r\\n\\r\\n&lt;b&gt;This app uses accessibility service.&lt;/b&gt;\\r\\nThis is used to detect when an app is launched or closed and allows you to change the rotation actions for each app.\\r\\nThis information is not stored or shared.\\r\\n\\r\\n\\r\\n&lt;b&gt;【For OPPO users】&lt;/b&gt;\\r\\nThis app needs to run a service in the background to detect which app has started.\\r\\n&lt;font color=\"red\"&gt;OPPO devices require special settings to operate app services in the background due to their unique specifications.&lt;/font&gt; (If you do not do this, services running in the background will be forcibly terminated, and the app will not operate properly.)\\r\\nPlease drag this app a little down from the recent apps history and lock it.\\r\\nIf you do not know how to set, please search for \"OPPO task lock\".</td>\n      <td>19</td>\n    </tr>\n    <tr>\n      <th>Roomi Inc.</th>\n      <th>com.roomiapp.android</th>\n      <td>Find Rooms, Shared Homes, Apartments &amp; Roommates</td>\n      <td>Roomi makes it simpler and safer to find roommates and flatmates in over 200 cities around the world. Join our verified community and enjoy more flexibility and transparency in your search for a new place or roommate.\\r\\n\\r\\nRoomi will simplify your entire roommate-finding experience. As flexible renting terms are the future, we believe that our users should have flexibility in renting their place as well as have easy access to various accommodations.\\r\\n\\r\\nWhether you are listing your room or searching for a potential roommate/flatmate with Roomi, we added an extra layer of security with identity verification, background checks, and payment processing for the safest renting experience available.\\r\\n\\r\\nIt’s free to search, list your room, and message potential roommates/flatmates\\r\\n\\r\\nFor any further questions or comments email us at hello@roomiapp.com</td>\n      <td>8</td>\n    </tr>\n    <tr>\n      <th>RIPNDIP</th>\n      <th>com.ripndip.ripndipstickers</th>\n      <td>Animated stickers by RIPNDIP</td>\n      <td>RIPNDIP has the best mf stickers out rn\\r\\n\\r\\nOver 40 high quality animated stickers you can share with your friends!</td>\n      <td>6</td>\n    </tr>\n    <tr>\n      <th>Tradesol Group Ltd</th>\n      <th>com.avanset.vcesimulator</th>\n      <td>Prepare for IT-certification while you're on the go.</td>\n      <td>This is an Android version of popular test taking application VCE Exam Simulator. It allows you to take tests from .vce files on the go.\\r\\n \\r\\nThe only app which plays all VCE files.\\r\\n \\r\\nNotice: If you are having any problems using our app, please contact us at support@avanset.com. Unfortunately, Google Play does not provide us with contact details for users who leave feedback, so we are unable to help unless you contact us directly.</td>\n      <td>30</td>\n    </tr>\n    <tr>\n      <th>Anhui Huami Information Technology Co.,Ltd.</th>\n      <th>com.xiaomi.hm.health</th>\n      <td>The official app for Mi wearable devices</td>\n      <td>Mi Fit tracks your activity, analyzes sleep, and evaluates your workouts. Lots of video tutorials keep you motivated, and help you build a healthier, more enjoyful daily routine.</td>\n      <td>149</td>\n    </tr>\n    <tr>\n      <th>Asmodee  Digital</th>\n      <th>com.asmodeedigital.mysterium</th>\n      <td>The official adaptation of the famous board game Mysterium!</td>\n      <td>The official adaptation of the famous board game Mysterium!\\r\\n\\r\\nMysterium is a cooperative deduction game set in the 1920s in which a ghost guides a group of psychics to uncover a murderer, as well as the weapon and location of the murder, using only visual clues. Choose your way to play: take on the role of the ghost who gives others clues, or as one of the psychics trying to decipher the abstract \"Vision Cards\".\\r\\n\\r\\nIn this mobile version, you will find:\\r\\n• A Pass &amp; Play mode\\r\\n• A faithful adaptation of the original game with gorgeous graphics\\r\\n• A game variant with or without clairvoyancy\\r\\n• Additional cases and dream cards from expansions in the in-game shop\\r\\n• A story mode to discover the background of each psychic\\r\\n• Solo play with AI partners\\r\\n• Multiplayer support up to 7 players using online (cross-platform: tablet / mobile / computer)\\r\\n• Worldwide Leaderboards\\r\\n\\r\\nLanguages available: English, French, Italian, German, Spanish, Russian, Ukrainian.\\r\\n\\r\\nTo find more information about Asmodee Digital, please go to http://www.asmodee-digital.com/\\r\\nHaving an issue? Looking for support? Please contact us at https://asmodee.helpshift.com/a/mysterium/\\r\\n\\r\\nYou can follow us on Facebook, Twitter, Instagram and You Tube!\\r\\nFacebook: https://www.facebook.com/asmodeedigital/\\r\\nTwitter: https://twitter.com/asmodeedigital\\r\\nInstagram: https://www.instagram.com/asmodeedigital/\\r\\nYou Tube: https://www.youtube.com/asmodeedigital</td>\n      <td>104</td>\n    </tr>\n    <tr>\n      <th>Coptic Orthodox Diocese of the Southern USA</th>\n      <th>com.app.copticreader</th>\n      <td>Coptic Reader, more than just a text reader.</td>\n      <td>Coptic Reader is a mobile application that contains the liturgical text, rites, psalmodies, hymns, melodies, services, and sacraments of the Coptic Orthodox Church. See below for a full list of included content.  Coptic Reader is not simply a text reader but rather it dynamically creates each document/service according to the rites of the current day, or selected day/feast. Coptic Reader builds each document on the fly with all appropriate hymns, rites and instructions to take the guess work out of the order of a church service.\\r\\n\\r\\nCoptic Reader can generate documents in a combination of English, Arabic, and Coptic and supports both English and Arabic as the application interface language. Coptic Reader is fully customizable and allows you to show/hide different liturgical roles (i.e., Priest, Deacon, and Congregation), inaudible prayers, rubrics/comments, and languages.\\r\\n\\r\\nYou may choose between different graphical themes as well as change the document text size. A presentation mode is also supported that allows you to project the content in your church for a complete experience. The application also allows you to control which saint or archangel commemorations will be shown in doxologies, hymns, responses, and other prayers for your church's intercessors.\\r\\n\\r\\nContent List:\\r\\n- Complete Bible including Coptic New Testament and Deuterocanonical books\\r\\n- Book of Hours (Agpeya)\\r\\n- Holy Psalmody including Midnight Praises, Vesper Praises, Morning Praises (Standard, Koiahk, Nativity, Theophany, Great Fast, Pentecostal, including all festal psalies)\\r\\n- Antiphonary (Difnar)\\r\\n- Divine Liturgies with integrated Service of the Deacons (St. Basil, St.Gregory, and St. Cyril, as well as Vespers and Matins service)\\r\\n- Katameros (Sundays, Weekdays, Great Fast, Pentecostal, and feasts)\\r\\n- Synaxarion\\r\\n- Distribution Melodies\\r\\n- Unction of the Sick\\r\\n- Baptism Prayers\\r\\n- Crowning and Engagement Prayers\\r\\n- Pascha Prayers\\r\\n- Prostration Prayers\\r\\n- Liturgy of the Waters (Lakkan)\\r\\n- Veneration\\r\\n- Funerals (Men, Women, Boys, Girls, Monks, Memorials, and Prayer at the Tomb)\\r\\n- Consecrations (Church, Vessels, Censers, Icons, Baptistery, Ordinations, Reception of a New Priest, and Home Blessing)\\r\\n\\r\\nFor more information about Coptic Reader, visit http://suscopts.org/wiki/Coptic_Reader\\r\\n\\r\\nPlease direct any comments or questions to:\\r\\ncopticreader@suscopts.org\\r\\nhttps://www.facebook.com/CopticReader</td>\n      <td>8</td>\n    </tr>\n    <tr>\n      <th>Playdox Games</th>\n      <th>com.relaxingbraintraining.wordcup</th>\n      <td>Ready to solve the yummy cross word puzzles? Let's see how smart you are!</td>\n      <td>★★★★★ Word Cooking is FUN and challenging! Let's see you find those words in this yummy word puzzle!\\r\\n\\r\\n◉ Word Cooking helps you relieve stress\\r\\n\\r\\n◉ Word Cooking helps you improve your brain\\r\\n\\r\\n◉ Word Cooking is the relaxing fun you need\\r\\n\\r\\n◉ Word Cooking is the only game thats also a brain workout\\r\\n\\r\\n◉ Play before you go to sleep and you will improve your verbal skills for the next day\\r\\n\\r\\n◉ Its fun and good for you!\\r\\n\\r\\nCheck out more games by us! https://goo.gl/H3N9nE</td>\n      <td>27</td>\n    </tr>\n    <tr>\n      <th>Elyland</th>\n      <th>net.elyland.DraconiusGO</th>\n      <td>Immerse yourself in the fantasy world of augmented reality!</td>\n      <td>Train your dragon to fight against other people!\\r\\n\\r\\nGo and catch your very own monster collection: winged horses, cool vampires, unicorns and other fun magical creatures. If your online adventure proves successful, you will ultimately be able to tame even the superior beasts - the Dragons of Elements!\\r\\nIf you’re looking for the best mobile dragon games to play – this is exactly what you were looking for! Go find an adventure or an epic quest in this free-to-play mobile game. Draconius GO is a popular free mobile game in AR that will make you addicted more than any other popular GPS games.\\r\\n\\r\\nHave you ever dreamed to catch mighty dragons?\\r\\n\\r\\nCan you picture yourself taming a dragon? It might be a huge dragon or a small drake — no one knows, since all of the creatures in the game evolve and change, and it’s up to you whether your pet will be a cute little creature, a frightening monster, or something completely new. The game offers you a collection of about 200 interesting creatures, each of which can evolve.\\r\\nNo other popular dragon games can make you this addicted! Go outside, find a cool egg, hatch it, and find a monster inside. You never know who will hatch from the mysterious egg. Evolve and upgrade your mighty dragon to become the best monster and fight your enemies online! \\r\\n\\r\\nVarious quests to keep your adventure fresh and exciting\\r\\n\\r\\n· Regular quest will allow you to find scrolls for new spells and start your fun quest for the Golden Egg!\\r\\n· Portals to the AR world of Arcana will unlock a new element of creatures for you, and help you find the path to the Mother of Dragons. Only she can hatch a cool ancient egg in augmented reality.\\r\\n· Most spells are unlocked after your character reaches level 5. You will be able to enhance your creatures or throw other people out of the arena by using the most powerful spells, together with your best friends!\\r\\n· After level 5 upgrade, you will be able to fight other people in duels. But you’ll need to catch up and make sure you’re well prepared.\\r\\n· The Ancient Libraries will allow you to change and upgrade the skills of your creatures, but before you can do that, you’ll have to fight the opposite faction.\\r\\n· Fight mighty wild monsters online at all times! The winner will get best runes for cool spells that you can play.\\r\\n·  Catch up what GPS games your friends have been up to! Go on a fun adventure to complete your collection by finding a rare dragon or some other monster in augmented reality. Become addicted to the best of all free dragon games online!\\r\\n· Discover all of the treasure chests in augmented reality (AR). If you’re lucky enough, you might find in them interesting artifacts that will unlock new options for your character.\\r\\n\\r\\nVideo game or weight loss regimen?\\r\\n\\r\\nGPS navigation and an interactive map allowing you to meet new people, explore your city and see it under a completely different light. Ordinary places that you’ve walked through thousands of times will now hold magical and wondrous secrets. People on the streets might be your enemies! This free game will make you go outside and enjoy the outdoors, get addicted, have fun, and interact with your friends a lot more, which is far more exciting and fun than going to the gym.\\r\\n\\r\\nWhat to play it on?\\r\\nYou can play Draconius GO for free online on your favorite mobile device, but you will need mobile phone or other device with Android 4.4 or higher.</td>\n      <td>178</td>\n    </tr>\n  </tbody>\n</table>\n</div>"
     },
     "execution_count": 52,
     "metadata": {},
     "output_type": "execute_result"
    }
   ],
   "source": [
    "result_df[['summary_202102', 'description_202102', 'predicted_labels']].sample(10)"
   ],
   "metadata": {
    "collapsed": false,
    "pycharm": {
     "name": "#%%\n"
    }
   }
  },
  {
   "cell_type": "code",
   "execution_count": 27,
   "outputs": [
    {
     "name": "stdout",
     "output_type": "stream",
     "text": [
      "title_201907\n",
      "description_201907\n",
      "summary_201907\n",
      "histogram_201907\n",
      "currency_201907\n",
      "comments_201907\n",
      "developerId_201907\n",
      "developerWebsite_201907\n",
      "developerEmail_201907\n",
      "developerAddress_201907\n",
      "appId_201907\n",
      "adSupported_True_201907\n",
      "containsAds_True_201907\n",
      "free_True_201907\n",
      "offersIAP_True_201907\n",
      "contentRating_Adult_201907\n",
      "contentRating_Everyone_201907\n",
      "contentRating_Teen_201907\n",
      "genreId_Entertainment_201907\n",
      "genreId_Game_201907\n",
      "genreId_Productivity_201907\n",
      "title_201908\n",
      "description_201908\n",
      "summary_201908\n",
      "histogram_201908\n",
      "currency_201908\n",
      "developer_201908\n",
      "comments_201908\n",
      "developerId_201908\n",
      "developerWebsite_201908\n",
      "developerEmail_201908\n",
      "developerAddress_201908\n",
      "appId_201908\n",
      "adSupported_True_201908\n",
      "containsAds_True_201908\n",
      "free_True_201908\n",
      "offersIAP_True_201908\n",
      "contentRating_Adult_201908\n",
      "contentRating_Everyone_201908\n",
      "contentRating_Teen_201908\n",
      "genreId_Entertainment_201908\n",
      "genreId_Game_201908\n",
      "genreId_Productivity_201908\n",
      "title_201909\n",
      "description_201909\n",
      "summary_201909\n",
      "histogram_201909\n",
      "currency_201909\n",
      "developer_201909\n",
      "comments_201909\n",
      "developerId_201909\n",
      "developerWebsite_201909\n",
      "developerEmail_201909\n",
      "developerAddress_201909\n",
      "appId_201909\n",
      "adSupported_True_201909\n",
      "containsAds_True_201909\n",
      "free_True_201909\n",
      "offersIAP_True_201909\n",
      "contentRating_Adult_201909\n",
      "contentRating_Everyone_201909\n",
      "contentRating_Teen_201909\n",
      "genreId_Entertainment_201909\n",
      "genreId_Game_201909\n",
      "genreId_Productivity_201909\n",
      "title_201912\n",
      "description_201912\n",
      "summary_201912\n",
      "histogram_201912\n",
      "currency_201912\n",
      "developer_201912\n",
      "comments_201912\n",
      "developerId_201912\n",
      "developerWebsite_201912\n",
      "developerEmail_201912\n",
      "developerAddress_201912\n",
      "appId_201912\n",
      "adSupported_True_201912\n",
      "containsAds_True_201912\n",
      "free_True_201912\n",
      "offersIAP_True_201912\n",
      "contentRating_Adult_201912\n",
      "contentRating_Everyone_201912\n",
      "contentRating_Teen_201912\n",
      "genreId_Entertainment_201912\n",
      "genreId_Game_201912\n",
      "genreId_Productivity_201912\n",
      "title_202001\n",
      "description_202001\n",
      "summary_202001\n",
      "histogram_202001\n",
      "currency_202001\n",
      "developer_202001\n",
      "comments_202001\n",
      "developerId_202001\n",
      "developerWebsite_202001\n",
      "developerEmail_202001\n",
      "developerAddress_202001\n",
      "appId_202001\n",
      "adSupported_True_202001\n",
      "containsAds_True_202001\n",
      "free_True_202001\n",
      "offersIAP_True_202001\n",
      "contentRating_Adult_202001\n",
      "contentRating_Everyone_202001\n",
      "contentRating_Teen_202001\n",
      "genreId_Entertainment_202001\n",
      "genreId_Game_202001\n",
      "genreId_Productivity_202001\n",
      "title_202003\n",
      "description_202003\n",
      "summary_202003\n",
      "histogram_202003\n",
      "currency_202003\n",
      "developer_202003\n",
      "comments_202003\n",
      "developerId_202003\n",
      "developerWebsite_202003\n",
      "developerEmail_202003\n",
      "developerAddress_202003\n",
      "appId_202003\n",
      "adSupported_True_202003\n",
      "containsAds_True_202003\n",
      "free_True_202003\n",
      "offersIAP_True_202003\n",
      "contentRating_Adult_202003\n",
      "contentRating_Everyone_202003\n",
      "contentRating_Teen_202003\n",
      "genreId_Entertainment_202003\n",
      "genreId_Game_202003\n",
      "genreId_Productivity_202003\n",
      "title_202004\n",
      "description_202004\n",
      "summary_202004\n",
      "histogram_202004\n",
      "currency_202004\n",
      "developer_202004\n",
      "comments_202004\n",
      "developerId_202004\n",
      "developerWebsite_202004\n",
      "developerEmail_202004\n",
      "developerAddress_202004\n",
      "appId_202004\n",
      "adSupported_True_202004\n",
      "containsAds_True_202004\n",
      "free_True_202004\n",
      "offersIAP_True_202004\n",
      "contentRating_Adult_202004\n",
      "contentRating_Everyone_202004\n",
      "contentRating_Teen_202004\n",
      "genreId_Entertainment_202004\n",
      "genreId_Game_202004\n",
      "genreId_Productivity_202004\n",
      "title_202009\n",
      "description_202009\n",
      "summary_202009\n",
      "histogram_202009\n",
      "currency_202009\n",
      "inAppProductPrice_202009\n",
      "developer_202009\n",
      "developerId_202009\n",
      "developerEmail_202009\n",
      "developerWebsite_202009\n",
      "developerAddress_202009\n",
      "comments_202009\n",
      "appId_202009\n",
      "adSupported_True_202009\n",
      "containsAds_True_202009\n",
      "free_True_202009\n",
      "offersIAP_True_202009\n",
      "contentRating_Adult_202009\n",
      "contentRating_Everyone_202009\n",
      "contentRating_Teen_202009\n",
      "genreId_Entertainment_202009\n",
      "genreId_Game_202009\n",
      "genreId_Productivity_202009\n",
      "title_202010\n",
      "description_202010\n",
      "summary_202010\n",
      "histogram_202010\n",
      "currency_202010\n",
      "inAppProductPrice_202010\n",
      "developer_202010\n",
      "developerId_202010\n",
      "developerEmail_202010\n",
      "developerWebsite_202010\n",
      "developerAddress_202010\n",
      "comments_202010\n",
      "appId_202010\n",
      "adSupported_True_202010\n",
      "containsAds_True_202010\n",
      "free_True_202010\n",
      "offersIAP_True_202010\n",
      "contentRating_Adult_202010\n",
      "contentRating_Everyone_202010\n",
      "contentRating_Teen_202010\n",
      "genreId_Entertainment_202010\n",
      "genreId_Game_202010\n",
      "genreId_Productivity_202010\n",
      "title_202011\n",
      "description_202011\n",
      "summary_202011\n",
      "histogram_202011\n",
      "currency_202011\n",
      "inAppProductPrice_202011\n",
      "developer_202011\n",
      "developerId_202011\n",
      "developerEmail_202011\n",
      "developerWebsite_202011\n",
      "developerAddress_202011\n",
      "comments_202011\n",
      "appId_202011\n",
      "adSupported_True_202011\n",
      "containsAds_True_202011\n",
      "free_True_202011\n",
      "offersIAP_True_202011\n",
      "contentRating_Adult_202011\n",
      "contentRating_Everyone_202011\n",
      "contentRating_Teen_202011\n",
      "genreId_Entertainment_202011\n",
      "genreId_Game_202011\n",
      "genreId_Productivity_202011\n",
      "title_202012\n",
      "description_202012\n",
      "summary_202012\n",
      "histogram_202012\n",
      "currency_202012\n",
      "inAppProductPrice_202012\n",
      "developer_202012\n",
      "developerId_202012\n",
      "developerEmail_202012\n",
      "developerWebsite_202012\n",
      "developerAddress_202012\n",
      "comments_202012\n",
      "appId_202012\n",
      "adSupported_True_202012\n",
      "containsAds_True_202012\n",
      "free_True_202012\n",
      "offersIAP_True_202012\n",
      "contentRating_Adult_202012\n",
      "contentRating_Everyone_202012\n",
      "contentRating_Teen_202012\n",
      "genreId_Entertainment_202012\n",
      "genreId_Game_202012\n",
      "genreId_Productivity_202012\n",
      "title_202101\n",
      "description_202101\n",
      "summary_202101\n",
      "histogram_202101\n",
      "currency_202101\n",
      "inAppProductPrice_202101\n",
      "developer_202101\n",
      "developerId_202101\n",
      "developerEmail_202101\n",
      "developerWebsite_202101\n",
      "developerAddress_202101\n",
      "comments_202101\n",
      "appId_202101\n",
      "adSupported_True_202101\n",
      "containsAds_True_202101\n",
      "free_True_202101\n",
      "offersIAP_True_202101\n",
      "contentRating_Adult_202101\n",
      "contentRating_Everyone_202101\n",
      "contentRating_Teen_202101\n",
      "genreId_Entertainment_202101\n",
      "genreId_Game_202101\n",
      "genreId_Productivity_202101\n",
      "title_202102\n",
      "description_202102\n",
      "summary_202102\n",
      "histogram_202102\n",
      "currency_202102\n",
      "inAppProductPrice_202102\n",
      "developer_202102\n",
      "developerId_202102\n",
      "developerEmail_202102\n",
      "developerWebsite_202102\n",
      "developerAddress_202102\n",
      "comments_202102\n",
      "appId_202102\n",
      "adSupported_True_202102\n",
      "containsAds_True_202102\n",
      "free_True_202102\n",
      "offersIAP_True_202102\n",
      "contentRating_Adult_202102\n",
      "contentRating_Everyone_202102\n",
      "contentRating_Teen_202102\n",
      "genreId_Entertainment_202102\n",
      "genreId_Game_202102\n",
      "genreId_Productivity_202102\n",
      "minInstalls_201907\n",
      "minInstalls_201908\n",
      "minInstalls_201909\n",
      "minInstalls_201912\n",
      "minInstalls_202001\n",
      "minInstalls_202003\n",
      "minInstalls_202004\n",
      "minInstalls_202009\n",
      "minInstalls_202010\n",
      "minInstalls_202011\n",
      "minInstalls_202012\n",
      "minInstalls_202101\n",
      "minInstalls_202102\n",
      "score_201907\n",
      "score_201908\n",
      "score_201909\n",
      "score_201912\n",
      "score_202001\n",
      "score_202003\n",
      "score_202004\n",
      "score_202009\n",
      "score_202010\n",
      "score_202011\n",
      "score_202012\n",
      "score_202101\n",
      "score_202102\n",
      "reviews_201907\n",
      "reviews_201908\n",
      "reviews_201909\n",
      "reviews_201912\n",
      "reviews_202001\n",
      "reviews_202003\n",
      "reviews_202004\n",
      "reviews_202009\n",
      "reviews_202010\n",
      "reviews_202011\n",
      "reviews_202012\n",
      "reviews_202101\n",
      "reviews_202102\n",
      "ratings_201907\n",
      "ratings_201908\n",
      "ratings_201909\n",
      "ratings_201912\n",
      "ratings_202001\n",
      "ratings_202003\n",
      "ratings_202004\n",
      "ratings_202009\n",
      "ratings_202010\n",
      "ratings_202011\n",
      "ratings_202012\n",
      "ratings_202101\n",
      "ratings_202102\n",
      "price_201907\n",
      "price_201908\n",
      "price_201909\n",
      "price_201912\n",
      "price_202001\n",
      "price_202003\n",
      "price_202004\n",
      "price_202009\n",
      "price_202010\n",
      "price_202011\n",
      "price_202012\n",
      "price_202101\n",
      "price_202102\n",
      "size_201907\n",
      "size_201908\n",
      "size_201909\n",
      "size_201912\n",
      "size_202001\n",
      "size_202003\n",
      "size_202004\n",
      "size_202009\n",
      "size_202010\n",
      "size_202011\n",
      "size_202012\n",
      "size_202101\n",
      "size_202102\n",
      "released_201907\n",
      "released_201908\n",
      "released_201909\n",
      "released_201912\n",
      "released_202001\n",
      "released_202003\n",
      "released_202004\n",
      "released_202009\n",
      "released_202010\n",
      "released_202011\n",
      "released_202012\n",
      "released_202101\n",
      "released_202102\n",
      "updated_201907\n",
      "updated_201908\n",
      "updated_201909\n",
      "updated_201912\n",
      "updated_202001\n",
      "updated_202003\n",
      "updated_202004\n",
      "updated_202009\n",
      "updated_202010\n",
      "updated_202011\n",
      "updated_202012\n",
      "updated_202101\n",
      "updated_202102\n",
      "predicted_labels\n",
      "location\n",
      "longitude\n",
      "latitude\n",
      "num_apps_owned\n"
     ]
    }
   ],
   "source": [
    "for i in result_df.columns:\n",
    "    print(i)"
   ],
   "metadata": {
    "collapsed": false,
    "pycharm": {
     "name": "#%%\n"
    }
   }
  },
  {
   "cell_type": "code",
   "execution_count": 50,
   "outputs": [
    {
     "data": {
      "text/plain": "                                                                                                                     summary_202102  \\\ndeveloper          appid                                                                                                              \nToca Boca          com.tocaboca.tocakitchen2       The wildly popular Toca Kitchen is back!                                           \n                   com.tocaboca.tocalifeworld      Create storylines, make unique characters & build your own exciting world          \n                   com.tocaboca.tocahairsalon3     Our most popular app series returns, better than ever!                             \n                   com.tocaboca.tocalab            Welcome to Toca Lab: Elements! Discover elements by experimenting with lab tools   \n                   com.tocaboca.tocahospital       Experience the excitement of a busy medical center with Toca Life: Hospital!       \n                   com.tocaboca.tocaneighborhood   Move into your new block                                                           \n                   com.tocaboca.tocavacation       Make every day a vacation adventure!                                               \n                   com.tocaboca.tocaoffice         Turn work into an adventure!                                                       \n                   com.tocaboca.tocapets           Meet friends with paws & claws                                                     \n                   com.tocaboca.tocastable         Welcome to a world of horses and adventure!                                        \n                   com.tocaboca.tocaschool         Grab your backpack— it’s time for Toca Life: School!                               \n                   com.tocaboca.tocatown           You rule in Toca Life: Town, a play world where anything and everyone is welcome   \n                   com.tocaboca.tocakitchensushi   Let’s get cooking!                                                                 \n                   com.tocaboca.tocaafterschool    Explore hobbies & play sport                                                       \n                   com.tocaboca.tocalifefarm       Work and play the farmer's way!                                                    \n                   com.tocaboca.tocamini           Let your imagination run wild in the colorful world of Toca Mini!                  \n                   com.tocaboca.tocanature         Nature is magic. Toca Nature delivers that magic to your fingertips.               \n                   com.tocaboca.tocacity           Welcome to Toca Life: City, a metropolis filled with everyday fun!                 \n                   com.tocaboca.hairsalon2         Pay once & play forever! No in-app purchases. \\r\\n\\r\\nToca Hair Salon is back!     \n                   com.tocaboca.hairsalonme        Give your friends and family a totally new look!                                   \n                   com.tocaboca.tocaboo            BOO! \\r\\nDid I scare you!? My name is Bonnie and my family loves to spook!         \n                   com.tocaboca.tocalabplants      Discover New Species!                                                              \n                   com.tocaboca.tocamysteryhouse   Play with the strange                                                              \n                   com.tocaboca.blocks             Toca Blocks is a unique world-building app.                                        \n                   com.tocaboca.tocatrain          Explore as you drive the train                                                     \nSAND STUDIO        com.sand.airdroid               Transfer files, SMS and access your phone from a computer remotely, for free!      \nNick Thissen       nl.nickthissen.iracingforum3    Comfortably browse the iRacing.com forums with this dedicated app!                 \nB-hyve             com.orbit.orbitsmarthome        Companion app for Orbit bhyve sprinkler timer.                                     \n                   com.orbit.orbitsmarthome.pro    B-hyve Pro App for landscape irrigation professionals                              \nBilliard Ball Game com.dcoc.wordmatrix.android.en  Train Your Brain With Words                                                        \n\n                                                                                                                                                                                                                                                                                                                                                                                                                                                                                                                                                                                                                                                                                                                                                                                                                                                                                                                                                                                                                                                                                                                                                                                                                                                                                                                                                                                                                                                                                                                                                                                                                                                                                                                                                                                                                                                                                                                                                                                                                                                                                                                                                                                                                                                                                                                                                                                                                                                                                                                                                                                                                                                                                                                                                                                                                                                                                                                                                                                                                                                                                                                                                                                                                                                                                                                                                                                                                                                                                                                                                                                                                                                                                                                                                                                                                                                                                                                                                                                                                                                                                                                                                                                                              description_202102  \\\ndeveloper          appid                                                                                                                                                                                                                                                                                                                                                                                                                                                                                                                                                                                                                                                                                                                                                                                                                                                                                                                                                                                                                                                                                                                                                                                                                                                                                                                                                                                                                                                                                                                                                                                                                                                                                                                                                                                                                                                                                                                                                                                                                                                                                                                                                                                                                                                                                                                                                                                                                                                                                                                                                                                                                                                                                                                                                                                                                                                                                                                                                                                                                                                                                                                                                                                                                                                                                                                                                                                                                                                                                                                                                                                                                                                                                                                                                                                                                                                                                                                                                                                                                                                                                                                                                                                                           \nToca Boca          com.tocaboca.tocakitchen2       Do you want to be the head chef of your very own sushi restaurant? Check out Toca Kitchen Sushi, the newest app from Toca Boca 👉 http://bit.ly/TocaKitchenSushi_GooglePlay \\r\\n\\r\\nThe wildly popular Toca Kitchen is back! With new guests to cook for, more tools to play with and new food combinations to test out, Toca Kitchen 2 invites all chefs to get messy and start playing!\\r\\n\\r\\nGET CREATIVE\\r\\nWho said dishes have to be pretty and tasty? In Toca Kitchen 2 you can cook however you want! Juice tomatoes, boil the salad or make a burger. Come up with your very own recipes and treat your guests to something special.\\r\\n\\r\\nMAKE A MESS\\r\\nWith six different kitchen tools to choose from, you have the perfect setup for preparing fun foods! Load up with your favorite ingredients, add a squeeze of messiness and finish off with a pinch of weirdness. Time to let your guest have a bite! Was it a winner? \\r\\n\\r\\nWATCH THEIR REACTIONS\\r\\nDiscover your guests’ preferences by watching their reactions. Oven-baked fish head with fried leftovers and lettuce juice coming right up! Oh, they didn’t like it? Try adding some salt. It’s fun to get the “ew”!\\r\\n\\r\\nWe added a whole lot of fun stuff! You can now enjoy cooking:\\r\\n\\r\\nNew foods!\\r\\n- Chicken\\r\\n- Prawn\\r\\n- Pineapple\\r\\n- Corn\\r\\n- Peach\\r\\n- Strawberry\\r\\n- Watermelon \\r\\n- Onion\\r\\n- Octopus\\r\\n- Spaghetti\\r\\n- Rice\\r\\n\\r\\nNew condiments!\\r\\n- Ketchup\\r\\n- Dressing\\r\\n- Soy\\r\\n\\r\\nWatch the characters react to spicy hot sauce and sour lemons or and laugh at loud burps. \\r\\n\\r\\nAt last but not least, we added more levels of grossness to the characters. Have fun!\\r\\n\\r\\nFeatures:\\r\\n- New ingredients in the fridge\\r\\n- New characters to feed\\r\\n- Stronger character reactions\\r\\n- New juicer and oven\\r\\n- Deep fryer! You can now deep fry anything. Get your crust on.\\r\\n- No rules or stress - just open-ended, kid-directed fun!\\r\\n- No third-party advertising\\r\\n- No in-app purchases\\r\\n\\r\\nWhat are you waiting for? Get in the kitchen and start cooking!\\r\\n\\r\\nToca Kitchen 2 is a free cooking app for kids that’s perfect for aspiring chefs. Kids can roleplay a chef in a kitchen full of tasty foods and ingredients! Learn how to cook your favorite dish or experiment with fun combinations to feed hungry customers. This fun cooking app is sure to deliver nothing but fun for kids!\\r\\n\\r\\nThere’s no time limits or rules, right or wrong, so explore all the ingredients and tools the kitchen has to offer! Cook up some crazy food and feed your guests. \\r\\n\\r\\n***\\r\\n\\r\\nSubscribe to our YouTube channel!\\r\\nhttp://bit.ly/YouTube_GooglePlay\\r\\n\\r\\n***\\r\\n\\r\\nABOUT TOCA BOCA\\r\\nAt Toca Boca, we believe in the power of play to spark kids’ imaginations and help them learn about the world. We design our products from the kids' perspective to empower kids to be playful, to be creative and to be who they want to be. Our products include award-winning apps that have been downloaded more than 130 million times in 215 countries and offer fun, safe, open-ended play experiences. Learn more about Toca Boca and our products at tocaboca.com.\\r\\n\\r\\nPRIVACY POLICY\\r\\nPrivacy is an issue that we take very seriously. To learn more about how we work with these matters, please read our privacy policy: http://tocaboca.com/privacy                                                                                                                                                                                                                                                                                                                                                                                                                                                                                                                                                                                                                                                                                                                                                 \n                   com.tocaboca.tocalifeworld      Create stories and build your own world with Toca Life World. You’ll get all the fun of your other favorite Toca Life apps such as City, Vacation, Office, Hospital, and more, all together in one place. \\r\\n\\r\\nINTRODUCING TOCA LIFE WORLD\\r\\nWant to give grandma a wild hairstyle? Bring a sloth to the Skate Park? Or just hang out with friends? If you thought it was fun to dive into a Toca Life app and do whatever you want then you were right. This is your own world where you build characters and create stories your way. Make storylines and discover that anything is possible today. \\r\\n\\r\\nYou can even go further and create stories with your favorite characters in any location you want. Want to take a pet to School? Go for it. Take the doctor to the Salon and dye her hair green? Rock on. In Toca Life World you’re the boss. Build characters, create stories, and play the way you want.\\r\\n\\r\\nMAKE STORYLINES, BUILD CHARACTERS & CREATE YOUR OWN WORLD - WHY YOU’LL LOVE TO PLAY TOCA LIFE WORLD\\r\\n\\r\\nFIRST 8 LOCATIONS & 39 CHARACTERS INCLUDED\\r\\nYou can visit Bop City, a vibrant city area with 8 different locations for you to discover, like the hairdresser, the shopping mall and food court, or even an apartment. It’s a great start when you want to build your own world!\\r\\n\\r\\nKEEP THE TOCA LIFE APPS YOU ALREADY HAVE\\r\\nDo you already play other apps within the Toca Life series? City? Vacation? Office? Great! When you download Toca Life World, we’ll help you bring all of that stuff into the mega-app. Then you can start mixing and matching locations and characters to create heaps of new storylines. \\r\\n\\r\\nBUY NEW LOCATIONS AND CHARACTERS\\r\\nIf you want to discover more locations, that’s cool. Toca Life World has a shop where more than 50 locations, 300 characters, and 125 pets are available for purchase. With different prices from small to big, you can decide to add a little or a lot. We’ll always be updating with more locations, characters and crazy things to do.\\r\\n\\r\\nGIFTS EVERY WEEK\\r\\nGuess what? You don’t need to make purchases in the shop to get new items to add to your world. Check back every week and discover exclusive surprise gifts!\\r\\n\\r\\nDiscover exciting storylines, build characters, and don’t miss out on a moment of fun - download Toca Life World today! \\r\\n\\r\\nAbout Us:\\r\\n\\r\\nAt Toca Boca, we believe in the power of play to spark kids’ imaginations and help them learn about the world. We design our products from the kids' perspective to empower kids to be playful, to be creative and to be who they want to be. Our products include award-winning apps that have been downloaded more than 200 million times in 215 countries and offer fun, safe, open-ended play experiences. Learn more about Toca Boca and our products at tocaboca.com.\\r\\n\\r\\nPrivacy is an issue that we take very seriously. To learn more about how we work with these matters, please read our privacy policy: https://tocaboca.com/privacy                                                                                                                                                                                                                                                                                                                                                                                                                                                                                                                                                                                                                                                                                                                                                                                                                                                                                                                                                                                                                                                                                                       \n                   com.tocaboca.tocahairsalon3     Welcome to Toca Hair Salon 3! Our most popular app series returns, better than ever! What do you feel like creating today — something quirky, pretty or edgy? Choose your character from dozens of looks that you can customize — characters have randomized styles and personalities, which creates endless play opportunities! Grab your tools and get styling!\\r\\n\\r\\nAMAZINGLY REALISTIC HAIR\\r\\nThe hair in Toca Hair Salon 3 looks and moves like real hair! You can style silky straight hair, bouncy waves, crinkly curls, and for the first time in the Toca Hair Salon series: kinky hair! This super-curly hair type means you can create fluffy 'fros and other natural hairstyles.\\r\\n\\r\\nAWESOME STYLING TOOLS\\r\\nNo salon would be complete without the right tools!\\r\\n\\r\\nBasics: Of course you'll find everything for a good wash, including shampoo and a blow dryer. You'll also find scissors, clippers, a razor, a brush and a multipurpose combing tool to use on your client's hair. In case you cut off a little too much, we've brought back our amazing grow tonic to regrow hair — definitely customer pleaser!\\r\\n\\r\\nHair types: The electric styling tools let you move between the different hair types to get just the right look.\\r\\n\\r\\nBraids: Use the brand-new braiding tools for more styling options! You can make thick braids or thin braids!\\r\\n\\r\\nBeards: Visit the beard station for the best in beard-grooming (or growing!). Lather up with shaving cream, then use scissors, clippers or a razor to get just the right length. Every character can have a beard!\\r\\n\\r\\nColor: Ready for some color? Toca Hair Salon 3 introduces a more advanced hair color tool with two different cans for different sized sprays. And the new rainbow spray lets you create the most colorful styles you can imagine!\\r\\n\\r\\nCLOTHES AND ACCESSORIES\\r\\nNow characters can change into different clothes! Try on new looks to suit that new hair style! Accessorize the look with glasses, caps, headbands and silly stuff. Choose a photo booth background and take a picture to save to your device and share!\\r\\n\\r\\nFEATURES\\r\\n- All-new characters with dozens of starter styles\\r\\n- Straight, wavy, curly and now kinky hair!\\r\\n- All the tools you need to create the style you want!\\r\\n- New braiding tool!\\r\\n- Every character can grow a beard to style\\r\\n- More advanced hair color tool: Dip-dye and fade hair in any colors you want!\\r\\n- Change clothes on characters!\\r\\n- Dozens of new accessories: hats, glasses, jewelry and more\\r\\n- Change backdrops in the photo booth!\\r\\n- Snap a picture in the app and share with your friends!\\r\\n- Gender-neutral aesthetic: Unlike most hairstyling apps, all kids are welcome to play!\\r\\n- No time limit or high scores — play for as long as you like!\\r\\n- No third-party advertising\\r\\n\\r\\nNothing but endless hours of hairstyling fun awaits with these hair cutting tools and accessories at your disposal! Be the hairstylist of your dreams and give your friends and family a fresh, fun cut that they’ll remember forever.\\r\\n\\r\\nWith no rules or time limit, this hair salon app is perfect for boys and girls of all ages. Any hair cut or hair style is possible, so creatively tap into your imagination and start cutting hair now!\\r\\n\\r\\nABOUT TOCA BOCA\\r\\nAt Toca Boca, we believe in the power of play to spark kids’ imaginations and help them learn about the world. We design our products from the kids' perspective to empower kids to be playful, to be creative and to be who they want to be. Our products include award-winning apps that have been downloaded more than 130 million times in 215 countries and offer fun, safe, open-ended play experiences. Learn more about Toca Boca and our products at tocaboca.com.\\r\\n\\r\\nPRIVACY POLICY\\r\\nPrivacy is an issue that we take very seriously. To learn more about how we work with these matters, please read our privacy policy: http://tocaboca.com/privacy                                                                                                                \n                   com.tocaboca.tocalab            Pay once, play forever! No in-app purchases! \\r\\n\\r\\nCalling all future scientists! \\r\\n\\r\\nWelcome to Toca Lab: Elements! Explore the colorful and electrifying world of science and meet all 118 of the elements from the periodic table. \\r\\n\\r\\nDiscover elements by experimenting with the lab tools! \\r\\n\\r\\n* Take your element for a spin in the centrifuge. \\r\\n* Warm them up in the Bunsen burner. \\r\\n* Put the element on ice with the cooling agent! \\r\\n* Add a drop or two of mysterious liquids from the test tubes. \\r\\n* Change their voltage and make them magnetic with the oscilloscope. \\r\\n\\r\\nEach element has its own personality. In Toca Lab: Elements, what does Neon sound like? Is Gold heavy or light? Is Nitrogen squishy or hard? Explore, inspect, and study each one and let us know! Can you find all 118? \\r\\n\\r\\nThe time has come, future scientists, to head into the lab to explore and discover. Put on your lab coat and protective eye gear because things are about to get experimental! \\r\\n\\r\\nToca Lab: Elements is a place for playing and having fun, and with it we hope to inspire kids to explore science. While the periodic table in Toca Lab: Elements is accurate, the way new elements are created is not. Instead, it’s a fun way to experiment, discover and create curiosity in the world of science. Toca Lab: Elements is just a starting point for further exploration! \\r\\n\\r\\nWith no rules or time limits, this fun science-themed app is perfect for kids of all ages! Exploring science has never been more fun with all the elements from the periodic table and tools to play and experiment with! Hours of fun in the laboratory awaits, so play in the lab and explore the world of science now!\\r\\n\\r\\n***\\r\\n\\r\\nABOUT TOCA BOCA\\r\\nAt Toca Boca, we believe in the power of play to spark kids’ imaginations and help them learn about the world. We design our products from the kids' perspective to empower kids to be playful, to be creative and to be who they want to be. Our products include award-winning apps that have been downloaded more than 130 million times in 215 countries and offer fun, safe, open-ended play experiences. Learn more about Toca Boca and our products at tocaboca.com.\\r\\n\\r\\nPRIVACY POLICY\\r\\nPrivacy is an issue that we take very seriously. To learn more about how we work with these matters, please read our privacy policy: http://tocaboca.com/privacy                                                                                                                                                                                                                                                                                                                                                                                                                                                                                                                                                                                                                                                                                                                                                                                                                                                                                                                                                                                                                                                                                                                                                                                                                                                                                                                                                                                                                                                                                                                                                                                                                                                                                           \n                   com.tocaboca.tocahospital       Experience the excitement of a busy medical center with Toca Life: Hospital! Welcome newborn babies into the world, treat sick patients and even say goodbye to loved ones. Toca Life: Hospital is a place where you can play out the joy and pain of life in your own way.\\r\\n\\r\\nLIVE THE CIRCLE OF LIFE\\r\\n\\r\\nTHE BEGINNING\\r\\nWelcoming a new baby into the world can be a little scary and very exciting! Share in that excitement as we welcome newborn babies to Toca Life! Family members and medical staff can love and care for these tiny, swaddled cuties. \\r\\n\\r\\nTHE END\\r\\nSometimes sad moments happen in hospitals, too. The farewell room in Toca Life: Hospital gives loved ones a chance to say goodbye in a peaceful setting. \\r\\n\\r\\nAND EVERYTHING IN BETWEEN\\r\\nToca Life: Hospital lets you tell make-believe stories or real-life stories about checkups, X-rays and all the everyday things that happen in a hospital. \\r\\n\\r\\nEXPLORE UNITS ON FIVE FLOORS\\r\\nIn the basement, sound the siren on the ambulance in the garage or crack the code on a mysterious machine to open the doors to a secret lab! On the entrance floor, check in at the reception desk and have a seat in the waiting area, or grab a snack from the cafe. The treatment floor has tools to diagnose patients, a lab to check specimens and an operating room. The family care floor has a unit just for kids and a maternity unit with an ultrasound machine, nursery cribs and newborn babies! Patients on the general care floor can visit a peaceful garden to reflect on life. And when a loved one dies, say your final goodbyes in the farewell room.\\r\\n\\r\\nFEATURES\\r\\n- Explore five floors: basement, main entrance, lab and treatment, family care and general care.\\r\\n- Move characters from floor to floor in the big elevator.\\r\\n- Baby on the way? Use the ultrasound machine on the expectant patient!\\r\\n- Aww, newborns: Welcome babies to the world! \\r\\n- Use the CAT scan machine (ours has cat ears!) and X-ray machine to diagnose patients!\\r\\n- Check surgery patients’ vitals on the medical monitor.\\r\\n- Use all the tools you’d find in a real-life hospital: gurneys, bandages, crutches, hospital beds, wheelchairs and more!\\r\\n- Crack the code on the mysterious machine to explore the secret lab!\\r\\n- Find peace and say goodbye to loved ones in the farewell room.\\r\\n- Set the tone for your story with just the right music, from a dramatic hospital theme to a relaxing, mellow tune.\\r\\n\\r\\nCREATE VIDEOS OF YOUR OWN HOSPITAL DRAMA\\r\\nUse the in-app recording feature to create an original video! This feature records your voice and your characters’ movements as you’re telling the story. Create videos up to two minutes long and save them to your camera roll to share later!\\r\\n\\r\\n--\\r\\n\\r\\nABOUT TOCA BOCA\\r\\nAt Toca Boca, we believe in the power of play to spark kids’ imaginations and help them learn about the world. We design our products from the kids' perspective to empower kids to be playful, to be creative and to be who they want to be. Our products include award-winning apps that have been downloaded more than 150 million times in 215 countries and offer fun, safe, open-ended play experiences. Learn more about Toca Boca and our products at tocaboca.com.\\r\\n\\r\\nPRIVACY POLICY\\r\\nPrivacy is an issue that we take very seriously. To learn more about how we work with these matters, please read our privacy policy: http://tocaboca.com/privacy                                                                                                                                                                                                                                                                                                                                                                                                                                                                                                                                                                                                                        \n                   com.tocaboca.tocaneighborhood   Welcome to your new neighborhood, filled with friendly faces to hang out with. Explore your new block, where you can explore cafés and shops, and meet a new set of characters. And guess what? A Toca Life app has never had this many homes!\\r\\n\\r\\nMOVE INTO YOUR NEW APARTMENT\\r\\nWhat’s your interior style? Minimalistic, cute, bohemian or industrial? Pick one of four apartments, or move into all of them! Move in, get settled, visit your neighbors and invite them to help decorate your home! \\r\\n\\r\\nDECORATE YOUR PLACE\\r\\nVisit the interior design store were you can find loads of items to decorate your new place. Plants, clocks, pillows and mailboxes! Paintings, stools and many other things. \\r\\nDon’t leave before spending some time in the photo booth. Choose a filter and get your friends ready! Say cheese!\\r\\n\\r\\nHANG OUT IN THE ROB-O CAFÉ\\r\\nSpend some time with your friends chilling in the Rob-o Café. Grab a bite from the conveyor belt or order a smoothie from the giant robot. Choose between four tasty flavors. Which one will you pick?\\r\\n\\r\\nGET NEIGHBORHOOD NOW – CONNECT ALL TOCA LIFE APPS SOON\\r\\nVery soon we will introduce Toca Life: World, our new mega app that brings all of the Toca Life locations together. Toca Life: World will be the place for all new themes and updates, and even some surprise gifts! We’re almost ready to introduce it to you. If you download Toca Life: Neighborhood today, soon you will be able to connect it with the rest of your Toca Life apps. \\r\\n\\r\\nFEATURES\\r\\nMeet 23 new characters\\r\\n4 new apartments with different themes to live and hang out in!\\r\\nShop at the design store to get new furniture and objects for your home - make it your style!\\r\\nBring your best friends to the Rob-o Café and pick out food from the conveyor belt.\\r\\nGet a smoothie from the giant smoothie robot. Choose between four tasty flavors!\\r\\nBring family and friends to take a photo in the photo booth! Which filter will you use?  \\r\\nGet a Sloth toy in the Slothtato toy machine!\\r\\nFind the secret Rob-o Disco Club!\\r\\nVisit the tiny creatures that have a hideout in the elevator!\\r\\n\\r\\nABOUT US:\\r\\nAt Toca Boca, we believe in the power of play to spark kids’ imaginations and help them learn about the world. We design our products from the kids' perspective to empower kids to be playful, to be creative and to be who they want to be. Our products include award-winning apps that have been downloaded more than 200 million times in 215 countries and offer fun, safe, open-ended play experiences. Learn more about Toca Boca and our products at tocaboca.com.\\r\\n\\r\\nPRIVACY POLICY:\\r\\nPrivacy is an issue that we take very seriously. To learn more about how we work with these matters, please read our privacy policy: https://tocaboca.com/privacy                                                                                                                                                                                                                                                                                                                                                                                                                                                                                                                                                                                                                                                                                                                                                                                                                                                                                                                                                                                                                                                                                                                                                                                                                                                                                   \n                   com.tocaboca.tocavacation       Make every day a vacation adventure! Feel the excitement of going through the airport to catch your flight. Jumping on a hotel bed. Digging for treasure on the beach. Create all the vacation fun you want with Toca Life: Vacation!\\r\\n\\r\\nEXPLORE\\r\\nWith four locations to explore in Toca Life: Vacation, you’ll never run out of ideas for your stories. Want to start your adventure at the airport? Have fun with the X-ray machine, board the plane and visit the cockpit. Then get a snack and enjoy your flight! At your destination, you have many choices for activities: shopping and sightseeing on the boardwalk, playing at the beach and surfing in the ocean and exploring the hotel.\\r\\n\\r\\nDISCOVER\\r\\nYou’ll find lots of surprises throughout Toca Life: Vacation. Find out who inhabits the seafloor, open a secret compartment, uncover buried treasures and investigate a very mysterious-looking statue.\\r\\n\\r\\nFEATURES\\r\\n- Explore four locations: airport, hotel, beach and sightseeing.\\r\\n- Create stories for 34 new characters.\\r\\n- X-ray luggage or people at the airport! Visit the cockpit and have a snack on the plane.\\r\\n- Fill up at the hotel buffet or raid the fridge in your hotel room.\\r\\n- Play on the hotel elevator then ride up to the top floor to enjoy the view from your penthouse suite.\\r\\n- Shop for souvenirs in the gift shop, take photos in the cut-out figures and have a snack on the boardwalk.\\r\\n- Play on the beach and surf above the ocean animals.\\r\\n- Discover the island mysteries!\\r\\n- No time limit or high scores — play for as long as you like!\\r\\n- No third-party advertising\\r\\n- No in-app purchases\\r\\n\\r\\nWE LISTEN\\r\\nYou wanted a vacation app, you got it! We loved your suggestions for a hotel, beach and airport, so keep those ideas coming! What do you want to see next in the Toca Life series? Share your suggestions by submitting a review, or share them with @tocaboca on Instagram & YouTube!\\r\\n\\r\\n***\\r\\n\\r\\nABOUT TOCA BOCA\\r\\nAt Toca Boca, we believe in the power of play to spark kids’ imaginations and help them learn about the world. We design our products from the kids' perspective to empower kids to be playful, to be creative and to be who they want to be. Our products include award-winning apps that have been downloaded more than 130 million times in 215 countries and offer fun, safe, open-ended play experiences. Learn more about Toca Boca and our products at tocaboca.com.\\r\\n\\r\\nPRIVACY POLICY\\r\\nPrivacy is an issue that we take very seriously. To learn more about how we work with these matters, please read our privacy policy: http://tocaboca.com/privacy                                                                                                                                                                                                                                                                                                                                                                                                                                                                                                                                                                                                                                                                                                                                                                                                                                                                                                                                                                                                                                                                                                                                                                                                                                                                                                                                                                                                                                                               \n                   com.tocaboca.tocaoffice         Ever wonder what grown-ups really do at work all day? In Toca Life: Office, you get to tell stories about office life the way you imagine it!\\r\\n\\r\\nToca Life: Office looks a lot like a regular office — you can have everyday fun with laptops, printers and copy machines; have lunch in the cafe; and get cash from the bank. But in Toca Life, even simple office life can lead to an exciting adventure! Find hidden surprises. Hop into a helicopter. Turn regular people into superheroes! Where will you work today?\\r\\n\\r\\nEXPLORE SIX LOCATIONS\\r\\n\\r\\nDAYCARE: First stop: daycare, where little ones can play instruments, splash in mud, grow plants outside and slide down the slide on their playground!\\r\\n\\r\\nBANK: The vault holds valuable things and keeps them safe and secure. But if the alarm is triggered, it’s time to spring into action!\\r\\n\\r\\nOFFICE: Use the printer to print documents, then make copies with the copy machine! What else can you make copies of? In the fancy office, solve the desk puzzle to discover an exciting secret!\\r\\n\\r\\nROOFTOP: Experiment with food in the cafe to discover new recipes! The rooftop also has a helicopter waiting on the landing pad for when you need to make a quick getaway!\\r\\n\\r\\nCOURTHOUSE: Do some detective work — maybe you’ll solve a crime! Hold a trial and announce the verdict. Shhh...there’s a secret exit in the jail — will someone escape?\\r\\n\\r\\nAPARTMENT: After a long day, make yourself at home! Cook a meal, take a nap, even wash your clothes in the washing machine!\\r\\n\\r\\nFEATURES\\r\\n- Role-play in six locations: bank, office, rooftop, courthouse, apartment and daycare. Plus a storage building with a fire pole!\\r\\n- Meet 35 new characters! \\r\\n- Find costumes hidden in different locations and turn characters into superheroes!\\r\\n- Look for surprises in secret compartments!\\r\\n- Move from floor to floor in the glass elevator.\\r\\n- Keep valuables in the bank vault. Set the alarm to keep them secure!\\r\\n- Discover what’s inside the safe deposit boxes.\\r\\n- Draw on the whiteboard, print from the computers and make copies with the copy machine.\\r\\n- Explore the big office and unlock the secret hiding places!\\r\\n- Play with jellyfish in the window aquarium.\\r\\n- Pretend to be a chef and whip up delicious meals in the cafe!\\r\\n- Hop into the helicopter and start up the propellers!\\r\\n- Have a make-believe trial at the courthouse.\\r\\n- Discover a secret exit in the jail.\\r\\n\\r\\nAbout Toca Boca\\r\\nAt Toca Boca, we believe in the power of play to spark kids’ imaginations and help them learn about the world. We design our products from the kids' perspective to empower kids to be playful, to be creative and to be who they want to be. Our products include award-winning apps that have been downloaded more than 150 million times in 215 countries and offer fun, safe, open-ended play experiences. Learn more about Toca Boca and our products at tocaboca.com.\\r\\n\\r\\nPrivacy Policy\\r\\nPrivacy is an issue that we take very seriously. To learn more about how we work with these matters, please read our privacy policy: http://tocaboca.com/privacy                                                                                                                                                                                                                                                                                                                                                                                                                                                                                                                                                                                                                                                                                                                                                                                                                                                                                                                                          \n                   com.tocaboca.tocapets           Welcome to Toca Life: Pets, where you and your animal friends run the show! What’s your favorite pet like? Furry and fast? Wet and wiggly? A little bit creepy? With more than 120 animals, Toca Life: Pets has every kind of pet you can imagine.\\r\\n\\r\\nEXPLORE FIVE LOCATIONS\\r\\n\\r\\nPET PARK: Enjoy the great outdoors with the pets! Take a dip in the river, have a picnic on the grass, play a game or discover a hidden cave. Or build an agility course to train your pets and test their skills. Poke around a bit, explore the tree — you might find some surprises to expand your pet family!\\r\\n\\r\\nPET HOTEL: Sometimes families go on trips without their pets, but thanks to the pet hotel, pets get a vacation of their own! With lots of cozy spaces, an aquarium and outdoor space, every pet will find a nice spot to play or relax — dog or cat, bird or sloth-bat!\\r\\n\\r\\nVETERINARY: The vet can help sick pets feel better and help healthy pets stay that way! You’ll find pills, drops and the instruments needed to operate on sick or injured pets. Pets can play outdoors or wait on the cozy beds until the vet is ready to see them.\\r\\n\\r\\nPET SHOP: Find everything you need for to groom, feed, play with and care for your pets at the pet shop. After shopping, grab a bite to eat at the pet shop cafe, where pets get a table too!\\r\\n\\r\\nBREEDER’S BUNGALOW: Here’s where the pet breeder starts and ends their day. The bungalow is, of course, filled with pets — hiding in the greenhouse and playing in the yard and splashing in mud. Don’t worry, the giant bathtub gets everyone clean again!\\r\\n\\r\\nFEATURES\\r\\n- Role-play in five locations: pet park, pet hotel, veterinary, pet shop and breeder’s bungalow.\\r\\n- Meet 23 new characters.\\r\\n- Play with and care for 124 real and fantasy animals.\\r\\n- Bathe muddy pets and get them clean again!\\r\\n- Pretend to be a vet and care for sick and injured pets.\\r\\n- Dress your pets in fun hats — stack hats on hats on hats!\\r\\n- Build an agility course to train pets and help them get the exercise they need.\\r\\n- Pull the branch in the pet park to discover a surprise!\\r\\n\\r\\nAbout Us:\\r\\nAt Toca Boca, we believe in the power of play to spark kids’ imaginations and help them learn about the world. We design our products from the kids' perspective to empower kids to be playful, to be creative and to be who they want to be. Our products include award-winning apps that have been downloaded more than 200 million times in 215 countries and offer fun, safe, open-ended play experiences. Learn more about Toca Boca and our products at tocaboca.com.\\r\\n\\r\\nPrivacy Policy:\\r\\nPrivacy is an issue that we take very seriously. To learn more about how we work with these matters, please read our privacy policy: https://tocaboca.com/privacy                                                                                                                                                                                                                                                                                                                                                                                                                                                                                                                                                                                                                                                                                                                                                                                                                                                                                                                                                                                                                                                                                                                                                                                                                                                                                                \n                   com.tocaboca.tocastable         Welcome to a world of horses and adventure! Groom horses, care for them and show them! Engage in some medieval jousting or role-play the Wild West. Ride motorcycles and camp out under the stars! You can play your way in Toca Life: Stable!\\r\\n\\r\\nEXPLORE AN EXCITING WORLD\\r\\nTHE STABLE: Step into the stable and can care for your horses. Wash them, brush them, then saddle up for a trot. When you're finished grooming your horses (and cleaning up their poop!), take a well-deserved break in the club room.\\r\\n\\r\\nTHE ARENA: Next, advance to the arena and show off your horse's jumping skills. Hear the cheers when the winners take their place on the podium. After the celebration, you can race motorcycles in the arena — vroom! — or get a snack in the food court.\\r\\n\\r\\nTHE FOREST: Ready to frolic in the forest? Choose your most trusted horse and head off for an adventure in the woods, where you can sleep under the stars in your sleeping bag, then wake up for a swim in the waterfall.\\r\\n\\r\\nTHE SHOP: When you need more horse tack, head over to the shop — you'll find everything you need.\\r\\n\\r\\nTRAVEL BETWEEN LOCATIONS\\r\\nEach location gives you access to the horse transport, so you can get your horses, equipment, bikes and even characters from here to there. Put what you want to move into the transport, close the door and select the new location by tapping an icon. Everything will arrive in the selected location so you can begin your next adventure!\\r\\n\\r\\nCREATE AN ORIGINAL VIDEO OF YOUR STORY\\r\\nUse the in-app recording feature to create an original video! This feature records your voice as you’re telling the story, along with your characters’ movements. Create videos up two minutes long and save them to your camera roll to share later!\\r\\n\\r\\nFEATURES:\\r\\n- Explore four locations: stable, arena, forest and shop.\\r\\n- Create stories for 24 new characters plus horses and other animals!\\r\\n- Care for your horses: feed them, lather them up till they're nice and clean, brush them. \\r\\n- Choose outfits from your favorite themes: medieval, western, everyday stable life and fantasy!\\r\\n- Hop on to ride bikes in the forest and race motorcycles in the arena!\\r\\n- Set up obstacles and show off your horse's jumping skills!\\r\\n- Eat at the food court and use the portable potties!\\r\\n- Have a campout!\\r\\n- Snuggle into your sleeping bag to stay warm under the stars! \\r\\n- Take a canoe ride or swim by a waterfall.\\r\\n- Make music with magical lily pads!\\r\\n- Move horses, characters and objects from here to there in the horse transport!\\r\\n- Record your stories in the app and share with your friends!\\r\\n- No time limit or high scores — play for as long as you like!\\r\\n- No third-party advertising\\r\\n\\r\\nWE LISTEN\\r\\nOne of our top requests for the Toca Life series has been horses! So we made an app that's all about horses! What do you want to see next in the Toca Life series? Share your suggestions by submitting a review, or share them with @tocaboca on Instagram & YouTube!                                                                                                                                                                                                                                                                                                                                                                                                                                                                                                                                                                                                                                                                                                                                                                                                                                                                                                                                                                                                                                                   \n                   com.tocaboca.tocaschool         Grab your backpack— it’s time for Toca Life: School! Teach a class, pick a locker and have a food fight in the cafeteria! With five locations and 34 characters, you can create your very own school adventures!\\r\\n\\r\\nINTRODUCING TOCA LIFE\\r\\nThanks to the outpouring of ideas from kids all over the world we created Toca Life — a series of apps that gives you an even bigger world of everyday fun. Toca Life: Town and Toca Life: City are our first apps in the series; now we’re excited to introduce Toca Life: School!\\r\\n\\r\\nEXPLORE\\r\\nToca Life: School has five unique locations for telling stories about life at school. Head out to the playground and coach a basketball team, conduct a science experiment in the classroom and jam with your band in the youth club! All characters, and anything they are holding, can easily be moved between locations.\\r\\n\\r\\nHIDDEN TREASURES\\r\\nWear funny costumes and throw a party. Mix colorful liquids in the chem lab, climb a tree and play hide-and-seek. Looking for some after-school fun? The youth club is always open for fun activities like pool, ping-pong or playing instruments.\\r\\n\\r\\nFEATURES\\r\\n- Five locations to explore: house, cafeteria, school building, youth club and playground\\r\\n- 34 characters to play with and different outfits to wear\\r\\n- Discover the school building with different themed lockers, a school office and a classroom that includes a lab for experiments!\\r\\n- Set off the fire alarm sprinkles and use the fire extinguisher\\r\\n- Learn to play the epic keytar and start a band in the youth club!\\r\\n- Play sports or cheer on a game at the playground!\\r\\n- Chew gum and throw stink bombs!\\r\\n- Start a food fight in the cafeteria and clean it up afterward \\r\\n- No time limit or high scores — play for as long as you like!\\r\\n- No third-party advertising\\r\\n- No in-app purchases\\r\\n\\r\\n***\\r\\n\\r\\nABOUT TOCA BOCA\\r\\nAt Toca Boca, we believe in the power of play to spark kids’ imaginations and help them learn about the world. We design our products from the kids' perspective to empower kids to be playful, to be creative and to be who they want to be. Our products include award-winning apps that have been downloaded more than 130 million times in 215 countries and offer fun, safe, open-ended play experiences. Learn more about Toca Boca and our products at tocaboca.com.\\r\\n\\r\\nPRIVACY POLICY\\r\\nPrivacy is an issue that we take very seriously. To learn more about how we work with these matters, please read our privacy policy: http://tocaboca.com/privacy                                                                                                                                                                                                                                                                                                                                                                                                                                                                                                                                                                                                                                                                                                                                                                                                                                                                                                                                                                                                                                                                                                                                                                                                                                                                                                                                                                                                                                                                                                                                              \n                   com.tocaboca.tocatown           You rule this Town, a play world where anything and everyone is welcome! With different locations and many classic Toca Boca characters, the everyday adventures in Town are infinite.\\r\\n\\r\\nEXPLORE\\r\\nMove around in town! Visit the store to buy groceries, stop by the restaurant to cook lunch, and head home to watch movies with friends. Run over to the park for a picnic and go for a swim in the pond. Build a sand castle or go on an adventure in the dark? In this Town you decide!\\r\\n\\r\\nCREATE\\r\\nPlay cops and robbers today and hide and seek tomorrow, the story is up to you. Use your imagination to create your own world and play together with friends and family.\\r\\n\\r\\nDISCOVER\\r\\nThere are treasures hidden everywhere. Turn on and off lights, toss garbage in the bins, or wrap up a present in the store to give to friends. Throw stones in the pond and tap the sun for day and night. Remember there are no rules so don't be afraid to interact with anything, even the toilet!\\r\\n\\r\\nTOCA LIFE\\r\\nToca Life is a series of apps that takes you beyond the map of Toca Life: Town and let you discover new places within the Toca Life universe.\\r\\n\\r\\nFEATURES\\r\\n- 21 characters to play with. Do you recognize any of them?\\r\\n- 7 locations to explore - park, pond, store, police station, restaurant, house & apartment\\r\\n- 30 different dishes to cook in the restaurant\\r\\n- Go on adventure - light a campfire and sleep in a tent\\r\\n- Control day and night\\r\\n- 5 different animals to play with\\r\\n- Open game play with no rules or stress\\r\\n- Kid-friendly interface\\r\\n- No third-party advertising\\r\\n- No in-app purchases\\r\\n\\r\\nToca Life: Town is made for kids as young as 3 yet can capture the imagination of those much older. It's filled with surprises and exciting things to do - there are no limits, just fun! Come play!\\r\\n\\r\\n***\\r\\n\\r\\nSubscribe to our YouTube channel and get more Toca Life videos every week:\\r\\nhttp://bit.ly/YouTube_GooglePlay\\r\\n\\r\\n***\\r\\n\\r\\nABOUT TOCA BOCA\\r\\nAt Toca Boca, we believe in the power of play to spark kids’ imaginations and help them learn about the world. We design our products from the kids' perspective to empower kids to be playful, to be creative and to be who they want to be. Our products include award-winning apps that have been downloaded more than 130 million times in 215 countries and offer fun, safe, open-ended play experiences. Learn more about Toca Boca and our products at tocaboca.com.\\r\\n\\r\\nPRIVACY POLICY\\r\\nPrivacy is an issue that we take very seriously. To learn more about how we work with these matters, please read our privacy policy: http://tocaboca.com/privacy                                                                                                                                                                                                                                                                                                                                                                                                                                                                                                                                                                                                                                                                                                                                                                                                                                                                                                                                                                                                                                                                                                                                                                                                                                                                                                                                                                                                                                  \n                   com.tocaboca.tocakitchensushi   With Toca Kitchen Sushi, you’re the chef of a busy seaside restaurant. Customers come in, and you decide what they’re going to eat. Feel like slicing up squid, asparagus, and candy canes, and rolling it all up into a cone of seaweed? Go right ahead. Want to make stars and hearts of watermelon and mix them with fish and hot peppers? Make the roundest rice ball? You’ve got great tools for that right at your fingertips. With a fantastic array of ingredients, condiments, tools, serving dishes and some hidden surprises, you’re set for some serious play. \\r\\n\\r\\nOnce you’re finished cooking up something unexpected for your customers—it could even be totally gross if you want—sit back and see how they react. That might be the most surprising thing of all!\\r\\n\\r\\nFEATURES\\r\\n\\r\\n- Greet your customers, then head to the fridge to see all your fresh ingredients. Choose from rice, tuna, avocado, asparagus, squid, salmon, pepper, salami, radish, candy canes (no joke!), ginger, potato, tofu, shrimp and many, many more. If you’d rather stick to just veggies, switch to the vegan setting!\\r\\n\\r\\n- The shape machine is 1,000 light years ahead of a plain old rice cooker. Using the control panel, you can form any ingredient into different shapes, like an oval, square, or even a flower!\\r\\n\\r\\n- The rolling mat is where everything comes together. Whether it’s a sheet of seaweed, tofu or lettuce, you can roll up your ingredients into sushi, funky cones, giant burritos, you name it.\\r\\n\\r\\n- Want your food a bit well-done? Crank up the temperature on the frying pan and see what happens. \\r\\n\\r\\n- Hit the cutting board to slice up your ingredients or your sushi rolls. Your blade is  masterful—it can cut through anything, like a huge fish or hard salami!\\r\\n\\r\\n- Once you’ve prepared your meal, it needs the perfect plate. Get artistic about it, arrange the food in perfect patterns, or make a huge, messy pile; even decorate with funny stickers. Do something extra and you may get a big reaction from your customers!\\r\\n\\r\\n- The dining counter is where your customers finally get to see your culinary creation, grab their chopsticks and dig in. Will their eyes brighten in delight, or will they make a grossed-out face?\\r\\n\\r\\nSo, what will you serve today?\\r\\n\\r\\n\\r\\nAbout Us:\\r\\nToca Boca creates digital toys and other playful products for kids around the world. Since its first product launch in 2011, Toca Boca has released 42 apps that have been downloaded more than 225 million times in every country, making it the No. 1 mobile-first kids brand in the App Store. Its products focus on sparking kids’ imaginations and creating opportunities for open-ended play. With offices in San Francisco and Stockholm, Toca Boca is owned by Spin Master Corp., a global children’s entertainment company that creates, designs and manufactures a diversified portfolio of innovative toys, games, products and entertainment properties. For more information, please visit www.tocaboca.com.\\r\\n\\r\\nPrivacy Policy:\\r\\nPrivacy is an issue that we take very seriously. To learn more about how we work with these matters, please read our privacy policy: https://tocaboca.com/privacy                                                                                                                                                                                                                                                                                                                                                                                                                                                                                                                                                                                                                                                                                                                                                                                                                                                                        \n                   com.tocaboca.tocaafterschool    Welcome to Toca Life: After School, where how you spend your time is up to you! Explore your favorite hobbies — or discover a new one! Skate, create art, dance, make music, play sports or just chill! Meet 27 characters, explore four locations and have as much fun as you can before it’s time to head home!\\r\\n\\r\\nEXPLORE FOUR LOCATIONS\\r\\n\\r\\nSKATE PARK: Choose from the colorful skateboards and scooters, and feel the rush as you skate down the quarter pipe! Then grab an after-school snack and chill in the lounge!\\r\\n\\r\\nART WORKSHOP: Get as creative as you like! Enjoy painting? Create a mess or a masterpiece with nine colors in the paint buckets! Choose your favorite tool — paint brush, roller or air brush. When you’ve finished, make a print, choose a frame and hang it in the gallery space!\\r\\n\\r\\nDANCE STUDIO: Build your DJ skills as you mix beats in the dance studio. Play around with different instruments and genres to give the dancers something to move and groove to! \\r\\n\\r\\nSPORTS COURT: Head to the rooftop sports court to pick your teams, choose their colors and mascots, and play! You’ll find equipment to play basketball, football, field hockey and more. The rooftop is also the spot to express your artistic flair on the graffiti wall, play a board game or kick back with a good book.\\r\\n\\r\\nFEATURES\\r\\nRole-play in four locations: skate park, art workshop, dance studio and sports court\\r\\nMeet 27 characters\\r\\nCreate and print art\\r\\nSpray on the graffiti wall\\r\\nChoose a skateboard and skate down the quarter pipe\\r\\nMake music to dance to on the music machine\\r\\nFreshen up after your dance — towels now work like outfits, so throw one on\\r\\nPlay sports on the sports court\\r\\nFind hidden characters, skateboards and graffiti pets\\r\\n\\r\\nAbout Us:\\r\\nAt Toca Boca, we believe in the power of play to spark kids’ imaginations and help them learn about the world. We design our products from the kids' perspective to empower kids to be playful, to be creative and to be who they want to be. Our products include award-winning apps that have been downloaded more than 200 million times in 215 countries and offer fun, safe, open-ended play experiences. Learn more about Toca Boca and our products at tocaboca.com.\\r\\n\\r\\nPrivacy Policy:\\r\\nPrivacy is an issue that we take very seriously. To learn more about how we work with these matters, please read our privacy policy: http://tocaboca.com/privacy                                                                                                                                                                                                                                                                                                                                                                                                                                                                                                                                                                                                                                                                                                                                                                                                                                                                                                                                                                                                                                                                                                                                                                                                                                                                                                                                                                                                                                                                                                                                                                                                                                                      \n                   com.tocaboca.tocalifefarm       Work and play the farmer's way! Milk your cow, gather eggs from your hens and raise your crops. Have a picnic, play the fiddle and hit the hay! From sunup to sundown, Toca Life: Farm is fun on the farm!\\r\\n\\r\\nEXPLORE LIFE ON THE FARM\\r\\nThe four locations in Toca Life: Farm will give you everything you need to tell your farm stories. Tend to the animals in the barn — feed them and clean up their poop! Once you've taken care of the animals, head to the house, where you can have a meal then grab your banjo for an impromptu jam session. After a good night's sleep head out to the field to tend to your crops. Harvest your produce and head to the store, where you can sell your food, make new products and buy goods!\\r\\n\\r\\nTURN YOUR HARVEST INTO FOOD\\r\\nPlant your seeds and find out how to make them grow! Tinker with your tractor to see what it can do! The food machine magically turns your raw ingredients into food: Use milk to make cheese, then use the cheese and corn to make cheese puffs! Use berries to make jam, wheat to make bread, and then use those ingredients to make donuts! Discover all the foods you can make and how you can make them!\\r\\n\\r\\nCREATE AN ORIGINAL VIDEO OF YOUR STORY\\r\\nUse the in-app recording feature to create an original video! This feature records your voice as you’re telling the story, along with your characters’ movements. Create farm videos up two minutes long and save them to your camera roll to share later!\\r\\n\\r\\nFEATURES:\\r\\n- Explore four locations: barn, house, field and store.\\r\\n- Create stories for 29 new characters plus all the animals!\\r\\n- Feed the animals, milk the cow and gather eggs from your hens.\\r\\n- Bottle the milk from the milk tank.\\r\\n- Help the vet check the animals.\\r\\n- Let the pigs (or people!) wallow in the mud.\\r\\n- Clean up different types of animal poop!\\r\\n- Grab the banjo, fiddle, guitar or washbucket bass and jam into the night!\\r\\n- Pick fruit in your orchard.\\r\\n- Farm your crops from planting to harvest.\\r\\n- Use your tractor's different functions to farm faster!.\\r\\n- Fire up the food machine to turn your harvest into food.\\r\\n- No time limit or high scores — play for as long as you like!\\r\\n- No third-party advertising\\r\\n\\r\\nWE LISTEN\\r\\nSo many of you asked for a farm in the Toca Life series, and we're excited to give you what you want! What do you want to see next in the Toca Life series? Share your suggestions by submitting a review, or share them with @tocaboca on Instagram & YouTube!\\r\\n\\r\\n***\\r\\n\\r\\nABOUT TOCA BOCA\\r\\nAt Toca Boca, we believe in the power of play to spark kids’ imaginations and help them learn about the world. We design our products from the kids' perspective to empower kids to be playful, to be creative and to be who they want to be. Our products include award-winning apps that have been downloaded more than 130 million times in 215 countries and offer fun, safe, open-ended play experiences. Learn more about Toca Boca and our products at tocaboca.com.\\r\\n\\r\\nPRIVACY POLICY\\r\\nPrivacy is an issue that we take very seriously. To learn more about how we work with these matters, please read our privacy policy: http://tocaboca.com/privacy                                                                                                                                                                                                                                                                                                                                                                                                                                                                                                                                                                                                                                                                                                                                                                                                                                                                        \n                   com.tocaboca.tocamini           Cute, weird or funny? That's up to you in the colorful world of Toca Mini. Let your imagination run wild in this creative app for kids! \\r\\n\\r\\nMake scary monsters, fantasy animals or your best friends! Dress up, dress down, three eyes or funny feet? The Minis can become whatever you want! \\r\\n\\r\\nTo get started, tap your Mini to add colors, stripes, sleeves or even pants. Be creative with stamps to add details such as hats, socks, laces and buttons. Adding facial features allows your Mini to smile, sneeze and see! \\r\\n\\r\\nWith thousands of possible combinations there are endless ways of creating your very own Mini! Don’t forget to take a snapshot of your creation and share with your friends. \\r\\n\\r\\nFEATURES \\r\\n• Add amazing animated eyes, mouths, noses and eyebrows \\r\\n• Choose from 60 colors and 78 reversible stamps \\r\\n• Use stamps to create patterns, hair and clothes \\r\\n• Take a snapshot and share your Minis! \\r\\n• Lots of colorful backgrounds to choose from! \\r\\n• Your Mini makes fun gestures and sounds as you're creating \\r\\n• No rules or stress - create and play anyway you want! \\r\\n• Kid-friendly interface \\r\\n• No third-party advertising \\r\\n• No in-app purchases \\r\\n\\r\\n***\\r\\n\\r\\nABOUT TOCA BOCA\\r\\nAt Toca Boca, we believe in the power of play to spark kids’ imaginations and help them learn about the world. We design our products from the kids' perspective to empower kids to be playful, to be creative and to be who they want to be. Our products include award-winning apps that have been downloaded more than 130 million times in 215 countries and offer fun, safe, open-ended play experiences. Learn more about Toca Boca and our products at tocaboca.com.\\r\\n\\r\\nPRIVACY POLICY\\r\\nPrivacy is an issue that we take very seriously. To learn more about how we work with these matters, please read our privacy policy: http://tocaboca.com/privacy                                                                                                                                                                                                                                                                                                                                                                                                                                                                                                                                                                                                                                                                                                                                                                                                                                                                                                                                                                                                                                                                                                                                                                                                                                                                                                                                                                                                                                                                                                                                                                                                                                                                                                                                                                                                                                                                                                                                                                                                                                                                                                                                                                                                                           \n                   com.tocaboca.tocanature         Shape nature and watch it develop. Plant trees and grow a forest. Climb a mountain and enjoy the view. Collect berries, mushrooms or nuts, and feed the different animals. Learn who eats what and discover what it takes to bring out a bear. Walk through different landscapes and become friends with a fox. Capture the moment of woodpeckers zigzagging between trees, and watch the day turn into night.\\r\\n\\r\\nFind new friends and challenges. Be mesmerized.\\r\\n\\r\\nDiscover the unexpected. End up somewhere far from where you started.\\r\\n\\r\\nLet us show you the magic of nature!\\r\\n\\r\\n\\r\\n***\\r\\n\\r\\nABOUT TOCA BOCA\\r\\nAt Toca Boca, we believe in the power of play to spark kids’ imaginations and help them learn about the world. We design our products from the kids' perspective to empower kids to be playful, to be creative and to be who they want to be. Our products include award-winning apps that have been downloaded more than 130 million times in 215 countries and offer fun, safe, open-ended play experiences. Learn more about Toca Boca and our products at tocaboca.com.\\r\\n\\r\\nPRIVACY POLICY\\r\\nPrivacy is an issue that we take very seriously. To learn more about how we work with these matters, please read our privacy policy: http://tocaboca.com/privacy                                                                                                                                                                                                                                                                                                                                                                                                                                                                                                                                                                                                                                                                                                                                                                                                                                                                                                                                                                                                                                                                                                                                                                                                                                                                                                                                                                                                                                                                                                                                                                                                                                                                                                                                                                                                                                                                                                                                                                                                                                                                                                                                                                                                                                                                                                                                                                                                                                                                                                                                                                                                                                                                                                                                                                                                                                                                   \n                   com.tocaboca.tocacity           Welcome to Toca Life: City, a metropolis filled with everyday fun! Customize characters, explore exciting locations and find hidden treasures — there’s something in every corner! \\r\\n\\r\\nINTRODUCING TOCA LIFE\\r\\nThanks to the great response to Toca Town, we're bringing you Toca Life — a series of apps that gives you an even bigger world of everyday fun. First out in the series is Toca Life: Town and Toca Life: City!\\r\\n\\r\\nCREATE\\r\\nTry, experiment and customize. It’s time to get creative in Toca Life: City! Change outfits, dye your hair any color and switch hairstyles in the Hair 3000! There are millions of ways to personalize the characters — we dare you to create them all.\\r\\n\\r\\nEXPLORE \\r\\nSay hi to 6 locations and 34 characters! Go shopping at the mall, grab a bite to eat at the food park or invite friends over to your loft. Characters, and anything they are holding, can easily be transported between locations. \\r\\n\\r\\nFEATURES:\\r\\n- 6 locations to explore: loft apartment, shopping mall, hair salon, food park, theatre and tailor\\r\\n- 35 characters that are customizable in over 4 million ways! \\r\\n- 47 hairstyles to test, 37 colors to choose from and various outfits to try on\\r\\n- 7 different food stands at the food park — have some sushi with your burger and try the famous fish ‘n chips! \\r\\n- Shop for clothes, kitchenware, pets, toys and groceries at the mall\\r\\n- Write a play and perform it at the theatre\\r\\n- More fun videos and games for the TV\\r\\n- No time limit or high scores — play for as long as you like!\\r\\n- No third-party advertising\\r\\n- No in-app purchases\\r\\n\\r\\nWE LISTEN\\r\\nToca Life: City was uniquely created for you by you. We received over 10,000 feature requests after Toca Town was released, which we added directly into this app. We want to keep hearing from you so don’t be shy and keep on suggesting! What do you want to see next? Share your ideas with @tocaboca on Facebook, Twitter, Pinterest and Instagram!\\r\\n\\r\\n\\r\\n***\\r\\n\\r\\nABOUT TOCA BOCA\\r\\nAt Toca Boca, we believe in the power of play to spark kids’ imaginations and help them learn about the world. We design our products from the kids' perspective to empower kids to be playful, to be creative and to be who they want to be. Our products include award-winning apps that have been downloaded more than 130 million times in 215 countries and offer fun, safe, open-ended play experiences. Learn more about Toca Boca and our products at tocaboca.com.\\r\\n\\r\\nPRIVACY POLICY\\r\\nPrivacy is an issue that we take very seriously. To learn more about how we work with these matters, please read our privacy policy: http://tocaboca.com/privacy                                                                                                                                                                                                                                                                                                                                                                                                                                                                                                                                                                                                                                                                                                                                                                                                                                                                                                                                                                                                                                                                                                                                                                                                                                                                                                                                                                                                                   \n                   com.tocaboca.hairsalon2         Cut, curl, color and style – any way you want in Toca Hair Salon 2!\\r\\n\\r\\nOur bestselling Toca Boca app, Toca Hair Salon, is back in an even better version with new characters, new tools, new accessories and even more hairstyling fun! \\r\\n\\r\\nIn this kid-friendly, Toca Boca super-creative kids app, you get to run your very own hair salon, with six fun characters to choose from. Cut hair, color and style hair any way you want, using lots of different hair styling tools – from a simple comb and scissors to a curling iron and a straightener. Trim mustaches, spray mohawks bright pink and give someone the curls they’ve always wanted! \\r\\n\\r\\nWhoops – did you accidentally snip off too much hair? Make things right with our special tonic G.R.O.W. and then top it all off with hats, glasses and other fun accessories. Once you and your customer are happy with the way they look, don’t forget to take them to the camera booth for a snapshot!\\r\\n\\r\\nWhat’s in Toca Boca's - Toca Hair Salon 2?\\r\\n- 6 completely new characters\\r\\n- Fun hair makeover tools: razor, curling iron, a crimper and a straightener\\r\\n- More realistic hair color spray effects – combine to make new shades!\\r\\n- Accessories: hats, glasses and much more\\r\\n- Cool photo backdrops\\r\\n- Smooth and beautiful animations\\r\\n- Better and more realistic hair styling - make any style you want!\\r\\n- Support for Android tablets and new Android devices\\r\\n\\r\\nOther features you’ll recognize from Toca Hair Salon:\\r\\n✔ Cut and trim hair with the scissors electric hair trimmer\\r\\n✔ Wash hair with shampoo, shower, and towel\\r\\n✔ Use the hairdryer to get the right look\\r\\n✔ 9 hair colors to choose and combine\\r\\n✔ Lots of accessories for the final touch\\r\\n✔ Use the magic potion G.R.O.W to make hair grow back again\\r\\n✔ Characters make fun faces and sounds while you’re styling them\\r\\n✔ No rules or stress - play any way you want to!\\r\\n✔ Kid-friendly interface\\r\\n✔ Available for both Android phones and Android tablets\\r\\n✔ No third-party advertising\\r\\n✔ No in-app purchases\\r\\n\\r\\nNothing but endless hours of hairstyling fun awaits with these hair cutting tools and accessories at your disposal! Be the hairstylist of your dreams and give your friends and family a fresh, fun cut that they’ll remember forever.\\r\\n\\r\\nWith no rules or time limit, this hair salon app is perfect for boys and girls of all ages. Any hair cut or hair style is possible, so tap into your creative imagination and start cutting hair now!\\r\\n\\r\\n\\r\\n***\\r\\n\\r\\nABOUT TOCA BOCA\\r\\nAt Toca Boca, we believe in the power of play to spark kids’ imaginations and help them learn about the world. We design our products from the kids' perspective to empower kids to be playful, to be creative and to be who they want to be. Our products include award-winning apps that have been downloaded more than 130 million times in 215 countries and offer fun, safe, open-ended play experiences. Learn more about Toca Boca and our products at tocaboca.com.\\r\\n\\r\\nPRIVACY POLICY\\r\\nPrivacy is an issue that we take very seriously. To learn more about how we work with these matters, please read our privacy policy: http://tocaboca.com/privacy                                                                                                                                                                                                                                                                                                                                                                                                                                                                                                                                                                                                                                                                                                                                                                                                                                                                        \n                   com.tocaboca.hairsalonme        Give your friends and family a totally new look! Simply snap a picture and you’re transported to a world of hair-raising fun! \\r\\n\\r\\nIn this new version of the wildly popular Toca Hair Salon series we want you to create the characters! \\r\\n\\r\\nToca Hair Salon Me lets you be the customer and the stylist! Curly, straight or purple? Create a funky hairdo any way you like. Grow it long or cut it short, shave one side or spray paint it every color of the rainbow. The possibilities are endless! \\r\\n\\r\\nAdd accessories such as hats, sunglasses and hair clips to top it off. Don’t forget to take a photo and share with friends. Now you can use your own photos as backdrops to complete your style transformation. \\r\\n\\r\\nCheck out what’s new in Toca Hair Salon Me! \\r\\n- Snap a picture of your friends to create their new hairstyle \\r\\n- Or use a photo from your camera roll \\r\\n- Tons of fun new accessories from mustaches to hats \\r\\n- Even more hair colors to choose from \\r\\n- Create photo backgrounds from your own pictures \\r\\n\\r\\nAnd all the features you already love: \\r\\n- Use G.R.O. to make short hair long again \\r\\n- Lather, rinse & blow-dry \\r\\n- Use tools to curl, straighten, crimp, shave & trim \\r\\n- Characters make fun faces and sounds while you style them \\r\\n- No rules or stress – play any way you want to! \\r\\n- Kid-friendly interface \\r\\n- No third-party advertising \\r\\n- No in-app purchases  \\r\\n\\r\\nEndless hours of hairstyling fun awaits with hair cutting tools and accessories at ready to play with! Be a hairstylist and give your friends and family a crazy, fun or cool haircut that they’ll love.\\r\\n\\r\\nWith no rules or time limit, kids of all ages will love this hair salon app. Any hair cut or hair style is possible, so tap into your creativity and let your imagination run wild! \\r\\n\\r\\n***\\r\\n\\r\\nABOUT TOCA BOCA\\r\\nAt Toca Boca, we believe in the power of play to spark kids’ imaginations and help them learn about the world. We design our products from the kids' perspective to empower kids to be playful, to be creative and to be who they want to be. Our products include award-winning apps that have been downloaded more than 130 million times in 215 countries and offer fun, safe, open-ended play experiences. Learn more about Toca Boca and our products at tocaboca.com.\\r\\n\\r\\nPRIVACY POLICY\\r\\nPrivacy is an issue that we take very seriously. To learn more about how we work with these matters, please read our privacy policy: http://tocaboca.com/privacy                                                                                                                                                                                                                                                                                                                                                                                                                                                                                                                                                                                                                                                                                                                                                                                                                                                                                                                                                                                                                                                                                                                                                                                                                                                                                                                                                                                                                                                                                                                                                                                  \n                   com.tocaboca.tocaboo            BOO! \\r\\nDid I scare you!? My name is Bonnie and my family loves to spook! Do you want to scare them back? Follow me and I'll show you how!\\r\\n\\r\\nSCARE\\r\\nFloat around the house and look for the family. Hide under tables, behind curtains or even duvets. Search the rooms but stay away from the light or else you'll be seen. Rattle things, turn on the kettle and make the characters nervous! Can you hear their heartbeat? Great, it’s time to BOO! \\r\\n\\r\\nHUMOR\\r\\nTurn on the disco music and dance, munch on peppers in the kitchen for an extra hot scare, enjoy being invisible and find all the different hiding places - even the toilet! \\r\\n\\r\\nUNIQUE AND MYSTERIOUS DESIGN\\r\\nThe simple and beautiful design will easily guide you through the world of Toca Boo. Fall in love with the 6 different characters and explore all the details of the big, mysterious house. \\r\\n\\r\\nFEATURES\\r\\n- Big house to explore with 2 floors and 6 rooms!\\r\\n- 6 family members to scare\\r\\n- Hidden surprises around the house\\r\\n- Get bigger scares by eating things! \\r\\n- Interact with objects in the house\\r\\n- Beautiful, original artwork\\r\\n- Open-ended play with no rules or stress\\r\\n- Kid-friendly interface\\r\\n- No third-party advertising\\r\\n- No in-app purchases\\r\\n\\r\\n\\r\\nToca Boo is made for kids as young as 4 yet can capture excitement of those much older. It's filled with surprises - there are no limits, just fun! Come play!\\r\\n\\r\\n***\\r\\n\\r\\nABOUT TOCA BOCA\\r\\nAt Toca Boca, we believe in the power of play to spark kids’ imaginations and help them learn about the world. We design our products from the kids' perspective to empower kids to be playful, to be creative and to be who they want to be. Our products include award-winning apps that have been downloaded more than 130 million times in 215 countries and offer fun, safe, open-ended play experiences. Learn more about Toca Boca and our products at tocaboca.com.\\r\\n\\r\\nPRIVACY POLICY\\r\\nPrivacy is an issue that we take very seriously. To learn more about how we work with these matters, please read our privacy policy: http://tocaboca.com/privacy                                                                                                                                                                                                                                                                                                                                                                                                                                                                                                                                                                                                                                                                                                                                                                                                                                                                                                                                                                                                                                                                                                                                                                                                                                                                                                                                                                                                                                                                                                                                                                                                                                                                                                                                                                                                                                                                                                                                                                                          \n                   com.tocaboca.tocalabplants      Just like with the first app in the Toca Lab Series, Toca Lab: Elements, your curiosity will lead the way. Choose your plant, then visit five different locations in the lab:\\r\\n\\r\\n● Grow light: Shine the light on your plant and watch what happens! Does your plant bask and happily sigh in the light, or groan and wriggle away? What happens when you turn the light up a notch or two?\\r\\n\\r\\n● Watering tank: Put your plant in the tank and fill it up with water. Will your plant float? How does your plant behave when it’s soaking wet?\\r\\n\\r\\n● Nutrition station: What’s the optimal diet for your plant? Try the three different nutrition formulas and discover which ones your plant character likes!\\r\\n\\r\\n● Cloning machine: Spin the wheel on the cloning machine and before you know it, you’ll have five little versions of your plant. Wonder what the clones can do? Experiment and find out!\\r\\n\\r\\n● Crossbreeding apparatus: Here you can mix two plants to create something unexpected. Try it and see what happens!\\r\\n\\r\\nHave fun experimenting at each station to see how the plants evolve. Keep experimenting until you’ve collected all 35 plant characters in the app. Once you’ve collected a plant, keep experimenting to continue to evolve it! Who says kids can’t be scientists? Toca Lab: Plants brings out the budding botanist in everybody!\\r\\n\\r\\nFEATURES\\r\\n- Start with one plant and experiment your way to 35 different plant characters, each with its own unique personality!\\r\\n- Continue to evolve existing plants through experimentation!\\r\\n- Evolve plants with five lab tools: grow light, watering tank, nutrition station, cloning machine and the crossbreeding apparatus.\\r\\n- Discover plants from five groups: green algae, mosses, ferns, trees and flowering plants.\\r\\n- Learn the names and Latin names of real-life plants!\\r\\n\\r\\nWith no rules or time limits, this fun science app is perfect for boys and girls of all ages. Science has never been more enjoyable as you’ll have all different types of plants and fun scientific tools to play and learn with. Nothing but hours of fun in the laboratory awaits, so play in the lab and explore the world of science and botany now!\\r\\n\\r\\n--\\r\\n\\r\\nABOUT TOCA BOCA\\r\\nAt Toca Boca, we believe in the power of play to spark kids’ imaginations and help them learn about the world. We design our products from the kids' perspective to empower kids to be playful, to be creative and to be who they want to be. Our products include award-winning apps that have been downloaded more than 150 million times in 215 countries and offer fun, safe, open-ended play experiences. Learn more about Toca Boca and our products at tocaboca.com.\\r\\n\\r\\nPRIVACY POLICY\\r\\nPrivacy is an issue that we take very seriously. To learn more about how we work with these matters, please read our privacy policy: http://tocaboca.com/privacy                                                                                                                                                                                                                                                                                                                                                                                                                                                                                                                                                                                                                                                                                                                                                                                                                                                                                                                                                                                                                                                                                                                                                                                               \n                   com.tocaboca.tocamysteryhouse   There’s a strange house on a strange street in a strange part of town. Most people are scared of it, but I want to sneak inside.\\r\\n\\r\\nThere are so many rumors, I don’t know what to believe\\r\\n\\r\\nSome kids say the top floor glows at night and that crazy aliens live up there. Some say that strange experiments are going on in the living room. One kid I know absolutely swears they heard weird music coming from the basement. Can a house sing? I’ve also talked to kids who say the entire kitchen is covered in slime. Even my best friend, who never believes anything, told me the house is alive!\\r\\n\\r\\nI had to see for myself\\r\\n\\r\\nI did, I swear. I peeked inside last week. First, I made sure no one was around. Then I got on my tiptoes and spied in the kitchen window. I saw just the edge of the fridge. I think I saw some kind of gooshy red stuff oozing out of it, but I’m not really sure. Then I heard creepy rumbling sounds coming from the basement. It totally freaked me out and yup, I admit it, I sprinted all the way home.\\r\\n\\r\\nBut I’m just so curious, I can’t help myself. I think I’ll be going back. I want to go inside. I could really use a partner, though. Seriously, will you come with me?\\r\\n\\r\\n\\r\\nAbout Us:\\r\\nAt Toca Boca, we believe in the power of play to spark kids’ imaginations and help them learn about the world. We design our products from the kids' perspective to empower kids to be playful, to be creative and to be who they want to be. Our products include award-winning apps that have been downloaded more than 200 million times in 215 countries and offer fun, safe, open-ended play experiences. Learn more about Toca Boca and our products at tocaboca.com.\\r\\n\\r\\nPrivacy Policy:\\r\\nPrivacy is an issue that we take very seriously. To learn more about how we work with these matters, please read our privacy policy: https://tocaboca.com/privacy                                                                                                                                                                                                                                                                                                                                                                                                                                                                                                                                                                                                                                                                                                                                                                                                                                                                                                                                                                                                                                                                                                                                                                                                                                                                                                                                                                                                                                                                                                                                                                                                                                                                                                                                                                                                                                                                                                                                                                                                                                                                                                                                                                                                                          \n                   com.tocaboca.blocks             Toca Blocks is a unique world-building app that lets you create worlds, play in them and share them with friends. Where will your imagination take you?\\r\\n\\r\\nBUILD\\r\\nConstruct worlds and fill them with your own adventurous paths. Craft detailed obstacle courses, intricate race tracks or floating islands. Meet the characters and discover their unique abilities as you take them through your world.\\r\\n\\r\\nMAKE\\r\\nExplore the blocks’ attributes by merging blocks together to transform them into something else. Learn their characteristics — some are bouncy, some are sticky, some turn into beds, diamonds or other surprises! Combine blocks to change their color and pattern and give your design that magical feel. The more you learn about the blocks, the more inspiration for your creations you will find!\\r\\n\\r\\nSNAP, SHARE AND IMPORT\\r\\nSave and share all the great work you’ve put into your worlds. Use the camera function to snap a photo. Share unique Blocks codes with family and friends so they can import your world and explore it themselves! Or import your friends’ worlds and make them part of your own!\\r\\n\\r\\nFEATURES\\r\\n- Combine blocks to create new materials and patterns!\\r\\n- Build with 60+ quirky items\\r\\n- Create as many worlds as you want — there’s no limit!\\r\\n- Snap photos of your work and share their unique Blocks codes so friends and family can import your world.\\r\\n- Get codes from others and import their worlds into your own!\\r\\n- Meet the heroes and discover their superpowers.\\r\\n- Remove blocks with the eraser head.\\r\\n- Use the pencil tool to help you create many blocks in one go!\\r\\n- Open gameplay with no rules or stress\\r\\n- Kid-friendly interface\\r\\n- No thirdparty advertising\\r\\n\\r\\n\\r\\n***\\r\\n\\r\\nABOUT TOCA BOCA\\r\\nAt Toca Boca, we believe in the power of play to spark kids’ imaginations and help them learn about the world. We design our products from the kids' perspective to empower kids to be playful, to be creative and to be who they want to be. Our products include award-winning apps that have been downloaded more than 130 million times in 215 countries and offer fun, safe, open-ended play experiences. Learn more about Toca Boca and our products at tocaboca.com.\\r\\n\\r\\nPRIVACY POLICY\\r\\nPrivacy is an issue that we take very seriously. To learn more about how we work with these matters, please read our privacy policy: http://tocaboca.com/privacy                                                                                                                                                                                                                                                                                                                                                                                                                                                                                                                                                                                                                                                                                                                                                                                                                                                                                                                                                                                                                                                                                                                                                                                                                                                                                                                                                                                                                                                                                                                                                                                                                                                                         \n                   com.tocaboca.tocatrain          All aboard? Time to get on Toca Train! Your kids are the train driver in this fun and friendly train simulator. The controls are intuitive and there are no written instructions. Just pull the levers, push the buttons and start exploring the island with your train! \\r\\n\\r\\nFEATURES \\r\\n- Steam train with sounds, smoke, whistle, sparks and speed lever \\r\\n- Load and unload characters and cargo \\r\\n- Change camera angle by swiping and pinching \\r\\n- Delightful scenery with 6 stations \\r\\n- No rules or stress - play any way your kids want to! \\r\\n- Kid-friendly interface! \\r\\n- No third-party advertising \\r\\n- No in-app purchases \\r\\n\\r\\nToca Train is not a game - it's a toy where you and your kids decide what you want to do. Where do passengers want to get off? At what stop should you unload the crate of pears? Your kids imagination is the only limitation! Just like a toy train set. \\r\\n\\r\\nToca Train is suitable for kids between 3-7 years old. \\r\\n\\r\\nAs with all Toca Boca toys, there are no high scores, time limits or stressful music. Your kids can play with it however they want! \\r\\n\\r\\nABOUT TOCA BOCA \\r\\nToca Boca is a game studio that makes digital toys for kids. We think playing and having fun is the best way to learn about the world. Therefore we make digital toys and games that help stimulate the imagination, and that you can play together with your kids. Best of all - we do it in a safe way without third-party advertising or in-app purchases. \\r\\n\\r\\nPrivacy Policy \\r\\nPrivacy is an issue that we take very seriously. To learn more about how we work with these matters, please read our privacy policy: http://tocaboca.com/privacy                                                                                                                                                                                                                                                                                                                                                                                                                                                                                                                                                                                                                                                                                                                                                                                                                                                                                                                                                                                                                                                                                                                                                                                                                                                                                                                                                                                                                                                                                                                                                                                                                                                                                                                                                                                                                                                                                                                                                                                                                                                                                                                                                                                                                                                                                                                                                                                                                                                   \nSAND STUDIO        com.sand.airdroid               ★★★Delight Your Multi-Screen Life★★★\\r\\nAirDroid is your best mobile management suite, it enables you to transfer files across different platforms, mirror and remote control mobile devices, receive and reply to messages on the computer. AirDroid can help you to fully control and manage the device directly from the PC or even the Web wirelessly.\\r\\n\\r\\n<b>Major features:</b>\\r\\n<b>1. Files Transfer</b>\\r\\n- AirDroid supports transferring all kinds of files across different platforms like Windows, Mac, Linux, and mobile devices, on the same network and even remotely.\\r\\n- Send music, video, photo, gif, APK, link, and all kinds of files you would like to transfer.\\r\\n<b>2. Screen Mirroring</b>\\r\\nYou can mirror your android devices to pc wirelessly, so that you can share your screen with your students or partners. You can also stream your broadcast with AirDroid, to share your games or pictures to your audience more efficiently.\\r\\n<b>3. Remote Control Android device</b>\\r\\nYou can take full control of your Android devices, without rooting your devices, just need to connect to the AirDroid PC client for a fast setting. You can do whatever you want to do on your Android devices remotely, ex, play games, open an app, check the phone status.\\r\\nIf you need to remote control an Android device from another Android device, you need to download AirMirror for controller device.\\r\\n<b>4. Remote Camera</b>\\r\\nThe feature can help you see through the lens of both front and back cameras, monitor the environment around the device in real-time.\\r\\n<b>5. SMS & Contacts management</b>\\r\\n- Receive, reply, and send SMS messages via AirDroid.\\r\\n- Managing messages and contact stored on your phone.\\r\\n<b>6. Notification Mirror</b>\\r\\nMirror phone notifications from any allowed apps to your computer. Reply to mobile messages (WhatsApp, Facebook Messenger, Telegram, Line, and Kik) from desktop clients.\\r\\n<b>7. Make calls on PC</b>\\r\\nYou can import phone numbers in bulk directly on the AirDroid desktop client, click to call and talk to your customers or friends through the handset or Bluetooth headset of the phone. AirDroid helps you avoids the trouble of manually entering phone numbers on mobile phones and possible errors, and improves your efficiency.\\r\\n<b>8. Backup & Sync</b>\\r\\nYou can Backup photos and videos auto from phone to computer.\\r\\n<b>9. Find Phone</b>\\r\\nwhen your device is lost, you can track your device, issue a lock request, or erase your device after enabled Find Phone, in case strangers access your personal data.\\r\\n*AirDroid will use location in the background to show your devices' location in real-time when you use the 'Find Phone' feature on web.airdroid.com\\r\\n<b>10. Manage your files on web.airdroid.com</b>\\r\\nManage photos, ringtones, and videos, upload, install and uninstall APKs remotely\\r\\n\\r\\n<b>FAQs:</b>\\r\\nQ: How to start using AirDroid?\\r\\nA:  AirDroid Personal has many fantastic features like File Transfer, Remote Control, Screen mirroring, Remote Camera, SMS, and File Management. To enjoy all the features, you need to install the AirDroid desktop client or using web.airdroid.com directly.\\r\\n\\r\\nQ: Do I have to register an account to use AirDroid?\\r\\nA:  With an AirDroid Personal account, you can enjoy all the features under the local and remote connection. If you don't want to register, you can use AirDroid under the same wifi with limited features.\\r\\n\\r\\nQ: Does AirDroid free to use?\\r\\nA: You can use AirDroid for free under the local area network. When running under a non-local network, the free account has a 200MB/month data limit and cannot use the remote camera. We recommend that you upgrade to premium to enjoy unlimited remote data and unlock all functions and services.\\r\\n\\r\\nConnect with our team\\r\\nHelp Center: https://help.airdroid.com/\\r\\nTwitter: https://twitter.com/AirDroidTeam\\r\\nFacebook: https://facebook.com/AirDroid\\r\\n\\r\\nWe may not be able to respond to each message, but we do read all of them. Thank you!   \nNick Thissen       nl.nickthissen.iracingforum3    The iR Forum app allows you to access the iRacing forums in a much better way than a mobile browser. Browsing the forums on a mobile browser is found extremely tedious by most people, the pages don't scale well on small screens and links are hard to click, not to mention you constantly have to re-login after a short while. \\r\\n\\r\\nThis app provides a dedicated way to read and write on the forums and even adds some features not available on the forums themselves (such as Favorite threads). \\r\\n\\r\\nThe iR Forum app is iteration 3.0 and has been completely rebuilt from the ground up. It uses the latest Android technologies ensuring much better performance, better integration with recent Android Material Design and just a better experience in general. On top of that, the new app comes with a lot of new features and has been designed from the start to function flawlessly even across flaky internet connections and a (excuse me) rather buggy forum. \\r\\n\\r\\nNew features include:\\r\\n- Login status is automatically refreshed when required, you can continue where you left off seamlessly even after hours of inactivity. \\r\\n- Page loading speed has improved dramatically. On fast internet, average loading times have decreased from ~4 seconds to ~0.5 seconds. \\r\\n- Search the forums with the new search function. \\r\\n- Choose your own theme color including a dark theme for night time reading. \\r\\n- Simple bbcode editor for posting including simple ways to embed images, links and YouTube videos (automatically formatted correctly!). \\r\\n- Post drafts & history - posts are saved even if you don't finish them, so you can come back to finish them later. \\r\\n- Downloading attachments and better handling of images in posts. \\r\\n\\r\\n\\r\\nNOTE: this app can be used exclusively by active iRacing.com members, you can NOT access the iRacing forums without an active account.                                                                                                                                                                                                                                                                                                                                                                                                                                                                                                                                                                                                                                                                                                                                                                                                                                                                                                                                                                                                                                                                                                                                                                                                                                                                                                                                                                                                                                                                                                                                                                                                                                                                                                                                                                                                                                                                                                                                                                                                                                                                                                                                                                                                                           \nB-hyve             com.orbit.orbitsmarthome        The bhvye smart sprinkler timer app allows you to control or monitor your sprinklers from anywhere in the world with the convenience of your smart device. \\r\\n Smart Watering\\r\\nKnowing how long and how often to water your plants can be challenging.  When set to smart watering mode, b-hyve takes the guesswork out of watering and utilizes Mother Nature, along with some really great technology, to determine the watering schedule for your yard.  When set and left in smart watering mode, b-hyve can save users as much as 50% more water over a traditional controller. \\r\\n\\r\\n Weather\\r\\n\\r\\nWhen set in smart mode, b-hyve uses local weather data to determine how much water is evaporated and transpired through your plants each day to know when it needs to water.  It also accounts for any rainfall that is in the forecast, shuts off the system for rain, then looks back to see how much actually fell.  That’s smart!  But all yards are not the same.  B-hyve also takes into account things like soil type, plant type, sun/shade and slope to determine a watering schedule that takes the water to the roots and helps avoid runoff. \\r\\n\\r\\n WeatherSense\\r\\n\\r\\nIf you want to be the one in control of the schedule, that’s okay too.  With b-hyve you can set custom programs to water how you want while still taking advantage of the local weather data to override watering in case of a weather event.  This will shut off your system during the rain and resume your program when the rain has passed.  That’s smart!\\r\\n\\r\\nIntegrated Irrigation Audit Tool\\r\\n\\r\\nThe b-hyve app also integrates the award-winning irrigation audit tool right to your smart device.  By performing a catch cup test on your sprinkler system, you will know exactly how much water is being applied rather than relying on estimated sprinkler head water use that other timers/apps use, which can be off by as much as 50%, saving you more water and money.   \\r\\n\\r\\nThis is the app for the best-selling, WaterSense and SWAT certified Orbit B-hyve Smart Wifi Sprinkler Timer.  This is also the companion app for homeowners to the Hydro-Rain B-hyve Pro Wifi Controller. \\r\\nPlease let us know if you have questions or problems.\\r\\n\\r\\nALEXA – Works with Alexa.  For a list of Alexa commands visit http://help.orbitbhyve.com/Alexa-Commands/\\r\\n\\r\\nGOOGLE HOME– Works with Google Home.  For a list of Google Home commands visit http://help.orbitbhyve.com/Google-Commands/\\r\\n\\r\\n\\r\\nBhyve.orbitonline.com\\r\\n800-488-6156\\r\\nsupport@orbitbhyve.com                                                                                                                                                                                                                                                                                                                                                                                                                                                                                                                                                                                                                                                                                                                                                                                                                                                                                                                                                                                                                                                                                                                                                                                                                                                                                                                                                                                                                                                                                                                                                                    \n                   com.orbit.orbitsmarthome.pro    The b·hyve Pro App provides landscape irrigation professionals with an easy way to manage and operate b·hyve Pro controllers from anywhere with the convenience of a smart phone or tablet.  With the intuitive layout and design of the app, it is fast and easy to connect to any b·hyve Pro controller through WiFi or, if WiFi is not available, directly through Bluetooth right at the timer location.  Once connected to WiFi, b·hyve can be set up in smart mode to assist in delivering the right amount of water to plants, saving clients water and money.\\r\\nThis is the companion App for award-winning b·hyve Pro irrigation controllers. Homeowners can download the non-Pro version of the b·hyve App at no charge.\\r\\n\\r\\n***KEY FEATURES***\\r\\nWIFI and BLUETOOTH – Because WiFi is not always available on a job site, the b·hyve app and controller allow you to set up and operate the controller using Bluetooth. Once a WiFi connection is established at a site, the owner of the WiFi router can provide a permission code that enables off-site management of the controller from anywhere in the world.\\r\\n\\r\\nEPA- AND SWAT-CERTIFIED – Having passed the rigorous EPA WaterSense and SWAT certifications, the b·hyve Pro Controller with Smart Watering is certified to use water more efficiently and is eligible for rebates in many cities or water districts across the country.\\r\\n\\r\\nFLEXIBLE SCHEDULING – You can set the controller to water in two basic ways: 1) on a fixed schedule, such as during a new landscape grow-in period; 2) with Smart Watering, and let local weather conditions determine the schedule.\\r\\n\\r\\nMULTI-SITE MANAGEMENT – You can manage and control an unlimited number of b·hyve controllers from the convenience of one application.  Once the timer is connected to the Internet, secure access can be shared in a number of different combinations using an app-generated code.\\r\\n\\r\\nCATCH CUPS – With various water savings options integrated right into the app, there are multiple ways to achieve optimum water savings with the b·hyve Pro Timer.  In addition to Smart Watering, it incorporates the award-winning catch-cup feature right into the app to deliver up to 25% more water savings over other smart controllers.\\r\\n\\r\\nALEXA – Works with Alexa.  For a list of Alexa commands visit bhyve.hydrorain.com.                                                                                                                                                                                                                                                                                                                                                                                                                                                                                                                                                                                                                                                                                                                                                                                                                                                                                                                                                                                                                                                                                                                                                                                                                                                                                                                                                                                                                                                                                                                                                                                                                                                                                                                                                                        \nBilliard Ball Game com.dcoc.wordmatrix.android.en  Word Matrix is a UNIQUE and FREE word game that mixes all the things you love about letter-tile games and puzzle games. Drag letter tiles and make high-scoring words in your tray -- but every move you make has a totally different strategy and goal. \\r\\n\\r\\nEvery level has a matrix of letter tiles, but you can only use the bottom-most set. As you successfully form words, more tiles become uncovered and available to play (the color will change from grey to orange), keeping the gameplay emergent and interesting. Every letter tile has a score on it, and longer words earn you bigger multipliers. Get the right words with the right letters to reach the total score demanded of every level.\\r\\n\\r\\nAlong the way, you’ll discover amazing power-boosts that can change the shape of each level. There’s the Rocket and Bomb to blow your neighbors away, the Hammer to knock out peksy tiles, the Flipper to turn your whole matrix upside down, and the awesome Golden Wrench which lets you pick any tile as your first letter. Every power-up has the magic to help you clear even the toughest of levels.\\r\\n\\r\\nYou’ll need a deep vocabulary and keen ability to make your way through the matrix if you want to maximize your score. \\r\\n\\r\\nJoin Felix the Fox in his journey trying to understand oddities of the forest, working his way through surreal lands encompassing the world of the matrix. You and Felix can use your spelling skills to unlock the creative power of language and lift the veil on the very fabric of reality. I know... Deep!\\r\\n\\r\\n● Over 200 levels, each with a different twist!\\r\\n● Plenty of free Hints!\\r\\n● Unlock cool boosters such as the Blank Tile to act as a wildcard.\\r\\n● Or the Shuffle to shake things up!\\r\\n● Easy to learn but very tough to master.\\r\\n● See how you compare to your Facebook friends!\\r\\n● No timers — play at your own speed.\\r\\n● Use your own style: Often, a well-chosen short word is superior to a long word!\\r\\n\\r\\nIf you have any suggestions, please give us feedback by email, we sincerely and seriously appreciate it. We are aiming to bring you the best word game experience, enrich your leisure time and keep your brain sharp.\\r\\n\\r\\nWord matrix is free to play, but in-app purchases are available to help you.\\r\\n\\r\\nThere’s really only one question: Are YOU ready to enter the word matrix?                                                                                                                                                                                                                                                                                                                                                                                                                                                                                                                                                                                                                                                                                                                                                                                                                                                                                                                                                                                                                                                                                                                                                                                                                                                                                                                                                                                                                                                                                                                                                                                                                                                                                                                                                    \n\n                                                   predicted_labels  \ndeveloper          appid                                             \nToca Boca          com.tocaboca.tocakitchen2       51                \n                   com.tocaboca.tocalifeworld      133               \n                   com.tocaboca.tocahairsalon3     116               \n                   com.tocaboca.tocalab            133               \n                   com.tocaboca.tocahospital       133               \n                   com.tocaboca.tocaneighborhood   133               \n                   com.tocaboca.tocavacation       133               \n                   com.tocaboca.tocaoffice         133               \n                   com.tocaboca.tocapets           148               \n                   com.tocaboca.tocastable         99                \n                   com.tocaboca.tocaschool         133               \n                   com.tocaboca.tocatown           133               \n                   com.tocaboca.tocakitchensushi   133               \n                   com.tocaboca.tocaafterschool    133               \n                   com.tocaboca.tocalifefarm       190               \n                   com.tocaboca.tocamini           133               \n                   com.tocaboca.tocanature         133               \n                   com.tocaboca.tocacity           133               \n                   com.tocaboca.hairsalon2         116               \n                   com.tocaboca.hairsalonme        116               \n                   com.tocaboca.tocaboo            133               \n                   com.tocaboca.tocalabplants      133               \n                   com.tocaboca.tocamysteryhouse   133               \n                   com.tocaboca.blocks             133               \n                   com.tocaboca.tocatrain          133               \nSAND STUDIO        com.sand.airdroid               0                 \nNick Thissen       nl.nickthissen.iracingforum3    19                \nB-hyve             com.orbit.orbitsmarthome        19                \n                   com.orbit.orbitsmarthome.pro    19                \nBilliard Ball Game com.dcoc.wordmatrix.android.en  144               ",
      "text/html": "<div>\n<style scoped>\n    .dataframe tbody tr th:only-of-type {\n        vertical-align: middle;\n    }\n\n    .dataframe tbody tr th {\n        vertical-align: top;\n    }\n\n    .dataframe thead th {\n        text-align: right;\n    }\n</style>\n<table border=\"1\" class=\"dataframe\">\n  <thead>\n    <tr style=\"text-align: right;\">\n      <th></th>\n      <th></th>\n      <th>summary_202102</th>\n      <th>description_202102</th>\n      <th>predicted_labels</th>\n    </tr>\n    <tr>\n      <th>developer</th>\n      <th>appid</th>\n      <th></th>\n      <th></th>\n      <th></th>\n    </tr>\n  </thead>\n  <tbody>\n    <tr>\n      <th rowspan=\"25\" valign=\"top\">Toca Boca</th>\n      <th>com.tocaboca.tocakitchen2</th>\n      <td>The wildly popular Toca Kitchen is back!</td>\n      <td>Do you want to be the head chef of your very own sushi restaurant? Check out Toca Kitchen Sushi, the newest app from Toca Boca 👉 http://bit.ly/TocaKitchenSushi_GooglePlay \\r\\n\\r\\nThe wildly popular Toca Kitchen is back! With new guests to cook for, more tools to play with and new food combinations to test out, Toca Kitchen 2 invites all chefs to get messy and start playing!\\r\\n\\r\\nGET CREATIVE\\r\\nWho said dishes have to be pretty and tasty? In Toca Kitchen 2 you can cook however you want! Juice tomatoes, boil the salad or make a burger. Come up with your very own recipes and treat your guests to something special.\\r\\n\\r\\nMAKE A MESS\\r\\nWith six different kitchen tools to choose from, you have the perfect setup for preparing fun foods! Load up with your favorite ingredients, add a squeeze of messiness and finish off with a pinch of weirdness. Time to let your guest have a bite! Was it a winner? \\r\\n\\r\\nWATCH THEIR REACTIONS\\r\\nDiscover your guests’ preferences by watching their reactions. Oven-baked fish head with fried leftovers and lettuce juice coming right up! Oh, they didn’t like it? Try adding some salt. It’s fun to get the “ew”!\\r\\n\\r\\nWe added a whole lot of fun stuff! You can now enjoy cooking:\\r\\n\\r\\nNew foods!\\r\\n- Chicken\\r\\n- Prawn\\r\\n- Pineapple\\r\\n- Corn\\r\\n- Peach\\r\\n- Strawberry\\r\\n- Watermelon \\r\\n- Onion\\r\\n- Octopus\\r\\n- Spaghetti\\r\\n- Rice\\r\\n\\r\\nNew condiments!\\r\\n- Ketchup\\r\\n- Dressing\\r\\n- Soy\\r\\n\\r\\nWatch the characters react to spicy hot sauce and sour lemons or and laugh at loud burps. \\r\\n\\r\\nAt last but not least, we added more levels of grossness to the characters. Have fun!\\r\\n\\r\\nFeatures:\\r\\n- New ingredients in the fridge\\r\\n- New characters to feed\\r\\n- Stronger character reactions\\r\\n- New juicer and oven\\r\\n- Deep fryer! You can now deep fry anything. Get your crust on.\\r\\n- No rules or stress - just open-ended, kid-directed fun!\\r\\n- No third-party advertising\\r\\n- No in-app purchases\\r\\n\\r\\nWhat are you waiting for? Get in the kitchen and start cooking!\\r\\n\\r\\nToca Kitchen 2 is a free cooking app for kids that’s perfect for aspiring chefs. Kids can roleplay a chef in a kitchen full of tasty foods and ingredients! Learn how to cook your favorite dish or experiment with fun combinations to feed hungry customers. This fun cooking app is sure to deliver nothing but fun for kids!\\r\\n\\r\\nThere’s no time limits or rules, right or wrong, so explore all the ingredients and tools the kitchen has to offer! Cook up some crazy food and feed your guests. \\r\\n\\r\\n***\\r\\n\\r\\nSubscribe to our YouTube channel!\\r\\nhttp://bit.ly/YouTube_GooglePlay\\r\\n\\r\\n***\\r\\n\\r\\nABOUT TOCA BOCA\\r\\nAt Toca Boca, we believe in the power of play to spark kids’ imaginations and help them learn about the world. We design our products from the kids' perspective to empower kids to be playful, to be creative and to be who they want to be. Our products include award-winning apps that have been downloaded more than 130 million times in 215 countries and offer fun, safe, open-ended play experiences. Learn more about Toca Boca and our products at tocaboca.com.\\r\\n\\r\\nPRIVACY POLICY\\r\\nPrivacy is an issue that we take very seriously. To learn more about how we work with these matters, please read our privacy policy: http://tocaboca.com/privacy</td>\n      <td>51</td>\n    </tr>\n    <tr>\n      <th>com.tocaboca.tocalifeworld</th>\n      <td>Create storylines, make unique characters &amp; build your own exciting world</td>\n      <td>Create stories and build your own world with Toca Life World. You’ll get all the fun of your other favorite Toca Life apps such as City, Vacation, Office, Hospital, and more, all together in one place. \\r\\n\\r\\nINTRODUCING TOCA LIFE WORLD\\r\\nWant to give grandma a wild hairstyle? Bring a sloth to the Skate Park? Or just hang out with friends? If you thought it was fun to dive into a Toca Life app and do whatever you want then you were right. This is your own world where you build characters and create stories your way. Make storylines and discover that anything is possible today. \\r\\n\\r\\nYou can even go further and create stories with your favorite characters in any location you want. Want to take a pet to School? Go for it. Take the doctor to the Salon and dye her hair green? Rock on. In Toca Life World you’re the boss. Build characters, create stories, and play the way you want.\\r\\n\\r\\nMAKE STORYLINES, BUILD CHARACTERS &amp; CREATE YOUR OWN WORLD - WHY YOU’LL LOVE TO PLAY TOCA LIFE WORLD\\r\\n\\r\\nFIRST 8 LOCATIONS &amp; 39 CHARACTERS INCLUDED\\r\\nYou can visit Bop City, a vibrant city area with 8 different locations for you to discover, like the hairdresser, the shopping mall and food court, or even an apartment. It’s a great start when you want to build your own world!\\r\\n\\r\\nKEEP THE TOCA LIFE APPS YOU ALREADY HAVE\\r\\nDo you already play other apps within the Toca Life series? City? Vacation? Office? Great! When you download Toca Life World, we’ll help you bring all of that stuff into the mega-app. Then you can start mixing and matching locations and characters to create heaps of new storylines. \\r\\n\\r\\nBUY NEW LOCATIONS AND CHARACTERS\\r\\nIf you want to discover more locations, that’s cool. Toca Life World has a shop where more than 50 locations, 300 characters, and 125 pets are available for purchase. With different prices from small to big, you can decide to add a little or a lot. We’ll always be updating with more locations, characters and crazy things to do.\\r\\n\\r\\nGIFTS EVERY WEEK\\r\\nGuess what? You don’t need to make purchases in the shop to get new items to add to your world. Check back every week and discover exclusive surprise gifts!\\r\\n\\r\\nDiscover exciting storylines, build characters, and don’t miss out on a moment of fun - download Toca Life World today! \\r\\n\\r\\nAbout Us:\\r\\n\\r\\nAt Toca Boca, we believe in the power of play to spark kids’ imaginations and help them learn about the world. We design our products from the kids' perspective to empower kids to be playful, to be creative and to be who they want to be. Our products include award-winning apps that have been downloaded more than 200 million times in 215 countries and offer fun, safe, open-ended play experiences. Learn more about Toca Boca and our products at tocaboca.com.\\r\\n\\r\\nPrivacy is an issue that we take very seriously. To learn more about how we work with these matters, please read our privacy policy: https://tocaboca.com/privacy</td>\n      <td>133</td>\n    </tr>\n    <tr>\n      <th>com.tocaboca.tocahairsalon3</th>\n      <td>Our most popular app series returns, better than ever!</td>\n      <td>Welcome to Toca Hair Salon 3! Our most popular app series returns, better than ever! What do you feel like creating today — something quirky, pretty or edgy? Choose your character from dozens of looks that you can customize — characters have randomized styles and personalities, which creates endless play opportunities! Grab your tools and get styling!\\r\\n\\r\\nAMAZINGLY REALISTIC HAIR\\r\\nThe hair in Toca Hair Salon 3 looks and moves like real hair! You can style silky straight hair, bouncy waves, crinkly curls, and for the first time in the Toca Hair Salon series: kinky hair! This super-curly hair type means you can create fluffy 'fros and other natural hairstyles.\\r\\n\\r\\nAWESOME STYLING TOOLS\\r\\nNo salon would be complete without the right tools!\\r\\n\\r\\nBasics: Of course you'll find everything for a good wash, including shampoo and a blow dryer. You'll also find scissors, clippers, a razor, a brush and a multipurpose combing tool to use on your client's hair. In case you cut off a little too much, we've brought back our amazing grow tonic to regrow hair — definitely customer pleaser!\\r\\n\\r\\nHair types: The electric styling tools let you move between the different hair types to get just the right look.\\r\\n\\r\\nBraids: Use the brand-new braiding tools for more styling options! You can make thick braids or thin braids!\\r\\n\\r\\nBeards: Visit the beard station for the best in beard-grooming (or growing!). Lather up with shaving cream, then use scissors, clippers or a razor to get just the right length. Every character can have a beard!\\r\\n\\r\\nColor: Ready for some color? Toca Hair Salon 3 introduces a more advanced hair color tool with two different cans for different sized sprays. And the new rainbow spray lets you create the most colorful styles you can imagine!\\r\\n\\r\\nCLOTHES AND ACCESSORIES\\r\\nNow characters can change into different clothes! Try on new looks to suit that new hair style! Accessorize the look with glasses, caps, headbands and silly stuff. Choose a photo booth background and take a picture to save to your device and share!\\r\\n\\r\\nFEATURES\\r\\n- All-new characters with dozens of starter styles\\r\\n- Straight, wavy, curly and now kinky hair!\\r\\n- All the tools you need to create the style you want!\\r\\n- New braiding tool!\\r\\n- Every character can grow a beard to style\\r\\n- More advanced hair color tool: Dip-dye and fade hair in any colors you want!\\r\\n- Change clothes on characters!\\r\\n- Dozens of new accessories: hats, glasses, jewelry and more\\r\\n- Change backdrops in the photo booth!\\r\\n- Snap a picture in the app and share with your friends!\\r\\n- Gender-neutral aesthetic: Unlike most hairstyling apps, all kids are welcome to play!\\r\\n- No time limit or high scores — play for as long as you like!\\r\\n- No third-party advertising\\r\\n\\r\\nNothing but endless hours of hairstyling fun awaits with these hair cutting tools and accessories at your disposal! Be the hairstylist of your dreams and give your friends and family a fresh, fun cut that they’ll remember forever.\\r\\n\\r\\nWith no rules or time limit, this hair salon app is perfect for boys and girls of all ages. Any hair cut or hair style is possible, so creatively tap into your imagination and start cutting hair now!\\r\\n\\r\\nABOUT TOCA BOCA\\r\\nAt Toca Boca, we believe in the power of play to spark kids’ imaginations and help them learn about the world. We design our products from the kids' perspective to empower kids to be playful, to be creative and to be who they want to be. Our products include award-winning apps that have been downloaded more than 130 million times in 215 countries and offer fun, safe, open-ended play experiences. Learn more about Toca Boca and our products at tocaboca.com.\\r\\n\\r\\nPRIVACY POLICY\\r\\nPrivacy is an issue that we take very seriously. To learn more about how we work with these matters, please read our privacy policy: http://tocaboca.com/privacy</td>\n      <td>116</td>\n    </tr>\n    <tr>\n      <th>com.tocaboca.tocalab</th>\n      <td>Welcome to Toca Lab: Elements! Discover elements by experimenting with lab tools</td>\n      <td>Pay once, play forever! No in-app purchases! \\r\\n\\r\\nCalling all future scientists! \\r\\n\\r\\nWelcome to Toca Lab: Elements! Explore the colorful and electrifying world of science and meet all 118 of the elements from the periodic table. \\r\\n\\r\\nDiscover elements by experimenting with the lab tools! \\r\\n\\r\\n* Take your element for a spin in the centrifuge. \\r\\n* Warm them up in the Bunsen burner. \\r\\n* Put the element on ice with the cooling agent! \\r\\n* Add a drop or two of mysterious liquids from the test tubes. \\r\\n* Change their voltage and make them magnetic with the oscilloscope. \\r\\n\\r\\nEach element has its own personality. In Toca Lab: Elements, what does Neon sound like? Is Gold heavy or light? Is Nitrogen squishy or hard? Explore, inspect, and study each one and let us know! Can you find all 118? \\r\\n\\r\\nThe time has come, future scientists, to head into the lab to explore and discover. Put on your lab coat and protective eye gear because things are about to get experimental! \\r\\n\\r\\nToca Lab: Elements is a place for playing and having fun, and with it we hope to inspire kids to explore science. While the periodic table in Toca Lab: Elements is accurate, the way new elements are created is not. Instead, it’s a fun way to experiment, discover and create curiosity in the world of science. Toca Lab: Elements is just a starting point for further exploration! \\r\\n\\r\\nWith no rules or time limits, this fun science-themed app is perfect for kids of all ages! Exploring science has never been more fun with all the elements from the periodic table and tools to play and experiment with! Hours of fun in the laboratory awaits, so play in the lab and explore the world of science now!\\r\\n\\r\\n***\\r\\n\\r\\nABOUT TOCA BOCA\\r\\nAt Toca Boca, we believe in the power of play to spark kids’ imaginations and help them learn about the world. We design our products from the kids' perspective to empower kids to be playful, to be creative and to be who they want to be. Our products include award-winning apps that have been downloaded more than 130 million times in 215 countries and offer fun, safe, open-ended play experiences. Learn more about Toca Boca and our products at tocaboca.com.\\r\\n\\r\\nPRIVACY POLICY\\r\\nPrivacy is an issue that we take very seriously. To learn more about how we work with these matters, please read our privacy policy: http://tocaboca.com/privacy</td>\n      <td>133</td>\n    </tr>\n    <tr>\n      <th>com.tocaboca.tocahospital</th>\n      <td>Experience the excitement of a busy medical center with Toca Life: Hospital!</td>\n      <td>Experience the excitement of a busy medical center with Toca Life: Hospital! Welcome newborn babies into the world, treat sick patients and even say goodbye to loved ones. Toca Life: Hospital is a place where you can play out the joy and pain of life in your own way.\\r\\n\\r\\nLIVE THE CIRCLE OF LIFE\\r\\n\\r\\nTHE BEGINNING\\r\\nWelcoming a new baby into the world can be a little scary and very exciting! Share in that excitement as we welcome newborn babies to Toca Life! Family members and medical staff can love and care for these tiny, swaddled cuties. \\r\\n\\r\\nTHE END\\r\\nSometimes sad moments happen in hospitals, too. The farewell room in Toca Life: Hospital gives loved ones a chance to say goodbye in a peaceful setting. \\r\\n\\r\\nAND EVERYTHING IN BETWEEN\\r\\nToca Life: Hospital lets you tell make-believe stories or real-life stories about checkups, X-rays and all the everyday things that happen in a hospital. \\r\\n\\r\\nEXPLORE UNITS ON FIVE FLOORS\\r\\nIn the basement, sound the siren on the ambulance in the garage or crack the code on a mysterious machine to open the doors to a secret lab! On the entrance floor, check in at the reception desk and have a seat in the waiting area, or grab a snack from the cafe. The treatment floor has tools to diagnose patients, a lab to check specimens and an operating room. The family care floor has a unit just for kids and a maternity unit with an ultrasound machine, nursery cribs and newborn babies! Patients on the general care floor can visit a peaceful garden to reflect on life. And when a loved one dies, say your final goodbyes in the farewell room.\\r\\n\\r\\nFEATURES\\r\\n- Explore five floors: basement, main entrance, lab and treatment, family care and general care.\\r\\n- Move characters from floor to floor in the big elevator.\\r\\n- Baby on the way? Use the ultrasound machine on the expectant patient!\\r\\n- Aww, newborns: Welcome babies to the world! \\r\\n- Use the CAT scan machine (ours has cat ears!) and X-ray machine to diagnose patients!\\r\\n- Check surgery patients’ vitals on the medical monitor.\\r\\n- Use all the tools you’d find in a real-life hospital: gurneys, bandages, crutches, hospital beds, wheelchairs and more!\\r\\n- Crack the code on the mysterious machine to explore the secret lab!\\r\\n- Find peace and say goodbye to loved ones in the farewell room.\\r\\n- Set the tone for your story with just the right music, from a dramatic hospital theme to a relaxing, mellow tune.\\r\\n\\r\\nCREATE VIDEOS OF YOUR OWN HOSPITAL DRAMA\\r\\nUse the in-app recording feature to create an original video! This feature records your voice and your characters’ movements as you’re telling the story. Create videos up to two minutes long and save them to your camera roll to share later!\\r\\n\\r\\n--\\r\\n\\r\\nABOUT TOCA BOCA\\r\\nAt Toca Boca, we believe in the power of play to spark kids’ imaginations and help them learn about the world. We design our products from the kids' perspective to empower kids to be playful, to be creative and to be who they want to be. Our products include award-winning apps that have been downloaded more than 150 million times in 215 countries and offer fun, safe, open-ended play experiences. Learn more about Toca Boca and our products at tocaboca.com.\\r\\n\\r\\nPRIVACY POLICY\\r\\nPrivacy is an issue that we take very seriously. To learn more about how we work with these matters, please read our privacy policy: http://tocaboca.com/privacy</td>\n      <td>133</td>\n    </tr>\n    <tr>\n      <th>com.tocaboca.tocaneighborhood</th>\n      <td>Move into your new block</td>\n      <td>Welcome to your new neighborhood, filled with friendly faces to hang out with. Explore your new block, where you can explore cafés and shops, and meet a new set of characters. And guess what? A Toca Life app has never had this many homes!\\r\\n\\r\\nMOVE INTO YOUR NEW APARTMENT\\r\\nWhat’s your interior style? Minimalistic, cute, bohemian or industrial? Pick one of four apartments, or move into all of them! Move in, get settled, visit your neighbors and invite them to help decorate your home! \\r\\n\\r\\nDECORATE YOUR PLACE\\r\\nVisit the interior design store were you can find loads of items to decorate your new place. Plants, clocks, pillows and mailboxes! Paintings, stools and many other things. \\r\\nDon’t leave before spending some time in the photo booth. Choose a filter and get your friends ready! Say cheese!\\r\\n\\r\\nHANG OUT IN THE ROB-O CAFÉ\\r\\nSpend some time with your friends chilling in the Rob-o Café. Grab a bite from the conveyor belt or order a smoothie from the giant robot. Choose between four tasty flavors. Which one will you pick?\\r\\n\\r\\nGET NEIGHBORHOOD NOW – CONNECT ALL TOCA LIFE APPS SOON\\r\\nVery soon we will introduce Toca Life: World, our new mega app that brings all of the Toca Life locations together. Toca Life: World will be the place for all new themes and updates, and even some surprise gifts! We’re almost ready to introduce it to you. If you download Toca Life: Neighborhood today, soon you will be able to connect it with the rest of your Toca Life apps. \\r\\n\\r\\nFEATURES\\r\\nMeet 23 new characters\\r\\n4 new apartments with different themes to live and hang out in!\\r\\nShop at the design store to get new furniture and objects for your home - make it your style!\\r\\nBring your best friends to the Rob-o Café and pick out food from the conveyor belt.\\r\\nGet a smoothie from the giant smoothie robot. Choose between four tasty flavors!\\r\\nBring family and friends to take a photo in the photo booth! Which filter will you use?  \\r\\nGet a Sloth toy in the Slothtato toy machine!\\r\\nFind the secret Rob-o Disco Club!\\r\\nVisit the tiny creatures that have a hideout in the elevator!\\r\\n\\r\\nABOUT US:\\r\\nAt Toca Boca, we believe in the power of play to spark kids’ imaginations and help them learn about the world. We design our products from the kids' perspective to empower kids to be playful, to be creative and to be who they want to be. Our products include award-winning apps that have been downloaded more than 200 million times in 215 countries and offer fun, safe, open-ended play experiences. Learn more about Toca Boca and our products at tocaboca.com.\\r\\n\\r\\nPRIVACY POLICY:\\r\\nPrivacy is an issue that we take very seriously. To learn more about how we work with these matters, please read our privacy policy: https://tocaboca.com/privacy</td>\n      <td>133</td>\n    </tr>\n    <tr>\n      <th>com.tocaboca.tocavacation</th>\n      <td>Make every day a vacation adventure!</td>\n      <td>Make every day a vacation adventure! Feel the excitement of going through the airport to catch your flight. Jumping on a hotel bed. Digging for treasure on the beach. Create all the vacation fun you want with Toca Life: Vacation!\\r\\n\\r\\nEXPLORE\\r\\nWith four locations to explore in Toca Life: Vacation, you’ll never run out of ideas for your stories. Want to start your adventure at the airport? Have fun with the X-ray machine, board the plane and visit the cockpit. Then get a snack and enjoy your flight! At your destination, you have many choices for activities: shopping and sightseeing on the boardwalk, playing at the beach and surfing in the ocean and exploring the hotel.\\r\\n\\r\\nDISCOVER\\r\\nYou’ll find lots of surprises throughout Toca Life: Vacation. Find out who inhabits the seafloor, open a secret compartment, uncover buried treasures and investigate a very mysterious-looking statue.\\r\\n\\r\\nFEATURES\\r\\n- Explore four locations: airport, hotel, beach and sightseeing.\\r\\n- Create stories for 34 new characters.\\r\\n- X-ray luggage or people at the airport! Visit the cockpit and have a snack on the plane.\\r\\n- Fill up at the hotel buffet or raid the fridge in your hotel room.\\r\\n- Play on the hotel elevator then ride up to the top floor to enjoy the view from your penthouse suite.\\r\\n- Shop for souvenirs in the gift shop, take photos in the cut-out figures and have a snack on the boardwalk.\\r\\n- Play on the beach and surf above the ocean animals.\\r\\n- Discover the island mysteries!\\r\\n- No time limit or high scores — play for as long as you like!\\r\\n- No third-party advertising\\r\\n- No in-app purchases\\r\\n\\r\\nWE LISTEN\\r\\nYou wanted a vacation app, you got it! We loved your suggestions for a hotel, beach and airport, so keep those ideas coming! What do you want to see next in the Toca Life series? Share your suggestions by submitting a review, or share them with @tocaboca on Instagram &amp; YouTube!\\r\\n\\r\\n***\\r\\n\\r\\nABOUT TOCA BOCA\\r\\nAt Toca Boca, we believe in the power of play to spark kids’ imaginations and help them learn about the world. We design our products from the kids' perspective to empower kids to be playful, to be creative and to be who they want to be. Our products include award-winning apps that have been downloaded more than 130 million times in 215 countries and offer fun, safe, open-ended play experiences. Learn more about Toca Boca and our products at tocaboca.com.\\r\\n\\r\\nPRIVACY POLICY\\r\\nPrivacy is an issue that we take very seriously. To learn more about how we work with these matters, please read our privacy policy: http://tocaboca.com/privacy</td>\n      <td>133</td>\n    </tr>\n    <tr>\n      <th>com.tocaboca.tocaoffice</th>\n      <td>Turn work into an adventure!</td>\n      <td>Ever wonder what grown-ups really do at work all day? In Toca Life: Office, you get to tell stories about office life the way you imagine it!\\r\\n\\r\\nToca Life: Office looks a lot like a regular office — you can have everyday fun with laptops, printers and copy machines; have lunch in the cafe; and get cash from the bank. But in Toca Life, even simple office life can lead to an exciting adventure! Find hidden surprises. Hop into a helicopter. Turn regular people into superheroes! Where will you work today?\\r\\n\\r\\nEXPLORE SIX LOCATIONS\\r\\n\\r\\nDAYCARE: First stop: daycare, where little ones can play instruments, splash in mud, grow plants outside and slide down the slide on their playground!\\r\\n\\r\\nBANK: The vault holds valuable things and keeps them safe and secure. But if the alarm is triggered, it’s time to spring into action!\\r\\n\\r\\nOFFICE: Use the printer to print documents, then make copies with the copy machine! What else can you make copies of? In the fancy office, solve the desk puzzle to discover an exciting secret!\\r\\n\\r\\nROOFTOP: Experiment with food in the cafe to discover new recipes! The rooftop also has a helicopter waiting on the landing pad for when you need to make a quick getaway!\\r\\n\\r\\nCOURTHOUSE: Do some detective work — maybe you’ll solve a crime! Hold a trial and announce the verdict. Shhh...there’s a secret exit in the jail — will someone escape?\\r\\n\\r\\nAPARTMENT: After a long day, make yourself at home! Cook a meal, take a nap, even wash your clothes in the washing machine!\\r\\n\\r\\nFEATURES\\r\\n- Role-play in six locations: bank, office, rooftop, courthouse, apartment and daycare. Plus a storage building with a fire pole!\\r\\n- Meet 35 new characters! \\r\\n- Find costumes hidden in different locations and turn characters into superheroes!\\r\\n- Look for surprises in secret compartments!\\r\\n- Move from floor to floor in the glass elevator.\\r\\n- Keep valuables in the bank vault. Set the alarm to keep them secure!\\r\\n- Discover what’s inside the safe deposit boxes.\\r\\n- Draw on the whiteboard, print from the computers and make copies with the copy machine.\\r\\n- Explore the big office and unlock the secret hiding places!\\r\\n- Play with jellyfish in the window aquarium.\\r\\n- Pretend to be a chef and whip up delicious meals in the cafe!\\r\\n- Hop into the helicopter and start up the propellers!\\r\\n- Have a make-believe trial at the courthouse.\\r\\n- Discover a secret exit in the jail.\\r\\n\\r\\nAbout Toca Boca\\r\\nAt Toca Boca, we believe in the power of play to spark kids’ imaginations and help them learn about the world. We design our products from the kids' perspective to empower kids to be playful, to be creative and to be who they want to be. Our products include award-winning apps that have been downloaded more than 150 million times in 215 countries and offer fun, safe, open-ended play experiences. Learn more about Toca Boca and our products at tocaboca.com.\\r\\n\\r\\nPrivacy Policy\\r\\nPrivacy is an issue that we take very seriously. To learn more about how we work with these matters, please read our privacy policy: http://tocaboca.com/privacy</td>\n      <td>133</td>\n    </tr>\n    <tr>\n      <th>com.tocaboca.tocapets</th>\n      <td>Meet friends with paws &amp; claws</td>\n      <td>Welcome to Toca Life: Pets, where you and your animal friends run the show! What’s your favorite pet like? Furry and fast? Wet and wiggly? A little bit creepy? With more than 120 animals, Toca Life: Pets has every kind of pet you can imagine.\\r\\n\\r\\nEXPLORE FIVE LOCATIONS\\r\\n\\r\\nPET PARK: Enjoy the great outdoors with the pets! Take a dip in the river, have a picnic on the grass, play a game or discover a hidden cave. Or build an agility course to train your pets and test their skills. Poke around a bit, explore the tree — you might find some surprises to expand your pet family!\\r\\n\\r\\nPET HOTEL: Sometimes families go on trips without their pets, but thanks to the pet hotel, pets get a vacation of their own! With lots of cozy spaces, an aquarium and outdoor space, every pet will find a nice spot to play or relax — dog or cat, bird or sloth-bat!\\r\\n\\r\\nVETERINARY: The vet can help sick pets feel better and help healthy pets stay that way! You’ll find pills, drops and the instruments needed to operate on sick or injured pets. Pets can play outdoors or wait on the cozy beds until the vet is ready to see them.\\r\\n\\r\\nPET SHOP: Find everything you need for to groom, feed, play with and care for your pets at the pet shop. After shopping, grab a bite to eat at the pet shop cafe, where pets get a table too!\\r\\n\\r\\nBREEDER’S BUNGALOW: Here’s where the pet breeder starts and ends their day. The bungalow is, of course, filled with pets — hiding in the greenhouse and playing in the yard and splashing in mud. Don’t worry, the giant bathtub gets everyone clean again!\\r\\n\\r\\nFEATURES\\r\\n- Role-play in five locations: pet park, pet hotel, veterinary, pet shop and breeder’s bungalow.\\r\\n- Meet 23 new characters.\\r\\n- Play with and care for 124 real and fantasy animals.\\r\\n- Bathe muddy pets and get them clean again!\\r\\n- Pretend to be a vet and care for sick and injured pets.\\r\\n- Dress your pets in fun hats — stack hats on hats on hats!\\r\\n- Build an agility course to train pets and help them get the exercise they need.\\r\\n- Pull the branch in the pet park to discover a surprise!\\r\\n\\r\\nAbout Us:\\r\\nAt Toca Boca, we believe in the power of play to spark kids’ imaginations and help them learn about the world. We design our products from the kids' perspective to empower kids to be playful, to be creative and to be who they want to be. Our products include award-winning apps that have been downloaded more than 200 million times in 215 countries and offer fun, safe, open-ended play experiences. Learn more about Toca Boca and our products at tocaboca.com.\\r\\n\\r\\nPrivacy Policy:\\r\\nPrivacy is an issue that we take very seriously. To learn more about how we work with these matters, please read our privacy policy: https://tocaboca.com/privacy</td>\n      <td>148</td>\n    </tr>\n    <tr>\n      <th>com.tocaboca.tocastable</th>\n      <td>Welcome to a world of horses and adventure!</td>\n      <td>Welcome to a world of horses and adventure! Groom horses, care for them and show them! Engage in some medieval jousting or role-play the Wild West. Ride motorcycles and camp out under the stars! You can play your way in Toca Life: Stable!\\r\\n\\r\\nEXPLORE AN EXCITING WORLD\\r\\nTHE STABLE: Step into the stable and can care for your horses. Wash them, brush them, then saddle up for a trot. When you're finished grooming your horses (and cleaning up their poop!), take a well-deserved break in the club room.\\r\\n\\r\\nTHE ARENA: Next, advance to the arena and show off your horse's jumping skills. Hear the cheers when the winners take their place on the podium. After the celebration, you can race motorcycles in the arena — vroom! — or get a snack in the food court.\\r\\n\\r\\nTHE FOREST: Ready to frolic in the forest? Choose your most trusted horse and head off for an adventure in the woods, where you can sleep under the stars in your sleeping bag, then wake up for a swim in the waterfall.\\r\\n\\r\\nTHE SHOP: When you need more horse tack, head over to the shop — you'll find everything you need.\\r\\n\\r\\nTRAVEL BETWEEN LOCATIONS\\r\\nEach location gives you access to the horse transport, so you can get your horses, equipment, bikes and even characters from here to there. Put what you want to move into the transport, close the door and select the new location by tapping an icon. Everything will arrive in the selected location so you can begin your next adventure!\\r\\n\\r\\nCREATE AN ORIGINAL VIDEO OF YOUR STORY\\r\\nUse the in-app recording feature to create an original video! This feature records your voice as you’re telling the story, along with your characters’ movements. Create videos up two minutes long and save them to your camera roll to share later!\\r\\n\\r\\nFEATURES:\\r\\n- Explore four locations: stable, arena, forest and shop.\\r\\n- Create stories for 24 new characters plus horses and other animals!\\r\\n- Care for your horses: feed them, lather them up till they're nice and clean, brush them. \\r\\n- Choose outfits from your favorite themes: medieval, western, everyday stable life and fantasy!\\r\\n- Hop on to ride bikes in the forest and race motorcycles in the arena!\\r\\n- Set up obstacles and show off your horse's jumping skills!\\r\\n- Eat at the food court and use the portable potties!\\r\\n- Have a campout!\\r\\n- Snuggle into your sleeping bag to stay warm under the stars! \\r\\n- Take a canoe ride or swim by a waterfall.\\r\\n- Make music with magical lily pads!\\r\\n- Move horses, characters and objects from here to there in the horse transport!\\r\\n- Record your stories in the app and share with your friends!\\r\\n- No time limit or high scores — play for as long as you like!\\r\\n- No third-party advertising\\r\\n\\r\\nWE LISTEN\\r\\nOne of our top requests for the Toca Life series has been horses! So we made an app that's all about horses! What do you want to see next in the Toca Life series? Share your suggestions by submitting a review, or share them with @tocaboca on Instagram &amp; YouTube!</td>\n      <td>99</td>\n    </tr>\n    <tr>\n      <th>com.tocaboca.tocaschool</th>\n      <td>Grab your backpack— it’s time for Toca Life: School!</td>\n      <td>Grab your backpack— it’s time for Toca Life: School! Teach a class, pick a locker and have a food fight in the cafeteria! With five locations and 34 characters, you can create your very own school adventures!\\r\\n\\r\\nINTRODUCING TOCA LIFE\\r\\nThanks to the outpouring of ideas from kids all over the world we created Toca Life — a series of apps that gives you an even bigger world of everyday fun. Toca Life: Town and Toca Life: City are our first apps in the series; now we’re excited to introduce Toca Life: School!\\r\\n\\r\\nEXPLORE\\r\\nToca Life: School has five unique locations for telling stories about life at school. Head out to the playground and coach a basketball team, conduct a science experiment in the classroom and jam with your band in the youth club! All characters, and anything they are holding, can easily be moved between locations.\\r\\n\\r\\nHIDDEN TREASURES\\r\\nWear funny costumes and throw a party. Mix colorful liquids in the chem lab, climb a tree and play hide-and-seek. Looking for some after-school fun? The youth club is always open for fun activities like pool, ping-pong or playing instruments.\\r\\n\\r\\nFEATURES\\r\\n- Five locations to explore: house, cafeteria, school building, youth club and playground\\r\\n- 34 characters to play with and different outfits to wear\\r\\n- Discover the school building with different themed lockers, a school office and a classroom that includes a lab for experiments!\\r\\n- Set off the fire alarm sprinkles and use the fire extinguisher\\r\\n- Learn to play the epic keytar and start a band in the youth club!\\r\\n- Play sports or cheer on a game at the playground!\\r\\n- Chew gum and throw stink bombs!\\r\\n- Start a food fight in the cafeteria and clean it up afterward \\r\\n- No time limit or high scores — play for as long as you like!\\r\\n- No third-party advertising\\r\\n- No in-app purchases\\r\\n\\r\\n***\\r\\n\\r\\nABOUT TOCA BOCA\\r\\nAt Toca Boca, we believe in the power of play to spark kids’ imaginations and help them learn about the world. We design our products from the kids' perspective to empower kids to be playful, to be creative and to be who they want to be. Our products include award-winning apps that have been downloaded more than 130 million times in 215 countries and offer fun, safe, open-ended play experiences. Learn more about Toca Boca and our products at tocaboca.com.\\r\\n\\r\\nPRIVACY POLICY\\r\\nPrivacy is an issue that we take very seriously. To learn more about how we work with these matters, please read our privacy policy: http://tocaboca.com/privacy</td>\n      <td>133</td>\n    </tr>\n    <tr>\n      <th>com.tocaboca.tocatown</th>\n      <td>You rule in Toca Life: Town, a play world where anything and everyone is welcome</td>\n      <td>You rule this Town, a play world where anything and everyone is welcome! With different locations and many classic Toca Boca characters, the everyday adventures in Town are infinite.\\r\\n\\r\\nEXPLORE\\r\\nMove around in town! Visit the store to buy groceries, stop by the restaurant to cook lunch, and head home to watch movies with friends. Run over to the park for a picnic and go for a swim in the pond. Build a sand castle or go on an adventure in the dark? In this Town you decide!\\r\\n\\r\\nCREATE\\r\\nPlay cops and robbers today and hide and seek tomorrow, the story is up to you. Use your imagination to create your own world and play together with friends and family.\\r\\n\\r\\nDISCOVER\\r\\nThere are treasures hidden everywhere. Turn on and off lights, toss garbage in the bins, or wrap up a present in the store to give to friends. Throw stones in the pond and tap the sun for day and night. Remember there are no rules so don't be afraid to interact with anything, even the toilet!\\r\\n\\r\\nTOCA LIFE\\r\\nToca Life is a series of apps that takes you beyond the map of Toca Life: Town and let you discover new places within the Toca Life universe.\\r\\n\\r\\nFEATURES\\r\\n- 21 characters to play with. Do you recognize any of them?\\r\\n- 7 locations to explore - park, pond, store, police station, restaurant, house &amp; apartment\\r\\n- 30 different dishes to cook in the restaurant\\r\\n- Go on adventure - light a campfire and sleep in a tent\\r\\n- Control day and night\\r\\n- 5 different animals to play with\\r\\n- Open game play with no rules or stress\\r\\n- Kid-friendly interface\\r\\n- No third-party advertising\\r\\n- No in-app purchases\\r\\n\\r\\nToca Life: Town is made for kids as young as 3 yet can capture the imagination of those much older. It's filled with surprises and exciting things to do - there are no limits, just fun! Come play!\\r\\n\\r\\n***\\r\\n\\r\\nSubscribe to our YouTube channel and get more Toca Life videos every week:\\r\\nhttp://bit.ly/YouTube_GooglePlay\\r\\n\\r\\n***\\r\\n\\r\\nABOUT TOCA BOCA\\r\\nAt Toca Boca, we believe in the power of play to spark kids’ imaginations and help them learn about the world. We design our products from the kids' perspective to empower kids to be playful, to be creative and to be who they want to be. Our products include award-winning apps that have been downloaded more than 130 million times in 215 countries and offer fun, safe, open-ended play experiences. Learn more about Toca Boca and our products at tocaboca.com.\\r\\n\\r\\nPRIVACY POLICY\\r\\nPrivacy is an issue that we take very seriously. To learn more about how we work with these matters, please read our privacy policy: http://tocaboca.com/privacy</td>\n      <td>133</td>\n    </tr>\n    <tr>\n      <th>com.tocaboca.tocakitchensushi</th>\n      <td>Let’s get cooking!</td>\n      <td>With Toca Kitchen Sushi, you’re the chef of a busy seaside restaurant. Customers come in, and you decide what they’re going to eat. Feel like slicing up squid, asparagus, and candy canes, and rolling it all up into a cone of seaweed? Go right ahead. Want to make stars and hearts of watermelon and mix them with fish and hot peppers? Make the roundest rice ball? You’ve got great tools for that right at your fingertips. With a fantastic array of ingredients, condiments, tools, serving dishes and some hidden surprises, you’re set for some serious play. \\r\\n\\r\\nOnce you’re finished cooking up something unexpected for your customers—it could even be totally gross if you want—sit back and see how they react. That might be the most surprising thing of all!\\r\\n\\r\\nFEATURES\\r\\n\\r\\n- Greet your customers, then head to the fridge to see all your fresh ingredients. Choose from rice, tuna, avocado, asparagus, squid, salmon, pepper, salami, radish, candy canes (no joke!), ginger, potato, tofu, shrimp and many, many more. If you’d rather stick to just veggies, switch to the vegan setting!\\r\\n\\r\\n- The shape machine is 1,000 light years ahead of a plain old rice cooker. Using the control panel, you can form any ingredient into different shapes, like an oval, square, or even a flower!\\r\\n\\r\\n- The rolling mat is where everything comes together. Whether it’s a sheet of seaweed, tofu or lettuce, you can roll up your ingredients into sushi, funky cones, giant burritos, you name it.\\r\\n\\r\\n- Want your food a bit well-done? Crank up the temperature on the frying pan and see what happens. \\r\\n\\r\\n- Hit the cutting board to slice up your ingredients or your sushi rolls. Your blade is  masterful—it can cut through anything, like a huge fish or hard salami!\\r\\n\\r\\n- Once you’ve prepared your meal, it needs the perfect plate. Get artistic about it, arrange the food in perfect patterns, or make a huge, messy pile; even decorate with funny stickers. Do something extra and you may get a big reaction from your customers!\\r\\n\\r\\n- The dining counter is where your customers finally get to see your culinary creation, grab their chopsticks and dig in. Will their eyes brighten in delight, or will they make a grossed-out face?\\r\\n\\r\\nSo, what will you serve today?\\r\\n\\r\\n\\r\\nAbout Us:\\r\\nToca Boca creates digital toys and other playful products for kids around the world. Since its first product launch in 2011, Toca Boca has released 42 apps that have been downloaded more than 225 million times in every country, making it the No. 1 mobile-first kids brand in the App Store. Its products focus on sparking kids’ imaginations and creating opportunities for open-ended play. With offices in San Francisco and Stockholm, Toca Boca is owned by Spin Master Corp., a global children’s entertainment company that creates, designs and manufactures a diversified portfolio of innovative toys, games, products and entertainment properties. For more information, please visit www.tocaboca.com.\\r\\n\\r\\nPrivacy Policy:\\r\\nPrivacy is an issue that we take very seriously. To learn more about how we work with these matters, please read our privacy policy: https://tocaboca.com/privacy</td>\n      <td>133</td>\n    </tr>\n    <tr>\n      <th>com.tocaboca.tocaafterschool</th>\n      <td>Explore hobbies &amp; play sport</td>\n      <td>Welcome to Toca Life: After School, where how you spend your time is up to you! Explore your favorite hobbies — or discover a new one! Skate, create art, dance, make music, play sports or just chill! Meet 27 characters, explore four locations and have as much fun as you can before it’s time to head home!\\r\\n\\r\\nEXPLORE FOUR LOCATIONS\\r\\n\\r\\nSKATE PARK: Choose from the colorful skateboards and scooters, and feel the rush as you skate down the quarter pipe! Then grab an after-school snack and chill in the lounge!\\r\\n\\r\\nART WORKSHOP: Get as creative as you like! Enjoy painting? Create a mess or a masterpiece with nine colors in the paint buckets! Choose your favorite tool — paint brush, roller or air brush. When you’ve finished, make a print, choose a frame and hang it in the gallery space!\\r\\n\\r\\nDANCE STUDIO: Build your DJ skills as you mix beats in the dance studio. Play around with different instruments and genres to give the dancers something to move and groove to! \\r\\n\\r\\nSPORTS COURT: Head to the rooftop sports court to pick your teams, choose their colors and mascots, and play! You’ll find equipment to play basketball, football, field hockey and more. The rooftop is also the spot to express your artistic flair on the graffiti wall, play a board game or kick back with a good book.\\r\\n\\r\\nFEATURES\\r\\nRole-play in four locations: skate park, art workshop, dance studio and sports court\\r\\nMeet 27 characters\\r\\nCreate and print art\\r\\nSpray on the graffiti wall\\r\\nChoose a skateboard and skate down the quarter pipe\\r\\nMake music to dance to on the music machine\\r\\nFreshen up after your dance — towels now work like outfits, so throw one on\\r\\nPlay sports on the sports court\\r\\nFind hidden characters, skateboards and graffiti pets\\r\\n\\r\\nAbout Us:\\r\\nAt Toca Boca, we believe in the power of play to spark kids’ imaginations and help them learn about the world. We design our products from the kids' perspective to empower kids to be playful, to be creative and to be who they want to be. Our products include award-winning apps that have been downloaded more than 200 million times in 215 countries and offer fun, safe, open-ended play experiences. Learn more about Toca Boca and our products at tocaboca.com.\\r\\n\\r\\nPrivacy Policy:\\r\\nPrivacy is an issue that we take very seriously. To learn more about how we work with these matters, please read our privacy policy: http://tocaboca.com/privacy</td>\n      <td>133</td>\n    </tr>\n    <tr>\n      <th>com.tocaboca.tocalifefarm</th>\n      <td>Work and play the farmer's way!</td>\n      <td>Work and play the farmer's way! Milk your cow, gather eggs from your hens and raise your crops. Have a picnic, play the fiddle and hit the hay! From sunup to sundown, Toca Life: Farm is fun on the farm!\\r\\n\\r\\nEXPLORE LIFE ON THE FARM\\r\\nThe four locations in Toca Life: Farm will give you everything you need to tell your farm stories. Tend to the animals in the barn — feed them and clean up their poop! Once you've taken care of the animals, head to the house, where you can have a meal then grab your banjo for an impromptu jam session. After a good night's sleep head out to the field to tend to your crops. Harvest your produce and head to the store, where you can sell your food, make new products and buy goods!\\r\\n\\r\\nTURN YOUR HARVEST INTO FOOD\\r\\nPlant your seeds and find out how to make them grow! Tinker with your tractor to see what it can do! The food machine magically turns your raw ingredients into food: Use milk to make cheese, then use the cheese and corn to make cheese puffs! Use berries to make jam, wheat to make bread, and then use those ingredients to make donuts! Discover all the foods you can make and how you can make them!\\r\\n\\r\\nCREATE AN ORIGINAL VIDEO OF YOUR STORY\\r\\nUse the in-app recording feature to create an original video! This feature records your voice as you’re telling the story, along with your characters’ movements. Create farm videos up two minutes long and save them to your camera roll to share later!\\r\\n\\r\\nFEATURES:\\r\\n- Explore four locations: barn, house, field and store.\\r\\n- Create stories for 29 new characters plus all the animals!\\r\\n- Feed the animals, milk the cow and gather eggs from your hens.\\r\\n- Bottle the milk from the milk tank.\\r\\n- Help the vet check the animals.\\r\\n- Let the pigs (or people!) wallow in the mud.\\r\\n- Clean up different types of animal poop!\\r\\n- Grab the banjo, fiddle, guitar or washbucket bass and jam into the night!\\r\\n- Pick fruit in your orchard.\\r\\n- Farm your crops from planting to harvest.\\r\\n- Use your tractor's different functions to farm faster!.\\r\\n- Fire up the food machine to turn your harvest into food.\\r\\n- No time limit or high scores — play for as long as you like!\\r\\n- No third-party advertising\\r\\n\\r\\nWE LISTEN\\r\\nSo many of you asked for a farm in the Toca Life series, and we're excited to give you what you want! What do you want to see next in the Toca Life series? Share your suggestions by submitting a review, or share them with @tocaboca on Instagram &amp; YouTube!\\r\\n\\r\\n***\\r\\n\\r\\nABOUT TOCA BOCA\\r\\nAt Toca Boca, we believe in the power of play to spark kids’ imaginations and help them learn about the world. We design our products from the kids' perspective to empower kids to be playful, to be creative and to be who they want to be. Our products include award-winning apps that have been downloaded more than 130 million times in 215 countries and offer fun, safe, open-ended play experiences. Learn more about Toca Boca and our products at tocaboca.com.\\r\\n\\r\\nPRIVACY POLICY\\r\\nPrivacy is an issue that we take very seriously. To learn more about how we work with these matters, please read our privacy policy: http://tocaboca.com/privacy</td>\n      <td>190</td>\n    </tr>\n    <tr>\n      <th>com.tocaboca.tocamini</th>\n      <td>Let your imagination run wild in the colorful world of Toca Mini!</td>\n      <td>Cute, weird or funny? That's up to you in the colorful world of Toca Mini. Let your imagination run wild in this creative app for kids! \\r\\n\\r\\nMake scary monsters, fantasy animals or your best friends! Dress up, dress down, three eyes or funny feet? The Minis can become whatever you want! \\r\\n\\r\\nTo get started, tap your Mini to add colors, stripes, sleeves or even pants. Be creative with stamps to add details such as hats, socks, laces and buttons. Adding facial features allows your Mini to smile, sneeze and see! \\r\\n\\r\\nWith thousands of possible combinations there are endless ways of creating your very own Mini! Don’t forget to take a snapshot of your creation and share with your friends. \\r\\n\\r\\nFEATURES \\r\\n• Add amazing animated eyes, mouths, noses and eyebrows \\r\\n• Choose from 60 colors and 78 reversible stamps \\r\\n• Use stamps to create patterns, hair and clothes \\r\\n• Take a snapshot and share your Minis! \\r\\n• Lots of colorful backgrounds to choose from! \\r\\n• Your Mini makes fun gestures and sounds as you're creating \\r\\n• No rules or stress - create and play anyway you want! \\r\\n• Kid-friendly interface \\r\\n• No third-party advertising \\r\\n• No in-app purchases \\r\\n\\r\\n***\\r\\n\\r\\nABOUT TOCA BOCA\\r\\nAt Toca Boca, we believe in the power of play to spark kids’ imaginations and help them learn about the world. We design our products from the kids' perspective to empower kids to be playful, to be creative and to be who they want to be. Our products include award-winning apps that have been downloaded more than 130 million times in 215 countries and offer fun, safe, open-ended play experiences. Learn more about Toca Boca and our products at tocaboca.com.\\r\\n\\r\\nPRIVACY POLICY\\r\\nPrivacy is an issue that we take very seriously. To learn more about how we work with these matters, please read our privacy policy: http://tocaboca.com/privacy</td>\n      <td>133</td>\n    </tr>\n    <tr>\n      <th>com.tocaboca.tocanature</th>\n      <td>Nature is magic. Toca Nature delivers that magic to your fingertips.</td>\n      <td>Shape nature and watch it develop. Plant trees and grow a forest. Climb a mountain and enjoy the view. Collect berries, mushrooms or nuts, and feed the different animals. Learn who eats what and discover what it takes to bring out a bear. Walk through different landscapes and become friends with a fox. Capture the moment of woodpeckers zigzagging between trees, and watch the day turn into night.\\r\\n\\r\\nFind new friends and challenges. Be mesmerized.\\r\\n\\r\\nDiscover the unexpected. End up somewhere far from where you started.\\r\\n\\r\\nLet us show you the magic of nature!\\r\\n\\r\\n\\r\\n***\\r\\n\\r\\nABOUT TOCA BOCA\\r\\nAt Toca Boca, we believe in the power of play to spark kids’ imaginations and help them learn about the world. We design our products from the kids' perspective to empower kids to be playful, to be creative and to be who they want to be. Our products include award-winning apps that have been downloaded more than 130 million times in 215 countries and offer fun, safe, open-ended play experiences. Learn more about Toca Boca and our products at tocaboca.com.\\r\\n\\r\\nPRIVACY POLICY\\r\\nPrivacy is an issue that we take very seriously. To learn more about how we work with these matters, please read our privacy policy: http://tocaboca.com/privacy</td>\n      <td>133</td>\n    </tr>\n    <tr>\n      <th>com.tocaboca.tocacity</th>\n      <td>Welcome to Toca Life: City, a metropolis filled with everyday fun!</td>\n      <td>Welcome to Toca Life: City, a metropolis filled with everyday fun! Customize characters, explore exciting locations and find hidden treasures — there’s something in every corner! \\r\\n\\r\\nINTRODUCING TOCA LIFE\\r\\nThanks to the great response to Toca Town, we're bringing you Toca Life — a series of apps that gives you an even bigger world of everyday fun. First out in the series is Toca Life: Town and Toca Life: City!\\r\\n\\r\\nCREATE\\r\\nTry, experiment and customize. It’s time to get creative in Toca Life: City! Change outfits, dye your hair any color and switch hairstyles in the Hair 3000! There are millions of ways to personalize the characters — we dare you to create them all.\\r\\n\\r\\nEXPLORE \\r\\nSay hi to 6 locations and 34 characters! Go shopping at the mall, grab a bite to eat at the food park or invite friends over to your loft. Characters, and anything they are holding, can easily be transported between locations. \\r\\n\\r\\nFEATURES:\\r\\n- 6 locations to explore: loft apartment, shopping mall, hair salon, food park, theatre and tailor\\r\\n- 35 characters that are customizable in over 4 million ways! \\r\\n- 47 hairstyles to test, 37 colors to choose from and various outfits to try on\\r\\n- 7 different food stands at the food park — have some sushi with your burger and try the famous fish ‘n chips! \\r\\n- Shop for clothes, kitchenware, pets, toys and groceries at the mall\\r\\n- Write a play and perform it at the theatre\\r\\n- More fun videos and games for the TV\\r\\n- No time limit or high scores — play for as long as you like!\\r\\n- No third-party advertising\\r\\n- No in-app purchases\\r\\n\\r\\nWE LISTEN\\r\\nToca Life: City was uniquely created for you by you. We received over 10,000 feature requests after Toca Town was released, which we added directly into this app. We want to keep hearing from you so don’t be shy and keep on suggesting! What do you want to see next? Share your ideas with @tocaboca on Facebook, Twitter, Pinterest and Instagram!\\r\\n\\r\\n\\r\\n***\\r\\n\\r\\nABOUT TOCA BOCA\\r\\nAt Toca Boca, we believe in the power of play to spark kids’ imaginations and help them learn about the world. We design our products from the kids' perspective to empower kids to be playful, to be creative and to be who they want to be. Our products include award-winning apps that have been downloaded more than 130 million times in 215 countries and offer fun, safe, open-ended play experiences. Learn more about Toca Boca and our products at tocaboca.com.\\r\\n\\r\\nPRIVACY POLICY\\r\\nPrivacy is an issue that we take very seriously. To learn more about how we work with these matters, please read our privacy policy: http://tocaboca.com/privacy</td>\n      <td>133</td>\n    </tr>\n    <tr>\n      <th>com.tocaboca.hairsalon2</th>\n      <td>Pay once &amp; play forever! No in-app purchases. \\r\\n\\r\\nToca Hair Salon is back!</td>\n      <td>Cut, curl, color and style – any way you want in Toca Hair Salon 2!\\r\\n\\r\\nOur bestselling Toca Boca app, Toca Hair Salon, is back in an even better version with new characters, new tools, new accessories and even more hairstyling fun! \\r\\n\\r\\nIn this kid-friendly, Toca Boca super-creative kids app, you get to run your very own hair salon, with six fun characters to choose from. Cut hair, color and style hair any way you want, using lots of different hair styling tools – from a simple comb and scissors to a curling iron and a straightener. Trim mustaches, spray mohawks bright pink and give someone the curls they’ve always wanted! \\r\\n\\r\\nWhoops – did you accidentally snip off too much hair? Make things right with our special tonic G.R.O.W. and then top it all off with hats, glasses and other fun accessories. Once you and your customer are happy with the way they look, don’t forget to take them to the camera booth for a snapshot!\\r\\n\\r\\nWhat’s in Toca Boca's - Toca Hair Salon 2?\\r\\n- 6 completely new characters\\r\\n- Fun hair makeover tools: razor, curling iron, a crimper and a straightener\\r\\n- More realistic hair color spray effects – combine to make new shades!\\r\\n- Accessories: hats, glasses and much more\\r\\n- Cool photo backdrops\\r\\n- Smooth and beautiful animations\\r\\n- Better and more realistic hair styling - make any style you want!\\r\\n- Support for Android tablets and new Android devices\\r\\n\\r\\nOther features you’ll recognize from Toca Hair Salon:\\r\\n✔ Cut and trim hair with the scissors electric hair trimmer\\r\\n✔ Wash hair with shampoo, shower, and towel\\r\\n✔ Use the hairdryer to get the right look\\r\\n✔ 9 hair colors to choose and combine\\r\\n✔ Lots of accessories for the final touch\\r\\n✔ Use the magic potion G.R.O.W to make hair grow back again\\r\\n✔ Characters make fun faces and sounds while you’re styling them\\r\\n✔ No rules or stress - play any way you want to!\\r\\n✔ Kid-friendly interface\\r\\n✔ Available for both Android phones and Android tablets\\r\\n✔ No third-party advertising\\r\\n✔ No in-app purchases\\r\\n\\r\\nNothing but endless hours of hairstyling fun awaits with these hair cutting tools and accessories at your disposal! Be the hairstylist of your dreams and give your friends and family a fresh, fun cut that they’ll remember forever.\\r\\n\\r\\nWith no rules or time limit, this hair salon app is perfect for boys and girls of all ages. Any hair cut or hair style is possible, so tap into your creative imagination and start cutting hair now!\\r\\n\\r\\n\\r\\n***\\r\\n\\r\\nABOUT TOCA BOCA\\r\\nAt Toca Boca, we believe in the power of play to spark kids’ imaginations and help them learn about the world. We design our products from the kids' perspective to empower kids to be playful, to be creative and to be who they want to be. Our products include award-winning apps that have been downloaded more than 130 million times in 215 countries and offer fun, safe, open-ended play experiences. Learn more about Toca Boca and our products at tocaboca.com.\\r\\n\\r\\nPRIVACY POLICY\\r\\nPrivacy is an issue that we take very seriously. To learn more about how we work with these matters, please read our privacy policy: http://tocaboca.com/privacy</td>\n      <td>116</td>\n    </tr>\n    <tr>\n      <th>com.tocaboca.hairsalonme</th>\n      <td>Give your friends and family a totally new look!</td>\n      <td>Give your friends and family a totally new look! Simply snap a picture and you’re transported to a world of hair-raising fun! \\r\\n\\r\\nIn this new version of the wildly popular Toca Hair Salon series we want you to create the characters! \\r\\n\\r\\nToca Hair Salon Me lets you be the customer and the stylist! Curly, straight or purple? Create a funky hairdo any way you like. Grow it long or cut it short, shave one side or spray paint it every color of the rainbow. The possibilities are endless! \\r\\n\\r\\nAdd accessories such as hats, sunglasses and hair clips to top it off. Don’t forget to take a photo and share with friends. Now you can use your own photos as backdrops to complete your style transformation. \\r\\n\\r\\nCheck out what’s new in Toca Hair Salon Me! \\r\\n- Snap a picture of your friends to create their new hairstyle \\r\\n- Or use a photo from your camera roll \\r\\n- Tons of fun new accessories from mustaches to hats \\r\\n- Even more hair colors to choose from \\r\\n- Create photo backgrounds from your own pictures \\r\\n\\r\\nAnd all the features you already love: \\r\\n- Use G.R.O. to make short hair long again \\r\\n- Lather, rinse &amp; blow-dry \\r\\n- Use tools to curl, straighten, crimp, shave &amp; trim \\r\\n- Characters make fun faces and sounds while you style them \\r\\n- No rules or stress – play any way you want to! \\r\\n- Kid-friendly interface \\r\\n- No third-party advertising \\r\\n- No in-app purchases  \\r\\n\\r\\nEndless hours of hairstyling fun awaits with hair cutting tools and accessories at ready to play with! Be a hairstylist and give your friends and family a crazy, fun or cool haircut that they’ll love.\\r\\n\\r\\nWith no rules or time limit, kids of all ages will love this hair salon app. Any hair cut or hair style is possible, so tap into your creativity and let your imagination run wild! \\r\\n\\r\\n***\\r\\n\\r\\nABOUT TOCA BOCA\\r\\nAt Toca Boca, we believe in the power of play to spark kids’ imaginations and help them learn about the world. We design our products from the kids' perspective to empower kids to be playful, to be creative and to be who they want to be. Our products include award-winning apps that have been downloaded more than 130 million times in 215 countries and offer fun, safe, open-ended play experiences. Learn more about Toca Boca and our products at tocaboca.com.\\r\\n\\r\\nPRIVACY POLICY\\r\\nPrivacy is an issue that we take very seriously. To learn more about how we work with these matters, please read our privacy policy: http://tocaboca.com/privacy</td>\n      <td>116</td>\n    </tr>\n    <tr>\n      <th>com.tocaboca.tocaboo</th>\n      <td>BOO! \\r\\nDid I scare you!? My name is Bonnie and my family loves to spook!</td>\n      <td>BOO! \\r\\nDid I scare you!? My name is Bonnie and my family loves to spook! Do you want to scare them back? Follow me and I'll show you how!\\r\\n\\r\\nSCARE\\r\\nFloat around the house and look for the family. Hide under tables, behind curtains or even duvets. Search the rooms but stay away from the light or else you'll be seen. Rattle things, turn on the kettle and make the characters nervous! Can you hear their heartbeat? Great, it’s time to BOO! \\r\\n\\r\\nHUMOR\\r\\nTurn on the disco music and dance, munch on peppers in the kitchen for an extra hot scare, enjoy being invisible and find all the different hiding places - even the toilet! \\r\\n\\r\\nUNIQUE AND MYSTERIOUS DESIGN\\r\\nThe simple and beautiful design will easily guide you through the world of Toca Boo. Fall in love with the 6 different characters and explore all the details of the big, mysterious house. \\r\\n\\r\\nFEATURES\\r\\n- Big house to explore with 2 floors and 6 rooms!\\r\\n- 6 family members to scare\\r\\n- Hidden surprises around the house\\r\\n- Get bigger scares by eating things! \\r\\n- Interact with objects in the house\\r\\n- Beautiful, original artwork\\r\\n- Open-ended play with no rules or stress\\r\\n- Kid-friendly interface\\r\\n- No third-party advertising\\r\\n- No in-app purchases\\r\\n\\r\\n\\r\\nToca Boo is made for kids as young as 4 yet can capture excitement of those much older. It's filled with surprises - there are no limits, just fun! Come play!\\r\\n\\r\\n***\\r\\n\\r\\nABOUT TOCA BOCA\\r\\nAt Toca Boca, we believe in the power of play to spark kids’ imaginations and help them learn about the world. We design our products from the kids' perspective to empower kids to be playful, to be creative and to be who they want to be. Our products include award-winning apps that have been downloaded more than 130 million times in 215 countries and offer fun, safe, open-ended play experiences. Learn more about Toca Boca and our products at tocaboca.com.\\r\\n\\r\\nPRIVACY POLICY\\r\\nPrivacy is an issue that we take very seriously. To learn more about how we work with these matters, please read our privacy policy: http://tocaboca.com/privacy</td>\n      <td>133</td>\n    </tr>\n    <tr>\n      <th>com.tocaboca.tocalabplants</th>\n      <td>Discover New Species!</td>\n      <td>Just like with the first app in the Toca Lab Series, Toca Lab: Elements, your curiosity will lead the way. Choose your plant, then visit five different locations in the lab:\\r\\n\\r\\n● Grow light: Shine the light on your plant and watch what happens! Does your plant bask and happily sigh in the light, or groan and wriggle away? What happens when you turn the light up a notch or two?\\r\\n\\r\\n● Watering tank: Put your plant in the tank and fill it up with water. Will your plant float? How does your plant behave when it’s soaking wet?\\r\\n\\r\\n● Nutrition station: What’s the optimal diet for your plant? Try the three different nutrition formulas and discover which ones your plant character likes!\\r\\n\\r\\n● Cloning machine: Spin the wheel on the cloning machine and before you know it, you’ll have five little versions of your plant. Wonder what the clones can do? Experiment and find out!\\r\\n\\r\\n● Crossbreeding apparatus: Here you can mix two plants to create something unexpected. Try it and see what happens!\\r\\n\\r\\nHave fun experimenting at each station to see how the plants evolve. Keep experimenting until you’ve collected all 35 plant characters in the app. Once you’ve collected a plant, keep experimenting to continue to evolve it! Who says kids can’t be scientists? Toca Lab: Plants brings out the budding botanist in everybody!\\r\\n\\r\\nFEATURES\\r\\n- Start with one plant and experiment your way to 35 different plant characters, each with its own unique personality!\\r\\n- Continue to evolve existing plants through experimentation!\\r\\n- Evolve plants with five lab tools: grow light, watering tank, nutrition station, cloning machine and the crossbreeding apparatus.\\r\\n- Discover plants from five groups: green algae, mosses, ferns, trees and flowering plants.\\r\\n- Learn the names and Latin names of real-life plants!\\r\\n\\r\\nWith no rules or time limits, this fun science app is perfect for boys and girls of all ages. Science has never been more enjoyable as you’ll have all different types of plants and fun scientific tools to play and learn with. Nothing but hours of fun in the laboratory awaits, so play in the lab and explore the world of science and botany now!\\r\\n\\r\\n--\\r\\n\\r\\nABOUT TOCA BOCA\\r\\nAt Toca Boca, we believe in the power of play to spark kids’ imaginations and help them learn about the world. We design our products from the kids' perspective to empower kids to be playful, to be creative and to be who they want to be. Our products include award-winning apps that have been downloaded more than 150 million times in 215 countries and offer fun, safe, open-ended play experiences. Learn more about Toca Boca and our products at tocaboca.com.\\r\\n\\r\\nPRIVACY POLICY\\r\\nPrivacy is an issue that we take very seriously. To learn more about how we work with these matters, please read our privacy policy: http://tocaboca.com/privacy</td>\n      <td>133</td>\n    </tr>\n    <tr>\n      <th>com.tocaboca.tocamysteryhouse</th>\n      <td>Play with the strange</td>\n      <td>There’s a strange house on a strange street in a strange part of town. Most people are scared of it, but I want to sneak inside.\\r\\n\\r\\nThere are so many rumors, I don’t know what to believe\\r\\n\\r\\nSome kids say the top floor glows at night and that crazy aliens live up there. Some say that strange experiments are going on in the living room. One kid I know absolutely swears they heard weird music coming from the basement. Can a house sing? I’ve also talked to kids who say the entire kitchen is covered in slime. Even my best friend, who never believes anything, told me the house is alive!\\r\\n\\r\\nI had to see for myself\\r\\n\\r\\nI did, I swear. I peeked inside last week. First, I made sure no one was around. Then I got on my tiptoes and spied in the kitchen window. I saw just the edge of the fridge. I think I saw some kind of gooshy red stuff oozing out of it, but I’m not really sure. Then I heard creepy rumbling sounds coming from the basement. It totally freaked me out and yup, I admit it, I sprinted all the way home.\\r\\n\\r\\nBut I’m just so curious, I can’t help myself. I think I’ll be going back. I want to go inside. I could really use a partner, though. Seriously, will you come with me?\\r\\n\\r\\n\\r\\nAbout Us:\\r\\nAt Toca Boca, we believe in the power of play to spark kids’ imaginations and help them learn about the world. We design our products from the kids' perspective to empower kids to be playful, to be creative and to be who they want to be. Our products include award-winning apps that have been downloaded more than 200 million times in 215 countries and offer fun, safe, open-ended play experiences. Learn more about Toca Boca and our products at tocaboca.com.\\r\\n\\r\\nPrivacy Policy:\\r\\nPrivacy is an issue that we take very seriously. To learn more about how we work with these matters, please read our privacy policy: https://tocaboca.com/privacy</td>\n      <td>133</td>\n    </tr>\n    <tr>\n      <th>com.tocaboca.blocks</th>\n      <td>Toca Blocks is a unique world-building app.</td>\n      <td>Toca Blocks is a unique world-building app that lets you create worlds, play in them and share them with friends. Where will your imagination take you?\\r\\n\\r\\nBUILD\\r\\nConstruct worlds and fill them with your own adventurous paths. Craft detailed obstacle courses, intricate race tracks or floating islands. Meet the characters and discover their unique abilities as you take them through your world.\\r\\n\\r\\nMAKE\\r\\nExplore the blocks’ attributes by merging blocks together to transform them into something else. Learn their characteristics — some are bouncy, some are sticky, some turn into beds, diamonds or other surprises! Combine blocks to change their color and pattern and give your design that magical feel. The more you learn about the blocks, the more inspiration for your creations you will find!\\r\\n\\r\\nSNAP, SHARE AND IMPORT\\r\\nSave and share all the great work you’ve put into your worlds. Use the camera function to snap a photo. Share unique Blocks codes with family and friends so they can import your world and explore it themselves! Or import your friends’ worlds and make them part of your own!\\r\\n\\r\\nFEATURES\\r\\n- Combine blocks to create new materials and patterns!\\r\\n- Build with 60+ quirky items\\r\\n- Create as many worlds as you want — there’s no limit!\\r\\n- Snap photos of your work and share their unique Blocks codes so friends and family can import your world.\\r\\n- Get codes from others and import their worlds into your own!\\r\\n- Meet the heroes and discover their superpowers.\\r\\n- Remove blocks with the eraser head.\\r\\n- Use the pencil tool to help you create many blocks in one go!\\r\\n- Open gameplay with no rules or stress\\r\\n- Kid-friendly interface\\r\\n- No thirdparty advertising\\r\\n\\r\\n\\r\\n***\\r\\n\\r\\nABOUT TOCA BOCA\\r\\nAt Toca Boca, we believe in the power of play to spark kids’ imaginations and help them learn about the world. We design our products from the kids' perspective to empower kids to be playful, to be creative and to be who they want to be. Our products include award-winning apps that have been downloaded more than 130 million times in 215 countries and offer fun, safe, open-ended play experiences. Learn more about Toca Boca and our products at tocaboca.com.\\r\\n\\r\\nPRIVACY POLICY\\r\\nPrivacy is an issue that we take very seriously. To learn more about how we work with these matters, please read our privacy policy: http://tocaboca.com/privacy</td>\n      <td>133</td>\n    </tr>\n    <tr>\n      <th>com.tocaboca.tocatrain</th>\n      <td>Explore as you drive the train</td>\n      <td>All aboard? Time to get on Toca Train! Your kids are the train driver in this fun and friendly train simulator. The controls are intuitive and there are no written instructions. Just pull the levers, push the buttons and start exploring the island with your train! \\r\\n\\r\\nFEATURES \\r\\n- Steam train with sounds, smoke, whistle, sparks and speed lever \\r\\n- Load and unload characters and cargo \\r\\n- Change camera angle by swiping and pinching \\r\\n- Delightful scenery with 6 stations \\r\\n- No rules or stress - play any way your kids want to! \\r\\n- Kid-friendly interface! \\r\\n- No third-party advertising \\r\\n- No in-app purchases \\r\\n\\r\\nToca Train is not a game - it's a toy where you and your kids decide what you want to do. Where do passengers want to get off? At what stop should you unload the crate of pears? Your kids imagination is the only limitation! Just like a toy train set. \\r\\n\\r\\nToca Train is suitable for kids between 3-7 years old. \\r\\n\\r\\nAs with all Toca Boca toys, there are no high scores, time limits or stressful music. Your kids can play with it however they want! \\r\\n\\r\\nABOUT TOCA BOCA \\r\\nToca Boca is a game studio that makes digital toys for kids. We think playing and having fun is the best way to learn about the world. Therefore we make digital toys and games that help stimulate the imagination, and that you can play together with your kids. Best of all - we do it in a safe way without third-party advertising or in-app purchases. \\r\\n\\r\\nPrivacy Policy \\r\\nPrivacy is an issue that we take very seriously. To learn more about how we work with these matters, please read our privacy policy: http://tocaboca.com/privacy</td>\n      <td>133</td>\n    </tr>\n    <tr>\n      <th>SAND STUDIO</th>\n      <th>com.sand.airdroid</th>\n      <td>Transfer files, SMS and access your phone from a computer remotely, for free!</td>\n      <td>★★★Delight Your Multi-Screen Life★★★\\r\\nAirDroid is your best mobile management suite, it enables you to transfer files across different platforms, mirror and remote control mobile devices, receive and reply to messages on the computer. AirDroid can help you to fully control and manage the device directly from the PC or even the Web wirelessly.\\r\\n\\r\\n&lt;b&gt;Major features:&lt;/b&gt;\\r\\n&lt;b&gt;1. Files Transfer&lt;/b&gt;\\r\\n- AirDroid supports transferring all kinds of files across different platforms like Windows, Mac, Linux, and mobile devices, on the same network and even remotely.\\r\\n- Send music, video, photo, gif, APK, link, and all kinds of files you would like to transfer.\\r\\n&lt;b&gt;2. Screen Mirroring&lt;/b&gt;\\r\\nYou can mirror your android devices to pc wirelessly, so that you can share your screen with your students or partners. You can also stream your broadcast with AirDroid, to share your games or pictures to your audience more efficiently.\\r\\n&lt;b&gt;3. Remote Control Android device&lt;/b&gt;\\r\\nYou can take full control of your Android devices, without rooting your devices, just need to connect to the AirDroid PC client for a fast setting. You can do whatever you want to do on your Android devices remotely, ex, play games, open an app, check the phone status.\\r\\nIf you need to remote control an Android device from another Android device, you need to download AirMirror for controller device.\\r\\n&lt;b&gt;4. Remote Camera&lt;/b&gt;\\r\\nThe feature can help you see through the lens of both front and back cameras, monitor the environment around the device in real-time.\\r\\n&lt;b&gt;5. SMS &amp; Contacts management&lt;/b&gt;\\r\\n- Receive, reply, and send SMS messages via AirDroid.\\r\\n- Managing messages and contact stored on your phone.\\r\\n&lt;b&gt;6. Notification Mirror&lt;/b&gt;\\r\\nMirror phone notifications from any allowed apps to your computer. Reply to mobile messages (WhatsApp, Facebook Messenger, Telegram, Line, and Kik) from desktop clients.\\r\\n&lt;b&gt;7. Make calls on PC&lt;/b&gt;\\r\\nYou can import phone numbers in bulk directly on the AirDroid desktop client, click to call and talk to your customers or friends through the handset or Bluetooth headset of the phone. AirDroid helps you avoids the trouble of manually entering phone numbers on mobile phones and possible errors, and improves your efficiency.\\r\\n&lt;b&gt;8. Backup &amp; Sync&lt;/b&gt;\\r\\nYou can Backup photos and videos auto from phone to computer.\\r\\n&lt;b&gt;9. Find Phone&lt;/b&gt;\\r\\nwhen your device is lost, you can track your device, issue a lock request, or erase your device after enabled Find Phone, in case strangers access your personal data.\\r\\n*AirDroid will use location in the background to show your devices' location in real-time when you use the 'Find Phone' feature on web.airdroid.com\\r\\n&lt;b&gt;10. Manage your files on web.airdroid.com&lt;/b&gt;\\r\\nManage photos, ringtones, and videos, upload, install and uninstall APKs remotely\\r\\n\\r\\n&lt;b&gt;FAQs:&lt;/b&gt;\\r\\nQ: How to start using AirDroid?\\r\\nA:  AirDroid Personal has many fantastic features like File Transfer, Remote Control, Screen mirroring, Remote Camera, SMS, and File Management. To enjoy all the features, you need to install the AirDroid desktop client or using web.airdroid.com directly.\\r\\n\\r\\nQ: Do I have to register an account to use AirDroid?\\r\\nA:  With an AirDroid Personal account, you can enjoy all the features under the local and remote connection. If you don't want to register, you can use AirDroid under the same wifi with limited features.\\r\\n\\r\\nQ: Does AirDroid free to use?\\r\\nA: You can use AirDroid for free under the local area network. When running under a non-local network, the free account has a 200MB/month data limit and cannot use the remote camera. We recommend that you upgrade to premium to enjoy unlimited remote data and unlock all functions and services.\\r\\n\\r\\nConnect with our team\\r\\nHelp Center: https://help.airdroid.com/\\r\\nTwitter: https://twitter.com/AirDroidTeam\\r\\nFacebook: https://facebook.com/AirDroid\\r\\n\\r\\nWe may not be able to respond to each message, but we do read all of them. Thank you!</td>\n      <td>0</td>\n    </tr>\n    <tr>\n      <th>Nick Thissen</th>\n      <th>nl.nickthissen.iracingforum3</th>\n      <td>Comfortably browse the iRacing.com forums with this dedicated app!</td>\n      <td>The iR Forum app allows you to access the iRacing forums in a much better way than a mobile browser. Browsing the forums on a mobile browser is found extremely tedious by most people, the pages don't scale well on small screens and links are hard to click, not to mention you constantly have to re-login after a short while. \\r\\n\\r\\nThis app provides a dedicated way to read and write on the forums and even adds some features not available on the forums themselves (such as Favorite threads). \\r\\n\\r\\nThe iR Forum app is iteration 3.0 and has been completely rebuilt from the ground up. It uses the latest Android technologies ensuring much better performance, better integration with recent Android Material Design and just a better experience in general. On top of that, the new app comes with a lot of new features and has been designed from the start to function flawlessly even across flaky internet connections and a (excuse me) rather buggy forum. \\r\\n\\r\\nNew features include:\\r\\n- Login status is automatically refreshed when required, you can continue where you left off seamlessly even after hours of inactivity. \\r\\n- Page loading speed has improved dramatically. On fast internet, average loading times have decreased from ~4 seconds to ~0.5 seconds. \\r\\n- Search the forums with the new search function. \\r\\n- Choose your own theme color including a dark theme for night time reading. \\r\\n- Simple bbcode editor for posting including simple ways to embed images, links and YouTube videos (automatically formatted correctly!). \\r\\n- Post drafts &amp; history - posts are saved even if you don't finish them, so you can come back to finish them later. \\r\\n- Downloading attachments and better handling of images in posts. \\r\\n\\r\\n\\r\\nNOTE: this app can be used exclusively by active iRacing.com members, you can NOT access the iRacing forums without an active account.</td>\n      <td>19</td>\n    </tr>\n    <tr>\n      <th rowspan=\"2\" valign=\"top\">B-hyve</th>\n      <th>com.orbit.orbitsmarthome</th>\n      <td>Companion app for Orbit bhyve sprinkler timer.</td>\n      <td>The bhvye smart sprinkler timer app allows you to control or monitor your sprinklers from anywhere in the world with the convenience of your smart device. \\r\\n Smart Watering\\r\\nKnowing how long and how often to water your plants can be challenging.  When set to smart watering mode, b-hyve takes the guesswork out of watering and utilizes Mother Nature, along with some really great technology, to determine the watering schedule for your yard.  When set and left in smart watering mode, b-hyve can save users as much as 50% more water over a traditional controller. \\r\\n\\r\\n Weather\\r\\n\\r\\nWhen set in smart mode, b-hyve uses local weather data to determine how much water is evaporated and transpired through your plants each day to know when it needs to water.  It also accounts for any rainfall that is in the forecast, shuts off the system for rain, then looks back to see how much actually fell.  That’s smart!  But all yards are not the same.  B-hyve also takes into account things like soil type, plant type, sun/shade and slope to determine a watering schedule that takes the water to the roots and helps avoid runoff. \\r\\n\\r\\n WeatherSense\\r\\n\\r\\nIf you want to be the one in control of the schedule, that’s okay too.  With b-hyve you can set custom programs to water how you want while still taking advantage of the local weather data to override watering in case of a weather event.  This will shut off your system during the rain and resume your program when the rain has passed.  That’s smart!\\r\\n\\r\\nIntegrated Irrigation Audit Tool\\r\\n\\r\\nThe b-hyve app also integrates the award-winning irrigation audit tool right to your smart device.  By performing a catch cup test on your sprinkler system, you will know exactly how much water is being applied rather than relying on estimated sprinkler head water use that other timers/apps use, which can be off by as much as 50%, saving you more water and money.   \\r\\n\\r\\nThis is the app for the best-selling, WaterSense and SWAT certified Orbit B-hyve Smart Wifi Sprinkler Timer.  This is also the companion app for homeowners to the Hydro-Rain B-hyve Pro Wifi Controller. \\r\\nPlease let us know if you have questions or problems.\\r\\n\\r\\nALEXA – Works with Alexa.  For a list of Alexa commands visit http://help.orbitbhyve.com/Alexa-Commands/\\r\\n\\r\\nGOOGLE HOME– Works with Google Home.  For a list of Google Home commands visit http://help.orbitbhyve.com/Google-Commands/\\r\\n\\r\\n\\r\\nBhyve.orbitonline.com\\r\\n800-488-6156\\r\\nsupport@orbitbhyve.com</td>\n      <td>19</td>\n    </tr>\n    <tr>\n      <th>com.orbit.orbitsmarthome.pro</th>\n      <td>B-hyve Pro App for landscape irrigation professionals</td>\n      <td>The b·hyve Pro App provides landscape irrigation professionals with an easy way to manage and operate b·hyve Pro controllers from anywhere with the convenience of a smart phone or tablet.  With the intuitive layout and design of the app, it is fast and easy to connect to any b·hyve Pro controller through WiFi or, if WiFi is not available, directly through Bluetooth right at the timer location.  Once connected to WiFi, b·hyve can be set up in smart mode to assist in delivering the right amount of water to plants, saving clients water and money.\\r\\nThis is the companion App for award-winning b·hyve Pro irrigation controllers. Homeowners can download the non-Pro version of the b·hyve App at no charge.\\r\\n\\r\\n***KEY FEATURES***\\r\\nWIFI and BLUETOOTH – Because WiFi is not always available on a job site, the b·hyve app and controller allow you to set up and operate the controller using Bluetooth. Once a WiFi connection is established at a site, the owner of the WiFi router can provide a permission code that enables off-site management of the controller from anywhere in the world.\\r\\n\\r\\nEPA- AND SWAT-CERTIFIED – Having passed the rigorous EPA WaterSense and SWAT certifications, the b·hyve Pro Controller with Smart Watering is certified to use water more efficiently and is eligible for rebates in many cities or water districts across the country.\\r\\n\\r\\nFLEXIBLE SCHEDULING – You can set the controller to water in two basic ways: 1) on a fixed schedule, such as during a new landscape grow-in period; 2) with Smart Watering, and let local weather conditions determine the schedule.\\r\\n\\r\\nMULTI-SITE MANAGEMENT – You can manage and control an unlimited number of b·hyve controllers from the convenience of one application.  Once the timer is connected to the Internet, secure access can be shared in a number of different combinations using an app-generated code.\\r\\n\\r\\nCATCH CUPS – With various water savings options integrated right into the app, there are multiple ways to achieve optimum water savings with the b·hyve Pro Timer.  In addition to Smart Watering, it incorporates the award-winning catch-cup feature right into the app to deliver up to 25% more water savings over other smart controllers.\\r\\n\\r\\nALEXA – Works with Alexa.  For a list of Alexa commands visit bhyve.hydrorain.com.</td>\n      <td>19</td>\n    </tr>\n    <tr>\n      <th>Billiard Ball Game</th>\n      <th>com.dcoc.wordmatrix.android.en</th>\n      <td>Train Your Brain With Words</td>\n      <td>Word Matrix is a UNIQUE and FREE word game that mixes all the things you love about letter-tile games and puzzle games. Drag letter tiles and make high-scoring words in your tray -- but every move you make has a totally different strategy and goal. \\r\\n\\r\\nEvery level has a matrix of letter tiles, but you can only use the bottom-most set. As you successfully form words, more tiles become uncovered and available to play (the color will change from grey to orange), keeping the gameplay emergent and interesting. Every letter tile has a score on it, and longer words earn you bigger multipliers. Get the right words with the right letters to reach the total score demanded of every level.\\r\\n\\r\\nAlong the way, you’ll discover amazing power-boosts that can change the shape of each level. There’s the Rocket and Bomb to blow your neighbors away, the Hammer to knock out peksy tiles, the Flipper to turn your whole matrix upside down, and the awesome Golden Wrench which lets you pick any tile as your first letter. Every power-up has the magic to help you clear even the toughest of levels.\\r\\n\\r\\nYou’ll need a deep vocabulary and keen ability to make your way through the matrix if you want to maximize your score. \\r\\n\\r\\nJoin Felix the Fox in his journey trying to understand oddities of the forest, working his way through surreal lands encompassing the world of the matrix. You and Felix can use your spelling skills to unlock the creative power of language and lift the veil on the very fabric of reality. I know... Deep!\\r\\n\\r\\n● Over 200 levels, each with a different twist!\\r\\n● Plenty of free Hints!\\r\\n● Unlock cool boosters such as the Blank Tile to act as a wildcard.\\r\\n● Or the Shuffle to shake things up!\\r\\n● Easy to learn but very tough to master.\\r\\n● See how you compare to your Facebook friends!\\r\\n● No timers — play at your own speed.\\r\\n● Use your own style: Often, a well-chosen short word is superior to a long word!\\r\\n\\r\\nIf you have any suggestions, please give us feedback by email, we sincerely and seriously appreciate it. We are aiming to bring you the best word game experience, enrich your leisure time and keep your brain sharp.\\r\\n\\r\\nWord matrix is free to play, but in-app purchases are available to help you.\\r\\n\\r\\nThere’s really only one question: Are YOU ready to enter the word matrix?</td>\n      <td>144</td>\n    </tr>\n  </tbody>\n</table>\n</div>"
     },
     "execution_count": 50,
     "metadata": {},
     "output_type": "execute_result"
    }
   ],
   "source": [
    "result_df.loc[['Toca Boca', 'SAND STUDIO', 'Nick Thissen', 'B-hyve', 'Billiard Ball Game'],\n",
    "              ['summary_202102', 'description_202102', 'predicted_labels']]"
   ],
   "metadata": {
    "collapsed": false,
    "pycharm": {
     "name": "#%%\n"
    }
   }
  },
  {
   "cell_type": "code",
   "execution_count": null,
   "outputs": [],
   "source": [],
   "metadata": {
    "collapsed": false,
    "pycharm": {
     "name": "#%%\n"
    }
   }
  }
 ],
 "metadata": {
  "kernelspec": {
   "display_name": "Python 3",
   "language": "python",
   "name": "python3"
  },
  "language_info": {
   "codemirror_mode": {
    "name": "ipython",
    "version": 2
   },
   "file_extension": ".py",
   "mimetype": "text/x-python",
   "name": "python",
   "nbconvert_exporter": "python",
   "pygments_lexer": "ipython2",
   "version": "2.7.6"
  }
 },
 "nbformat": 4,
 "nbformat_minor": 0
}