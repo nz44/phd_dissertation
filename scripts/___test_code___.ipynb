{
 "cells": [
  {
   "cell_type": "markdown",
   "source": [
    "# Test Block for Regression"
   ],
   "metadata": {
    "collapsed": false
   }
  },
  {
   "cell_type": "code",
   "execution_count": 1,
   "outputs": [],
   "source": [
    "%run -i 'STEP0_paths_open_save.py'\n",
    "%run -i 'STEP4_Regression.py'\n",
    "\n",
    "initial_panel='201907'\n",
    "all_panels = ['201907',\n",
    "              '201908',\n",
    "              '201909',\n",
    "              '201912',\n",
    "              '202001',\n",
    "              '202003',\n",
    "              '202004',\n",
    "              '202009',\n",
    "              '202010',\n",
    "              '202011',\n",
    "              '202012',\n",
    "              '202101',\n",
    "              '202102',\n",
    "              '202103']\n",
    "consec_panels = ['202009', '202010', '202011', '202012', '202101', '202102',\n",
    "                 '202103']\n",
    "\n",
    "o = open_files(initial_panel=initial_panel)\n",
    "DFA = o.open_panel_df(name='imputed_and_deleted_missing')\n",
    "DFD = o.open_panel_df(name='dev_index_geocoded')\n",
    "DFL = o.open_panel_df(name='niche_labels_combined_panels')"
   ],
   "metadata": {
    "collapsed": false,
    "pycharm": {
     "name": "#%%\n"
    }
   }
  },
  {
   "cell_type": "code",
   "execution_count": 2,
   "outputs": [],
   "source": [
    "%run -i 'STEP0_paths_open_save.py'\n",
    "%run -i 'STEP4_Regression.py'\n",
    "\n",
    "new_class_obj = combine_dataframes(\n",
    "                 initial_panel=initial_panel,\n",
    "                 all_panels=all_panels,\n",
    "                 consec_panels=consec_panels,\n",
    "                 appid_imputed_and_deleted_missing_df=DFA,\n",
    "                 dev_index_gecoded_df=DFD,\n",
    "                 appid_text_cluster_labeled_df=DFL)\n",
    "\n",
    "df = new_class_obj.combine_imputed_deleted_missing_with_text_labels()\n",
    "\n",
    "reg_class_obj = regression_analysis(\n",
    "    df=df,\n",
    "    initial_panel=initial_panel,\n",
    "    consec_panels=consec_panels)"
   ],
   "metadata": {
    "collapsed": false,
    "pycharm": {
     "name": "#%%\n"
    }
   }
  },
  {
   "cell_type": "markdown",
   "source": [
    "03/14/21 </br>\n",
    "I need to remove ratings because reviews and ratings are highly correlated, 0.98\n",
    "which results in multicolinearity.\n"
   ],
   "metadata": {
    "collapsed": false,
    "pycharm": {
     "name": "#%% md\n"
    }
   }
  },
  {
   "cell_type": "code",
   "execution_count": 3,
   "outputs": [],
   "source": [
    "# dependent variable is containsAdsTrue\n",
    "time_variant_vars = ['score',\n",
    "                        'ZSCOREreviews',\n",
    "                        'minInstallsTop',\n",
    "                        'minInstallsMiddle']\n",
    "demaned_time_variant_vars = ['DeMeanedscore',\n",
    "                        'DeMeanedZSCOREreviews',\n",
    "                        'DeMeanedminInstallsTop',\n",
    "                        'DeMeanedminInstallsMiddle']\n",
    "time_invariant_vars = ['niche_app',\n",
    "                       'genreIdGame',\n",
    "                       'contentRatingAdult',\n",
    "                       'days_since_released']\n",
    "dep_vars = ['paidTrue', 'offersIAPTrue', 'containsAdsTrue', 'price']\n",
    "reg_types = ['POOLED_OLS']"
   ],
   "metadata": {
    "collapsed": false,
    "pycharm": {
     "name": "#%%\n"
    }
   }
  },
  {
   "cell_type": "code",
   "execution_count": 4,
   "outputs": [
    {
     "name": "stdout",
     "output_type": "stream",
     "text": [
      "before standardization:\n",
      "reviews_202009\n",
      "count    9.776000e+03\n",
      "mean     7.827094e+04\n",
      "std      5.439244e+05\n",
      "min      0.000000e+00\n",
      "25%      2.950000e+02\n",
      "50%      3.119000e+03\n",
      "75%      2.383850e+04\n",
      "max      2.951514e+07\n",
      "Name: reviews_202009, dtype: float64\n",
      "\n",
      "reviews_202010\n",
      "count    9.776000e+03\n",
      "mean     7.933480e+04\n",
      "std      5.519371e+05\n",
      "min      0.000000e+00\n",
      "25%      3.000000e+02\n",
      "50%      3.183500e+03\n",
      "75%      2.422675e+04\n",
      "max      3.023292e+07\n",
      "Name: reviews_202010, dtype: float64\n",
      "\n",
      "reviews_202011\n",
      "count    9.776000e+03\n",
      "mean     8.065345e+04\n",
      "std      5.625741e+05\n",
      "min      0.000000e+00\n",
      "25%      3.050000e+02\n",
      "50%      3.256500e+03\n",
      "75%      2.470575e+04\n",
      "max      3.119757e+07\n",
      "Name: reviews_202011, dtype: float64\n",
      "\n",
      "reviews_202012\n",
      "count    9.776000e+03\n",
      "mean     8.208672e+04\n",
      "std      5.744714e+05\n",
      "min      0.000000e+00\n",
      "25%      3.110000e+02\n",
      "50%      3.313500e+03\n",
      "75%      2.519250e+04\n",
      "max      3.231515e+07\n",
      "Name: reviews_202012, dtype: float64\n",
      "\n",
      "reviews_202101\n",
      "count    9.776000e+03\n",
      "mean     8.314799e+04\n",
      "std      5.844679e+05\n",
      "min      0.000000e+00\n",
      "25%      3.130000e+02\n",
      "50%      3.338500e+03\n",
      "75%      2.524925e+04\n",
      "max      3.316892e+07\n",
      "Name: reviews_202101, dtype: float64\n",
      "\n",
      "reviews_202102\n",
      "count    9.776000e+03\n",
      "mean     8.436252e+04\n",
      "std      5.932914e+05\n",
      "min      0.000000e+00\n",
      "25%      3.200000e+02\n",
      "50%      3.378500e+03\n",
      "75%      2.579550e+04\n",
      "max      3.389803e+07\n",
      "Name: reviews_202102, dtype: float64\n",
      "\n",
      "reviews_202103\n",
      "count    9.776000e+03\n",
      "mean     7.885769e+04\n",
      "std      4.865986e+05\n",
      "min      0.000000e+00\n",
      "25%      3.020000e+02\n",
      "50%      3.244000e+03\n",
      "75%      2.470350e+04\n",
      "max      2.211318e+07\n",
      "Name: reviews_202103, dtype: float64\n",
      "\n",
      "after standardization:\n",
      "ZSCOREreviews_202009\n",
      "count    9.776000e+03\n",
      "mean    -4.360942e-18\n",
      "std      1.000051e+00\n",
      "min     -1.439078e-01\n",
      "25%     -1.433654e-01\n",
      "50%     -1.381732e-01\n",
      "75%     -1.000787e-01\n",
      "max      5.412217e+01\n",
      "Name: ZSCOREreviews_202009, dtype: float64\n",
      "\n",
      "ZSCOREreviews_202010\n",
      "count    9.776000e+03\n",
      "mean    -7.268236e-18\n",
      "std      1.000051e+00\n",
      "min     -1.437462e-01\n",
      "25%     -1.432026e-01\n",
      "50%     -1.379780e-01\n",
      "75%     -9.984992e-02\n",
      "max      5.463508e+01\n",
      "Name: ZSCOREreviews_202010, dtype: float64\n",
      "\n",
      "ZSCOREreviews_202011\n",
      "count    9.776000e+03\n",
      "mean     2.035106e-17\n",
      "std      1.000051e+00\n",
      "min     -1.433724e-01\n",
      "25%     -1.428302e-01\n",
      "50%     -1.375835e-01\n",
      "75%     -9.945457e-02\n",
      "max      5.531451e+01\n",
      "Name: ZSCOREreviews_202011, dtype: float64\n",
      "\n",
      "ZSCOREreviews_202012\n",
      "count    9.776000e+03\n",
      "mean    -1.453647e-18\n",
      "std      1.000051e+00\n",
      "min     -1.428982e-01\n",
      "25%     -1.423568e-01\n",
      "50%     -1.371300e-01\n",
      "75%     -9.904257e-02\n",
      "max      5.611195e+01\n",
      "Name: ZSCOREreviews_202012, dtype: float64\n",
      "\n",
      "ZSCOREreviews_202101\n",
      "count    9.776000e+03\n",
      "mean    -1.162918e-17\n",
      "std      1.000051e+00\n",
      "min     -1.422700e-01\n",
      "25%     -1.417344e-01\n",
      "50%     -1.365577e-01\n",
      "75%     -9.906738e-02\n",
      "max      5.661127e+01\n",
      "Name: ZSCOREreviews_202101, dtype: float64\n",
      "\n",
      "ZSCOREreviews_202102\n",
      "count    9.776000e+03\n",
      "mean    -8.721883e-18\n",
      "std      1.000051e+00\n",
      "min     -1.422014e-01\n",
      "25%     -1.416620e-01\n",
      "50%     -1.365066e-01\n",
      "75%     -9.872050e-02\n",
      "max      5.699628e+01\n",
      "Name: ZSCOREreviews_202102, dtype: float64\n",
      "\n",
      "ZSCOREreviews_202103\n",
      "count    9.776000e+03\n",
      "mean     2.035106e-17\n",
      "std      1.000051e+00\n",
      "min     -1.620673e-01\n",
      "25%     -1.614466e-01\n",
      "50%     -1.554003e-01\n",
      "75%     -1.112970e-01\n",
      "max      4.528466e+01\n",
      "Name: ZSCOREreviews_202103, dtype: float64\n",
      "\n"
     ]
    },
    {
     "ename": "KeyError",
     "evalue": "\"['days_since_released'] not in index\"",
     "output_type": "error",
     "traceback": [
      "\u001B[0;31m---------------------------------------------------------------------------\u001B[0m",
      "\u001B[0;31mKeyError\u001B[0m                                  Traceback (most recent call last)",
      "\u001B[0;32m~/Insync/naixin88@sina.cn/OneDrive/__CODING__/PycharmProjects/GOOGLE_PLAY/scripts/STEP4_Regression.py\u001B[0m in \u001B[0;36m<module>\u001B[0;34m\u001B[0m\n\u001B[0;32m----> 1\u001B[0;31m d1 = reg_class_obj.create_new_dummies_from_cat_var(\n\u001B[0m\u001B[1;32m      2\u001B[0m     \u001B[0mcat_var\u001B[0m\u001B[0;34m=\u001B[0m\u001B[0;34m'free'\u001B[0m\u001B[0;34m)\u001B[0m\u001B[0;34m.\u001B[0m\u001B[0mcreate_new_dummies_from_cat_var\u001B[0m\u001B[0;34m(\u001B[0m\u001B[0;34m\u001B[0m\u001B[0;34m\u001B[0m\u001B[0m\n\u001B[1;32m      3\u001B[0m     \u001B[0mcat_var\u001B[0m\u001B[0;34m=\u001B[0m\u001B[0;34m'containsAds'\u001B[0m\u001B[0;34m)\u001B[0m\u001B[0;34m.\u001B[0m\u001B[0mcreate_new_dummies_from_cat_var\u001B[0m\u001B[0;34m(\u001B[0m\u001B[0;34m\u001B[0m\u001B[0;34m\u001B[0m\u001B[0m\n\u001B[1;32m      4\u001B[0m     \u001B[0mcat_var\u001B[0m\u001B[0;34m=\u001B[0m\u001B[0;34m'offersIAP'\u001B[0m\u001B[0;34m)\u001B[0m\u001B[0;34m.\u001B[0m\u001B[0mcreate_new_dummies_from_cat_var\u001B[0m\u001B[0;34m(\u001B[0m\u001B[0;34m\u001B[0m\u001B[0;34m\u001B[0m\u001B[0m\n\u001B[1;32m      5\u001B[0m     \u001B[0mcat_var\u001B[0m\u001B[0;34m=\u001B[0m\u001B[0;34m'minInstalls'\u001B[0m\u001B[0;34m)\u001B[0m\u001B[0;34m.\u001B[0m\u001B[0mcreate_new_dummies_from_cat_var\u001B[0m\u001B[0;34m(\u001B[0m\u001B[0;34m\u001B[0m\u001B[0;34m\u001B[0m\u001B[0m\n",
      "\u001B[0;32m~/Insync/naixin88@sina.cn/OneDrive/__CODING__/PycharmProjects/GOOGLE_PLAY/scripts/STEP4_Regression.py\u001B[0m in \u001B[0;36mconvert_df_from_wide_to_long\u001B[0;34m(self, time_variant_vars, time_invariant_vars, dep_vars, demaned_time_variant_vars)\u001B[0m\n\u001B[1;32m    274\u001B[0m \u001B[0;34m\u001B[0m\u001B[0m\n\u001B[1;32m    275\u001B[0m     \u001B[0;32mdef\u001B[0m \u001B[0mconvert_df_from_wide_to_long\u001B[0m\u001B[0;34m(\u001B[0m\u001B[0mself\u001B[0m\u001B[0;34m,\u001B[0m \u001B[0mtime_variant_vars\u001B[0m\u001B[0;34m,\u001B[0m \u001B[0mtime_invariant_vars\u001B[0m\u001B[0;34m,\u001B[0m \u001B[0mdep_vars\u001B[0m\u001B[0;34m,\u001B[0m \u001B[0mdemaned_time_variant_vars\u001B[0m\u001B[0;34m=\u001B[0m\u001B[0;32mNone\u001B[0m\u001B[0;34m)\u001B[0m\u001B[0;34m:\u001B[0m\u001B[0;34m\u001B[0m\u001B[0;34m\u001B[0m\u001B[0m\n\u001B[0;32m--> 276\u001B[0;31m         \u001B[0mnew_df\u001B[0m \u001B[0;34m=\u001B[0m \u001B[0mself\u001B[0m\u001B[0;34m.\u001B[0m\u001B[0mselect_panel_vars\u001B[0m\u001B[0;34m(\u001B[0m\u001B[0mtime_invariant_vars\u001B[0m\u001B[0;34m,\u001B[0m \u001B[0mtime_variant_vars\u001B[0m\u001B[0;34m,\u001B[0m \u001B[0mdep_vars\u001B[0m\u001B[0;34m,\u001B[0m \u001B[0mdemaned_time_variant_vars\u001B[0m\u001B[0;34m)\u001B[0m\u001B[0;34m\u001B[0m\u001B[0;34m\u001B[0m\u001B[0m\n\u001B[0m\u001B[1;32m    277\u001B[0m         \u001B[0mnew_df\u001B[0m \u001B[0;34m=\u001B[0m \u001B[0mnew_df\u001B[0m\u001B[0;34m.\u001B[0m\u001B[0mreset_index\u001B[0m\u001B[0;34m(\u001B[0m\u001B[0;34m)\u001B[0m\u001B[0;34m\u001B[0m\u001B[0;34m\u001B[0m\u001B[0m\n\u001B[1;32m    278\u001B[0m         \u001B[0mstub_names\u001B[0m \u001B[0;34m=\u001B[0m \u001B[0mcopy\u001B[0m\u001B[0;34m.\u001B[0m\u001B[0mdeepcopy\u001B[0m\u001B[0;34m(\u001B[0m\u001B[0mtime_variant_vars\u001B[0m\u001B[0;34m)\u001B[0m\u001B[0;34m\u001B[0m\u001B[0;34m\u001B[0m\u001B[0m\n",
      "\u001B[0;32m~/Insync/naixin88@sina.cn/OneDrive/__CODING__/PycharmProjects/GOOGLE_PLAY/scripts/STEP4_Regression.py\u001B[0m in \u001B[0;36mselect_panel_vars\u001B[0;34m(self, time_invariant_vars, time_variant_vars, dep_vars, demaned_time_variant_vars)\u001B[0m\n\u001B[1;32m    259\u001B[0m         \u001B[0mvars\u001B[0m\u001B[0;34m.\u001B[0m\u001B[0mextend\u001B[0m\u001B[0;34m(\u001B[0m\u001B[0mvars_2\u001B[0m\u001B[0;34m)\u001B[0m\u001B[0;34m\u001B[0m\u001B[0;34m\u001B[0m\u001B[0m\n\u001B[1;32m    260\u001B[0m         \u001B[0mnew_df\u001B[0m \u001B[0;34m=\u001B[0m \u001B[0mself\u001B[0m\u001B[0;34m.\u001B[0m\u001B[0mdf\u001B[0m\u001B[0;34m.\u001B[0m\u001B[0mcopy\u001B[0m\u001B[0;34m(\u001B[0m\u001B[0mdeep\u001B[0m\u001B[0;34m=\u001B[0m\u001B[0;32mTrue\u001B[0m\u001B[0;34m)\u001B[0m\u001B[0;34m\u001B[0m\u001B[0;34m\u001B[0m\u001B[0m\n\u001B[0;32m--> 261\u001B[0;31m         \u001B[0mnew_df\u001B[0m \u001B[0;34m=\u001B[0m \u001B[0mnew_df\u001B[0m\u001B[0;34m[\u001B[0m\u001B[0mvars\u001B[0m\u001B[0;34m]\u001B[0m\u001B[0;34m\u001B[0m\u001B[0;34m\u001B[0m\u001B[0m\n\u001B[0m\u001B[1;32m    262\u001B[0m         \u001B[0;32mreturn\u001B[0m \u001B[0mnew_df\u001B[0m\u001B[0;34m\u001B[0m\u001B[0;34m\u001B[0m\u001B[0m\n\u001B[1;32m    263\u001B[0m \u001B[0;34m\u001B[0m\u001B[0m\n",
      "\u001B[0;32m~/anaconda3/envs/GOOGLE_PLAY/lib/python3.8/site-packages/pandas/core/frame.py\u001B[0m in \u001B[0;36m__getitem__\u001B[0;34m(self, key)\u001B[0m\n\u001B[1;32m   3028\u001B[0m             \u001B[0;32mif\u001B[0m \u001B[0mis_iterator\u001B[0m\u001B[0;34m(\u001B[0m\u001B[0mkey\u001B[0m\u001B[0;34m)\u001B[0m\u001B[0;34m:\u001B[0m\u001B[0;34m\u001B[0m\u001B[0;34m\u001B[0m\u001B[0m\n\u001B[1;32m   3029\u001B[0m                 \u001B[0mkey\u001B[0m \u001B[0;34m=\u001B[0m \u001B[0mlist\u001B[0m\u001B[0;34m(\u001B[0m\u001B[0mkey\u001B[0m\u001B[0;34m)\u001B[0m\u001B[0;34m\u001B[0m\u001B[0;34m\u001B[0m\u001B[0m\n\u001B[0;32m-> 3030\u001B[0;31m             \u001B[0mindexer\u001B[0m \u001B[0;34m=\u001B[0m \u001B[0mself\u001B[0m\u001B[0;34m.\u001B[0m\u001B[0mloc\u001B[0m\u001B[0;34m.\u001B[0m\u001B[0m_get_listlike_indexer\u001B[0m\u001B[0;34m(\u001B[0m\u001B[0mkey\u001B[0m\u001B[0;34m,\u001B[0m \u001B[0maxis\u001B[0m\u001B[0;34m=\u001B[0m\u001B[0;36m1\u001B[0m\u001B[0;34m,\u001B[0m \u001B[0mraise_missing\u001B[0m\u001B[0;34m=\u001B[0m\u001B[0;32mTrue\u001B[0m\u001B[0;34m)\u001B[0m\u001B[0;34m[\u001B[0m\u001B[0;36m1\u001B[0m\u001B[0;34m]\u001B[0m\u001B[0;34m\u001B[0m\u001B[0;34m\u001B[0m\u001B[0m\n\u001B[0m\u001B[1;32m   3031\u001B[0m \u001B[0;34m\u001B[0m\u001B[0m\n\u001B[1;32m   3032\u001B[0m         \u001B[0;31m# take() does not accept boolean indexers\u001B[0m\u001B[0;34m\u001B[0m\u001B[0;34m\u001B[0m\u001B[0;34m\u001B[0m\u001B[0m\n",
      "\u001B[0;32m~/anaconda3/envs/GOOGLE_PLAY/lib/python3.8/site-packages/pandas/core/indexing.py\u001B[0m in \u001B[0;36m_get_listlike_indexer\u001B[0;34m(self, key, axis, raise_missing)\u001B[0m\n\u001B[1;32m   1264\u001B[0m             \u001B[0mkeyarr\u001B[0m\u001B[0;34m,\u001B[0m \u001B[0mindexer\u001B[0m\u001B[0;34m,\u001B[0m \u001B[0mnew_indexer\u001B[0m \u001B[0;34m=\u001B[0m \u001B[0max\u001B[0m\u001B[0;34m.\u001B[0m\u001B[0m_reindex_non_unique\u001B[0m\u001B[0;34m(\u001B[0m\u001B[0mkeyarr\u001B[0m\u001B[0;34m)\u001B[0m\u001B[0;34m\u001B[0m\u001B[0;34m\u001B[0m\u001B[0m\n\u001B[1;32m   1265\u001B[0m \u001B[0;34m\u001B[0m\u001B[0m\n\u001B[0;32m-> 1266\u001B[0;31m         \u001B[0mself\u001B[0m\u001B[0;34m.\u001B[0m\u001B[0m_validate_read_indexer\u001B[0m\u001B[0;34m(\u001B[0m\u001B[0mkeyarr\u001B[0m\u001B[0;34m,\u001B[0m \u001B[0mindexer\u001B[0m\u001B[0;34m,\u001B[0m \u001B[0maxis\u001B[0m\u001B[0;34m,\u001B[0m \u001B[0mraise_missing\u001B[0m\u001B[0;34m=\u001B[0m\u001B[0mraise_missing\u001B[0m\u001B[0;34m)\u001B[0m\u001B[0;34m\u001B[0m\u001B[0;34m\u001B[0m\u001B[0m\n\u001B[0m\u001B[1;32m   1267\u001B[0m         \u001B[0;32mreturn\u001B[0m \u001B[0mkeyarr\u001B[0m\u001B[0;34m,\u001B[0m \u001B[0mindexer\u001B[0m\u001B[0;34m\u001B[0m\u001B[0;34m\u001B[0m\u001B[0m\n\u001B[1;32m   1268\u001B[0m \u001B[0;34m\u001B[0m\u001B[0m\n",
      "\u001B[0;32m~/anaconda3/envs/GOOGLE_PLAY/lib/python3.8/site-packages/pandas/core/indexing.py\u001B[0m in \u001B[0;36m_validate_read_indexer\u001B[0;34m(self, key, indexer, axis, raise_missing)\u001B[0m\n\u001B[1;32m   1314\u001B[0m             \u001B[0;32mif\u001B[0m \u001B[0mraise_missing\u001B[0m\u001B[0;34m:\u001B[0m\u001B[0;34m\u001B[0m\u001B[0;34m\u001B[0m\u001B[0m\n\u001B[1;32m   1315\u001B[0m                 \u001B[0mnot_found\u001B[0m \u001B[0;34m=\u001B[0m \u001B[0mlist\u001B[0m\u001B[0;34m(\u001B[0m\u001B[0mset\u001B[0m\u001B[0;34m(\u001B[0m\u001B[0mkey\u001B[0m\u001B[0;34m)\u001B[0m \u001B[0;34m-\u001B[0m \u001B[0mset\u001B[0m\u001B[0;34m(\u001B[0m\u001B[0max\u001B[0m\u001B[0;34m)\u001B[0m\u001B[0;34m)\u001B[0m\u001B[0;34m\u001B[0m\u001B[0;34m\u001B[0m\u001B[0m\n\u001B[0;32m-> 1316\u001B[0;31m                 \u001B[0;32mraise\u001B[0m \u001B[0mKeyError\u001B[0m\u001B[0;34m(\u001B[0m\u001B[0;34mf\"{not_found} not in index\"\u001B[0m\u001B[0;34m)\u001B[0m\u001B[0;34m\u001B[0m\u001B[0;34m\u001B[0m\u001B[0m\n\u001B[0m\u001B[1;32m   1317\u001B[0m \u001B[0;34m\u001B[0m\u001B[0m\n\u001B[1;32m   1318\u001B[0m             \u001B[0mnot_found\u001B[0m \u001B[0;34m=\u001B[0m \u001B[0mkey\u001B[0m\u001B[0;34m[\u001B[0m\u001B[0mmissing_mask\u001B[0m\u001B[0;34m]\u001B[0m\u001B[0;34m\u001B[0m\u001B[0;34m\u001B[0m\u001B[0m\n",
      "\u001B[0;31mKeyError\u001B[0m: \"['days_since_released'] not in index\""
     ]
    }
   ],
   "source": [
    "d1 = reg_class_obj.create_new_dummies_from_cat_var(\n",
    "    cat_var='free').create_new_dummies_from_cat_var(\n",
    "    cat_var='containsAds').create_new_dummies_from_cat_var(\n",
    "    cat_var='offersIAP').create_new_dummies_from_cat_var(\n",
    "    cat_var='minInstalls').create_new_dummies_from_cat_var(\n",
    "    cat_var='contentRating',\n",
    "    time_invariant=True).create_new_dummies_from_cat_var(\n",
    "    cat_var='genreId',\n",
    "    time_invariant=True).standardize_continuous_vars(\n",
    "    con_var='reviews',\n",
    "    method='zscore').create_individual_app_dummies(\n",
    "    ).create_demean_time_variant_vars(\n",
    "    time_variant_vars = time_variant_vars).count_number_of_days_since(\n",
    "    var='released').convert_df_from_wide_to_long(\n",
    "    time_variant_vars = time_variant_vars,\n",
    "    demaned_time_variant_vars = demaned_time_variant_vars,\n",
    "    time_invariant_vars = time_invariant_vars,\n",
    "    dep_vars = dep_vars)"
   ],
   "metadata": {
    "collapsed": false,
    "pycharm": {
     "name": "#%%\n"
    }
   }
  },
  {
   "cell_type": "code",
   "execution_count": 28,
   "outputs": [],
   "source": [
    "results_dict = d1.several_regressions(\n",
    "    dep_vars=dep_vars,\n",
    "    time_variant_vars=demaned_time_variant_vars,\n",
    "    time_invariant_vars=time_invariant_vars,\n",
    "    cross_section=False,\n",
    "    reg_types=reg_types,\n",
    "    the_panel='202103')"
   ],
   "metadata": {
    "collapsed": false,
    "pycharm": {
     "name": "#%%\n"
    }
   }
  },
  {
   "cell_type": "code",
   "execution_count": 29,
   "outputs": [
    {
     "name": "stdout",
     "output_type": "stream",
     "text": [
      "            Model Comparison           \n",
      "=======================================\n",
      "                             POOLED_OLS\n",
      "---------------------------------------\n",
      "Dep. Variable                  paidTrue\n",
      "Estimator                     PooledOLS\n",
      "No. Observations                  68432\n",
      "Cov. Est.                     Clustered\n",
      "R-squared                        0.0560\n",
      "R-Squared (Within)               0.0047\n",
      "R-Squared (Between)              0.0561\n",
      "R-Squared (Overall)              0.0560\n",
      "F-statistic                      507.02\n",
      "P-value (F-stat)                 0.0000\n",
      "=========================== ===========\n",
      "const                            0.3112\n",
      "                               (18.744)\n",
      "DeMeanedscore                    0.0007\n",
      "                               (0.6666)\n",
      "DeMeanedZSCOREreviews         4.922e-05\n",
      "                               (1.1145)\n",
      "DeMeanedminInstallsTop          -0.0429\n",
      "                              (-1.7202)\n",
      "DeMeanedminInstallsMiddle       -0.0429\n",
      "                              (-1.7199)\n",
      "niche_app                       -0.1663\n",
      "                              (-12.515)\n",
      "genreIdGame                      0.0645\n",
      "                               (6.6754)\n",
      "contentRatingAdult              -0.1473\n",
      "                              (-14.341)\n",
      "days_since_released           7.626e-05\n",
      "                               (14.993)\n",
      "---------------------------------------\n",
      "\n",
      "T-stats reported in parentheses\n",
      "              Model Comparison             \n",
      "===========================================\n",
      "                                 POOLED_OLS\n",
      "-------------------------------------------\n",
      "Dep. Variable                 offersIAPTrue\n",
      "Estimator                         PooledOLS\n",
      "No. Observations                      68432\n",
      "Cov. Est.                         Clustered\n",
      "R-squared                            0.0788\n",
      "R-Squared (Within)                   0.0003\n",
      "R-Squared (Between)                  0.0794\n",
      "R-Squared (Overall)                  0.0788\n",
      "F-statistic                          731.59\n",
      "P-value (F-stat)                     0.0000\n",
      "=========================== ===============\n",
      "const                                0.4103\n",
      "                                   (24.438)\n",
      "DeMeanedscore                       -0.0002\n",
      "                                  (-0.1261)\n",
      "DeMeanedZSCOREreviews               -0.0001\n",
      "                                  (-0.8226)\n",
      "DeMeanedminInstallsTop               0.0234\n",
      "                                   (1.8111)\n",
      "DeMeanedminInstallsMiddle            0.0188\n",
      "                                   (1.5564)\n",
      "niche_app                            0.1434\n",
      "                                   (10.927)\n",
      "genreIdGame                          0.1712\n",
      "                                   (16.623)\n",
      "contentRatingAdult                   0.1722\n",
      "                                   (14.275)\n",
      "days_since_released              -4.584e-05\n",
      "                                  (-8.5358)\n",
      "-------------------------------------------\n",
      "\n",
      "T-stats reported in parentheses\n",
      "               Model Comparison              \n",
      "=============================================\n",
      "                                   POOLED_OLS\n",
      "---------------------------------------------\n",
      "Dep. Variable                 containsAdsTrue\n",
      "Estimator                           PooledOLS\n",
      "No. Observations                        68432\n",
      "Cov. Est.                           Clustered\n",
      "R-squared                              0.0921\n",
      "R-Squared (Within)                  3.381e-05\n",
      "R-Squared (Between)                    0.0926\n",
      "R-Squared (Overall)                    0.0921\n",
      "F-statistic                            867.24\n",
      "P-value (F-stat)                       0.0000\n",
      "=========================== =================\n",
      "const                                  0.3089\n",
      "                                     (19.484)\n",
      "DeMeanedscore                      -8.635e-05\n",
      "                                    (-0.0460)\n",
      "DeMeanedZSCOREreviews                  0.0002\n",
      "                                     (0.9164)\n",
      "DeMeanedminInstallsTop                 0.0054\n",
      "                                     (1.0095)\n",
      "DeMeanedminInstallsMiddle              0.0054\n",
      "                                     (1.0096)\n",
      "niche_app                              0.1818\n",
      "                                     (15.075)\n",
      "genreIdGame                            0.2065\n",
      "                                     (19.796)\n",
      "contentRatingAdult                     0.0908\n",
      "                                     (7.0030)\n",
      "days_since_released                -6.017e-05\n",
      "                                    (-11.363)\n",
      "---------------------------------------------\n",
      "\n",
      "T-stats reported in parentheses\n",
      "            Model Comparison           \n",
      "=======================================\n",
      "                             POOLED_OLS\n",
      "---------------------------------------\n",
      "Dep. Variable                     price\n",
      "Estimator                     PooledOLS\n",
      "No. Observations                  68432\n",
      "Cov. Est.                     Clustered\n",
      "R-squared                        0.0046\n",
      "R-Squared (Within)            7.543e-05\n",
      "R-Squared (Between)              0.0047\n",
      "R-Squared (Overall)              0.0046\n",
      "F-statistic                      39.689\n",
      "P-value (F-stat)                 0.0000\n",
      "=========================== ===========\n",
      "const                            1.9637\n",
      "                               (4.8476)\n",
      "DeMeanedscore                    0.0406\n",
      "                               (1.6734)\n",
      "DeMeanedZSCOREreviews           -0.0023\n",
      "                              (-1.0449)\n",
      "DeMeanedminInstallsTop          -0.0550\n",
      "                              (-0.4846)\n",
      "DeMeanedminInstallsMiddle       -0.0545\n",
      "                              (-0.4805)\n",
      "niche_app                       -0.7820\n",
      "                              (-3.0211)\n",
      "genreIdGame                     -0.4128\n",
      "                              (-2.9715)\n",
      "contentRatingAdult              -0.5798\n",
      "                              (-3.9235)\n",
      "days_since_released              0.0003\n",
      "                               (3.0126)\n",
      "---------------------------------------\n",
      "\n",
      "T-stats reported in parentheses\n"
     ]
    }
   ],
   "source": [
    "res = d1.compare_several_panel_reg_results(results_dict=results_dict,\n",
    "                                           dep_vars=dep_vars)\n",
    "final_df = d1.compile_several_reg_results_into_pandas(panels_compare=res)"
   ],
   "metadata": {
    "collapsed": false,
    "pycharm": {
     "name": "#%%\n"
    }
   }
  },
  {
   "cell_type": "code",
   "execution_count": 30,
   "outputs": [],
   "source": [
    "df4 = d1.customize_reg_results_pandas_before_output_latex(\n",
    "    df=final_df,\n",
    "    selective_dep_vars=['paidTrue', 'offersIAPTrue', 'containsAdsTrue', 'price'],\n",
    "    selective_reg_types=['POOLED_OLS'],\n",
    "    p_value_as_asterisk=True)"
   ],
   "metadata": {
    "collapsed": false,
    "pycharm": {
     "name": "#%%\n"
    }
   }
  },
  {
   "cell_type": "code",
   "execution_count": 31,
   "outputs": [],
   "source": [
    "df5 = d1.output_reg_results_pandas_to_latex(\n",
    "    df=df4,\n",
    "    the_reg_type='POOLED_OLS')\n"
   ],
   "metadata": {
    "collapsed": false,
    "pycharm": {
     "name": "#%%\n"
    }
   }
  },
  {
   "cell_type": "markdown",
   "source": [
    "# descriptive stats test block"
   ],
   "metadata": {
    "collapsed": false,
    "pycharm": {
     "name": "#%% md\n"
    }
   }
  },
  {
   "cell_type": "code",
   "execution_count": 7,
   "outputs": [],
   "source": [
    "%run -i 'STEP0_paths_open_save.py'\n",
    "%run -i 'STEP4_Regression.py'\n",
    "\n",
    "initial_panel='201907'\n",
    "all_panels = ['201907',\n",
    "              '201908',\n",
    "              '201909',\n",
    "              '201912',\n",
    "              '202001',\n",
    "              '202003',\n",
    "              '202004',\n",
    "              '202009',\n",
    "              '202010',\n",
    "              '202011',\n",
    "              '202012',\n",
    "              '202101',\n",
    "              '202102',\n",
    "              '202103']\n",
    "consec_panels = ['202009', '202010', '202011', '202012', '202101', '202102',\n",
    "                 '202103']\n",
    "\n",
    "o = open_files(initial_panel=initial_panel)\n",
    "DFA = o.open_panel_df(name='imputed_and_deleted_missing')\n",
    "DFD = o.open_panel_df(name='dev_index_geocoded')\n",
    "DFL = o.open_panel_df(name='niche_labels_combined_panels')"
   ],
   "metadata": {
    "collapsed": false,
    "pycharm": {
     "name": "#%%\n"
    }
   }
  },
  {
   "cell_type": "code",
   "execution_count": 27,
   "outputs": [],
   "source": [
    "%run -i 'STEP0_paths_open_save.py'\n",
    "%run -i 'STEP4_Regression.py'\n",
    "\n",
    "new_class_obj = combine_dataframes(\n",
    "                 initial_panel=initial_panel,\n",
    "                 all_panels=all_panels,\n",
    "                 consec_panels=consec_panels,\n",
    "                 appid_imputed_and_deleted_missing_df=DFA,\n",
    "                 dev_index_gecoded_df=DFD,\n",
    "                 appid_text_cluster_labeled_df=DFL)\n",
    "\n",
    "df = new_class_obj.combine_imputed_deleted_missing_with_text_labels()\n",
    "\n",
    "reg_class_obj = regression_analysis(\n",
    "    df=df,\n",
    "    initial_panel=initial_panel,\n",
    "    consec_panels=consec_panels)"
   ],
   "metadata": {
    "collapsed": false,
    "pycharm": {
     "name": "#%%\n"
    }
   }
  },
  {
   "cell_type": "code",
   "execution_count": 28,
   "outputs": [],
   "source": [
    "# dependent variable is containsAdsTrue\n",
    "time_variant_vars = ['score',\n",
    "                        'ZSCOREreviews',\n",
    "                        'minInstallsTop',\n",
    "                        'minInstallsMiddle',\n",
    "                        'minInstallsBottom']\n",
    "demaned_time_variant_vars = ['DeMeanedscore',\n",
    "                        'DeMeanedZSCOREreviews',\n",
    "                        'DeMeanedminInstallsTop',\n",
    "                        'DeMeanedminInstallsMiddle',\n",
    "                        'DeMeanedminInstallsBottom']\n",
    "time_invariant_vars = ['niche_app',\n",
    "                       'genreIdGame',\n",
    "                       'contentRatingAdult',\n",
    "                       'DaysSinceReleased']\n",
    "dep_vars = ['paidTrue', 'offersIAPTrue', 'containsAdsTrue', 'price']\n",
    "reg_types = ['POOLED_OLS']"
   ],
   "metadata": {
    "collapsed": false,
    "pycharm": {
     "name": "#%%\n"
    }
   }
  },
  {
   "cell_type": "code",
   "execution_count": 29,
   "outputs": [
    {
     "name": "stdout",
     "output_type": "stream",
     "text": [
      "before standardization:\n",
      "reviews_202009\n",
      "count    9.776000e+03\n",
      "mean     7.827094e+04\n",
      "std      5.439244e+05\n",
      "min      0.000000e+00\n",
      "25%      2.950000e+02\n",
      "50%      3.119000e+03\n",
      "75%      2.383850e+04\n",
      "max      2.951514e+07\n",
      "Name: reviews_202009, dtype: float64\n",
      "\n",
      "reviews_202010\n",
      "count    9.776000e+03\n",
      "mean     7.933480e+04\n",
      "std      5.519371e+05\n",
      "min      0.000000e+00\n",
      "25%      3.000000e+02\n",
      "50%      3.183500e+03\n",
      "75%      2.422675e+04\n",
      "max      3.023292e+07\n",
      "Name: reviews_202010, dtype: float64\n",
      "\n",
      "reviews_202011\n",
      "count    9.776000e+03\n",
      "mean     8.065345e+04\n",
      "std      5.625741e+05\n",
      "min      0.000000e+00\n",
      "25%      3.050000e+02\n",
      "50%      3.256500e+03\n",
      "75%      2.470575e+04\n",
      "max      3.119757e+07\n",
      "Name: reviews_202011, dtype: float64\n",
      "\n",
      "reviews_202012\n",
      "count    9.776000e+03\n",
      "mean     8.208672e+04\n",
      "std      5.744714e+05\n",
      "min      0.000000e+00\n",
      "25%      3.110000e+02\n",
      "50%      3.313500e+03\n",
      "75%      2.519250e+04\n",
      "max      3.231515e+07\n",
      "Name: reviews_202012, dtype: float64\n",
      "\n",
      "reviews_202101\n",
      "count    9.776000e+03\n",
      "mean     8.314799e+04\n",
      "std      5.844679e+05\n",
      "min      0.000000e+00\n",
      "25%      3.130000e+02\n",
      "50%      3.338500e+03\n",
      "75%      2.524925e+04\n",
      "max      3.316892e+07\n",
      "Name: reviews_202101, dtype: float64\n",
      "\n",
      "reviews_202102\n",
      "count    9.776000e+03\n",
      "mean     8.436252e+04\n",
      "std      5.932914e+05\n",
      "min      0.000000e+00\n",
      "25%      3.200000e+02\n",
      "50%      3.378500e+03\n",
      "75%      2.579550e+04\n",
      "max      3.389803e+07\n",
      "Name: reviews_202102, dtype: float64\n",
      "\n",
      "reviews_202103\n",
      "count    9.776000e+03\n",
      "mean     7.885769e+04\n",
      "std      4.865986e+05\n",
      "min      0.000000e+00\n",
      "25%      3.020000e+02\n",
      "50%      3.244000e+03\n",
      "75%      2.470350e+04\n",
      "max      2.211318e+07\n",
      "Name: reviews_202103, dtype: float64\n",
      "\n",
      "after standardization:\n",
      "ZSCOREreviews_202009\n",
      "count    9.776000e+03\n",
      "mean    -4.360942e-18\n",
      "std      1.000051e+00\n",
      "min     -1.439078e-01\n",
      "25%     -1.433654e-01\n",
      "50%     -1.381732e-01\n",
      "75%     -1.000787e-01\n",
      "max      5.412217e+01\n",
      "Name: ZSCOREreviews_202009, dtype: float64\n",
      "\n",
      "ZSCOREreviews_202010\n",
      "count    9.776000e+03\n",
      "mean    -7.268236e-18\n",
      "std      1.000051e+00\n",
      "min     -1.437462e-01\n",
      "25%     -1.432026e-01\n",
      "50%     -1.379780e-01\n",
      "75%     -9.984992e-02\n",
      "max      5.463508e+01\n",
      "Name: ZSCOREreviews_202010, dtype: float64\n",
      "\n",
      "ZSCOREreviews_202011\n",
      "count    9.776000e+03\n",
      "mean     2.035106e-17\n",
      "std      1.000051e+00\n",
      "min     -1.433724e-01\n",
      "25%     -1.428302e-01\n",
      "50%     -1.375835e-01\n",
      "75%     -9.945457e-02\n",
      "max      5.531451e+01\n",
      "Name: ZSCOREreviews_202011, dtype: float64\n",
      "\n",
      "ZSCOREreviews_202012\n",
      "count    9.776000e+03\n",
      "mean    -1.453647e-18\n",
      "std      1.000051e+00\n",
      "min     -1.428982e-01\n",
      "25%     -1.423568e-01\n",
      "50%     -1.371300e-01\n",
      "75%     -9.904257e-02\n",
      "max      5.611195e+01\n",
      "Name: ZSCOREreviews_202012, dtype: float64\n",
      "\n",
      "ZSCOREreviews_202101\n",
      "count    9.776000e+03\n",
      "mean    -1.162918e-17\n",
      "std      1.000051e+00\n",
      "min     -1.422700e-01\n",
      "25%     -1.417344e-01\n",
      "50%     -1.365577e-01\n",
      "75%     -9.906738e-02\n",
      "max      5.661127e+01\n",
      "Name: ZSCOREreviews_202101, dtype: float64\n",
      "\n",
      "ZSCOREreviews_202102\n",
      "count    9.776000e+03\n",
      "mean    -8.721883e-18\n",
      "std      1.000051e+00\n",
      "min     -1.422014e-01\n",
      "25%     -1.416620e-01\n",
      "50%     -1.365066e-01\n",
      "75%     -9.872050e-02\n",
      "max      5.699628e+01\n",
      "Name: ZSCOREreviews_202102, dtype: float64\n",
      "\n",
      "ZSCOREreviews_202103\n",
      "count    9.776000e+03\n",
      "mean     2.035106e-17\n",
      "std      1.000051e+00\n",
      "min     -1.620673e-01\n",
      "25%     -1.614466e-01\n",
      "50%     -1.554003e-01\n",
      "75%     -1.112970e-01\n",
      "max      4.528466e+01\n",
      "Name: ZSCOREreviews_202103, dtype: float64\n",
      "\n"
     ]
    }
   ],
   "source": [
    "d1 = reg_class_obj.create_new_dummies_from_cat_var(\n",
    "    cat_var='free').create_new_dummies_from_cat_var(\n",
    "    cat_var='containsAds').create_new_dummies_from_cat_var(\n",
    "    cat_var='offersIAP').create_new_dummies_from_cat_var(\n",
    "    cat_var='minInstalls').create_new_dummies_from_cat_var(\n",
    "    cat_var='contentRating',\n",
    "    time_invariant=True).create_new_dummies_from_cat_var(\n",
    "    cat_var='genreId',\n",
    "    time_invariant=True).standardize_continuous_vars(\n",
    "    con_var='reviews',\n",
    "    method='zscore').create_individual_app_dummies(\n",
    "    ).create_demean_time_variant_vars(\n",
    "    time_variant_vars = time_variant_vars).count_number_of_days_since(\n",
    "    var='released').convert_df_from_wide_to_long(\n",
    "    time_variant_vars = time_variant_vars,\n",
    "    demaned_time_variant_vars = demaned_time_variant_vars,\n",
    "    time_invariant_vars = time_invariant_vars,\n",
    "    dep_vars = dep_vars)"
   ],
   "metadata": {
    "collapsed": false,
    "pycharm": {
     "name": "#%%\n"
    }
   }
  },
  {
   "cell_type": "code",
   "execution_count": 30,
   "outputs": [
    {
     "data": {
      "text/plain": "<Figure size 432x288 with 1 Axes>",
      "image/png": "[encoded data removed]"
     },
     "metadata": {
      "needs_background": "light"
     },
     "output_type": "display_data"
    }
   ],
   "source": [
    "df3 = d1.text_cluster_relationship_to_keyvars(\n",
    "    the_panel='202103',\n",
    "    top_n_as_niche=4)"
   ],
   "metadata": {
    "collapsed": false,
    "pycharm": {
     "name": "#%%\n"
    }
   }
  },
  {
   "cell_type": "code",
   "execution_count": 13,
   "outputs": [
    {
     "name": "stdout",
     "output_type": "stream",
     "text": [
      "[7, 350, 263, 282]\n"
     ]
    }
   ],
   "source": [
    "df4 = df3[0]\n",
    "ls = list(df4.index.values)\n",
    "print(ls)\n",
    "df5 = df3[1]\n",
    "df5['nicheDummy'] = df5['combined_panels_kmeans_labels'].apply(lambda x: 0 if x in ls else 1)"
   ],
   "metadata": {
    "collapsed": false,
    "pycharm": {
     "name": "#%%\n"
    }
   }
  },
  {
   "cell_type": "code",
   "execution_count": 26,
   "outputs": [
    {
     "data": {
      "text/plain": "<Figure size 432x288 with 1 Axes>",
      "image/png": "[encoded data removed]"
     },
     "metadata": {
      "needs_background": "light"
     },
     "output_type": "display_data"
    }
   ],
   "source": [
    "df6 = df5.groupby(['nicheDummy', 'paidTrue_202103']).size()\n",
    "ax = df6.unstack().plot.bar(stacked=True)\n",
    "\n",
    "total_1=0\n",
    "total_2=0\n",
    "for p in ax.patches:\n",
    "    if p.xy[0] == -0.25:\n",
    "        total_1 += p.get_height()\n",
    "    elif p.xy[0] == 0.75:\n",
    "        total_2 += p.get_height()\n",
    "for p in ax.patches:\n",
    "    if p.xy[0] == -0.25:\n",
    "        percentage = '{:.1f}%'.format(100 * p.get_height()/total_1)\n",
    "    elif p.xy[0] == 0.75:\n",
    "        percentage = '{:.1f}%'.format(100 * p.get_height()/total_2)\n",
    "    x = p.get_x() + p.get_width() + 0.02\n",
    "    y = p.get_y() + p.get_height()/2\n",
    "    ax.annotate(percentage, (x, y))"
   ],
   "metadata": {
    "collapsed": false,
    "pycharm": {
     "name": "#%%\n"
    }
   }
  },
  {
   "cell_type": "code",
   "execution_count": null,
   "outputs": [],
   "source": [
    "df = d1.key_var_definition()"
   ],
   "metadata": {
    "collapsed": false,
    "pycharm": {
     "name": "#%%\n"
    }
   }
  },
  {
   "cell_type": "code",
   "execution_count": 7,
   "outputs": [],
   "source": [
    "d2 = d1.descriptive_stats_for_single_panel(\n",
    "    continuous_vars=['score',\n",
    "                     'DeMeanedscore',\n",
    "                     'reviews',\n",
    "                     'ZSCOREreviews',\n",
    "                     'DeMeanedZSCOREreviews',\n",
    "                     'price',\n",
    "                     'DeMeanedminInstallsTop',\n",
    "                     'DeMeanedminInstallsMiddle',\n",
    "                     'DeMeanedminInstallsBottom'],\n",
    "    dummy_vars = ['paidTrue',\n",
    "                  'offersIAPTrue',\n",
    "                  'containsAdsTrue',\n",
    "                  'minInstallsTop',\n",
    "                  'minInstallsMiddle',\n",
    "                  'minInstallsBottom'],\n",
    "    cat_vars = ['genreId',\n",
    "                'minInstalls'],\n",
    "    time_invar_dum=['niche_app',\n",
    "                    'genreIdGame',\n",
    "                    'contentRatingAdult'],\n",
    "    time_invar_con=['days_since_released'],\n",
    "    the_panel='202103',\n",
    "    add_sum_row_col=True)"
   ],
   "metadata": {
    "collapsed": false,
    "pycharm": {
     "name": "#%%\n"
    }
   }
  },
  {
   "cell_type": "code",
   "execution_count": 23,
   "outputs": [],
   "source": [
    "df6 = d1.customize_and_output_descriptive_stats_pandas_to_latex(\n",
    "    the_panel='202103')"
   ],
   "metadata": {
    "collapsed": false,
    "pycharm": {
     "name": "#%%\n"
    }
   }
  },
  {
   "cell_type": "code",
   "execution_count": 21,
   "outputs": [],
   "source": [
    "var_latex_map = {\n",
    "           'const': 'constant',\n",
    "           'score': '\\makecell[l]{rating \\\\\\ (1-5)}',\n",
    "           'DeMeanedscore': '\\makecell[l]{demeaned \\\\\\ rating (1-5)}',\n",
    "           'reviews': '\\makecell[l]{number of \\\\\\ reviews}',\n",
    "           'ZSCOREreviews': '\\makecell[l]{number of \\\\\\ reviews (z-score)}',\n",
    "           'DeMeanedZSCOREreviews': '\\makecell[l]{number of reviews \\\\\\ (demeaned z-score)}',\n",
    "           'minInstallsTop': '\\makecell[l]{min installs \\\\\\ above 10,000,000}',\n",
    "           'DeMeanedminInstallsTop': '\\makecell[l]{min installs \\\\\\ above 10,000,000 \\\\\\ (demeaned)}',\n",
    "           'minInstallsMiddle': '\\makecell[l]{min installs between \\\\\\ 10,000 and 10,000,000}',\n",
    "           'DeMeanedminInstallsMiddle': '\\makecell[l]{min installs between \\\\\\ 10,000 and 10,000,000 \\\\\\ (demeaned)}',\n",
    "           'minInstallsBottom': '\\makecell[l]{min installs \\\\\\ below 10,000}',\n",
    "           'DeMeanedminInstallsBottom': '\\makecell[l]{min installs \\\\\\ below 10,000 \\\\\\ (demeaned)}',\n",
    "           'niche_app': 'niche app',\n",
    "           'genreIdGame': 'hedonic app',\n",
    "           'contentRatingAdult': '\\makecell[l]{contains age \\\\\\ restrictive contents}',\n",
    "           'days_since_released': '\\makecell[l]{number of days \\\\\\ since released}',\n",
    "           'paidTrue': 'paid',\n",
    "           'offersIAPTrue': 'offers IAP',\n",
    "           'containsAdsTrue': 'contains ads',\n",
    "           'price': 'price',\n",
    "           'F stat': 'F statistic',\n",
    "           'P-value': 'P Value',\n",
    "           'rsquared': 'R Squared',\n",
    "           'nobs': '\\makecell[l]{number of \\\\\\ observations}',\n",
    "           '_cov_type': 'covariance type'}"
   ],
   "metadata": {
    "collapsed": false,
    "pycharm": {
     "name": "#%%\n"
    }
   }
  },
  {
   "cell_type": "code",
   "execution_count": 22,
   "outputs": [
    {
     "name": "stdout",
     "output_type": "stream",
     "text": [
      "niche_app\n",
      "niche app\n",
      "price\n",
      "price\n",
      "price\n",
      "paidTrue\n",
      "paidTrue\n",
      "paid\n",
      "offersIAPTrue\n",
      "offersIAPTrue\n",
      "offers IAP\n",
      "containsAdsTrue\n",
      "containsAdsTrue\n",
      "contains ads\n",
      "genreIdGame\n",
      "hedonic app\n",
      "contentRatingAdult\n",
      "\\makecell[l]{contains age \\\\ restrictive contents}\n",
      "days_since_released\n",
      "\\makecell[l]{number of days \\\\ since released}\n",
      "minInstallsTop\n",
      "minInstallsTop\n",
      "\\makecell[l]{min installs \\\\ above 10,000,000}\n",
      "DeMeanedminInstallsTop\n",
      "DeMeanedminInstallsTop\n",
      "\\makecell[l]{min installs \\\\ above 10,000,000 \\\\ (demeaned)}\n",
      "minInstallsMiddle\n",
      "minInstallsMiddle\n",
      "\\makecell[l]{min installs between \\\\ 10,000 and 10,000,000}\n",
      "DeMeanedminInstallsMiddle\n",
      "DeMeanedminInstallsMiddle\n",
      "\\makecell[l]{min installs between \\\\ 10,000 and 10,000,000 \\\\ (demeaned)}\n",
      "minInstallsBottom\n",
      "minInstallsBottom\n",
      "\\makecell[l]{min installs \\\\ below 10,000}\n",
      "DeMeanedminInstallsBottom\n",
      "DeMeanedminInstallsBottom\n",
      "\\makecell[l]{min installs \\\\ below 10,000 \\\\ (demeaned)}\n",
      "score\n",
      "score\n",
      "\\makecell[l]{rating \\\\ (1-5)}\n",
      "DeMeanedscore\n",
      "DeMeanedscore\n",
      "\\makecell[l]{demeaned \\\\ rating (1-5)}\n",
      "reviews\n",
      "reviews\n",
      "\\makecell[l]{number of \\\\ reviews}\n",
      "ZSCOREreviews\n",
      "ZSCOREreviews\n",
      "\\makecell[l]{number of \\\\ reviews (z-score)}\n",
      "DeMeanedZSCOREreviews\n",
      "DeMeanedZSCOREreviews\n",
      "\\makecell[l]{number of reviews \\\\ (demeaned z-score)}\n"
     ]
    }
   ],
   "source": [
    "# debug cell\n",
    "df7 = df6.copy(deep=True)\n",
    "the_panel = '202103'\n",
    "for i in df7.index:\n",
    "    if the_panel in i:\n",
    "        i = i.rstrip(the_panel).rstrip('_')\n",
    "        print(i)\n",
    "    for j in var_latex_map.keys():\n",
    "        if j == i:\n",
    "            print(j)\n",
    "            x = var_latex_map[j]\n",
    "            print(x)\n",
    "            df7.rename(index={i: x}, inplace=True)"
   ],
   "metadata": {
    "collapsed": false,
    "pycharm": {
     "name": "#%%\n"
    }
   }
  },
  {
   "cell_type": "code",
   "execution_count": 25,
   "outputs": [],
   "source": [
    "the_panel = '202103'\n",
    "def set_row_names(x, the_panel):\n",
    "    if the_panel in x:\n",
    "        x = x.rstrip(the_panel).rstrip('_')\n",
    "    for j in var_latex_map.keys():\n",
    "        if j == x:\n",
    "            return var_latex_map[j]\n",
    "\n",
    "\n",
    "df7 = df6.copy(deep=True)\n",
    "df7 = df7.reset_index()\n",
    "df7['Variable'] = df7['Variable'].apply(lambda x: set_row_names(x, the_panel))\n",
    "df7 = df7.set_index('Variable')"
   ],
   "metadata": {
    "collapsed": false,
    "pycharm": {
     "name": "#%%\n"
    }
   }
  },
  {
   "cell_type": "code",
   "execution_count": 39,
   "outputs": [],
   "source": [
    "import functools\n",
    "import copy\n",
    "dummy_vars = ['paidTrue',\n",
    "              'offersIAPTrue',\n",
    "              'containsAdsTrue',\n",
    "              'minInstallsTop',\n",
    "              'minInstallsMiddle',\n",
    "              'minInstallsBottom']\n",
    "continuous_vars=['score',\n",
    "                 'DeMeanedscore',\n",
    "                 'reviews',\n",
    "                 'ZSCOREreviews',\n",
    "                 'DeMeanedZSCOREreviews',\n",
    "                 'price',\n",
    "                 'DeMeanedminInstallsTop',\n",
    "                 'DeMeanedminInstallsMiddle',\n",
    "                 'DeMeanedminInstallsBottom']\n",
    "time_invar_dum=['niche_app',\n",
    "                'genreIdGame',\n",
    "                'contentRatingAdult']\n",
    "time_invar_con=['days_since_released']\n",
    "con_vars = [i + '_' + '202103' for i in continuous_vars]\n",
    "con_vars.extend(time_invar_con)\n",
    "dum_vars = [i + '_' + '202103' for i in dummy_vars]\n",
    "dum_vars.extend(time_invar_dum)\n",
    "con_and_dum_vars = copy.deepcopy(con_vars)\n",
    "con_and_dum_vars.extend(dum_vars)\n",
    "df2 = d1.df.copy(deep=True)\n",
    "con_vars_df = df2[con_vars]\n",
    "dum_vars_df = df2[dum_vars]\n",
    "con_and_dum_df = df2[con_and_dum_vars]\n",
    "con_and_dum_vars_stats = con_and_dum_df.agg(['mean', 'std', 'min', 'median', 'max', 'count'], axis=0)\n",
    "con_and_dum_vars_stats = con_and_dum_vars_stats.T\n",
    "dum_stats_dfs = []\n",
    "for i in dum_vars:\n",
    "    dum_vars_df['Count_' + i] = 0\n",
    "    df = dum_vars_df[[i, 'Count_' + i]].groupby(i).count()\n",
    "    dum_stats_dfs.append(df)\n",
    "dum_vars_sum_stats = functools.reduce(lambda a, b: a.join(b, how='inner'), dum_stats_dfs)"
   ],
   "metadata": {
    "collapsed": false,
    "pycharm": {
     "name": "#%%\n"
    }
   }
  },
  {
   "cell_type": "code",
   "execution_count": 40,
   "outputs": [],
   "source": [
    "for i in dum_vars_sum_stats.columns:\n",
    "    dum_vars_sum_stats.rename(columns={i: i.lstrip('Count').lstrip('_')}, inplace=True)"
   ],
   "metadata": {
    "collapsed": false,
    "pycharm": {
     "name": "#%%\n"
    }
   }
  },
  {
   "cell_type": "code",
   "execution_count": 41,
   "outputs": [],
   "source": [
    "for i in dum_vars_sum_stats.index:\n",
    "    dum_vars_sum_stats.rename(index={i: str(i)+'_Count'}, inplace=True)\n",
    "dum_vars_sum_stats = dum_vars_sum_stats.T\n",
    "cd_sum_stats = con_and_dum_vars_stats.join(dum_vars_sum_stats, how='left')"
   ],
   "metadata": {
    "collapsed": false,
    "pycharm": {
     "name": "#%%\n"
    }
   }
  },
  {
   "cell_type": "code",
   "execution_count": 7,
   "outputs": [],
   "source": [
    "df = d1.correlation_matrix(\n",
    "    dep_vars,\n",
    "    time_variant_vars,\n",
    "    time_invariant_vars,\n",
    "    the_panel='202103')"
   ],
   "metadata": {
    "collapsed": false,
    "pycharm": {
     "name": "#%%\n"
    }
   }
  },
  {
   "cell_type": "code",
   "execution_count": 6,
   "outputs": [],
   "source": [
    "results_df = d1.compile_several_reg_results_into_pandas(\n",
    "    results_dict=results_dict)"
   ],
   "metadata": {
    "collapsed": false,
    "pycharm": {
     "name": "#%%\n"
    }
   }
  },
  {
   "cell_type": "code",
   "execution_count": 18,
   "outputs": [
    {
     "data": {
      "text/plain": "const                0.201449\nscore                0.000757\nZSCOREreviews        0.000049\nminInstallsTop      -0.041543\nminInstallsMiddle   -0.042199\nniche_app            0.169612\nName: parameter, dtype: float64"
     },
     "execution_count": 18,
     "metadata": {},
     "output_type": "execute_result"
    }
   ],
   "source": [
    "A = results_dict['FE']['paidTrue']\n",
    "A.params"
   ],
   "metadata": {
    "collapsed": false,
    "pycharm": {
     "name": "#%%\n"
    }
   }
  },
  {
   "cell_type": "code",
   "execution_count": null,
   "outputs": [],
   "source": [
    "# Since I am not going to conduct pooled OLS\n",
    "# lets jump into fixed effects model\n",
    "# https://towardsdatascience.com/a-guide-to-panel-data-regression-theoretics-and-implementation-with-python-4c84c5055cf8\n"
   ],
   "metadata": {
    "collapsed": false,
    "pycharm": {
     "name": "#%%\n"
    }
   }
  }
 ],
 "metadata": {
  "kernelspec": {
   "display_name": "Python 3",
   "language": "python",
   "name": "python3"
  },
  "language_info": {
   "codemirror_mode": {
    "name": "ipython",
    "version": 2
   },
   "file_extension": ".py",
   "mimetype": "text/x-python",
   "name": "python",
   "nbconvert_exporter": "python",
   "pygments_lexer": "ipython2",
   "version": "2.7.6"
  }
 },
 "nbformat": 4,
 "nbformat_minor": 0
}