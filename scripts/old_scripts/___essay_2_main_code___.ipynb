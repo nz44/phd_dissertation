{
 "cells": [
  {
   "cell_type": "markdown",
   "source": [
    "# 1. Test Block for Divide Sub-samples\n",
    "\n",
    "Based on the results from essay 1, we found that niche is important for pricing\n",
    "strategies for non-market leaders. Thus, we are going to divide categories into\n",
    "5 (not the 49 default categories) and see what role Niche plays in pricing strategies\n",
    "in each of the 5 categories.\n",
    "\n"
   ],
   "metadata": {
    "collapsed": false
   }
  },
  {
   "cell_type": "markdown",
   "source": [
    "# 2. NLP Pipeline"
   ],
   "metadata": {
    "collapsed": false
   }
  },
  {
   "cell_type": "code",
   "execution_count": null,
   "outputs": [],
   "source": [
    "%run -i 'STEP7_ESSAY_2_3_NEW_NLP.py'\n",
    "\n",
    "initial_panel='201907'\n",
    "all_panels = ['201907',\n",
    "              '201908',\n",
    "              '201909',\n",
    "              '201912',\n",
    "              '202001',\n",
    "              '202003',\n",
    "              '202004',\n",
    "              '202009',\n",
    "              '202010',\n",
    "              '202011',\n",
    "              '202012',\n",
    "              '202101',\n",
    "              '202102',\n",
    "              '202103',\n",
    "              '202104',\n",
    "              '202105',\n",
    "              '202106']"
   ],
   "metadata": {
    "collapsed": false,
    "pycharm": {
     "name": "#%%\n"
    }
   }
  },
  {
   "cell_type": "markdown",
   "source": [
    "## 2.1 Find Optimal SVD Components\n",
    "\n",
    "You can skip this step once you have a list of optimal number of svd components,\n",
    "attaching a new panel does not change the number much."
   ],
   "metadata": {
    "collapsed": false
   }
  },
  {
   "cell_type": "code",
   "execution_count": null,
   "outputs": [],
   "source": [
    "# %run -i 'STEP9_ESSAY_2_3_NLP_pipeline.py'\n",
    "\n",
    "# since this code takes too long, I will just run 201907 dataset here\n",
    "# d1 = nlp_pipeline_essay_2_3(\n",
    "#           tcn='description',\n",
    "#           initial_panel=initial_panel,\n",
    "#           all_panels=all_panels\n",
    "#     ).open_divided_df(\n",
    "#     ).generate_save_input_text_col(\n",
    "#     ).tf_idf_transformation(\n",
    "#     ).find_optimal_svd_component_plot()"
   ],
   "metadata": {
    "collapsed": false,
    "pycharm": {
     "name": "#%%\n"
    }
   }
  },
  {
   "cell_type": "markdown",
   "source": [
    "## 2.2 Find Optimal Number of Clusters (elbow method and silhouette score)"
   ],
   "metadata": {
    "collapsed": false
   }
  },
  {
   "cell_type": "code",
   "execution_count": null,
   "outputs": [],
   "source": [
    "# %run -i 'STEP9_ESSAY_2_3_NLP_pipeline.py'\n",
    "#\n",
    "# # since this code takes too long, I will just run 201907 dataset here\n",
    "# d1 = nlp_pipeline_essay_2_3(\n",
    "#           tcn='description',\n",
    "#           initial_panel=initial_panel,\n",
    "#           all_panels=all_panels\n",
    "#     ).open_divided_df(\n",
    "#     ).generate_save_input_text_col(\n",
    "#     ).tf_idf_transformation(\n",
    "#     ).truncate_svd(\n",
    "#         random_state=0\n",
    "#     ).find_optimal_cluster_elbow(\n",
    "#     ).find_optimal_cluster_silhouette()"
   ],
   "metadata": {
    "collapsed": false,
    "pycharm": {
     "name": "#%%\n"
    }
   }
  },
  {
   "cell_type": "markdown",
   "source": [
    "## 2.3 Predict Text Labels"
   ],
   "metadata": {
    "collapsed": false
   }
  },
  {
   "cell_type": "code",
   "execution_count": null,
   "outputs": [],
   "source": [
    "%run -i 'STEP7_ESSAY_2_3_NEW_NLP.py'\n",
    "\n",
    "d2 = nlp_pipeline_essay_2_3(\n",
    "            tcn='description',\n",
    "            initial_panel=initial_panel,\n",
    "            all_panels=all_panels\n",
    "        ).open_divided_df(\n",
    "        ).create_subsample_slice_vars(\n",
    "        ).slice_text_cols_for_sub_samples(\n",
    "        ).tf_idf_transformation(\n",
    "        ).find_optimal_svd_component_dict(\n",
    "            cutoff_percent_explained=0.85\n",
    "        ).truncate_svd(\n",
    "            random_state=0\n",
    "        ).optimal_k_silhouette(\n",
    "        ).determine_optimal_k_from_silhouette(\n",
    "        ).open_optimal_k(\n",
    "        ).kmeans_cluster(\n",
    "            random_state=0)"
   ],
   "metadata": {
    "collapsed": false,
    "pycharm": {
     "name": "#%%\n"
    }
   }
  },
  {
   "cell_type": "markdown",
   "metadata": {
    "collapsed": true,
    "pycharm": {
     "name": "#%% md\n"
    }
   },
   "source": [
    "# Test Block for Descriptive Stats and Regression\n",
    "(NEW Version 2021 Aug 10)\n"
   ]
  },
  {
   "cell_type": "markdown",
   "source": [
    "## Set some basics, create regression dummies, save dataframe"
   ],
   "metadata": {
    "collapsed": false,
    "pycharm": {
     "name": "#%% md\n"
    }
   }
  },
  {
   "cell_type": "code",
   "execution_count": null,
   "outputs": [],
   "source": [
    "%run -i 'STEP8_ESSAY_2_3_stats_and_regs_201907.py'\n",
    "\n",
    "d1 = essay_23_stats_and_regs_201907(\n",
    "        tcn = 'description'\n",
    "    ).determine_niche_broad_cutoff(\n",
    "    ).text_cluster_stats_at_app_level(\n",
    "    ).combine_app_level_text_cluster_stats_with_df(\n",
    "    ).check_text_label_contents(\n",
    "    ).create_NicheDummy(\n",
    "    ).create_PostDummy(\n",
    "    ).create_PostXNiche_interactions(\n",
    "    ).count_number_of_days_since_released(\n",
    "    ).create_contentRating_dummy(\n",
    "    ).impute_missingSize_as_zero(\n",
    "    ).standardize_continuous_vars(\n",
    "            con_var='Imputedreviews',\n",
    "            method='zscore'\n",
    "    ).create_demean_time_variant_vars(\n",
    "            time_variant_vars = ['ZScoreImputedreviews',\n",
    "                                 'Imputedscore']\n",
    "    ).create_paid_dummies(\n",
    "    ).add_white_noise_to_Imputedprice(\n",
    "    ).log_transform_pricing_vars(\n",
    "    ).create_generic_true_false_dummies(\n",
    "        cat_var='offersIAP'\n",
    "    ).create_generic_true_false_dummies(\n",
    "        cat_var='containsAds'\n",
    "    ).save_cross_section_reg_df()"
   ],
   "metadata": {
    "collapsed": false,
    "pycharm": {
     "name": "#%%\n"
    }
   }
  },
  {
   "cell_type": "markdown",
   "source": [
    "## check the basics\n"
   ],
   "metadata": {
    "collapsed": false,
    "pycharm": {
     "name": "#%% md\n"
    }
   }
  },
  {
   "cell_type": "markdown",
   "source": [
    "## graph text cluster size bar charts"
   ],
   "metadata": {
    "collapsed": false,
    "pycharm": {
     "name": "#%% md\n"
    }
   }
  },
  {
   "cell_type": "code",
   "execution_count": null,
   "outputs": [],
   "source": [
    "%run -i 'STEP8_ESSAY_2_3_stats_and_regs_201907.py'\n",
    "\n",
    "d1 = essay_23_stats_and_regs_201907(\n",
    "        tcn = 'description'\n",
    "    ).open_cross_section_reg_df(\n",
    "    ).determine_niche_broad_cutoff(\n",
    "    ).graph_numApps_per_text_cluster(\n",
    "    ).graph_numClusters_per_cluster_size_bin(\n",
    "    ).graph_numApps_per_cluster_size_bin()"
   ],
   "metadata": {
    "collapsed": false,
    "pycharm": {
     "name": "#%%\n"
    }
   }
  },
  {
   "cell_type": "markdown",
   "source": [
    "## overall count by sub-sample groups"
   ],
   "metadata": {
    "collapsed": false,
    "pycharm": {
     "name": "#%% md\n"
    }
   }
  },
  {
   "cell_type": "code",
   "execution_count": null,
   "outputs": [],
   "source": [
    "%run -i 'STEP8_ESSAY_2_3_stats_and_regs_201907.py'\n",
    "\n",
    "d1 = essay_23_stats_and_regs_201907(\n",
    "        tcn = 'description'\n",
    "    ).open_cross_section_reg_df(\n",
    "    ).determine_niche_broad_cutoff(\n",
    "    ).niche_by_subsamples_bar_graph(\n",
    "        name1='Leaders'\n",
    "    ).niche_by_subsamples_bar_graph(\n",
    "        name1='Non-leaders'\n",
    "    )"
   ],
   "metadata": {
    "collapsed": false,
    "pycharm": {
     "name": "#%%\n"
    }
   }
  },
  {
   "cell_type": "markdown",
   "source": [
    "## pricing variables descriptive stats by sub-sample groups"
   ],
   "metadata": {
    "collapsed": false,
    "pycharm": {
     "name": "#%% md\n"
    }
   }
  },
  {
   "cell_type": "markdown",
   "source": [
    "### Violin plots by text clusters"
   ],
   "metadata": {
    "collapsed": false
   }
  },
  {
   "cell_type": "code",
   "execution_count": null,
   "outputs": [],
   "source": [
    "import warnings\n",
    "warnings.filterwarnings('ignore')\n",
    "%run -i 'STEP8_ESSAY_2_3_stats_and_regs_201907.py'\n",
    "\n",
    "d1 = essay_23_stats_and_regs_201907(\n",
    "        tcn = 'description'\n",
    "    ).open_cross_section_reg_df(\n",
    "    )\n",
    "panels = d1.all_panels\n",
    "# panels = d1.initial_panel\n",
    "# panels = ['202106']\n",
    "for p in panels:\n",
    "    print(' =========================================== ', p, ' =========================================== ')\n",
    "    print('Starting graphing descriptive stats of pricing variables')\n",
    "    d2 = d1.graph_descriptive_stats_pricing_vars(\n",
    "            name1='Leaders',\n",
    "            the_panel=p\n",
    "        ).graph_descriptive_stats_pricing_vars(\n",
    "            name1='Non-leaders',\n",
    "            the_panel=p\n",
    "        )"
   ],
   "metadata": {
    "collapsed": false,
    "pycharm": {
     "name": "#%%\n"
    }
   }
  },
  {
   "cell_type": "markdown",
   "source": [
    "### Histograms by niche or broad"
   ],
   "metadata": {
    "collapsed": false
   }
  },
  {
   "cell_type": "code",
   "execution_count": null,
   "outputs": [],
   "source": [
    "%run -i 'STEP8_ESSAY_2_3_stats_and_regs_201907.py'\n",
    "\n",
    "d1 = essay_23_stats_and_regs_201907(\n",
    "        tcn = 'description'\n",
    "    ).open_cross_section_reg_df(\n",
    "    )\n",
    "# panels = d1.all_panels\n",
    "# panels = d1.initial_panel\n",
    "panels = ['202106']\n",
    "for p in panels:\n",
    "    print(' =========================================== ', p, ' =========================================== ')\n",
    "    print('Starting graphing descriptive stats of pricing variables')\n",
    "    d2 = d1.graph_histogram_pricing_vars_by_niche(\n",
    "            name1='Leaders',\n",
    "            the_panel=p\n",
    "        ).graph_histogram_pricing_vars_by_niche(\n",
    "            name1='Non-leaders',\n",
    "            the_panel=p\n",
    "        )"
   ],
   "metadata": {
    "collapsed": false,
    "pycharm": {
     "name": "#%%\n"
    }
   }
  },
  {
   "cell_type": "markdown",
   "source": [
    "## parallel trends of group means"
   ],
   "metadata": {
    "collapsed": false
   }
  },
  {
   "cell_type": "code",
   "execution_count": null,
   "outputs": [],
   "source": [
    "%run -i 'STEP8_ESSAY_2_3_stats_and_regs_201907.py'\n",
    "\n",
    "d1 = essay_23_stats_and_regs_201907(\n",
    "        tcn = 'description'\n",
    "    ).open_cross_section_reg_df(\n",
    "    ).determine_niche_broad_cutoff(\n",
    "    ).graph_group_mean_subsamples_parallel_trends(\n",
    "        name1='Leaders'\n",
    "    ).graph_group_mean_subsamples_parallel_trends(\n",
    "        name1='Non-leaders'\n",
    "    )"
   ],
   "metadata": {
    "collapsed": false,
    "pycharm": {
     "name": "#%%\n"
    }
   }
  },
  {
   "cell_type": "code",
   "execution_count": null,
   "outputs": [],
   "source": [
    "# check input dataframe\n",
    "d3 = d2._prepare_pricing_vars_for_graph_group_by_var(\n",
    "            group_by_var='NicheDummy')"
   ],
   "metadata": {
    "collapsed": false,
    "pycharm": {
     "name": "#%%\n"
    }
   }
  },
  {
   "cell_type": "markdown",
   "source": [
    "## parallel trends of reg coefficients"
   ],
   "metadata": {
    "collapsed": false
   }
  },
  {
   "cell_type": "code",
   "execution_count": null,
   "outputs": [],
   "source": [
    "%run -i 'STEP8_ESSAY_2_3_stats_and_regs_201907.py'\n",
    "\n",
    "d1 = essay_23_stats_and_regs_201907(\n",
    "        tcn = 'description'\n",
    "    ).open_cross_section_reg_df(\n",
    "    )\n",
    "\n",
    "d2 = d1.reg_for_all_subsamples_for_all_y_vars(\n",
    "        reg_type='cross_section_ols'\n",
    "    ).graph_beta_parallel_trends(\n",
    "        name1='Leaders',\n",
    "        alpha=0.05\n",
    "    ).graph_beta_parallel_trends(\n",
    "        name1='Non-leaders',\n",
    "        alpha=0.05\n",
    "    )"
   ],
   "metadata": {
    "collapsed": false,
    "pycharm": {
     "name": "#%%\n"
    }
   }
  },
  {
   "cell_type": "markdown",
   "source": [
    "# Regression"
   ],
   "metadata": {
    "collapsed": false
   }
  },
  {
   "cell_type": "markdown",
   "source": [
    "## OLS regression"
   ],
   "metadata": {
    "collapsed": false
   }
  },
  {
   "cell_type": "code",
   "execution_count": null,
   "outputs": [],
   "source": [
    "%run -i 'STEP8_ESSAY_2_3_stats_and_regs_201907.py'\n",
    "\n",
    "d1 = essay_23_stats_and_regs_201907(\n",
    "        tcn = 'description'\n",
    "    ).open_cross_section_reg_df(\n",
    "    ).reg_for_all_subsamples_for_all_y_vars(\n",
    "        reg_type='cross_section_ols'\n",
    "    ).put_reg_results_into_pandas_for_all_y_var(\n",
    "        reg_type='cross_section_ols',\n",
    "        the_panel='202106'\n",
    "    )"
   ],
   "metadata": {
    "collapsed": false,
    "pycharm": {
     "name": "#%%\n"
    }
   }
  },
  {
   "cell_type": "markdown",
   "source": [
    "## panel regression"
   ],
   "metadata": {
    "collapsed": false
   }
  },
  {
   "cell_type": "code",
   "execution_count": null,
   "outputs": [],
   "source": [
    "%run -i 'STEP8_ESSAY_2_3_stats_and_regs_201907.py'\n",
    "\n",
    "d1 = essay_23_stats_and_regs_201907(\n",
    "        tcn = 'description'\n",
    "    ).open_cross_section_reg_df(\n",
    "    ).reg_for_all_subsamples_for_all_y_vars(\n",
    "        reg_type='panel_pooled_ols'\n",
    "    ).put_reg_results_into_pandas_for_all_y_var(\n",
    "        reg_type='panel_pooled_ols'\n",
    "    )"
   ],
   "metadata": {
    "collapsed": false,
    "pycharm": {
     "name": "#%%\n"
    }
   }
  }
 ],
 "metadata": {
  "kernelspec": {
   "name": "pycharm-219095c7",
   "language": "python",
   "display_name": "PyCharm (pythonProject)"
  },
  "language_info": {
   "codemirror_mode": {
    "name": "ipython",
    "version": 2
   },
   "file_extension": ".py",
   "mimetype": "text/x-python",
   "name": "python",
   "nbconvert_exporter": "python",
   "pygments_lexer": "ipython2",
   "version": "2.7.6"
  },
  "pycharm": {
   "stem_cell": {
    "cell_type": "raw",
    "source": [
     "\n"
    ],
    "metadata": {
     "collapsed": false
    }
   }
  }
 },
 "nbformat": 4,
 "nbformat_minor": 0
}