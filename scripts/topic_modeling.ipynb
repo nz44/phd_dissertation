{
 "cells": [
  {
   "cell_type": "code",
   "execution_count": 4,
   "metadata": {
    "collapsed": true
   },
   "outputs": [
    {
     "name": "stdout",
     "output_type": "stream",
     "text": [
      "['though', 'herein', 'been', 'sometimes', 'they', 'used', 'anything', 'and', 'six', 'too', '’ve', 'beyond', 'her', 'them', 'the', 're', 'often', 'along', 'will', 'seems', 'therein', 'thus', '’m', 'what', 'put', 'further', 'someone', 'anywhere', 'should', 'former', 'ten', 'up', 'him', 'just', 'seem', 'become', 'latter', 'afterwards', 'than', 'whereby', 'to', 'except', 'various', 'is', 'off', 'alone', 'after', 'latterly', 'nevertheless', 'has', 'go', 'thereafter', 'a', '’d', 'own', 'anyway', '‘re', 'yours', 'make', 'five', 'now', 'an', 'onto', 'whence', 'do', '‘d', 'out', 'those', 'our', 'mine', 'however', 'due', 'at', '’s', 'hers', 'whenever', 'elsewhere', 'beside', 'more', 'itself', 'unless', 'across', 'meanwhile', 'into', 'whose', 'these', 'or', 'get', 'whom', 'be', 'either', 'are', 'around', 'nor', 'most', 'indeed', 'ca', 'already', 'am', '‘ll', 'did', 'ourselves', 'next', 'whatever', 'may', 'many', 'but', 'fifteen', 'behind', 'please', 'else', 'here', 'under', 'sixty', 'call', 'same', 'toward', 'with', 'again', 'its', 'could', 'some', 'there', 'being', 'upon', 'themselves', 'can', 'besides', 'keep', 'nobody', 'becoming', 'everyone', 'serious', 'who', 'if', 'against', 'where', 'she', 'once', 'empty', 'hereby', 'when', 'another', 'whole', 'bottom', 'yet', 'least', 'quite', 'wherein', 'whereafter', \"'ve\", 'anyone', 'other', 'seeming', 'was', '’re', '’ll', 'only', 'by', 'you', 'well', 'all', 'cannot', 'take', '‘s', 'everything', 'that', 'made', 'for', 'before', 'their', 'also', 'since', 'none', 'regarding', 'full', 'beforehand', 'doing', 'me', 'perhaps', 'yourselves', \"n't\", 'no', 'twenty', 'became', 'had', 'among', 'n‘t', 'n’t', 'using', 'during', 'twelve', 'without', 'still', 'within', 'then', 'much', 'while', 'each', 'whereas', 'whether', 'towards', 'forty', 'side', 'were', 'becomes', 'i', 'see', 'not', 'show', 'first', '‘ve', 'eight', 'he', 'us', 'always', 'name', 'have', 'it', 'therefore', \"'d\", 'in', 'would', 'neither', 'amongst', '‘m', 'thereby', 'between', 'this', 'nothing', 'amount', 'hereupon', 'anyhow', 'back', 'whither', 'everywhere', 'until', 'nowhere', 'from', 'say', 'about', 'must', 'give', \"'m\", 'every', 'part', 'move', 'moreover', 'my', 'sometime', 'below', 'two', 'namely', 'via', 'front', 'others', 'through', 'above', 'of', 'hundred', 'might', \"'ll\", 'such', 'any', 'so', 'hereafter', 'ours', 'does', 'last', 'as', 'we', 'four', 'something', 'both', 'several', 'how', 'although', 'because', 'top', 'thereupon', 'whoever', 'on', 'hence', 'eleven', 'myself', 'his', 'together', 'your', \"'re\", 'nine', 'over', 'down', 'third', 'done', 'rather', 'really', \"'s\", 'somehow', 'never', 'herself', 'mostly', 'yourself', 'ever', 'one', 'three', 'per', 'formerly', 'throughout', 'noone', 'which', 'even', 'less', 'thence', 'whereupon', 'few', 'why', 'very', 'himself', 'seemed', 'enough', 'otherwise', 'fifty', 'somewhere', 'thru', 'wherever', 'almost']\n"
     ]
    }
   ],
   "source": [
    "%matplotlib inline\n",
    "%run -i '4_natural_language_processing.py'\n",
    "\n"
   ]
  },
  {
   "cell_type": "code",
   "execution_count": 13,
   "outputs": [
    {
     "ename": "NameError",
     "evalue": "name 'spacy_upgrade' is not defined",
     "output_type": "error",
     "traceback": [
      "\u001B[0;31m---------------------------------------------------------------------------\u001B[0m",
      "\u001B[0;31mNameError\u001B[0m                                 Traceback (most recent call last)",
      "\u001B[0;32m~/Insync/naixin88@sina.cn/OneDrive/__CODING__/PycharmProjects/GOOGLE_PLAY/scripts/4_natural_language_processing.py\u001B[0m in \u001B[0;36m<module>\u001B[0;34m\u001B[0m\n\u001B[0;32m----> 1\u001B[0;31m spacy_upgrade(\n\u001B[0m\u001B[1;32m      2\u001B[0m   \u001B[0mconda\u001B[0m \u001B[0;34m=\u001B[0m \u001B[0;34m\"auto\"\u001B[0m\u001B[0;34m,\u001B[0m\u001B[0;34m\u001B[0m\u001B[0;34m\u001B[0m\u001B[0m\n\u001B[1;32m      3\u001B[0m   \u001B[0menvname\u001B[0m \u001B[0;34m=\u001B[0m \u001B[0;34m\"GOOGLE_PLAY\"\u001B[0m\u001B[0;34m,\u001B[0m\u001B[0;34m\u001B[0m\u001B[0;34m\u001B[0m\u001B[0m\n\u001B[1;32m      4\u001B[0m   \u001B[0mprompt\u001B[0m \u001B[0;34m=\u001B[0m \u001B[0mTRUE\u001B[0m\u001B[0;34m,\u001B[0m\u001B[0;34m\u001B[0m\u001B[0;34m\u001B[0m\u001B[0m\n\u001B[1;32m      5\u001B[0m   \u001B[0mpip\u001B[0m \u001B[0;34m=\u001B[0m \u001B[0mFALSE\u001B[0m\u001B[0;34m,\u001B[0m\u001B[0;34m\u001B[0m\u001B[0;34m\u001B[0m\u001B[0m\n",
      "\u001B[0;31mNameError\u001B[0m: name 'spacy_upgrade' is not defined"
     ]
    }
   ],
   "source": [
    "# TEST CELL\n",
    "folder_name = '201908' + '_PANEL_DF'\n",
    "f_name = '201908' + '_MERGED.pickle'\n",
    "q = input_path / '__PANELS__' / folder_name / f_name\n",
    "with open(q, 'rb') as f:\n",
    "    D = pickle.load(f)"
   ],
   "metadata": {
    "collapsed": false,
    "pycharm": {
     "name": "#%%\n"
    }
   }
  },
  {
   "cell_type": "code",
   "execution_count": null,
   "outputs": [],
   "source": [],
   "metadata": {
    "collapsed": false,
    "pycharm": {
     "name": "#%%\n"
    }
   }
  }
 ],
 "metadata": {
  "kernelspec": {
   "display_name": "Python 3",
   "language": "python",
   "name": "python3"
  },
  "language_info": {
   "codemirror_mode": {
    "name": "ipython",
    "version": 2
   },
   "file_extension": ".py",
   "mimetype": "text/x-python",
   "name": "python",
   "nbconvert_exporter": "python",
   "pygments_lexer": "ipython2",
   "version": "2.7.6"
  },
  "pycharm": {
   "stem_cell": {
    "cell_type": "raw",
    "source": [
     "Date: 2020 Oct 20 Tuesday\n",
     "\n",
     "I will use a variable defining whether an app is a niche product as my independent variable; my dependent variable is\n",
     "pricing (refer to variable construction in When Private Information Settles the Bill: Money and Privacy in\n",
     "Google’s Market for Smartphone Applications, Michael Kummer and Patrick Schulte\n",
     "\n",
     "1. dummy showing paid or free \n",
     "2. natural log of price\n",
     "\n",
     "The definition of niche products are products are aimed at similar functions. Those\n",
     "apps with similar purposes (the broad group would be pre-defined genreId, the niche definition would be\n",
     "products within the same category)\n",
     "\n",
     "To differentiate between an all-purpose product and a niche product, we would first classify the apps into many small\n",
     "categories (using natural language process on the description and titles). The none-niche product would be classified into\n",
     "many categories because it encompass many functions. On the other hand, the niche products will only be grouped\n",
     "into a single niche category.\n",
     "\n"
    ],
    "metadata": {
     "collapsed": false
    }
   }
  }
 },
 "nbformat": 4,
 "nbformat_minor": 0
}