{
 "cells": [
  {
   "cell_type": "code",
   "execution_count": 1,
   "metadata": {
    "collapsed": true
   },
   "outputs": [
    {
     "data": {
      "text/plain": "HBox(children=(HTML(value=''), FloatProgress(value=1.0, bar_style='info', layout=Layout(width='20px'), max=1.0…",
      "application/vnd.jupyter.widget-view+json": {
       "version_major": 2,
       "version_minor": 0,
       "model_id": "a74729c3b3f54212a93e88024f84691f"
      }
     },
     "metadata": {},
     "output_type": "display_data"
    },
    {
     "name": "stdout",
     "output_type": "stream",
     "text": [
      "\n"
     ]
    }
   ],
   "source": [
    "%matplotlib inline\n",
    "%run -i '0_paths.py'\n",
    "%run -i '4_natural_language_processing.py'"
   ]
  },
  {
   "cell_type": "markdown",
   "source": [
    "# convert text dataframe to tokenized dataframe"
   ],
   "metadata": {
    "collapsed": false,
    "pycharm": {
     "name": "#%% md\n"
    }
   }
  },
  {
   "cell_type": "code",
   "execution_count": 28,
   "outputs": [],
   "source": [
    "# TEST convert a entire dataframe\n",
    "%run -i '4_natural_language_processing.py'\n",
    "XD = convert_text_dataframe_to_nlp_tokens(XD, '201908', 'description')"
   ],
   "metadata": {
    "collapsed": false,
    "pycharm": {
     "name": "#%%\n"
    }
   }
  },
  {
   "cell_type": "code",
   "execution_count": null,
   "outputs": [],
   "source": [
    "# why the tokens inside XD is different from transforming a single string\n",
    "print(XD.loc['com.Stop4Sanity.LowriderCarGamePro', 'description_201912'])\n",
    "#print(XD.loc['com.Stop4Sanity.LowriderCarGamePro', :])"
   ],
   "metadata": {
    "collapsed": false,
    "pycharm": {
     "name": "#%%\n"
    }
   }
  },
  {
   "cell_type": "code",
   "execution_count": 56,
   "outputs": [
    {
     "name": "stderr",
     "output_type": "stream",
     "text": [
      "/home/naixin/anaconda3/envs/GOOGLE_PLAY/lib/python3.8/site-packages/pandas/core/frame.py:4317: SettingWithCopyWarning: \n",
      "A value is trying to be set on a copy of a slice from a DataFrame\n",
      "\n",
      "See the caveats in the documentation: https://pandas.pydata.org/pandas-docs/stable/user_guide/indexing.html#returning-a-view-versus-a-copy\n",
      "  return super().fillna(\n",
      "converting the next dataframe:   0%|          | 0/239 [00:00<?, ?it/s]/home/naixin/Insync/naixin88@sina.cn/OneDrive/__CODING__/PycharmProjects/GOOGLE_PLAY/scripts/4_natural_language_processing.py:87: SettingWithCopyWarning: \n",
      "A value is trying to be set on a copy of a slice from a DataFrame.\n",
      "Try using .loc[row_indexer,col_indexer] = value instead\n",
      "\n",
      "See the caveats in the documentation: https://pandas.pydata.org/pandas-docs/stable/user_guide/indexing.html#returning-a-view-versus-a-copy\n",
      "  XD = pd.concat(list_of_dfs)\n",
      "converting the next dataframe: 100%|██████████| 239/239 [4:35:50<00:00, 69.25s/it]  \n"
     ]
    }
   ],
   "source": [
    "# don't run below if you have run once, it takes hours\n",
    "%run -i '4_natural_language_processing.py'\n",
    "XE = convert_df_to_nlp_tokens('201908', 'description')"
   ],
   "metadata": {
    "collapsed": false,
    "pycharm": {
     "name": "#%%\n"
    }
   }
  },
  {
   "cell_type": "code",
   "execution_count": 57,
   "outputs": [
    {
     "data": {
      "text/plain": "                                    description_201908  \\\nyio.tro.bleentoro_pro                      [available]   \nmahjong.games.mahjong.classic.free         [available]   \nfr.thema.wear.watch.drive                  [available]   \ncom.itdcs.phototherapycalculator           [available]   \ncom.codigames.market.idle.tycoon           [available]   \ncom.nytimes.android                        [available]   \ncom.fortali.sketchcutpro                   [available]   \ncom.solou.catendless.run                   [available]   \ncom.outfit7.mytalkingangelafree            [available]   \ncom.km.cutpaste.util                       [available]   \ncom.oneup.word.search                      [available]   \ncom.pishtech.mifdp                         [available]   \ncom.randomsaladgames.heartsdeluxe          [available]   \ncom.planetfitness                          [available]   \ncom.avcrbt.funimate                        [available]   \nncaa.logolwp_ohiostate                     [available]   \ncom.droid27.sensev2flipclockweather        [available]   \ncom.tabtale.unicorn.food                   [available]   \ncom.ewtn.ncrreader                         [available]   \ncom.moonactive.coinmaster                  [available]   \n\n                                                                    description_201912  \\\nyio.tro.bleentoro_pro                [bleentoro, simple, logic, game, advertisement...   \nmahjong.games.mahjong.classic.free   [mahjong, classic, solitaire, know, mah, jong,...   \nfr.thema.wear.watch.drive            [driver, watch, face, wear, os, \\n, samsung, g...   \ncom.itdcs.phototherapycalculator     [application, help, assess, neonate, need, pho...   \ncom.codigames.market.idle.tycoon     [ready, rich?\\nbecome, rich, supermarket, entr...   \ncom.nytimes.android                  [understand, world, award, win, independent, j...   \ncom.fortali.sketchcutpro             [app, take, account, specific, characteristic,...   \ncom.solou.catendless.run             [cat, runner, good, cat, running, game, decora...   \ncom.outfit7.mytalkingangelafree      [talk, angela, virtual, pet, style, family, en...   \ncom.km.cutpaste.util                 [change, photo, background, single, click.\\ncu...   \ncom.oneup.word.search                [welcome, search, word, word, game, modern, wo...   \ncom.pishtech.mifdp                   [ad, free, app, purchase, free, version, ice, ...   \ncom.randomsaladgames.heartsdeluxe    [play, popular, card, game, heart, android, \\n...   \ncom.planetfitness                    [welcome, new, planet, fitness, app, \\ncheck, ...   \ncom.avcrbt.funimate                  [good, video, editor, video, maker, music, eff...   \nncaa.logolwp_ohiostate               [8, officially, license, ohio, state, buckeye,...   \ncom.droid27.sensev2flipclockweather  [sense, v2, flip, clock, weather, feature, dig...   \ncom.tabtale.unicorn.food             [hungry, eat, boring, normal, food, eat, color...   \ncom.ewtn.ncrreader                   [national, catholic, register, app, read, fine...   \ncom.moonactive.coinmaster            [join, facebook, friend, million, player, worl...   \n\n                                                                    description_202001  \\\nyio.tro.bleentoro_pro                [bleentoro, simple, logic, game, advertisement...   \nmahjong.games.mahjong.classic.free   [mahjong, classic, solitaire, know, mah, jong,...   \nfr.thema.wear.watch.drive            [driver, watch, face, wear, os, \\n, samsung, g...   \ncom.itdcs.phototherapycalculator     [application, help, assess, neonate, need, pho...   \ncom.codigames.market.idle.tycoon     [ready, rich?\\nbecome, rich, supermarket, entr...   \ncom.nytimes.android                  [understand, world, award, win, independent, j...   \ncom.fortali.sketchcutpro             [app, take, account, specific, characteristic,...   \ncom.solou.catendless.run             [cat, runner, good, cat, running, game, decora...   \ncom.outfit7.mytalkingangelafree      [talk, angela, virtual, pet, style, family, en...   \ncom.km.cutpaste.util                 [change, photo, background, single, click.\\ncu...   \ncom.oneup.word.search                [welcome, search, word, word, game, modern, wo...   \ncom.pishtech.mifdp                   [ad, free, app, purchase, free, version, ice, ...   \ncom.randomsaladgames.heartsdeluxe    [play, popular, card, game, heart, android, \\n...   \ncom.planetfitness                    [welcome, new, planet, fitness, app, \\ncheck, ...   \ncom.avcrbt.funimate                  [good, video, editor, video, maker, music, eff...   \nncaa.logolwp_ohiostate               [8, officially, license, ohio, state, buckeye,...   \ncom.droid27.sensev2flipclockweather  [sense, v2, flip, clock, weather, feature, dig...   \ncom.tabtale.unicorn.food             [hungry, eat, boring, normal, food, eat, color...   \ncom.ewtn.ncrreader                   [national, catholic, register, app, read, fine...   \ncom.moonactive.coinmaster            [join, facebook, friend, million, player, worl...   \n\n                                                                    description_202003  \\\nyio.tro.bleentoro_pro                [bleentoro, simple, logic, game, advertisement...   \nmahjong.games.mahjong.classic.free   [mahjong, classic, solitaire, know, mah, jong,...   \nfr.thema.wear.watch.drive            [driver, watch, face, wear, os, samsung, gear,...   \ncom.itdcs.phototherapycalculator     [application, help, assess, neonate, need, pho...   \ncom.codigames.market.idle.tycoon     [ready, rich, rich, supermarket, entrepreneur,...   \ncom.nytimes.android                  [understand, world, award, win, independent, j...   \ncom.fortali.sketchcutpro             [app, take, account, specific, characteristic,...   \ncom.solou.catendless.run             [cat, runner, good, cat, running, game, decora...   \ncom.outfit7.mytalkingangelafree      [talk, angela, virtual, pet, style, family, en...   \ncom.km.cutpaste.util                 [change, photo, background, single, click, cut...   \ncom.oneup.word.search                [welcome, search, word, word, game, modern, wo...   \ncom.pishtech.mifdp                   [ad, free, app, purchase, free, version, ice, ...   \ncom.randomsaladgames.heartsdeluxe    [play, popular, card, game, heart, android, he...   \ncom.planetfitness                    [welcome, new, planet, fitness, app, check, aw...   \ncom.avcrbt.funimate                  [<, h1, good, video, editor, video, maker, mus...   \nncaa.logolwp_ohiostate               [8, officially, license, ohio, state, buckeye,...   \ncom.droid27.sensev2flipclockweather  [sense, v2, flip, clock, weather, feature, dig...   \ncom.tabtale.unicorn.food             [hungry, eat, boring, normal, food, eat, color...   \ncom.ewtn.ncrreader                   [national, catholic, register, app, read, fine...   \ncom.moonactive.coinmaster            [join, facebook, friend, million, player, worl...   \n\n                                                                    description_202004  \\\nyio.tro.bleentoro_pro                [bleentoro, simple, logic, game, advertisement...   \nmahjong.games.mahjong.classic.free   [mahjong, classic, solitaire, know, mah, jong,...   \nfr.thema.wear.watch.drive            [driver, watch, face, wear, os, samsung, gear,...   \ncom.itdcs.phototherapycalculator     [application, help, assess, neonate, need, pho...   \ncom.codigames.market.idle.tycoon     [ready, rich, rich, supermarket, entrepreneur,...   \ncom.nytimes.android                  [understand, world, award, win, independent, j...   \ncom.fortali.sketchcutpro             [app, take, account, specific, characteristic,...   \ncom.solou.catendless.run             [cat, runner, good, cat, running, game, decora...   \ncom.outfit7.mytalkingangelafree      [talk, angela, virtual, pet, style, family, en...   \ncom.km.cutpaste.util                 [change, photo, background, single, click, cut...   \ncom.oneup.word.search                [welcome, search, word, word, game, modern, wo...   \ncom.pishtech.mifdp                   [ad, free, app, purchase, free, version, ice, ...   \ncom.randomsaladgames.heartsdeluxe    [play, popular, card, game, heart, android, he...   \ncom.planetfitness                    [welcome, new, planet, fitness, app, check, aw...   \ncom.avcrbt.funimate                  [good, video, editor, video, maker, music, eff...   \nncaa.logolwp_ohiostate               [8, officially, license, ohio, state, buckeye,...   \ncom.droid27.sensev2flipclockweather  [sense, v2, flip, clock, weather, feature, dig...   \ncom.tabtale.unicorn.food             [hungry, eat, boring, normal, food, eat, color...   \ncom.ewtn.ncrreader                   [national, catholic, register, app, read, fine...   \ncom.moonactive.coinmaster            [join, facebook, friend, million, player, worl...   \n\n                                                                    description_202009  \\\nyio.tro.bleentoro_pro                [bleentoro, simple, logic, game, advertisement...   \nmahjong.games.mahjong.classic.free   [mahjong, classic, solitaire, know, mah, jong,...   \nfr.thema.wear.watch.drive            [driver, watch, face, wear, os, samsung, gear,...   \ncom.itdcs.phototherapycalculator     [application, help, assess, neonate, need, pho...   \ncom.codigames.market.idle.tycoon     [ready, rich, rich, supermarket, entrepreneur,...   \ncom.nytimes.android                  [understand, world, award, win, independent, j...   \ncom.fortali.sketchcutpro             [app, take, account, specific, characteristic,...   \ncom.solou.catendless.run             [cat, runner, good, cat, running, game, decora...   \ncom.outfit7.mytalkingangelafree      [talk, angela, virtual, pet, style, family, en...   \ncom.km.cutpaste.util                 [change, photo, background, single, click, cut...   \ncom.oneup.word.search                [welcome, search, word, word, game, modern, wo...   \ncom.pishtech.mifdp                   [ad, free, app, purchase, free, version, ice, ...   \ncom.randomsaladgames.heartsdeluxe    [play, popular, card, game, heart, android, he...   \ncom.planetfitness                    [welcome, new, planet, fitness, app, check, aw...   \ncom.avcrbt.funimate                  [good, video, editor, video, maker, music, eff...   \nncaa.logolwp_ohiostate               [8, officially, license, ohio, state, buckeye,...   \ncom.droid27.sensev2flipclockweather  [sense, v2, flip, clock, weather, feature, dig...   \ncom.tabtale.unicorn.food             [hungry, eat, boring, normal, food, eat, color...   \ncom.ewtn.ncrreader                   [national, catholic, register, app, read, fine...   \ncom.moonactive.coinmaster            [join, facebook, friend, million, player, worl...   \n\n                                                                    description_202010  \\\nyio.tro.bleentoro_pro                [bleentoro, simple, logic, game, advertisement...   \nmahjong.games.mahjong.classic.free   [mahjong, classic, solitaire, know, mah, jong,...   \nfr.thema.wear.watch.drive            [driver, watch, face, wear, os, samsung, gear,...   \ncom.itdcs.phototherapycalculator     [application, help, assess, neonate, need, pho...   \ncom.codigames.market.idle.tycoon     [ready, rich, rich, supermarket, entrepreneur,...   \ncom.nytimes.android                  [understand, world, award, win, independent, j...   \ncom.fortali.sketchcutpro             [app, take, account, specific, characteristic,...   \ncom.solou.catendless.run             [cat, runner, good, cat, running, game, decora...   \ncom.outfit7.mytalkingangelafree      [talk, angela, virtual, pet, style, family, en...   \ncom.km.cutpaste.util                 [change, photo, background, single, click, cut...   \ncom.oneup.word.search                [welcome, search, word, word, game, modern, wo...   \ncom.pishtech.mifdp                   [ad, free, app, purchase, free, version, ice, ...   \ncom.randomsaladgames.heartsdeluxe    [play, popular, card, game, heart, android, he...   \ncom.planetfitness                    [welcome, new, planet, fitness, app, check, aw...   \ncom.avcrbt.funimate                  [good, video, editor, video, maker, music, eff...   \nncaa.logolwp_ohiostate               [8, officially, license, ohio, state, buckeye,...   \ncom.droid27.sensev2flipclockweather  [sense, v2, flip, clock, weather, feature, dig...   \ncom.tabtale.unicorn.food             [hungry, eat, boring, normal, food, eat, color...   \ncom.ewtn.ncrreader                   [national, catholic, register, app, read, fine...   \ncom.moonactive.coinmaster            [join, facebook, friend, million, player, worl...   \n\n                                                                    description_202011  \nyio.tro.bleentoro_pro                [bleentoro, simple, logic, game, advertisement...  \nmahjong.games.mahjong.classic.free   [mahjong, classic, solitaire, know, mah, jong,...  \nfr.thema.wear.watch.drive            [driver, watch, face, wear, os, samsung, gear,...  \ncom.itdcs.phototherapycalculator     [application, help, assess, neonate, need, pho...  \ncom.codigames.market.idle.tycoon     [ready, rich, rich, supermarket, entrepreneur,...  \ncom.nytimes.android                  [understand, world, award, win, independent, j...  \ncom.fortali.sketchcutpro             [app, take, account, specific, characteristic,...  \ncom.solou.catendless.run             [cat, runner, good, cat, running, game, decora...  \ncom.outfit7.mytalkingangelafree      [talk, angela, virtual, pet, style, family, en...  \ncom.km.cutpaste.util                 [change, photo, background, single, click, cut...  \ncom.oneup.word.search                [welcome, search, word, word, game, modern, wo...  \ncom.pishtech.mifdp                   [ad, free, app, purchase, free, version, ice, ...  \ncom.randomsaladgames.heartsdeluxe    [play, popular, card, game, heart, android, he...  \ncom.planetfitness                    [welcome, new, planet, fitness, app, check, aw...  \ncom.avcrbt.funimate                  [good, video, editor, video, maker, music, eff...  \nncaa.logolwp_ohiostate               [8, officially, license, ohio, state, buckeye,...  \ncom.droid27.sensev2flipclockweather  [sense, v2, flip, clock, weather, feature, dig...  \ncom.tabtale.unicorn.food             [hungry, eat, boring, normal, food, eat, color...  \ncom.ewtn.ncrreader                   [national, catholic, register, app, read, fine...  \ncom.moonactive.coinmaster            [join, facebook, friend, million, player, worl...  ",
      "text/html": "<div>\n<style scoped>\n    .dataframe tbody tr th:only-of-type {\n        vertical-align: middle;\n    }\n\n    .dataframe tbody tr th {\n        vertical-align: top;\n    }\n\n    .dataframe thead th {\n        text-align: right;\n    }\n</style>\n<table border=\"1\" class=\"dataframe\">\n  <thead>\n    <tr style=\"text-align: right;\">\n      <th></th>\n      <th>description_201908</th>\n      <th>description_201912</th>\n      <th>description_202001</th>\n      <th>description_202003</th>\n      <th>description_202004</th>\n      <th>description_202009</th>\n      <th>description_202010</th>\n      <th>description_202011</th>\n    </tr>\n  </thead>\n  <tbody>\n    <tr>\n      <th>yio.tro.bleentoro_pro</th>\n      <td>[available]</td>\n      <td>[bleentoro, simple, logic, game, advertisement...</td>\n      <td>[bleentoro, simple, logic, game, advertisement...</td>\n      <td>[bleentoro, simple, logic, game, advertisement...</td>\n      <td>[bleentoro, simple, logic, game, advertisement...</td>\n      <td>[bleentoro, simple, logic, game, advertisement...</td>\n      <td>[bleentoro, simple, logic, game, advertisement...</td>\n      <td>[bleentoro, simple, logic, game, advertisement...</td>\n    </tr>\n    <tr>\n      <th>mahjong.games.mahjong.classic.free</th>\n      <td>[available]</td>\n      <td>[mahjong, classic, solitaire, know, mah, jong,...</td>\n      <td>[mahjong, classic, solitaire, know, mah, jong,...</td>\n      <td>[mahjong, classic, solitaire, know, mah, jong,...</td>\n      <td>[mahjong, classic, solitaire, know, mah, jong,...</td>\n      <td>[mahjong, classic, solitaire, know, mah, jong,...</td>\n      <td>[mahjong, classic, solitaire, know, mah, jong,...</td>\n      <td>[mahjong, classic, solitaire, know, mah, jong,...</td>\n    </tr>\n    <tr>\n      <th>fr.thema.wear.watch.drive</th>\n      <td>[available]</td>\n      <td>[driver, watch, face, wear, os, \\n, samsung, g...</td>\n      <td>[driver, watch, face, wear, os, \\n, samsung, g...</td>\n      <td>[driver, watch, face, wear, os, samsung, gear,...</td>\n      <td>[driver, watch, face, wear, os, samsung, gear,...</td>\n      <td>[driver, watch, face, wear, os, samsung, gear,...</td>\n      <td>[driver, watch, face, wear, os, samsung, gear,...</td>\n      <td>[driver, watch, face, wear, os, samsung, gear,...</td>\n    </tr>\n    <tr>\n      <th>com.itdcs.phototherapycalculator</th>\n      <td>[available]</td>\n      <td>[application, help, assess, neonate, need, pho...</td>\n      <td>[application, help, assess, neonate, need, pho...</td>\n      <td>[application, help, assess, neonate, need, pho...</td>\n      <td>[application, help, assess, neonate, need, pho...</td>\n      <td>[application, help, assess, neonate, need, pho...</td>\n      <td>[application, help, assess, neonate, need, pho...</td>\n      <td>[application, help, assess, neonate, need, pho...</td>\n    </tr>\n    <tr>\n      <th>com.codigames.market.idle.tycoon</th>\n      <td>[available]</td>\n      <td>[ready, rich?\\nbecome, rich, supermarket, entr...</td>\n      <td>[ready, rich?\\nbecome, rich, supermarket, entr...</td>\n      <td>[ready, rich, rich, supermarket, entrepreneur,...</td>\n      <td>[ready, rich, rich, supermarket, entrepreneur,...</td>\n      <td>[ready, rich, rich, supermarket, entrepreneur,...</td>\n      <td>[ready, rich, rich, supermarket, entrepreneur,...</td>\n      <td>[ready, rich, rich, supermarket, entrepreneur,...</td>\n    </tr>\n    <tr>\n      <th>com.nytimes.android</th>\n      <td>[available]</td>\n      <td>[understand, world, award, win, independent, j...</td>\n      <td>[understand, world, award, win, independent, j...</td>\n      <td>[understand, world, award, win, independent, j...</td>\n      <td>[understand, world, award, win, independent, j...</td>\n      <td>[understand, world, award, win, independent, j...</td>\n      <td>[understand, world, award, win, independent, j...</td>\n      <td>[understand, world, award, win, independent, j...</td>\n    </tr>\n    <tr>\n      <th>com.fortali.sketchcutpro</th>\n      <td>[available]</td>\n      <td>[app, take, account, specific, characteristic,...</td>\n      <td>[app, take, account, specific, characteristic,...</td>\n      <td>[app, take, account, specific, characteristic,...</td>\n      <td>[app, take, account, specific, characteristic,...</td>\n      <td>[app, take, account, specific, characteristic,...</td>\n      <td>[app, take, account, specific, characteristic,...</td>\n      <td>[app, take, account, specific, characteristic,...</td>\n    </tr>\n    <tr>\n      <th>com.solou.catendless.run</th>\n      <td>[available]</td>\n      <td>[cat, runner, good, cat, running, game, decora...</td>\n      <td>[cat, runner, good, cat, running, game, decora...</td>\n      <td>[cat, runner, good, cat, running, game, decora...</td>\n      <td>[cat, runner, good, cat, running, game, decora...</td>\n      <td>[cat, runner, good, cat, running, game, decora...</td>\n      <td>[cat, runner, good, cat, running, game, decora...</td>\n      <td>[cat, runner, good, cat, running, game, decora...</td>\n    </tr>\n    <tr>\n      <th>com.outfit7.mytalkingangelafree</th>\n      <td>[available]</td>\n      <td>[talk, angela, virtual, pet, style, family, en...</td>\n      <td>[talk, angela, virtual, pet, style, family, en...</td>\n      <td>[talk, angela, virtual, pet, style, family, en...</td>\n      <td>[talk, angela, virtual, pet, style, family, en...</td>\n      <td>[talk, angela, virtual, pet, style, family, en...</td>\n      <td>[talk, angela, virtual, pet, style, family, en...</td>\n      <td>[talk, angela, virtual, pet, style, family, en...</td>\n    </tr>\n    <tr>\n      <th>com.km.cutpaste.util</th>\n      <td>[available]</td>\n      <td>[change, photo, background, single, click.\\ncu...</td>\n      <td>[change, photo, background, single, click.\\ncu...</td>\n      <td>[change, photo, background, single, click, cut...</td>\n      <td>[change, photo, background, single, click, cut...</td>\n      <td>[change, photo, background, single, click, cut...</td>\n      <td>[change, photo, background, single, click, cut...</td>\n      <td>[change, photo, background, single, click, cut...</td>\n    </tr>\n    <tr>\n      <th>com.oneup.word.search</th>\n      <td>[available]</td>\n      <td>[welcome, search, word, word, game, modern, wo...</td>\n      <td>[welcome, search, word, word, game, modern, wo...</td>\n      <td>[welcome, search, word, word, game, modern, wo...</td>\n      <td>[welcome, search, word, word, game, modern, wo...</td>\n      <td>[welcome, search, word, word, game, modern, wo...</td>\n      <td>[welcome, search, word, word, game, modern, wo...</td>\n      <td>[welcome, search, word, word, game, modern, wo...</td>\n    </tr>\n    <tr>\n      <th>com.pishtech.mifdp</th>\n      <td>[available]</td>\n      <td>[ad, free, app, purchase, free, version, ice, ...</td>\n      <td>[ad, free, app, purchase, free, version, ice, ...</td>\n      <td>[ad, free, app, purchase, free, version, ice, ...</td>\n      <td>[ad, free, app, purchase, free, version, ice, ...</td>\n      <td>[ad, free, app, purchase, free, version, ice, ...</td>\n      <td>[ad, free, app, purchase, free, version, ice, ...</td>\n      <td>[ad, free, app, purchase, free, version, ice, ...</td>\n    </tr>\n    <tr>\n      <th>com.randomsaladgames.heartsdeluxe</th>\n      <td>[available]</td>\n      <td>[play, popular, card, game, heart, android, \\n...</td>\n      <td>[play, popular, card, game, heart, android, \\n...</td>\n      <td>[play, popular, card, game, heart, android, he...</td>\n      <td>[play, popular, card, game, heart, android, he...</td>\n      <td>[play, popular, card, game, heart, android, he...</td>\n      <td>[play, popular, card, game, heart, android, he...</td>\n      <td>[play, popular, card, game, heart, android, he...</td>\n    </tr>\n    <tr>\n      <th>com.planetfitness</th>\n      <td>[available]</td>\n      <td>[welcome, new, planet, fitness, app, \\ncheck, ...</td>\n      <td>[welcome, new, planet, fitness, app, \\ncheck, ...</td>\n      <td>[welcome, new, planet, fitness, app, check, aw...</td>\n      <td>[welcome, new, planet, fitness, app, check, aw...</td>\n      <td>[welcome, new, planet, fitness, app, check, aw...</td>\n      <td>[welcome, new, planet, fitness, app, check, aw...</td>\n      <td>[welcome, new, planet, fitness, app, check, aw...</td>\n    </tr>\n    <tr>\n      <th>com.avcrbt.funimate</th>\n      <td>[available]</td>\n      <td>[good, video, editor, video, maker, music, eff...</td>\n      <td>[good, video, editor, video, maker, music, eff...</td>\n      <td>[&lt;, h1, good, video, editor, video, maker, mus...</td>\n      <td>[good, video, editor, video, maker, music, eff...</td>\n      <td>[good, video, editor, video, maker, music, eff...</td>\n      <td>[good, video, editor, video, maker, music, eff...</td>\n      <td>[good, video, editor, video, maker, music, eff...</td>\n    </tr>\n    <tr>\n      <th>ncaa.logolwp_ohiostate</th>\n      <td>[available]</td>\n      <td>[8, officially, license, ohio, state, buckeye,...</td>\n      <td>[8, officially, license, ohio, state, buckeye,...</td>\n      <td>[8, officially, license, ohio, state, buckeye,...</td>\n      <td>[8, officially, license, ohio, state, buckeye,...</td>\n      <td>[8, officially, license, ohio, state, buckeye,...</td>\n      <td>[8, officially, license, ohio, state, buckeye,...</td>\n      <td>[8, officially, license, ohio, state, buckeye,...</td>\n    </tr>\n    <tr>\n      <th>com.droid27.sensev2flipclockweather</th>\n      <td>[available]</td>\n      <td>[sense, v2, flip, clock, weather, feature, dig...</td>\n      <td>[sense, v2, flip, clock, weather, feature, dig...</td>\n      <td>[sense, v2, flip, clock, weather, feature, dig...</td>\n      <td>[sense, v2, flip, clock, weather, feature, dig...</td>\n      <td>[sense, v2, flip, clock, weather, feature, dig...</td>\n      <td>[sense, v2, flip, clock, weather, feature, dig...</td>\n      <td>[sense, v2, flip, clock, weather, feature, dig...</td>\n    </tr>\n    <tr>\n      <th>com.tabtale.unicorn.food</th>\n      <td>[available]</td>\n      <td>[hungry, eat, boring, normal, food, eat, color...</td>\n      <td>[hungry, eat, boring, normal, food, eat, color...</td>\n      <td>[hungry, eat, boring, normal, food, eat, color...</td>\n      <td>[hungry, eat, boring, normal, food, eat, color...</td>\n      <td>[hungry, eat, boring, normal, food, eat, color...</td>\n      <td>[hungry, eat, boring, normal, food, eat, color...</td>\n      <td>[hungry, eat, boring, normal, food, eat, color...</td>\n    </tr>\n    <tr>\n      <th>com.ewtn.ncrreader</th>\n      <td>[available]</td>\n      <td>[national, catholic, register, app, read, fine...</td>\n      <td>[national, catholic, register, app, read, fine...</td>\n      <td>[national, catholic, register, app, read, fine...</td>\n      <td>[national, catholic, register, app, read, fine...</td>\n      <td>[national, catholic, register, app, read, fine...</td>\n      <td>[national, catholic, register, app, read, fine...</td>\n      <td>[national, catholic, register, app, read, fine...</td>\n    </tr>\n    <tr>\n      <th>com.moonactive.coinmaster</th>\n      <td>[available]</td>\n      <td>[join, facebook, friend, million, player, worl...</td>\n      <td>[join, facebook, friend, million, player, worl...</td>\n      <td>[join, facebook, friend, million, player, worl...</td>\n      <td>[join, facebook, friend, million, player, worl...</td>\n      <td>[join, facebook, friend, million, player, worl...</td>\n      <td>[join, facebook, friend, million, player, worl...</td>\n      <td>[join, facebook, friend, million, player, worl...</td>\n    </tr>\n  </tbody>\n</table>\n</div>"
     },
     "execution_count": 57,
     "metadata": {},
     "output_type": "execute_result"
    }
   ],
   "source": [
    "D = XE.sample(n=20)\n",
    "D"
   ],
   "metadata": {
    "collapsed": false,
    "pycharm": {
     "name": "#%%\n"
    }
   }
  },
  {
   "cell_type": "markdown",
   "source": [
    "# start from here once you have tokenized everything\n",
    "### Test Cell\n",
    "below is a test cell that all procedures will be applied to all the cells\n",
    "containing app descriptions"
   ],
   "metadata": {
    "collapsed": false,
    "pycharm": {
     "name": "#%% md\n"
    }
   }
  },
  {
   "cell_type": "markdown",
   "source": [
    "The top ranked terms from the H factor for each topic can give us an insight\n",
    "into the content of that topic.\n",
    "This is often called the topic descriptor."
   ],
   "metadata": {
    "collapsed": false,
    "pycharm": {
     "name": "#%% md\n"
    }
   }
  },
  {
   "cell_type": "code",
   "execution_count": 4,
   "outputs": [
    {
     "data": {
      "text/plain": "HBox(children=(HTML(value=''), FloatProgress(value=1.0, bar_style='info', layout=Layout(width='20px'), max=1.0…",
      "application/vnd.jupyter.widget-view+json": {
       "version_major": 2,
       "version_minor": 0,
       "model_id": "24459e8f0c414b899f4148c705ede6b0"
      }
     },
     "metadata": {},
     "output_type": "display_data"
    },
    {
     "name": "stdout",
     "output_type": "stream",
     "text": [
      "\n",
      "379\n",
      "379\n",
      "392\n",
      "392\n",
      "392\n",
      "392\n",
      "392\n",
      "2718\n",
      "['wheel', 'legendary', 'gt', 'car', 'begin', 'enjoy', 'car', 'driver', 'simulator', 'car', 'game', '2018', 'use', 'nitro', 'booster', 'boost', 'gt', 'car', 'speed', 'drive', 'fast', 'fast', 'forget', 'know', 'racing', 'hit', 'gas', 'feed', 'passion', 'speed', 'car', 'parking', 'racing', 'adventure', 'extreme', 'speed', 'stunt', 'hero', 'impossible', 'car', 'stunt', 'race', 'professional', 'driver', 'stunt', 'car', 'track', '3d', 'race', 'crazy', 'gt', 'speed', 'car', 'impossible', 'race', 'track', 'go', 'amazing', 'experience.\\\\nthe', 'fantastic', 'amazing', 'crazy', 'car', 'stunt', 'stunt', 'track', 'blow', 'mind', 'crazy', 'smart', 'gt', 'car', 'smashing', 'machine', 'super', 'smart', 'drive', 'stunt', 'environment', 'make', 'game', 'interesting', 'extreme', 'city', 'gt', 'car', 'stunt', 'thrilling', 'game', 'car', 'racing', '2018', 'need', 'extreme', 'stunt', 'car', 'driving', 'skill', 'drive', 'safely', 'tricky', 'impossible', 'race', 'track', 'curvy', 'path', 'feel', 'like', 'real', 'smart', 'car', 'driver', 'real', 'crazy', 'mountain', 'height', 'city', 'track', 'accomplish', 'impossible', 'stunt', 'race', 'drive', 'mission', 'drive', 'real', 'super', 'gt', 'car', 'challenge', 'competent', 'complete', 'racing', 'car', 'track', 'driving', 'mission', 'give', 'you.\\\\nmany', 'gear', 'exciting', 'gt', 'car', 'park', 'garage', 'classic', 'car', 'racing', 'gt', 'game', 'car', 'come', 'unique', 'specification', 'speed', 'car', 'dealer', 'set', 'fair', 'car', 'price', 'buying', 'ease', 'play', 'unlock', 'exciting', 'cool', 'car', 'endless', 'exclusive', 'gt', 'drive', 'fun', 'sharpen', 'racing', 'stunt', 'skill', 'drive', 'perform', 'extreme', 'speed', 'stunt', 'car', 'drifting', 'enjoy', 'stunt', 'race', 'time', 'gather', 'worth', 'remember', 'racing', 'experience', 'set', 'new', 'racing', 'record', 'racing', 'world', 'drift', 'car', 'simulator.\\\\ngt', 'racing', 'come', 'super', 'cool', 'amazing', 'environment', 'comprise', 'dangerous', 'enchanting', 'racing', 'track', 'car', 'parking', 'straight', 'curvy', 'road', 'stunt', 'maximum', 'challenge', 'beautiful', 'hill', 'mountain', 'fantastic', 'prop', 'difficult', 'hurdle', 'obstacle', 'amazing', 'river', 'bridge', 'gameplay', 'gt', 'stunt', 'drive', 'include', 'select', 'desire', 'car', 'parking', 'garage', 'drive', 'stunt', 'car', 'racing', 'track', 'reach', 'finish', 'line', 'give', 'time', 'win', 'level', 'nitro', 'booster', 'place', 'place', 'help', 'drive', 'fast', 'impossible', 'stunt', 'road', 'racing', 'mania', 'drive', 'earn', 'coin', 'upgrade', 'classic', 'cars.\\\\ntry', 'good', 'racing', 'adventure', 'hero', 'gt', 'car', 'driver', 'pro', 'android', '\\\\nstay', 'tune', 'extreme', 'stun', 'update', '\\\\nfeatures', 'extreme', 'city', 'gt', 'car', 'stunts:\\\\n\\\\tcomplete', 'range', 'gt', 'car', 'enjoy', 'fast', 'race', 'action\\\\n\\\\tmultiple', 'level', 'satisfy', 'racing', 'needs\\\\n\\\\tseparate', 'car', 'parking', 'gt', 'car', 'selection\\\\n\\\\tendless', 'highway', 'road', 'prop', 'obstacles\\\\n\\\\thd', 'stunning', 'graphic', 'rich', 'road', 'environment\\\\n\\\\tchallenge', 'mission', 'test', 'gt', 'race', 'expertise\\\\n\\\\trealistic', 'high', 'physics', 'car', 'controls\\\\n\\\\tmultiple', '3d', 'camera', 'view', 'angels\\\\n\\\\tbest', 'offline', 'play', 'mode', 'free', 'play', 'stunt', 'race', 'adventure\\\\nready', 'enjoy', 'insane', 'extreme', 'speed', 'stunt', 'race', 'adventure', 'click', 'the\\\\ninstall\\\\nbutton', '\\\\nsupport', 'feedback:\\\\nyour', 'feedback', 'rating', 'important', 'keep\\\\navengers', 'academy\\\\nbusy', 'create', 'fun', 'game', 'engage', 'family', 'friend', 'case', 'find', 'bug', 'need', 'address', 'send', 'email', 'improve', 'reply', 'email', 'soon', 'possible', 'try', 'game', 'clicking\\\\nmore', 'developer\\\\nor', 'visit', 'publisher', 'account', 'wheel', 'legendary', 'gt', 'car', 'begin', 'enjoy', 'car', 'driver', 'simulator', 'car', 'game', '2018', 'use', 'nitro', 'booster', 'boost', 'gt', 'car', 'speed', 'drive', 'fast', 'fast', 'forget', 'know', 'racing', 'hit', 'gas', 'feed', 'passion', 'speed', 'car', 'parking', 'racing', 'adventure', 'extreme', 'speed', 'stunt', 'hero', 'impossible', 'car', 'stunt', 'race', 'professional', 'driver', 'stunt', 'car', 'track', '3d', 'race', 'crazy', 'gt', 'speed', 'car', 'impossible', 'race', 'track', 'go', 'amazing', 'experience.\\\\nthe', 'fantastic', 'amazing', 'crazy', 'car', 'stunt', 'stunt', 'track', 'blow', 'mind', 'crazy', 'smart', 'gt', 'car', 'smashing', 'machine', 'super', 'smart', 'drive', 'stunt', 'environment', 'make', 'game', 'interesting', 'extreme', 'city', 'gt', 'car', 'stunt', 'thrilling', 'game', 'car', 'racing', '2018', 'need', 'extreme', 'stunt', 'car', 'driving', 'skill', 'drive', 'safely', 'tricky', 'impossible', 'race', 'track', 'curvy', 'path', 'feel', 'like', 'real', 'smart', 'car', 'driver', 'real', 'crazy', 'mountain', 'height', 'city', 'track', 'accomplish', 'impossible', 'stunt', 'race', 'drive', 'mission', 'drive', 'real', 'super', 'gt', 'car', 'challenge', 'competent', 'complete', 'racing', 'car', 'track', 'driving', 'mission', 'give', 'you.\\\\nmany', 'gear', 'exciting', 'gt', 'car', 'park', 'garage', 'classic', 'car', 'racing', 'gt', 'game', 'car', 'come', 'unique', 'specification', 'speed', 'car', 'dealer', 'set', 'fair', 'car', 'price', 'buying', 'ease', 'play', 'unlock', 'exciting', 'cool', 'car', 'endless', 'exclusive', 'gt', 'drive', 'fun', 'sharpen', 'racing', 'stunt', 'skill', 'drive', 'perform', 'extreme', 'speed', 'stunt', 'car', 'drifting', 'enjoy', 'stunt', 'race', 'time', 'gather', 'worth', 'remember', 'racing', 'experience', 'set', 'new', 'racing', 'record', 'racing', 'world', 'drift', 'car', 'simulator.\\\\ngt', 'racing', 'come', 'super', 'cool', 'amazing', 'environment', 'comprise', 'dangerous', 'enchanting', 'racing', 'track', 'car', 'parking', 'straight', 'curvy', 'road', 'stunt', 'maximum', 'challenge', 'beautiful', 'hill', 'mountain', 'fantastic', 'prop', 'difficult', 'hurdle', 'obstacle', 'amazing', 'river', 'bridge', 'gameplay', 'gt', 'stunt', 'drive', 'include', 'select', 'desire', 'car', 'parking', 'garage', 'drive', 'stunt', 'car', 'racing', 'track', 'reach', 'finish', 'line', 'give', 'time', 'win', 'level', 'nitro', 'booster', 'place', 'place', 'help', 'drive', 'fast', 'impossible', 'stunt', 'road', 'racing', 'mania', 'drive', 'earn', 'coin', 'upgrade', 'classic', 'cars.\\\\ntry', 'good', 'racing', 'adventure', 'hero', 'gt', 'car', 'driver', 'pro', 'android', '\\\\nstay', 'tune', 'extreme', 'stun', 'update', '\\\\nfeatures', 'extreme', 'city', 'gt', 'car', 'stunts:\\\\n\\\\tcomplete', 'range', 'gt', 'car', 'enjoy', 'fast', 'race', 'action\\\\n\\\\tmultiple', 'level', 'satisfy', 'racing', 'needs\\\\n\\\\tseparate', 'car', 'parking', 'gt', 'car', 'selection\\\\n\\\\tendless', 'highway', 'road', 'prop', 'obstacles\\\\n\\\\thd', 'stunning', 'graphic', 'rich', 'road', 'environment\\\\n\\\\tchallenge', 'mission', 'test', 'gt', 'race', 'expertise\\\\n\\\\trealistic', 'high', 'physics', 'car', 'controls\\\\n\\\\tmultiple', '3d', 'camera', 'view', 'angels\\\\n\\\\tbest', 'offline', 'play', 'mode', 'free', 'play', 'stunt', 'race', 'adventure\\\\nready', 'enjoy', 'insane', 'extreme', 'speed', 'stunt', 'race', 'adventure', 'click', 'the\\\\ninstall\\\\nbutton', '\\\\nsupport', 'feedback:\\\\nyour', 'feedback', 'rating', 'important', 'keep\\\\navengers', 'academy\\\\nbusy', 'create', 'fun', 'game', 'engage', 'family', 'friend', 'case', 'find', 'bug', 'need', 'address', 'send', 'email', 'improve', 'reply', 'email', 'soon', 'possible', 'try', 'game', 'clicking\\\\nmore', 'developer\\\\nor', 'visit', 'publisher', 'account', 'wheel', 'legendary', 'gt', 'car', 'begin', 'enjoy', 'car', 'driver', 'simulator', 'car', 'game', '2018', 'use', 'nitro', 'booster', 'boost', 'gt', 'car', 'speed', 'drive', 'fast', 'fast', 'forget', 'know', 'racing', 'hit', 'gas', 'feed', 'passion', 'speed', 'car', 'parking', 'racing', 'adventure', 'extreme', 'speed', 'stunt', 'hero', 'impossible', 'car', 'stunt', 'race', 'professional', 'driver', 'stunt', 'car', 'track', '3d', 'race', 'crazy', 'gt', 'speed', 'car', 'impossible', 'race', 'track', 'go', 'amazing', 'experience', 'fantastic', 'amazing', 'crazy', 'car', 'stunt', 'stunt', 'track', 'blow', 'mind', 'crazy', 'smart', 'gt', 'car', 'smashing', 'machine', 'super', 'smart', 'drive', 'stunt', 'environment', 'make', 'game', 'interesting', 'extreme', 'city', 'gt', 'car', 'stunt', 'thrilling', 'game', 'car', 'racing', '2018', 'need', 'extreme', 'stunt', 'car', 'driving', 'skill', 'drive', 'safely', 'tricky', 'impossible', 'race', 'track', 'curvy', 'path', 'feel', 'like', 'real', 'smart', 'car', 'driver', 'real', 'crazy', 'mountain', 'height', 'city', 'track', 'accomplish', 'impossible', 'stunt', 'race', 'drive', 'mission', 'drive', 'real', 'super', 'gt', 'car', 'challenge', 'competent', 'complete', 'racing', 'car', 'track', 'driving', 'mission', 'give', 'gear', 'exciting', 'gt', 'car', 'park', 'garage', 'classic', 'car', 'racing', 'gt', 'game', 'car', 'come', 'unique', 'specification', 'speed', 'car', 'dealer', 'set', 'fair', 'car', 'price', 'buying', 'ease', 'play', 'unlock', 'exciting', 'cool', 'car', 'endless', 'exclusive', 'gt', 'drive', 'fun', 'sharpen', 'racing', 'stunt', 'skill', 'drive', 'perform', 'extreme', 'speed', 'stunt', 'car', 'drifting', 'enjoy', 'stunt', 'race', 'time', 'gather', 'worth', 'remember', 'racing', 'experience', 'set', 'new', 'racing', 'record', 'racing', 'world', 'drift', 'car', 'simulator', 'gt', 'racing', 'come', 'super', 'cool', 'amazing', 'environment', 'comprise', 'dangerous', 'enchanting', 'racing', 'track', 'car', 'parking', 'straight', 'curvy', 'road', 'stunt', 'maximum', 'challenge', 'beautiful', 'hill', 'mountain', 'fantastic', 'prop', 'difficult', 'hurdle', 'obstacle', 'amazing', 'river', 'bridge', 'gameplay', 'gt', 'stunt', 'drive', 'include', 'select', 'desire', 'car', 'parking', 'garage', 'drive', 'stunt', 'car', 'racing', 'track', 'reach', 'finish', 'line', 'give', 'time', 'win', 'level', 'nitro', 'booster', 'place', 'place', 'help', 'drive', 'fast', 'impossible', 'stunt', 'road', 'racing', 'mania', 'drive', 'earn', 'coin', 'upgrade', 'classic', 'car', 'try', 'good', 'racing', 'adventure', 'hero', 'gt', 'car', 'driver', 'pro', 'android', 'stay', 'tune', 'extreme', 'stun', 'update', 'feature', 'extreme', 'city', 'gt', 'car', 'stunt', '\\\\tcomplete', 'range', 'gt', 'car', 'enjoy', 'fast', 'racing', 'action', '\\\\tmultiple', 'level', 'satisfy', 'racing', 'need', '\\\\tseparate', 'car', 'parking', 'gt', 'car', 'selection', '\\\\tendless', 'highway', 'road', 'prop', 'obstacle', '\\\\thd', 'stunning', 'graphic', 'rich', 'road', 'environment', '\\\\tchallenging', 'mission', 'test', 'gt', 'racing', 'expertise', '\\\\trealistic', 'high', 'physics', 'car', 'control', '\\\\tmultiple', '3d', 'camera', 'view', 'angel', '\\\\tbest', 'offline', 'play', 'mode', 'free', 'play', 'stunt', 'racing', 'adventure', 'ready', 'enjoy', 'insane', 'extreme', 'speed', 'stunt', 'race', 'adventure', 'click', 'install', 'button', 'support', 'feedback', 'feedback', 'rating', 'important', 'avenger', 'academy', 'busy', 'create', 'fun', 'game', 'engage', 'family', 'friend', 'case', 'find', 'bug', 'need', 'address', 'send', 'email', 'improve', 'reply', 'email', 'soon', 'possible', 'try', 'game', 'click', 'developer', 'visit', 'publisher', 'account', 'wheel', 'legendary', 'gt', 'car', 'begin', 'enjoy', 'car', 'driver', 'simulator', 'car', 'game', '2018', 'use', 'nitro', 'booster', 'boost', 'gt', 'car', 'speed', 'drive', 'fast', 'fast', 'forget', 'know', 'racing', 'hit', 'gas', 'feed', 'passion', 'speed', 'car', 'parking', 'racing', 'adventure', 'extreme', 'speed', 'stunt', 'hero', 'impossible', 'car', 'stunt', 'race', 'professional', 'driver', 'stunt', 'car', 'track', '3d', 'race', 'crazy', 'gt', 'speed', 'car', 'impossible', 'race', 'track', 'go', 'amazing', 'experience', 'fantastic', 'amazing', 'crazy', 'car', 'stunt', 'stunt', 'track', 'blow', 'mind', 'crazy', 'smart', 'gt', 'car', 'smashing', 'machine', 'super', 'smart', 'drive', 'stunt', 'environment', 'make', 'game', 'interesting', 'extreme', 'city', 'gt', 'car', 'stunt', 'thrilling', 'game', 'car', 'racing', '2018', 'need', 'extreme', 'stunt', 'car', 'driving', 'skill', 'drive', 'safely', 'tricky', 'impossible', 'race', 'track', 'curvy', 'path', 'feel', 'like', 'real', 'smart', 'car', 'driver', 'real', 'crazy', 'mountain', 'height', 'city', 'track', 'accomplish', 'impossible', 'stunt', 'race', 'drive', 'mission', 'drive', 'real', 'super', 'gt', 'car', 'challenge', 'competent', 'complete', 'racing', 'car', 'track', 'driving', 'mission', 'give', 'gear', 'exciting', 'gt', 'car', 'park', 'garage', 'classic', 'car', 'racing', 'gt', 'game', 'car', 'come', 'unique', 'specification', 'speed', 'car', 'dealer', 'set', 'fair', 'car', 'price', 'buying', 'ease', 'play', 'unlock', 'exciting', 'cool', 'car', 'endless', 'exclusive', 'gt', 'drive', 'fun', 'sharpen', 'racing', 'stunt', 'skill', 'drive', 'perform', 'extreme', 'speed', 'stunt', 'car', 'drifting', 'enjoy', 'stunt', 'race', 'time', 'gather', 'worth', 'remember', 'racing', 'experience', 'set', 'new', 'racing', 'record', 'racing', 'world', 'drift', 'car', 'simulator', 'gt', 'racing', 'come', 'super', 'cool', 'amazing', 'environment', 'comprise', 'dangerous', 'enchanting', 'racing', 'track', 'car', 'parking', 'straight', 'curvy', 'road', 'stunt', 'maximum', 'challenge', 'beautiful', 'hill', 'mountain', 'fantastic', 'prop', 'difficult', 'hurdle', 'obstacle', 'amazing', 'river', 'bridge', 'gameplay', 'gt', 'stunt', 'drive', 'include', 'select', 'desire', 'car', 'parking', 'garage', 'drive', 'stunt', 'car', 'racing', 'track', 'reach', 'finish', 'line', 'give', 'time', 'win', 'level', 'nitro', 'booster', 'place', 'place', 'help', 'drive', 'fast', 'impossible', 'stunt', 'road', 'racing', 'mania', 'drive', 'earn', 'coin', 'upgrade', 'classic', 'car', 'try', 'good', 'racing', 'adventure', 'hero', 'gt', 'car', 'driver', 'pro', 'android', 'stay', 'tune', 'extreme', 'stun', 'update', 'feature', 'extreme', 'city', 'gt', 'car', 'stunt', '\\\\tcomplete', 'range', 'gt', 'car', 'enjoy', 'fast', 'racing', 'action', '\\\\tmultiple', 'level', 'satisfy', 'racing', 'need', '\\\\tseparate', 'car', 'parking', 'gt', 'car', 'selection', '\\\\tendless', 'highway', 'road', 'prop', 'obstacle', '\\\\thd', 'stunning', 'graphic', 'rich', 'road', 'environment', '\\\\tchallenging', 'mission', 'test', 'gt', 'racing', 'expertise', '\\\\trealistic', 'high', 'physics', 'car', 'control', '\\\\tmultiple', '3d', 'camera', 'view', 'angel', '\\\\tbest', 'offline', 'play', 'mode', 'free', 'play', 'stunt', 'racing', 'adventure', 'ready', 'enjoy', 'insane', 'extreme', 'speed', 'stunt', 'race', 'adventure', 'click', 'install', 'button', 'support', 'feedback', 'feedback', 'rating', 'important', 'avenger', 'academy', 'busy', 'create', 'fun', 'game', 'engage', 'family', 'friend', 'case', 'find', 'bug', 'need', 'address', 'send', 'email', 'improve', 'reply', 'email', 'soon', 'possible', 'try', 'game', 'click', 'developer', 'visit', 'publisher', 'account', 'wheel', 'legendary', 'gt', 'car', 'begin', 'enjoy', 'car', 'driver', 'simulator', 'car', 'game', '2018', 'use', 'nitro', 'booster', 'boost', 'gt', 'car', 'speed', 'drive', 'fast', 'fast', 'forget', 'know', 'racing', 'hit', 'gas', 'feed', 'passion', 'speed', 'car', 'parking', 'racing', 'adventure', 'extreme', 'speed', 'stunt', 'hero', 'impossible', 'car', 'stunt', 'race', 'professional', 'driver', 'stunt', 'car', 'track', '3d', 'race', 'crazy', 'gt', 'speed', 'car', 'impossible', 'race', 'track', 'go', 'amazing', 'experience', 'fantastic', 'amazing', 'crazy', 'car', 'stunt', 'stunt', 'track', 'blow', 'mind', 'crazy', 'smart', 'gt', 'car', 'smashing', 'machine', 'super', 'smart', 'drive', 'stunt', 'environment', 'make', 'game', 'interesting', 'extreme', 'city', 'gt', 'car', 'stunt', 'thrilling', 'game', 'car', 'racing', '2018', 'need', 'extreme', 'stunt', 'car', 'driving', 'skill', 'drive', 'safely', 'tricky', 'impossible', 'race', 'track', 'curvy', 'path', 'feel', 'like', 'real', 'smart', 'car', 'driver', 'real', 'crazy', 'mountain', 'height', 'city', 'track', 'accomplish', 'impossible', 'stunt', 'race', 'drive', 'mission', 'drive', 'real', 'super', 'gt', 'car', 'challenge', 'competent', 'complete', 'racing', 'car', 'track', 'driving', 'mission', 'give', 'gear', 'exciting', 'gt', 'car', 'park', 'garage', 'classic', 'car', 'racing', 'gt', 'game', 'car', 'come', 'unique', 'specification', 'speed', 'car', 'dealer', 'set', 'fair', 'car', 'price', 'buying', 'ease', 'play', 'unlock', 'exciting', 'cool', 'car', 'endless', 'exclusive', 'gt', 'drive', 'fun', 'sharpen', 'racing', 'stunt', 'skill', 'drive', 'perform', 'extreme', 'speed', 'stunt', 'car', 'drifting', 'enjoy', 'stunt', 'race', 'time', 'gather', 'worth', 'remember', 'racing', 'experience', 'set', 'new', 'racing', 'record', 'racing', 'world', 'drift', 'car', 'simulator', 'gt', 'racing', 'come', 'super', 'cool', 'amazing', 'environment', 'comprise', 'dangerous', 'enchanting', 'racing', 'track', 'car', 'parking', 'straight', 'curvy', 'road', 'stunt', 'maximum', 'challenge', 'beautiful', 'hill', 'mountain', 'fantastic', 'prop', 'difficult', 'hurdle', 'obstacle', 'amazing', 'river', 'bridge', 'gameplay', 'gt', 'stunt', 'drive', 'include', 'select', 'desire', 'car', 'parking', 'garage', 'drive', 'stunt', 'car', 'racing', 'track', 'reach', 'finish', 'line', 'give', 'time', 'win', 'level', 'nitro', 'booster', 'place', 'place', 'help', 'drive', 'fast', 'impossible', 'stunt', 'road', 'racing', 'mania', 'drive', 'earn', 'coin', 'upgrade', 'classic', 'car', 'try', 'good', 'racing', 'adventure', 'hero', 'gt', 'car', 'driver', 'pro', 'android', 'stay', 'tune', 'extreme', 'stun', 'update', 'feature', 'extreme', 'city', 'gt', 'car', 'stunt', '\\\\tcomplete', 'range', 'gt', 'car', 'enjoy', 'fast', 'racing', 'action', '\\\\tmultiple', 'level', 'satisfy', 'racing', 'need', '\\\\tseparate', 'car', 'parking', 'gt', 'car', 'selection', '\\\\tendless', 'highway', 'road', 'prop', 'obstacle', '\\\\thd', 'stunning', 'graphic', 'rich', 'road', 'environment', '\\\\tchallenging', 'mission', 'test', 'gt', 'racing', 'expertise', '\\\\trealistic', 'high', 'physics', 'car', 'control', '\\\\tmultiple', '3d', 'camera', 'view', 'angel', '\\\\tbest', 'offline', 'play', 'mode', 'free', 'play', 'stunt', 'racing', 'adventure', 'ready', 'enjoy', 'insane', 'extreme', 'speed', 'stunt', 'race', 'adventure', 'click', 'install', 'button', 'support', 'feedback', 'feedback', 'rating', 'important', 'avenger', 'academy', 'busy', 'create', 'fun', 'game', 'engage', 'family', 'friend', 'case', 'find', 'bug', 'need', 'address', 'send', 'email', 'improve', 'reply', 'email', 'soon', 'possible', 'try', 'game', 'click', 'developer', 'visit', 'publisher', 'account', 'wheel', 'legendary', 'gt', 'car', 'begin', 'enjoy', 'car', 'driver', 'simulator', 'car', 'game', '2018', 'use', 'nitro', 'booster', 'boost', 'gt', 'car', 'speed', 'drive', 'fast', 'fast', 'forget', 'know', 'racing', 'hit', 'gas', 'feed', 'passion', 'speed', 'car', 'parking', 'racing', 'adventure', 'extreme', 'speed', 'stunt', 'hero', 'impossible', 'car', 'stunt', 'race', 'professional', 'driver', 'stunt', 'car', 'track', '3d', 'race', 'crazy', 'gt', 'speed', 'car', 'impossible', 'race', 'track', 'go', 'amazing', 'experience', 'fantastic', 'amazing', 'crazy', 'car', 'stunt', 'stunt', 'track', 'blow', 'mind', 'crazy', 'smart', 'gt', 'car', 'smashing', 'machine', 'super', 'smart', 'drive', 'stunt', 'environment', 'make', 'game', 'interesting', 'extreme', 'city', 'gt', 'car', 'stunt', 'thrilling', 'game', 'car', 'racing', '2018', 'need', 'extreme', 'stunt', 'car', 'driving', 'skill', 'drive', 'safely', 'tricky', 'impossible', 'race', 'track', 'curvy', 'path', 'feel', 'like', 'real', 'smart', 'car', 'driver', 'real', 'crazy', 'mountain', 'height', 'city', 'track', 'accomplish', 'impossible', 'stunt', 'race', 'drive', 'mission', 'drive', 'real', 'super', 'gt', 'car', 'challenge', 'competent', 'complete', 'racing', 'car', 'track', 'driving', 'mission', 'give', 'gear', 'exciting', 'gt', 'car', 'park', 'garage', 'classic', 'car', 'racing', 'gt', 'game', 'car', 'come', 'unique', 'specification', 'speed', 'car', 'dealer', 'set', 'fair', 'car', 'price', 'buying', 'ease', 'play', 'unlock', 'exciting', 'cool', 'car', 'endless', 'exclusive', 'gt', 'drive', 'fun', 'sharpen', 'racing', 'stunt', 'skill', 'drive', 'perform', 'extreme', 'speed', 'stunt', 'car', 'drifting', 'enjoy', 'stunt', 'race', 'time', 'gather', 'worth', 'remember', 'racing', 'experience', 'set', 'new', 'racing', 'record', 'racing', 'world', 'drift', 'car', 'simulator', 'gt', 'racing', 'come', 'super', 'cool', 'amazing', 'environment', 'comprise', 'dangerous', 'enchanting', 'racing', 'track', 'car', 'parking', 'straight', 'curvy', 'road', 'stunt', 'maximum', 'challenge', 'beautiful', 'hill', 'mountain', 'fantastic', 'prop', 'difficult', 'hurdle', 'obstacle', 'amazing', 'river', 'bridge', 'gameplay', 'gt', 'stunt', 'drive', 'include', 'select', 'desire', 'car', 'parking', 'garage', 'drive', 'stunt', 'car', 'racing', 'track', 'reach', 'finish', 'line', 'give', 'time', 'win', 'level', 'nitro', 'booster', 'place', 'place', 'help', 'drive', 'fast', 'impossible', 'stunt', 'road', 'racing', 'mania', 'drive', 'earn', 'coin', 'upgrade', 'classic', 'car', 'try', 'good', 'racing', 'adventure', 'hero', 'gt', 'car', 'driver', 'pro', 'android', 'stay', 'tune', 'extreme', 'stun', 'update', 'feature', 'extreme', 'city', 'gt', 'car', 'stunt', '\\\\tcomplete', 'range', 'gt', 'car', 'enjoy', 'fast', 'racing', 'action', '\\\\tmultiple', 'level', 'satisfy', 'racing', 'need', '\\\\tseparate', 'car', 'parking', 'gt', 'car', 'selection', '\\\\tendless', 'highway', 'road', 'prop', 'obstacle', '\\\\thd', 'stunning', 'graphic', 'rich', 'road', 'environment', '\\\\tchallenging', 'mission', 'test', 'gt', 'racing', 'expertise', '\\\\trealistic', 'high', 'physics', 'car', 'control', '\\\\tmultiple', '3d', 'camera', 'view', 'angel', '\\\\tbest', 'offline', 'play', 'mode', 'free', 'play', 'stunt', 'racing', 'adventure', 'ready', 'enjoy', 'insane', 'extreme', 'speed', 'stunt', 'race', 'adventure', 'click', 'install', 'button', 'support', 'feedback', 'feedback', 'rating', 'important', 'avenger', 'academy', 'busy', 'create', 'fun', 'game', 'engage', 'family', 'friend', 'case', 'find', 'bug', 'need', 'address', 'send', 'email', 'improve', 'reply', 'email', 'soon', 'possible', 'try', 'game', 'click', 'developer', 'visit', 'publisher', 'account', 'wheel', 'legendary', 'gt', 'car', 'begin', 'enjoy', 'car', 'driver', 'simulator', 'car', 'game', '2018', 'use', 'nitro', 'booster', 'boost', 'gt', 'car', 'speed', 'drive', 'fast', 'fast', 'forget', 'know', 'racing', 'hit', 'gas', 'feed', 'passion', 'speed', 'car', 'parking', 'racing', 'adventure', 'extreme', 'speed', 'stunt', 'hero', 'impossible', 'car', 'stunt', 'race', 'professional', 'driver', 'stunt', 'car', 'track', '3d', 'race', 'crazy', 'gt', 'speed', 'car', 'impossible', 'race', 'track', 'go', 'amazing', 'experience', 'fantastic', 'amazing', 'crazy', 'car', 'stunt', 'stunt', 'track', 'blow', 'mind', 'crazy', 'smart', 'gt', 'car', 'smashing', 'machine', 'super', 'smart', 'drive', 'stunt', 'environment', 'make', 'game', 'interesting', 'extreme', 'city', 'gt', 'car', 'stunt', 'thrilling', 'game', 'car', 'racing', '2018', 'need', 'extreme', 'stunt', 'car', 'driving', 'skill', 'drive', 'safely', 'tricky', 'impossible', 'race', 'track', 'curvy', 'path', 'feel', 'like', 'real', 'smart', 'car', 'driver', 'real', 'crazy', 'mountain', 'height', 'city', 'track', 'accomplish', 'impossible', 'stunt', 'race', 'drive', 'mission', 'drive', 'real', 'super', 'gt', 'car', 'challenge', 'competent', 'complete', 'racing', 'car', 'track', 'driving', 'mission', 'give', 'gear', 'exciting', 'gt', 'car', 'park', 'garage', 'classic', 'car', 'racing', 'gt', 'game', 'car', 'come', 'unique', 'specification', 'speed', 'car', 'dealer', 'set', 'fair', 'car', 'price', 'buying', 'ease', 'play', 'unlock', 'exciting', 'cool', 'car', 'endless', 'exclusive', 'gt', 'drive', 'fun', 'sharpen', 'racing', 'stunt', 'skill', 'drive', 'perform', 'extreme', 'speed', 'stunt', 'car', 'drifting', 'enjoy', 'stunt', 'race', 'time', 'gather', 'worth', 'remember', 'racing', 'experience', 'set', 'new', 'racing', 'record', 'racing', 'world', 'drift', 'car', 'simulator', 'gt', 'racing', 'come', 'super', 'cool', 'amazing', 'environment', 'comprise', 'dangerous', 'enchanting', 'racing', 'track', 'car', 'parking', 'straight', 'curvy', 'road', 'stunt', 'maximum', 'challenge', 'beautiful', 'hill', 'mountain', 'fantastic', 'prop', 'difficult', 'hurdle', 'obstacle', 'amazing', 'river', 'bridge', 'gameplay', 'gt', 'stunt', 'drive', 'include', 'select', 'desire', 'car', 'parking', 'garage', 'drive', 'stunt', 'car', 'racing', 'track', 'reach', 'finish', 'line', 'give', 'time', 'win', 'level', 'nitro', 'booster', 'place', 'place', 'help', 'drive', 'fast', 'impossible', 'stunt', 'road', 'racing', 'mania', 'drive', 'earn', 'coin', 'upgrade', 'classic', 'car', 'try', 'good', 'racing', 'adventure', 'hero', 'gt', 'car', 'driver', 'pro', 'android', 'stay', 'tune', 'extreme', 'stun', 'update', 'feature', 'extreme', 'city', 'gt', 'car', 'stunt', '\\\\tcomplete', 'range', 'gt', 'car', 'enjoy', 'fast', 'racing', 'action', '\\\\tmultiple', 'level', 'satisfy', 'racing', 'need', '\\\\tseparate', 'car', 'parking', 'gt', 'car', 'selection', '\\\\tendless', 'highway', 'road', 'prop', 'obstacle', '\\\\thd', 'stunning', 'graphic', 'rich', 'road', 'environment', '\\\\tchallenging', 'mission', 'test', 'gt', 'racing', 'expertise', '\\\\trealistic', 'high', 'physics', 'car', 'control', '\\\\tmultiple', '3d', 'camera', 'view', 'angel', '\\\\tbest', 'offline', 'play', 'mode', 'free', 'play', 'stunt', 'racing', 'adventure', 'ready', 'enjoy', 'insane', 'extreme', 'speed', 'stunt', 'race', 'adventure', 'click', 'install', 'button', 'support', 'feedback', 'feedback', 'rating', 'important', 'avenger', 'academy', 'busy', 'create', 'fun', 'game', 'engage', 'family', 'friend', 'case', 'find', 'bug', 'need', 'address', 'send', 'email', 'improve', 'reply', 'email', 'soon', 'possible', 'try', 'game', 'click', 'developer', 'visit', 'publisher', 'account']\n"
     ]
    }
   ],
   "source": [
    "# test function that combine tokenized columns into a single column\n",
    "%run -i '4_natural_language_processing.py'\n",
    "initial_panel = '201908'\n",
    "panels_have_text = ['201912', '202001', '202003', '202004', '202009', '202010', '202011']\n",
    "DF = combine_tokenized_cols_into_single_col(initial_panel, panels_have_text)\n",
    "tokenized_cols = ['description_' + item for item in panels_have_text]\n",
    "for i in tokenized_cols:\n",
    "    print(len(DF.loc[DF.index[102], i]))\n",
    "doc = DF.loc[DF.index[102], 'combined_panels_description']\n",
    "print(len(doc))\n",
    "print(doc)"
   ],
   "metadata": {
    "collapsed": false,
    "pycharm": {
     "name": "#%%\n"
    }
   }
  },
  {
   "cell_type": "code",
   "execution_count": 8,
   "outputs": [
    {
     "data": {
      "text/plain": "HBox(children=(HTML(value=''), FloatProgress(value=1.0, bar_style='info', layout=Layout(width='20px'), max=1.0…",
      "application/vnd.jupyter.widget-view+json": {
       "version_major": 2,
       "version_minor": 0,
       "model_id": "bb905929514e4f1496c107a944636aee"
      }
     },
     "metadata": {},
     "output_type": "display_data"
    },
    {
     "name": "stdout",
     "output_type": "stream",
     "text": [
      "\n",
      "  Topic # 01\n",
      "0        car\n",
      "1        you\n",
      "2     garage\n",
      "3       game\n",
      "4        fun\n",
      "5     friend\n",
      "6       free\n",
      "7     forget\n",
      "8     finish\n",
      "9       find\n",
      "['car', 'you', 'garage', 'game', 'fun', 'friend', 'free', 'forget', 'finish', 'find']\n"
     ]
    }
   ],
   "source": [
    "# Dec 6, 2020\n",
    "# test get_nmf_topics functions, for a single app's description\n",
    "# obtained by combine_tokenized_cols_into_single_col function\n",
    "%run -i '4_natural_language_processing.py'\n",
    "k = 1 # number of topics, suggested 1, because all topics reply the same set of words\n",
    "top = 10 # number of top words per topic, by descending weight\n",
    "\n",
    "topic_df = get_nmf_topics(pipe = nmf_pipe, doc = doc, num_topics = k,\n",
    "                          num_top_words = top, format = 'dataframe')\n",
    "print(topic_df)\n",
    "topic_list = get_nmf_topics(pipe = nmf_pipe, doc = doc, num_topics = k,\n",
    "                          num_top_words = top, format = 'list')\n",
    "print(topic_list)"
   ],
   "metadata": {
    "collapsed": false,
    "pycharm": {
     "name": "#%%\n"
    }
   }
  },
  {
   "cell_type": "markdown",
   "source": [
    "From above, we see that topic words generated by combining all descriptions for 1 app across panels\n",
    "does not differ by much from topic words generated by one description from one panel for 1 app.\n",
    "So I decide to find topic words for 1 app by combining all descriptions across panels, thus this topic words\n",
    "would be time-invariant. All you need to fine-tune is probably to increase number of topics for combined panel\n",
    "descriptions (from 3 to 6 maybe).\n",
    "# create topic model dataframe for dataframe 201908"
   ],
   "metadata": {
    "collapsed": false,
    "pycharm": {
     "name": "#%% md\n"
    }
   }
  },
  {
   "cell_type": "code",
   "execution_count": 16,
   "outputs": [
    {
     "data": {
      "text/plain": "HBox(children=(HTML(value=''), FloatProgress(value=1.0, bar_style='info', layout=Layout(width='20px'), max=1.0…",
      "application/vnd.jupyter.widget-view+json": {
       "version_major": 2,
       "version_minor": 0,
       "model_id": "bc94545ad6ee436fbaef07a8a18e20f6"
      }
     },
     "metadata": {},
     "output_type": "display_data"
    },
    {
     "name": "stdout",
     "output_type": "stream",
     "text": [
      "\n",
      "[]\n",
      "['\\\\n\\\\n\\\\n\\\\n\\\\n\\\\n\\\\n\\\\n\\\\n', '\\\\n', '\\\\n', '\\\\n', '\\\\n', '\\\\n\\\\n\\\\n\\\\n\\\\n', '\\\\n\\\\n\\\\n\\\\n\\\\n\\\\n\\\\n\\\\n\\\\n', '\\\\n', '\\\\n', '\\\\n', '\\\\n', '\\\\n\\\\n\\\\n\\\\n\\\\n']\n",
      "['\\\\n\\\\n\\\\n\\\\n\\\\n\\\\n\\\\n\\\\n\\\\n', '\\\\n\\\\n\\\\n\\\\n\\\\n\\\\n\\\\n\\\\n\\\\n']\n",
      "['\\\\n\\\\n\\\\n\\\\n\\\\n\\\\n\\\\n\\\\n\\\\n\\\\n\\\\n\\\\n\\\\n', '\\\\n\\\\n\\\\n\\\\n\\\\n\\\\n\\\\n\\\\n\\\\n\\\\n\\\\n\\\\n\\\\n']\n",
      "['\\\\n\\\\n', '\\\\n', '\\\\n\\\\n', '\\\\n']\n",
      "[]\n",
      "[]\n",
      "[]\n",
      "['\\\\n', '\\\\n', '\\\\n', '\\\\n', '\\\\n', '\\\\n']\n",
      "\n"
     ]
    },
    {
     "data": {
      "text/plain": "HBox(children=(HTML(value=''), FloatProgress(value=0.0, max=11945.0), HTML(value='')))",
      "application/vnd.jupyter.widget-view+json": {
       "version_major": 2,
       "version_minor": 0,
       "model_id": "b08a5623d2ff4e1ab371bd232c9c94cf"
      }
     },
     "metadata": {},
     "output_type": "display_data"
    }
   ],
   "source": [
    "## test function get descriptor for each row\n",
    "%run -i '4_natural_language_processing.py'\n",
    "initial_panel = '201908'\n",
    "panels_have_text = ['201912', '202001', '202003', '202004', '202009', '202010', '202011']\n",
    "k = 1\n",
    "top = 10\n",
    "nmf_pipe = Pipeline(steps = [('tfidf', TfidfVectorizer()),\n",
    "                         ('nmf', NMF(n_components=k, init='nndsvd',\n",
    "                                     random_state=1, alpha=.1, l1_ratio=.5))])\n",
    "S = get_nmf_topics_for_each_row( initial_panel = initial_panel,\n",
    "                                 panels_have_text = panels_have_text,\n",
    "                                 pipe = nmf_pipe,\n",
    "                                 num_topics = k,\n",
    "                                 num_top_words = top,\n",
    "                                 format = 'list')"
   ],
   "metadata": {
    "collapsed": false,
    "pycharm": {
     "name": "#%%\n"
    }
   }
  },
  {
   "cell_type": "code",
   "execution_count": 17,
   "outputs": [
    {
     "name": "stdout",
     "output_type": "stream",
     "text": [
      "11340 com.hncgames.realcasino\n"
     ]
    },
    {
     "data": {
      "text/plain": "combined_panels_description    [real, casino, free, vegas, casino, slot, machine, online, social, casino, game.\\nwe, specialize, thrilling, enjoyable, slots.\\nyou, enjoy, exciting, real, vegas, slot, home, mobile, device.\\ncome, spin, free, real, casino, give, extraordinary, vegas, experience.\\n, free, coin, gift, day, \\n, game, open, lock, \\n, play, funtastic, slot, huge, jackpot, big, win, \\n, real, casino, place, feel, real, vegas, style, experience, \\nstart, play, huge, welcome, bonus, \\nfanpage, game, intend, adult, audience.\\nthe, game, offer, real, money, gambling, opportunity, win, real, money, prizes.\\npractice, success, social, casino, gaming, imply, future, success, real, money, gambling, real, casino, free, vegas, casino, slot, machine, online, social, casino, game.\\nwe, specialize, thrilling, enjoyable, ...]\ntopic_words                                                                                                                                                                                                                                                                                                                                                                                                                                                                                                                                                                                                                                                                                                                                                                                  [real, win, fanpage, intend, imply, huge, home, give, gift, gaming]\nName: com.hncgames.realcasino, dtype: object"
     },
     "execution_count": 17,
     "metadata": {},
     "output_type": "execute_result"
    }
   ],
   "source": [
    "# check\n",
    "num = random.randint(0, S.shape[0]-1)\n",
    "print(num, S.index[num])\n",
    "S.loc[S.index[num], ['combined_panels_description', 'topic_words']]\n"
   ],
   "metadata": {
    "collapsed": false,
    "pycharm": {
     "name": "#%%\n"
    }
   }
  },
  {
   "cell_type": "markdown",
   "source": [
    "# start from here once you have saved topic model dataframe\n",
    "## find the ranking of frequencies of all the topic words\n",
    "Initially, I intend to find a broad app topic word list by counting the frequencies of all topics\n",
    "words combined from app apps. The frequency above a certain threshold is considered broad topic words.\n",
    "Similarly, the frequency below a certain number is considered a niche topic word. Then compare each app's\n",
    "topic words with the broad or niche list, and the higher number of niche words overlapped between an app's topic\n",
    "words and niche word list, the more niche the app is.\n",
    "\n",
    "Dec 02, 2020 <br />\n",
    "I am not satisfied with frequency bag of words model for estimating the list of broad and niche words\n",
    "of the all apps' descriptions.\n",
    "\n",
    "Dec 06, 2020 <br />\n",
    "I will use k-means for app's topics words to classify them."
   ],
   "metadata": {
    "collapsed": false,
    "pycharm": {
     "name": "#%% md\n"
    }
   }
  },
  {
   "cell_type": "code",
   "execution_count": null,
   "outputs": [],
   "source": [
    "\n"
   ],
   "metadata": {
    "collapsed": false,
    "pycharm": {
     "name": "#%%\n"
    }
   }
  },
  {
   "cell_type": "markdown",
   "source": [
    "# descriptive stats for classified niche or broad apps"
   ],
   "metadata": {
    "collapsed": false,
    "pycharm": {
     "name": "#%% md\n"
    }
   }
  },
  {
   "cell_type": "code",
   "execution_count": 10,
   "outputs": [
    {
     "data": {
      "text/plain": "HBox(children=(HTML(value=''), FloatProgress(value=1.0, bar_style='info', layout=Layout(width='20px'), max=1.0…",
      "application/vnd.jupyter.widget-view+json": {
       "version_major": 2,
       "version_minor": 0,
       "model_id": "6dc5cac3fcc643cca8c1c9c8f91204e6"
      }
     },
     "metadata": {},
     "output_type": "display_data"
    },
    {
     "name": "stdout",
     "output_type": "stream",
     "text": [
      "\n"
     ]
    }
   ],
   "source": [
    "# check niche broad classified\n",
    "%matplotlib inline\n",
    "%run -i '0_paths.py'\n",
    "%run -i '4_natural_language_processing.py'\n",
    "initial_panel = '201908'\n",
    "df = open_niche_broad_df(initial_panel, indicator_type = 'continuous')"
   ],
   "metadata": {
    "collapsed": false,
    "pycharm": {
     "name": "#%%\n"
    }
   }
  },
  {
   "cell_type": "markdown",
   "source": [
    "I thought niche is a time-invariant property, but the the dummy niche indicator is different for\n",
    "the same app from one panel to another."
   ],
   "metadata": {
    "collapsed": false,
    "pycharm": {
     "name": "#%% md\n"
    }
   }
  },
  {
   "cell_type": "code",
   "execution_count": 4,
   "outputs": [
    {
     "data": {
      "text/plain": "HBox(children=(HTML(value=''), FloatProgress(value=1.0, bar_style='info', layout=Layout(width='20px'), max=1.0…",
      "application/vnd.jupyter.widget-view+json": {
       "version_major": 2,
       "version_minor": 0,
       "model_id": "d3a3640cb40a47529b0f91cf10495d46"
      }
     },
     "metadata": {},
     "output_type": "display_data"
    },
    {
     "name": "stdout",
     "output_type": "stream",
     "text": [
      "\n",
      "col_0             count\n",
      "niche_app_202011       \n",
      "0.0                3722\n",
      "1.0                8223\n",
      "col_0             count\n",
      "broad_app_202011       \n",
      "0.0                5295\n",
      "1.0                6650\n"
     ]
    }
   ],
   "source": [
    "%run -i '4_natural_language_processing.py'\n",
    "panels_have_text = ['201912', '202001', '202003', '202004', '202009', '202010', '202011']\n",
    "initial_panel = '201908'\n",
    "the_panel = '202011'\n",
    "tab_niche, tab_broad = descriptive_stats_niche_broad_apps(initial_panel, the_panel)\n",
    "print(tab_niche)\n",
    "print(tab_broad)"
   ],
   "metadata": {
    "collapsed": false,
    "pycharm": {
     "name": "#%%\n"
    }
   }
  },
  {
   "cell_type": "code",
   "execution_count": 6,
   "outputs": [
    {
     "name": "stdout",
     "output_type": "stream",
     "text": [
      "[4, 5, 7]\n",
      "3\n"
     ]
    }
   ],
   "source": [
    "L1 = set([1,1,2,3,4,5,7,7,9])\n",
    "L2 =set([4,4,5,7,7,11,13,14])\n",
    "L3 =L1 & L2\n",
    "print(list(L3))\n",
    "print(len(L3))"
   ],
   "metadata": {
    "collapsed": false,
    "pycharm": {
     "name": "#%%\n"
    }
   }
  },
  {
   "cell_type": "code",
   "execution_count": null,
   "outputs": [],
   "source": [],
   "metadata": {
    "collapsed": false,
    "pycharm": {
     "name": "#%%\n"
    }
   }
  }
 ],
 "metadata": {
  "kernelspec": {
   "name": "python3",
   "language": "python",
   "display_name": "Python 3"
  },
  "language_info": {
   "codemirror_mode": {
    "name": "ipython",
    "version": 2
   },
   "file_extension": ".py",
   "mimetype": "text/x-python",
   "name": "python",
   "nbconvert_exporter": "python",
   "pygments_lexer": "ipython2",
   "version": "3.7.3-final"
  },
  "pycharm": {
   "stem_cell": {
    "cell_type": "raw",
    "source": [
     "Date: 2020 Oct 20 Tuesday\n",
     "\n",
     "I will use a variable defining whether an app is a niche product as my independent variable; my dependent variable is\n",
     "pricing (refer to variable construction in When Private Information Settles the Bill: Money and Privacy in\n",
     "Google’s Market for Smartphone Applications, Michael Kummer and Patrick Schulte\n",
     "\n",
     "1. dummy showing paid or free \n",
     "2. natural log of price\n",
     "\n",
     "The definition of niche products are products are aimed at similar functions. Those\n",
     "apps with similar purposes (the broad group would be pre-defined genreId, the niche definition would be\n",
     "products within the same category)\n",
     "\n",
     "To differentiate between an all-purpose product and a niche product, we would first classify the apps into many small\n",
     "categories (using natural language process on the description and titles). The none-niche product would be classified into\n",
     "many categories because it encompass many functions. On the other hand, the niche products will only be grouped\n",
     "into a single niche category."
    ],
    "metadata": {
     "collapsed": false
    }
   }
  }
 },
 "nbformat": 4,
 "nbformat_minor": 0
}