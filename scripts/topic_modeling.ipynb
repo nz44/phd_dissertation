{
 "cells": [
  {
   "cell_type": "code",
   "execution_count": 2,
   "metadata": {
    "collapsed": true
   },
   "outputs": [
    {
     "output_type": "error",
     "ename": "ModuleNotFoundError",
     "evalue": "No module named 'spacy'",
     "traceback": [
      "\u001b[1;31m---------------------------------------------------------------------------\u001b[0m",
      "\u001b[1;31mModuleNotFoundError\u001b[0m                       Traceback (most recent call last)",
      "\u001b[1;32mc:\\Users\\naixi\\OneDrive\\__CODING__\\PycharmProjects\\GOOGLE_PLAY\\scripts\\4_natural_language_processing.py\u001b[0m in \u001b[0;36m<module>\u001b[1;34m\u001b[0m\n\u001b[0;32m     10\u001b[0m \u001b[1;33m\u001b[0m\u001b[0m\n\u001b[0;32m     11\u001b[0m \u001b[1;33m\u001b[0m\u001b[0m\n\u001b[1;32m---> 12\u001b[1;33m \u001b[1;32mimport\u001b[0m \u001b[0mspacy\u001b[0m\u001b[1;33m\u001b[0m\u001b[1;33m\u001b[0m\u001b[0m\n\u001b[0m\u001b[0;32m     13\u001b[0m \u001b[1;32mfrom\u001b[0m \u001b[0mspacy\u001b[0m \u001b[1;32mimport\u001b[0m \u001b[0mdisplacy\u001b[0m\u001b[1;33m\u001b[0m\u001b[1;33m\u001b[0m\u001b[0m\n\u001b[0;32m     14\u001b[0m \u001b[0mnlp\u001b[0m \u001b[1;33m=\u001b[0m \u001b[0mspacy\u001b[0m\u001b[1;33m.\u001b[0m\u001b[0mload\u001b[0m\u001b[1;33m(\u001b[0m\u001b[1;34m'en_core_web_md'\u001b[0m\u001b[1;33m)\u001b[0m\u001b[1;33m\u001b[0m\u001b[1;33m\u001b[0m\u001b[0m\n",
      "\u001b[1;31mModuleNotFoundError\u001b[0m: No module named 'spacy'"
     ]
    }
   ],
   "source": [
    "%matplotlib inline\n",
    "%run -i \"0_paths.py\"\n",
    "%run -i \"4_natural_language_processing.py\""
   ]
  },
  {
   "cell_type": "code",
   "execution_count": 3,
   "outputs": [
    {
     "output_type": "error",
     "ename": "ModuleNotFoundError",
     "evalue": "No module named 'pandas.core.arrays.string_'",
     "traceback": [
      "\u001b[1;31m---------------------------------------------------------------------------\u001b[0m",
      "\u001b[1;31mModuleNotFoundError\u001b[0m                       Traceback (most recent call last)",
      "\u001b[1;32mc:\\Users\\naixi\\OneDrive\\__CODING__\\PycharmProjects\\GOOGLE_PLAY\\scripts\\4_natural_language_processing.py\u001b[0m in \u001b[0;36m<module>\u001b[1;34m\u001b[0m\n\u001b[0;32m      4\u001b[0m \u001b[0mq\u001b[0m \u001b[1;33m=\u001b[0m \u001b[0minput_path\u001b[0m \u001b[1;33m/\u001b[0m \u001b[1;34m'__PANELS__'\u001b[0m \u001b[1;33m/\u001b[0m \u001b[0mfolder_name\u001b[0m \u001b[1;33m/\u001b[0m \u001b[0mf_name\u001b[0m\u001b[1;33m\u001b[0m\u001b[1;33m\u001b[0m\u001b[0m\n\u001b[0;32m      5\u001b[0m \u001b[1;32mwith\u001b[0m \u001b[0mopen\u001b[0m\u001b[1;33m(\u001b[0m\u001b[0mq\u001b[0m\u001b[1;33m,\u001b[0m \u001b[1;34m'rb'\u001b[0m\u001b[1;33m)\u001b[0m \u001b[1;32mas\u001b[0m \u001b[0mf\u001b[0m\u001b[1;33m:\u001b[0m\u001b[1;33m\u001b[0m\u001b[1;33m\u001b[0m\u001b[0m\n\u001b[1;32m----> 6\u001b[1;33m     \u001b[0mD\u001b[0m \u001b[1;33m=\u001b[0m \u001b[0mpickle\u001b[0m\u001b[1;33m.\u001b[0m\u001b[0mload\u001b[0m\u001b[1;33m(\u001b[0m\u001b[0mf\u001b[0m\u001b[1;33m)\u001b[0m\u001b[1;33m\u001b[0m\u001b[1;33m\u001b[0m\u001b[0m\n\u001b[0m\u001b[0;32m      7\u001b[0m \u001b[1;33m\u001b[0m\u001b[0m\n\u001b[0;32m      8\u001b[0m \u001b[0mpd\u001b[0m\u001b[1;33m.\u001b[0m\u001b[0moptions\u001b[0m\u001b[1;33m.\u001b[0m\u001b[0mdisplay\u001b[0m\u001b[1;33m.\u001b[0m\u001b[0mmax_columns\u001b[0m \u001b[1;33m=\u001b[0m \u001b[1;32mNone\u001b[0m\u001b[1;33m\u001b[0m\u001b[1;33m\u001b[0m\u001b[0m\n",
      "\u001b[1;31mModuleNotFoundError\u001b[0m: No module named 'pandas.core.arrays.string_'"
     ]
    }
   ],
   "source": [
    "# TEST CELL\n",
    "folder_name = '201908' + '_PANEL_DF'\n",
    "f_name = '201908' + '_MERGED.pickle'\n",
    "q = input_path / '__PANELS__' / folder_name / f_name\n",
    "with open(q, 'rb') as f:\n",
    "    D = pickle.load(f)\n",
    "\n",
    "pd.options.display.max_columns = None\n",
    "print(D.head())"
   ],
   "metadata": {
    "collapsed": false,
    "pycharm": {
     "name": "#%%\n"
    }
   }
  },
  {
   "cell_type": "code",
   "execution_count": null,
   "outputs": [],
   "source": [],
   "metadata": {
    "collapsed": false,
    "pycharm": {
     "name": "#%%\n"
    }
   }
  }
 ],
 "metadata": {
  "kernelspec": {
   "name": "Python 3.7.9 64-bit ('GOOGLE_PLAY': conda)",
   "display_name": "Python 3.7.9 64-bit ('GOOGLE_PLAY': conda)",
   "metadata": {
    "interpreter": {
     "hash": "92b7256ce231c8d80d2e1fbfb8766eb88b8ab844f3a507e2e4316d8cd1821281"
    }
   }
  },
  "language_info": {
   "codemirror_mode": {
    "name": "ipython",
    "version": 2
   },
   "file_extension": ".py",
   "mimetype": "text/x-python",
   "name": "python",
   "nbconvert_exporter": "python",
   "pygments_lexer": "ipython2",
   "version": "3.7.9-final"
  },
  "pycharm": {
   "stem_cell": {
    "cell_type": "raw",
    "source": [
     "Date: 2020 Oct 20 Tuesday\n",
     "\n",
     "I will use a variable defining whether an app is a niche product as my independent variable; my dependent variable is\n",
     "pricing (refer to variable construction in When Private Information Settles the Bill: Money and Privacy in\n",
     "Google’s Market for Smartphone Applications, Michael Kummer and Patrick Schulte\n",
     "\n",
     "1. dummy showing paid or free \n",
     "2. natural log of price\n",
     "\n",
     "The definition of niche products are products are aimed at similar functions. Those\n",
     "apps with similar purposes (the broad group would be pre-defined genreId, the niche definition would be\n",
     "products within the same category)\n",
     "\n",
     "To differentiate between an all-purpose product and a niche product, we would first classify the apps into many small\n",
     "categories (using natural language process on the description and titles). The none-niche product would be classified into\n",
     "many categories because it encompass many functions. On the other hand, the niche products will only be grouped\n",
     "into a single niche category.\n",
     "\n"
    ],
    "metadata": {
     "collapsed": false
    }
   }
  }
 },
 "nbformat": 4,
 "nbformat_minor": 0
}