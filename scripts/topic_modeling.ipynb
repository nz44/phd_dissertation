{
 "cells": [
  {
   "cell_type": "code",
   "execution_count": 1,
   "metadata": {
    "collapsed": true
   },
   "outputs": [],
   "source": [
    "%matplotlib inline\n",
    "%run -i '0_paths.py'\n",
    "%run -i '4_natural_language_processing.py'"
   ]
  },
  {
   "cell_type": "code",
   "execution_count": 26,
   "outputs": [
    {
     "name": "stdout",
     "output_type": "stream",
     "text": [
      "                                description_201908  \\\n",
      "com.canva.editor                     not available   \n",
      "jp.ne.ibis.ibispaintx.app            not available   \n",
      "com.adobe.spark.post                 not available   \n",
      "com.sec.penup                        not available   \n",
      "com.doodle.master.draw.glow.art      not available   \n",
      "\n",
      "                                                                description_201912  \\\n",
      "com.canva.editor                 b'Canva makes design and video editing amazing...   \n",
      "jp.ne.ibis.ibispaintx.app        b\"ibis Paint X is a popular and versatile draw...   \n",
      "com.adobe.spark.post             b'Adobe Spark Post is the fun, fast and easy w...   \n",
      "com.sec.penup                    b'PENUP is a creative SNS based on Pen generat...   \n",
      "com.doodle.master.draw.glow.art  b'Amazing magical doodle game provide a creati...   \n",
      "\n",
      "                                                                description_202001  \\\n",
      "com.canva.editor                 b'Canva makes design and video editing amazing...   \n",
      "jp.ne.ibis.ibispaintx.app        b\"ibis Paint X is a popular and versatile draw...   \n",
      "com.adobe.spark.post             b'Adobe Spark Post is the fun, fast and easy w...   \n",
      "com.sec.penup                    b'PENUP is a creative SNS based on Pen generat...   \n",
      "com.doodle.master.draw.glow.art  b'Amazing magical doodle game provide a creati...   \n",
      "\n",
      "                                                                description_202003  \\\n",
      "com.canva.editor                 b'<b>Canva makes design and video editing amaz...   \n",
      "jp.ne.ibis.ibispaintx.app        b\"ibis Paint X is a popular and versatile draw...   \n",
      "com.adobe.spark.post             b'<b>Adobe Spark Post is the fun, fast and eas...   \n",
      "com.sec.penup                    b'PENUP is a creative SNS based on Pen generat...   \n",
      "com.doodle.master.draw.glow.art  b'Amazing magical doodle game provide a creati...   \n",
      "\n",
      "                                                                description_202004  \\\n",
      "com.canva.editor                 b'<b>Canva makes design and video editing amaz...   \n",
      "jp.ne.ibis.ibispaintx.app        b\"ibis Paint X is a popular and versatile draw...   \n",
      "com.adobe.spark.post             b'<b>Adobe Spark Post is the fun, fast and eas...   \n",
      "com.sec.penup                    b'PENUP is a creative SNS based on Pen generat...   \n",
      "com.doodle.master.draw.glow.art  b'Amazing magical doodle game provide a creati...   \n",
      "\n",
      "                                                                description_202009  \\\n",
      "com.canva.editor                 b'<b>Canva makes design and video editing amaz...   \n",
      "jp.ne.ibis.ibispaintx.app        b\"ibis Paint X is a popular and versatile draw...   \n",
      "com.adobe.spark.post             b'<b>Adobe Spark Post is the fun, fast and eas...   \n",
      "com.sec.penup                    b'PENUP is a creative SNS based on Pen generat...   \n",
      "com.doodle.master.draw.glow.art  b'Amazing magical doodle game provide a creati...   \n",
      "\n",
      "                                                                description_202010  \\\n",
      "com.canva.editor                 b'<b>Canva makes design and video editing amaz...   \n",
      "jp.ne.ibis.ibispaintx.app        b\"ibis Paint X is a popular and versatile draw...   \n",
      "com.adobe.spark.post             b'<b>Adobe Spark Post is the fun, fast and eas...   \n",
      "com.sec.penup                    b'PENUP is a creative SNS based on Pen generat...   \n",
      "com.doodle.master.draw.glow.art  b'Amazing magical doodle game provide a creati...   \n",
      "\n",
      "                                                                description_202011  \n",
      "com.canva.editor                 b'<b>Canva makes design and video editing amaz...  \n",
      "jp.ne.ibis.ibispaintx.app        b\"ibis Paint X is a popular and versatile draw...  \n",
      "com.adobe.spark.post             b'<b>Adobe Spark Post is the fun, fast and eas...  \n",
      "com.sec.penup                    b'PENUP is a creative SNS based on Pen generat...  \n",
      "com.doodle.master.draw.glow.art  b'Amazing magical doodle game provide a creati...  \n"
     ]
    },
    {
     "name": "stderr",
     "output_type": "stream",
     "text": [
      "/home/naixin/anaconda3/envs/GOOGLE_PLAY/lib/python3.8/site-packages/pandas/core/frame.py:4317: SettingWithCopyWarning: \n",
      "A value is trying to be set on a copy of a slice from a DataFrame\n",
      "\n",
      "See the caveats in the documentation: https://pandas.pydata.org/pandas-docs/stable/user_guide/indexing.html#returning-a-view-versus-a-copy\n",
      "  return super().fillna(\n"
     ]
    }
   ],
   "source": [
    "%run -i '4_natural_language_processing.py'\n",
    "# TEST OPEN a file and take out the description columns\n",
    "F = take_out_the_text_colume_from_merged_df('201908', 'description')\n",
    "print(F.head())"
   ],
   "metadata": {
    "collapsed": false,
    "pycharm": {
     "name": "#%%\n"
    }
   }
  },
  {
   "cell_type": "code",
   "execution_count": 27,
   "outputs": [
    {
     "name": "stdout",
     "output_type": "stream",
     "text": [
      "['like', 'app', 'rate', 'encourage', 'develop', 'further.\\\\npro', 'version', 'features:\\\\n5', 'garage', 'slot', 'cars.\\\\nmax', 'bet', '5,000.\\\\nuser', 'win', '500', \"don\\\\'t\", 'bet.\\\\nbuild', 'custom', 'car', 'mobile', 'phone.\\\\nwe', 'version', 'feature', 'price', 'market', 'search', 'lowrider', 'car', 'game', 'rest.\\\\nnew', 'custom', 'paint', 'jobs.\\\\nnew', 'multiplayer', 'challenges:\\\\nhop', 'user', 'class', 'win', '8', 'championships.\\\\ntake', 'picture', 'car', 'display', 'users.\\\\ncreate', 'custom', 'lowrider', 'car', 'mobile', 'phone', 'tablet', 'play', '3', 'different', 'game', 'mode', 'earn', 'money', 'unlock', 'car', 'part', 'customize', 'way', 'want.\\\\nwith', '180', 'different', 'upgrade', '7', 'game', 'car', 'possibility', 'endless', 'add', 'car', 'feature', 'future', 'updates.\\\\nsome', 'feature', 'available', 'include:\\\\ncar', 'hopping\\\\ncar', 'dancing\\\\ncustom', 'wheel', 'choice', 'knock', 'offs\\\\nbumper', 'kits\\\\nskirts\\\\neuro', 'lights\\\\nshaved', 'door', 'handles\\\\nconvertible', 'tops\\\\nsunroofs\\\\nbillet', 'grills\\\\nplus', '180', 'part', 'available', 'upgrade', 'car', 'performance', 'look.\\\\na', 'computer', 'web', 'player', 'version', 'available']\n"
     ]
    }
   ],
   "source": [
    "# TEST convert a single string into nlp tokens\n",
    "%run -i '4_natural_language_processing.py'\n",
    "X = F.loc['com.Stop4Sanity.LowriderCarGamePro', 'description_201912']\n",
    "text = break_text_string_into_pure_tokens(X)\n",
    "print(text)"
   ],
   "metadata": {
    "collapsed": false,
    "pycharm": {
     "name": "#%%\n"
    }
   }
  },
  {
   "cell_type": "code",
   "execution_count": 40,
   "outputs": [
    {
     "name": "stdout",
     "output_type": "stream",
     "text": [
      "pt.com.reverseoptics.feetbaby\n",
      "description_202010\n"
     ]
    },
    {
     "data": {
      "text/plain": "int"
     },
     "execution_count": 40,
     "metadata": {},
     "output_type": "execute_result"
    }
   ],
   "source": [
    "print(XD.index[10])\n",
    "print(XD.columns[6])\n",
    "type(XD['description_202010'].shape[0])"
   ],
   "metadata": {
    "collapsed": false,
    "pycharm": {
     "name": "#%%\n"
    }
   }
  },
  {
   "cell_type": "code",
   "execution_count": 28,
   "outputs": [],
   "source": [
    "# TEST convert a entire dataframe\n",
    "%run -i '4_natural_language_processing.py'\n",
    "XD = F.sample(n=100)\n",
    "XD = convert_text_dataframe_to_nlp_tokens(XD, '201908', 'description')"
   ],
   "metadata": {
    "collapsed": false,
    "pycharm": {
     "name": "#%%\n"
    }
   }
  },
  {
   "cell_type": "code",
   "execution_count": null,
   "outputs": [],
   "source": [
    "# why the tokens inside XD is different from transforming a single string\n",
    "print(XD.loc['com.Stop4Sanity.LowriderCarGamePro', 'description_201912'])\n",
    "#print(XD.loc['com.Stop4Sanity.LowriderCarGamePro', :])"
   ],
   "metadata": {
    "collapsed": false,
    "pycharm": {
     "name": "#%%\n"
    }
   }
  },
  {
   "cell_type": "code",
   "execution_count": 56,
   "outputs": [
    {
     "name": "stderr",
     "output_type": "stream",
     "text": [
      "/home/naixin/anaconda3/envs/GOOGLE_PLAY/lib/python3.8/site-packages/pandas/core/frame.py:4317: SettingWithCopyWarning: \n",
      "A value is trying to be set on a copy of a slice from a DataFrame\n",
      "\n",
      "See the caveats in the documentation: https://pandas.pydata.org/pandas-docs/stable/user_guide/indexing.html#returning-a-view-versus-a-copy\n",
      "  return super().fillna(\n",
      "converting the next dataframe:   0%|          | 0/239 [00:00<?, ?it/s]/home/naixin/Insync/naixin88@sina.cn/OneDrive/__CODING__/PycharmProjects/GOOGLE_PLAY/scripts/4_natural_language_processing.py:87: SettingWithCopyWarning: \n",
      "A value is trying to be set on a copy of a slice from a DataFrame.\n",
      "Try using .loc[row_indexer,col_indexer] = value instead\n",
      "\n",
      "See the caveats in the documentation: https://pandas.pydata.org/pandas-docs/stable/user_guide/indexing.html#returning-a-view-versus-a-copy\n",
      "  XD = pd.concat(list_of_dfs)\n",
      "converting the next dataframe: 100%|██████████| 239/239 [4:35:50<00:00, 69.25s/it]  \n"
     ]
    }
   ],
   "source": [
    "# don't run below if you have run once, it takes hours\n",
    "%run -i '4_natural_language_processing.py'\n",
    "XE = convert_df_to_nlp_tokens('201908', 'description')"
   ],
   "metadata": {
    "collapsed": false,
    "pycharm": {
     "name": "#%%\n"
    }
   }
  },
  {
   "cell_type": "code",
   "execution_count": 57,
   "outputs": [
    {
     "data": {
      "text/plain": "                                    description_201908  \\\nyio.tro.bleentoro_pro                      [available]   \nmahjong.games.mahjong.classic.free         [available]   \nfr.thema.wear.watch.drive                  [available]   \ncom.itdcs.phototherapycalculator           [available]   \ncom.codigames.market.idle.tycoon           [available]   \ncom.nytimes.android                        [available]   \ncom.fortali.sketchcutpro                   [available]   \ncom.solou.catendless.run                   [available]   \ncom.outfit7.mytalkingangelafree            [available]   \ncom.km.cutpaste.util                       [available]   \ncom.oneup.word.search                      [available]   \ncom.pishtech.mifdp                         [available]   \ncom.randomsaladgames.heartsdeluxe          [available]   \ncom.planetfitness                          [available]   \ncom.avcrbt.funimate                        [available]   \nncaa.logolwp_ohiostate                     [available]   \ncom.droid27.sensev2flipclockweather        [available]   \ncom.tabtale.unicorn.food                   [available]   \ncom.ewtn.ncrreader                         [available]   \ncom.moonactive.coinmaster                  [available]   \n\n                                                                    description_201912  \\\nyio.tro.bleentoro_pro                [bleentoro, simple, logic, game, advertisement...   \nmahjong.games.mahjong.classic.free   [mahjong, classic, solitaire, know, mah, jong,...   \nfr.thema.wear.watch.drive            [driver, watch, face, wear, os, \\n, samsung, g...   \ncom.itdcs.phototherapycalculator     [application, help, assess, neonate, need, pho...   \ncom.codigames.market.idle.tycoon     [ready, rich?\\nbecome, rich, supermarket, entr...   \ncom.nytimes.android                  [understand, world, award, win, independent, j...   \ncom.fortali.sketchcutpro             [app, take, account, specific, characteristic,...   \ncom.solou.catendless.run             [cat, runner, good, cat, running, game, decora...   \ncom.outfit7.mytalkingangelafree      [talk, angela, virtual, pet, style, family, en...   \ncom.km.cutpaste.util                 [change, photo, background, single, click.\\ncu...   \ncom.oneup.word.search                [welcome, search, word, word, game, modern, wo...   \ncom.pishtech.mifdp                   [ad, free, app, purchase, free, version, ice, ...   \ncom.randomsaladgames.heartsdeluxe    [play, popular, card, game, heart, android, \\n...   \ncom.planetfitness                    [welcome, new, planet, fitness, app, \\ncheck, ...   \ncom.avcrbt.funimate                  [good, video, editor, video, maker, music, eff...   \nncaa.logolwp_ohiostate               [8, officially, license, ohio, state, buckeye,...   \ncom.droid27.sensev2flipclockweather  [sense, v2, flip, clock, weather, feature, dig...   \ncom.tabtale.unicorn.food             [hungry, eat, boring, normal, food, eat, color...   \ncom.ewtn.ncrreader                   [national, catholic, register, app, read, fine...   \ncom.moonactive.coinmaster            [join, facebook, friend, million, player, worl...   \n\n                                                                    description_202001  \\\nyio.tro.bleentoro_pro                [bleentoro, simple, logic, game, advertisement...   \nmahjong.games.mahjong.classic.free   [mahjong, classic, solitaire, know, mah, jong,...   \nfr.thema.wear.watch.drive            [driver, watch, face, wear, os, \\n, samsung, g...   \ncom.itdcs.phototherapycalculator     [application, help, assess, neonate, need, pho...   \ncom.codigames.market.idle.tycoon     [ready, rich?\\nbecome, rich, supermarket, entr...   \ncom.nytimes.android                  [understand, world, award, win, independent, j...   \ncom.fortali.sketchcutpro             [app, take, account, specific, characteristic,...   \ncom.solou.catendless.run             [cat, runner, good, cat, running, game, decora...   \ncom.outfit7.mytalkingangelafree      [talk, angela, virtual, pet, style, family, en...   \ncom.km.cutpaste.util                 [change, photo, background, single, click.\\ncu...   \ncom.oneup.word.search                [welcome, search, word, word, game, modern, wo...   \ncom.pishtech.mifdp                   [ad, free, app, purchase, free, version, ice, ...   \ncom.randomsaladgames.heartsdeluxe    [play, popular, card, game, heart, android, \\n...   \ncom.planetfitness                    [welcome, new, planet, fitness, app, \\ncheck, ...   \ncom.avcrbt.funimate                  [good, video, editor, video, maker, music, eff...   \nncaa.logolwp_ohiostate               [8, officially, license, ohio, state, buckeye,...   \ncom.droid27.sensev2flipclockweather  [sense, v2, flip, clock, weather, feature, dig...   \ncom.tabtale.unicorn.food             [hungry, eat, boring, normal, food, eat, color...   \ncom.ewtn.ncrreader                   [national, catholic, register, app, read, fine...   \ncom.moonactive.coinmaster            [join, facebook, friend, million, player, worl...   \n\n                                                                    description_202003  \\\nyio.tro.bleentoro_pro                [bleentoro, simple, logic, game, advertisement...   \nmahjong.games.mahjong.classic.free   [mahjong, classic, solitaire, know, mah, jong,...   \nfr.thema.wear.watch.drive            [driver, watch, face, wear, os, samsung, gear,...   \ncom.itdcs.phototherapycalculator     [application, help, assess, neonate, need, pho...   \ncom.codigames.market.idle.tycoon     [ready, rich, rich, supermarket, entrepreneur,...   \ncom.nytimes.android                  [understand, world, award, win, independent, j...   \ncom.fortali.sketchcutpro             [app, take, account, specific, characteristic,...   \ncom.solou.catendless.run             [cat, runner, good, cat, running, game, decora...   \ncom.outfit7.mytalkingangelafree      [talk, angela, virtual, pet, style, family, en...   \ncom.km.cutpaste.util                 [change, photo, background, single, click, cut...   \ncom.oneup.word.search                [welcome, search, word, word, game, modern, wo...   \ncom.pishtech.mifdp                   [ad, free, app, purchase, free, version, ice, ...   \ncom.randomsaladgames.heartsdeluxe    [play, popular, card, game, heart, android, he...   \ncom.planetfitness                    [welcome, new, planet, fitness, app, check, aw...   \ncom.avcrbt.funimate                  [<, h1, good, video, editor, video, maker, mus...   \nncaa.logolwp_ohiostate               [8, officially, license, ohio, state, buckeye,...   \ncom.droid27.sensev2flipclockweather  [sense, v2, flip, clock, weather, feature, dig...   \ncom.tabtale.unicorn.food             [hungry, eat, boring, normal, food, eat, color...   \ncom.ewtn.ncrreader                   [national, catholic, register, app, read, fine...   \ncom.moonactive.coinmaster            [join, facebook, friend, million, player, worl...   \n\n                                                                    description_202004  \\\nyio.tro.bleentoro_pro                [bleentoro, simple, logic, game, advertisement...   \nmahjong.games.mahjong.classic.free   [mahjong, classic, solitaire, know, mah, jong,...   \nfr.thema.wear.watch.drive            [driver, watch, face, wear, os, samsung, gear,...   \ncom.itdcs.phototherapycalculator     [application, help, assess, neonate, need, pho...   \ncom.codigames.market.idle.tycoon     [ready, rich, rich, supermarket, entrepreneur,...   \ncom.nytimes.android                  [understand, world, award, win, independent, j...   \ncom.fortali.sketchcutpro             [app, take, account, specific, characteristic,...   \ncom.solou.catendless.run             [cat, runner, good, cat, running, game, decora...   \ncom.outfit7.mytalkingangelafree      [talk, angela, virtual, pet, style, family, en...   \ncom.km.cutpaste.util                 [change, photo, background, single, click, cut...   \ncom.oneup.word.search                [welcome, search, word, word, game, modern, wo...   \ncom.pishtech.mifdp                   [ad, free, app, purchase, free, version, ice, ...   \ncom.randomsaladgames.heartsdeluxe    [play, popular, card, game, heart, android, he...   \ncom.planetfitness                    [welcome, new, planet, fitness, app, check, aw...   \ncom.avcrbt.funimate                  [good, video, editor, video, maker, music, eff...   \nncaa.logolwp_ohiostate               [8, officially, license, ohio, state, buckeye,...   \ncom.droid27.sensev2flipclockweather  [sense, v2, flip, clock, weather, feature, dig...   \ncom.tabtale.unicorn.food             [hungry, eat, boring, normal, food, eat, color...   \ncom.ewtn.ncrreader                   [national, catholic, register, app, read, fine...   \ncom.moonactive.coinmaster            [join, facebook, friend, million, player, worl...   \n\n                                                                    description_202009  \\\nyio.tro.bleentoro_pro                [bleentoro, simple, logic, game, advertisement...   \nmahjong.games.mahjong.classic.free   [mahjong, classic, solitaire, know, mah, jong,...   \nfr.thema.wear.watch.drive            [driver, watch, face, wear, os, samsung, gear,...   \ncom.itdcs.phototherapycalculator     [application, help, assess, neonate, need, pho...   \ncom.codigames.market.idle.tycoon     [ready, rich, rich, supermarket, entrepreneur,...   \ncom.nytimes.android                  [understand, world, award, win, independent, j...   \ncom.fortali.sketchcutpro             [app, take, account, specific, characteristic,...   \ncom.solou.catendless.run             [cat, runner, good, cat, running, game, decora...   \ncom.outfit7.mytalkingangelafree      [talk, angela, virtual, pet, style, family, en...   \ncom.km.cutpaste.util                 [change, photo, background, single, click, cut...   \ncom.oneup.word.search                [welcome, search, word, word, game, modern, wo...   \ncom.pishtech.mifdp                   [ad, free, app, purchase, free, version, ice, ...   \ncom.randomsaladgames.heartsdeluxe    [play, popular, card, game, heart, android, he...   \ncom.planetfitness                    [welcome, new, planet, fitness, app, check, aw...   \ncom.avcrbt.funimate                  [good, video, editor, video, maker, music, eff...   \nncaa.logolwp_ohiostate               [8, officially, license, ohio, state, buckeye,...   \ncom.droid27.sensev2flipclockweather  [sense, v2, flip, clock, weather, feature, dig...   \ncom.tabtale.unicorn.food             [hungry, eat, boring, normal, food, eat, color...   \ncom.ewtn.ncrreader                   [national, catholic, register, app, read, fine...   \ncom.moonactive.coinmaster            [join, facebook, friend, million, player, worl...   \n\n                                                                    description_202010  \\\nyio.tro.bleentoro_pro                [bleentoro, simple, logic, game, advertisement...   \nmahjong.games.mahjong.classic.free   [mahjong, classic, solitaire, know, mah, jong,...   \nfr.thema.wear.watch.drive            [driver, watch, face, wear, os, samsung, gear,...   \ncom.itdcs.phototherapycalculator     [application, help, assess, neonate, need, pho...   \ncom.codigames.market.idle.tycoon     [ready, rich, rich, supermarket, entrepreneur,...   \ncom.nytimes.android                  [understand, world, award, win, independent, j...   \ncom.fortali.sketchcutpro             [app, take, account, specific, characteristic,...   \ncom.solou.catendless.run             [cat, runner, good, cat, running, game, decora...   \ncom.outfit7.mytalkingangelafree      [talk, angela, virtual, pet, style, family, en...   \ncom.km.cutpaste.util                 [change, photo, background, single, click, cut...   \ncom.oneup.word.search                [welcome, search, word, word, game, modern, wo...   \ncom.pishtech.mifdp                   [ad, free, app, purchase, free, version, ice, ...   \ncom.randomsaladgames.heartsdeluxe    [play, popular, card, game, heart, android, he...   \ncom.planetfitness                    [welcome, new, planet, fitness, app, check, aw...   \ncom.avcrbt.funimate                  [good, video, editor, video, maker, music, eff...   \nncaa.logolwp_ohiostate               [8, officially, license, ohio, state, buckeye,...   \ncom.droid27.sensev2flipclockweather  [sense, v2, flip, clock, weather, feature, dig...   \ncom.tabtale.unicorn.food             [hungry, eat, boring, normal, food, eat, color...   \ncom.ewtn.ncrreader                   [national, catholic, register, app, read, fine...   \ncom.moonactive.coinmaster            [join, facebook, friend, million, player, worl...   \n\n                                                                    description_202011  \nyio.tro.bleentoro_pro                [bleentoro, simple, logic, game, advertisement...  \nmahjong.games.mahjong.classic.free   [mahjong, classic, solitaire, know, mah, jong,...  \nfr.thema.wear.watch.drive            [driver, watch, face, wear, os, samsung, gear,...  \ncom.itdcs.phototherapycalculator     [application, help, assess, neonate, need, pho...  \ncom.codigames.market.idle.tycoon     [ready, rich, rich, supermarket, entrepreneur,...  \ncom.nytimes.android                  [understand, world, award, win, independent, j...  \ncom.fortali.sketchcutpro             [app, take, account, specific, characteristic,...  \ncom.solou.catendless.run             [cat, runner, good, cat, running, game, decora...  \ncom.outfit7.mytalkingangelafree      [talk, angela, virtual, pet, style, family, en...  \ncom.km.cutpaste.util                 [change, photo, background, single, click, cut...  \ncom.oneup.word.search                [welcome, search, word, word, game, modern, wo...  \ncom.pishtech.mifdp                   [ad, free, app, purchase, free, version, ice, ...  \ncom.randomsaladgames.heartsdeluxe    [play, popular, card, game, heart, android, he...  \ncom.planetfitness                    [welcome, new, planet, fitness, app, check, aw...  \ncom.avcrbt.funimate                  [good, video, editor, video, maker, music, eff...  \nncaa.logolwp_ohiostate               [8, officially, license, ohio, state, buckeye,...  \ncom.droid27.sensev2flipclockweather  [sense, v2, flip, clock, weather, feature, dig...  \ncom.tabtale.unicorn.food             [hungry, eat, boring, normal, food, eat, color...  \ncom.ewtn.ncrreader                   [national, catholic, register, app, read, fine...  \ncom.moonactive.coinmaster            [join, facebook, friend, million, player, worl...  ",
      "text/html": "<div>\n<style scoped>\n    .dataframe tbody tr th:only-of-type {\n        vertical-align: middle;\n    }\n\n    .dataframe tbody tr th {\n        vertical-align: top;\n    }\n\n    .dataframe thead th {\n        text-align: right;\n    }\n</style>\n<table border=\"1\" class=\"dataframe\">\n  <thead>\n    <tr style=\"text-align: right;\">\n      <th></th>\n      <th>description_201908</th>\n      <th>description_201912</th>\n      <th>description_202001</th>\n      <th>description_202003</th>\n      <th>description_202004</th>\n      <th>description_202009</th>\n      <th>description_202010</th>\n      <th>description_202011</th>\n    </tr>\n  </thead>\n  <tbody>\n    <tr>\n      <th>yio.tro.bleentoro_pro</th>\n      <td>[available]</td>\n      <td>[bleentoro, simple, logic, game, advertisement...</td>\n      <td>[bleentoro, simple, logic, game, advertisement...</td>\n      <td>[bleentoro, simple, logic, game, advertisement...</td>\n      <td>[bleentoro, simple, logic, game, advertisement...</td>\n      <td>[bleentoro, simple, logic, game, advertisement...</td>\n      <td>[bleentoro, simple, logic, game, advertisement...</td>\n      <td>[bleentoro, simple, logic, game, advertisement...</td>\n    </tr>\n    <tr>\n      <th>mahjong.games.mahjong.classic.free</th>\n      <td>[available]</td>\n      <td>[mahjong, classic, solitaire, know, mah, jong,...</td>\n      <td>[mahjong, classic, solitaire, know, mah, jong,...</td>\n      <td>[mahjong, classic, solitaire, know, mah, jong,...</td>\n      <td>[mahjong, classic, solitaire, know, mah, jong,...</td>\n      <td>[mahjong, classic, solitaire, know, mah, jong,...</td>\n      <td>[mahjong, classic, solitaire, know, mah, jong,...</td>\n      <td>[mahjong, classic, solitaire, know, mah, jong,...</td>\n    </tr>\n    <tr>\n      <th>fr.thema.wear.watch.drive</th>\n      <td>[available]</td>\n      <td>[driver, watch, face, wear, os, \\n, samsung, g...</td>\n      <td>[driver, watch, face, wear, os, \\n, samsung, g...</td>\n      <td>[driver, watch, face, wear, os, samsung, gear,...</td>\n      <td>[driver, watch, face, wear, os, samsung, gear,...</td>\n      <td>[driver, watch, face, wear, os, samsung, gear,...</td>\n      <td>[driver, watch, face, wear, os, samsung, gear,...</td>\n      <td>[driver, watch, face, wear, os, samsung, gear,...</td>\n    </tr>\n    <tr>\n      <th>com.itdcs.phototherapycalculator</th>\n      <td>[available]</td>\n      <td>[application, help, assess, neonate, need, pho...</td>\n      <td>[application, help, assess, neonate, need, pho...</td>\n      <td>[application, help, assess, neonate, need, pho...</td>\n      <td>[application, help, assess, neonate, need, pho...</td>\n      <td>[application, help, assess, neonate, need, pho...</td>\n      <td>[application, help, assess, neonate, need, pho...</td>\n      <td>[application, help, assess, neonate, need, pho...</td>\n    </tr>\n    <tr>\n      <th>com.codigames.market.idle.tycoon</th>\n      <td>[available]</td>\n      <td>[ready, rich?\\nbecome, rich, supermarket, entr...</td>\n      <td>[ready, rich?\\nbecome, rich, supermarket, entr...</td>\n      <td>[ready, rich, rich, supermarket, entrepreneur,...</td>\n      <td>[ready, rich, rich, supermarket, entrepreneur,...</td>\n      <td>[ready, rich, rich, supermarket, entrepreneur,...</td>\n      <td>[ready, rich, rich, supermarket, entrepreneur,...</td>\n      <td>[ready, rich, rich, supermarket, entrepreneur,...</td>\n    </tr>\n    <tr>\n      <th>com.nytimes.android</th>\n      <td>[available]</td>\n      <td>[understand, world, award, win, independent, j...</td>\n      <td>[understand, world, award, win, independent, j...</td>\n      <td>[understand, world, award, win, independent, j...</td>\n      <td>[understand, world, award, win, independent, j...</td>\n      <td>[understand, world, award, win, independent, j...</td>\n      <td>[understand, world, award, win, independent, j...</td>\n      <td>[understand, world, award, win, independent, j...</td>\n    </tr>\n    <tr>\n      <th>com.fortali.sketchcutpro</th>\n      <td>[available]</td>\n      <td>[app, take, account, specific, characteristic,...</td>\n      <td>[app, take, account, specific, characteristic,...</td>\n      <td>[app, take, account, specific, characteristic,...</td>\n      <td>[app, take, account, specific, characteristic,...</td>\n      <td>[app, take, account, specific, characteristic,...</td>\n      <td>[app, take, account, specific, characteristic,...</td>\n      <td>[app, take, account, specific, characteristic,...</td>\n    </tr>\n    <tr>\n      <th>com.solou.catendless.run</th>\n      <td>[available]</td>\n      <td>[cat, runner, good, cat, running, game, decora...</td>\n      <td>[cat, runner, good, cat, running, game, decora...</td>\n      <td>[cat, runner, good, cat, running, game, decora...</td>\n      <td>[cat, runner, good, cat, running, game, decora...</td>\n      <td>[cat, runner, good, cat, running, game, decora...</td>\n      <td>[cat, runner, good, cat, running, game, decora...</td>\n      <td>[cat, runner, good, cat, running, game, decora...</td>\n    </tr>\n    <tr>\n      <th>com.outfit7.mytalkingangelafree</th>\n      <td>[available]</td>\n      <td>[talk, angela, virtual, pet, style, family, en...</td>\n      <td>[talk, angela, virtual, pet, style, family, en...</td>\n      <td>[talk, angela, virtual, pet, style, family, en...</td>\n      <td>[talk, angela, virtual, pet, style, family, en...</td>\n      <td>[talk, angela, virtual, pet, style, family, en...</td>\n      <td>[talk, angela, virtual, pet, style, family, en...</td>\n      <td>[talk, angela, virtual, pet, style, family, en...</td>\n    </tr>\n    <tr>\n      <th>com.km.cutpaste.util</th>\n      <td>[available]</td>\n      <td>[change, photo, background, single, click.\\ncu...</td>\n      <td>[change, photo, background, single, click.\\ncu...</td>\n      <td>[change, photo, background, single, click, cut...</td>\n      <td>[change, photo, background, single, click, cut...</td>\n      <td>[change, photo, background, single, click, cut...</td>\n      <td>[change, photo, background, single, click, cut...</td>\n      <td>[change, photo, background, single, click, cut...</td>\n    </tr>\n    <tr>\n      <th>com.oneup.word.search</th>\n      <td>[available]</td>\n      <td>[welcome, search, word, word, game, modern, wo...</td>\n      <td>[welcome, search, word, word, game, modern, wo...</td>\n      <td>[welcome, search, word, word, game, modern, wo...</td>\n      <td>[welcome, search, word, word, game, modern, wo...</td>\n      <td>[welcome, search, word, word, game, modern, wo...</td>\n      <td>[welcome, search, word, word, game, modern, wo...</td>\n      <td>[welcome, search, word, word, game, modern, wo...</td>\n    </tr>\n    <tr>\n      <th>com.pishtech.mifdp</th>\n      <td>[available]</td>\n      <td>[ad, free, app, purchase, free, version, ice, ...</td>\n      <td>[ad, free, app, purchase, free, version, ice, ...</td>\n      <td>[ad, free, app, purchase, free, version, ice, ...</td>\n      <td>[ad, free, app, purchase, free, version, ice, ...</td>\n      <td>[ad, free, app, purchase, free, version, ice, ...</td>\n      <td>[ad, free, app, purchase, free, version, ice, ...</td>\n      <td>[ad, free, app, purchase, free, version, ice, ...</td>\n    </tr>\n    <tr>\n      <th>com.randomsaladgames.heartsdeluxe</th>\n      <td>[available]</td>\n      <td>[play, popular, card, game, heart, android, \\n...</td>\n      <td>[play, popular, card, game, heart, android, \\n...</td>\n      <td>[play, popular, card, game, heart, android, he...</td>\n      <td>[play, popular, card, game, heart, android, he...</td>\n      <td>[play, popular, card, game, heart, android, he...</td>\n      <td>[play, popular, card, game, heart, android, he...</td>\n      <td>[play, popular, card, game, heart, android, he...</td>\n    </tr>\n    <tr>\n      <th>com.planetfitness</th>\n      <td>[available]</td>\n      <td>[welcome, new, planet, fitness, app, \\ncheck, ...</td>\n      <td>[welcome, new, planet, fitness, app, \\ncheck, ...</td>\n      <td>[welcome, new, planet, fitness, app, check, aw...</td>\n      <td>[welcome, new, planet, fitness, app, check, aw...</td>\n      <td>[welcome, new, planet, fitness, app, check, aw...</td>\n      <td>[welcome, new, planet, fitness, app, check, aw...</td>\n      <td>[welcome, new, planet, fitness, app, check, aw...</td>\n    </tr>\n    <tr>\n      <th>com.avcrbt.funimate</th>\n      <td>[available]</td>\n      <td>[good, video, editor, video, maker, music, eff...</td>\n      <td>[good, video, editor, video, maker, music, eff...</td>\n      <td>[&lt;, h1, good, video, editor, video, maker, mus...</td>\n      <td>[good, video, editor, video, maker, music, eff...</td>\n      <td>[good, video, editor, video, maker, music, eff...</td>\n      <td>[good, video, editor, video, maker, music, eff...</td>\n      <td>[good, video, editor, video, maker, music, eff...</td>\n    </tr>\n    <tr>\n      <th>ncaa.logolwp_ohiostate</th>\n      <td>[available]</td>\n      <td>[8, officially, license, ohio, state, buckeye,...</td>\n      <td>[8, officially, license, ohio, state, buckeye,...</td>\n      <td>[8, officially, license, ohio, state, buckeye,...</td>\n      <td>[8, officially, license, ohio, state, buckeye,...</td>\n      <td>[8, officially, license, ohio, state, buckeye,...</td>\n      <td>[8, officially, license, ohio, state, buckeye,...</td>\n      <td>[8, officially, license, ohio, state, buckeye,...</td>\n    </tr>\n    <tr>\n      <th>com.droid27.sensev2flipclockweather</th>\n      <td>[available]</td>\n      <td>[sense, v2, flip, clock, weather, feature, dig...</td>\n      <td>[sense, v2, flip, clock, weather, feature, dig...</td>\n      <td>[sense, v2, flip, clock, weather, feature, dig...</td>\n      <td>[sense, v2, flip, clock, weather, feature, dig...</td>\n      <td>[sense, v2, flip, clock, weather, feature, dig...</td>\n      <td>[sense, v2, flip, clock, weather, feature, dig...</td>\n      <td>[sense, v2, flip, clock, weather, feature, dig...</td>\n    </tr>\n    <tr>\n      <th>com.tabtale.unicorn.food</th>\n      <td>[available]</td>\n      <td>[hungry, eat, boring, normal, food, eat, color...</td>\n      <td>[hungry, eat, boring, normal, food, eat, color...</td>\n      <td>[hungry, eat, boring, normal, food, eat, color...</td>\n      <td>[hungry, eat, boring, normal, food, eat, color...</td>\n      <td>[hungry, eat, boring, normal, food, eat, color...</td>\n      <td>[hungry, eat, boring, normal, food, eat, color...</td>\n      <td>[hungry, eat, boring, normal, food, eat, color...</td>\n    </tr>\n    <tr>\n      <th>com.ewtn.ncrreader</th>\n      <td>[available]</td>\n      <td>[national, catholic, register, app, read, fine...</td>\n      <td>[national, catholic, register, app, read, fine...</td>\n      <td>[national, catholic, register, app, read, fine...</td>\n      <td>[national, catholic, register, app, read, fine...</td>\n      <td>[national, catholic, register, app, read, fine...</td>\n      <td>[national, catholic, register, app, read, fine...</td>\n      <td>[national, catholic, register, app, read, fine...</td>\n    </tr>\n    <tr>\n      <th>com.moonactive.coinmaster</th>\n      <td>[available]</td>\n      <td>[join, facebook, friend, million, player, worl...</td>\n      <td>[join, facebook, friend, million, player, worl...</td>\n      <td>[join, facebook, friend, million, player, worl...</td>\n      <td>[join, facebook, friend, million, player, worl...</td>\n      <td>[join, facebook, friend, million, player, worl...</td>\n      <td>[join, facebook, friend, million, player, worl...</td>\n      <td>[join, facebook, friend, million, player, worl...</td>\n    </tr>\n  </tbody>\n</table>\n</div>"
     },
     "execution_count": 57,
     "metadata": {},
     "output_type": "execute_result"
    }
   ],
   "source": [
    "D = XE.sample(n=20)\n",
    "D"
   ],
   "metadata": {
    "collapsed": false,
    "pycharm": {
     "name": "#%%\n"
    }
   }
  },
  {
   "cell_type": "markdown",
   "source": [
    "# start from here once you have tokenized everything\n",
    "### Test Cell\n",
    "below is a test cell that all procedures will be applied to all the cells\n",
    "containing app descriptions"
   ],
   "metadata": {
    "collapsed": false,
    "pycharm": {
     "name": "#%% md\n"
    }
   }
  },
  {
   "cell_type": "code",
   "execution_count": 3,
   "outputs": [
    {
     "data": {
      "text/plain": "['penup',\n 'creative',\n 'sns',\n 'base',\n 'pen',\n 'generate',\n 'image',\n 'share',\n 'imagination',\n 'global',\n 'creative',\n 'minds.\\\\n[main',\n 'features]\\\\n-',\n 'drawing',\n 'draw',\n 'easily',\n 'comfortably\\\\n-',\n 'coloring',\n 'color',\n 'beautiful',\n 'sketches\\\\n-',\n 'live',\n 'draw',\n 'foster',\n 'draw',\n 'skill',\n 'set',\n 'follow',\n 'draw',\n 'video\\\\n-',\n 'photo',\n 'drawing',\n 'draw',\n 'photos\\\\n-',\n 'challenge',\n 'challenge',\n 'new',\n 'topics\\\\n-',\n 'popular',\n 'enjoy',\n 'real',\n 'time',\n 'popular',\n 'artwork',\n 'share',\n 'drawings\\\\n-',\n 'drawing',\n 'comment',\n 'express',\n 'drawing',\n 'fun',\n 'manner',\n 'interact',\n 'another\\\\n-------------------------------------------------regarde',\n 'app',\n 'access',\n 'privilege--------------------------------------\\\\nthe',\n 'follow',\n 'permission',\n 'require',\n 'app',\n 'service',\n 'optional',\n 'permission',\n 'default',\n 'functionality',\n 'service',\n 'turn',\n 'allowed.\\\\n[mandatory',\n 'access',\n 'privilege]\\\\n-',\n 'contact',\n 'account',\n 'information',\n 'sign',\n 'penup',\n 'samsung',\n 'account',\n 'facebook',\n 'google',\n 'twitt',\n 'account\\\\n[optional',\n 'access',\n 'privilege]\\\\n-',\n 'storage',\n 'upload',\n 'drawing',\n 'penup',\n 'download',\n 'drawing',\n 'penup\\\\nif',\n 'system',\n 'software',\n 'version',\n 'low',\n 'android',\n '6.0',\n 'update',\n 'software',\n 'configure',\n 'app',\n 'permissions.\\\\npreviously',\n 'allow',\n 'permission',\n 'reset',\n 'app',\n 'menu',\n 'device',\n 'setting',\n 'software',\n 'update']"
     },
     "execution_count": 3,
     "metadata": {},
     "output_type": "execute_result"
    }
   ],
   "source": [
    "initial_panel = '201908'\n",
    "DF = open_token_df(initial_panel)\n",
    "documents = DF.iloc[3, 1]\n",
    "documents"
   ],
   "metadata": {
    "collapsed": false,
    "pycharm": {
     "name": "#%%\n"
    }
   }
  },
  {
   "cell_type": "markdown",
   "source": [
    "The top ranked terms from the H factor for each topic can give us an insight\n",
    "into the content of that topic.\n",
    "This is often called the topic descriptor."
   ],
   "metadata": {
    "collapsed": false,
    "pycharm": {
     "name": "#%% md\n"
    }
   }
  },
  {
   "cell_type": "code",
   "execution_count": 13,
   "outputs": [
    {
     "name": "stdout",
     "output_type": "stream",
     "text": [
      "[(1, 'drawing'), (2, 'draw'), (3, 'app')]\n"
     ]
    }
   ],
   "source": [
    "%run -i '4_natural_language_processing.py'\n",
    "# number of topics per description is k\n",
    "k = 3\n",
    "# number of descriptor per topic is top\n",
    "top = 1\n",
    "# init is the initialization method\n",
    "init = \"nndsvd\"\n",
    "descriptors = get_descriptor_in_tuple( init, k, documents, top )\n",
    "print(descriptors)"
   ],
   "metadata": {
    "collapsed": false,
    "pycharm": {
     "name": "#%%\n"
    }
   }
  },
  {
   "cell_type": "code",
   "execution_count": 11,
   "outputs": [],
   "source": [
    "# add new empty columns to store topics for each descriptions\n",
    "DF['description_topics_201912'] = np.nan\n",
    "DF['description_topics_202001'] = np.nan\n",
    "DF['description_topics_202003'] = np.nan\n",
    "DF['description_topics_202004'] = np.nan\n",
    "DF['description_topics_202009'] = np.nan\n",
    "DF['description_topics_202010'] = np.nan\n",
    "DF['description_topics_202011'] = np.nan\n",
    "panels_have_text = ['201912', '202001', '202003', '202004', '202009', '202010', '202011']"
   ],
   "metadata": {
    "collapsed": false,
    "pycharm": {
     "name": "#%%\n"
    }
   }
  },
  {
   "cell_type": "code",
   "execution_count": 26,
   "outputs": [
    {
     "name": "stderr",
     "output_type": "stream",
     "text": [
      "/home/naixin/Insync/naixin88@sina.cn/OneDrive/__CODING__/PycharmProjects/GOOGLE_PLAY/scripts/4_natural_language_processing.py:7: TqdmDeprecationWarning: This function will be removed in tqdm==5.0.0\n",
      "Please use `tqdm.notebook.tqdm` instead of `tqdm.tqdm_notebook`\n",
      "  import numpy as np\n",
      "/home/naixin/anaconda3/envs/GOOGLE_PLAY/lib/python3.8/site-packages/tqdm/std.py:697: FutureWarning: The Panel class is removed from pandas. Accessing it from the top-level namespace will also be removed in the next version\n",
      "  from pandas import Panel\n",
      "/home/naixin/anaconda3/envs/GOOGLE_PLAY/lib/python3.8/site-packages/sklearn/decomposition/_nmf.py:1076: ConvergenceWarning: Maximum number of iterations 200 reached. Increase it to improve convergence.\n",
      "  warnings.warn(\"Maximum number of iterations %d reached. Increase it to\"\n",
      "/home/naixin/anaconda3/envs/GOOGLE_PLAY/lib/python3.8/site-packages/sklearn/decomposition/_nmf.py:1076: ConvergenceWarning: Maximum number of iterations 200 reached. Increase it to improve convergence.\n",
      "  warnings.warn(\"Maximum number of iterations %d reached. Increase it to\"\n",
      "/home/naixin/anaconda3/envs/GOOGLE_PLAY/lib/python3.8/site-packages/sklearn/decomposition/_nmf.py:1076: ConvergenceWarning: Maximum number of iterations 200 reached. Increase it to improve convergence.\n",
      "  warnings.warn(\"Maximum number of iterations %d reached. Increase it to\"\n",
      "/home/naixin/anaconda3/envs/GOOGLE_PLAY/lib/python3.8/site-packages/sklearn/decomposition/_nmf.py:1076: ConvergenceWarning: Maximum number of iterations 200 reached. Increase it to improve convergence.\n",
      "  warnings.warn(\"Maximum number of iterations %d reached. Increase it to\"\n",
      "/home/naixin/anaconda3/envs/GOOGLE_PLAY/lib/python3.8/site-packages/sklearn/decomposition/_nmf.py:1076: ConvergenceWarning: Maximum number of iterations 200 reached. Increase it to improve convergence.\n",
      "  warnings.warn(\"Maximum number of iterations %d reached. Increase it to\"\n",
      "/home/naixin/anaconda3/envs/GOOGLE_PLAY/lib/python3.8/site-packages/sklearn/decomposition/_nmf.py:1076: ConvergenceWarning: Maximum number of iterations 200 reached. Increase it to improve convergence.\n",
      "  warnings.warn(\"Maximum number of iterations %d reached. Increase it to\"\n",
      "/home/naixin/anaconda3/envs/GOOGLE_PLAY/lib/python3.8/site-packages/sklearn/decomposition/_nmf.py:1076: ConvergenceWarning: Maximum number of iterations 200 reached. Increase it to improve convergence.\n",
      "  warnings.warn(\"Maximum number of iterations %d reached. Increase it to\"\n",
      "/home/naixin/anaconda3/envs/GOOGLE_PLAY/lib/python3.8/site-packages/sklearn/decomposition/_nmf.py:1076: ConvergenceWarning: Maximum number of iterations 200 reached. Increase it to improve convergence.\n",
      "  warnings.warn(\"Maximum number of iterations %d reached. Increase it to\"\n",
      "/home/naixin/anaconda3/envs/GOOGLE_PLAY/lib/python3.8/site-packages/sklearn/decomposition/_nmf.py:1076: ConvergenceWarning: Maximum number of iterations 200 reached. Increase it to improve convergence.\n",
      "  warnings.warn(\"Maximum number of iterations %d reached. Increase it to\"\n",
      "/home/naixin/anaconda3/envs/GOOGLE_PLAY/lib/python3.8/site-packages/sklearn/decomposition/_nmf.py:1076: ConvergenceWarning: Maximum number of iterations 200 reached. Increase it to improve convergence.\n",
      "  warnings.warn(\"Maximum number of iterations %d reached. Increase it to\"\n"
     ]
    },
    {
     "data": {
      "text/plain": "HBox(children=(HTML(value=''), FloatProgress(value=1.0, bar_style='info', layout=Layout(width='20px'), max=1.0…",
      "application/vnd.jupyter.widget-view+json": {
       "version_major": 2,
       "version_minor": 0,
       "model_id": "c75b87f21bf84fc0a1a27b6720268aef"
      }
     },
     "metadata": {},
     "output_type": "display_data"
    },
    {
     "name": "stdout",
     "output_type": "stream",
     "text": [
      "\n",
      "\n",
      "\n",
      "\n",
      "\n"
     ]
    },
    {
     "data": {
      "text/plain": "HBox(children=(HTML(value=''), FloatProgress(value=0.0, max=101.0), HTML(value='')))",
      "application/vnd.jupyter.widget-view+json": {
       "version_major": 2,
       "version_minor": 0,
       "model_id": "6135aa56256d44fc8a05f7338ac7406c"
      }
     },
     "metadata": {},
     "output_type": "display_data"
    },
    {
     "data": {
      "text/plain": "HBox(children=(HTML(value=''), FloatProgress(value=0.0, max=101.0), HTML(value='')))",
      "application/vnd.jupyter.widget-view+json": {
       "version_major": 2,
       "version_minor": 0,
       "model_id": "781d6958fcff4928be4ef24a77b9b4b4"
      }
     },
     "metadata": {},
     "output_type": "display_data"
    },
    {
     "data": {
      "text/plain": "HBox(children=(HTML(value=''), FloatProgress(value=0.0, max=101.0), HTML(value='')))",
      "application/vnd.jupyter.widget-view+json": {
       "version_major": 2,
       "version_minor": 0,
       "model_id": "05dbcbec9a104392a4b226c4d0cadbbe"
      }
     },
     "metadata": {},
     "output_type": "display_data"
    },
    {
     "data": {
      "text/plain": "HBox(children=(HTML(value=''), FloatProgress(value=0.0, max=101.0), HTML(value='')))",
      "application/vnd.jupyter.widget-view+json": {
       "version_major": 2,
       "version_minor": 0,
       "model_id": "8f8b1556b6b84ba79212a92eb6f75cd2"
      }
     },
     "metadata": {},
     "output_type": "display_data"
    },
    {
     "ename": "ValueError",
     "evalue": "init = 'nndsvd' can only be used when n_components <= min(n_samples, n_features)",
     "output_type": "error",
     "traceback": [
      "\u001B[0;31m---------------------------------------------------------------------------\u001B[0m",
      "\u001B[0;31mValueError\u001B[0m                                Traceback (most recent call last)",
      "\u001B[0;32m~/Insync/naixin88@sina.cn/OneDrive/__CODING__/PycharmProjects/GOOGLE_PLAY/scripts/4_natural_language_processing.py\u001B[0m in \u001B[0;36m<module>\u001B[0;34m\u001B[0m\n\u001B[1;32m      8\u001B[0m \u001B[0;31m# init is the initialization method\u001B[0m\u001B[0;34m\u001B[0m\u001B[0;34m\u001B[0m\u001B[0;34m\u001B[0m\u001B[0m\n\u001B[1;32m      9\u001B[0m \u001B[0minit\u001B[0m \u001B[0;34m=\u001B[0m \u001B[0;34m\"nndsvd\"\u001B[0m\u001B[0;34m\u001B[0m\u001B[0;34m\u001B[0m\u001B[0m\n\u001B[0;32m---> 10\u001B[0;31m \u001B[0mS\u001B[0m \u001B[0;34m=\u001B[0m \u001B[0mget_descriptor_for_each_row\u001B[0m\u001B[0;34m(\u001B[0m \u001B[0minitial_panel\u001B[0m\u001B[0;34m,\u001B[0m \u001B[0mpanels_have_text\u001B[0m\u001B[0;34m,\u001B[0m \u001B[0minit\u001B[0m\u001B[0;34m,\u001B[0m \u001B[0mk\u001B[0m\u001B[0;34m,\u001B[0m \u001B[0mtop\u001B[0m\u001B[0;34m,\u001B[0m \u001B[0msample\u001B[0m \u001B[0;34m=\u001B[0m \u001B[0;36m101\u001B[0m \u001B[0;34m)\u001B[0m\u001B[0;34m\u001B[0m\u001B[0;34m\u001B[0m\u001B[0m\n\u001B[0m\u001B[1;32m     11\u001B[0m \u001B[0mS\u001B[0m\u001B[0;34m.\u001B[0m\u001B[0mloc\u001B[0m\u001B[0;34m[\u001B[0m\u001B[0;34m:\u001B[0m\u001B[0;34m,\u001B[0m \u001B[0;34m[\u001B[0m\u001B[0;34m'description_202011'\u001B[0m\u001B[0;34m,\u001B[0m \u001B[0;34m'description_topics_202011'\u001B[0m\u001B[0;34m]\u001B[0m\u001B[0;34m]\u001B[0m\u001B[0;34m\u001B[0m\u001B[0;34m\u001B[0m\u001B[0m\n",
      "\u001B[0;32m~/Insync/naixin88@sina.cn/OneDrive/__CODING__/PycharmProjects/GOOGLE_PLAY/scripts/4_natural_language_processing.py\u001B[0m in \u001B[0;36mget_descriptor_for_each_row\u001B[0;34m(initial_panel, panels_have_text, init, k, top, **kwargs)\u001B[0m\n\u001B[1;32m    164\u001B[0m         \u001B[0mdf\u001B[0m \u001B[0;34m=\u001B[0m \u001B[0mdf\u001B[0m\u001B[0;34m.\u001B[0m\u001B[0msample\u001B[0m\u001B[0;34m(\u001B[0m\u001B[0mn\u001B[0m\u001B[0;34m=\u001B[0m\u001B[0mkwargs\u001B[0m\u001B[0;34m[\u001B[0m\u001B[0;34m'sample'\u001B[0m\u001B[0;34m]\u001B[0m\u001B[0;34m)\u001B[0m\u001B[0;34m\u001B[0m\u001B[0;34m\u001B[0m\u001B[0m\n\u001B[1;32m    165\u001B[0m     \u001B[0;32mfor\u001B[0m \u001B[0mi\u001B[0m \u001B[0;32min\u001B[0m \u001B[0mpanels_have_text\u001B[0m\u001B[0;34m:\u001B[0m\u001B[0;34m\u001B[0m\u001B[0;34m\u001B[0m\u001B[0m\n\u001B[0;32m--> 166\u001B[0;31m         \u001B[0mdf\u001B[0m\u001B[0;34m[\u001B[0m\u001B[0;34m'description_topics_'\u001B[0m\u001B[0;34m+\u001B[0m\u001B[0mi\u001B[0m\u001B[0;34m]\u001B[0m \u001B[0;34m=\u001B[0m \u001B[0mdf\u001B[0m\u001B[0;34m[\u001B[0m\u001B[0;34m'description_'\u001B[0m\u001B[0;34m+\u001B[0m\u001B[0mi\u001B[0m\u001B[0;34m]\u001B[0m\u001B[0;34m.\u001B[0m\u001B[0mprogress_apply\u001B[0m\u001B[0;34m(\u001B[0m\u001B[0;32mlambda\u001B[0m \u001B[0mx\u001B[0m\u001B[0;34m:\u001B[0m \u001B[0mget_descriptor_in_tuple\u001B[0m\u001B[0;34m(\u001B[0m \u001B[0minit\u001B[0m\u001B[0;34m,\u001B[0m \u001B[0mk\u001B[0m\u001B[0;34m,\u001B[0m \u001B[0mx\u001B[0m\u001B[0;34m,\u001B[0m \u001B[0mtop\u001B[0m \u001B[0;34m)\u001B[0m\u001B[0;34m)\u001B[0m\u001B[0;34m\u001B[0m\u001B[0;34m\u001B[0m\u001B[0m\n\u001B[0m\u001B[1;32m    167\u001B[0m     \u001B[0;31m# save\u001B[0m\u001B[0;34m\u001B[0m\u001B[0;34m\u001B[0m\u001B[0;34m\u001B[0m\u001B[0m\n\u001B[1;32m    168\u001B[0m     \u001B[0mfolder_name\u001B[0m \u001B[0;34m=\u001B[0m \u001B[0minitial_panel\u001B[0m \u001B[0;34m+\u001B[0m \u001B[0;34m'_PANEL_DF'\u001B[0m\u001B[0;34m\u001B[0m\u001B[0;34m\u001B[0m\u001B[0m\n",
      "\u001B[0;32m~/anaconda3/envs/GOOGLE_PLAY/lib/python3.8/site-packages/tqdm/std.py\u001B[0m in \u001B[0;36minner\u001B[0;34m(df, func, *args, **kwargs)\u001B[0m\n\u001B[1;32m    795\u001B[0m                 \u001B[0;31m# on the df using our wrapper (which provides bar updating)\u001B[0m\u001B[0;34m\u001B[0m\u001B[0;34m\u001B[0m\u001B[0;34m\u001B[0m\u001B[0m\n\u001B[1;32m    796\u001B[0m                 \u001B[0;32mtry\u001B[0m\u001B[0;34m:\u001B[0m\u001B[0;34m\u001B[0m\u001B[0;34m\u001B[0m\u001B[0m\n\u001B[0;32m--> 797\u001B[0;31m                     \u001B[0;32mreturn\u001B[0m \u001B[0mgetattr\u001B[0m\u001B[0;34m(\u001B[0m\u001B[0mdf\u001B[0m\u001B[0;34m,\u001B[0m \u001B[0mdf_function\u001B[0m\u001B[0;34m)\u001B[0m\u001B[0;34m(\u001B[0m\u001B[0mwrapper\u001B[0m\u001B[0;34m,\u001B[0m \u001B[0;34m**\u001B[0m\u001B[0mkwargs\u001B[0m\u001B[0;34m)\u001B[0m\u001B[0;34m\u001B[0m\u001B[0;34m\u001B[0m\u001B[0m\n\u001B[0m\u001B[1;32m    798\u001B[0m                 \u001B[0;32mfinally\u001B[0m\u001B[0;34m:\u001B[0m\u001B[0;34m\u001B[0m\u001B[0;34m\u001B[0m\u001B[0m\n\u001B[1;32m    799\u001B[0m                     \u001B[0mt\u001B[0m\u001B[0;34m.\u001B[0m\u001B[0mclose\u001B[0m\u001B[0;34m(\u001B[0m\u001B[0;34m)\u001B[0m\u001B[0;34m\u001B[0m\u001B[0;34m\u001B[0m\u001B[0m\n",
      "\u001B[0;32m~/anaconda3/envs/GOOGLE_PLAY/lib/python3.8/site-packages/pandas/core/series.py\u001B[0m in \u001B[0;36mapply\u001B[0;34m(self, func, convert_dtype, args, **kwds)\u001B[0m\n\u001B[1;32m   4198\u001B[0m             \u001B[0;32melse\u001B[0m\u001B[0;34m:\u001B[0m\u001B[0;34m\u001B[0m\u001B[0;34m\u001B[0m\u001B[0m\n\u001B[1;32m   4199\u001B[0m                 \u001B[0mvalues\u001B[0m \u001B[0;34m=\u001B[0m \u001B[0mself\u001B[0m\u001B[0;34m.\u001B[0m\u001B[0mastype\u001B[0m\u001B[0;34m(\u001B[0m\u001B[0mobject\u001B[0m\u001B[0;34m)\u001B[0m\u001B[0;34m.\u001B[0m\u001B[0m_values\u001B[0m\u001B[0;34m\u001B[0m\u001B[0;34m\u001B[0m\u001B[0m\n\u001B[0;32m-> 4200\u001B[0;31m                 \u001B[0mmapped\u001B[0m \u001B[0;34m=\u001B[0m \u001B[0mlib\u001B[0m\u001B[0;34m.\u001B[0m\u001B[0mmap_infer\u001B[0m\u001B[0;34m(\u001B[0m\u001B[0mvalues\u001B[0m\u001B[0;34m,\u001B[0m \u001B[0mf\u001B[0m\u001B[0;34m,\u001B[0m \u001B[0mconvert\u001B[0m\u001B[0;34m=\u001B[0m\u001B[0mconvert_dtype\u001B[0m\u001B[0;34m)\u001B[0m\u001B[0;34m\u001B[0m\u001B[0;34m\u001B[0m\u001B[0m\n\u001B[0m\u001B[1;32m   4201\u001B[0m \u001B[0;34m\u001B[0m\u001B[0m\n\u001B[1;32m   4202\u001B[0m         \u001B[0;32mif\u001B[0m \u001B[0mlen\u001B[0m\u001B[0;34m(\u001B[0m\u001B[0mmapped\u001B[0m\u001B[0;34m)\u001B[0m \u001B[0;32mand\u001B[0m \u001B[0misinstance\u001B[0m\u001B[0;34m(\u001B[0m\u001B[0mmapped\u001B[0m\u001B[0;34m[\u001B[0m\u001B[0;36m0\u001B[0m\u001B[0;34m]\u001B[0m\u001B[0;34m,\u001B[0m \u001B[0mSeries\u001B[0m\u001B[0;34m)\u001B[0m\u001B[0;34m:\u001B[0m\u001B[0;34m\u001B[0m\u001B[0;34m\u001B[0m\u001B[0m\n",
      "\u001B[0;32mpandas/_libs/lib.pyx\u001B[0m in \u001B[0;36mpandas._libs.lib.map_infer\u001B[0;34m()\u001B[0m\n",
      "\u001B[0;32m~/anaconda3/envs/GOOGLE_PLAY/lib/python3.8/site-packages/tqdm/std.py\u001B[0m in \u001B[0;36mwrapper\u001B[0;34m(*args, **kwargs)\u001B[0m\n\u001B[1;32m    790\u001B[0m                     \u001B[0;31m# take a fast or slow code path; so stop when t.total==t.n\u001B[0m\u001B[0;34m\u001B[0m\u001B[0;34m\u001B[0m\u001B[0;34m\u001B[0m\u001B[0m\n\u001B[1;32m    791\u001B[0m                     \u001B[0mt\u001B[0m\u001B[0;34m.\u001B[0m\u001B[0mupdate\u001B[0m\u001B[0;34m(\u001B[0m\u001B[0mn\u001B[0m\u001B[0;34m=\u001B[0m\u001B[0;36m1\u001B[0m \u001B[0;32mif\u001B[0m \u001B[0;32mnot\u001B[0m \u001B[0mt\u001B[0m\u001B[0;34m.\u001B[0m\u001B[0mtotal\u001B[0m \u001B[0;32mor\u001B[0m \u001B[0mt\u001B[0m\u001B[0;34m.\u001B[0m\u001B[0mn\u001B[0m \u001B[0;34m<\u001B[0m \u001B[0mt\u001B[0m\u001B[0;34m.\u001B[0m\u001B[0mtotal\u001B[0m \u001B[0;32melse\u001B[0m \u001B[0;36m0\u001B[0m\u001B[0;34m)\u001B[0m\u001B[0;34m\u001B[0m\u001B[0;34m\u001B[0m\u001B[0m\n\u001B[0;32m--> 792\u001B[0;31m                     \u001B[0;32mreturn\u001B[0m \u001B[0mfunc\u001B[0m\u001B[0;34m(\u001B[0m\u001B[0;34m*\u001B[0m\u001B[0margs\u001B[0m\u001B[0;34m,\u001B[0m \u001B[0;34m**\u001B[0m\u001B[0mkwargs\u001B[0m\u001B[0;34m)\u001B[0m\u001B[0;34m\u001B[0m\u001B[0;34m\u001B[0m\u001B[0m\n\u001B[0m\u001B[1;32m    793\u001B[0m \u001B[0;34m\u001B[0m\u001B[0m\n\u001B[1;32m    794\u001B[0m                 \u001B[0;31m# Apply the provided function (in **kwargs)\u001B[0m\u001B[0;34m\u001B[0m\u001B[0;34m\u001B[0m\u001B[0;34m\u001B[0m\u001B[0m\n",
      "\u001B[0;32m~/Insync/naixin88@sina.cn/OneDrive/__CODING__/PycharmProjects/GOOGLE_PLAY/scripts/4_natural_language_processing.py\u001B[0m in \u001B[0;36m<lambda>\u001B[0;34m(x)\u001B[0m\n\u001B[1;32m    164\u001B[0m         \u001B[0mdf\u001B[0m \u001B[0;34m=\u001B[0m \u001B[0mdf\u001B[0m\u001B[0;34m.\u001B[0m\u001B[0msample\u001B[0m\u001B[0;34m(\u001B[0m\u001B[0mn\u001B[0m\u001B[0;34m=\u001B[0m\u001B[0mkwargs\u001B[0m\u001B[0;34m[\u001B[0m\u001B[0;34m'sample'\u001B[0m\u001B[0;34m]\u001B[0m\u001B[0;34m)\u001B[0m\u001B[0;34m\u001B[0m\u001B[0;34m\u001B[0m\u001B[0m\n\u001B[1;32m    165\u001B[0m     \u001B[0;32mfor\u001B[0m \u001B[0mi\u001B[0m \u001B[0;32min\u001B[0m \u001B[0mpanels_have_text\u001B[0m\u001B[0;34m:\u001B[0m\u001B[0;34m\u001B[0m\u001B[0;34m\u001B[0m\u001B[0m\n\u001B[0;32m--> 166\u001B[0;31m         \u001B[0mdf\u001B[0m\u001B[0;34m[\u001B[0m\u001B[0;34m'description_topics_'\u001B[0m\u001B[0;34m+\u001B[0m\u001B[0mi\u001B[0m\u001B[0;34m]\u001B[0m \u001B[0;34m=\u001B[0m \u001B[0mdf\u001B[0m\u001B[0;34m[\u001B[0m\u001B[0;34m'description_'\u001B[0m\u001B[0;34m+\u001B[0m\u001B[0mi\u001B[0m\u001B[0;34m]\u001B[0m\u001B[0;34m.\u001B[0m\u001B[0mprogress_apply\u001B[0m\u001B[0;34m(\u001B[0m\u001B[0;32mlambda\u001B[0m \u001B[0mx\u001B[0m\u001B[0;34m:\u001B[0m \u001B[0mget_descriptor_in_tuple\u001B[0m\u001B[0;34m(\u001B[0m \u001B[0minit\u001B[0m\u001B[0;34m,\u001B[0m \u001B[0mk\u001B[0m\u001B[0;34m,\u001B[0m \u001B[0mx\u001B[0m\u001B[0;34m,\u001B[0m \u001B[0mtop\u001B[0m \u001B[0;34m)\u001B[0m\u001B[0;34m)\u001B[0m\u001B[0;34m\u001B[0m\u001B[0;34m\u001B[0m\u001B[0m\n\u001B[0m\u001B[1;32m    167\u001B[0m     \u001B[0;31m# save\u001B[0m\u001B[0;34m\u001B[0m\u001B[0;34m\u001B[0m\u001B[0;34m\u001B[0m\u001B[0m\n\u001B[1;32m    168\u001B[0m     \u001B[0mfolder_name\u001B[0m \u001B[0;34m=\u001B[0m \u001B[0minitial_panel\u001B[0m \u001B[0;34m+\u001B[0m \u001B[0;34m'_PANEL_DF'\u001B[0m\u001B[0;34m\u001B[0m\u001B[0;34m\u001B[0m\u001B[0m\n",
      "\u001B[0;32m~/Insync/naixin88@sina.cn/OneDrive/__CODING__/PycharmProjects/GOOGLE_PLAY/scripts/4_natural_language_processing.py\u001B[0m in \u001B[0;36mget_descriptor_in_tuple\u001B[0;34m(init, k, tokenized_app_description, top)\u001B[0m\n\u001B[1;32m    148\u001B[0m     \u001B[0mdescriptors\u001B[0m \u001B[0;34m=\u001B[0m \u001B[0;34m[\u001B[0m\u001B[0;34m]\u001B[0m\u001B[0;34m\u001B[0m\u001B[0;34m\u001B[0m\u001B[0m\n\u001B[1;32m    149\u001B[0m     \u001B[0;32mfor\u001B[0m \u001B[0mtopic_index\u001B[0m \u001B[0;32min\u001B[0m \u001B[0mrange\u001B[0m\u001B[0;34m(\u001B[0m\u001B[0mk\u001B[0m\u001B[0;34m)\u001B[0m\u001B[0;34m:\u001B[0m\u001B[0;34m\u001B[0m\u001B[0;34m\u001B[0m\u001B[0m\n\u001B[0;32m--> 150\u001B[0;31m         \u001B[0md\u001B[0m \u001B[0;34m=\u001B[0m \u001B[0mget_descriptor\u001B[0m\u001B[0;34m(\u001B[0m\u001B[0minit\u001B[0m\u001B[0;34m,\u001B[0m \u001B[0mk\u001B[0m\u001B[0;34m,\u001B[0m \u001B[0mtokenized_app_description\u001B[0m\u001B[0;34m,\u001B[0m \u001B[0mtopic_index\u001B[0m\u001B[0;34m,\u001B[0m \u001B[0mtop\u001B[0m\u001B[0;34m)\u001B[0m\u001B[0;34m\u001B[0m\u001B[0;34m\u001B[0m\u001B[0m\n\u001B[0m\u001B[1;32m    151\u001B[0m         \u001B[0mstr_descriptor\u001B[0m \u001B[0;34m=\u001B[0m \u001B[0;34m\", \"\u001B[0m\u001B[0;34m.\u001B[0m\u001B[0mjoin\u001B[0m\u001B[0;34m(\u001B[0m\u001B[0md\u001B[0m\u001B[0;34m)\u001B[0m\u001B[0;34m\u001B[0m\u001B[0;34m\u001B[0m\u001B[0m\n\u001B[1;32m    152\u001B[0m         \u001B[0mtopic_tuple\u001B[0m \u001B[0;34m=\u001B[0m \u001B[0;34m(\u001B[0m\u001B[0mtopic_index\u001B[0m\u001B[0;34m+\u001B[0m\u001B[0;36m1\u001B[0m\u001B[0;34m,\u001B[0m \u001B[0mstr_descriptor\u001B[0m\u001B[0;34m)\u001B[0m\u001B[0;34m\u001B[0m\u001B[0;34m\u001B[0m\u001B[0m\n",
      "\u001B[0;32m~/Insync/naixin88@sina.cn/OneDrive/__CODING__/PycharmProjects/GOOGLE_PLAY/scripts/4_natural_language_processing.py\u001B[0m in \u001B[0;36mget_descriptor\u001B[0;34m(init, k, tokenized_app_description, topic_index, top)\u001B[0m\n\u001B[1;32m    135\u001B[0m \u001B[0;32mdef\u001B[0m \u001B[0mget_descriptor\u001B[0m\u001B[0;34m(\u001B[0m \u001B[0minit\u001B[0m\u001B[0;34m,\u001B[0m \u001B[0mk\u001B[0m\u001B[0;34m,\u001B[0m \u001B[0mtokenized_app_description\u001B[0m\u001B[0;34m,\u001B[0m \u001B[0mtopic_index\u001B[0m\u001B[0;34m,\u001B[0m \u001B[0mtop\u001B[0m \u001B[0;34m)\u001B[0m\u001B[0;34m:\u001B[0m\u001B[0;34m\u001B[0m\u001B[0;34m\u001B[0m\u001B[0m\n\u001B[1;32m    136\u001B[0m     \u001B[0mC\u001B[0m\u001B[0;34m,\u001B[0m \u001B[0mterms\u001B[0m \u001B[0;34m=\u001B[0m \u001B[0mtfi_vectorizer_for_an_app_description\u001B[0m\u001B[0;34m(\u001B[0m\u001B[0mtokenized_app_description\u001B[0m\u001B[0;34m)\u001B[0m\u001B[0;34m\u001B[0m\u001B[0;34m\u001B[0m\u001B[0m\n\u001B[0;32m--> 137\u001B[0;31m     \u001B[0mW\u001B[0m\u001B[0;34m,\u001B[0m \u001B[0mH\u001B[0m \u001B[0;34m=\u001B[0m \u001B[0mcreate_model\u001B[0m\u001B[0;34m(\u001B[0m\u001B[0minit\u001B[0m\u001B[0;34m,\u001B[0m \u001B[0mk\u001B[0m\u001B[0;34m,\u001B[0m \u001B[0mtokenized_app_description\u001B[0m\u001B[0;34m)\u001B[0m\u001B[0;34m\u001B[0m\u001B[0;34m\u001B[0m\u001B[0m\n\u001B[0m\u001B[1;32m    138\u001B[0m     \u001B[0;31m# reverse sort the values to sort the indices\u001B[0m\u001B[0;34m\u001B[0m\u001B[0;34m\u001B[0m\u001B[0;34m\u001B[0m\u001B[0m\n\u001B[1;32m    139\u001B[0m     \u001B[0mtop_indices\u001B[0m \u001B[0;34m=\u001B[0m \u001B[0mnp\u001B[0m\u001B[0;34m.\u001B[0m\u001B[0margsort\u001B[0m\u001B[0;34m(\u001B[0m \u001B[0mH\u001B[0m\u001B[0;34m[\u001B[0m\u001B[0mtopic_index\u001B[0m\u001B[0;34m,\u001B[0m\u001B[0;34m:\u001B[0m\u001B[0;34m]\u001B[0m \u001B[0;34m)\u001B[0m\u001B[0;34m[\u001B[0m\u001B[0;34m:\u001B[0m\u001B[0;34m:\u001B[0m\u001B[0;34m-\u001B[0m\u001B[0;36m1\u001B[0m\u001B[0;34m]\u001B[0m\u001B[0;34m\u001B[0m\u001B[0;34m\u001B[0m\u001B[0m\n",
      "\u001B[0;32m~/Insync/naixin88@sina.cn/OneDrive/__CODING__/PycharmProjects/GOOGLE_PLAY/scripts/4_natural_language_processing.py\u001B[0m in \u001B[0;36mcreate_model\u001B[0;34m(init, k, tokenized_app_description)\u001B[0m\n\u001B[1;32m    125\u001B[0m     \u001B[0mc\u001B[0m\u001B[0;34m,\u001B[0m \u001B[0mterms\u001B[0m \u001B[0;34m=\u001B[0m \u001B[0mtfi_vectorizer_for_an_app_description\u001B[0m\u001B[0;34m(\u001B[0m\u001B[0mtokenized_app_description\u001B[0m\u001B[0;34m)\u001B[0m\u001B[0;34m\u001B[0m\u001B[0;34m\u001B[0m\u001B[0m\n\u001B[1;32m    126\u001B[0m     \u001B[0;31m# apply the model and extract the two factor matrices\u001B[0m\u001B[0;34m\u001B[0m\u001B[0;34m\u001B[0m\u001B[0;34m\u001B[0m\u001B[0m\n\u001B[0;32m--> 127\u001B[0;31m     \u001B[0mW\u001B[0m \u001B[0;34m=\u001B[0m \u001B[0mmodel\u001B[0m\u001B[0;34m.\u001B[0m\u001B[0mfit_transform\u001B[0m\u001B[0;34m(\u001B[0m\u001B[0mc\u001B[0m\u001B[0;34m)\u001B[0m\u001B[0;34m\u001B[0m\u001B[0;34m\u001B[0m\u001B[0m\n\u001B[0m\u001B[1;32m    128\u001B[0m     \u001B[0mH\u001B[0m \u001B[0;34m=\u001B[0m \u001B[0mmodel\u001B[0m\u001B[0;34m.\u001B[0m\u001B[0mcomponents_\u001B[0m\u001B[0;34m\u001B[0m\u001B[0;34m\u001B[0m\u001B[0m\n\u001B[1;32m    129\u001B[0m     \u001B[0;32mreturn\u001B[0m \u001B[0mW\u001B[0m\u001B[0;34m,\u001B[0m \u001B[0mH\u001B[0m\u001B[0;34m\u001B[0m\u001B[0;34m\u001B[0m\u001B[0m\n",
      "\u001B[0;32m~/anaconda3/envs/GOOGLE_PLAY/lib/python3.8/site-packages/sklearn/decomposition/_nmf.py\u001B[0m in \u001B[0;36mfit_transform\u001B[0;34m(self, X, y, W, H)\u001B[0m\n\u001B[1;32m   1281\u001B[0m                                 dtype=[np.float64, np.float32])\n\u001B[1;32m   1282\u001B[0m \u001B[0;34m\u001B[0m\u001B[0m\n\u001B[0;32m-> 1283\u001B[0;31m         W, H, n_iter_ = non_negative_factorization(\n\u001B[0m\u001B[1;32m   1284\u001B[0m             \u001B[0mX\u001B[0m\u001B[0;34m=\u001B[0m\u001B[0mX\u001B[0m\u001B[0;34m,\u001B[0m \u001B[0mW\u001B[0m\u001B[0;34m=\u001B[0m\u001B[0mW\u001B[0m\u001B[0;34m,\u001B[0m \u001B[0mH\u001B[0m\u001B[0;34m=\u001B[0m\u001B[0mH\u001B[0m\u001B[0;34m,\u001B[0m \u001B[0mn_components\u001B[0m\u001B[0;34m=\u001B[0m\u001B[0mself\u001B[0m\u001B[0;34m.\u001B[0m\u001B[0mn_components\u001B[0m\u001B[0;34m,\u001B[0m \u001B[0minit\u001B[0m\u001B[0;34m=\u001B[0m\u001B[0mself\u001B[0m\u001B[0;34m.\u001B[0m\u001B[0minit\u001B[0m\u001B[0;34m,\u001B[0m\u001B[0;34m\u001B[0m\u001B[0;34m\u001B[0m\u001B[0m\n\u001B[1;32m   1285\u001B[0m             \u001B[0mupdate_H\u001B[0m\u001B[0;34m=\u001B[0m\u001B[0;32mTrue\u001B[0m\u001B[0;34m,\u001B[0m \u001B[0msolver\u001B[0m\u001B[0;34m=\u001B[0m\u001B[0mself\u001B[0m\u001B[0;34m.\u001B[0m\u001B[0msolver\u001B[0m\u001B[0;34m,\u001B[0m \u001B[0mbeta_loss\u001B[0m\u001B[0;34m=\u001B[0m\u001B[0mself\u001B[0m\u001B[0;34m.\u001B[0m\u001B[0mbeta_loss\u001B[0m\u001B[0;34m,\u001B[0m\u001B[0;34m\u001B[0m\u001B[0;34m\u001B[0m\u001B[0m\n",
      "\u001B[0;32m~/anaconda3/envs/GOOGLE_PLAY/lib/python3.8/site-packages/sklearn/utils/validation.py\u001B[0m in \u001B[0;36minner_f\u001B[0;34m(*args, **kwargs)\u001B[0m\n\u001B[1;32m     70\u001B[0m                           FutureWarning)\n\u001B[1;32m     71\u001B[0m         \u001B[0mkwargs\u001B[0m\u001B[0;34m.\u001B[0m\u001B[0mupdate\u001B[0m\u001B[0;34m(\u001B[0m\u001B[0;34m{\u001B[0m\u001B[0mk\u001B[0m\u001B[0;34m:\u001B[0m \u001B[0marg\u001B[0m \u001B[0;32mfor\u001B[0m \u001B[0mk\u001B[0m\u001B[0;34m,\u001B[0m \u001B[0marg\u001B[0m \u001B[0;32min\u001B[0m \u001B[0mzip\u001B[0m\u001B[0;34m(\u001B[0m\u001B[0msig\u001B[0m\u001B[0;34m.\u001B[0m\u001B[0mparameters\u001B[0m\u001B[0;34m,\u001B[0m \u001B[0margs\u001B[0m\u001B[0;34m)\u001B[0m\u001B[0;34m}\u001B[0m\u001B[0;34m)\u001B[0m\u001B[0;34m\u001B[0m\u001B[0;34m\u001B[0m\u001B[0m\n\u001B[0;32m---> 72\u001B[0;31m         \u001B[0;32mreturn\u001B[0m \u001B[0mf\u001B[0m\u001B[0;34m(\u001B[0m\u001B[0;34m**\u001B[0m\u001B[0mkwargs\u001B[0m\u001B[0;34m)\u001B[0m\u001B[0;34m\u001B[0m\u001B[0;34m\u001B[0m\u001B[0m\n\u001B[0m\u001B[1;32m     73\u001B[0m     \u001B[0;32mreturn\u001B[0m \u001B[0minner_f\u001B[0m\u001B[0;34m\u001B[0m\u001B[0;34m\u001B[0m\u001B[0m\n\u001B[1;32m     74\u001B[0m \u001B[0;34m\u001B[0m\u001B[0m\n",
      "\u001B[0;32m~/anaconda3/envs/GOOGLE_PLAY/lib/python3.8/site-packages/sklearn/decomposition/_nmf.py\u001B[0m in \u001B[0;36mnon_negative_factorization\u001B[0;34m(X, W, H, n_components, init, update_H, solver, beta_loss, tol, max_iter, alpha, l1_ratio, regularization, random_state, verbose, shuffle)\u001B[0m\n\u001B[1;32m   1050\u001B[0m             \u001B[0mW\u001B[0m \u001B[0;34m=\u001B[0m \u001B[0mnp\u001B[0m\u001B[0;34m.\u001B[0m\u001B[0mzeros\u001B[0m\u001B[0;34m(\u001B[0m\u001B[0;34m(\u001B[0m\u001B[0mn_samples\u001B[0m\u001B[0;34m,\u001B[0m \u001B[0mn_components\u001B[0m\u001B[0;34m)\u001B[0m\u001B[0;34m,\u001B[0m \u001B[0mdtype\u001B[0m\u001B[0;34m=\u001B[0m\u001B[0mX\u001B[0m\u001B[0;34m.\u001B[0m\u001B[0mdtype\u001B[0m\u001B[0;34m)\u001B[0m\u001B[0;34m\u001B[0m\u001B[0;34m\u001B[0m\u001B[0m\n\u001B[1;32m   1051\u001B[0m     \u001B[0;32melse\u001B[0m\u001B[0;34m:\u001B[0m\u001B[0;34m\u001B[0m\u001B[0;34m\u001B[0m\u001B[0m\n\u001B[0;32m-> 1052\u001B[0;31m         W, H = _initialize_nmf(X, n_components, init=init,\n\u001B[0m\u001B[1;32m   1053\u001B[0m                                random_state=random_state)\n\u001B[1;32m   1054\u001B[0m \u001B[0;34m\u001B[0m\u001B[0m\n",
      "\u001B[0;32m~/anaconda3/envs/GOOGLE_PLAY/lib/python3.8/site-packages/sklearn/decomposition/_nmf.py\u001B[0m in \u001B[0;36m_initialize_nmf\u001B[0;34m(X, n_components, init, eps, random_state)\u001B[0m\n\u001B[1;32m    313\u001B[0m     if (init is not None and init != 'random'\n\u001B[1;32m    314\u001B[0m             and n_components > min(n_samples, n_features)):\n\u001B[0;32m--> 315\u001B[0;31m         raise ValueError(\"init = '{}' can only be used when \"\n\u001B[0m\u001B[1;32m    316\u001B[0m                          \u001B[0;34m\"n_components <= min(n_samples, n_features)\"\u001B[0m\u001B[0;34m\u001B[0m\u001B[0;34m\u001B[0m\u001B[0m\n\u001B[1;32m    317\u001B[0m                          .format(init))\n",
      "\u001B[0;31mValueError\u001B[0m: init = 'nndsvd' can only be used when n_components <= min(n_samples, n_features)"
     ]
    }
   ],
   "source": [
    "%run -i '4_natural_language_processing.py'\n",
    "initial_panel = '201908'\n",
    "panels_have_text = ['201912', '202001', '202003', '202004', '202009', '202010', '202011']\n",
    "# number of topics per description is k\n",
    "k = 3\n",
    "# number of descriptor per topic is top\n",
    "top = 2\n",
    "# init is the initialization method\n",
    "init = \"nndsvd\"\n",
    "S = get_descriptor_for_each_row( initial_panel, panels_have_text, init, k, top, sample = 101 )\n",
    "S.loc[:, ['description_202011', 'description_topics_202011']]"
   ],
   "metadata": {
    "collapsed": false,
    "pycharm": {
     "name": "#%%\n"
    }
   }
  },
  {
   "cell_type": "code",
   "execution_count": null,
   "outputs": [],
   "source": [],
   "metadata": {
    "collapsed": false,
    "pycharm": {
     "name": "#%%\n"
    }
   }
  }
 ],
 "metadata": {
  "kernelspec": {
   "name": "python3",
   "language": "python",
   "display_name": "Python 3"
  },
  "language_info": {
   "codemirror_mode": {
    "name": "ipython",
    "version": 2
   },
   "file_extension": ".py",
   "mimetype": "text/x-python",
   "name": "python",
   "nbconvert_exporter": "python",
   "pygments_lexer": "ipython2",
   "version": "3.7.3-final"
  },
  "pycharm": {
   "stem_cell": {
    "cell_type": "raw",
    "source": [
     "Date: 2020 Oct 20 Tuesday\n",
     "\n",
     "I will use a variable defining whether an app is a niche product as my independent variable; my dependent variable is\n",
     "pricing (refer to variable construction in When Private Information Settles the Bill: Money and Privacy in\n",
     "Google’s Market for Smartphone Applications, Michael Kummer and Patrick Schulte\n",
     "\n",
     "1. dummy showing paid or free \n",
     "2. natural log of price\n",
     "\n",
     "The definition of niche products are products are aimed at similar functions. Those\n",
     "apps with similar purposes (the broad group would be pre-defined genreId, the niche definition would be\n",
     "products within the same category)\n",
     "\n",
     "To differentiate between an all-purpose product and a niche product, we would first classify the apps into many small\n",
     "categories (using natural language process on the description and titles). The none-niche product would be classified into\n",
     "many categories because it encompass many functions. On the other hand, the niche products will only be grouped\n",
     "into a single niche category."
    ],
    "metadata": {
     "collapsed": false
    }
   }
  }
 },
 "nbformat": 4,
 "nbformat_minor": 0
}