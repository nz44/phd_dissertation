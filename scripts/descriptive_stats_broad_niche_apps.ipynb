{
 "cells": [
  {
   "cell_type": "markdown",
   "metadata": {
    "collapsed": true,
    "pycharm": {
     "name": "#%% md\n"
    }
   },
   "source": [
    "23 Dec 2020\n",
    "this document directly follows 'try different clustering algorithms.ipynb'\n",
    "# look at pricing of broad apps and niche apps"
   ]
  },
  {
   "cell_type": "code",
   "execution_count": 29,
   "outputs": [
    {
     "data": {
      "text/plain": "HBox(children=(HTML(value=''), FloatProgress(value=1.0, bar_style='info', layout=Layout(width='20px'), max=1.0…",
      "application/vnd.jupyter.widget-view+json": {
       "version_major": 2,
       "version_minor": 0,
       "model_id": "dd300d6b1b2240d3bf216b10071e7eef"
      }
     },
     "metadata": {},
     "output_type": "display_data"
    },
    {
     "name": "stdout",
     "output_type": "stream",
     "text": [
      "\n",
      "['price_202011', 'free_True_202011', 'offersIAP_True_202011', 'IAP_low_202011', 'IAP_high_202011', 'inAppProductPrice_202011', 'adSupported_True_202011', 'containsAds_True_202011']\n"
     ]
    },
    {
     "data": {
      "text/plain": "                   price_202011  free_True_202011  offersIAP_True_202011  \\\ncom.mrblue.mrblue           0.0                 1                      1   \nes.inmovens.badi            0.0                 1                      0   \n\n                   adSupported_True_202011  containsAds_True_202011  \\\ncom.mrblue.mrblue                        0                        0   \nes.inmovens.badi                         0                        0   \n\n                                                                                                                                                                                                                                                                                                                                                                                                                                                                                                           combined_panels_description  \\\ncom.mrblue.mrblue  [.\\n, 12, .\\n, 1, \\n, 100, \\n, 70, \\n, 70, .\\n, \\n, bl, sf, .\\n, 12, \\n, .\\n, 1, 12, 1, .\\n, .\\n, \\n, .\\n, \\n-, glen, mas, kr, detain, \\n, \\n, event.\\n, .\\n-, .\\n, \\n, .\\n, .\\n, \\n, 16, \\n, .\\n, 4, .\\n, \\n-, .\\n-, .\\n-, .\\n, \\n, .\\n, .\\n, .\\n-, good, .\\n-, good, 5, .\\n, bl, \\n, bl, bl, .\\nbl, bl, bl, .\\n-, bl, best, .\\n-, bl, best, zig, napul, .\\n, 58, \\n, .\\n-, \\n-, \\n-, \\n, .\\n, sns\\n-, \\n-, 080, 333, 3370, 09:30~18:30, \\n-, webmaster, \\n, \\n-, .\\n, \\n-, 1:1, .\\n-, .\\n----\\n, \\n\\n, 080, 33...   \nes.inmovens.badi   [desperately, seek, new, roommate, look, room, rent, badi, make, easy, find, perfect, room, compatible, roommate, app, 100, free, use, come, advanced, feature, ensure, great, user, experience, badi, simple, fast, list, room, find, room, \\nbadi, allow, potential, roommate, match, touch, directly, integrated, chat, intermediary, direct, simple, way, rent, find, room, major, city, include, london, barcelona, rome, madrid, paris, more.\\nthe, book, feature, ensure, hassle, free, transaction, badi...   \n\n                   k-means  \ncom.mrblue.mrblue      120  \nes.inmovens.badi        47  ",
      "text/html": "<div>\n<style scoped>\n    .dataframe tbody tr th:only-of-type {\n        vertical-align: middle;\n    }\n\n    .dataframe tbody tr th {\n        vertical-align: top;\n    }\n\n    .dataframe thead th {\n        text-align: right;\n    }\n</style>\n<table border=\"1\" class=\"dataframe\">\n  <thead>\n    <tr style=\"text-align: right;\">\n      <th></th>\n      <th>price_202011</th>\n      <th>free_True_202011</th>\n      <th>offersIAP_True_202011</th>\n      <th>adSupported_True_202011</th>\n      <th>containsAds_True_202011</th>\n      <th>combined_panels_description</th>\n      <th>k-means</th>\n    </tr>\n  </thead>\n  <tbody>\n    <tr>\n      <th>com.mrblue.mrblue</th>\n      <td>0.0</td>\n      <td>1</td>\n      <td>1</td>\n      <td>0</td>\n      <td>0</td>\n      <td>[.\\n, 12, .\\n, 1, \\n, 100, \\n, 70, \\n, 70, .\\n, \\n, bl, sf, .\\n, 12, \\n, .\\n, 1, 12, 1, .\\n, .\\n, \\n, .\\n, \\n-, glen, mas, kr, detain, \\n, \\n, event.\\n, .\\n-, .\\n, \\n, .\\n, .\\n, \\n, 16, \\n, .\\n, 4, .\\n, \\n-, .\\n-, .\\n-, .\\n, \\n, .\\n, .\\n, .\\n-, good, .\\n-, good, 5, .\\n, bl, \\n, bl, bl, .\\nbl, bl, bl, .\\n-, bl, best, .\\n-, bl, best, zig, napul, .\\n, 58, \\n, .\\n-, \\n-, \\n-, \\n, .\\n, sns\\n-, \\n-, 080, 333, 3370, 09:30~18:30, \\n-, webmaster, \\n, \\n-, .\\n, \\n-, 1:1, .\\n-, .\\n----\\n, \\n\\n, 080, 33...</td>\n      <td>120</td>\n    </tr>\n    <tr>\n      <th>es.inmovens.badi</th>\n      <td>0.0</td>\n      <td>1</td>\n      <td>0</td>\n      <td>0</td>\n      <td>0</td>\n      <td>[desperately, seek, new, roommate, look, room, rent, badi, make, easy, find, perfect, room, compatible, roommate, app, 100, free, use, come, advanced, feature, ensure, great, user, experience, badi, simple, fast, list, room, find, room, \\nbadi, allow, potential, roommate, match, touch, directly, integrated, chat, intermediary, direct, simple, way, rent, find, room, major, city, include, london, barcelona, rome, madrid, paris, more.\\nthe, book, feature, ensure, hassle, free, transaction, badi...</td>\n      <td>47</td>\n    </tr>\n  </tbody>\n</table>\n</div>"
     },
     "execution_count": 29,
     "metadata": {},
     "output_type": "execute_result"
    }
   ],
   "source": [
    "%matplotlib inline\n",
    "%run -i '0_paths.py'\n",
    "%run -i '5_descriptive_stats_prices.py'\n",
    "\n",
    "o = open_or_save_files(initial_panel='201908', cluster_type='k-means')\n",
    "df1 = o.open_merged_df()\n",
    "df2 = o.open_cluster_df()\n",
    "col_names = Column_Names(panels=['202011'])\n",
    "price_cols = col_names.get_price_cols_names()\n",
    "print(price_cols)\n",
    "df = merge_dataframe(df_all=df1, df_all_cols=price_cols,\n",
    "                     df_t=df2, df_t_cols=['combined_panels_description', 'k-means'])\n",
    "df.sample(2)"
   ],
   "metadata": {
    "collapsed": false,
    "pycharm": {
     "name": "#%%\n"
    }
   }
  },
  {
   "cell_type": "code",
   "execution_count": 34,
   "outputs": [
    {
     "data": {
      "text/plain": "HBox(children=(HTML(value=''), FloatProgress(value=1.0, bar_style='info', layout=Layout(width='20px'), max=1.0…",
      "application/vnd.jupyter.widget-view+json": {
       "version_major": 2,
       "version_minor": 0,
       "model_id": "49db424eaa19404f9681d373ac4879ac"
      }
     },
     "metadata": {},
     "output_type": "display_data"
    },
    {
     "name": "stdout",
     "output_type": "stream",
     "text": [
      "\n"
     ]
    }
   ],
   "source": [
    "%run -i '5_descriptive_stats_prices.py'\n",
    "A = Dataframe_Analysis(df=df, group1='free_True_202011', group2='k-means')\n",
    "B = A.cross_tab()"
   ],
   "metadata": {
    "collapsed": false,
    "pycharm": {
     "name": "#%%\n"
    }
   }
  },
  {
   "cell_type": "markdown",
   "source": [
    "24 Dec 2020\n",
    "\n",
    "looks like niche apps (arbitrarily define as total number of apps inside a cluster which is smaller than 200)\n",
    "usually have a higher percentage of paid apps.\n",
    "Next I will go into theory in none-uniform distribution.\n",
    "\n"
   ],
   "metadata": {
    "collapsed": false,
    "pycharm": {
     "name": "#%% md\n"
    }
   }
  }
 ],
 "metadata": {
  "kernelspec": {
   "display_name": "Python 3",
   "language": "python",
   "name": "python3"
  },
  "language_info": {
   "codemirror_mode": {
    "name": "ipython",
    "version": 2
   },
   "file_extension": ".py",
   "mimetype": "text/x-python",
   "name": "python",
   "nbconvert_exporter": "python",
   "pygments_lexer": "ipython2",
   "version": "2.7.6"
  }
 },
 "nbformat": 4,
 "nbformat_minor": 0
}