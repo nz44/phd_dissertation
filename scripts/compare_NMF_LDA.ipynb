{
 "cells": [
  {
   "cell_type": "markdown",
   "metadata": {
    "collapsed": true,
    "pycharm": {
     "name": "#%% md\n"
    }
   },
   "source": [
    "# compare NMF and LDA models in topic modeling\n",
    "https://medium.com/ml2vec/topic-modeling-is-an-unsupervised-learning-approach-to-clustering-documents-to-discover-topics-fdfbf30e27df"
   ]
  },
  {
   "cell_type": "markdown",
   "source": [
    "## 1. open a testing document (tokenized)\n",
    "I have given up building a topic model for all apps descriptions (across all panels) because\n",
    "this is too large. I will generate topic model for each app (with all panels combined), and\n",
    "use k-means to classify each app's broad/niche-ness."
   ],
   "metadata": {
    "collapsed": false,
    "pycharm": {
     "name": "#%% md\n"
    }
   }
  },
  {
   "cell_type": "code",
   "execution_count": 1,
   "outputs": [
    {
     "data": {
      "text/plain": "HBox(children=(HTML(value=''), FloatProgress(value=1.0, bar_style='info', layout=Layout(width='20px'), max=1.0…",
      "application/vnd.jupyter.widget-view+json": {
       "version_major": 2,
       "version_minor": 0,
       "model_id": "6e323c6719bd4ab4840ba2df0065c2d5"
      }
     },
     "metadata": {},
     "output_type": "display_data"
    },
    {
     "name": "stdout",
     "output_type": "stream",
     "text": [
      "\n",
      "1566\n",
      "228\n",
      "228\n",
      "222\n",
      "222\n",
      "222\n",
      "222\n",
      "222\n"
     ]
    },
    {
     "data": {
      "text/plain": "['want',\n 'head',\n 'chef',\n 'sushi',\n 'restaurant',\n 'check',\n 'toca',\n 'kitchen',\n 'sushi',\n 'new',\n 'app',\n 'toca',\n 'boca',\n 'want',\n 'play',\n 'food',\n 'toca',\n 'boca',\n 'bring',\n 'toca',\n 'kitchen',\n 'cook',\n 'play',\n 'prepare',\n 'food',\n 'hungry',\n 'character',\n 'pick',\n 'ingredient',\n 'prepare',\n 'way',\n 'slice',\n 'boil',\n 'fry',\n 'cook',\n 'microwave',\n 'mix',\n 'wait',\n 'hungry',\n 'friend',\n 'response.\\\\nwe',\n 'create',\n 'educational',\n 'app',\n 'kid',\n 'mud',\n 'cake',\n 'new',\n 'face',\n 'complete',\n 'virtual',\n 'makeover',\n 'kid',\n 'love',\n 'character',\n 'fearful',\n 'reaction',\n 'different',\n 'meal',\n 'giggle',\n 'cat',\n 'like',\n 'salty',\n 'fish',\n 'boy',\n 'eat',\n 'potato',\n 'green',\n 'mix',\n 'match',\n 'meal',\n 'high',\n 'score',\n 'level',\n 'time',\n 'limit',\n 'fun',\n 'not',\n 'end',\n 'cooking',\n 'app.\\\\n-',\n 'cute',\n 'character',\n 'cook',\n 'favorite',\n 'food',\n '\\\\n-',\n '12',\n 'different',\n 'ingredient',\n 'prepare',\n '180',\n 'different',\n 'way',\n '\\\\n-',\n 'slice',\n 'boil',\n 'fry',\n 'cook',\n 'microwave',\n 'like',\n '\\\\n-',\n 'professional',\n 'fun',\n 'kid',\n 'app',\n 'design',\n '\\\\n-',\n 'rule',\n 'high',\n 'score',\n '\\\\n-',\n 'kid',\n 'friendly',\n 'interface\\\\n-',\n 'app',\n 'purchases\\\\n-',\n 'party',\n 'advertising\\\\nwhat',\n 'wait',\n 'let',\n 'kitchen',\n 'start',\n 'cook',\n '\\\\ntoca',\n 'kitchen',\n 'free',\n 'cooking',\n 'app',\n 'kid',\n 's',\n 'perfect',\n 'aspire',\n 'chef',\n 'kid',\n 'roleplay',\n 'chef',\n 'kitchen',\n 'explore',\n 'way',\n 'cook',\n 'tasty',\n 'silly',\n 'food',\n 'hungry',\n 'customer',\n 'eat',\n 'fun',\n 'cooking',\n 'app',\n 'sure',\n 'deliver',\n 'creativity',\n 'imagination',\n 'kid',\n '\\\\nas',\n 'toca',\n 'boca',\n 'app',\n 'high',\n 'score',\n 'time',\n 'limit',\n 'stressful',\n 'music',\n 'rest',\n 'assure',\n 'app',\n 'kid',\n 'let',\n 'kid',\n 'play',\n 'want',\n '\\\\n',\n '\\\\nabout',\n 'toca',\n 'boca\\\\nat',\n 'toca',\n 'boca',\n 'believe',\n 'power',\n 'play',\n 'spark',\n 'kid',\n 'imagination',\n 'help',\n 'learn',\n 'world',\n 'design',\n 'product',\n 'kid',\n 'perspective',\n 'empower',\n 'kid',\n 'playful',\n 'creative',\n 'want',\n 'product',\n 'include',\n 'award',\n 'win',\n 'app',\n 'download',\n '130',\n 'million',\n 'time',\n '215',\n 'country',\n 'offer',\n 'fun',\n 'safe',\n 'open',\n 'ended',\n 'play',\n 'experience',\n 'learn',\n 'toca',\n 'boca',\n 'product',\n 'policy\\\\nprivacy',\n 'issue',\n 'seriously',\n 'learn',\n 'work',\n 'matter',\n 'read',\n 'privacy',\n 'policy',\n 'want',\n 'head',\n 'chef',\n 'sushi',\n 'restaurant',\n 'check',\n 'toca',\n 'kitchen',\n 'sushi',\n 'new',\n 'app',\n 'toca',\n 'boca',\n 'want',\n 'play',\n 'food',\n 'toca',\n 'boca',\n 'bring',\n 'toca',\n 'kitchen',\n 'cook',\n 'play',\n 'prepare',\n 'food',\n 'hungry',\n 'character',\n 'pick',\n 'ingredient',\n 'prepare',\n 'way',\n 'slice',\n 'boil',\n 'fry',\n 'cook',\n 'microwave',\n 'mix',\n 'wait',\n 'hungry',\n 'friend',\n 'response.\\\\nwe',\n 'create',\n 'educational',\n 'app',\n 'kid',\n 'mud',\n 'cake',\n 'new',\n 'face',\n 'complete',\n 'virtual',\n 'makeover',\n 'kid',\n 'love',\n 'character',\n 'fearful',\n 'reaction',\n 'different',\n 'meal',\n 'giggle',\n 'cat',\n 'like',\n 'salty',\n 'fish',\n 'boy',\n 'eat',\n 'potato',\n 'green',\n 'mix',\n 'match',\n 'meal',\n 'high',\n 'score',\n 'level',\n 'time',\n 'limit',\n 'fun',\n 'not',\n 'end',\n 'cooking',\n 'app.\\\\n-',\n 'cute',\n 'character',\n 'cook',\n 'favorite',\n 'food',\n '\\\\n-',\n '12',\n 'different',\n 'ingredient',\n 'prepare',\n '180',\n 'different',\n 'way',\n '\\\\n-',\n 'slice',\n 'boil',\n 'fry',\n 'cook',\n 'microwave',\n 'like',\n '\\\\n-',\n 'professional',\n 'fun',\n 'kid',\n 'app',\n 'design',\n '\\\\n-',\n 'rule',\n 'high',\n 'score',\n '\\\\n-',\n 'kid',\n 'friendly',\n 'interface\\\\n-',\n 'app',\n 'purchases\\\\n-',\n 'party',\n 'advertising\\\\nwhat',\n 'wait',\n 'let',\n 'kitchen',\n 'start',\n 'cook',\n '\\\\ntoca',\n 'kitchen',\n 'free',\n 'cooking',\n 'app',\n 'kid',\n 's',\n 'perfect',\n 'aspire',\n 'chef',\n 'kid',\n 'roleplay',\n 'chef',\n 'kitchen',\n 'explore',\n 'way',\n 'cook',\n 'tasty',\n 'silly',\n 'food',\n 'hungry',\n 'customer',\n 'eat',\n 'fun',\n 'cooking',\n 'app',\n 'sure',\n 'deliver',\n 'creativity',\n 'imagination',\n 'kid',\n '\\\\nas',\n 'toca',\n 'boca',\n 'app',\n 'high',\n 'score',\n 'time',\n 'limit',\n 'stressful',\n 'music',\n 'rest',\n 'assure',\n 'app',\n 'kid',\n 'let',\n 'kid',\n 'play',\n 'want',\n '\\\\n',\n '\\\\nabout',\n 'toca',\n 'boca\\\\nat',\n 'toca',\n 'boca',\n 'believe',\n 'power',\n 'play',\n 'spark',\n 'kid',\n 'imagination',\n 'help',\n 'learn',\n 'world',\n 'design',\n 'product',\n 'kid',\n 'perspective',\n 'empower',\n 'kid',\n 'playful',\n 'creative',\n 'want',\n 'product',\n 'include',\n 'award',\n 'win',\n 'app',\n 'download',\n '130',\n 'million',\n 'time',\n '215',\n 'country',\n 'offer',\n 'fun',\n 'safe',\n 'open',\n 'ended',\n 'play',\n 'experience',\n 'learn',\n 'toca',\n 'boca',\n 'product',\n 'policy\\\\nprivacy',\n 'issue',\n 'seriously',\n 'learn',\n 'work',\n 'matter',\n 'read',\n 'privacy',\n 'policy',\n 'want',\n 'head',\n 'chef',\n 'sushi',\n 'restaurant',\n 'check',\n 'toca',\n 'kitchen',\n 'sushi',\n 'new',\n 'app',\n 'toca',\n 'boca',\n 'want',\n 'play',\n 'food',\n 'toca',\n 'boca',\n 'bring',\n 'toca',\n 'kitchen',\n 'cook',\n 'play',\n 'prepare',\n 'food',\n 'hungry',\n 'character',\n 'pick',\n 'ingredient',\n 'prepare',\n 'way',\n 'slice',\n 'boil',\n 'fry',\n 'cook',\n 'microwave',\n 'mix',\n 'wait',\n 'hungry',\n 'friend',\n 'response',\n 'create',\n 'educational',\n 'app',\n 'kid',\n 'mud',\n 'cake',\n 'new',\n 'face',\n 'complete',\n 'virtual',\n 'makeover',\n 'kid',\n 'love',\n 'character',\n 'fearful',\n 'reaction',\n 'different',\n 'meal',\n 'giggle',\n 'cat',\n 'like',\n 'salty',\n 'fish',\n 'boy',\n 'eat',\n 'potato',\n 'green',\n 'mix',\n 'match',\n 'meal',\n 'high',\n 'score',\n 'level',\n 'time',\n 'limit',\n 'fun',\n 'not',\n 'end',\n 'cook',\n 'app',\n 'cute',\n 'character',\n 'cook',\n 'favorite',\n 'food',\n '12',\n 'different',\n 'ingredient',\n 'prepare',\n '180',\n 'different',\n 'way',\n 'slice',\n 'boil',\n 'fry',\n 'cook',\n 'microwave',\n 'like',\n 'professional',\n 'fun',\n 'kid',\n 'app',\n 'design',\n 'rule',\n 'high',\n 'score',\n 'kid',\n 'friendly',\n 'interface',\n 'app',\n 'purchase',\n 'party',\n 'advertising',\n 'wait',\n 'let',\n 'kitchen',\n 'start',\n 'cook',\n 'toca',\n 'kitchen',\n 'free',\n 'cooking',\n 'app',\n 'kid',\n 's',\n 'perfect',\n 'aspire',\n 'chef',\n 'kid',\n 'roleplay',\n 'chef',\n 'kitchen',\n 'explore',\n 'way',\n 'cook',\n 'tasty',\n 'silly',\n 'food',\n 'hungry',\n 'customer',\n 'eat',\n 'fun',\n 'cooking',\n 'app',\n 'sure',\n 'deliver',\n 'creativity',\n 'imagination',\n 'kid',\n 'toca',\n 'boca',\n 'app',\n 'high',\n 'score',\n 'time',\n 'limit',\n 'stressful',\n 'music',\n 'rest',\n 'assure',\n 'app',\n 'kid',\n 'let',\n 'kid',\n 'play',\n 'want',\n 'toca',\n 'boca',\n 'toca',\n 'boca',\n 'believe',\n 'power',\n 'play',\n 'spark',\n 'kid',\n 'imagination',\n 'help',\n 'learn',\n 'world',\n 'design',\n 'product',\n 'kid',\n 'perspective',\n 'empower',\n 'kid',\n 'playful',\n 'creative',\n 'want',\n 'product',\n 'include',\n 'award',\n 'win',\n 'app',\n 'download',\n '130',\n 'million',\n 'time',\n '215',\n 'country',\n 'offer',\n 'fun',\n 'safe',\n 'open',\n 'ended',\n 'play',\n 'experience',\n 'learn',\n 'toca',\n 'boca',\n 'product',\n 'privacy',\n 'policy',\n 'privacy',\n 'issue',\n 'seriously',\n 'learn',\n 'work',\n 'matter',\n 'read',\n 'privacy',\n 'policy',\n 'want',\n 'head',\n 'chef',\n 'sushi',\n 'restaurant',\n 'check',\n 'toca',\n 'kitchen',\n 'sushi',\n 'new',\n 'app',\n 'toca',\n 'boca',\n 'want',\n 'play',\n 'food',\n 'toca',\n 'boca',\n 'bring',\n 'toca',\n 'kitchen',\n 'cook',\n 'play',\n 'prepare',\n 'food',\n 'hungry',\n 'character',\n 'pick',\n 'ingredient',\n 'prepare',\n 'way',\n 'slice',\n 'boil',\n 'fry',\n 'cook',\n 'microwave',\n 'mix',\n 'wait',\n 'hungry',\n 'friend',\n 'response',\n 'create',\n 'educational',\n 'app',\n 'kid',\n 'mud',\n 'cake',\n 'new',\n 'face',\n 'complete',\n 'virtual',\n 'makeover',\n 'kid',\n 'love',\n 'character',\n 'fearful',\n 'reaction',\n 'different',\n 'meal',\n 'giggle',\n 'cat',\n 'like',\n 'salty',\n 'fish',\n 'boy',\n 'eat',\n 'potato',\n 'green',\n 'mix',\n 'match',\n 'meal',\n 'high',\n 'score',\n 'level',\n 'time',\n 'limit',\n 'fun',\n 'not',\n 'end',\n 'cook',\n 'app',\n 'cute',\n 'character',\n 'cook',\n 'favorite',\n 'food',\n '12',\n 'different',\n 'ingredient',\n 'prepare',\n '180',\n 'different',\n 'way',\n 'slice',\n 'boil',\n 'fry',\n 'cook',\n 'microwave',\n 'like',\n 'professional',\n 'fun',\n 'kid',\n 'app',\n 'design',\n 'rule',\n 'high',\n 'score',\n 'kid',\n 'friendly',\n 'interface',\n 'app',\n 'purchase',\n 'party',\n 'advertising',\n 'wait',\n 'let',\n 'kitchen',\n 'start',\n 'cook',\n 'toca',\n 'kitchen',\n 'free',\n 'cooking',\n 'app',\n 'kid',\n 's',\n 'perfect',\n 'aspire',\n 'chef',\n 'kid',\n 'roleplay',\n 'chef',\n 'kitchen',\n 'explore',\n 'way',\n 'cook',\n 'tasty',\n 'silly',\n 'food',\n 'hungry',\n 'customer',\n 'eat',\n 'fun',\n 'cooking',\n 'app',\n 'sure',\n 'deliver',\n 'creativity',\n 'imagination',\n 'kid',\n 'toca',\n 'boca',\n 'app',\n 'high',\n 'score',\n 'time',\n 'limit',\n 'stressful',\n 'music',\n 'rest',\n 'assure',\n 'app',\n 'kid',\n 'let',\n 'kid',\n 'play',\n 'want',\n 'toca',\n 'boca',\n 'toca',\n 'boca',\n 'believe',\n 'power',\n 'play',\n 'spark',\n 'kid',\n 'imagination',\n 'help',\n 'learn',\n 'world',\n 'design',\n 'product',\n 'kid',\n 'perspective',\n 'empower',\n 'kid',\n 'playful',\n 'creative',\n 'want',\n 'product',\n 'include',\n 'award',\n 'win',\n 'app',\n 'download',\n '130',\n 'million',\n 'time',\n '215',\n 'country',\n 'offer',\n 'fun',\n 'safe',\n 'open',\n 'ended',\n 'play',\n 'experience',\n 'learn',\n 'toca',\n 'boca',\n 'product',\n 'privacy',\n 'policy',\n 'privacy',\n 'issue',\n 'seriously',\n 'learn',\n 'work',\n 'matter',\n 'read',\n 'privacy',\n 'policy',\n 'want',\n 'head',\n 'chef',\n 'sushi',\n 'restaurant',\n 'check',\n 'toca',\n 'kitchen',\n 'sushi',\n 'new',\n 'app',\n 'toca',\n 'boca',\n 'want',\n 'play',\n 'food',\n 'toca',\n 'boca',\n 'bring',\n 'toca',\n 'kitchen',\n 'cook',\n 'play',\n 'prepare',\n 'food',\n 'hungry',\n 'character',\n 'pick',\n 'ingredient',\n 'prepare',\n 'way',\n 'slice',\n 'boil',\n 'fry',\n 'cook',\n 'microwave',\n 'mix',\n 'wait',\n 'hungry',\n 'friend',\n 'response',\n 'create',\n 'educational',\n 'app',\n 'kid',\n 'mud',\n 'cake',\n 'new',\n 'face',\n 'complete',\n 'virtual',\n 'makeover',\n 'kid',\n 'love',\n 'character',\n 'fearful',\n 'reaction',\n 'different',\n 'meal',\n 'giggle',\n 'cat',\n 'like',\n 'salty',\n 'fish',\n 'boy',\n 'eat',\n 'potato',\n 'green',\n 'mix',\n 'match',\n 'meal',\n 'high',\n 'score',\n 'level',\n 'time',\n 'limit',\n 'fun',\n 'not',\n 'end',\n 'cook',\n 'app',\n 'cute',\n 'character',\n 'cook',\n 'favorite',\n 'food',\n '12',\n 'different',\n 'ingredient',\n 'prepare',\n '180',\n 'different',\n 'way',\n 'slice',\n 'boil',\n 'fry',\n 'cook',\n 'microwave',\n 'like',\n 'professional',\n ...]"
     },
     "execution_count": 1,
     "metadata": {},
     "output_type": "execute_result"
    }
   ],
   "source": [
    "%matplotlib inline\n",
    "%run -i '0_paths.py'\n",
    "%run -i '4_natural_language_processing.py'\n",
    "initial_panel = '201908'\n",
    "panels_have_text = ['201912', '202001', '202003', '202004', '202009', '202010', '202011']\n",
    "DF = combine_tokenized_cols_into_single_col(initial_panel, panels_have_text)\n",
    "tokenized_cols = ['description_' + item for item in panels_have_text]\n",
    "doc_sample = DF.loc[DF.index[900], 'combined_panels_description']\n",
    "print(len(doc_sample ))\n",
    "for i in tokenized_cols:\n",
    "    print(len(DF.loc[DF.index[900], i]))\n",
    "doc_sample"
   ],
   "metadata": {
    "collapsed": false,
    "pycharm": {
     "name": "#%%\n"
    }
   }
  },
  {
   "cell_type": "markdown",
   "source": [
    "## 2. NMF (Non-Negative Matrix Factorization) modeling\n",
    "The goal of NMF is to find two non-negative matrices (W, H) whose product approximates\n",
    "the non- negative matrix X. This factorization can be used for example for\n",
    "dimensionality reduction, source separation or topic extraction.\n",
    "\n",
    "The goal of using tf-idf instead of the raw frequencies of occurrence of a token\n",
    "in a given document is to scale down the impact of tokens that occur very frequently\n",
    "in a given corpus and that are hence empirically\n",
    "less informative than features that occur in a small fraction of the training corpus.\n",
    "\n",
    "https://scikit-learn.org/stable/modules/generated/sklearn.feature_extraction.text.TfidfTransformer.html\n",
    "\n",
    "https://shravan-kuchkula.github.io/topic-modeling/#vectorize-the-reviews"
   ],
   "metadata": {
    "collapsed": false,
    "pycharm": {
     "name": "#%% md\n"
    }
   }
  },
  {
   "cell_type": "code",
   "execution_count": 2,
   "outputs": [
    {
     "data": {
      "text/plain": "HBox(children=(HTML(value=''), FloatProgress(value=1.0, bar_style='info', layout=Layout(width='20px'), max=1.0…",
      "application/vnd.jupyter.widget-view+json": {
       "version_major": 2,
       "version_minor": 0,
       "model_id": "a5d7418eb937485ea21b932b44257e23"
      }
     },
     "metadata": {},
     "output_type": "display_data"
    },
    {
     "name": "stdout",
     "output_type": "stream",
     "text": [
      "\n"
     ]
    }
   ],
   "source": [
    "%run -i '4_natural_language_processing.py'\n",
    "pipe = Pipeline(steps = [('tfidf', TfidfVectorizer()),\n",
    "                         ('nmf', NMF(n_components=1, init='nndsvd',\n",
    "                                     random_state=1, alpha=.1, l1_ratio=.5))])\n",
    "# accessing pipe estimator by its kay (user defined name)\n",
    "#\n",
    "# alpha is the constant that multiplies the regularization terms. Set it to zero to have no regularization."
   ],
   "metadata": {
    "collapsed": false,
    "pycharm": {
     "name": "#%%\n"
    }
   }
  },
  {
   "cell_type": "code",
   "execution_count": 4,
   "outputs": [
    {
     "name": "stdout",
     "output_type": "stream",
     "text": [
      "['12', '130', '180', '215', 'advertising', 'app', 'aspire', 'assure', 'award', 'believe', 'boca', 'boil', 'boy', 'bring', 'cake', 'cat', 'character', 'check', 'chef', 'complete', 'cook', 'cooking', 'country', 'create', 'creative', 'creativity', 'customer', 'cute', 'deliver', 'design', 'different', 'download', 'eat', 'educational', 'empower', 'end', 'ended', 'experience', 'explore', 'face', 'favorite', 'fearful', 'fish', 'food', 'free', 'friend', 'friendly', 'fry', 'fun', 'giggle', 'green', 'head', 'help', 'high', 'hungry', 'imagination', 'include', 'ingredient', 'interface', 'issue', 'kid', 'kitchen', 'learn', 'let', 'level', 'like', 'limit', 'love', 'makeover', 'match', 'matter', 'meal', 'microwave', 'million', 'mix', 'mud', 'music', 'nabout', 'nas', 'nat', 'new', 'not', 'nprivacy', 'ntoca', 'nwe', 'nwhat', 'offer', 'open', 'party', 'perfect', 'perspective', 'pick', 'play', 'playful', 'policy', 'potato', 'power', 'prepare', 'privacy', 'product', 'professional', 'purchase', 'purchases', 'reaction', 'read', 'response', 'rest', 'restaurant', 'roleplay', 'rule', 'safe', 'salty', 'score', 'seriously', 'silly', 'slice', 'spark', 'start', 'stressful', 'sure', 'sushi', 'tasty', 'time', 'toca', 'virtual', 'wait', 'want', 'way', 'win', 'work', 'world']\n"
     ]
    }
   ],
   "source": [
    "pipe.fit_transform(doc_sample) # without running this step, you cannot run the following steps\n",
    "nmf_feature_names = pipe['tfidf'].get_feature_names()\n",
    "print(nmf_feature_names)"
   ],
   "metadata": {
    "collapsed": false,
    "pycharm": {
     "name": "#%%\n"
    }
   }
  },
  {
   "cell_type": "code",
   "execution_count": 19,
   "outputs": [
    {
     "name": "stdout",
     "output_type": "stream",
     "text": [
      "131\n",
      "[0.         0.         0.         0.         0.         4.09394365\n",
      " 0.         0.         0.         0.         0.         0.\n",
      " 0.         0.         0.         0.         0.         0.\n",
      " 0.         0.         0.         0.         0.         0.\n",
      " 0.         0.         0.         0.         0.         0.\n",
      " 0.         0.         0.         0.         0.         0.\n",
      " 0.         0.         0.         0.         0.         0.\n",
      " 0.         0.         0.         0.         0.         0.\n",
      " 0.         0.         0.         0.         0.         0.\n",
      " 0.         0.         0.         0.         0.         0.\n",
      " 0.         0.         0.         0.         0.         0.\n",
      " 0.         0.         0.         0.         0.         0.\n",
      " 0.         0.         0.         0.         0.         0.\n",
      " 0.         0.         0.         0.         0.         0.\n",
      " 0.         0.         0.         0.         0.         0.\n",
      " 0.         0.         0.         0.         0.         0.\n",
      " 0.         0.         0.         0.         0.         0.\n",
      " 0.         0.         0.         0.         0.         0.\n",
      " 0.         0.         0.         0.         0.         0.\n",
      " 0.         0.         0.         0.         0.         0.\n",
      " 0.         0.         0.         0.         0.         0.\n",
      " 0.         0.         0.         0.         0.        ]\n",
      "[  0  95  94  93  92  91  90  89  88  87  86  85  84  83  82  81  80  79\n",
      "  78  77  76  75  74  73  72  71  70  69  68  67  96  66  97  99 128 127\n",
      " 126 125 124 123 122 121 120 119 118 117 116 115 114 113 112 111 110 109\n",
      " 108 107 106 105 104 103 102 101 100  98 129  65  63  29  28  27  26  25\n",
      "  24  23  22  21  20  19  18  17  30  16  14  13  12  11  10   9   8   7\n",
      "   6   4   3   2   1  15  64  31  33  62  61  60  59  58  57  56  55  54\n",
      "  53  52  51  50  32  49  47  34  35  36  37  38  48  39  41  42  43  44\n",
      "  45  46  40 130   5]\n",
      "5\n",
      "4.093943654981115\n"
     ]
    }
   ],
   "source": [
    "# print(nmf_output)\n",
    "nmf_weights = pipe['nmf'].components_[1]\n",
    "print(len(nmf_weights))\n",
    "print(nmf_weights)\n",
    "#\n",
    "nmf_weights_indices = pipe['nmf'].components_[1].argsort() # ascending\n",
    "print(nmf_weights_indices)\n",
    "print(nmf_weights_indices[-1]) # the largest weight index\n",
    "print(nmf_weights[nmf_weights_indices[-1]]) # 5.026 printed the largest weight"
   ],
   "metadata": {
    "collapsed": false,
    "pycharm": {
     "name": "#%%\n"
    }
   }
  },
  {
   "cell_type": "code",
   "execution_count": 20,
   "outputs": [
    {
     "name": "stdout",
     "output_type": "stream",
     "text": [
      "[  5 130  40  46  45  44  43  42  41  39  48  38  37  36  35  34  47  49\n",
      "  32  50]\n",
      "['app', 'world', 'favorite', 'friendly', 'friend', 'free', 'food', 'fish', 'fearful', 'face', 'fun', 'explore', 'experience', 'ended', 'end', 'empower', 'fry', 'giggle', 'eat', 'green']\n"
     ]
    }
   ],
   "source": [
    "# descending, top 20 indices of biggest 20 weights\n",
    "nmf_weights_indices = pipe['nmf'].components_[1].argsort()[:-20 - 1:-1]\n",
    "print(nmf_weights_indices)\n",
    "words = [nmf_feature_names[key] for key in nmf_weights_indices]\n",
    "print(words)"
   ],
   "metadata": {
    "collapsed": false,
    "pycharm": {
     "name": "#%%\n"
    }
   }
  },
  {
   "cell_type": "code",
   "execution_count": 21,
   "outputs": [],
   "source": [
    "# https://medium.com/ml2vec/topic-modeling-is-an-unsupervised-learning-approach-to-clustering-documents-to-discover-topics-fdfbf30e27df\n",
    "def get_nmf_topics(pipe, num_topics):\n",
    "    #the word ids obtained need to be reverse-mapped to the words so we can print the topic names.\n",
    "    feat_names = pipe['tfidf'].get_feature_names()\n",
    "    word_dict = {}\n",
    "    for i in range(num_topics):\n",
    "        #for each topic, obtain the largest values, and add the words they map to into the dictionary.\n",
    "        words_ids = pipe['nmf'].components_[i].argsort()[:-20 - 1:-1]\n",
    "        words = [feat_names[key] for key in words_ids]\n",
    "        word_dict['Topic # ' + '{:02d}'.format(i+1)] = words\n",
    "    return pd.DataFrame(word_dict)"
   ],
   "metadata": {
    "collapsed": false,
    "pycharm": {
     "name": "#%%\n"
    }
   }
  },
  {
   "cell_type": "code",
   "execution_count": 22,
   "outputs": [
    {
     "data": {
      "text/plain": "    Topic # 01  Topic # 02  Topic # 03  Topic # 04   Topic # 05  Topic # 06  \\\n0          kid         app        toca        cook         boca     kitchen   \n1        world       world       world       world          nat       world   \n2          fry    favorite    favorite         fry         fish         fry   \n3      empower    friendly    friendly     empower          fry     empower   \n4          end      friend      friend         end     friendly         end   \n5        ended        free        free       ended       friend       ended   \n6   experience        food        food  experience         free  experience   \n7      explore        fish        fish     explore         food     explore   \n8         face     fearful     fearful        face      fearful        face   \n9     favorite        face        face    favorite       giggle    favorite   \n10     fearful         fun         fun     fearful     favorite     fearful   \n11        fish     explore     explore        fish         face        fish   \n12        food  experience  experience        food      explore        food   \n13        free       ended       ended        free   experience        free   \n14      friend         end         end      friend        ended      friend   \n15    friendly     empower     empower    friendly          end    friendly   \n16         fun         fry         fry         fun          fun         fun   \n17         eat      giggle      giggle         eat        world         eat   \n18      giggle         eat         eat      giggle  educational      giggle   \n19       green       green       green       green        green       green   \n\n    Topic # 07  Topic # 08  Topic # 09  Topic # 10  \n0         play        want        food         fun  \n1        world       world       world         eat  \n2          fry    favorite         eat     empower  \n3      empower    friendly     empower         end  \n4          end      friend         end       ended  \n5        ended        free       ended  experience  \n6   experience        food  experience     explore  \n7      explore        fish     explore        face  \n8         face     fearful        face    favorite  \n9     favorite        face    favorite     fearful  \n10     fearful         fun     fearful        fish  \n11        fish     explore        fish        food  \n12        food  experience        free        free  \n13        free       ended      friend      friend  \n14      friend         end    friendly    friendly  \n15    friendly     empower         fry         fry  \n16         fun         fry         fun       world  \n17       level      giggle      giggle      giggle  \n18      giggle         eat       green       green  \n19       green       green        head        head  ",
      "text/html": "<div>\n<style scoped>\n    .dataframe tbody tr th:only-of-type {\n        vertical-align: middle;\n    }\n\n    .dataframe tbody tr th {\n        vertical-align: top;\n    }\n\n    .dataframe thead th {\n        text-align: right;\n    }\n</style>\n<table border=\"1\" class=\"dataframe\">\n  <thead>\n    <tr style=\"text-align: right;\">\n      <th></th>\n      <th>Topic # 01</th>\n      <th>Topic # 02</th>\n      <th>Topic # 03</th>\n      <th>Topic # 04</th>\n      <th>Topic # 05</th>\n      <th>Topic # 06</th>\n      <th>Topic # 07</th>\n      <th>Topic # 08</th>\n      <th>Topic # 09</th>\n      <th>Topic # 10</th>\n    </tr>\n  </thead>\n  <tbody>\n    <tr>\n      <th>0</th>\n      <td>kid</td>\n      <td>app</td>\n      <td>toca</td>\n      <td>cook</td>\n      <td>boca</td>\n      <td>kitchen</td>\n      <td>play</td>\n      <td>want</td>\n      <td>food</td>\n      <td>fun</td>\n    </tr>\n    <tr>\n      <th>1</th>\n      <td>world</td>\n      <td>world</td>\n      <td>world</td>\n      <td>world</td>\n      <td>nat</td>\n      <td>world</td>\n      <td>world</td>\n      <td>world</td>\n      <td>world</td>\n      <td>eat</td>\n    </tr>\n    <tr>\n      <th>2</th>\n      <td>fry</td>\n      <td>favorite</td>\n      <td>favorite</td>\n      <td>fry</td>\n      <td>fish</td>\n      <td>fry</td>\n      <td>fry</td>\n      <td>favorite</td>\n      <td>eat</td>\n      <td>empower</td>\n    </tr>\n    <tr>\n      <th>3</th>\n      <td>empower</td>\n      <td>friendly</td>\n      <td>friendly</td>\n      <td>empower</td>\n      <td>fry</td>\n      <td>empower</td>\n      <td>empower</td>\n      <td>friendly</td>\n      <td>empower</td>\n      <td>end</td>\n    </tr>\n    <tr>\n      <th>4</th>\n      <td>end</td>\n      <td>friend</td>\n      <td>friend</td>\n      <td>end</td>\n      <td>friendly</td>\n      <td>end</td>\n      <td>end</td>\n      <td>friend</td>\n      <td>end</td>\n      <td>ended</td>\n    </tr>\n    <tr>\n      <th>5</th>\n      <td>ended</td>\n      <td>free</td>\n      <td>free</td>\n      <td>ended</td>\n      <td>friend</td>\n      <td>ended</td>\n      <td>ended</td>\n      <td>free</td>\n      <td>ended</td>\n      <td>experience</td>\n    </tr>\n    <tr>\n      <th>6</th>\n      <td>experience</td>\n      <td>food</td>\n      <td>food</td>\n      <td>experience</td>\n      <td>free</td>\n      <td>experience</td>\n      <td>experience</td>\n      <td>food</td>\n      <td>experience</td>\n      <td>explore</td>\n    </tr>\n    <tr>\n      <th>7</th>\n      <td>explore</td>\n      <td>fish</td>\n      <td>fish</td>\n      <td>explore</td>\n      <td>food</td>\n      <td>explore</td>\n      <td>explore</td>\n      <td>fish</td>\n      <td>explore</td>\n      <td>face</td>\n    </tr>\n    <tr>\n      <th>8</th>\n      <td>face</td>\n      <td>fearful</td>\n      <td>fearful</td>\n      <td>face</td>\n      <td>fearful</td>\n      <td>face</td>\n      <td>face</td>\n      <td>fearful</td>\n      <td>face</td>\n      <td>favorite</td>\n    </tr>\n    <tr>\n      <th>9</th>\n      <td>favorite</td>\n      <td>face</td>\n      <td>face</td>\n      <td>favorite</td>\n      <td>giggle</td>\n      <td>favorite</td>\n      <td>favorite</td>\n      <td>face</td>\n      <td>favorite</td>\n      <td>fearful</td>\n    </tr>\n    <tr>\n      <th>10</th>\n      <td>fearful</td>\n      <td>fun</td>\n      <td>fun</td>\n      <td>fearful</td>\n      <td>favorite</td>\n      <td>fearful</td>\n      <td>fearful</td>\n      <td>fun</td>\n      <td>fearful</td>\n      <td>fish</td>\n    </tr>\n    <tr>\n      <th>11</th>\n      <td>fish</td>\n      <td>explore</td>\n      <td>explore</td>\n      <td>fish</td>\n      <td>face</td>\n      <td>fish</td>\n      <td>fish</td>\n      <td>explore</td>\n      <td>fish</td>\n      <td>food</td>\n    </tr>\n    <tr>\n      <th>12</th>\n      <td>food</td>\n      <td>experience</td>\n      <td>experience</td>\n      <td>food</td>\n      <td>explore</td>\n      <td>food</td>\n      <td>food</td>\n      <td>experience</td>\n      <td>free</td>\n      <td>free</td>\n    </tr>\n    <tr>\n      <th>13</th>\n      <td>free</td>\n      <td>ended</td>\n      <td>ended</td>\n      <td>free</td>\n      <td>experience</td>\n      <td>free</td>\n      <td>free</td>\n      <td>ended</td>\n      <td>friend</td>\n      <td>friend</td>\n    </tr>\n    <tr>\n      <th>14</th>\n      <td>friend</td>\n      <td>end</td>\n      <td>end</td>\n      <td>friend</td>\n      <td>ended</td>\n      <td>friend</td>\n      <td>friend</td>\n      <td>end</td>\n      <td>friendly</td>\n      <td>friendly</td>\n    </tr>\n    <tr>\n      <th>15</th>\n      <td>friendly</td>\n      <td>empower</td>\n      <td>empower</td>\n      <td>friendly</td>\n      <td>end</td>\n      <td>friendly</td>\n      <td>friendly</td>\n      <td>empower</td>\n      <td>fry</td>\n      <td>fry</td>\n    </tr>\n    <tr>\n      <th>16</th>\n      <td>fun</td>\n      <td>fry</td>\n      <td>fry</td>\n      <td>fun</td>\n      <td>fun</td>\n      <td>fun</td>\n      <td>fun</td>\n      <td>fry</td>\n      <td>fun</td>\n      <td>world</td>\n    </tr>\n    <tr>\n      <th>17</th>\n      <td>eat</td>\n      <td>giggle</td>\n      <td>giggle</td>\n      <td>eat</td>\n      <td>world</td>\n      <td>eat</td>\n      <td>level</td>\n      <td>giggle</td>\n      <td>giggle</td>\n      <td>giggle</td>\n    </tr>\n    <tr>\n      <th>18</th>\n      <td>giggle</td>\n      <td>eat</td>\n      <td>eat</td>\n      <td>giggle</td>\n      <td>educational</td>\n      <td>giggle</td>\n      <td>giggle</td>\n      <td>eat</td>\n      <td>green</td>\n      <td>green</td>\n    </tr>\n    <tr>\n      <th>19</th>\n      <td>green</td>\n      <td>green</td>\n      <td>green</td>\n      <td>green</td>\n      <td>green</td>\n      <td>green</td>\n      <td>green</td>\n      <td>green</td>\n      <td>head</td>\n      <td>head</td>\n    </tr>\n  </tbody>\n</table>\n</div>"
     },
     "execution_count": 22,
     "metadata": {},
     "output_type": "execute_result"
    }
   ],
   "source": [
    "nmf_topic_df = get_nmf_topics(pipe, num_topics=10)\n",
    "nmf_topic_df"
   ],
   "metadata": {
    "collapsed": false,
    "pycharm": {
     "name": "#%%\n"
    }
   }
  },
  {
   "cell_type": "markdown",
   "source": [
    "## 3. LDA (Latent Dirichlet Allocation) modeling\n",
    "LDA, or Latent Derelicht Analysis is a probabilistic model, and to obtain cluster assignments,\n",
    "it uses two probability values: P( word | topics) and P( topics | documents).\n",
    "These values are calculated based on an initial random assignment, after which they are repeated\n",
    "for each word in each document, to decide their topic assignment. In an iterative procedure,\n",
    "these probabilities are calculated multiple times, until the convergence of the algorithm.\n",
    "\n",
    "https://medium.com/ml2vec/topic-modeling-is-an-unsupervised-learning-approach-to-clustering-documents-to-discover-topics-fdfbf30e27df"
   ],
   "metadata": {
    "collapsed": false
   }
  },
  {
   "cell_type": "code",
   "execution_count": 23,
   "outputs": [
    {
     "data": {
      "text/plain": "HBox(children=(HTML(value=''), FloatProgress(value=1.0, bar_style='info', layout=Layout(width='20px'), max=1.0…",
      "application/vnd.jupyter.widget-view+json": {
       "version_major": 2,
       "version_minor": 0,
       "model_id": "8ae5e4065cd74f0c952ae8a1f7565050"
      }
     },
     "metadata": {},
     "output_type": "display_data"
    },
    {
     "name": "stdout",
     "output_type": "stream",
     "text": [
      "\n"
     ]
    }
   ],
   "source": [
    "%run -i '4_natural_language_processing.py'\n",
    "pipe = Pipeline(steps = [('count', CountVectorizer()),\n",
    "                         ('lda', LatentDirichletAllocation(n_components=10, max_iter=100,\n",
    "                                    learning_method='online', random_state=1,\n",
    "                                    batch_size=128, evaluate_every=-1, n_jobs=-1))])\n",
    "# accessing pipe estimator by its kay (user defined name)\n",
    "lda_output = pipe.fit_transform(doc_sample)"
   ],
   "metadata": {
    "collapsed": false,
    "pycharm": {
     "name": "#%%\n"
    }
   }
  },
  {
   "cell_type": "code",
   "execution_count": 24,
   "outputs": [
    {
     "name": "stdout",
     "output_type": "stream",
     "text": [
      "['12', '130', '180', '215', 'advertising', 'app', 'aspire', 'assure', 'award', 'believe', 'boca', 'boil', 'boy', 'bring', 'cake', 'cat', 'character', 'check', 'chef', 'complete', 'cook', 'cooking', 'country', 'create', 'creative', 'creativity', 'customer', 'cute', 'deliver', 'design', 'different', 'download', 'eat', 'educational', 'empower', 'end', 'ended', 'experience', 'explore', 'face', 'favorite', 'fearful', 'fish', 'food', 'free', 'friend', 'friendly', 'fry', 'fun', 'giggle', 'green', 'head', 'help', 'high', 'hungry', 'imagination', 'include', 'ingredient', 'interface', 'issue', 'kid', 'kitchen', 'learn', 'let', 'level', 'like', 'limit', 'love', 'makeover', 'match', 'matter', 'meal', 'microwave', 'million', 'mix', 'mud', 'music', 'nabout', 'nas', 'nat', 'new', 'not', 'nprivacy', 'ntoca', 'nwe', 'nwhat', 'offer', 'open', 'party', 'perfect', 'perspective', 'pick', 'play', 'playful', 'policy', 'potato', 'power', 'prepare', 'privacy', 'product', 'professional', 'purchase', 'purchases', 'reaction', 'read', 'response', 'rest', 'restaurant', 'roleplay', 'rule', 'safe', 'salty', 'score', 'seriously', 'silly', 'slice', 'spark', 'start', 'stressful', 'sure', 'sushi', 'tasty', 'time', 'toca', 'virtual', 'wait', 'want', 'way', 'win', 'work', 'world']\n"
     ]
    }
   ],
   "source": [
    "lda_feature_names = pipe['count'].get_feature_names()\n",
    "print(lda_feature_names)"
   ],
   "metadata": {
    "collapsed": false,
    "pycharm": {
     "name": "#%%\n"
    }
   }
  },
  {
   "cell_type": "code",
   "execution_count": 25,
   "outputs": [
    {
     "name": "stdout",
     "output_type": "stream",
     "text": [
      "131\n",
      "[ 0.1         0.1         0.1         0.1         0.1         0.1\n",
      "  0.1         6.69366489  0.1         0.1        42.75411162 13.21930135\n",
      "  0.1         0.1         0.1         0.1         0.1         0.1\n",
      "  0.1         0.1         0.1         0.1         0.1         0.1\n",
      "  0.1         0.1         0.1         0.1         0.1         0.1\n",
      "  0.1         0.1         0.1         0.1         0.1         0.1\n",
      "  0.1         0.1         0.1         0.1         0.1         6.65031313\n",
      "  0.1        26.32000348  0.1         0.1         0.1         0.1\n",
      "  0.1         0.1         6.66280169  0.1         0.1         0.1\n",
      "  0.1         0.1         0.1         0.1         0.1         0.1\n",
      "  0.1         0.1         0.1         0.1         0.1         0.1\n",
      "  0.1         0.1         0.1         0.1         0.1         0.1\n",
      "  0.1         0.1         0.1         0.1         0.1         0.1\n",
      "  0.1         0.10001954  0.1         0.1         0.1         0.1\n",
      "  0.1         0.1         0.1         0.1         6.66898821  0.1\n",
      "  0.1         0.1        36.16678734  0.1         0.1         0.1\n",
      "  0.1         0.1         0.1         0.1         0.1         0.1\n",
      "  0.1         0.1         0.1         0.1         0.1         0.1\n",
      "  0.1         0.1         0.1         6.65642507  0.1         0.1\n",
      "  0.1         0.1         0.1         0.1         0.1         0.1\n",
      "  0.1         0.1         0.1        60.57845211  0.1         0.1\n",
      "  0.1         0.1         0.1         0.1         6.69366489]\n",
      "[ 82  97   1  84  72  28  55 118  61  85  99 103  68  91  86 126 125   2\n",
      "  30  23  21 109  56  59  12  49 102   5  48  53  54  16  80  62  36 127\n",
      "  70   3  69  26  94  33  71  18  45  58  19 113  29 106  34  32   9  47\n",
      "  89  37  67 119 105  40 121   8  95  76  31  51 128  64  27 114  42 104\n",
      "  52  75  24 129  73  93  44  22 116 115 101  74  63  14 112 120  66  78\n",
      "  25 107  39  13  46  77  15  90  65   4  35  83  57  60  98 122  81   0\n",
      "  87 117 124  38 108  17  96 110   6 100  20  79  41 111  50  88 130   7\n",
      "  11  43  92  10 123]\n",
      "123\n",
      "60.57845211403111\n"
     ]
    }
   ],
   "source": [
    "# print(nmf_output)\n",
    "lda_weights = pipe['lda'].components_[1]\n",
    "print(len(lda_weights))\n",
    "print(lda_weights)\n",
    "#\n",
    "lda_weights_indices = pipe['lda'].components_[1].argsort() # ascending\n",
    "print(lda_weights_indices)\n",
    "print(lda_weights_indices[-1]) # the largest weight index\n",
    "print(lda_weights[lda_weights_indices[-1]]) # 106.06 printed the largest weight"
   ],
   "metadata": {
    "collapsed": false,
    "pycharm": {
     "name": "#%%\n"
    }
   }
  },
  {
   "cell_type": "code",
   "execution_count": 26,
   "outputs": [
    {
     "name": "stdout",
     "output_type": "stream",
     "text": [
      "[123  10  92  43  11   7 130  88  50 111  41  79  20 100   6 110  96  17\n",
      " 108  38]\n",
      "['toca', 'boca', 'play', 'food', 'boil', 'assure', 'world', 'party', 'green', 'salty', 'fearful', 'nat', 'cook', 'professional', 'aspire', 'safe', 'power', 'check', 'roleplay', 'explore']\n"
     ]
    }
   ],
   "source": [
    "# descending, top 20 indices of biggest 20 weights\n",
    "lda_weights_indices = pipe['lda'].components_[1].argsort()[:-20 - 1:-1] # descending order the largest to 20th largest\n",
    "print(lda_weights_indices)\n",
    "words = [lda_feature_names[key] for key in lda_weights_indices]\n",
    "print(words)"
   ],
   "metadata": {
    "collapsed": false,
    "pycharm": {
     "name": "#%%\n"
    }
   }
  },
  {
   "cell_type": "code",
   "execution_count": 27,
   "outputs": [],
   "source": [
    "# https://medium.com/ml2vec/topic-modeling-is-an-unsupervised-learning-approach-to-clustering-documents-to-discover-topics-fdfbf30e27df\n",
    "def get_lda_topics(pipe, num_topics):\n",
    "    #the word ids obtained need to be reverse-mapped to the words so we can print the topic names.\n",
    "    feat_names = pipe['count'].get_feature_names()\n",
    "    word_dict = {}\n",
    "    for i in range(num_topics):\n",
    "        #for each topic, obtain the largest values, and add the words they map to into the dictionary.\n",
    "        words_ids = pipe['lda'].components_[i].argsort()[:-20 - 1:-1]\n",
    "        words = [feat_names[key] for key in words_ids]\n",
    "        word_dict['Topic # ' + '{:02d}'.format(i+1)] = words\n",
    "    return pd.DataFrame(word_dict)"
   ],
   "metadata": {
    "collapsed": false,
    "pycharm": {
     "name": "#%%\n"
    }
   }
  },
  {
   "cell_type": "code",
   "execution_count": 28,
   "outputs": [
    {
     "data": {
      "text/plain": "      Topic # 01    Topic # 02    Topic # 03    Topic # 04    Topic # 05  \\\n0            kid          toca        design          want           fun   \n1        privacy          boca           eat     different         learn   \n2           time          play           fry       cooking           way   \n3     ingredient          food          meal          wait        hungry   \n4           open          boil       country         issue        matter   \n5           safe        assure          work       include         ended   \n6          power         world       million          rule     seriously   \n7        explore         party         award           boy           215   \n8       roleplay         green       playful        giggle         match   \n9         aspire         salty       believe        create   educational   \n10   advertising       fearful         silly  professional          food   \n11         start           nat          free         start         start   \n12  professional          cook         level         power            12   \n13            12  professional          cute        aspire          safe   \n14           not        aspire        potato      roleplay        aspire   \n15       virtual          safe          fish          open          open   \n16         check         power           mud           not  professional   \n17         nwhat         check          head          safe      roleplay   \n18       fearful      roleplay      purchase       explore         power   \n19         party       explore  professional       virtual           not   \n\n    Topic # 06    Topic # 07   Topic # 08 Topic # 09    Topic # 10  \n0         chef           app         cook    kitchen       prepare  \n1       policy          high        score    product   imagination  \n2         read     character          let       like         slice  \n3   experience           new        limit      offer     microwave  \n4          win       empower          mix        180           130  \n5     download      customer        sushi   reaction     stressful  \n6     creative      complete  perspective   makeover       deliver  \n7        spark        friend   creativity       pick       explore  \n8        music           kid     friendly        nat         power  \n9         rest         power          end  purchases          open  \n10        help  professional          cat       boca        aspire  \n11        sure        aspire     response        kid       virtual  \n12       tasty       explore         cake      start  professional  \n13     perfect      roleplay         face   roleplay      roleplay  \n14   interface           not   restaurant      power            12  \n15    favorite       virtual        bring       open          safe  \n16        love         check          nwe       safe           not  \n17    nprivacy          safe        ntoca    virtual         start  \n18      nabout            12          fry    explore         check  \n19         nas          open         toca        not       privacy  ",
      "text/html": "<div>\n<style scoped>\n    .dataframe tbody tr th:only-of-type {\n        vertical-align: middle;\n    }\n\n    .dataframe tbody tr th {\n        vertical-align: top;\n    }\n\n    .dataframe thead th {\n        text-align: right;\n    }\n</style>\n<table border=\"1\" class=\"dataframe\">\n  <thead>\n    <tr style=\"text-align: right;\">\n      <th></th>\n      <th>Topic # 01</th>\n      <th>Topic # 02</th>\n      <th>Topic # 03</th>\n      <th>Topic # 04</th>\n      <th>Topic # 05</th>\n      <th>Topic # 06</th>\n      <th>Topic # 07</th>\n      <th>Topic # 08</th>\n      <th>Topic # 09</th>\n      <th>Topic # 10</th>\n    </tr>\n  </thead>\n  <tbody>\n    <tr>\n      <th>0</th>\n      <td>kid</td>\n      <td>toca</td>\n      <td>design</td>\n      <td>want</td>\n      <td>fun</td>\n      <td>chef</td>\n      <td>app</td>\n      <td>cook</td>\n      <td>kitchen</td>\n      <td>prepare</td>\n    </tr>\n    <tr>\n      <th>1</th>\n      <td>privacy</td>\n      <td>boca</td>\n      <td>eat</td>\n      <td>different</td>\n      <td>learn</td>\n      <td>policy</td>\n      <td>high</td>\n      <td>score</td>\n      <td>product</td>\n      <td>imagination</td>\n    </tr>\n    <tr>\n      <th>2</th>\n      <td>time</td>\n      <td>play</td>\n      <td>fry</td>\n      <td>cooking</td>\n      <td>way</td>\n      <td>read</td>\n      <td>character</td>\n      <td>let</td>\n      <td>like</td>\n      <td>slice</td>\n    </tr>\n    <tr>\n      <th>3</th>\n      <td>ingredient</td>\n      <td>food</td>\n      <td>meal</td>\n      <td>wait</td>\n      <td>hungry</td>\n      <td>experience</td>\n      <td>new</td>\n      <td>limit</td>\n      <td>offer</td>\n      <td>microwave</td>\n    </tr>\n    <tr>\n      <th>4</th>\n      <td>open</td>\n      <td>boil</td>\n      <td>country</td>\n      <td>issue</td>\n      <td>matter</td>\n      <td>win</td>\n      <td>empower</td>\n      <td>mix</td>\n      <td>180</td>\n      <td>130</td>\n    </tr>\n    <tr>\n      <th>5</th>\n      <td>safe</td>\n      <td>assure</td>\n      <td>work</td>\n      <td>include</td>\n      <td>ended</td>\n      <td>download</td>\n      <td>customer</td>\n      <td>sushi</td>\n      <td>reaction</td>\n      <td>stressful</td>\n    </tr>\n    <tr>\n      <th>6</th>\n      <td>power</td>\n      <td>world</td>\n      <td>million</td>\n      <td>rule</td>\n      <td>seriously</td>\n      <td>creative</td>\n      <td>complete</td>\n      <td>perspective</td>\n      <td>makeover</td>\n      <td>deliver</td>\n    </tr>\n    <tr>\n      <th>7</th>\n      <td>explore</td>\n      <td>party</td>\n      <td>award</td>\n      <td>boy</td>\n      <td>215</td>\n      <td>spark</td>\n      <td>friend</td>\n      <td>creativity</td>\n      <td>pick</td>\n      <td>explore</td>\n    </tr>\n    <tr>\n      <th>8</th>\n      <td>roleplay</td>\n      <td>green</td>\n      <td>playful</td>\n      <td>giggle</td>\n      <td>match</td>\n      <td>music</td>\n      <td>kid</td>\n      <td>friendly</td>\n      <td>nat</td>\n      <td>power</td>\n    </tr>\n    <tr>\n      <th>9</th>\n      <td>aspire</td>\n      <td>salty</td>\n      <td>believe</td>\n      <td>create</td>\n      <td>educational</td>\n      <td>rest</td>\n      <td>power</td>\n      <td>end</td>\n      <td>purchases</td>\n      <td>open</td>\n    </tr>\n    <tr>\n      <th>10</th>\n      <td>advertising</td>\n      <td>fearful</td>\n      <td>silly</td>\n      <td>professional</td>\n      <td>food</td>\n      <td>help</td>\n      <td>professional</td>\n      <td>cat</td>\n      <td>boca</td>\n      <td>aspire</td>\n    </tr>\n    <tr>\n      <th>11</th>\n      <td>start</td>\n      <td>nat</td>\n      <td>free</td>\n      <td>start</td>\n      <td>start</td>\n      <td>sure</td>\n      <td>aspire</td>\n      <td>response</td>\n      <td>kid</td>\n      <td>virtual</td>\n    </tr>\n    <tr>\n      <th>12</th>\n      <td>professional</td>\n      <td>cook</td>\n      <td>level</td>\n      <td>power</td>\n      <td>12</td>\n      <td>tasty</td>\n      <td>explore</td>\n      <td>cake</td>\n      <td>start</td>\n      <td>professional</td>\n    </tr>\n    <tr>\n      <th>13</th>\n      <td>12</td>\n      <td>professional</td>\n      <td>cute</td>\n      <td>aspire</td>\n      <td>safe</td>\n      <td>perfect</td>\n      <td>roleplay</td>\n      <td>face</td>\n      <td>roleplay</td>\n      <td>roleplay</td>\n    </tr>\n    <tr>\n      <th>14</th>\n      <td>not</td>\n      <td>aspire</td>\n      <td>potato</td>\n      <td>roleplay</td>\n      <td>aspire</td>\n      <td>interface</td>\n      <td>not</td>\n      <td>restaurant</td>\n      <td>power</td>\n      <td>12</td>\n    </tr>\n    <tr>\n      <th>15</th>\n      <td>virtual</td>\n      <td>safe</td>\n      <td>fish</td>\n      <td>open</td>\n      <td>open</td>\n      <td>favorite</td>\n      <td>virtual</td>\n      <td>bring</td>\n      <td>open</td>\n      <td>safe</td>\n    </tr>\n    <tr>\n      <th>16</th>\n      <td>check</td>\n      <td>power</td>\n      <td>mud</td>\n      <td>not</td>\n      <td>professional</td>\n      <td>love</td>\n      <td>check</td>\n      <td>nwe</td>\n      <td>safe</td>\n      <td>not</td>\n    </tr>\n    <tr>\n      <th>17</th>\n      <td>nwhat</td>\n      <td>check</td>\n      <td>head</td>\n      <td>safe</td>\n      <td>roleplay</td>\n      <td>nprivacy</td>\n      <td>safe</td>\n      <td>ntoca</td>\n      <td>virtual</td>\n      <td>start</td>\n    </tr>\n    <tr>\n      <th>18</th>\n      <td>fearful</td>\n      <td>roleplay</td>\n      <td>purchase</td>\n      <td>explore</td>\n      <td>power</td>\n      <td>nabout</td>\n      <td>12</td>\n      <td>fry</td>\n      <td>explore</td>\n      <td>check</td>\n    </tr>\n    <tr>\n      <th>19</th>\n      <td>party</td>\n      <td>explore</td>\n      <td>professional</td>\n      <td>virtual</td>\n      <td>not</td>\n      <td>nas</td>\n      <td>open</td>\n      <td>toca</td>\n      <td>not</td>\n      <td>privacy</td>\n    </tr>\n  </tbody>\n</table>\n</div>"
     },
     "execution_count": 28,
     "metadata": {},
     "output_type": "execute_result"
    }
   ],
   "source": [
    "lda_topic_df = get_lda_topics(pipe, num_topics=10)\n",
    "lda_topic_df\n"
   ],
   "metadata": {
    "collapsed": false,
    "pycharm": {
     "name": "#%%\n"
    }
   }
  },
  {
   "cell_type": "markdown",
   "source": [
    "Please refer to excel saved with name 'lda_output_compare_with_nmf_output', and I eyeballed and concluded that\n",
    "NMF's topic words makes more sense. Surprisingly, unlike what I have always thought of, each topic does not\n",
    "represent a single collective theme, rather, topic 1 through topic 10 all look relatively the same.\n",
    "It is the words appearing the first in topic 1 may be much similar to the word appearing in topic 2 through\n",
    "topic 10. It's reasonable because we used argsort within component's (each topic's) weight matrix.\n",
    "\n",
    "So for each app's description, I will use 1 topic, and 10 words, just to speed up the process.\n",
    "Topic 2 through 9 seems just like replicates of topic 1.\n",
    "\n"
   ],
   "metadata": {
    "collapsed": false,
    "pycharm": {
     "name": "#%% md\n"
    }
   }
  }
 ],
 "metadata": {
  "kernelspec": {
   "display_name": "Python 3",
   "language": "python",
   "name": "python3"
  },
  "language_info": {
   "codemirror_mode": {
    "name": "ipython",
    "version": 2
   },
   "file_extension": ".py",
   "mimetype": "text/x-python",
   "name": "python",
   "nbconvert_exporter": "python",
   "pygments_lexer": "ipython2",
   "version": "2.7.6"
  }
 },
 "nbformat": 4,
 "nbformat_minor": 0
}