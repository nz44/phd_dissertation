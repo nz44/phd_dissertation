{
 "cells": [
  {
   "cell_type": "markdown",
   "metadata": {
    "collapsed": true,
    "pycharm": {
     "name": "#%% md\n"
    }
   },
   "source": [
    "# use class to encapsulate scraping functions\n",
    "\n",
    "2021/01/03"
   ]
  },
  {
   "cell_type": "code",
   "execution_count": 10,
   "outputs": [],
   "source": [
    "# run python scripts containing all the functions\n",
    "%run -i '0_paths_open_save.py'\n",
    "%run -i '1_scraping_cleaning_merge.py'"
   ],
   "metadata": {
    "collapsed": false,
    "pycharm": {
     "name": "#%%\n"
    }
   }
  },
  {
   "cell_type": "markdown",
   "source": [
    "## 1. Scraping"
   ],
   "metadata": {
    "collapsed": false,
    "pycharm": {
     "name": "#%% md\n"
    }
   }
  },
  {
   "cell_type": "code",
   "execution_count": 9,
   "outputs": [
    {
     "name": "stderr",
     "output_type": "stream",
     "text": [
      "scraping...: 100%|██████████| 13144/13144 [53:10<00:00,  4.12it/s]  \n",
      "scraping...: 100%|██████████| 13015/13015 [51:04<00:00,  4.25it/s]  \n",
      "scraping...: 100%|██████████| 8468/8468 [30:31<00:00,  4.62it/s]  \n",
      "scraping...: 100%|██████████| 8359/8359 [31:15<00:00,  4.46it/s]   \n",
      "scraping...: 100%|██████████| 8042/8042 [30:38<00:00,  4.37it/s]   \n"
     ]
    },
    {
     "name": "stdout",
     "output_type": "stream",
     "text": [
      "201907\n",
      "The number of IDs are: 13144\n",
      "start scraping apps with initial panel 201907\n",
      "Finished scraping app details with initial panel 201907\n",
      "Saved scarped app details with initial panel 201907\n",
      "201908\n",
      "The number of IDs are: 13015\n",
      "start scraping apps with initial panel 201908\n",
      "Finished scraping app details with initial panel 201908\n",
      "Saved scarped app details with initial panel 201908\n",
      "201912\n",
      "The number of IDs are: 8468\n",
      "start scraping apps with initial panel 201912\n",
      "Finished scraping app details with initial panel 201912\n",
      "Saved scarped app details with initial panel 201912\n",
      "202001\n",
      "The number of IDs are: 8359\n",
      "start scraping apps with initial panel 202001\n",
      "Finished scraping app details with initial panel 202001\n",
      "Saved scarped app details with initial panel 202001\n",
      "202002\n",
      "The number of IDs are: 8042\n",
      "start scraping apps with initial panel 202002\n",
      "Finished scraping app details with initial panel 202002\n",
      "Saved scarped app details with initial panel 202002\n"
     ]
    }
   ],
   "source": [
    "initial_panels = ['201907', '201908', '201912', '202001', '202002']\n",
    "current_panel = '202101'\n",
    "\n",
    "for i in initial_panels:\n",
    "    o = open_files(initial_panel=i)\n",
    "    DF = o.open_df_to_id_for_scraping()\n",
    "    id_list = get_id_from_data_before_202009(DF)\n",
    "    print(i)\n",
    "    print('The number of IDs are:', len(id_list))\n",
    "    print('start scraping apps with initial panel', i)\n",
    "    app_details = scraping_apps_according_to_id(id_list)\n",
    "    print('Finished scraping app details with initial panel', i)\n",
    "    s = save_files(initial_panel=i, current_panel=current_panel, app_details_dict=app_details)\n",
    "    s.save_scraped_app_details()\n",
    "    print('Saved scarped app details with initial panel', i)"
   ],
   "metadata": {
    "collapsed": false,
    "pycharm": {
     "name": "#%% SCRAPING\n"
    }
   }
  },
  {
   "cell_type": "code",
   "execution_count": 8,
   "outputs": [],
   "source": [
    "s = save_objects(initial_panel='201812', current_panel='202101', app_details_dict=app_details)\n",
    "s.save_scraped_app_details()\n",
    "'201812',"
   ],
   "metadata": {
    "collapsed": false,
    "pycharm": {
     "name": "#%%\n"
    }
   }
  },
  {
   "cell_type": "markdown",
   "source": [
    "## 2. Check the scraped data"
   ],
   "metadata": {
    "collapsed": false,
    "pycharm": {
     "name": "#%% md\n"
    }
   }
  },
  {
   "cell_type": "code",
   "execution_count": null,
   "outputs": [],
   "source": [
    "\n"
   ],
   "metadata": {
    "collapsed": false,
    "pycharm": {
     "name": "#%%\n"
    }
   }
  }
 ],
 "metadata": {
  "kernelspec": {
   "display_name": "Python 3",
   "language": "python",
   "name": "python3"
  },
  "language_info": {
   "codemirror_mode": {
    "name": "ipython",
    "version": 2
   },
   "file_extension": ".py",
   "mimetype": "text/x-python",
   "name": "python",
   "nbconvert_exporter": "python",
   "pygments_lexer": "ipython2",
   "version": "2.7.6"
  }
 },
 "nbformat": 4,
 "nbformat_minor": 0
}