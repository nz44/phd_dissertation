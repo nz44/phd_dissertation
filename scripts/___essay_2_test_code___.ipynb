{
 "cells": [
  {
   "cell_type": "markdown",
   "source": [
    "# 1. Test Block for Divide Sub-samples\n",
    "\n",
    "Based on the results from essay 1, we found that niche is important for pricing\n",
    "strategies for non-market leaders. Thus, we are going to divide categories into\n",
    "5 (not the 49 default categories) and see what role Niche plays in pricing strategies\n",
    "in each of the 5 categories."
   ],
   "metadata": {
    "collapsed": false
   }
  },
  {
   "cell_type": "code",
   "execution_count": 1,
   "outputs": [],
   "source": [
    "%run -i 'STEP8_sub_samples_essay2_essay3.py'\n",
    "\n",
    "initial_panel='201907'\n",
    "all_panels = ['201907',\n",
    "              '201908',\n",
    "              '201909',\n",
    "              '201912',\n",
    "              '202001',\n",
    "              '202003',\n",
    "              '202004',\n",
    "              '202009',\n",
    "              '202010',\n",
    "              '202011',\n",
    "              '202012',\n",
    "              '202101',\n",
    "              '202102',\n",
    "              '202103',\n",
    "              '202104',\n",
    "              '202105']"
   ],
   "metadata": {
    "collapsed": false,
    "pycharm": {
     "name": "#%%\n"
    }
   }
  },
  {
   "cell_type": "code",
   "execution_count": 25,
   "outputs": [
    {
     "name": "stderr",
     "output_type": "stream",
     "text": [
      "  1%|          | 2/222 [00:07<13:08,  3.58s/it]\n"
     ]
    },
    {
     "ename": "KeyboardInterrupt",
     "evalue": "",
     "output_type": "error",
     "traceback": [
      "\u001B[0;31m---------------------------------------------------------------------------\u001B[0m",
      "\u001B[0;31mKeyboardInterrupt\u001B[0m                         Traceback (most recent call last)",
      "\u001B[0;32m~/Insync/naixin88@sina.cn/OneDrive/__CODING__/PycharmProjects/GOOGLE_PLAY/scripts/STEP8_sub_samples_essay2_essay3.py\u001B[0m in \u001B[0;36m<module>\u001B[0;34m\u001B[0m\n\u001B[1;32m      1\u001B[0m \u001B[0mget_ipython\u001B[0m\u001B[0;34m(\u001B[0m\u001B[0;34m)\u001B[0m\u001B[0;34m.\u001B[0m\u001B[0mrun_line_magic\u001B[0m\u001B[0;34m(\u001B[0m\u001B[0;34m'run'\u001B[0m\u001B[0;34m,\u001B[0m \u001B[0;34m\"-i 'STEP8_sub_samples_essay2_essay3.py'\"\u001B[0m\u001B[0;34m)\u001B[0m\u001B[0;34m\u001B[0m\u001B[0;34m\u001B[0m\u001B[0m\n\u001B[0;32m----> 2\u001B[0;31m d1 = divide_essay_2_3(\n\u001B[0m\u001B[1;32m      3\u001B[0m             \u001B[0minitial_panel\u001B[0m\u001B[0;34m=\u001B[0m\u001B[0minitial_panel\u001B[0m\u001B[0;34m,\u001B[0m\u001B[0;34m\u001B[0m\u001B[0;34m\u001B[0m\u001B[0m\n\u001B[1;32m      4\u001B[0m             \u001B[0mall_panels\u001B[0m\u001B[0;34m=\u001B[0m\u001B[0mall_panels\u001B[0m\u001B[0;34m\u001B[0m\u001B[0;34m\u001B[0m\u001B[0m\n\u001B[1;32m      5\u001B[0m         \u001B[0;34m)\u001B[0m\u001B[0;34m.\u001B[0m\u001B[0mopen_imputed_and_deleted_missing_df\u001B[0m\u001B[0;34m(\u001B[0m\u001B[0;34m\u001B[0m\u001B[0;34m\u001B[0m\u001B[0m\n",
      "\u001B[0;32m~/Insync/naixin88@sina.cn/OneDrive/__CODING__/PycharmProjects/GOOGLE_PLAY/scripts/STEP8_sub_samples_essay2_essay3.py\u001B[0m in \u001B[0;36mcreate_star_developer_var\u001B[0;34m(self)\u001B[0m\n\u001B[1;32m    311\u001B[0m         \u001B[0mself\u001B[0m\u001B[0;34m.\u001B[0m\u001B[0mdf\u001B[0m\u001B[0;34m[\u001B[0m\u001B[0;34m'top_digital_firms'\u001B[0m\u001B[0;34m]\u001B[0m \u001B[0;34m=\u001B[0m \u001B[0;36m0\u001B[0m\u001B[0;34m\u001B[0m\u001B[0;34m\u001B[0m\u001B[0m\n\u001B[1;32m    312\u001B[0m         \u001B[0;32mfor\u001B[0m \u001B[0mi\u001B[0m \u001B[0;32min\u001B[0m \u001B[0mtqdm\u001B[0m\u001B[0;34m(\u001B[0m\u001B[0mrange\u001B[0m\u001B[0;34m(\u001B[0m\u001B[0mlen\u001B[0m\u001B[0;34m(\u001B[0m\u001B[0mdivide_essay_2_3\u001B[0m\u001B[0;34m.\u001B[0m\u001B[0mtop_digital_firms_substring\u001B[0m\u001B[0;34m)\u001B[0m\u001B[0;34m)\u001B[0m\u001B[0;34m)\u001B[0m\u001B[0;34m:\u001B[0m\u001B[0;34m\u001B[0m\u001B[0;34m\u001B[0m\u001B[0m\n\u001B[0;32m--> 313\u001B[0;31m             \u001B[0;32mfor\u001B[0m \u001B[0mj\u001B[0m\u001B[0;34m,\u001B[0m \u001B[0mrow\u001B[0m \u001B[0;32min\u001B[0m \u001B[0mself\u001B[0m\u001B[0;34m.\u001B[0m\u001B[0mdf\u001B[0m\u001B[0;34m.\u001B[0m\u001B[0miterrows\u001B[0m\u001B[0;34m(\u001B[0m\u001B[0;34m)\u001B[0m\u001B[0;34m:\u001B[0m\u001B[0;34m\u001B[0m\u001B[0;34m\u001B[0m\u001B[0m\n\u001B[0m\u001B[1;32m    314\u001B[0m                 \u001B[0;32mif\u001B[0m \u001B[0mdivide_essay_2_3\u001B[0m\u001B[0;34m.\u001B[0m\u001B[0mtop_digital_firms_substring\u001B[0m\u001B[0;34m[\u001B[0m\u001B[0mi\u001B[0m\u001B[0;34m]\u001B[0m \u001B[0;32min\u001B[0m \u001B[0mrow\u001B[0m\u001B[0;34m[\u001B[0m\u001B[0;34m'developerTimeInvar_formatted'\u001B[0m\u001B[0;34m]\u001B[0m\u001B[0;34m:\u001B[0m\u001B[0;34m\u001B[0m\u001B[0;34m\u001B[0m\u001B[0m\n\u001B[1;32m    315\u001B[0m                     \u001B[0mself\u001B[0m\u001B[0;34m.\u001B[0m\u001B[0mdf\u001B[0m\u001B[0;34m.\u001B[0m\u001B[0mat\u001B[0m\u001B[0;34m[\u001B[0m\u001B[0mj\u001B[0m\u001B[0;34m,\u001B[0m \u001B[0;34m'top_digital_firms'\u001B[0m\u001B[0;34m]\u001B[0m \u001B[0;34m=\u001B[0m \u001B[0;36m1\u001B[0m\u001B[0;34m\u001B[0m\u001B[0;34m\u001B[0m\u001B[0m\n",
      "\u001B[0;32m~/anaconda3/envs/GOOGLE_PLAY/lib/python3.8/site-packages/pandas/core/frame.py\u001B[0m in \u001B[0;36miterrows\u001B[0;34m(self)\u001B[0m\n\u001B[1;32m   1069\u001B[0m         \u001B[0mklass\u001B[0m \u001B[0;34m=\u001B[0m \u001B[0mself\u001B[0m\u001B[0;34m.\u001B[0m\u001B[0m_constructor_sliced\u001B[0m\u001B[0;34m\u001B[0m\u001B[0;34m\u001B[0m\u001B[0m\n\u001B[1;32m   1070\u001B[0m         \u001B[0;32mfor\u001B[0m \u001B[0mk\u001B[0m\u001B[0;34m,\u001B[0m \u001B[0mv\u001B[0m \u001B[0;32min\u001B[0m \u001B[0mzip\u001B[0m\u001B[0;34m(\u001B[0m\u001B[0mself\u001B[0m\u001B[0;34m.\u001B[0m\u001B[0mindex\u001B[0m\u001B[0;34m,\u001B[0m \u001B[0mself\u001B[0m\u001B[0;34m.\u001B[0m\u001B[0mvalues\u001B[0m\u001B[0;34m)\u001B[0m\u001B[0;34m:\u001B[0m\u001B[0;34m\u001B[0m\u001B[0;34m\u001B[0m\u001B[0m\n\u001B[0;32m-> 1071\u001B[0;31m             \u001B[0ms\u001B[0m \u001B[0;34m=\u001B[0m \u001B[0mklass\u001B[0m\u001B[0;34m(\u001B[0m\u001B[0mv\u001B[0m\u001B[0;34m,\u001B[0m \u001B[0mindex\u001B[0m\u001B[0;34m=\u001B[0m\u001B[0mcolumns\u001B[0m\u001B[0;34m,\u001B[0m \u001B[0mname\u001B[0m\u001B[0;34m=\u001B[0m\u001B[0mk\u001B[0m\u001B[0;34m)\u001B[0m\u001B[0;34m\u001B[0m\u001B[0;34m\u001B[0m\u001B[0m\n\u001B[0m\u001B[1;32m   1072\u001B[0m             \u001B[0;32myield\u001B[0m \u001B[0mk\u001B[0m\u001B[0;34m,\u001B[0m \u001B[0ms\u001B[0m\u001B[0;34m\u001B[0m\u001B[0;34m\u001B[0m\u001B[0m\n\u001B[1;32m   1073\u001B[0m \u001B[0;34m\u001B[0m\u001B[0m\n",
      "\u001B[0;32m~/anaconda3/envs/GOOGLE_PLAY/lib/python3.8/site-packages/pandas/core/series.py\u001B[0m in \u001B[0;36m__init__\u001B[0;34m(self, data, index, dtype, name, copy, fastpath)\u001B[0m\n\u001B[1;32m    364\u001B[0m                 \u001B[0mdata\u001B[0m \u001B[0;34m=\u001B[0m \u001B[0msanitize_array\u001B[0m\u001B[0;34m(\u001B[0m\u001B[0mdata\u001B[0m\u001B[0;34m,\u001B[0m \u001B[0mindex\u001B[0m\u001B[0;34m,\u001B[0m \u001B[0mdtype\u001B[0m\u001B[0;34m,\u001B[0m \u001B[0mcopy\u001B[0m\u001B[0;34m,\u001B[0m \u001B[0mraise_cast_failure\u001B[0m\u001B[0;34m=\u001B[0m\u001B[0;32mTrue\u001B[0m\u001B[0;34m)\u001B[0m\u001B[0;34m\u001B[0m\u001B[0;34m\u001B[0m\u001B[0m\n\u001B[1;32m    365\u001B[0m \u001B[0;34m\u001B[0m\u001B[0m\n\u001B[0;32m--> 366\u001B[0;31m                 \u001B[0mdata\u001B[0m \u001B[0;34m=\u001B[0m \u001B[0mSingleBlockManager\u001B[0m\u001B[0;34m.\u001B[0m\u001B[0mfrom_array\u001B[0m\u001B[0;34m(\u001B[0m\u001B[0mdata\u001B[0m\u001B[0;34m,\u001B[0m \u001B[0mindex\u001B[0m\u001B[0;34m)\u001B[0m\u001B[0;34m\u001B[0m\u001B[0;34m\u001B[0m\u001B[0m\n\u001B[0m\u001B[1;32m    367\u001B[0m \u001B[0;34m\u001B[0m\u001B[0m\n\u001B[1;32m    368\u001B[0m         \u001B[0mgeneric\u001B[0m\u001B[0;34m.\u001B[0m\u001B[0mNDFrame\u001B[0m\u001B[0;34m.\u001B[0m\u001B[0m__init__\u001B[0m\u001B[0;34m(\u001B[0m\u001B[0mself\u001B[0m\u001B[0;34m,\u001B[0m \u001B[0mdata\u001B[0m\u001B[0;34m)\u001B[0m\u001B[0;34m\u001B[0m\u001B[0;34m\u001B[0m\u001B[0m\n",
      "\u001B[0;32m~/anaconda3/envs/GOOGLE_PLAY/lib/python3.8/site-packages/pandas/core/internals/managers.py\u001B[0m in \u001B[0;36mfrom_array\u001B[0;34m(cls, array, index)\u001B[0m\n\u001B[1;32m   1580\u001B[0m         \u001B[0mConstructor\u001B[0m \u001B[0;32mfor\u001B[0m \u001B[0;32mif\u001B[0m \u001B[0mwe\u001B[0m \u001B[0mhave\u001B[0m \u001B[0man\u001B[0m \u001B[0marray\u001B[0m \u001B[0mthat\u001B[0m \u001B[0;32mis\u001B[0m \u001B[0;32mnot\u001B[0m \u001B[0myet\u001B[0m \u001B[0ma\u001B[0m \u001B[0mBlock\u001B[0m\u001B[0;34m.\u001B[0m\u001B[0;34m\u001B[0m\u001B[0;34m\u001B[0m\u001B[0m\n\u001B[1;32m   1581\u001B[0m         \"\"\"\n\u001B[0;32m-> 1582\u001B[0;31m         \u001B[0mblock\u001B[0m \u001B[0;34m=\u001B[0m \u001B[0mmake_block\u001B[0m\u001B[0;34m(\u001B[0m\u001B[0marray\u001B[0m\u001B[0;34m,\u001B[0m \u001B[0mplacement\u001B[0m\u001B[0;34m=\u001B[0m\u001B[0mslice\u001B[0m\u001B[0;34m(\u001B[0m\u001B[0;36m0\u001B[0m\u001B[0;34m,\u001B[0m \u001B[0mlen\u001B[0m\u001B[0;34m(\u001B[0m\u001B[0mindex\u001B[0m\u001B[0;34m)\u001B[0m\u001B[0;34m)\u001B[0m\u001B[0;34m,\u001B[0m \u001B[0mndim\u001B[0m\u001B[0;34m=\u001B[0m\u001B[0;36m1\u001B[0m\u001B[0;34m)\u001B[0m\u001B[0;34m\u001B[0m\u001B[0;34m\u001B[0m\u001B[0m\n\u001B[0m\u001B[1;32m   1583\u001B[0m         \u001B[0;32mreturn\u001B[0m \u001B[0mcls\u001B[0m\u001B[0;34m(\u001B[0m\u001B[0mblock\u001B[0m\u001B[0;34m,\u001B[0m \u001B[0mindex\u001B[0m\u001B[0;34m)\u001B[0m\u001B[0;34m\u001B[0m\u001B[0;34m\u001B[0m\u001B[0m\n\u001B[1;32m   1584\u001B[0m \u001B[0;34m\u001B[0m\u001B[0m\n",
      "\u001B[0;32m~/anaconda3/envs/GOOGLE_PLAY/lib/python3.8/site-packages/pandas/core/internals/blocks.py\u001B[0m in \u001B[0;36mmake_block\u001B[0;34m(values, placement, klass, ndim, dtype)\u001B[0m\n\u001B[1;32m   2740\u001B[0m         \u001B[0mvalues\u001B[0m \u001B[0;34m=\u001B[0m \u001B[0mDatetimeArray\u001B[0m\u001B[0;34m.\u001B[0m\u001B[0m_simple_new\u001B[0m\u001B[0;34m(\u001B[0m\u001B[0mvalues\u001B[0m\u001B[0;34m,\u001B[0m \u001B[0mdtype\u001B[0m\u001B[0;34m=\u001B[0m\u001B[0mdtype\u001B[0m\u001B[0;34m)\u001B[0m\u001B[0;34m\u001B[0m\u001B[0;34m\u001B[0m\u001B[0m\n\u001B[1;32m   2741\u001B[0m \u001B[0;34m\u001B[0m\u001B[0m\n\u001B[0;32m-> 2742\u001B[0;31m     \u001B[0;32mreturn\u001B[0m \u001B[0mklass\u001B[0m\u001B[0;34m(\u001B[0m\u001B[0mvalues\u001B[0m\u001B[0;34m,\u001B[0m \u001B[0mndim\u001B[0m\u001B[0;34m=\u001B[0m\u001B[0mndim\u001B[0m\u001B[0;34m,\u001B[0m \u001B[0mplacement\u001B[0m\u001B[0;34m=\u001B[0m\u001B[0mplacement\u001B[0m\u001B[0;34m)\u001B[0m\u001B[0;34m\u001B[0m\u001B[0;34m\u001B[0m\u001B[0m\n\u001B[0m\u001B[1;32m   2743\u001B[0m \u001B[0;34m\u001B[0m\u001B[0m\n\u001B[1;32m   2744\u001B[0m \u001B[0;34m\u001B[0m\u001B[0m\n",
      "\u001B[0;32m~/anaconda3/envs/GOOGLE_PLAY/lib/python3.8/site-packages/pandas/core/internals/blocks.py\u001B[0m in \u001B[0;36m__init__\u001B[0;34m(self, values, placement, ndim)\u001B[0m\n\u001B[1;32m    139\u001B[0m         \u001B[0mself\u001B[0m\u001B[0;34m.\u001B[0m\u001B[0mvalues\u001B[0m \u001B[0;34m=\u001B[0m \u001B[0mself\u001B[0m\u001B[0;34m.\u001B[0m\u001B[0m_maybe_coerce_values\u001B[0m\u001B[0;34m(\u001B[0m\u001B[0mvalues\u001B[0m\u001B[0;34m)\u001B[0m\u001B[0;34m\u001B[0m\u001B[0;34m\u001B[0m\u001B[0m\n\u001B[1;32m    140\u001B[0m \u001B[0;34m\u001B[0m\u001B[0m\n\u001B[0;32m--> 141\u001B[0;31m         \u001B[0;32mif\u001B[0m \u001B[0mself\u001B[0m\u001B[0;34m.\u001B[0m\u001B[0m_validate_ndim\u001B[0m \u001B[0;32mand\u001B[0m \u001B[0mself\u001B[0m\u001B[0;34m.\u001B[0m\u001B[0mndim\u001B[0m \u001B[0;32mand\u001B[0m \u001B[0mlen\u001B[0m\u001B[0;34m(\u001B[0m\u001B[0mself\u001B[0m\u001B[0;34m.\u001B[0m\u001B[0mmgr_locs\u001B[0m\u001B[0;34m)\u001B[0m \u001B[0;34m!=\u001B[0m \u001B[0mlen\u001B[0m\u001B[0;34m(\u001B[0m\u001B[0mself\u001B[0m\u001B[0;34m.\u001B[0m\u001B[0mvalues\u001B[0m\u001B[0;34m)\u001B[0m\u001B[0;34m:\u001B[0m\u001B[0;34m\u001B[0m\u001B[0;34m\u001B[0m\u001B[0m\n\u001B[0m\u001B[1;32m    142\u001B[0m             raise ValueError(\n\u001B[1;32m    143\u001B[0m                 \u001B[0;34mf\"Wrong number of items passed {len(self.values)}, \"\u001B[0m\u001B[0;34m\u001B[0m\u001B[0;34m\u001B[0m\u001B[0m\n",
      "\u001B[0;32m~/anaconda3/envs/GOOGLE_PLAY/lib/python3.8/site-packages/pandas/core/internals/blocks.py\u001B[0m in \u001B[0;36mmgr_locs\u001B[0;34m(self)\u001B[0m\n\u001B[1;32m    263\u001B[0m         \u001B[0;32mreturn\u001B[0m \u001B[0mnp\u001B[0m\u001B[0;34m.\u001B[0m\u001B[0mnan\u001B[0m\u001B[0;34m\u001B[0m\u001B[0;34m\u001B[0m\u001B[0m\n\u001B[1;32m    264\u001B[0m \u001B[0;34m\u001B[0m\u001B[0m\n\u001B[0;32m--> 265\u001B[0;31m     \u001B[0;34m@\u001B[0m\u001B[0mproperty\u001B[0m\u001B[0;34m\u001B[0m\u001B[0;34m\u001B[0m\u001B[0m\n\u001B[0m\u001B[1;32m    266\u001B[0m     \u001B[0;32mdef\u001B[0m \u001B[0mmgr_locs\u001B[0m\u001B[0;34m(\u001B[0m\u001B[0mself\u001B[0m\u001B[0;34m)\u001B[0m\u001B[0;34m:\u001B[0m\u001B[0;34m\u001B[0m\u001B[0;34m\u001B[0m\u001B[0m\n\u001B[1;32m    267\u001B[0m         \u001B[0;32mreturn\u001B[0m \u001B[0mself\u001B[0m\u001B[0;34m.\u001B[0m\u001B[0m_mgr_locs\u001B[0m\u001B[0;34m\u001B[0m\u001B[0;34m\u001B[0m\u001B[0m\n",
      "\u001B[0;31mKeyboardInterrupt\u001B[0m: "
     ]
    }
   ],
   "source": [
    "%run -i 'STEP8_sub_samples_essay2_essay3.py'\n",
    "d1 = divide_essay_2_3(\n",
    "            initial_panel=initial_panel,\n",
    "            all_panels=all_panels\n",
    "        ).open_imputed_and_deleted_missing_df(\n",
    "            name='imputed_and_deleted_missing'\n",
    "        ).create_star_developer_var(\n",
    "        )"
   ],
   "metadata": {
    "collapsed": false,
    "pycharm": {
     "name": "#%%\n"
    }
   }
  },
  {
   "cell_type": "code",
   "execution_count": 28,
   "outputs": [
    {
     "name": "stderr",
     "output_type": "stream",
     "text": [
      "/home/naixin/anaconda3/envs/GOOGLE_PLAY/lib/python3.8/site-packages/pandas/core/indexing.py:1637: SettingWithCopyWarning: \n",
      "A value is trying to be set on a copy of a slice from a DataFrame\n",
      "\n",
      "See the caveats in the documentation: https://pandas.pydata.org/pandas-docs/stable/user_guide/indexing.html#returning-a-view-versus-a-copy\n",
      "  self._setitem_single_block(indexer, value, name)\n"
     ]
    },
    {
     "name": "stdout",
     "output_type": "stream",
     "text": [
      "Tier 1 number of apps :  1798\n",
      "Top firms number of apps :  447\n",
      "Tier 1 and Top firms (overlap) :  268\n",
      "201907  : market leaders apps\n",
      "Leaders\n",
      "0    7341\n",
      "1    1977\n",
      "dtype: int64\n",
      "201907  : non-market leaders apps\n",
      "Non-leaders\n",
      "0    1977\n",
      "1    7341\n",
      "dtype: int64\n",
      "\n",
      "49 ['ART_AND_DESIGN', 'COMICS', 'PERSONALIZATION', 'PHOTOGRAPHY', 'AUTO_AND_VEHICLES', 'GAME_ROLE_PLAYING', 'GAME_ACTION', 'GAME_RACING', 'TRAVEL_AND_LOCAL', 'GAME_ADVENTURE', 'SOCIAL', 'GAME_SIMULATION', 'LIFESTYLE', 'EDUCATION', 'BEAUTY', 'GAME_CASUAL', 'BOOKS_AND_REFERENCE', 'BUSINESS', 'FINANCE', 'GAME_STRATEGY', 'SPORTS', 'COMMUNICATION', 'DATING', 'ENTERTAINMENT', 'GAME_BOARD', 'EVENTS', 'SHOPPING', 'FOOD_AND_DRINK', 'HEALTH_AND_FITNESS', 'HOUSE_AND_HOME', 'TOOLS', 'LIBRARIES_AND_DEMO', 'MAPS_AND_NAVIGATION', 'MEDICAL', 'MUSIC_AND_AUDIO', 'NEWS_AND_MAGAZINES', 'PARENTING', 'GAME_PUZZLE', 'VIDEO_PLAYERS', 'PRODUCTIVITY', 'WEATHER', 'GAME_ARCADE', 'GAME_CASINO', 'GAME_CARD', 'GAME_EDUCATIONAL', 'GAME_MUSIC', 'GAME_SPORTS', 'GAME_TRIVIA', 'GAME_WORD']\n",
      "ImputedgenreId_Mode\n",
      "EDUCATION              275\n",
      "GAME_PUZZLE            271\n",
      "PERSONALIZATION        271\n",
      "GAME_ROLE_PLAYING      259\n",
      "GAME_SIMULATION        252\n",
      "HEALTH_AND_FITNESS     250\n",
      "BUSINESS               250\n",
      "FINANCE                250\n",
      "MEDICAL                245\n",
      "GAME_EDUCATIONAL       243\n",
      "SPORTS                 237\n",
      "GAME_CASUAL            237\n",
      "GAME_CARD              230\n",
      "GAME_ARCADE            228\n",
      "GAME_STRATEGY          228\n",
      "PRODUCTIVITY           222\n",
      "MAPS_AND_NAVIGATION    222\n",
      "MUSIC_AND_AUDIO        221\n",
      "ENTERTAINMENT          221\n",
      "TOOLS                  220\n",
      "GAME_ADVENTURE         220\n",
      "BOOKS_AND_REFERENCE    214\n",
      "TRAVEL_AND_LOCAL       213\n",
      "COMMUNICATION          211\n",
      "LIFESTYLE              209\n",
      "GAME_SPORTS            209\n",
      "GAME_BOARD             207\n",
      "FOOD_AND_DRINK         206\n",
      "WEATHER                205\n",
      "PHOTOGRAPHY            204\n",
      "VIDEO_PLAYERS          188\n",
      "GAME_RACING            183\n",
      "AUTO_AND_VEHICLES      171\n",
      "ART_AND_DESIGN         168\n",
      "GAME_WORD              164\n",
      "NEWS_AND_MAGAZINES     163\n",
      "SOCIAL                 143\n",
      "SHOPPING               138\n",
      "PARENTING              129\n",
      "GAME_TRIVIA            126\n",
      "GAME_MUSIC             117\n",
      "GAME_CASINO            117\n",
      "HOUSE_AND_HOME         116\n",
      "DATING                 105\n",
      "LIBRARIES_AND_DEMO      92\n",
      "EVENTS                  82\n",
      "COMICS                  82\n",
      "BEAUTY                  81\n",
      "GAME_ACTION             23\n",
      "dtype: int64  total  9318\n",
      "\n",
      "category_GAME\n",
      "0    6004\n",
      "1    3314\n",
      "dtype: int64  total  9318\n",
      "\n",
      "32 ['ART_AND_DESIGN', 'COMICS', 'PERSONALIZATION', 'PHOTOGRAPHY', 'AUTO_AND_VEHICLES', 'TRAVEL_AND_LOCAL', 'SOCIAL', 'LIFESTYLE', 'EDUCATION', 'BEAUTY', 'BOOKS_AND_REFERENCE', 'BUSINESS', 'FINANCE', 'SPORTS', 'COMMUNICATION', 'DATING', 'ENTERTAINMENT', 'EVENTS', 'SHOPPING', 'FOOD_AND_DRINK', 'HEALTH_AND_FITNESS', 'HOUSE_AND_HOME', 'TOOLS', 'LIBRARIES_AND_DEMO', 'MAPS_AND_NAVIGATION', 'MEDICAL', 'MUSIC_AND_AUDIO', 'NEWS_AND_MAGAZINES', 'PARENTING', 'VIDEO_PLAYERS', 'PRODUCTIVITY', 'WEATHER']\n",
      "ImputedgenreId_Mode\n",
      "EDUCATION              275\n",
      "PERSONALIZATION        271\n",
      "FINANCE                250\n",
      "HEALTH_AND_FITNESS     250\n",
      "BUSINESS               250\n",
      "MEDICAL                245\n",
      "SPORTS                 237\n",
      "MAPS_AND_NAVIGATION    222\n",
      "PRODUCTIVITY           222\n",
      "ENTERTAINMENT          221\n",
      "MUSIC_AND_AUDIO        221\n",
      "TOOLS                  220\n",
      "BOOKS_AND_REFERENCE    214\n",
      "TRAVEL_AND_LOCAL       213\n",
      "COMMUNICATION          211\n",
      "LIFESTYLE              209\n",
      "FOOD_AND_DRINK         206\n",
      "WEATHER                205\n",
      "PHOTOGRAPHY            204\n",
      "VIDEO_PLAYERS          188\n",
      "AUTO_AND_VEHICLES      171\n",
      "ART_AND_DESIGN         168\n",
      "NEWS_AND_MAGAZINES     163\n",
      "SOCIAL                 143\n",
      "SHOPPING               138\n",
      "PARENTING              129\n",
      "HOUSE_AND_HOME         116\n",
      "DATING                 105\n",
      "LIBRARIES_AND_DEMO      92\n",
      "EVENTS                  82\n",
      "COMICS                  82\n",
      "BEAUTY                  81\n",
      "dtype: int64  total  6004\n",
      "\n",
      "category_BUSINESS\n",
      "0    7632\n",
      "1    1686\n",
      "dtype: int64  total  9318\n",
      "\n",
      "24 ['ART_AND_DESIGN', 'COMICS', 'PERSONALIZATION', 'PHOTOGRAPHY', 'AUTO_AND_VEHICLES', 'TRAVEL_AND_LOCAL', 'SOCIAL', 'LIFESTYLE', 'BEAUTY', 'SPORTS', 'COMMUNICATION', 'DATING', 'ENTERTAINMENT', 'EVENTS', 'SHOPPING', 'FOOD_AND_DRINK', 'HEALTH_AND_FITNESS', 'HOUSE_AND_HOME', 'MAPS_AND_NAVIGATION', 'MEDICAL', 'MUSIC_AND_AUDIO', 'PARENTING', 'VIDEO_PLAYERS', 'WEATHER']\n",
      "ImputedgenreId_Mode\n",
      "PERSONALIZATION        271\n",
      "HEALTH_AND_FITNESS     250\n",
      "MEDICAL                245\n",
      "SPORTS                 237\n",
      "MAPS_AND_NAVIGATION    222\n",
      "ENTERTAINMENT          221\n",
      "MUSIC_AND_AUDIO        221\n",
      "TRAVEL_AND_LOCAL       213\n",
      "COMMUNICATION          211\n",
      "LIFESTYLE              209\n",
      "FOOD_AND_DRINK         206\n",
      "WEATHER                205\n",
      "PHOTOGRAPHY            204\n",
      "VIDEO_PLAYERS          188\n",
      "AUTO_AND_VEHICLES      171\n",
      "ART_AND_DESIGN         168\n",
      "SOCIAL                 143\n",
      "SHOPPING               138\n",
      "PARENTING              129\n",
      "HOUSE_AND_HOME         116\n",
      "DATING                 105\n",
      "EVENTS                  82\n",
      "COMICS                  82\n",
      "BEAUTY                  81\n",
      "dtype: int64  total  4318\n",
      "\n",
      "category_SOCIAL\n",
      "0    7835\n",
      "1    1483\n",
      "dtype: int64  total  9318\n",
      "\n",
      "15 ['ART_AND_DESIGN', 'COMICS', 'PERSONALIZATION', 'PHOTOGRAPHY', 'TRAVEL_AND_LOCAL', 'LIFESTYLE', 'BEAUTY', 'SPORTS', 'ENTERTAINMENT', 'HEALTH_AND_FITNESS', 'HOUSE_AND_HOME', 'MEDICAL', 'MUSIC_AND_AUDIO', 'PARENTING', 'VIDEO_PLAYERS']\n",
      "ImputedgenreId_Mode\n",
      "PERSONALIZATION       271\n",
      "HEALTH_AND_FITNESS    250\n",
      "MEDICAL               245\n",
      "SPORTS                237\n",
      "ENTERTAINMENT         221\n",
      "MUSIC_AND_AUDIO       221\n",
      "TRAVEL_AND_LOCAL      213\n",
      "LIFESTYLE             209\n",
      "PHOTOGRAPHY           204\n",
      "VIDEO_PLAYERS         188\n",
      "ART_AND_DESIGN        168\n",
      "PARENTING             129\n",
      "HOUSE_AND_HOME        116\n",
      "COMICS                 82\n",
      "BEAUTY                 81\n",
      "dtype: int64  total  2835\n",
      "\n",
      "category_LIFESTYLE\n",
      "0    6978\n",
      "1    2340\n",
      "dtype: int64  total  9318\n",
      "\n",
      "2 ['HEALTH_AND_FITNESS', 'MEDICAL']\n",
      "ImputedgenreId_Mode\n",
      "HEALTH_AND_FITNESS    250\n",
      "MEDICAL               245\n",
      "dtype: int64  total  495\n",
      "\n",
      "category_MEDICAL\n",
      "0    8823\n",
      "1     495\n",
      "dtype: int64  total  9318\n",
      "\n",
      "0 []\n",
      "Series([], dtype: int64)  total  0\n",
      "\n"
     ]
    }
   ],
   "source": [
    "%run -i 'STEP8_sub_samples_essay2_essay3.py'\n",
    "d1 = divide_essay_2_3(\n",
    "            initial_panel=initial_panel,\n",
    "            all_panels=all_panels\n",
    "        ).open_imputed_and_deleted_missing_df(\n",
    "            name='imputed_deleted_top_firm'\n",
    "        ).create_tier1_var(\n",
    "        ).create_leader_subsamples(\n",
    "        ).create_category_subsamples(\n",
    "        )"
   ],
   "metadata": {
    "collapsed": false,
    "pycharm": {
     "name": "#%%\n"
    }
   }
  },
  {
   "cell_type": "markdown",
   "source": [
    "# 2. NLP Pipeline"
   ],
   "metadata": {
    "collapsed": false,
    "pycharm": {
     "name": "#%% md\n"
    }
   }
  },
  {
   "cell_type": "code",
   "execution_count": 1,
   "outputs": [],
   "source": [
    "%run -i 'STEP9_NLP_pipeline_essay2_3.py'\n",
    "\n",
    "initial_panel='201907'\n",
    "all_panels = ['201907',\n",
    "              '201908',\n",
    "              '201909',\n",
    "              '201912',\n",
    "              '202001',\n",
    "              '202003',\n",
    "              '202004',\n",
    "              '202009',\n",
    "              '202010',\n",
    "              '202011',\n",
    "              '202012',\n",
    "              '202101',\n",
    "              '202102',\n",
    "              '202103',\n",
    "              '202104',\n",
    "              '202105']"
   ],
   "metadata": {
    "collapsed": false,
    "pycharm": {
     "name": "#%%\n"
    }
   }
  },
  {
   "cell_type": "markdown",
   "source": [
    "## 2.1 Find Optimal SVD Components"
   ],
   "metadata": {
    "collapsed": false
   }
  },
  {
   "cell_type": "code",
   "execution_count": null,
   "outputs": [],
   "source": [
    "%run -i 'STEP9_NLP_pipeline_essay2_3.py'\n",
    "\n",
    "# since this code takes too long, I will just run 201907 dataset here\n",
    "d1 = nlp_pipeline_essay_2_3(\n",
    "          tcn='description',\n",
    "          initial_panel=initial_panel,\n",
    "          all_panels=all_panels\n",
    "    ).open_divided_df(\n",
    "    ).generate_save_input_text_col(\n",
    "    ).tf_idf_transformation(\n",
    "    ).find_optimal_svd_component_plot()"
   ],
   "metadata": {
    "collapsed": false,
    "pycharm": {
     "name": "#%%\n"
    }
   }
  },
  {
   "cell_type": "markdown",
   "source": [
    "## 2.2 Find Optimal Number of Clusters (elbow method and silhouette score)"
   ],
   "metadata": {
    "collapsed": false
   }
  },
  {
   "cell_type": "code",
   "execution_count": null,
   "outputs": [],
   "source": [
    "%run -i 'STEP9_NLP_pipeline_essay2_3.py'\n",
    "\n",
    "# since this code takes too long, I will just run 201907 dataset here\n",
    "d1 = nlp_pipeline_essay_2_3(\n",
    "          tcn='description',\n",
    "          initial_panel=test_initial_panel,\n",
    "          all_panels=test_all_panels\n",
    "    ).open_divided_df(\n",
    "    ).generate_save_input_text_col(\n",
    "    ).tf_idf_transformation(\n",
    "    ).truncate_svd(\n",
    "        random_state=0\n",
    "    ).find_optimal_cluster_elbow(\n",
    "    ).find_optimal_cluster_silhouette()"
   ],
   "metadata": {
    "collapsed": false,
    "pycharm": {
     "name": "#%%\n"
    }
   }
  },
  {
   "cell_type": "markdown",
   "source": [
    "## 2.3 Predict Text Labels"
   ],
   "metadata": {
    "collapsed": false
   }
  },
  {
   "cell_type": "code",
   "execution_count": null,
   "outputs": [],
   "source": [
    "%run -i 'STEP9_NLP_pipeline_essay2_3.py'\n",
    "\n",
    "# since this code takes too long, I will just run 201907 dataset here\n",
    "d1 = nlp_pipeline_essay_2_3(\n",
    "          tcn='description',\n",
    "          initial_panel=test_initial_panel,\n",
    "          all_panels=test_all_panels\n",
    "    ).open_divided_df(\n",
    "    ).generate_save_input_text_col(\n",
    "    ).tf_idf_transformation(\n",
    "    ).truncate_svd(\n",
    "        random_state=0\n",
    "    ).kmeans_cluster(\n",
    "       init='k-means++',\n",
    "       random_state=0)\n",
    "\n",
    "\n"
   ],
   "metadata": {
    "collapsed": false,
    "pycharm": {
     "name": "#%%\n"
    }
   }
  }
 ],
 "metadata": {
  "kernelspec": {
   "display_name": "Python 3",
   "language": "python",
   "name": "python3"
  },
  "language_info": {
   "codemirror_mode": {
    "name": "ipython",
    "version": 2
   },
   "file_extension": ".py",
   "mimetype": "text/x-python",
   "name": "python",
   "nbconvert_exporter": "python",
   "pygments_lexer": "ipython2",
   "version": "2.7.6"
  },
  "pycharm": {
   "stem_cell": {
    "cell_type": "raw",
    "source": [
     "\n"
    ],
    "metadata": {
     "collapsed": false
    }
   }
  }
 },
 "nbformat": 4,
 "nbformat_minor": 0
}