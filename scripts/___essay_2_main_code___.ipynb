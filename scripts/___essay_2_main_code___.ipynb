{
 "cells": [
  {
   "cell_type": "markdown",
   "metadata": {
    "collapsed": true,
    "pycharm": {
     "name": "#%% md\n"
    }
   },
   "source": [
    "# 1  Define Market Leaders / Non-leaders"
   ]
  },
  {
   "cell_type": "code",
   "execution_count": null,
   "outputs": [],
   "source": [
    "%run -i 'STEP10_ESSAY_2_3_Long_Table_Prep.py'\n",
    "\n",
    "initial_panel='201907'\n",
    "all_panels = ['201907',\n",
    "              '201908',\n",
    "              '201909',\n",
    "              '201912',\n",
    "              '202001',\n",
    "              '202003',\n",
    "              '202004',\n",
    "              '202009',\n",
    "              '202010',\n",
    "              '202011',\n",
    "              '202012',\n",
    "              '202101',\n",
    "              '202102',\n",
    "              '202103',\n",
    "              '202104',\n",
    "              '202105',\n",
    "              '202106']"
   ],
   "metadata": {
    "collapsed": false,
    "pycharm": {
     "name": "#%%\n"
    }
   }
  },
  {
   "cell_type": "code",
   "execution_count": null,
   "outputs": [],
   "source": [
    "# Set some basics, create regression dummies, save dataframe\n",
    "\n",
    "%run -i 'STEP10_ESSAY_2_3_Long_Table_Prep.py'\n",
    "\n",
    "d1 = reg_preparation_essay_2_3(\n",
    "         initial_panel=initial_panel,\n",
    "         all_panels=all_panels,\n",
    "         tcn = 'description'\n",
    "    ).combine_text_labels_with_df(\n",
    "    ).create_subsample_name_dict(\n",
    "    ).check_text_label_contents(\n",
    "    ).create_NicheDummy(\n",
    "    ).create_post_dummy_and_interactions(\n",
    "    ).count_number_of_days_since_released(\n",
    "    ).create_paid_dummies(\n",
    "    ).create_generic_true_false_dummies(\n",
    "        cat_var='offersIAP'\n",
    "    ).create_generic_true_false_dummies(\n",
    "        cat_var='containsAds'\n",
    "    ).impute_missingSize_as_zero(\n",
    "    ).save_cross_section_reg_df()"
   ],
   "metadata": {
    "collapsed": false,
    "pycharm": {
     "name": "#%%\n"
    }
   }
  },
  {
   "cell_type": "code",
   "execution_count": null,
   "outputs": [],
   "source": [
    "# graph text cluster size bar charts\n",
    "%run -i 'STEP10_ESSAY_2_3_Long_Table_Prep.py'\n",
    "\n",
    "d2 = d1.create_subsample_name_dict(\n",
    "    ).text_cluster_bar_graph_old(\n",
    "    ).text_cluster_bar_graph_new()\n"
   ],
   "metadata": {
    "collapsed": false,
    "pycharm": {
     "name": "#%%\n"
    }
   }
  },
  {
   "cell_type": "code",
   "execution_count": null,
   "outputs": [],
   "source": [
    "# overall count by leaders and non-leaders sub-groups\n",
    "%run -i 'STEP10_ESSAY_2_3_Long_Table_Prep.py'\n",
    "d5 = reg_preparation_essay_2_3(\n",
    "         initial_panel=initial_panel,\n",
    "         all_panels=all_panels,\n",
    "         tcn = 'description'\n",
    "    ).create_subsample_name_dict(\n",
    "    ).open_cross_section_reg_df(\n",
    "        )\n",
    "d6 = d5.niche_by_subsamples_bar_graph()"
   ],
   "metadata": {
    "collapsed": false,
    "pycharm": {
     "name": "#%%\n"
    }
   }
  },
  {
   "cell_type": "code",
   "execution_count": null,
   "outputs": [],
   "source": [
    "# graph log minInstalls VS text cluster size\n",
    "%run -i 'STEP10_ESSAY_2_3_Long_Table_Prep.py'\n",
    "d5 = reg_preparation_essay_2_3(\n",
    "         initial_panel=initial_panel,\n",
    "         all_panels=all_panels,\n",
    "         tcn = 'description'\n",
    "    ).open_cross_section_reg_df(\n",
    "        ).strip_violin_LogminInstalls_text_cluster_categorical_plot(\n",
    "    key_vars=['Imputedprice',\n",
    "              'ImputedminInstalls',\n",
    "              'offersIAPTrue',\n",
    "              'containsAdsTrue',\n",
    "              'paidTrue'],\n",
    "    the_panel='202106')"
   ],
   "metadata": {
    "collapsed": false,
    "pycharm": {
     "name": "#%%\n"
    }
   }
  },
  {
   "cell_type": "code",
   "execution_count": null,
   "outputs": [],
   "source": [
    "# graph log price VS text cluster size\n",
    "%run -i 'STEP10_ESSAY_2_3_Long_Table_Prep.py'\n",
    "d5 = reg_preparation_essay_2_3(\n",
    "         initial_panel=initial_panel,\n",
    "         all_panels=all_panels,\n",
    "         tcn = 'description'\n",
    "    ).open_cross_section_reg_df(\n",
    "        ).strip_violin_log_price_text_cluster_categorical_plot(\n",
    "    key_vars=['Imputedprice',\n",
    "              'ImputedminInstalls',\n",
    "              'offersIAPTrue',\n",
    "              'containsAdsTrue',\n",
    "              'paidTrue'],\n",
    "    the_panel='202106')"
   ],
   "metadata": {
    "collapsed": false,
    "pycharm": {
     "name": "#%%\n"
    }
   }
  },
  {
   "cell_type": "code",
   "execution_count": null,
   "outputs": [],
   "source": [
    "# graph percentage stacked bar VS text cluster size\n",
    "%run -i 'STEP10_ESSAY_2_3_Long_Table_Prep.py'\n",
    "d5 = reg_preparation_essay_2_3(\n",
    "         initial_panel=initial_panel,\n",
    "         all_panels=all_panels,\n",
    "         tcn = 'description'\n",
    "    ).open_cross_section_reg_df(\n",
    "    ).stacked_percentage_bar_graph_groupby_text_cluster(\n",
    "    key_vars=['Imputedprice',\n",
    "              'ImputedminInstalls',\n",
    "              'offersIAPTrue',\n",
    "              'containsAdsTrue',\n",
    "              'paidTrue'],\n",
    "    the_panel='202106',\n",
    "    var='offersIAPTrue'\n",
    "    ).stacked_percentage_bar_graph_groupby_text_cluster(\n",
    "    key_vars=['Imputedprice',\n",
    "              'ImputedminInstalls',\n",
    "              'offersIAPTrue',\n",
    "              'containsAdsTrue',\n",
    "              'paidTrue'],\n",
    "    the_panel='202106',\n",
    "    var='containsAdsTrue')"
   ],
   "metadata": {
    "collapsed": false,
    "pycharm": {
     "name": "#%%\n"
    }
   }
  },
  {
   "cell_type": "code",
   "execution_count": null,
   "outputs": [],
   "source": [
    "# test put 4 subsamples descriptive stats graphs into a single graph\n",
    "%run -i 'STEP10_ESSAY_2_3_Long_Table_Prep.py'\n",
    "d4 = reg_preparation_essay_2_3(\n",
    "         initial_panel=initial_panel,\n",
    "         all_panels=all_panels,\n",
    "         tcn = 'description'\n",
    "    ).create_subsample_name_dict(\n",
    "    ).open_cross_section_reg_df(\n",
    "    ).put_4_dep_vars_graphs_into_single_graph(\n",
    "        key_vars=['Imputedprice',\n",
    "                  'ImputedminInstalls',\n",
    "                  'offersIAPTrue',\n",
    "                  'containsAdsTrue'],\n",
    "        the_panel='202106'\n",
    "    )"
   ],
   "metadata": {
    "collapsed": false,
    "pycharm": {
     "name": "#%%\n"
    }
   }
  },
  {
   "cell_type": "code",
   "execution_count": null,
   "outputs": [],
   "source": [
    "# test put 6 subsamples descriptive stats graphs into a single graph\n",
    "%run -i 'STEP10_ESSAY_2_3_Long_Table_Prep.py'\n",
    "d4 = reg_preparation_essay_2_3(\n",
    "         initial_panel=initial_panel,\n",
    "         all_panels=all_panels,\n",
    "         tcn = 'description'\n",
    "    ).create_subsample_name_dict(\n",
    "    ).open_cross_section_reg_df(\n",
    "    ).put_6_subsamples_dep_vars_in_1_graph(\n",
    "        key_vars=['Imputedprice',\n",
    "                  'ImputedminInstalls',\n",
    "                  'offersIAPTrue',\n",
    "                  'containsAdsTrue'],\n",
    "        the_panel='202106'\n",
    "    )"
   ],
   "metadata": {
    "collapsed": false,
    "pycharm": {
     "name": "#%%\n"
    }
   }
  },
  {
   "cell_type": "code",
   "execution_count": null,
   "outputs": [],
   "source": [
    "# graph parallel trends 1 graph\n",
    "# (group means CI bands for continuous vars and percentage true for dummies)\n",
    "%run -i 'STEP10_ESSAY_2_3_Long_Table_Prep.py'\n",
    "\n",
    "d1 = reg_preparation_essay_2_3(\n",
    "         initial_panel=initial_panel,\n",
    "         all_panels=all_panels,\n",
    "         tcn = 'description'\n",
    "    ).create_subsample_name_dict(\n",
    "    ).open_cross_section_reg_df(\n",
    "    ).graph_line_plot_parallel_trend(\n",
    "        var='containsAdsTrue'\n",
    "    ).graph_line_plot_parallel_trend(\n",
    "        var='offersIAPTrue'\n",
    "    ).graph_line_plot_parallel_trend(\n",
    "        var='Imputedprice'\n",
    "    )graph_line_plot_parallel_trend(\n",
    "        var='ImputedminInstalls'\n",
    "    )"
   ],
   "metadata": {
    "collapsed": false,
    "pycharm": {
     "name": "#%%\n"
    }
   }
  },
  {
   "cell_type": "code",
   "execution_count": null,
   "outputs": [],
   "source": [
    "# graph parallel trends 4 graphs\n",
    "# (group means CI bands for continuous vars and percentage true for dummies)\n",
    "%run -i 'STEP10_ESSAY_2_3_Long_Table_Prep.py'\n",
    "\n",
    "d1 = reg_preparation_essay_2_3(\n",
    "         initial_panel=initial_panel,\n",
    "         all_panels=all_panels,\n",
    "         tcn = 'description'\n",
    "    ).create_subsample_name_dict(\n",
    "    ).open_cross_section_reg_df(\n",
    "    ).put_4_parallel_trends_graphs_into_single_graph(\n",
    "    key_vars =   ['Imputedprice',\n",
    "                  'ImputedminInstalls',\n",
    "                  'offersIAPTrue',\n",
    "                  'containsAdsTrue'])"
   ],
   "metadata": {
    "collapsed": false,
    "pycharm": {
     "name": "#%%\n"
    }
   }
  },
  {
   "cell_type": "code",
   "execution_count": null,
   "outputs": [],
   "source": [
    "# graph parallel trends 6 graphs\n",
    "# (group means CI bands for continuous vars and percentage true for dummies)\n",
    "%run -i 'STEP10_ESSAY_2_3_Long_Table_Prep.py'\n",
    "\n",
    "d1 = reg_preparation_essay_2_3(\n",
    "         initial_panel=initial_panel,\n",
    "         all_panels=all_panels,\n",
    "         tcn = 'description'\n",
    "    ).create_subsample_name_dict(\n",
    "    ).open_cross_section_reg_df(\n",
    "    ).put_6_subsamples_parallel_trends_in_1_graph(\n",
    "    key_vars =   ['Imputedprice',\n",
    "                  'ImputedminInstalls',\n",
    "                  'offersIAPTrue',\n",
    "                  'containsAdsTrue'])\n"
   ],
   "metadata": {
    "collapsed": false,
    "pycharm": {
     "name": "#%%\n"
    }
   }
  }
 ],
 "metadata": {
  "kernelspec": {
   "name": "pycharm-219095c7",
   "language": "python",
   "display_name": "PyCharm (pythonProject)"
  },
  "language_info": {
   "codemirror_mode": {
    "name": "ipython",
    "version": 2
   },
   "file_extension": ".py",
   "mimetype": "text/x-python",
   "name": "python",
   "nbconvert_exporter": "python",
   "pygments_lexer": "ipython2",
   "version": "2.7.6"
  }
 },
 "nbformat": 4,
 "nbformat_minor": 0
}