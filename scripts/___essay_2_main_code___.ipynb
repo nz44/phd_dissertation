{
 "cells": [
  {
   "cell_type": "markdown",
   "metadata": {
    "collapsed": true,
    "pycharm": {
     "name": "#%% md\n"
    }
   },
   "source": [
    "# 1  Define Market Leaders / Non-leaders"
   ]
  },
  {
   "cell_type": "code",
   "execution_count": null,
   "outputs": [],
   "source": [
    "%run -i 'STEP10_ESSAY_2_3_Long_Table_Prep.py'\n",
    "\n",
    "initial_panel='201907'\n",
    "all_panels = ['201907',\n",
    "              '201908',\n",
    "              '201909',\n",
    "              '201912',\n",
    "              '202001',\n",
    "              '202003',\n",
    "              '202004',\n",
    "              '202009',\n",
    "              '202010',\n",
    "              '202011',\n",
    "              '202012',\n",
    "              '202101',\n",
    "              '202102',\n",
    "              '202103',\n",
    "              '202104',\n",
    "              '202105',\n",
    "              '202106']"
   ],
   "metadata": {
    "collapsed": false,
    "pycharm": {
     "name": "#%%\n"
    }
   }
  },
  {
   "cell_type": "code",
   "execution_count": null,
   "outputs": [],
   "source": [
    "# Set some basics, create regression dummies, save dataframe\n",
    "\n",
    "%run -i 'STEP10_ESSAY_2_3_Long_Table_Prep.py'\n",
    "\n",
    "d1 = reg_preparation_essay_2_3(\n",
    "         initial_panel=initial_panel,\n",
    "         all_panels=all_panels,\n",
    "         tcn = 'description'\n",
    "    ).combine_text_labels_with_df(\n",
    "    ).create_subsample_name_dict(\n",
    "    ).check_text_label_contents(\n",
    "    ).create_NicheDummy(\n",
    "    ).create_post_dummy_and_interactions(\n",
    "    ).count_number_of_days_since_released(\n",
    "    ).create_paid_dummies(\n",
    "    ).create_generic_true_false_dummies(\n",
    "        cat_var='offersIAP'\n",
    "    ).create_generic_true_false_dummies(\n",
    "        cat_var='containsAds'\n",
    "    ).impute_missingSize_as_zero(\n",
    "    ).save_cross_section_reg_df()"
   ],
   "metadata": {
    "collapsed": false,
    "pycharm": {
     "name": "#%%\n"
    }
   }
  },
  {
   "cell_type": "code",
   "execution_count": null,
   "outputs": [],
   "source": [
    "# test put 4 graphs into a single graph\n",
    "%run -i 'STEP10_ESSAY_2_3_Long_Table_Prep.py'\n",
    "d4 = reg_preparation_essay_2_3(\n",
    "         initial_panel=initial_panel,\n",
    "         all_panels=all_panels,\n",
    "         tcn = 'description'\n",
    "    ).create_subsample_name_dict(\n",
    "    ).open_cross_section_reg_df(\n",
    "    ).put_4_dep_vars_graphs_into_single_graph(\n",
    "        key_vars=['Imputedprice',\n",
    "                  'ImputedminInstalls',\n",
    "                  'offersIAPTrue',\n",
    "                  'containsAdsTrue'],\n",
    "        the_panel='202106'\n",
    "    )"
   ],
   "metadata": {
    "collapsed": false,
    "pycharm": {
     "name": "#%%\n"
    }
   }
  },
  {
   "cell_type": "code",
   "execution_count": null,
   "outputs": [],
   "source": [
    "# graph parallel trends\n",
    "%run -i 'STEP10_ESSAY_2_3_Long_Table_Prep.py'\n",
    "\n",
    "d1 = reg_preparation_essay_2_3(\n",
    "         initial_panel=initial_panel,\n",
    "         all_panels=all_panels,\n",
    "         tcn = 'description'\n",
    "    ).create_subsample_name_dict(\n",
    "    ).open_cross_section_reg_df(\n",
    "    ).graph_line_plot_parallel_trend(\n",
    "        var='Imputedprice'\n",
    "    ).graph_line_plot_parallel_trend(\n",
    "        var='ImputedminInstalls'\n",
    "    ).graph_line_plot_parallel_trend(\n",
    "        var='offersIAPTrue'\n",
    "    ).graph_line_plot_parallel_trend(\n",
    "        var='containsAdsTrue')\n"
   ],
   "metadata": {
    "collapsed": false,
    "pycharm": {
     "name": "#%%\n"
    }
   }
  }
 ],
 "metadata": {
  "kernelspec": {
   "display_name": "Python 3",
   "language": "python",
   "name": "python3"
  },
  "language_info": {
   "codemirror_mode": {
    "name": "ipython",
    "version": 2
   },
   "file_extension": ".py",
   "mimetype": "text/x-python",
   "name": "python",
   "nbconvert_exporter": "python",
   "pygments_lexer": "ipython2",
   "version": "2.7.6"
  }
 },
 "nbformat": 4,
 "nbformat_minor": 0
}